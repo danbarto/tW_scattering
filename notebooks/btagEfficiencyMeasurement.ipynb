{
 "cells": [
  {
   "cell_type": "code",
   "execution_count": 1,
   "metadata": {},
   "outputs": [],
   "source": [
    "%load_ext autoreload\n",
    "%autoreload 2"
   ]
  },
  {
   "cell_type": "code",
   "execution_count": 2,
   "metadata": {},
   "outputs": [],
   "source": [
    "import awkward as ak\n",
    "\n",
    "from coffea import processor, hist\n",
    "from coffea.nanoevents import NanoEventsFactory, NanoAODSchema\n",
    "from coffea.analysis_tools import Weights\n",
    "\n",
    "import numpy as np\n",
    "\n",
    "from yahist import Hist1D, Hist2D\n"
   ]
  },
  {
   "cell_type": "code",
   "execution_count": 3,
   "metadata": {},
   "outputs": [],
   "source": [
    "from Tools.objects import *\n",
    "from Tools.basic_objects import *\n",
    "from Tools.cutflow import *\n",
    "from Tools.config_helpers import *\n",
    "from Tools.triggers import *\n",
    "from Tools.helpers import finalizePlotDir"
   ]
  },
  {
   "cell_type": "code",
   "execution_count": 4,
   "metadata": {},
   "outputs": [],
   "source": [
    "class btagAnalyzer(processor.ProcessorABC):\n",
    "    def __init__(self, year):\n",
    "                # we can use a large number of bins and rebin later\n",
    "        self.year = year    \n",
    "        \n",
    "        dataset_axis        = hist.Cat(\"dataset\",   \"Primary dataset\")\n",
    "        pt_axis             = hist.Bin(\"pt\",        r\"$p_{T}$ (GeV)\", 100, 0, 1000)\n",
    "        eta_axis            = hist.Bin(\"eta\",       r\"$\\eta$\", 10, -2.5, 2.5)\n",
    "\n",
    "        self._accumulator = processor.dict_accumulator({\n",
    "            \n",
    "            \"b_all\" :             hist.Hist(\"Counts\", pt_axis, eta_axis),\n",
    "            \"b_pass_deepJet\" :    hist.Hist(\"Counts\", pt_axis, eta_axis),\n",
    "            \"b_pass_deepCSV\" :    hist.Hist(\"Counts\", pt_axis, eta_axis),\n",
    "            \"c_all\" :             hist.Hist(\"Counts\", pt_axis, eta_axis),\n",
    "            \"c_pass_deepJet\" :    hist.Hist(\"Counts\", pt_axis, eta_axis),\n",
    "            \"c_pass_deepCSV\" :    hist.Hist(\"Counts\", pt_axis, eta_axis),\n",
    "            \"light_all\":          hist.Hist(\"Counts\", pt_axis, eta_axis),\n",
    "            \"light_pass_deepJet\": hist.Hist(\"Counts\", pt_axis, eta_axis),\n",
    "            \"light_pass_deepCSV\": hist.Hist(\"Counts\", pt_axis, eta_axis),\n",
    "            \n",
    "            'skimmedEvents':    processor.defaultdict_accumulator(int),\n",
    "            'totalEvents':      processor.defaultdict_accumulator(int),\n",
    "        })\n",
    "\n",
    "    @property\n",
    "    def accumulator(self):\n",
    "        return self._accumulator\n",
    "\n",
    "    # we will receive a NanoEvents instead of a coffea DataFrame\n",
    "    def process(self, events):\n",
    "        \n",
    "        output = self.accumulator.identity()\n",
    "        \n",
    "        presel = ak.num(events.Jet)>2\n",
    "        \n",
    "        ev = events[presel]\n",
    "        dataset = ev.metadata['dataset']\n",
    "        \n",
    "        output['totalEvents']['all'] += len(events)\n",
    "        output['skimmedEvents']['all'] += len(ev)\n",
    "        \n",
    "        ## Muons\n",
    "        muon     = Collections(ev, \"Muon\", \"tightTTH\").get()\n",
    "        vetomuon = Collections(ev, \"Muon\", \"vetoTTH\").get()\n",
    "        dimuon   = choose(muon, 2)\n",
    "\n",
    "        ## Electrons\n",
    "        electron     = Collections(ev, \"Electron\", \"tightTTH\").get()\n",
    "        vetoelectron = Collections(ev, \"Electron\", \"vetoTTH\").get()\n",
    "        dielectron   = choose(electron, 2)\n",
    "\n",
    "        ## Merge electrons and muons - this should work better now in ak1\n",
    "        lepton   = ak.concatenate([muon, electron], axis=1)\n",
    "        dilepton = cross(muon, electron)\n",
    "        \n",
    "        ## Jets\n",
    "        jet       = getJets(ev, minPt=25, maxEta=2.5)\n",
    "        jet       = jet[(jet.pt>25) & (jet.jetId>1)]\n",
    "        jet       = jet[~match(jet, muon, deltaRCut=0.4)] # remove jets that overlap with muons\n",
    "        jet       = jet[~match(jet, electron, deltaRCut=0.4)] # remove jets that overlap with electrons\n",
    "        \n",
    "        ## true bottoms\n",
    "        bottom = jet[abs(jet.hadronFlavour)==5]\n",
    "        bottom_deepJet = getBTagsDeepFlavB(bottom, year=self.year)\n",
    "        bottom_deepCSV = getBTagsDeepB(bottom, year=self.year)\n",
    "        \n",
    "        ## true charms\n",
    "        charm = jet[abs(jet.hadronFlavour)==4]\n",
    "        charm_deepJet = getBTagsDeepFlavB(charm, year=self.year)\n",
    "        charm_deepCSV = getBTagsDeepB(charm, year=self.year)\n",
    "        \n",
    "        ## true lights\n",
    "        light = jet[((abs(jet.hadronFlavour)<4) | (abs(jet.hadronFlavour)>5))]\n",
    "        light_deepJet = getBTagsDeepFlavB(light, year=self.year)\n",
    "        light_deepCSV = getBTagsDeepB(light, year=self.year)\n",
    "        \n",
    "        ## event selectors\n",
    "        filters   = getFilters(ev, year=self.year, dataset=dataset)\n",
    "        \n",
    "        dilep     = ((ak.num(electron) + ak.num(muon))==2)\n",
    "        lepveto   = ((ak.num(vetoelectron) + ak.num(vetomuon))==2)\n",
    "        \n",
    "        selection = (filters & dilep & lepveto)\n",
    "        \n",
    "        # first, make a few super inclusive plots\n",
    "        output['b_all'].fill(pt=ak.flatten(bottom.pt), eta=ak.flatten(bottom.eta))\n",
    "        output['b_pass_deepJet'].fill(pt=ak.flatten(bottom_deepJet.pt), eta=ak.flatten(bottom_deepJet.eta))\n",
    "        output['b_pass_deepCSV'].fill(pt=ak.flatten(bottom_deepCSV.pt), eta=ak.flatten(bottom_deepCSV.eta))\n",
    "        \n",
    "        output['c_all'].fill(pt=ak.flatten(charm.pt), eta=ak.flatten(charm.eta))\n",
    "        output['c_pass_deepJet'].fill(pt=ak.flatten(charm_deepJet.pt), eta=ak.flatten(charm_deepJet.eta))\n",
    "        output['c_pass_deepCSV'].fill(pt=ak.flatten(charm_deepCSV.pt), eta=ak.flatten(charm_deepCSV.eta))\n",
    "        \n",
    "        output['light_all'].fill(pt=ak.flatten(light.pt), eta=ak.flatten(light.eta))\n",
    "        output['light_pass_deepJet'].fill(pt=ak.flatten(light_deepJet.pt), eta=ak.flatten(light_deepJet.eta))\n",
    "        output['light_pass_deepCSV'].fill(pt=ak.flatten(light_deepCSV.pt), eta=ak.flatten(light_deepCSV.eta))\n",
    "        \n",
    "        return output\n",
    "\n",
    "    def postprocess(self, accumulator):\n",
    "        return accumulator"
   ]
  },
  {
   "cell_type": "code",
   "execution_count": 7,
   "metadata": {},
   "outputs": [],
   "source": [
    "# load the basic filesets and choose what samples we actually want to load\n",
    "\n",
    "from Tools.helpers import get_samples\n",
    "from Tools.config_helpers import redirector_ucsd, redirector_fnal\n",
    "from Tools.nano_mapping import make_fileset, nano_mapping\n",
    "\n",
    "import os\n",
    "cfg = loadConfig()\n",
    "\n",
    "plot_dir = os.path.expandvars(cfg['meta']['plots'])+'/btagging/'\n",
    "finalizePlotDir(plot_dir)\n",
    "\n",
    "from processor.meta_processor import get_sample_meta\n",
    "\n",
    "year = '2016APV'\n",
    "campaign = 'Summer20UL16APV'\n",
    "\n",
    "fileset_all = make_fileset(['top'], get_samples('samples_UL16APV.yaml'), year='UL2016APV')"
   ]
  },
  {
   "cell_type": "code",
   "execution_count": 8,
   "metadata": {},
   "outputs": [
    {
     "data": {
      "text/plain": [
       "dict_keys(['/TTTo2L2Nu_TuneCP5_13TeV-powheg-pythia8/RunIISummer20UL16NanoAODAPVv2-106X_mcRun2_asymptotic_preVFP_v9-v1/NANOAODSIM'])"
      ]
     },
     "execution_count": 8,
     "metadata": {},
     "output_type": "execute_result"
    }
   ],
   "source": [
    "fileset_all.keys()"
   ]
  },
  {
   "cell_type": "code",
   "execution_count": 9,
   "metadata": {},
   "outputs": [
    {
     "data": {
      "text/plain": [
       "{'top': ['root://xcache-redirector.t2.ucsd.edu:2042//store/mc/RunIISummer20UL16NanoAODAPVv2/TTTo2L2Nu_TuneCP5_13TeV-powheg-pythia8/NANOAODSIM/106X_mcRun2_asymptotic_preVFP_v9-v1/10000/04798F8C-5C5B-9148-A9F1-2F67E7073D63.root',\n",
       "  'root://xcache-redirector.t2.ucsd.edu:2042//store/mc/RunIISummer20UL16NanoAODAPVv2/TTTo2L2Nu_TuneCP5_13TeV-powheg-pythia8/NANOAODSIM/106X_mcRun2_asymptotic_preVFP_v9-v1/10000/0B22D2DA-71FB-1B46-82C0-3F34996F2F2C.root',\n",
       "  'root://xcache-redirector.t2.ucsd.edu:2042//store/mc/RunIISummer20UL16NanoAODAPVv2/TTTo2L2Nu_TuneCP5_13TeV-powheg-pythia8/NANOAODSIM/106X_mcRun2_asymptotic_preVFP_v9-v1/10000/85837428-F370-694C-81F8-AA2D2B44901F.root']}"
      ]
     },
     "execution_count": 9,
     "metadata": {},
     "output_type": "execute_result"
    }
   ],
   "source": [
    "fileset = {\n",
    "    'top': fileset_all[list(fileset_all.keys())[0]][:3],\n",
    "}\n",
    "fileset"
   ]
  },
  {
   "cell_type": "code",
   "execution_count": 10,
   "metadata": {
    "scrolled": false
   },
   "outputs": [
    {
     "data": {
      "application/vnd.jupyter.widget-view+json": {
       "model_id": "0bfbecf04861448ab557bb9814fc907d",
       "version_major": 2,
       "version_minor": 0
      },
      "text/plain": [
       "Preprocessing:   0%|          | 0/3 [00:00<?, ?file/s]"
      ]
     },
     "metadata": {},
     "output_type": "display_data"
    },
    {
     "data": {
      "application/vnd.jupyter.widget-view+json": {
       "model_id": "da67ddd839f641dd99a4f8fb4188c74c",
       "version_major": 2,
       "version_minor": 0
      },
      "text/plain": [
       "Processing:   0%|          | 0/5 [00:00<?, ?chunk/s]"
      ]
     },
     "metadata": {},
     "output_type": "display_data"
    }
   ],
   "source": [
    "exe_args = {\n",
    "    'workers': 16,\n",
    "    'function_args': {'flatten': False},\n",
    "    \"schema\": NanoAODSchema,\n",
    "}\n",
    "exe = processor.futures_executor\n",
    "\n",
    "output = processor.run_uproot_job(\n",
    "    fileset,\n",
    "    \"Events\",\n",
    "    btagAnalyzer(int(year.replace('APV', ''))),\n",
    "    exe,\n",
    "    exe_args,\n",
    "    chunksize=250000,\n",
    ")"
   ]
  },
  {
   "cell_type": "code",
   "execution_count": 11,
   "metadata": {},
   "outputs": [],
   "source": [
    "pt_bins = hist.Bin('pt', r'$p_{T} \\ (GeV)$', np.array([20,30,50,70,100,140,200,300,600]))\n",
    "eta_bins = hist.Bin('eta', r'$\\eta$', np.array([-2.5,2.5]))"
   ]
  },
  {
   "cell_type": "code",
   "execution_count": 12,
   "metadata": {},
   "outputs": [
    {
     "data": {
      "image/png": "[encoded data removed]",
      "text/plain": [
       "<Figure size 432x288 with 2 Axes>"
      ]
     },
     "metadata": {
      "needs_background": "light"
     },
     "output_type": "display_data"
    }
   ],
   "source": [
    "ax = hist.plot2d(output['light_all'], xaxis='pt')"
   ]
  },
  {
   "cell_type": "code",
   "execution_count": 13,
   "metadata": {},
   "outputs": [
    {
     "name": "stderr",
     "output_type": "stream",
     "text": [
      "/home/users/dspitzba/miniconda3/envs/coffeadev4/lib/python3.9/site-packages/yahist/hist1d.py:1057: VisibleDeprecationWarning: Creating an ndarray from ragged nested sequences (which is a list-or-tuple of lists-or-tuples-or ndarrays with different lengths or shapes) is deprecated. If you meant to do this, you must specify 'dtype=object' when creating the ndarray.\n",
      "  hnew._edges = np.asarray(bins)\n"
     ]
    }
   ],
   "source": [
    "h1 = Hist2D.from_bincounts(\n",
    "    output['b_pass_deepJet'].sum().values()[()].T,\n",
    "    (output['b_pass_deepJet'].axis('pt').edges(), output['b_pass_deepJet'].axis('eta').edges())\n",
    ")\n",
    "\n",
    "h2 = Hist2D.from_bincounts(\n",
    "    output['b_all'].sum().values()[()].T,\n",
    "    (output['b_all'].axis('pt').edges(), output['b_all'].axis('eta').edges())\n",
    ")"
   ]
  },
  {
   "cell_type": "code",
   "execution_count": 14,
   "metadata": {},
   "outputs": [
    {
     "data": {
      "text/html": [
       "\n",
       "        <div style=\"max-height:1000px;max-width:1500px;overflow:auto\">\n",
       "        <b>total count</b>: nan, <b>metadata</b>: {}<br>\n",
       "        <div style=\"display:flex;\">\n",
       "            <img src='data:image/svg+xml;base64,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'/>\n",
       "        </div>\n",
       "        "
      ],
      "text/plain": [
       "[[  nan ±  nan     nan ±  nan    0.49 ± 0.01    0.55 ± 0.01\n",
       "   0.58 ± 0.01    0.59 ± 0.01    0.62 ± 0.01    0.62 ± 0.01\n",
       "   0.63 ± 0.02    0.62 ± 0.02    0.64 ± 0.02    0.64 ± 0.03\n",
       "   0.63 ± 0.03    0.64 ± 0.04    0.64 ± 0.04    0.65 ± 0.05\n",
       "   0.65 ± 0.06    0.67 ± 0.06    0.68 ± 0.08    0.70 ± 0.09\n",
       "   0.65 ± 0.09    0.70 ± 0.12    0.74 ± 0.15    0.64 ± 0.14\n",
       "   0.59 ± 0.16    0.52 ± 0.19    0.80 ± 0.27    0.71 ± 0.30\n",
       "   0.62 ± 0.28    0.64 ± 0.31    0.60 ± 0.44    0.75 ± 0.41\n",
       "   0.22 ± 0.17    0.17 ± 0.18    0.83 ± 0.50     nan ±  nan\n",
       "   0.67 ± 0.43    0.00 ± 0.00     nan ±  nan    0.50 ± 0.61\n",
       "   1.00 ± 1.41    1.00 ± 1.41    0.00 ± 0.00    1.00 ± 1.41\n",
       "   0.00 ± 0.00     nan ±  nan    1.00 ± 1.41     nan ±  nan\n",
       "   0.00 ± 0.00    0.00 ± 0.00     nan ±  nan     nan ±  nan\n",
       "    nan ±  nan     nan ±  nan     nan ±  nan     nan ±  nan\n",
       "    nan ±  nan     nan ±  nan     nan ±  nan     nan ±  nan\n",
       "    nan ±  nan     nan ±  nan     nan ±  nan    1.00 ± 1.41\n",
       "    nan ±  nan     nan ±  nan     nan ±  nan     nan ±  nan\n",
       "    nan ±  nan     nan ±  nan     nan ±  nan     nan ±  nan\n",
       "    nan ±  nan     nan ±  nan     nan ±  nan     nan ±  nan\n",
       "    nan ±  nan     nan ±  nan     nan ±  nan     nan ±  nan\n",
       "    nan ±  nan     nan ±  nan     nan ±  nan     nan ±  nan\n",
       "    nan ±  nan     nan ±  nan     nan ±  nan     nan ±  nan\n",
       "    nan ±  nan     nan ±  nan     nan ±  nan     nan ±  nan\n",
       "    nan ±  nan     nan ±  nan     nan ±  nan     nan ±  nan\n",
       "    nan ±  nan     nan ±  nan     nan ±  nan     nan ±  nan]\n",
       " [  nan ±  nan     nan ±  nan    0.58 ± 0.01    0.62 ± 0.01\n",
       "   0.65 ± 0.01    0.67 ± 0.01    0.68 ± 0.01    0.69 ± 0.01\n",
       "   0.69 ± 0.01    0.71 ± 0.02    0.72 ± 0.02    0.72 ± 0.02\n",
       "   0.73 ± 0.02    0.73 ± 0.03    0.74 ± 0.03    0.75 ± 0.03\n",
       "   0.74 ± 0.04    0.70 ± 0.04    0.70 ± 0.05    0.70 ± 0.06\n",
       "   0.76 ± 0.07    0.72 ± 0.08    0.71 ± 0.08    0.75 ± 0.10\n",
       "   0.72 ± 0.10    0.67 ± 0.11    0.67 ± 0.12    0.81 ± 0.17\n",
       "   0.84 ± 0.18    0.75 ± 0.17    0.88 ± 0.26    0.79 ± 0.22\n",
       "   0.77 ± 0.23    0.70 ± 0.23    0.64 ± 0.22    0.93 ± 0.36\n",
       "   0.73 ± 0.34    0.75 ± 0.41    0.78 ± 0.39    0.67 ± 0.35\n",
       "   1.00 ± 0.82    0.57 ± 0.36    1.00 ± 0.63    0.50 ± 0.35\n",
       "   1.00 ± 0.71    1.00 ± 0.82    1.00 ± 1.41    1.00 ± 0.82\n",
       "   0.83 ± 0.50    1.00 ± 1.00     nan ±  nan    1.00 ± 1.41\n",
       "    nan ±  nan    1.00 ± 1.41    1.00 ± 1.41    0.50 ± 0.61\n",
       "   0.00 ± 0.00     nan ±  nan     nan ±  nan     nan ±  nan\n",
       "    nan ±  nan    1.00 ± 1.41     nan ±  nan    1.00 ± 1.41\n",
       "   1.00 ± 1.41     nan ±  nan     nan ±  nan    1.00 ± 1.41\n",
       "    nan ±  nan     nan ±  nan     nan ±  nan     nan ±  nan\n",
       "    nan ±  nan     nan ±  nan    1.00 ± 1.41     nan ±  nan\n",
       "    nan ±  nan     nan ±  nan     nan ±  nan     nan ±  nan\n",
       "    nan ±  nan     nan ±  nan     nan ±  nan     nan ±  nan\n",
       "    nan ±  nan     nan ±  nan     nan ±  nan     nan ±  nan\n",
       "    nan ±  nan     nan ±  nan     nan ±  nan     nan ±  nan\n",
       "    nan ±  nan     nan ±  nan     nan ±  nan     nan ±  nan\n",
       "    nan ±  nan     nan ±  nan     nan ±  nan     nan ±  nan]\n",
       " [  nan ±  nan     nan ±  nan    0.64 ± 0.01    0.68 ± 0.01\n",
       "   0.70 ± 0.01    0.73 ± 0.01    0.74 ± 0.01    0.75 ± 0.01\n",
       "   0.76 ± 0.01    0.75 ± 0.01    0.78 ± 0.01    0.76 ± 0.02\n",
       "   0.77 ± 0.02    0.77 ± 0.02    0.81 ± 0.02    0.78 ± 0.03\n",
       "   0.77 ± 0.03    0.81 ± 0.04    0.76 ± 0.04    0.79 ± 0.04\n",
       "   0.79 ± 0.05    0.78 ± 0.06    0.77 ± 0.06    0.77 ± 0.07\n",
       "   0.80 ± 0.08    0.79 ± 0.09    0.76 ± 0.09    0.82 ± 0.10\n",
       "   0.70 ± 0.11    0.85 ± 0.13    0.70 ± 0.12    0.81 ± 0.15\n",
       "   0.76 ± 0.16    0.85 ± 0.17    0.82 ± 0.20    0.74 ± 0.17\n",
       "   0.77 ± 0.21    0.78 ± 0.21    0.87 ± 0.27    0.68 ± 0.25\n",
       "   1.00 ± 0.43    0.74 ± 0.26    0.89 ± 0.31    0.56 ± 0.31\n",
       "   0.78 ± 0.39    0.93 ± 0.35    0.67 ± 0.35    0.67 ± 0.35\n",
       "   0.71 ± 0.42    1.00 ± 0.82    0.80 ± 0.54    1.00 ± 1.00\n",
       "   0.50 ± 0.61    0.86 ± 0.48    0.82 ± 0.37    0.50 ± 0.61\n",
       "    nan ±  nan    0.50 ± 0.31    1.00 ± 1.41    1.00 ± 1.41\n",
       "   1.00 ± 0.82    0.67 ± 0.61    0.50 ± 0.61    1.00 ± 1.41\n",
       "   1.00 ± 1.00     nan ±  nan    1.00 ± 1.00    1.00 ± 1.00\n",
       "   1.00 ± 1.41    1.00 ± 1.41    1.00 ± 1.41    1.00 ± 1.41\n",
       "    nan ±  nan    1.00 ± 1.00    0.00 ± 0.00    1.00 ± 1.41\n",
       "    nan ±  nan    1.00 ± 1.41    0.00 ± 0.00     nan ±  nan\n",
       "   1.00 ± 1.41    0.00 ± 0.00     nan ±  nan    1.00 ± 1.41\n",
       "    nan ±  nan     nan ±  nan     nan ±  nan     nan ±  nan\n",
       "   1.00 ± 1.41     nan ±  nan    0.00 ± 0.00     nan ±  nan\n",
       "    nan ±  nan     nan ±  nan     nan ±  nan     nan ±  nan\n",
       "    nan ±  nan     nan ±  nan    1.00 ± 1.41     nan ±  nan]\n",
       " [  nan ±  nan     nan ±  nan    0.69 ± 0.01    0.72 ± 0.01\n",
       "   0.75 ± 0.01    0.77 ± 0.01    0.78 ± 0.01    0.79 ± 0.01\n",
       "   0.79 ± 0.01    0.80 ± 0.01    0.80 ± 0.01    0.81 ± 0.01\n",
       "   0.80 ± 0.02    0.80 ± 0.02    0.81 ± 0.02    0.80 ± 0.02\n",
       "   0.81 ± 0.03    0.81 ± 0.03    0.82 ± 0.04    0.80 ± 0.04\n",
       "   0.79 ± 0.04    0.83 ± 0.05    0.80 ± 0.05    0.79 ± 0.06\n",
       "   0.80 ± 0.06    0.80 ± 0.08    0.77 ± 0.08    0.76 ± 0.09\n",
       "   0.86 ± 0.10    0.86 ± 0.11    0.77 ± 0.11    0.81 ± 0.11\n",
       "   0.84 ± 0.13    0.88 ± 0.17    0.80 ± 0.16    0.77 ± 0.17\n",
       "   0.81 ± 0.17    0.89 ± 0.19    0.86 ± 0.19    0.83 ± 0.21\n",
       "   0.84 ± 0.22    0.85 ± 0.28    0.94 ± 0.34    0.88 ± 0.31\n",
       "   0.92 ± 0.27    0.83 ± 0.36    0.50 ± 0.27    0.75 ± 0.29\n",
       "   0.92 ± 0.37    0.87 ± 0.33    0.90 ± 0.41    0.91 ± 0.40\n",
       "   1.00 ± 0.45    0.88 ± 0.45    0.86 ± 0.48    0.78 ± 0.39\n",
       "   0.90 ± 0.41    1.00 ± 0.53    0.75 ± 0.57    1.00 ± 0.82\n",
       "   0.75 ± 0.57    0.75 ± 0.57    1.00 ± 0.71    0.75 ± 0.57\n",
       "   0.50 ± 0.61    1.00 ± 1.41    0.50 ± 0.61    1.00 ± 1.00\n",
       "   0.50 ± 0.61    1.00 ± 1.00    1.00 ± 1.41     nan ±  nan\n",
       "   1.00 ± 1.41     nan ±  nan    1.00 ± 1.00    0.00 ± 0.00\n",
       "   1.00 ± 1.41    1.00 ± 1.00    0.67 ± 0.61     nan ±  nan\n",
       "   0.00 ± 0.00     nan ±  nan    1.00 ± 1.00    1.00 ± 1.41\n",
       "   1.00 ± 1.41    1.00 ± 1.41     nan ±  nan    1.00 ± 1.00\n",
       "    nan ±  nan     nan ±  nan     nan ±  nan    1.00 ± 1.41\n",
       "    nan ±  nan     nan ±  nan     nan ±  nan    1.00 ± 1.41\n",
       "    nan ±  nan     nan ±  nan     nan ±  nan    1.00 ± 1.41]\n",
       " [  nan ±  nan     nan ±  nan    0.69 ± 0.01    0.73 ± 0.01\n",
       "   0.76 ± 0.01    0.77 ± 0.01    0.79 ± 0.01    0.79 ± 0.01\n",
       "   0.80 ± 0.01    0.81 ± 0.01    0.81 ± 0.01    0.81 ± 0.01\n",
       "   0.80 ± 0.02    0.82 ± 0.02    0.80 ± 0.02    0.80 ± 0.02\n",
       "   0.81 ± 0.03    0.82 ± 0.03    0.82 ± 0.03    0.80 ± 0.04\n",
       "   0.83 ± 0.04    0.81 ± 0.05    0.83 ± 0.05    0.80 ± 0.05\n",
       "   0.80 ± 0.06    0.78 ± 0.07    0.76 ± 0.07    0.76 ± 0.08\n",
       "   0.82 ± 0.10    0.87 ± 0.10    0.78 ± 0.10    0.81 ± 0.12\n",
       "   0.81 ± 0.13    0.85 ± 0.14    0.87 ± 0.12    0.80 ± 0.16\n",
       "   0.83 ± 0.15    0.89 ± 0.17    0.76 ± 0.16    0.73 ± 0.18\n",
       "   0.93 ± 0.21    0.81 ± 0.20    0.76 ± 0.23    0.89 ± 0.30\n",
       "   0.81 ± 0.26    0.72 ± 0.21    0.78 ± 0.25    0.88 ± 0.32\n",
       "   0.71 ± 0.30    0.94 ± 0.32    0.76 ± 0.28    0.86 ± 0.34\n",
       "   0.83 ± 0.36    0.56 ± 0.31    0.75 ± 0.57    0.89 ± 0.43\n",
       "   0.78 ± 0.39    0.78 ± 0.39    1.00 ± 0.63    0.75 ± 0.57\n",
       "   0.80 ± 0.54    0.80 ± 0.54    1.00 ± 0.71    0.33 ± 0.38\n",
       "   0.83 ± 0.50    1.00 ± 1.41    0.83 ± 0.50    1.00 ± 1.41\n",
       "   1.00 ± 1.41    1.00 ± 1.00     nan ±  nan     nan ±  nan\n",
       "   1.00 ± 1.41    1.00 ± 0.82    0.67 ± 0.61     nan ±  nan\n",
       "    nan ±  nan    1.00 ± 0.71    1.00 ± 1.41     nan ±  nan\n",
       "   1.00 ± 1.00    1.00 ± 1.00    1.00 ± 1.41     nan ±  nan\n",
       "   0.50 ± 0.61    1.00 ± 1.41     nan ±  nan     nan ±  nan\n",
       "    nan ±  nan    1.00 ± 1.41    1.00 ± 1.41     nan ±  nan\n",
       "   1.00 ± 1.41    1.00 ± 1.41    0.00 ± 0.00    0.00 ± 0.00\n",
       "    nan ±  nan    0.00 ± 0.00    1.00 ± 1.41    1.00 ± 1.41]\n",
       " [  nan ±  nan     nan ±  nan    0.70 ± 0.01    0.73 ± 0.01\n",
       "   0.76 ± 0.01    0.77 ± 0.01    0.78 ± 0.01    0.80 ± 0.01\n",
       "   0.80 ± 0.01    0.80 ± 0.01    0.81 ± 0.01    0.80 ± 0.01\n",
       "   0.82 ± 0.02    0.80 ± 0.02    0.81 ± 0.02    0.81 ± 0.02\n",
       "   0.82 ± 0.03    0.81 ± 0.03    0.82 ± 0.03    0.80 ± 0.04\n",
       "   0.83 ± 0.04    0.82 ± 0.05    0.81 ± 0.05    0.82 ± 0.06\n",
       "   0.80 ± 0.06    0.83 ± 0.07    0.82 ± 0.07    0.81 ± 0.08\n",
       "   0.88 ± 0.09    0.82 ± 0.09    0.78 ± 0.10    0.90 ± 0.12\n",
       "   0.86 ± 0.12    0.78 ± 0.12    0.67 ± 0.13    0.77 ± 0.14\n",
       "   0.81 ± 0.15    0.78 ± 0.17    0.66 ± 0.18    0.75 ± 0.15\n",
       "   0.96 ± 0.27    0.79 ± 0.20    0.93 ± 0.26    0.86 ± 0.24\n",
       "   0.84 ± 0.25    1.00 ± 0.37    0.91 ± 0.28    0.73 ± 0.34\n",
       "   0.82 ± 0.26    0.70 ± 0.34    1.00 ± 0.41    0.75 ± 0.41\n",
       "   0.85 ± 0.28    0.82 ± 0.37    1.00 ± 0.50    0.70 ± 0.34\n",
       "   0.88 ± 0.45    1.00 ± 0.82    1.00 ± 0.58    0.83 ± 0.50\n",
       "   1.00 ± 0.58    1.00 ± 0.58    1.00 ± 0.71    1.00 ± 0.82\n",
       "   1.00 ± 1.41    1.00 ± 0.63    1.00 ± 0.71    1.00 ± 1.41\n",
       "   1.00 ± 1.00    1.00 ± 1.00    0.75 ± 0.57    0.83 ± 0.50\n",
       "   0.50 ± 0.61    1.00 ± 0.71    1.00 ± 0.71    1.00 ± 0.71\n",
       "   1.00 ± 0.82    1.00 ± 1.41    1.00 ± 1.00    0.00 ± 0.00\n",
       "   0.50 ± 0.61    1.00 ± 1.00    1.00 ± 0.71    1.00 ± 1.00\n",
       "   0.50 ± 0.61     nan ±  nan    0.00 ± 0.00     nan ±  nan\n",
       "    nan ±  nan     nan ±  nan    1.00 ± 0.82    0.00 ± 0.00\n",
       "    nan ±  nan    1.00 ± 1.00     nan ±  nan     nan ±  nan\n",
       "   1.00 ± 1.41     nan ±  nan    1.00 ± 1.41     nan ±  nan]\n",
       " [  nan ±  nan     nan ±  nan    0.70 ± 0.01    0.72 ± 0.01\n",
       "   0.75 ± 0.01    0.77 ± 0.01    0.78 ± 0.01    0.78 ± 0.01\n",
       "   0.80 ± 0.01    0.80 ± 0.01    0.80 ± 0.01    0.80 ± 0.01\n",
       "   0.81 ± 0.02    0.81 ± 0.02    0.80 ± 0.02    0.80 ± 0.02\n",
       "   0.80 ± 0.03    0.81 ± 0.03    0.81 ± 0.03    0.82 ± 0.04\n",
       "   0.80 ± 0.04    0.84 ± 0.05    0.79 ± 0.05    0.79 ± 0.06\n",
       "   0.77 ± 0.06    0.80 ± 0.07    0.80 ± 0.08    0.82 ± 0.09\n",
       "   0.78 ± 0.10    0.84 ± 0.11    0.82 ± 0.11    0.75 ± 0.11\n",
       "   0.78 ± 0.14    0.83 ± 0.15    0.84 ± 0.14    0.69 ± 0.15\n",
       "   0.81 ± 0.17    0.79 ± 0.21    0.76 ± 0.19    0.83 ± 0.23\n",
       "   0.66 ± 0.18    0.67 ± 0.22    0.78 ± 0.28    0.81 ± 0.30\n",
       "   0.86 ± 0.28    0.88 ± 0.32    0.67 ± 0.25    0.88 ± 0.32\n",
       "   0.83 ± 0.50    0.91 ± 0.40    0.57 ± 0.36    0.67 ± 0.35\n",
       "   0.33 ± 0.22    0.90 ± 0.41    1.00 ± 0.50    0.88 ± 0.45\n",
       "   0.62 ± 0.36    1.00 ± 0.53    0.80 ± 0.54    0.83 ± 0.50\n",
       "   1.00 ± 1.41    0.50 ± 0.61    1.00 ± 0.71    1.00 ± 1.41\n",
       "   1.00 ± 1.00    0.33 ± 0.38    1.00 ± 0.71    1.00 ± 0.63\n",
       "   1.00 ± 1.00    1.00 ± 1.41    1.00 ± 1.41     nan ±  nan\n",
       "   0.50 ± 0.61     nan ±  nan    1.00 ± 1.00    0.00 ± 0.00\n",
       "    nan ±  nan    0.00 ± 0.00    1.00 ± 1.41     nan ±  nan\n",
       "    nan ±  nan    1.00 ± 1.41    1.00 ± 1.41     nan ±  nan\n",
       "    nan ±  nan     nan ±  nan    1.00 ± 1.41     nan ±  nan\n",
       "    nan ±  nan    1.00 ± 1.41     nan ±  nan     nan ±  nan\n",
       "    nan ±  nan    0.00 ± 0.00     nan ±  nan     nan ±  nan\n",
       "    nan ±  nan     nan ±  nan     nan ±  nan     nan ±  nan]\n",
       " [  nan ±  nan     nan ±  nan    0.63 ± 0.01    0.67 ± 0.01\n",
       "   0.70 ± 0.01    0.72 ± 0.01    0.74 ± 0.01    0.75 ± 0.01\n",
       "   0.76 ± 0.01    0.76 ± 0.01    0.77 ± 0.01    0.77 ± 0.02\n",
       "   0.78 ± 0.02    0.78 ± 0.02    0.77 ± 0.02    0.78 ± 0.03\n",
       "   0.79 ± 0.03    0.77 ± 0.04    0.80 ± 0.04    0.77 ± 0.05\n",
       "   0.80 ± 0.05    0.80 ± 0.06    0.78 ± 0.06    0.77 ± 0.07\n",
       "   0.80 ± 0.08    0.76 ± 0.08    0.82 ± 0.10    0.81 ± 0.10\n",
       "   0.75 ± 0.10    0.78 ± 0.13    0.79 ± 0.14    0.70 ± 0.14\n",
       "   0.73 ± 0.14    0.72 ± 0.19    0.88 ± 0.20    0.82 ± 0.20\n",
       "   0.81 ± 0.22    0.81 ± 0.22    0.77 ± 0.20    0.72 ± 0.22\n",
       "   0.79 ± 0.27    0.67 ± 0.30    0.55 ± 0.28    0.74 ± 0.26\n",
       "   0.75 ± 0.57    0.62 ± 0.36    0.50 ± 0.43    0.69 ± 0.30\n",
       "   0.89 ± 0.43    0.80 ± 0.54    0.71 ± 0.42    0.40 ± 0.33\n",
       "   1.00 ± 0.58    0.50 ± 0.61    0.20 ± 0.22    0.83 ± 0.50\n",
       "   0.33 ± 0.38    1.00 ± 1.00    1.00 ± 0.82    1.00 ± 1.00\n",
       "   0.00 ± 0.00     nan ±  nan    0.50 ± 0.61    0.75 ± 0.57\n",
       "   1.00 ± 1.00    1.00 ± 1.41    1.00 ± 1.00    0.67 ± 0.61\n",
       "   1.00 ± 1.41     nan ±  nan    1.00 ± 1.41    0.00 ± 0.00\n",
       "   1.00 ± 1.00    1.00 ± 1.41     nan ±  nan     nan ±  nan\n",
       "    nan ±  nan    0.00 ± 0.00     nan ±  nan    0.00 ± 0.00\n",
       "   1.00 ± 1.00     nan ±  nan     nan ±  nan    1.00 ± 0.82\n",
       "    nan ±  nan     nan ±  nan     nan ±  nan     nan ±  nan\n",
       "    nan ±  nan     nan ±  nan     nan ±  nan     nan ±  nan\n",
       "    nan ±  nan     nan ±  nan     nan ±  nan     nan ±  nan\n",
       "    nan ±  nan     nan ±  nan     nan ±  nan     nan ±  nan]\n",
       " [  nan ±  nan     nan ±  nan    0.59 ± 0.01    0.63 ± 0.01\n",
       "   0.66 ± 0.01    0.68 ± 0.01    0.70 ± 0.01    0.71 ± 0.01\n",
       "   0.71 ± 0.01    0.72 ± 0.02    0.72 ± 0.02    0.73 ± 0.02\n",
       "   0.73 ± 0.02    0.71 ± 0.03    0.75 ± 0.03    0.74 ± 0.03\n",
       "   0.75 ± 0.04    0.74 ± 0.05    0.74 ± 0.05    0.69 ± 0.06\n",
       "   0.75 ± 0.07    0.76 ± 0.08    0.69 ± 0.08    0.70 ± 0.09\n",
       "   0.81 ± 0.11    0.71 ± 0.11    0.75 ± 0.13    0.71 ± 0.13\n",
       "   0.82 ± 0.17    0.69 ± 0.16    0.81 ± 0.18    0.92 ± 0.27\n",
       "   0.85 ± 0.28    0.64 ± 0.27    0.73 ± 0.29    0.75 ± 0.33\n",
       "   0.78 ± 0.39    0.56 ± 0.31    0.67 ± 0.35    0.56 ± 0.31\n",
       "   0.80 ± 0.54    0.83 ± 0.50    0.80 ± 0.54    0.67 ± 0.35\n",
       "   1.00 ± 1.41    0.75 ± 0.57    0.50 ± 0.61    0.75 ± 0.57\n",
       "   0.75 ± 0.57    0.50 ± 0.61    0.67 ± 0.61    0.50 ± 0.61\n",
       "   0.75 ± 0.57    1.00 ± 1.41    1.00 ± 1.41    1.00 ± 1.41\n",
       "    nan ±  nan    0.00 ± 0.00     nan ±  nan     nan ±  nan\n",
       "   1.00 ± 1.41     nan ±  nan     nan ±  nan    1.00 ± 0.71\n",
       "    nan ±  nan    1.00 ± 1.41     nan ±  nan     nan ±  nan\n",
       "    nan ±  nan    1.00 ± 1.41     nan ±  nan     nan ±  nan\n",
       "    nan ±  nan    1.00 ± 1.41     nan ±  nan     nan ±  nan\n",
       "    nan ±  nan     nan ±  nan     nan ±  nan    0.00 ± 0.00\n",
       "    nan ±  nan     nan ±  nan     nan ±  nan     nan ±  nan\n",
       "    nan ±  nan     nan ±  nan     nan ±  nan     nan ±  nan\n",
       "    nan ±  nan     nan ±  nan     nan ±  nan     nan ±  nan\n",
       "    nan ±  nan     nan ±  nan     nan ±  nan     nan ±  nan\n",
       "    nan ±  nan     nan ±  nan     nan ±  nan     nan ±  nan]\n",
       " [  nan ±  nan     nan ±  nan    0.47 ± 0.01    0.54 ± 0.01\n",
       "   0.56 ± 0.01    0.58 ± 0.01    0.59 ± 0.01    0.60 ± 0.01\n",
       "   0.61 ± 0.02    0.62 ± 0.02    0.63 ± 0.02    0.61 ± 0.02\n",
       "   0.66 ± 0.03    0.62 ± 0.03    0.64 ± 0.04    0.65 ± 0.05\n",
       "   0.60 ± 0.05    0.61 ± 0.06    0.62 ± 0.07    0.69 ± 0.10\n",
       "   0.58 ± 0.09    0.58 ± 0.11    0.70 ± 0.14    0.51 ± 0.14\n",
       "   0.60 ± 0.15    0.54 ± 0.19    0.53 ± 0.22    0.75 ± 0.26\n",
       "   0.73 ± 0.29    0.64 ± 0.31    0.44 ± 0.27    0.67 ± 0.43\n",
       "   0.83 ± 0.50    0.80 ± 0.54    0.75 ± 0.57    0.50 ± 0.61\n",
       "    nan ±  nan    0.67 ± 0.61    0.00 ± 0.00    1.00 ± 1.00\n",
       "   0.50 ± 0.61    0.67 ± 0.61     nan ±  nan    1.00 ± 1.41\n",
       "    nan ±  nan    0.00 ± 0.00    1.00 ± 1.41    1.00 ± 1.41\n",
       "    nan ±  nan     nan ±  nan     nan ±  nan     nan ±  nan\n",
       "    nan ±  nan     nan ±  nan     nan ±  nan     nan ±  nan\n",
       "    nan ±  nan     nan ±  nan     nan ±  nan     nan ±  nan\n",
       "    nan ±  nan     nan ±  nan     nan ±  nan     nan ±  nan\n",
       "   0.00 ± 0.00     nan ±  nan     nan ±  nan     nan ±  nan\n",
       "    nan ±  nan     nan ±  nan     nan ±  nan     nan ±  nan\n",
       "    nan ±  nan     nan ±  nan     nan ±  nan     nan ±  nan\n",
       "    nan ±  nan     nan ±  nan     nan ±  nan     nan ±  nan\n",
       "    nan ±  nan     nan ±  nan     nan ±  nan     nan ±  nan\n",
       "    nan ±  nan     nan ±  nan     nan ±  nan     nan ±  nan\n",
       "    nan ±  nan     nan ±  nan     nan ±  nan     nan ±  nan\n",
       "    nan ±  nan     nan ±  nan     nan ±  nan     nan ±  nan\n",
       "    nan ±  nan     nan ±  nan     nan ±  nan     nan ±  nan]]"
      ]
     },
     "execution_count": 14,
     "metadata": {},
     "output_type": "execute_result"
    }
   ],
   "source": [
    "h1.divide(h2)"
   ]
  },
  {
   "cell_type": "code",
   "execution_count": 15,
   "metadata": {},
   "outputs": [],
   "source": [
    "pt_bins = hist.Bin('pt', r'$p_{T} \\ (GeV)$', np.array([20,30,50,70,100,140,200,300,600]))\n",
    "\n",
    "def getNiceHist(output, name, rebin, axis):\n",
    "    tmp = output[name].copy().project(axis).rebin(axis, rebin)\n",
    "    ya_tmp = Hist1D.from_bincounts(\n",
    "        tmp.sum().values(overflow='over')[()],\n",
    "        errors = np.sqrt(tmp.sum().values(overflow='over', sumw2=True)[()][1]),\n",
    "        bins = tmp.axis(axis).edges(overflow='over')\n",
    "    )\n",
    "    return ya_tmp"
   ]
  },
  {
   "cell_type": "code",
   "execution_count": 16,
   "metadata": {},
   "outputs": [],
   "source": [
    "b_all = getNiceHist(output, 'b_all', pt_bins, 'pt')\n",
    "b_pass_deepCSV = getNiceHist(output, 'b_pass_deepCSV', pt_bins, 'pt')\n",
    "b_pass_deepJet = getNiceHist(output, 'b_pass_deepJet', pt_bins, 'pt')\n",
    "\n",
    "c_all = getNiceHist(output, 'c_all', pt_bins, 'pt')\n",
    "c_pass_deepCSV = getNiceHist(output, 'c_pass_deepCSV', pt_bins, 'pt')\n",
    "c_pass_deepJet = getNiceHist(output, 'c_pass_deepJet', pt_bins, 'pt')\n",
    "\n",
    "light_all = getNiceHist(output, 'light_all', pt_bins, 'pt')\n",
    "light_pass_deepCSV = getNiceHist(output, 'light_pass_deepCSV', pt_bins, 'pt')\n",
    "light_pass_deepJet = getNiceHist(output, 'light_pass_deepJet', pt_bins, 'pt')"
   ]
  },
  {
   "cell_type": "code",
   "execution_count": 17,
   "metadata": {},
   "outputs": [
    {
     "data": {
      "text/plain": [
       "Text(0.1, 0.995, '$\\\\bf{CMS}$ Simulation')"
      ]
     },
     "execution_count": 17,
     "metadata": {},
     "output_type": "execute_result"
    },
    {
     "data": {
      "image/png": "[encoded data removed]",
      "text/plain": [
       "<Figure size 504x504 with 1 Axes>"
      ]
     },
     "metadata": {
      "needs_background": "light"
     },
     "output_type": "display_data"
    }
   ],
   "source": [
    "%matplotlib inline\n",
    "import matplotlib\n",
    "import matplotlib.pyplot as plt\n",
    "\n",
    "import mplhep as hep\n",
    "\n",
    "plt.style.use(hep.style.CMS)  # or ATLAS/LHCb\n",
    "\n",
    "fig, ax = plt.subplots(1,1,figsize=(7,7))\n",
    "\n",
    "b_all.plot(color=\"blue\", histtype=\"step\", linewidth=2, label='All b hadrons')\n",
    "b_pass_deepJet.plot(color=\"green\", histtype=\"step\", linewidth=2, label='DeepJet')\n",
    "b_pass_deepCSV.plot(color=\"orange\", histtype=\"step\", linewidth=2, label='DeepCSV')\n",
    "\n",
    "ax.set_ylabel('Jets')\n",
    "ax.set_xlabel(r'$p_{T} (GeV)$')\n",
    "\n",
    "#ax.set_ylim(0.05,1.05)\n",
    "\n",
    "fig.text(0.10, 0.995, '$\\\\bf{CMS}$ Simulation', fontsize=20,  horizontalalignment='left', verticalalignment='bottom', transform=ax.transAxes )\n",
    "\n"
   ]
  },
  {
   "cell_type": "code",
   "execution_count": 18,
   "metadata": {},
   "outputs": [
    {
     "data": {
      "image/png": "[encoded data removed]",
      "text/plain": [
       "<Figure size 504x504 with 1 Axes>"
      ]
     },
     "metadata": {
      "needs_background": "light"
     },
     "output_type": "display_data"
    }
   ],
   "source": [
    "fig, ax = plt.subplots(1,1,figsize=(7,7))\n",
    "\n",
    "b_eff_deepJet = b_pass_deepJet.divide(b_all, binomial=True)\n",
    "b_eff_deepCSV = b_pass_deepCSV.divide(b_all, binomial=True)\n",
    "\n",
    "c_eff_deepJet = c_pass_deepJet.divide(c_all, binomial=True)\n",
    "c_eff_deepCSV = c_pass_deepCSV.divide(c_all, binomial=True)\n",
    "\n",
    "light_eff_deepJet = light_pass_deepJet.divide(light_all, binomial=True)\n",
    "light_eff_deepCSV = light_pass_deepCSV.divide(light_all, binomial=True)\n",
    "\n",
    "\n",
    "b_eff_deepJet.plot(color=\"green\", histtype=\"step\", linewidth=2, label='b DeepJet')\n",
    "b_eff_deepCSV.plot(color=\"gray\", histtype=\"step\", linewidth=2, label='b DeepCSV')\n",
    "\n",
    "c_eff_deepJet.plot(color=\"blue\", histtype=\"step\", linewidth=2, label='c DeepJet')\n",
    "c_eff_deepCSV.plot(color=\"cyan\", histtype=\"step\", linewidth=2, label='c DeepCSV')\n",
    "\n",
    "light_eff_deepJet.plot(color=\"orange\", histtype=\"step\", linewidth=2, label='udsg DeepJet')\n",
    "light_eff_deepCSV.plot(color=\"red\", histtype=\"step\", linewidth=2, label='udsg DeepCSV')\n",
    "\n",
    "ax.set_ylabel('Efficiency')\n",
    "ax.set_xlabel(r'$p_{T} (GeV)$')\n",
    "\n",
    "ax.set_ylim(0.00,1.40)\n",
    "\n",
    "plt.xscale('log')\n",
    "\n",
    "plt.legend(\n",
    "    #bbox_to_anchor=(0., 1.02, 1., .102),\n",
    "    loc='upper left',\n",
    "    ncol=2,\n",
    "    mode=\"expand\",\n",
    "    borderaxespad=0.0\n",
    ")\n",
    "\n",
    "fig.text(0.0, 0.995, '$\\\\bf{CMS}$ Simulation', fontsize=20,  horizontalalignment='left', verticalalignment='bottom', transform=ax.transAxes )\n",
    "fig.text(0.8, 0.995, '13 TeV', fontsize=20,  horizontalalignment='left', verticalalignment='bottom', transform=ax.transAxes )\n",
    "\n",
    "\n",
    "fig.savefig(plot_dir+\"/%s_efficiencies_all.pdf\"%year)\n",
    "fig.savefig(plot_dir+\"/%s_efficiencies_all.png\"%year)"
   ]
  },
  {
   "cell_type": "code",
   "execution_count": 19,
   "metadata": {},
   "outputs": [
    {
     "data": {
      "image/png": "[encoded data removed]",
      "text/plain": [
       "<Figure size 504x504 with 1 Axes>"
      ]
     },
     "metadata": {
      "needs_background": "light"
     },
     "output_type": "display_data"
    }
   ],
   "source": [
    "fig, ax = plt.subplots(1,1,figsize=(7,7))\n",
    "\n",
    "\n",
    "b_eff_deepJet.plot(color=\"green\", histtype=\"step\", linewidth=2, label='b DeepJet')\n",
    "\n",
    "c_eff_deepJet.plot(color=\"blue\", histtype=\"step\", linewidth=2, label='c DeepJet')\n",
    "\n",
    "light_eff_deepJet.plot(color=\"orange\", histtype=\"step\", linewidth=2, label='udsg DeepJet')\n",
    "\n",
    "ax.set_ylabel('Efficiency')\n",
    "ax.set_xlabel(r'$p_{T} (GeV)$')\n",
    "\n",
    "ax.set_ylim(0.00,1.20)\n",
    "\n",
    "plt.xscale('log')\n",
    "\n",
    "plt.legend(\n",
    "    #bbox_to_anchor=(0., 1.02, 1., .102),\n",
    "    loc='upper left',\n",
    "    ncol=2,\n",
    "    mode=\"expand\",\n",
    "    borderaxespad=0.0\n",
    ")\n",
    "\n",
    "fig.text(0.0, 0.995, '$\\\\bf{CMS}$ Simulation', fontsize=20,  horizontalalignment='left', verticalalignment='bottom', transform=ax.transAxes )\n",
    "fig.text(0.8, 0.995, '13 TeV', fontsize=20,  horizontalalignment='left', verticalalignment='bottom', transform=ax.transAxes )\n",
    "\n",
    "fig.savefig(plot_dir+\"/%s_efficiencies.pdf\"%year)\n",
    "fig.savefig(plot_dir+\"/%s_efficiencies.png\"%year)"
   ]
  },
  {
   "cell_type": "code",
   "execution_count": 20,
   "metadata": {},
   "outputs": [
    {
     "data": {
      "text/plain": [
       "'{\"_counts\": [0.6387040389537424, 0.6947540768129566, 0.7365657600504368, 0.7605649125908599, 0.776043920996879, 0.7857485544024443, 0.7908464363831456, 0.7954150746787079, 0.8303571428571429], \"_edges\": [20.0, 30.0, 50.0, 70.0, 100.0, 140.0, 200.0, 300.0, 600.0, 900.0], \"_errors\": [0.0017036477977013798, 0.0007798878457286884, 0.000799874069240758, 0.0007885614065953894, 0.0009977619591303166, 0.0014642275915883185, 0.0026333761292038904, 0.005402797465054732, 0.021944452791013203], \"_errors_up\": [0.0017019096473986917, 0.0007793303164619347, 0.0007990956510198766, 0.0007876735972700555, 0.0009961853074409444, 0.00146060422889982, 0.0026212781974177535, 0.005350658033385081, 0.02089168424052612], \"_errors_down\": [0.0017053859480040678, 0.0007804453749954421, 0.0008006524874616394, 0.0007894492159207234, 0.0009993386108196889, 0.001467850954276817, 0.0026454740609900274, 0.005454936896724383, 0.022997221341500285], \"_metadata\": {}}'"
      ]
     },
     "execution_count": 20,
     "metadata": {},
     "output_type": "execute_result"
    }
   ],
   "source": [
    "# I can export the measurement from yahist\n",
    "\n",
    "b_eff_deepJet.to_json()"
   ]
  },
  {
   "cell_type": "code",
   "execution_count": 21,
   "metadata": {},
   "outputs": [
    {
     "data": {
      "text/plain": [
       "0.6947540768129566"
      ]
     },
     "execution_count": 21,
     "metadata": {},
     "output_type": "execute_result"
    }
   ],
   "source": [
    "# lookup is easy, but only works for np arrays (so far)\n",
    "\n",
    "b_eff_deepJet.lookup(30)"
   ]
  },
  {
   "cell_type": "code",
   "execution_count": 22,
   "metadata": {},
   "outputs": [],
   "source": [
    "\n",
    "b_eff_deepJet.to_json(os.path.expandvars(\"$TWHOME/data/btag/%s_b_eff_deepJet.json\"%campaign))\n",
    "c_eff_deepJet.to_json(os.path.expandvars(\"$TWHOME/data/btag/%s_c_eff_deepJet.json\"%campaign))\n",
    "light_eff_deepJet.to_json(os.path.expandvars(\"$TWHOME/data/btag/%s_light_eff_deepJet.json\"%campaign))"
   ]
  },
  {
   "cell_type": "markdown",
   "metadata": {},
   "source": [
    "# Development of SF calculation\n",
    "\n",
    "The coffea tools aren't so helpful. We need to have Method 1a implemented.\n"
   ]
  },
  {
   "cell_type": "code",
   "execution_count": 6,
   "metadata": {},
   "outputs": [],
   "source": [
    "from coffea.lookup_tools import extractor\n",
    "from coffea.btag_tools import BTagScaleFactor\n",
    "\n",
    "# deal with the SFs\n",
    "SF_file = os.path.expandvars('$TWHOME/data/btag/DeepJet_102XSF_V2.csv')\n",
    "btag_sf = BTagScaleFactor(SF_file, \"medium\", keep_df=True)\n",
    "\n",
    "# and load the efficiencies\n",
    "effs = {\n",
    "    'b': Hist1D.from_json(os.path.expandvars(\"$TWHOME/data/btag/Autumn18_b_eff_deepJet.json\")),\n",
    "    'c': Hist1D.from_json(os.path.expandvars(\"$TWHOME/data/btag/Autumn18_c_eff_deepJet.json\")),\n",
    "    'light': Hist1D.from_json(os.path.expandvars(\"$TWHOME/data/btag/Autumn18_light_eff_deepJet.json\")),\n",
    "}\n"
   ]
  },
  {
   "cell_type": "code",
   "execution_count": 7,
   "metadata": {},
   "outputs": [
    {
     "data": {
      "text/html": [
       "<div>\n",
       "<style scoped>\n",
       "    .dataframe tbody tr th:only-of-type {\n",
       "        vertical-align: middle;\n",
       "    }\n",
       "\n",
       "    .dataframe tbody tr th {\n",
       "        vertical-align: top;\n",
       "    }\n",
       "\n",
       "    .dataframe thead th {\n",
       "        text-align: right;\n",
       "    }\n",
       "</style>\n",
       "<table border=\"1\" class=\"dataframe\">\n",
       "  <thead>\n",
       "    <tr style=\"text-align: right;\">\n",
       "      <th></th>\n",
       "      <th></th>\n",
       "      <th></th>\n",
       "      <th></th>\n",
       "      <th></th>\n",
       "      <th>OperatingPoint</th>\n",
       "      <th>measurementType</th>\n",
       "      <th>formula</th>\n",
       "    </tr>\n",
       "    <tr>\n",
       "      <th>sysType</th>\n",
       "      <th>jetFlavor</th>\n",
       "      <th>etaBin</th>\n",
       "      <th>ptBin</th>\n",
       "      <th>discrBin</th>\n",
       "      <th></th>\n",
       "      <th></th>\n",
       "      <th></th>\n",
       "    </tr>\n",
       "  </thead>\n",
       "  <tbody>\n",
       "    <tr>\n",
       "      <th rowspan=\"3\" valign=\"top\">central</th>\n",
       "      <th>0</th>\n",
       "      <th>(-2.5, 2.5)</th>\n",
       "      <th>(20, 1000)</th>\n",
       "      <th>(0, 1)</th>\n",
       "      <td>1</td>\n",
       "      <td>comb</td>\n",
       "      <td>1.0097+(-(2.89663e-06*(log(x+19)*(log(x+18)*(3...</td>\n",
       "    </tr>\n",
       "    <tr>\n",
       "      <th>1</th>\n",
       "      <th>(-2.5, 2.5)</th>\n",
       "      <th>(20, 1000)</th>\n",
       "      <th>(0, 1)</th>\n",
       "      <td>1</td>\n",
       "      <td>comb</td>\n",
       "      <td>1.0097+(-(2.89663e-06*(log(x+19)*(log(x+18)*(3...</td>\n",
       "    </tr>\n",
       "    <tr>\n",
       "      <th>2</th>\n",
       "      <th>(0.0, 2.5)</th>\n",
       "      <th>(20, 1000)</th>\n",
       "      <th>(0, 1)</th>\n",
       "      <td>1</td>\n",
       "      <td>incl</td>\n",
       "      <td>1.59373+-0.00113028*x+8.66631e-07*x*x+-1.10505/x</td>\n",
       "    </tr>\n",
       "    <tr>\n",
       "      <th rowspan=\"19\" valign=\"top\">down</th>\n",
       "      <th rowspan=\"9\" valign=\"top\">0</th>\n",
       "      <th rowspan=\"9\" valign=\"top\">(-2.5, 2.5)</th>\n",
       "      <th>(20, 30)</th>\n",
       "      <th>(0, 1)</th>\n",
       "      <td>1</td>\n",
       "      <td>comb</td>\n",
       "      <td>1.0097+((-(2.89663e-06*(log(x+19)*(log(x+18)*(...</td>\n",
       "    </tr>\n",
       "    <tr>\n",
       "      <th>(30, 50)</th>\n",
       "      <th>(0, 1)</th>\n",
       "      <td>1</td>\n",
       "      <td>comb</td>\n",
       "      <td>1.0097+((-(2.89663e-06*(log(x+19)*(log(x+18)*(...</td>\n",
       "    </tr>\n",
       "    <tr>\n",
       "      <th>(50, 70)</th>\n",
       "      <th>(0, 1)</th>\n",
       "      <td>1</td>\n",
       "      <td>comb</td>\n",
       "      <td>1.0097+((-(2.89663e-06*(log(x+19)*(log(x+18)*(...</td>\n",
       "    </tr>\n",
       "    <tr>\n",
       "      <th>(70, 100)</th>\n",
       "      <th>(0, 1)</th>\n",
       "      <td>1</td>\n",
       "      <td>comb</td>\n",
       "      <td>1.0097+((-(2.89663e-06*(log(x+19)*(log(x+18)*(...</td>\n",
       "    </tr>\n",
       "    <tr>\n",
       "      <th>(100, 140)</th>\n",
       "      <th>(0, 1)</th>\n",
       "      <td>1</td>\n",
       "      <td>comb</td>\n",
       "      <td>1.0097+((-(2.89663e-06*(log(x+19)*(log(x+18)*(...</td>\n",
       "    </tr>\n",
       "    <tr>\n",
       "      <th>(140, 200)</th>\n",
       "      <th>(0, 1)</th>\n",
       "      <td>1</td>\n",
       "      <td>comb</td>\n",
       "      <td>1.0097+((-(2.89663e-06*(log(x+19)*(log(x+18)*(...</td>\n",
       "    </tr>\n",
       "    <tr>\n",
       "      <th>(200, 300)</th>\n",
       "      <th>(0, 1)</th>\n",
       "      <td>1</td>\n",
       "      <td>comb</td>\n",
       "      <td>1.0097+((-(2.89663e-06*(log(x+19)*(log(x+18)*(...</td>\n",
       "    </tr>\n",
       "    <tr>\n",
       "      <th>(300, 600)</th>\n",
       "      <th>(0, 1)</th>\n",
       "      <td>1</td>\n",
       "      <td>comb</td>\n",
       "      <td>1.0097+((-(2.89663e-06*(log(x+19)*(log(x+18)*(...</td>\n",
       "    </tr>\n",
       "    <tr>\n",
       "      <th>(600, 1000)</th>\n",
       "      <th>(0, 1)</th>\n",
       "      <td>1</td>\n",
       "      <td>comb</td>\n",
       "      <td>1.0097+((-(2.89663e-06*(log(x+19)*(log(x+18)*(...</td>\n",
       "    </tr>\n",
       "    <tr>\n",
       "      <th rowspan=\"9\" valign=\"top\">1</th>\n",
       "      <th rowspan=\"9\" valign=\"top\">(-2.5, 2.5)</th>\n",
       "      <th>(20, 30)</th>\n",
       "      <th>(0, 1)</th>\n",
       "      <td>1</td>\n",
       "      <td>comb</td>\n",
       "      <td>1.0097+((-(2.89663e-06*(log(x+19)*(log(x+18)*(...</td>\n",
       "    </tr>\n",
       "    <tr>\n",
       "      <th>(30, 50)</th>\n",
       "      <th>(0, 1)</th>\n",
       "      <td>1</td>\n",
       "      <td>comb</td>\n",
       "      <td>1.0097+((-(2.89663e-06*(log(x+19)*(log(x+18)*(...</td>\n",
       "    </tr>\n",
       "    <tr>\n",
       "      <th>(50, 70)</th>\n",
       "      <th>(0, 1)</th>\n",
       "      <td>1</td>\n",
       "      <td>comb</td>\n",
       "      <td>1.0097+((-(2.89663e-06*(log(x+19)*(log(x+18)*(...</td>\n",
       "    </tr>\n",
       "    <tr>\n",
       "      <th>(70, 100)</th>\n",
       "      <th>(0, 1)</th>\n",
       "      <td>1</td>\n",
       "      <td>comb</td>\n",
       "      <td>1.0097+((-(2.89663e-06*(log(x+19)*(log(x+18)*(...</td>\n",
       "    </tr>\n",
       "    <tr>\n",
       "      <th>(100, 140)</th>\n",
       "      <th>(0, 1)</th>\n",
       "      <td>1</td>\n",
       "      <td>comb</td>\n",
       "      <td>1.0097+((-(2.89663e-06*(log(x+19)*(log(x+18)*(...</td>\n",
       "    </tr>\n",
       "    <tr>\n",
       "      <th>(140, 200)</th>\n",
       "      <th>(0, 1)</th>\n",
       "      <td>1</td>\n",
       "      <td>comb</td>\n",
       "      <td>1.0097+((-(2.89663e-06*(log(x+19)*(log(x+18)*(...</td>\n",
       "    </tr>\n",
       "    <tr>\n",
       "      <th>(200, 300)</th>\n",
       "      <th>(0, 1)</th>\n",
       "      <td>1</td>\n",
       "      <td>comb</td>\n",
       "      <td>1.0097+((-(2.89663e-06*(log(x+19)*(log(x+18)*(...</td>\n",
       "    </tr>\n",
       "    <tr>\n",
       "      <th>(300, 600)</th>\n",
       "      <th>(0, 1)</th>\n",
       "      <td>1</td>\n",
       "      <td>comb</td>\n",
       "      <td>1.0097+((-(2.89663e-06*(log(x+19)*(log(x+18)*(...</td>\n",
       "    </tr>\n",
       "    <tr>\n",
       "      <th>(600, 1000)</th>\n",
       "      <th>(0, 1)</th>\n",
       "      <td>1</td>\n",
       "      <td>comb</td>\n",
       "      <td>1.0097+((-(2.89663e-06*(log(x+19)*(log(x+18)*(...</td>\n",
       "    </tr>\n",
       "    <tr>\n",
       "      <th>2</th>\n",
       "      <th>(0.0, 2.5)</th>\n",
       "      <th>(20, 1000)</th>\n",
       "      <th>(0, 1)</th>\n",
       "      <td>1</td>\n",
       "      <td>incl</td>\n",
       "      <td>(1.59373+-0.00113028*x+8.66631e-07*x*x+-1.1050...</td>\n",
       "    </tr>\n",
       "    <tr>\n",
       "      <th>down_correlated</th>\n",
       "      <th>2</th>\n",
       "      <th>(0.0, 2.5)</th>\n",
       "      <th>(20, 1000)</th>\n",
       "      <th>(0, 1)</th>\n",
       "      <td>1</td>\n",
       "      <td>incl</td>\n",
       "      <td>(1.59373+-0.00113028*x+8.66631e-07*x*x+-1.1050...</td>\n",
       "    </tr>\n",
       "    <tr>\n",
       "      <th>down_uncorrelated</th>\n",
       "      <th>2</th>\n",
       "      <th>(0.0, 2.5)</th>\n",
       "      <th>(20, 1000)</th>\n",
       "      <th>(0, 1)</th>\n",
       "      <td>1</td>\n",
       "      <td>incl</td>\n",
       "      <td>(1.59373+-0.00113028*x+8.66631e-07*x*x+-1.1050...</td>\n",
       "    </tr>\n",
       "    <tr>\n",
       "      <th rowspan=\"19\" valign=\"top\">up</th>\n",
       "      <th rowspan=\"9\" valign=\"top\">0</th>\n",
       "      <th rowspan=\"9\" valign=\"top\">(-2.5, 2.5)</th>\n",
       "      <th>(20, 30)</th>\n",
       "      <th>(0, 1)</th>\n",
       "      <td>1</td>\n",
       "      <td>comb</td>\n",
       "      <td>(1.0097+(-(2.89663e-06*(log(x+19)*(log(x+18)*(...</td>\n",
       "    </tr>\n",
       "    <tr>\n",
       "      <th>(30, 50)</th>\n",
       "      <th>(0, 1)</th>\n",
       "      <td>1</td>\n",
       "      <td>comb</td>\n",
       "      <td>(1.0097+(-(2.89663e-06*(log(x+19)*(log(x+18)*(...</td>\n",
       "    </tr>\n",
       "    <tr>\n",
       "      <th>(50, 70)</th>\n",
       "      <th>(0, 1)</th>\n",
       "      <td>1</td>\n",
       "      <td>comb</td>\n",
       "      <td>(1.0097+(-(2.89663e-06*(log(x+19)*(log(x+18)*(...</td>\n",
       "    </tr>\n",
       "    <tr>\n",
       "      <th>(70, 100)</th>\n",
       "      <th>(0, 1)</th>\n",
       "      <td>1</td>\n",
       "      <td>comb</td>\n",
       "      <td>(1.0097+(-(2.89663e-06*(log(x+19)*(log(x+18)*(...</td>\n",
       "    </tr>\n",
       "    <tr>\n",
       "      <th>(100, 140)</th>\n",
       "      <th>(0, 1)</th>\n",
       "      <td>1</td>\n",
       "      <td>comb</td>\n",
       "      <td>(1.0097+(-(2.89663e-06*(log(x+19)*(log(x+18)*(...</td>\n",
       "    </tr>\n",
       "    <tr>\n",
       "      <th>(140, 200)</th>\n",
       "      <th>(0, 1)</th>\n",
       "      <td>1</td>\n",
       "      <td>comb</td>\n",
       "      <td>(1.0097+(-(2.89663e-06*(log(x+19)*(log(x+18)*(...</td>\n",
       "    </tr>\n",
       "    <tr>\n",
       "      <th>(200, 300)</th>\n",
       "      <th>(0, 1)</th>\n",
       "      <td>1</td>\n",
       "      <td>comb</td>\n",
       "      <td>(1.0097+(-(2.89663e-06*(log(x+19)*(log(x+18)*(...</td>\n",
       "    </tr>\n",
       "    <tr>\n",
       "      <th>(300, 600)</th>\n",
       "      <th>(0, 1)</th>\n",
       "      <td>1</td>\n",
       "      <td>comb</td>\n",
       "      <td>(1.0097+(-(2.89663e-06*(log(x+19)*(log(x+18)*(...</td>\n",
       "    </tr>\n",
       "    <tr>\n",
       "      <th>(600, 1000)</th>\n",
       "      <th>(0, 1)</th>\n",
       "      <td>1</td>\n",
       "      <td>comb</td>\n",
       "      <td>(1.0097+(-(2.89663e-06*(log(x+19)*(log(x+18)*(...</td>\n",
       "    </tr>\n",
       "    <tr>\n",
       "      <th rowspan=\"9\" valign=\"top\">1</th>\n",
       "      <th rowspan=\"9\" valign=\"top\">(-2.5, 2.5)</th>\n",
       "      <th>(20, 30)</th>\n",
       "      <th>(0, 1)</th>\n",
       "      <td>1</td>\n",
       "      <td>comb</td>\n",
       "      <td>(1.0097+(-(2.89663e-06*(log(x+19)*(log(x+18)*(...</td>\n",
       "    </tr>\n",
       "    <tr>\n",
       "      <th>(30, 50)</th>\n",
       "      <th>(0, 1)</th>\n",
       "      <td>1</td>\n",
       "      <td>comb</td>\n",
       "      <td>(1.0097+(-(2.89663e-06*(log(x+19)*(log(x+18)*(...</td>\n",
       "    </tr>\n",
       "    <tr>\n",
       "      <th>(50, 70)</th>\n",
       "      <th>(0, 1)</th>\n",
       "      <td>1</td>\n",
       "      <td>comb</td>\n",
       "      <td>(1.0097+(-(2.89663e-06*(log(x+19)*(log(x+18)*(...</td>\n",
       "    </tr>\n",
       "    <tr>\n",
       "      <th>(70, 100)</th>\n",
       "      <th>(0, 1)</th>\n",
       "      <td>1</td>\n",
       "      <td>comb</td>\n",
       "      <td>(1.0097+(-(2.89663e-06*(log(x+19)*(log(x+18)*(...</td>\n",
       "    </tr>\n",
       "    <tr>\n",
       "      <th>(100, 140)</th>\n",
       "      <th>(0, 1)</th>\n",
       "      <td>1</td>\n",
       "      <td>comb</td>\n",
       "      <td>(1.0097+(-(2.89663e-06*(log(x+19)*(log(x+18)*(...</td>\n",
       "    </tr>\n",
       "    <tr>\n",
       "      <th>(140, 200)</th>\n",
       "      <th>(0, 1)</th>\n",
       "      <td>1</td>\n",
       "      <td>comb</td>\n",
       "      <td>(1.0097+(-(2.89663e-06*(log(x+19)*(log(x+18)*(...</td>\n",
       "    </tr>\n",
       "    <tr>\n",
       "      <th>(200, 300)</th>\n",
       "      <th>(0, 1)</th>\n",
       "      <td>1</td>\n",
       "      <td>comb</td>\n",
       "      <td>(1.0097+(-(2.89663e-06*(log(x+19)*(log(x+18)*(...</td>\n",
       "    </tr>\n",
       "    <tr>\n",
       "      <th>(300, 600)</th>\n",
       "      <th>(0, 1)</th>\n",
       "      <td>1</td>\n",
       "      <td>comb</td>\n",
       "      <td>(1.0097+(-(2.89663e-06*(log(x+19)*(log(x+18)*(...</td>\n",
       "    </tr>\n",
       "    <tr>\n",
       "      <th>(600, 1000)</th>\n",
       "      <th>(0, 1)</th>\n",
       "      <td>1</td>\n",
       "      <td>comb</td>\n",
       "      <td>(1.0097+(-(2.89663e-06*(log(x+19)*(log(x+18)*(...</td>\n",
       "    </tr>\n",
       "    <tr>\n",
       "      <th>2</th>\n",
       "      <th>(0.0, 2.5)</th>\n",
       "      <th>(20, 1000)</th>\n",
       "      <th>(0, 1)</th>\n",
       "      <td>1</td>\n",
       "      <td>incl</td>\n",
       "      <td>(1.59373+-0.00113028*x+8.66631e-07*x*x+-1.1050...</td>\n",
       "    </tr>\n",
       "    <tr>\n",
       "      <th>up_correlated</th>\n",
       "      <th>2</th>\n",
       "      <th>(0.0, 2.5)</th>\n",
       "      <th>(20, 1000)</th>\n",
       "      <th>(0, 1)</th>\n",
       "      <td>1</td>\n",
       "      <td>incl</td>\n",
       "      <td>(1.59373+-0.00113028*x+8.66631e-07*x*x+-1.1050...</td>\n",
       "    </tr>\n",
       "    <tr>\n",
       "      <th>up_uncorrelated</th>\n",
       "      <th>2</th>\n",
       "      <th>(0.0, 2.5)</th>\n",
       "      <th>(20, 1000)</th>\n",
       "      <th>(0, 1)</th>\n",
       "      <td>1</td>\n",
       "      <td>incl</td>\n",
       "      <td>(1.59373+-0.00113028*x+8.66631e-07*x*x+-1.1050...</td>\n",
       "    </tr>\n",
       "  </tbody>\n",
       "</table>\n",
       "</div>"
      ],
      "text/plain": [
       "                                                              OperatingPoint  \\\n",
       "sysType           jetFlavor etaBin      ptBin       discrBin                   \n",
       "central           0         (-2.5, 2.5) (20, 1000)  (0, 1)                 1   \n",
       "                  1         (-2.5, 2.5) (20, 1000)  (0, 1)                 1   \n",
       "                  2         (0.0, 2.5)  (20, 1000)  (0, 1)                 1   \n",
       "down              0         (-2.5, 2.5) (20, 30)    (0, 1)                 1   \n",
       "                                        (30, 50)    (0, 1)                 1   \n",
       "                                        (50, 70)    (0, 1)                 1   \n",
       "                                        (70, 100)   (0, 1)                 1   \n",
       "                                        (100, 140)  (0, 1)                 1   \n",
       "                                        (140, 200)  (0, 1)                 1   \n",
       "                                        (200, 300)  (0, 1)                 1   \n",
       "                                        (300, 600)  (0, 1)                 1   \n",
       "                                        (600, 1000) (0, 1)                 1   \n",
       "                  1         (-2.5, 2.5) (20, 30)    (0, 1)                 1   \n",
       "                                        (30, 50)    (0, 1)                 1   \n",
       "                                        (50, 70)    (0, 1)                 1   \n",
       "                                        (70, 100)   (0, 1)                 1   \n",
       "                                        (100, 140)  (0, 1)                 1   \n",
       "                                        (140, 200)  (0, 1)                 1   \n",
       "                                        (200, 300)  (0, 1)                 1   \n",
       "                                        (300, 600)  (0, 1)                 1   \n",
       "                                        (600, 1000) (0, 1)                 1   \n",
       "                  2         (0.0, 2.5)  (20, 1000)  (0, 1)                 1   \n",
       "down_correlated   2         (0.0, 2.5)  (20, 1000)  (0, 1)                 1   \n",
       "down_uncorrelated 2         (0.0, 2.5)  (20, 1000)  (0, 1)                 1   \n",
       "up                0         (-2.5, 2.5) (20, 30)    (0, 1)                 1   \n",
       "                                        (30, 50)    (0, 1)                 1   \n",
       "                                        (50, 70)    (0, 1)                 1   \n",
       "                                        (70, 100)   (0, 1)                 1   \n",
       "                                        (100, 140)  (0, 1)                 1   \n",
       "                                        (140, 200)  (0, 1)                 1   \n",
       "                                        (200, 300)  (0, 1)                 1   \n",
       "                                        (300, 600)  (0, 1)                 1   \n",
       "                                        (600, 1000) (0, 1)                 1   \n",
       "                  1         (-2.5, 2.5) (20, 30)    (0, 1)                 1   \n",
       "                                        (30, 50)    (0, 1)                 1   \n",
       "                                        (50, 70)    (0, 1)                 1   \n",
       "                                        (70, 100)   (0, 1)                 1   \n",
       "                                        (100, 140)  (0, 1)                 1   \n",
       "                                        (140, 200)  (0, 1)                 1   \n",
       "                                        (200, 300)  (0, 1)                 1   \n",
       "                                        (300, 600)  (0, 1)                 1   \n",
       "                                        (600, 1000) (0, 1)                 1   \n",
       "                  2         (0.0, 2.5)  (20, 1000)  (0, 1)                 1   \n",
       "up_correlated     2         (0.0, 2.5)  (20, 1000)  (0, 1)                 1   \n",
       "up_uncorrelated   2         (0.0, 2.5)  (20, 1000)  (0, 1)                 1   \n",
       "\n",
       "                                                             measurementType  \\\n",
       "sysType           jetFlavor etaBin      ptBin       discrBin                   \n",
       "central           0         (-2.5, 2.5) (20, 1000)  (0, 1)              comb   \n",
       "                  1         (-2.5, 2.5) (20, 1000)  (0, 1)              comb   \n",
       "                  2         (0.0, 2.5)  (20, 1000)  (0, 1)              incl   \n",
       "down              0         (-2.5, 2.5) (20, 30)    (0, 1)              comb   \n",
       "                                        (30, 50)    (0, 1)              comb   \n",
       "                                        (50, 70)    (0, 1)              comb   \n",
       "                                        (70, 100)   (0, 1)              comb   \n",
       "                                        (100, 140)  (0, 1)              comb   \n",
       "                                        (140, 200)  (0, 1)              comb   \n",
       "                                        (200, 300)  (0, 1)              comb   \n",
       "                                        (300, 600)  (0, 1)              comb   \n",
       "                                        (600, 1000) (0, 1)              comb   \n",
       "                  1         (-2.5, 2.5) (20, 30)    (0, 1)              comb   \n",
       "                                        (30, 50)    (0, 1)              comb   \n",
       "                                        (50, 70)    (0, 1)              comb   \n",
       "                                        (70, 100)   (0, 1)              comb   \n",
       "                                        (100, 140)  (0, 1)              comb   \n",
       "                                        (140, 200)  (0, 1)              comb   \n",
       "                                        (200, 300)  (0, 1)              comb   \n",
       "                                        (300, 600)  (0, 1)              comb   \n",
       "                                        (600, 1000) (0, 1)              comb   \n",
       "                  2         (0.0, 2.5)  (20, 1000)  (0, 1)              incl   \n",
       "down_correlated   2         (0.0, 2.5)  (20, 1000)  (0, 1)              incl   \n",
       "down_uncorrelated 2         (0.0, 2.5)  (20, 1000)  (0, 1)              incl   \n",
       "up                0         (-2.5, 2.5) (20, 30)    (0, 1)              comb   \n",
       "                                        (30, 50)    (0, 1)              comb   \n",
       "                                        (50, 70)    (0, 1)              comb   \n",
       "                                        (70, 100)   (0, 1)              comb   \n",
       "                                        (100, 140)  (0, 1)              comb   \n",
       "                                        (140, 200)  (0, 1)              comb   \n",
       "                                        (200, 300)  (0, 1)              comb   \n",
       "                                        (300, 600)  (0, 1)              comb   \n",
       "                                        (600, 1000) (0, 1)              comb   \n",
       "                  1         (-2.5, 2.5) (20, 30)    (0, 1)              comb   \n",
       "                                        (30, 50)    (0, 1)              comb   \n",
       "                                        (50, 70)    (0, 1)              comb   \n",
       "                                        (70, 100)   (0, 1)              comb   \n",
       "                                        (100, 140)  (0, 1)              comb   \n",
       "                                        (140, 200)  (0, 1)              comb   \n",
       "                                        (200, 300)  (0, 1)              comb   \n",
       "                                        (300, 600)  (0, 1)              comb   \n",
       "                                        (600, 1000) (0, 1)              comb   \n",
       "                  2         (0.0, 2.5)  (20, 1000)  (0, 1)              incl   \n",
       "up_correlated     2         (0.0, 2.5)  (20, 1000)  (0, 1)              incl   \n",
       "up_uncorrelated   2         (0.0, 2.5)  (20, 1000)  (0, 1)              incl   \n",
       "\n",
       "                                                                                                        formula  \n",
       "sysType           jetFlavor etaBin      ptBin       discrBin                                                     \n",
       "central           0         (-2.5, 2.5) (20, 1000)  (0, 1)    1.0097+(-(2.89663e-06*(log(x+19)*(log(x+18)*(3...  \n",
       "                  1         (-2.5, 2.5) (20, 1000)  (0, 1)    1.0097+(-(2.89663e-06*(log(x+19)*(log(x+18)*(3...  \n",
       "                  2         (0.0, 2.5)  (20, 1000)  (0, 1)    1.59373+-0.00113028*x+8.66631e-07*x*x+-1.10505/x   \n",
       "down              0         (-2.5, 2.5) (20, 30)    (0, 1)    1.0097+((-(2.89663e-06*(log(x+19)*(log(x+18)*(...  \n",
       "                                        (30, 50)    (0, 1)    1.0097+((-(2.89663e-06*(log(x+19)*(log(x+18)*(...  \n",
       "                                        (50, 70)    (0, 1)    1.0097+((-(2.89663e-06*(log(x+19)*(log(x+18)*(...  \n",
       "                                        (70, 100)   (0, 1)    1.0097+((-(2.89663e-06*(log(x+19)*(log(x+18)*(...  \n",
       "                                        (100, 140)  (0, 1)    1.0097+((-(2.89663e-06*(log(x+19)*(log(x+18)*(...  \n",
       "                                        (140, 200)  (0, 1)    1.0097+((-(2.89663e-06*(log(x+19)*(log(x+18)*(...  \n",
       "                                        (200, 300)  (0, 1)    1.0097+((-(2.89663e-06*(log(x+19)*(log(x+18)*(...  \n",
       "                                        (300, 600)  (0, 1)    1.0097+((-(2.89663e-06*(log(x+19)*(log(x+18)*(...  \n",
       "                                        (600, 1000) (0, 1)    1.0097+((-(2.89663e-06*(log(x+19)*(log(x+18)*(...  \n",
       "                  1         (-2.5, 2.5) (20, 30)    (0, 1)    1.0097+((-(2.89663e-06*(log(x+19)*(log(x+18)*(...  \n",
       "                                        (30, 50)    (0, 1)    1.0097+((-(2.89663e-06*(log(x+19)*(log(x+18)*(...  \n",
       "                                        (50, 70)    (0, 1)    1.0097+((-(2.89663e-06*(log(x+19)*(log(x+18)*(...  \n",
       "                                        (70, 100)   (0, 1)    1.0097+((-(2.89663e-06*(log(x+19)*(log(x+18)*(...  \n",
       "                                        (100, 140)  (0, 1)    1.0097+((-(2.89663e-06*(log(x+19)*(log(x+18)*(...  \n",
       "                                        (140, 200)  (0, 1)    1.0097+((-(2.89663e-06*(log(x+19)*(log(x+18)*(...  \n",
       "                                        (200, 300)  (0, 1)    1.0097+((-(2.89663e-06*(log(x+19)*(log(x+18)*(...  \n",
       "                                        (300, 600)  (0, 1)    1.0097+((-(2.89663e-06*(log(x+19)*(log(x+18)*(...  \n",
       "                                        (600, 1000) (0, 1)    1.0097+((-(2.89663e-06*(log(x+19)*(log(x+18)*(...  \n",
       "                  2         (0.0, 2.5)  (20, 1000)  (0, 1)    (1.59373+-0.00113028*x+8.66631e-07*x*x+-1.1050...  \n",
       "down_correlated   2         (0.0, 2.5)  (20, 1000)  (0, 1)    (1.59373+-0.00113028*x+8.66631e-07*x*x+-1.1050...  \n",
       "down_uncorrelated 2         (0.0, 2.5)  (20, 1000)  (0, 1)    (1.59373+-0.00113028*x+8.66631e-07*x*x+-1.1050...  \n",
       "up                0         (-2.5, 2.5) (20, 30)    (0, 1)    (1.0097+(-(2.89663e-06*(log(x+19)*(log(x+18)*(...  \n",
       "                                        (30, 50)    (0, 1)    (1.0097+(-(2.89663e-06*(log(x+19)*(log(x+18)*(...  \n",
       "                                        (50, 70)    (0, 1)    (1.0097+(-(2.89663e-06*(log(x+19)*(log(x+18)*(...  \n",
       "                                        (70, 100)   (0, 1)    (1.0097+(-(2.89663e-06*(log(x+19)*(log(x+18)*(...  \n",
       "                                        (100, 140)  (0, 1)    (1.0097+(-(2.89663e-06*(log(x+19)*(log(x+18)*(...  \n",
       "                                        (140, 200)  (0, 1)    (1.0097+(-(2.89663e-06*(log(x+19)*(log(x+18)*(...  \n",
       "                                        (200, 300)  (0, 1)    (1.0097+(-(2.89663e-06*(log(x+19)*(log(x+18)*(...  \n",
       "                                        (300, 600)  (0, 1)    (1.0097+(-(2.89663e-06*(log(x+19)*(log(x+18)*(...  \n",
       "                                        (600, 1000) (0, 1)    (1.0097+(-(2.89663e-06*(log(x+19)*(log(x+18)*(...  \n",
       "                  1         (-2.5, 2.5) (20, 30)    (0, 1)    (1.0097+(-(2.89663e-06*(log(x+19)*(log(x+18)*(...  \n",
       "                                        (30, 50)    (0, 1)    (1.0097+(-(2.89663e-06*(log(x+19)*(log(x+18)*(...  \n",
       "                                        (50, 70)    (0, 1)    (1.0097+(-(2.89663e-06*(log(x+19)*(log(x+18)*(...  \n",
       "                                        (70, 100)   (0, 1)    (1.0097+(-(2.89663e-06*(log(x+19)*(log(x+18)*(...  \n",
       "                                        (100, 140)  (0, 1)    (1.0097+(-(2.89663e-06*(log(x+19)*(log(x+18)*(...  \n",
       "                                        (140, 200)  (0, 1)    (1.0097+(-(2.89663e-06*(log(x+19)*(log(x+18)*(...  \n",
       "                                        (200, 300)  (0, 1)    (1.0097+(-(2.89663e-06*(log(x+19)*(log(x+18)*(...  \n",
       "                                        (300, 600)  (0, 1)    (1.0097+(-(2.89663e-06*(log(x+19)*(log(x+18)*(...  \n",
       "                                        (600, 1000) (0, 1)    (1.0097+(-(2.89663e-06*(log(x+19)*(log(x+18)*(...  \n",
       "                  2         (0.0, 2.5)  (20, 1000)  (0, 1)    (1.59373+-0.00113028*x+8.66631e-07*x*x+-1.1050...  \n",
       "up_correlated     2         (0.0, 2.5)  (20, 1000)  (0, 1)    (1.59373+-0.00113028*x+8.66631e-07*x*x+-1.1050...  \n",
       "up_uncorrelated   2         (0.0, 2.5)  (20, 1000)  (0, 1)    (1.59373+-0.00113028*x+8.66631e-07*x*x+-1.1050...  "
      ]
     },
     "execution_count": 7,
     "metadata": {},
     "output_type": "execute_result"
    }
   ],
   "source": [
    "df = btag_sf.df\n",
    "df"
   ]
  },
  {
   "cell_type": "code",
   "execution_count": 16,
   "metadata": {},
   "outputs": [],
   "source": [
    "# load some jets\n",
    "from Tools.basic_objects import *\n",
    "\n",
    "from coffea.nanoevents import NanoEventsFactory, NanoAODSchema\n",
    "\n",
    "# the below command will change to .from_root in coffea v0.7.0\n",
    "events = NanoEventsFactory.from_root('/hadoop/cms/store/user/dspitzba/tW_scattering/tW_scattering/nanoAOD/tW_scattering_nanoAOD_123.root', schemaclass=NanoAODSchema).events()\n",
    "\n",
    "jet       = getJets(events, minPt=25, maxEta=2.5)\n",
    "\n",
    "# should have those seperately\n",
    "tagged = getBTagsDeepFlavB(jet, year=2018, invert=False)\n",
    "untagged = getBTagsDeepFlavB(jet, year=2018, invert=True)\n"
   ]
  },
  {
   "cell_type": "code",
   "execution_count": 19,
   "metadata": {},
   "outputs": [],
   "source": [
    "from Tools.btag_scalefactors import *\n",
    "btagSF = btag_scalefactor(2017, UL=True)"
   ]
  },
  {
   "cell_type": "code",
   "execution_count": 20,
   "metadata": {},
   "outputs": [
    {
     "data": {
      "text/plain": [
       "<Array [0.952, 0.932, 0.887, ... 0.896, 1.1] type='1000 * float64'>"
      ]
     },
     "execution_count": 20,
     "metadata": {},
     "output_type": "execute_result"
    }
   ],
   "source": [
    "btagSF.Method1a(tagged, untagged)"
   ]
  },
  {
   "cell_type": "code",
   "execution_count": 12,
   "metadata": {},
   "outputs": [
    {
     "data": {
      "text/plain": [
       "<Array [[30, 20], [15, 25, 30], [100]] type='3 * var * int64'>"
      ]
     },
     "execution_count": 12,
     "metadata": {},
     "output_type": "execute_result"
    }
   ],
   "source": [
    "test_array = ak.Array([[30,20], [15,25,30],[100]])\n",
    "test_array"
   ]
  },
  {
   "cell_type": "code",
   "execution_count": 14,
   "metadata": {},
   "outputs": [
    {
     "data": {
      "text/plain": [
       "<Array [[0.786, 0.738], ... 0.786], [0.839]] type='3 * var * float64'>"
      ]
     },
     "execution_count": 14,
     "metadata": {},
     "output_type": "execute_result"
    }
   ],
   "source": [
    "effs = ak.unflatten(effs['b'].lookup(ak.to_numpy(ak.flatten(test_array))), ak.num(test_array))\n",
    "effs"
   ]
  },
  {
   "cell_type": "code",
   "execution_count": 68,
   "metadata": {},
   "outputs": [],
   "source": [
    "def doAwkwardLookup(h, ar):\n",
    "    '''\n",
    "    takes a ya_hist histogram (which has a lookup function) and an awkward array.\n",
    "    '''\n",
    "    return ak.unflatten(\n",
    "        h.lookup(\n",
    "            ak.to_numpy(\n",
    "                ak.flatten(ar)\n",
    "            ) \n",
    "        ), ak.num(ar) )"
   ]
  },
  {
   "cell_type": "code",
   "execution_count": 69,
   "metadata": {},
   "outputs": [
    {
     "data": {
      "text/plain": [
       "<Array [[0.854, 0.854, ... 0.786, 0.786]] type='1000 * var * float64'>"
      ]
     },
     "execution_count": 69,
     "metadata": {},
     "output_type": "execute_result"
    }
   ],
   "source": [
    "effs = doAwkwardLookup(b_eff_deepJet, jet.pt)\n",
    "effs"
   ]
  },
  {
   "cell_type": "code",
   "execution_count": 75,
   "metadata": {},
   "outputs": [],
   "source": [
    "effs_b = doAwkwardLookup(b_eff_deepJet, jet_had_b.pt)\n",
    "effs_c = doAwkwardLookup(c_eff_deepJet, jet_had_c.pt)\n",
    "effs_udsg = doAwkwardLookup(light_eff_deepJet, jet_had_udsg.pt)"
   ]
  },
  {
   "cell_type": "code",
   "execution_count": 78,
   "metadata": {},
   "outputs": [
    {
     "data": {
      "text/plain": [
       "<Array [[0.0228, 0.0228, ... 0.786, 0.173]] type='1000 * var * float64'>"
      ]
     },
     "execution_count": 78,
     "metadata": {},
     "output_type": "execute_result"
    }
   ],
   "source": [
    "effs_b = doAwkwardLookup(b_eff_deepJet, jet.pt)*(jet.hadronFlavour==5)\n",
    "effs_c = doAwkwardLookup(c_eff_deepJet, jet.pt)*(jet.hadronFlavour==4)\n",
    "effs_light = doAwkwardLookup(light_eff_deepJet, jet.pt)*(jet.hadronFlavour==0)\n",
    "(effs_b + effs_c + effs_light)"
   ]
  },
  {
   "cell_type": "code",
   "execution_count": 70,
   "metadata": {},
   "outputs": [
    {
     "data": {
      "text/plain": [
       "<Array [[1.1, 1.13, 0.813, ... 0.776, 0.778]] type='1000 * var * float64'>"
      ]
     },
     "execution_count": 70,
     "metadata": {},
     "output_type": "execute_result"
    }
   ],
   "source": [
    "sfs * effs"
   ]
  },
  {
   "cell_type": "code",
   "execution_count": 83,
   "metadata": {},
   "outputs": [],
   "source": [
    "def Method1a(tagged, untagged, effs, btag_sf):\n",
    "    '''\n",
    "    tagged: jet collection of tagged jets\n",
    "    untagged: jet collection untagged jets\n",
    "    effs: dictionary of the tagging efficiencies (1D yahist objects)\n",
    "    btag_sf: coffea b-tag SF object\n",
    "    '''\n",
    "    tagged_b = doAwkwardLookup(effs['b'], tagged.pt)*(tagged.hadronFlavour==5)\n",
    "    tagged_c = doAwkwardLookup(effs['c'], tagged.pt)*(tagged.hadronFlavour==4)\n",
    "    tagged_light = doAwkwardLookup(effs['light'], tagged.pt)*(tagged.hadronFlavour==0)\n",
    "    \n",
    "    tagged_SFs = btag_sf.eval('central', tagged.hadronFlavour, abs(tagged.eta), tagged.pt )\n",
    "    \n",
    "    untagged_b = doAwkwardLookup(effs['b'], untagged.pt)*(untagged.hadronFlavour==5)\n",
    "    untagged_c = doAwkwardLookup(effs['c'], untagged.pt)*(untagged.hadronFlavour==4)\n",
    "    untagged_light = doAwkwardLookup(effs['light'], untagged.pt)*(untagged.hadronFlavour==0)\n",
    "    \n",
    "    untagged_SFs = btag_sf.eval('central', untagged.hadronFlavour, abs(untagged.eta), untagged.pt )\n",
    "    \n",
    "    tagged_all = (tagged_b+tagged_c+tagged_light)\n",
    "    untagged_all = (untagged_b+untagged_c+untagged_light)\n",
    "    \n",
    "    num = ak.prod(tagged_all, axis=1) * ak.prod((1-untagged_all), axis=1)\n",
    "    denom = ak.prod(tagged_all*tagged_SFs, axis=1) * ak.prod((1-untagged_all*untagged_SFs), axis=1)\n",
    "    return num/denom"
   ]
  },
  {
   "cell_type": "code",
   "execution_count": 85,
   "metadata": {},
   "outputs": [
    {
     "data": {
      "text/plain": [
       "<Array [1.1, 1.18, 1.18, ... 1.13, 0.943] type='1000 * float64'>"
      ]
     },
     "execution_count": 85,
     "metadata": {},
     "output_type": "execute_result"
    }
   ],
   "source": [
    "effs = {'b': b_eff_deepJet, 'c': c_eff_deepJet, 'light': light_eff_deepJet}\n",
    "btag_weight = Method1a(tagged, untagged, effs, btag_sf)\n",
    "btag_weight"
   ]
  },
  {
   "cell_type": "code",
   "execution_count": 87,
   "metadata": {},
   "outputs": [
    {
     "data": {
      "text/plain": [
       "<Array [2, 2, 3, 1, 2, 1, ... 2, 0, 1, 1, 2, 1] type='1000 * int64'>"
      ]
     },
     "execution_count": 87,
     "metadata": {},
     "output_type": "execute_result"
    }
   ],
   "source": [
    "ak.num(tagged)"
   ]
  },
  {
   "cell_type": "code",
   "execution_count": 89,
   "metadata": {},
   "outputs": [
    {
     "data": {
      "text/plain": [
       "1.0470282816477854"
      ]
     },
     "execution_count": 89,
     "metadata": {},
     "output_type": "execute_result"
    }
   ],
   "source": [
    "ak.sum(btag_weight)/1000"
   ]
  },
  {
   "cell_type": "code",
   "execution_count": null,
   "metadata": {},
   "outputs": [],
   "source": [
    "## This is the final outcome\n",
    "\n",
    "from Tools.btag_scalefactors import *\n",
    "\n",
    "btag = btag_scalefactor(2018)\n",
    "\n",
    "weight = btag.Method1a(tagged, untagged)\n",
    "weight"
   ]
  },
  {
   "cell_type": "code",
   "execution_count": 208,
   "metadata": {},
   "outputs": [
    {
     "data": {
      "text/html": [
       "<div>\n",
       "<style scoped>\n",
       "    .dataframe tbody tr th:only-of-type {\n",
       "        vertical-align: middle;\n",
       "    }\n",
       "\n",
       "    .dataframe tbody tr th {\n",
       "        vertical-align: top;\n",
       "    }\n",
       "\n",
       "    .dataframe thead th {\n",
       "        text-align: right;\n",
       "    }\n",
       "</style>\n",
       "<table border=\"1\" class=\"dataframe\">\n",
       "  <thead>\n",
       "    <tr style=\"text-align: right;\">\n",
       "      <th></th>\n",
       "      <th>OperatingPoint</th>\n",
       "      <th>measurementType</th>\n",
       "      <th>sysType</th>\n",
       "      <th>jetFlavor</th>\n",
       "      <th>etaMin</th>\n",
       "      <th>etaMax</th>\n",
       "      <th>ptMin</th>\n",
       "      <th>ptMax</th>\n",
       "      <th>discrMin</th>\n",
       "      <th>discrMax</th>\n",
       "      <th>formula</th>\n",
       "    </tr>\n",
       "  </thead>\n",
       "  <tbody>\n",
       "    <tr>\n",
       "      <th>0</th>\n",
       "      <td>0</td>\n",
       "      <td>comb</td>\n",
       "      <td>central</td>\n",
       "      <td>1</td>\n",
       "      <td>-2.5</td>\n",
       "      <td>2.5</td>\n",
       "      <td>20</td>\n",
       "      <td>1000</td>\n",
       "      <td>0</td>\n",
       "      <td>1</td>\n",
       "      <td>\"0.873139+(0.00420739*(log(x+19)*(log(x+18)*(...</td>\n",
       "    </tr>\n",
       "    <tr>\n",
       "      <th>1</th>\n",
       "      <td>0</td>\n",
       "      <td>comb</td>\n",
       "      <td>central</td>\n",
       "      <td>0</td>\n",
       "      <td>-2.5</td>\n",
       "      <td>2.5</td>\n",
       "      <td>20</td>\n",
       "      <td>1000</td>\n",
       "      <td>0</td>\n",
       "      <td>1</td>\n",
       "      <td>\"0.873139+(0.00420739*(log(x+19)*(log(x+18)*(...</td>\n",
       "    </tr>\n",
       "    <tr>\n",
       "      <th>2</th>\n",
       "      <td>0</td>\n",
       "      <td>comb</td>\n",
       "      <td>down</td>\n",
       "      <td>1</td>\n",
       "      <td>-2.5</td>\n",
       "      <td>2.5</td>\n",
       "      <td>20</td>\n",
       "      <td>30</td>\n",
       "      <td>0</td>\n",
       "      <td>1</td>\n",
       "      <td>\"0.873139+((0.00420739*(log(x+19)*(log(x+18)*...</td>\n",
       "    </tr>\n",
       "    <tr>\n",
       "      <th>3</th>\n",
       "      <td>0</td>\n",
       "      <td>comb</td>\n",
       "      <td>down</td>\n",
       "      <td>1</td>\n",
       "      <td>-2.5</td>\n",
       "      <td>2.5</td>\n",
       "      <td>30</td>\n",
       "      <td>50</td>\n",
       "      <td>0</td>\n",
       "      <td>1</td>\n",
       "      <td>\"0.873139+((0.00420739*(log(x+19)*(log(x+18)*...</td>\n",
       "    </tr>\n",
       "    <tr>\n",
       "      <th>4</th>\n",
       "      <td>0</td>\n",
       "      <td>comb</td>\n",
       "      <td>down</td>\n",
       "      <td>1</td>\n",
       "      <td>-2.5</td>\n",
       "      <td>2.5</td>\n",
       "      <td>50</td>\n",
       "      <td>70</td>\n",
       "      <td>0</td>\n",
       "      <td>1</td>\n",
       "      <td>\"0.873139+((0.00420739*(log(x+19)*(log(x+18)*...</td>\n",
       "    </tr>\n",
       "    <tr>\n",
       "      <th>...</th>\n",
       "      <td>...</td>\n",
       "      <td>...</td>\n",
       "      <td>...</td>\n",
       "      <td>...</td>\n",
       "      <td>...</td>\n",
       "      <td>...</td>\n",
       "      <td>...</td>\n",
       "      <td>...</td>\n",
       "      <td>...</td>\n",
       "      <td>...</td>\n",
       "      <td>...</td>\n",
       "    </tr>\n",
       "    <tr>\n",
       "      <th>244</th>\n",
       "      <td>2</td>\n",
       "      <td>incl</td>\n",
       "      <td>down_correlated</td>\n",
       "      <td>2</td>\n",
       "      <td>0.0</td>\n",
       "      <td>2.5</td>\n",
       "      <td>20</td>\n",
       "      <td>1000</td>\n",
       "      <td>0</td>\n",
       "      <td>1</td>\n",
       "      <td>\"(1.77088+-0.00371551*x+5.86489e-06*x*x+-3.01...</td>\n",
       "    </tr>\n",
       "    <tr>\n",
       "      <th>245</th>\n",
       "      <td>2</td>\n",
       "      <td>incl</td>\n",
       "      <td>down_uncorrelated</td>\n",
       "      <td>2</td>\n",
       "      <td>0.0</td>\n",
       "      <td>2.5</td>\n",
       "      <td>20</td>\n",
       "      <td>1000</td>\n",
       "      <td>0</td>\n",
       "      <td>1</td>\n",
       "      <td>\"(1.77088+-0.00371551*x+5.86489e-06*x*x+-3.01...</td>\n",
       "    </tr>\n",
       "    <tr>\n",
       "      <th>246</th>\n",
       "      <td>2</td>\n",
       "      <td>incl</td>\n",
       "      <td>up</td>\n",
       "      <td>2</td>\n",
       "      <td>0.0</td>\n",
       "      <td>2.5</td>\n",
       "      <td>20</td>\n",
       "      <td>1000</td>\n",
       "      <td>0</td>\n",
       "      <td>1</td>\n",
       "      <td>\"(1.77088+-0.00371551*x+5.86489e-06*x*x+-3.01...</td>\n",
       "    </tr>\n",
       "    <tr>\n",
       "      <th>247</th>\n",
       "      <td>2</td>\n",
       "      <td>incl</td>\n",
       "      <td>up_correlated</td>\n",
       "      <td>2</td>\n",
       "      <td>0.0</td>\n",
       "      <td>2.5</td>\n",
       "      <td>20</td>\n",
       "      <td>1000</td>\n",
       "      <td>0</td>\n",
       "      <td>1</td>\n",
       "      <td>\"(1.77088+-0.00371551*x+5.86489e-06*x*x+-3.01...</td>\n",
       "    </tr>\n",
       "    <tr>\n",
       "      <th>248</th>\n",
       "      <td>2</td>\n",
       "      <td>incl</td>\n",
       "      <td>up_uncorrelated</td>\n",
       "      <td>2</td>\n",
       "      <td>0.0</td>\n",
       "      <td>2.5</td>\n",
       "      <td>20</td>\n",
       "      <td>1000</td>\n",
       "      <td>0</td>\n",
       "      <td>1</td>\n",
       "      <td>\"(1.77088+-0.00371551*x+5.86489e-06*x*x+-3.01...</td>\n",
       "    </tr>\n",
       "  </tbody>\n",
       "</table>\n",
       "<p>249 rows × 11 columns</p>\n",
       "</div>"
      ],
      "text/plain": [
       "     OperatingPoint  measurementType             sysType   jetFlavor   etaMin  \\\n",
       "0                 0             comb             central           1     -2.5   \n",
       "1                 0             comb             central           0     -2.5   \n",
       "2                 0             comb                down           1     -2.5   \n",
       "3                 0             comb                down           1     -2.5   \n",
       "4                 0             comb                down           1     -2.5   \n",
       "..              ...              ...                 ...         ...      ...   \n",
       "244               2             incl     down_correlated           2      0.0   \n",
       "245               2             incl   down_uncorrelated           2      0.0   \n",
       "246               2             incl                  up           2      0.0   \n",
       "247               2             incl       up_correlated           2      0.0   \n",
       "248               2             incl     up_uncorrelated           2      0.0   \n",
       "\n",
       "      etaMax   ptMin   ptMax   discrMin   discrMax  \\\n",
       "0        2.5      20    1000          0          1   \n",
       "1        2.5      20    1000          0          1   \n",
       "2        2.5      20      30          0          1   \n",
       "3        2.5      30      50          0          1   \n",
       "4        2.5      50      70          0          1   \n",
       "..       ...     ...     ...        ...        ...   \n",
       "244      2.5      20    1000          0          1   \n",
       "245      2.5      20    1000          0          1   \n",
       "246      2.5      20    1000          0          1   \n",
       "247      2.5      20    1000          0          1   \n",
       "248      2.5      20    1000          0          1   \n",
       "\n",
       "                                              formula   \n",
       "0     \"0.873139+(0.00420739*(log(x+19)*(log(x+18)*(...  \n",
       "1     \"0.873139+(0.00420739*(log(x+19)*(log(x+18)*(...  \n",
       "2     \"0.873139+((0.00420739*(log(x+19)*(log(x+18)*...  \n",
       "3     \"0.873139+((0.00420739*(log(x+19)*(log(x+18)*...  \n",
       "4     \"0.873139+((0.00420739*(log(x+19)*(log(x+18)*...  \n",
       "..                                                 ...  \n",
       "244   \"(1.77088+-0.00371551*x+5.86489e-06*x*x+-3.01...  \n",
       "245   \"(1.77088+-0.00371551*x+5.86489e-06*x*x+-3.01...  \n",
       "246   \"(1.77088+-0.00371551*x+5.86489e-06*x*x+-3.01...  \n",
       "247   \"(1.77088+-0.00371551*x+5.86489e-06*x*x+-3.01...  \n",
       "248   \"(1.77088+-0.00371551*x+5.86489e-06*x*x+-3.01...  \n",
       "\n",
       "[249 rows x 11 columns]"
      ]
     },
     "execution_count": 208,
     "metadata": {},
     "output_type": "execute_result"
    }
   ],
   "source": [
    "import pandas as pd\n",
    "sf_df = pd.read_csv(SF_file)\n",
    "sf_df"
   ]
  },
  {
   "cell_type": "code",
   "execution_count": 211,
   "metadata": {},
   "outputs": [
    {
     "data": {
      "text/html": [
       "<div>\n",
       "<style scoped>\n",
       "    .dataframe tbody tr th:only-of-type {\n",
       "        vertical-align: middle;\n",
       "    }\n",
       "\n",
       "    .dataframe tbody tr th {\n",
       "        vertical-align: top;\n",
       "    }\n",
       "\n",
       "    .dataframe thead th {\n",
       "        text-align: right;\n",
       "    }\n",
       "</style>\n",
       "<table border=\"1\" class=\"dataframe\">\n",
       "  <thead>\n",
       "    <tr style=\"text-align: right;\">\n",
       "      <th></th>\n",
       "      <th>formula</th>\n",
       "    </tr>\n",
       "  </thead>\n",
       "  <tbody>\n",
       "    <tr>\n",
       "      <th>0</th>\n",
       "      <td>\"0.873139+(0.00420739*(log(x+19)*(log(x+18)*(...</td>\n",
       "    </tr>\n",
       "    <tr>\n",
       "      <th>1</th>\n",
       "      <td>\"0.873139+(0.00420739*(log(x+19)*(log(x+18)*(...</td>\n",
       "    </tr>\n",
       "    <tr>\n",
       "      <th>2</th>\n",
       "      <td>\"0.873139+((0.00420739*(log(x+19)*(log(x+18)*...</td>\n",
       "    </tr>\n",
       "    <tr>\n",
       "      <th>3</th>\n",
       "      <td>\"0.873139+((0.00420739*(log(x+19)*(log(x+18)*...</td>\n",
       "    </tr>\n",
       "    <tr>\n",
       "      <th>4</th>\n",
       "      <td>\"0.873139+((0.00420739*(log(x+19)*(log(x+18)*...</td>\n",
       "    </tr>\n",
       "    <tr>\n",
       "      <th>...</th>\n",
       "      <td>...</td>\n",
       "    </tr>\n",
       "    <tr>\n",
       "      <th>244</th>\n",
       "      <td>\"(1.77088+-0.00371551*x+5.86489e-06*x*x+-3.01...</td>\n",
       "    </tr>\n",
       "    <tr>\n",
       "      <th>245</th>\n",
       "      <td>\"(1.77088+-0.00371551*x+5.86489e-06*x*x+-3.01...</td>\n",
       "    </tr>\n",
       "    <tr>\n",
       "      <th>246</th>\n",
       "      <td>\"(1.77088+-0.00371551*x+5.86489e-06*x*x+-3.01...</td>\n",
       "    </tr>\n",
       "    <tr>\n",
       "      <th>247</th>\n",
       "      <td>\"(1.77088+-0.00371551*x+5.86489e-06*x*x+-3.01...</td>\n",
       "    </tr>\n",
       "    <tr>\n",
       "      <th>248</th>\n",
       "      <td>\"(1.77088+-0.00371551*x+5.86489e-06*x*x+-3.01...</td>\n",
       "    </tr>\n",
       "  </tbody>\n",
       "</table>\n",
       "<p>249 rows × 1 columns</p>\n",
       "</div>"
      ],
      "text/plain": [
       "                                              formula \n",
       "0     \"0.873139+(0.00420739*(log(x+19)*(log(x+18)*(...\n",
       "1     \"0.873139+(0.00420739*(log(x+19)*(log(x+18)*(...\n",
       "2     \"0.873139+((0.00420739*(log(x+19)*(log(x+18)*...\n",
       "3     \"0.873139+((0.00420739*(log(x+19)*(log(x+18)*...\n",
       "4     \"0.873139+((0.00420739*(log(x+19)*(log(x+18)*...\n",
       "..                                                 ...\n",
       "244   \"(1.77088+-0.00371551*x+5.86489e-06*x*x+-3.01...\n",
       "245   \"(1.77088+-0.00371551*x+5.86489e-06*x*x+-3.01...\n",
       "246   \"(1.77088+-0.00371551*x+5.86489e-06*x*x+-3.01...\n",
       "247   \"(1.77088+-0.00371551*x+5.86489e-06*x*x+-3.01...\n",
       "248   \"(1.77088+-0.00371551*x+5.86489e-06*x*x+-3.01...\n",
       "\n",
       "[249 rows x 1 columns]"
      ]
     },
     "execution_count": 211,
     "metadata": {},
     "output_type": "execute_result"
    }
   ],
   "source": [
    "formulae = sf_df[[' formula ']]\n",
    "formulae"
   ]
  },
  {
   "cell_type": "code",
   "execution_count": 221,
   "metadata": {},
   "outputs": [
    {
     "data": {
      "text/plain": [
       "' \"0.873139+(0.00420739*(log(x+19)*(log(x+18)*(3-(0.380932*log(x+18))))))\" '"
      ]
     },
     "execution_count": 221,
     "metadata": {},
     "output_type": "execute_result"
    }
   ],
   "source": [
    "formula = formulae.to_numpy()[0][0]\n",
    "formula"
   ]
  },
  {
   "cell_type": "code",
   "execution_count": 230,
   "metadata": {},
   "outputs": [
    {
     "data": {
      "text/plain": [
       "'0.873139+(0.00420739*(log(x+19)*(log(x+18)*(3-(0.380932*log(x+18))))))'"
      ]
     },
     "execution_count": 230,
     "metadata": {},
     "output_type": "execute_result"
    }
   ],
   "source": [
    "eval(formula)"
   ]
  },
  {
   "cell_type": "code",
   "execution_count": 231,
   "metadata": {},
   "outputs": [],
   "source": [
    "feval = eval(\n",
    "                        \"lambda x: \" + eval(formula), {\"log\": np.log, \"sqrt\": np.sqrt}\n",
    "                    )"
   ]
  },
  {
   "cell_type": "code",
   "execution_count": 236,
   "metadata": {},
   "outputs": [
    {
     "data": {
      "text/plain": [
       "0.9636541095209529"
      ]
     },
     "execution_count": 236,
     "metadata": {},
     "output_type": "execute_result"
    }
   ],
   "source": [
    "feval(20)"
   ]
  },
  {
   "cell_type": "code",
   "execution_count": 233,
   "metadata": {},
   "outputs": [],
   "source": [
    "import numba"
   ]
  },
  {
   "cell_type": "code",
   "execution_count": 234,
   "metadata": {},
   "outputs": [],
   "source": [
    "out = numba.jit()(feval)"
   ]
  },
  {
   "cell_type": "code",
   "execution_count": 235,
   "metadata": {},
   "outputs": [
    {
     "data": {
      "text/plain": [
       "0.9548417381747321"
      ]
     },
     "execution_count": 235,
     "metadata": {},
     "output_type": "execute_result"
    }
   ],
   "source": [
    "out(10)"
   ]
  },
  {
   "cell_type": "markdown",
   "metadata": {},
   "source": [
    "# Read the b-tag efficiencies with common coffea tools\n",
    "\n",
    "Retired this idea..."
   ]
  },
  {
   "cell_type": "code",
   "execution_count": 32,
   "metadata": {},
   "outputs": [],
   "source": [
    "ext = extractor()"
   ]
  },
  {
   "cell_type": "code",
   "execution_count": 33,
   "metadata": {},
   "outputs": [
    {
     "ename": "Exception",
     "evalue": "\"test test2.json\" not formatted as \"<local name> <name> <weights file>\"",
     "output_type": "error",
     "traceback": [
      "\u001b[0;31m---------------------------------------------------------------------------\u001b[0m",
      "\u001b[0;31mException\u001b[0m                                 Traceback (most recent call last)",
      "\u001b[0;32m<ipython-input-33-60afd65c18f5>\u001b[0m in \u001b[0;36m<module>\u001b[0;34m\u001b[0m\n\u001b[0;32m----> 1\u001b[0;31m \u001b[0mext\u001b[0m\u001b[0;34m.\u001b[0m\u001b[0madd_weight_sets\u001b[0m\u001b[0;34m(\u001b[0m\u001b[0;34m[\u001b[0m\u001b[0;34m\"test test2.json\"\u001b[0m\u001b[0;34m]\u001b[0m\u001b[0;34m)\u001b[0m\u001b[0;34m\u001b[0m\u001b[0;34m\u001b[0m\u001b[0m\n\u001b[0m",
      "\u001b[0;32m~/miniconda3/envs/coffeadev/lib/python3.8/site-packages/coffea/lookup_tools/extractor.py\u001b[0m in \u001b[0;36madd_weight_sets\u001b[0;34m(self, weightsdescs)\u001b[0m\n\u001b[1;32m     80\u001b[0m             \u001b[0mtemp\u001b[0m \u001b[0;34m=\u001b[0m \u001b[0mweightdesc\u001b[0m\u001b[0;34m.\u001b[0m\u001b[0mstrip\u001b[0m\u001b[0;34m(\u001b[0m\u001b[0;34m)\u001b[0m\u001b[0;34m.\u001b[0m\u001b[0msplit\u001b[0m\u001b[0;34m(\u001b[0m\u001b[0;34m\" \"\u001b[0m\u001b[0;34m)\u001b[0m\u001b[0;34m\u001b[0m\u001b[0;34m\u001b[0m\u001b[0m\n\u001b[1;32m     81\u001b[0m             \u001b[0;32mif\u001b[0m \u001b[0mlen\u001b[0m\u001b[0;34m(\u001b[0m\u001b[0mtemp\u001b[0m\u001b[0;34m)\u001b[0m \u001b[0;34m!=\u001b[0m \u001b[0;36m3\u001b[0m\u001b[0;34m:\u001b[0m\u001b[0;34m\u001b[0m\u001b[0;34m\u001b[0m\u001b[0m\n\u001b[0;32m---> 82\u001b[0;31m                 raise Exception(\n\u001b[0m\u001b[1;32m     83\u001b[0m                     '\"{}\" not formatted as \"<local name> <name> <weights file>\"'.format(\n\u001b[1;32m     84\u001b[0m                         \u001b[0mweightdesc\u001b[0m\u001b[0;34m\u001b[0m\u001b[0;34m\u001b[0m\u001b[0m\n",
      "\u001b[0;31mException\u001b[0m: \"test test2.json\" not formatted as \"<local name> <name> <weights file>\""
     ]
    }
   ],
   "source": [
    "ext.add_weight_sets([\"test test2.json\"])"
   ]
  },
  {
   "cell_type": "code",
   "execution_count": 34,
   "metadata": {},
   "outputs": [
    {
     "data": {
      "text/plain": [
       "'\\n{\\n        \"EIDISO_WH\" : {\\n                \"eta_pt_ratio\" : {\\n                        \"eta:[ 0.00, 0.80]\":{\\n                                \"pt:[25.00,27.00]\":{\\n                                        \"value\":0.903,\\n                                        \"error\":0.051\\n                                },\\n                                \"pt:[27.00,30.00]\":{\\n                                        \"value\":0.921,\\n'"
      ]
     },
     "execution_count": 34,
     "metadata": {},
     "output_type": "execute_result"
    }
   ],
   "source": [
    "'''\n",
    "{\n",
    "        \"EIDISO_WH\" : {\n",
    "                \"eta_pt_ratio\" : {\n",
    "                        \"eta:[ 0.00, 0.80]\":{\n",
    "                                \"pt:[25.00,27.00]\":{\n",
    "                                        \"value\":0.903,\n",
    "                                        \"error\":0.051\n",
    "                                },\n",
    "                                \"pt:[27.00,30.00]\":{\n",
    "                                        \"value\":0.921,\n",
    "'''\n",
    "\n",
    "# this is the structure coffea expects"
   ]
  },
  {
   "cell_type": "code",
   "execution_count": 37,
   "metadata": {},
   "outputs": [
    {
     "data": {
      "text/plain": [
       "array([ 20.,  30.,  50.,  70., 100., 140., 200., 300., 600., 900.])"
      ]
     },
     "execution_count": 37,
     "metadata": {},
     "output_type": "execute_result"
    }
   ],
   "source": [
    "b_eff_deepJet.edges"
   ]
  },
  {
   "cell_type": "code",
   "execution_count": 48,
   "metadata": {},
   "outputs": [],
   "source": [
    "btag_eff_dict = {'b': {'eta_pt_ratio': {'eta:[ 0.00, 2.50]': {'pt:[20.0,30.0]': {'value:': 0.8, 'error': 0.2}}}}}"
   ]
  },
  {
   "cell_type": "code",
   "execution_count": 49,
   "metadata": {},
   "outputs": [],
   "source": [
    "with open('test3.json', 'w') as out:\n",
    "    json.dump(btag_eff_dict, out)"
   ]
  },
  {
   "cell_type": "code",
   "execution_count": null,
   "metadata": {},
   "outputs": [],
   "source": []
  }
 ],
 "metadata": {
  "kernelspec": {
   "display_name": "coffeadev4",
   "language": "python",
   "name": "coffeadev4"
  },
  "language_info": {
   "codemirror_mode": {
    "name": "ipython",
    "version": 3
   },
   "file_extension": ".py",
   "mimetype": "text/x-python",
   "name": "python",
   "nbconvert_exporter": "python",
   "pygments_lexer": "ipython3",
   "version": "3.9.5"
  }
 },
 "nbformat": 4,
 "nbformat_minor": 4
}
