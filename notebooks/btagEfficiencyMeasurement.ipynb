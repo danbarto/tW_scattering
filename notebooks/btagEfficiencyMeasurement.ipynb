{
 "cells": [
  {
   "cell_type": "code",
   "execution_count": 1,
   "metadata": {},
   "outputs": [],
   "source": [
    "%load_ext autoreload\n",
    "%autoreload 2"
   ]
  },
  {
   "cell_type": "code",
   "execution_count": 2,
   "metadata": {},
   "outputs": [],
   "source": [
    "import awkward1 as ak\n",
    "\n",
    "from coffea import processor, hist\n",
    "from coffea.nanoevents import NanoEventsFactory, NanoAODSchema\n",
    "from coffea.analysis_tools import Weights\n",
    "\n",
    "import numpy as np\n",
    "\n",
    "from yahist import Hist1D, Hist2D\n"
   ]
  },
  {
   "cell_type": "code",
   "execution_count": 3,
   "metadata": {},
   "outputs": [],
   "source": [
    "from Tools.objects import *\n",
    "from Tools.basic_objects import *\n",
    "from Tools.cutflow import *\n",
    "from Tools.config_helpers import *\n",
    "from Tools.triggers import *\n",
    "year = 2018\n",
    "\n",
    "lumis = {2016: 36., 2017: 41.5, 2018: 60.}"
   ]
  },
  {
   "cell_type": "code",
   "execution_count": 4,
   "metadata": {},
   "outputs": [],
   "source": [
    "class btagAnalyzer(processor.ProcessorABC):\n",
    "    def __init__(self):\n",
    "                # we can use a large number of bins and rebin later\n",
    "        dataset_axis        = hist.Cat(\"dataset\",   \"Primary dataset\")\n",
    "        pt_axis             = hist.Bin(\"pt\",        r\"$p_{T}$ (GeV)\", 100, 0, 1000)\n",
    "        eta_axis            = hist.Bin(\"eta\",       r\"$\\eta$\", 10, -2.5, 2.5)\n",
    "\n",
    "        self._accumulator = processor.dict_accumulator({\n",
    "            \n",
    "            \"b_all\" :             hist.Hist(\"Counts\", pt_axis, eta_axis),\n",
    "            \"b_pass_deepJet\" :    hist.Hist(\"Counts\", pt_axis, eta_axis),\n",
    "            \"b_pass_deepCSV\" :    hist.Hist(\"Counts\", pt_axis, eta_axis),\n",
    "            \"c_all\" :             hist.Hist(\"Counts\", pt_axis, eta_axis),\n",
    "            \"c_pass_deepJet\" :    hist.Hist(\"Counts\", pt_axis, eta_axis),\n",
    "            \"c_pass_deepCSV\" :    hist.Hist(\"Counts\", pt_axis, eta_axis),\n",
    "            \"light_all\":          hist.Hist(\"Counts\", pt_axis, eta_axis),\n",
    "            \"light_pass_deepJet\": hist.Hist(\"Counts\", pt_axis, eta_axis),\n",
    "            \"light_pass_deepCSV\": hist.Hist(\"Counts\", pt_axis, eta_axis),\n",
    "            \n",
    "            'skimmedEvents':    processor.defaultdict_accumulator(int),\n",
    "            'totalEvents':      processor.defaultdict_accumulator(int),\n",
    "        })\n",
    "\n",
    "    @property\n",
    "    def accumulator(self):\n",
    "        return self._accumulator\n",
    "\n",
    "    # we will receive a NanoEvents instead of a coffea DataFrame\n",
    "    def process(self, events):\n",
    "        \n",
    "        output = self.accumulator.identity()\n",
    "        \n",
    "        presel = ak.num(events.Jet)>2\n",
    "        \n",
    "        ev = events[presel]\n",
    "        dataset = ev.metadata['dataset']\n",
    "        \n",
    "\n",
    "        \n",
    "        output['totalEvents']['all'] += len(events)\n",
    "        output['skimmedEvents']['all'] += len(ev)\n",
    "        \n",
    "        ## Muons\n",
    "        muon     = Collections(ev, \"Muon\", \"tightTTH\").get()\n",
    "        vetomuon = Collections(ev, \"Muon\", \"vetoTTH\").get()\n",
    "        dimuon   = choose(muon, 2)\n",
    "        \n",
    "        \n",
    "        ## Electrons\n",
    "        electron     = Collections(ev, \"Electron\", \"tightTTH\").get()\n",
    "        vetoelectron = Collections(ev, \"Electron\", \"vetoTTH\").get()\n",
    "        dielectron   = choose(electron, 2)\n",
    "        \n",
    "        \n",
    "        ## Merge electrons and muons - this should work better now in ak1\n",
    "        lepton   = ak.concatenate([muon, electron], axis=1)\n",
    "        dilepton = cross(muon, electron)\n",
    "        \n",
    "        \n",
    "        ## Jets\n",
    "        jet       = getJets(ev, minPt=25, maxEta=2.5)\n",
    "        jet       = jet[(jet.pt>25) & (jet.jetId>1)]\n",
    "        jet       = jet[~match(jet, muon, deltaRCut=0.4)] # remove jets that overlap with muons\n",
    "        jet       = jet[~match(jet, electron, deltaRCut=0.4)] # remove jets that overlap with electrons\n",
    "        \n",
    "        ## true bottoms\n",
    "        bottom = jet[abs(jet.hadronFlavour)==5]\n",
    "        bottom_deepJet = getBTagsDeepFlavB(bottom, year=year)\n",
    "        bottom_deepCSV = getBTagsDeepB(bottom, year=year)\n",
    "        \n",
    "        ## true charms\n",
    "        charm = jet[abs(jet.hadronFlavour)==4]\n",
    "        charm_deepJet = getBTagsDeepFlavB(charm, year=year)\n",
    "        charm_deepCSV = getBTagsDeepB(charm, year=year)\n",
    "        \n",
    "        ## true lights\n",
    "        light = jet[((abs(jet.hadronFlavour)<4) | (abs(jet.hadronFlavour)>5))]\n",
    "        light_deepJet = getBTagsDeepFlavB(light, year=year)\n",
    "        light_deepCSV = getBTagsDeepB(light, year=year)\n",
    "        \n",
    "        ## event selectors\n",
    "        filters   = getFilters(ev, year=year, dataset=dataset)\n",
    "        \n",
    "        dilep     = ((ak.num(electron) + ak.num(muon))==2)\n",
    "        lepveto   = ((ak.num(vetoelectron) + ak.num(vetomuon))==2)\n",
    "        \n",
    "        selection = (filters & dilep & lepveto)\n",
    "        \n",
    "        # first, make a few super inclusive plots\n",
    "        output['b_all'].fill(pt=ak.flatten(bottom.pt), eta=ak.flatten(bottom.eta))\n",
    "        output['b_pass_deepJet'].fill(pt=ak.flatten(bottom_deepJet.pt), eta=ak.flatten(bottom_deepJet.eta))\n",
    "        output['b_pass_deepCSV'].fill(pt=ak.flatten(bottom_deepCSV.pt), eta=ak.flatten(bottom_deepCSV.eta))\n",
    "        \n",
    "        output['c_all'].fill(pt=ak.flatten(charm.pt), eta=ak.flatten(charm.eta))\n",
    "        output['c_pass_deepJet'].fill(pt=ak.flatten(charm_deepJet.pt), eta=ak.flatten(charm_deepJet.eta))\n",
    "        output['c_pass_deepCSV'].fill(pt=ak.flatten(charm_deepCSV.pt), eta=ak.flatten(charm_deepCSV.eta))\n",
    "        \n",
    "        output['light_all'].fill(pt=ak.flatten(light.pt), eta=ak.flatten(light.eta))\n",
    "        output['light_pass_deepJet'].fill(pt=ak.flatten(light_deepJet.pt), eta=ak.flatten(light_deepJet.eta))\n",
    "        output['light_pass_deepCSV'].fill(pt=ak.flatten(light_deepCSV.pt), eta=ak.flatten(light_deepCSV.eta))\n",
    "        \n",
    "        return output\n",
    "\n",
    "    def postprocess(self, accumulator):\n",
    "        return accumulator"
   ]
  },
  {
   "cell_type": "code",
   "execution_count": 5,
   "metadata": {},
   "outputs": [
    {
     "data": {
      "text/plain": [
       "dict_keys(['tW_scattering', 'topW_v2', 'TTXnoW', 'TTW', 'TTH', 'TTZ', 'TTTT', 'ttbar', 'ttbar1l', 'ttbar2l', 'ttbar1l_MG', 'wjets', 'diboson', 'DY', 'MuonEG'])"
      ]
     },
     "execution_count": 5,
     "metadata": {},
     "output_type": "execute_result"
    }
   ],
   "source": [
    "# load the basic filesets and choose what samples we actually want to load\n",
    "\n",
    "from Tools.samples import * # fileset_2018 #, fileset_2018_small\n",
    "\n",
    "fileset_2018.keys()"
   ]
  },
  {
   "cell_type": "code",
   "execution_count": 6,
   "metadata": {
    "scrolled": false
   },
   "outputs": [
    {
     "data": {
      "application/vnd.jupyter.widget-view+json": {
       "model_id": "8cf63b58a8a8434d90347c1c7676a681",
       "version_major": 2,
       "version_minor": 0
      },
      "text/plain": [
       "Preprocessing:   0%|          | 0/61 [00:00<?, ?file/s]"
      ]
     },
     "metadata": {},
     "output_type": "display_data"
    },
    {
     "data": {
      "application/vnd.jupyter.widget-view+json": {
       "model_id": "47e46958749c4aa6b82cef3c580e5a65",
       "version_major": 2,
       "version_minor": 0
      },
      "text/plain": [
       "Processing:   0%|          | 0/200 [00:00<?, ?chunk/s]"
      ]
     },
     "metadata": {},
     "output_type": "display_data"
    }
   ],
   "source": [
    "\n",
    "\n",
    "\n",
    "'''\n",
    "fileset = {\n",
    "    'tW_scattering': glob.glob(\"/hadoop/cms/store/user/dspitzba/tW_scattering/tW_scattering/nanoAOD/*.root\"),\n",
    "    'topW_v2': glob.glob(\"/hadoop/cms/store/user/dspitzba/ProjectMetis/TTWJetsToLNuEWK_5f_NLO_RunIIAutumn18_NANO_v2/*.root\"),\n",
    "    \n",
    "}\n",
    "'''\n",
    "\n",
    "\n",
    "fileset = {\n",
    "    #'tW_scattering': fileset_2018['tW_scattering'],\n",
    "    #'topW_v2': fileset_2018['topW_v2'],\n",
    "    'ttbar': fileset_2018['ttbar2l'], # dilepton ttbar should be enough for this study.\n",
    "    #'MuonEG': fileset_2018['MuonEG'],\n",
    "}\n",
    "\n",
    "\n",
    "exe_args = {\n",
    "    'workers': 16,\n",
    "    'function_args': {'flatten': False},\n",
    "    \"schema\": NanoAODSchema,\n",
    "}\n",
    "exe = processor.futures_executor\n",
    "\n",
    "output = processor.run_uproot_job(\n",
    "    fileset,\n",
    "    \"Events\",\n",
    "    btagAnalyzer(),\n",
    "    exe,\n",
    "    exe_args,\n",
    "    chunksize=250000,\n",
    ")"
   ]
  },
  {
   "cell_type": "code",
   "execution_count": 7,
   "metadata": {},
   "outputs": [],
   "source": [
    "pt_bins = hist.Bin('pt', r'$p_{T} \\ (GeV)$', np.array([20,30,50,70,100,140,200,300,600]))\n",
    "eta_bins = hist.Bin('eta', r'$\\eta$', np.array([-2.5,2.5]))"
   ]
  },
  {
   "cell_type": "code",
   "execution_count": 8,
   "metadata": {},
   "outputs": [
    {
     "data": {
      "image/png": "[encoded data removed]",
      "text/plain": [
       "<Figure size 432x288 with 2 Axes>"
      ]
     },
     "metadata": {
      "needs_background": "light"
     },
     "output_type": "display_data"
    }
   ],
   "source": [
    "ax = hist.plot2d(output['light_all'], xaxis='pt')"
   ]
  },
  {
   "cell_type": "code",
   "execution_count": 9,
   "metadata": {},
   "outputs": [],
   "source": [
    "h1 = Hist2D.from_bincounts(\n",
    "    output['b_pass_deepJet'].sum().values()[()].T,\n",
    "    (output['b_pass_deepJet'].axis('pt').edges(), output['b_pass_deepJet'].axis('eta').edges())\n",
    ")\n",
    "\n",
    "h2 = Hist2D.from_bincounts(\n",
    "    output['b_all'].sum().values()[()].T,\n",
    "    (output['b_all'].axis('pt').edges(), output['b_all'].axis('eta').edges())\n",
    ")"
   ]
  },
  {
   "cell_type": "code",
   "execution_count": 10,
   "metadata": {},
   "outputs": [
    {
     "data": {
      "text/html": [
       "\n",
       "        <div style=\"max-height:1000px;max-width:1500px;overflow:auto\">\n",
       "        <b>total count</b>: nan, <b>metadata</b>: {}<br>\n",
       "        <div style=\"display:flex;\">\n",
       "            <img src='data:image/svg+xml;base64,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'/>\n",
       "        </div>\n",
       "        "
      ],
      "text/plain": [
       "[[  nan ±  nan     nan ±  nan    0.66 ± 0.00    0.71 ± 0.00\n",
       "   0.73 ± 0.00    0.74 ± 0.00    0.75 ± 0.00    0.75 ± 0.00\n",
       "   0.76 ± 0.00    0.76 ± 0.00    0.76 ± 0.00    0.76 ± 0.00\n",
       "   0.77 ± 0.00    0.77 ± 0.01    0.77 ± 0.01    0.77 ± 0.01\n",
       "   0.77 ± 0.01    0.78 ± 0.01    0.77 ± 0.01    0.77 ± 0.01\n",
       "   0.77 ± 0.01    0.78 ± 0.02    0.77 ± 0.02    0.76 ± 0.02\n",
       "   0.77 ± 0.02    0.76 ± 0.03    0.76 ± 0.03    0.75 ± 0.03\n",
       "   0.75 ± 0.04    0.76 ± 0.04    0.77 ± 0.05    0.74 ± 0.05\n",
       "   0.69 ± 0.05    0.75 ± 0.06    0.78 ± 0.07    0.72 ± 0.07\n",
       "   0.73 ± 0.08    0.76 ± 0.08    0.72 ± 0.09    0.69 ± 0.10\n",
       "   0.71 ± 0.09    0.78 ± 0.12    0.71 ± 0.12    0.69 ± 0.12\n",
       "   0.79 ± 0.16    0.65 ± 0.15    0.69 ± 0.15    0.74 ± 0.18\n",
       "   0.76 ± 0.17    0.62 ± 0.16    0.80 ± 0.20    0.85 ± 0.28\n",
       "   0.56 ± 0.31    0.78 ± 0.25    0.87 ± 0.33    0.70 ± 0.34\n",
       "   0.67 ± 0.30    0.80 ± 0.38    0.75 ± 0.41    0.60 ± 0.44\n",
       "   0.78 ± 0.39    0.67 ± 0.43    0.60 ± 0.44    0.62 ± 0.36\n",
       "   0.70 ± 0.34    1.00 ± 1.00    1.00 ± 0.50    0.00 ± 0.00\n",
       "   0.67 ± 0.61    1.00 ± 1.41    0.00 ± 0.00     nan ±  nan\n",
       "    nan ±  nan     nan ±  nan    1.00 ± 1.41     nan ±  nan\n",
       "    nan ±  nan     nan ±  nan    1.00 ± 1.41    1.00 ± 1.41\n",
       "   1.00 ± 1.41     nan ±  nan     nan ±  nan     nan ±  nan\n",
       "    nan ±  nan     nan ±  nan     nan ±  nan     nan ±  nan\n",
       "    nan ±  nan     nan ±  nan     nan ±  nan     nan ±  nan\n",
       "    nan ±  nan     nan ±  nan     nan ±  nan     nan ±  nan\n",
       "    nan ±  nan     nan ±  nan     nan ±  nan    1.00 ± 1.41]\n",
       " [  nan ±  nan     nan ±  nan    0.70 ± 0.00    0.74 ± 0.00\n",
       "   0.76 ± 0.00    0.78 ± 0.00    0.79 ± 0.00    0.79 ± 0.00\n",
       "   0.80 ± 0.00    0.80 ± 0.00    0.80 ± 0.00    0.80 ± 0.00\n",
       "   0.81 ± 0.00    0.81 ± 0.00    0.81 ± 0.00    0.81 ± 0.00\n",
       "   0.81 ± 0.01    0.81 ± 0.01    0.82 ± 0.01    0.81 ± 0.01\n",
       "   0.82 ± 0.01    0.81 ± 0.01    0.81 ± 0.01    0.81 ± 0.01\n",
       "   0.82 ± 0.01    0.82 ± 0.02    0.81 ± 0.02    0.81 ± 0.02\n",
       "   0.80 ± 0.02    0.81 ± 0.02    0.80 ± 0.02    0.81 ± 0.03\n",
       "   0.82 ± 0.03    0.81 ± 0.03    0.80 ± 0.03    0.81 ± 0.04\n",
       "   0.79 ± 0.04    0.82 ± 0.04    0.81 ± 0.05    0.81 ± 0.05\n",
       "   0.79 ± 0.05    0.78 ± 0.06    0.84 ± 0.06    0.85 ± 0.06\n",
       "   0.76 ± 0.07    0.77 ± 0.07    0.85 ± 0.08    0.79 ± 0.08\n",
       "   0.78 ± 0.09    0.81 ± 0.09    0.79 ± 0.09    0.85 ± 0.11\n",
       "   0.75 ± 0.11    0.80 ± 0.11    0.82 ± 0.12    0.79 ± 0.13\n",
       "   0.86 ± 0.13    0.84 ± 0.14    0.81 ± 0.14    0.83 ± 0.15\n",
       "   0.83 ± 0.17    0.80 ± 0.17    0.70 ± 0.17    0.75 ± 0.18\n",
       "   0.77 ± 0.20    0.85 ± 0.22    0.74 ± 0.22    0.78 ± 0.20\n",
       "   0.79 ± 0.22    0.89 ± 0.30    0.65 ± 0.19    0.87 ± 0.27\n",
       "   1.00 ± 0.35    0.80 ± 0.31    0.94 ± 0.33    0.78 ± 0.39\n",
       "   0.57 ± 0.36    0.38 ± 0.25    0.83 ± 0.50    0.88 ± 0.45\n",
       "   0.83 ± 0.50    0.88 ± 0.45    0.75 ± 0.57    0.62 ± 0.36\n",
       "   0.67 ± 0.61    0.50 ± 0.43    0.50 ± 0.31    1.00 ± 1.41\n",
       "    nan ±  nan    0.00 ± 0.00     nan ±  nan    0.60 ± 0.44\n",
       "   1.00 ± 0.63    1.00 ± 1.41    1.00 ± 1.41    0.00 ± 0.00\n",
       "   1.00 ± 1.41    0.67 ± 0.61    0.67 ± 0.61     nan ±  nan]\n",
       " [  nan ±  nan     nan ±  nan    0.73 ± 0.00    0.76 ± 0.00\n",
       "   0.78 ± 0.00    0.80 ± 0.00    0.80 ± 0.00    0.81 ± 0.00\n",
       "   0.82 ± 0.00    0.82 ± 0.00    0.82 ± 0.00    0.82 ± 0.00\n",
       "   0.82 ± 0.00    0.82 ± 0.00    0.82 ± 0.00    0.83 ± 0.00\n",
       "   0.83 ± 0.00    0.83 ± 0.00    0.83 ± 0.01    0.83 ± 0.01\n",
       "   0.83 ± 0.01    0.83 ± 0.01    0.82 ± 0.01    0.82 ± 0.01\n",
       "   0.82 ± 0.01    0.82 ± 0.01    0.83 ± 0.01    0.83 ± 0.01\n",
       "   0.83 ± 0.01    0.82 ± 0.02    0.84 ± 0.02    0.82 ± 0.02\n",
       "   0.81 ± 0.02    0.83 ± 0.02    0.82 ± 0.02    0.82 ± 0.03\n",
       "   0.81 ± 0.03    0.81 ± 0.03    0.81 ± 0.03    0.82 ± 0.03\n",
       "   0.80 ± 0.03    0.81 ± 0.04    0.82 ± 0.04    0.83 ± 0.04\n",
       "   0.82 ± 0.04    0.82 ± 0.05    0.78 ± 0.05    0.82 ± 0.05\n",
       "   0.85 ± 0.05    0.81 ± 0.05    0.84 ± 0.06    0.83 ± 0.06\n",
       "   0.84 ± 0.07    0.81 ± 0.07    0.81 ± 0.07    0.81 ± 0.07\n",
       "   0.88 ± 0.08    0.81 ± 0.08    0.83 ± 0.09    0.86 ± 0.09\n",
       "   0.79 ± 0.09    0.84 ± 0.09    0.78 ± 0.10    0.85 ± 0.10\n",
       "   0.82 ± 0.11    0.83 ± 0.11    0.78 ± 0.12    0.77 ± 0.11\n",
       "   0.79 ± 0.14    0.81 ± 0.13    0.74 ± 0.13    0.81 ± 0.13\n",
       "   0.81 ± 0.14    0.79 ± 0.16    0.67 ± 0.14    0.86 ± 0.17\n",
       "   0.83 ± 0.17    0.90 ± 0.20    0.83 ± 0.18    0.85 ± 0.20\n",
       "   0.79 ± 0.21    0.81 ± 0.20    0.84 ± 0.22    0.67 ± 0.17\n",
       "   0.62 ± 0.22    0.82 ± 0.23    0.72 ± 0.22    0.73 ± 0.29\n",
       "   0.82 ± 0.37    0.83 ± 0.36    0.86 ± 0.28    0.83 ± 0.29\n",
       "   0.75 ± 0.33    0.89 ± 0.43    0.89 ± 0.43    0.92 ± 0.38\n",
       "   0.77 ± 0.32    0.67 ± 0.35    0.56 ± 0.31    1.00 ± 0.47]\n",
       " [  nan ±  nan     nan ±  nan    0.77 ± 0.00    0.80 ± 0.00\n",
       "   0.82 ± 0.00    0.84 ± 0.00    0.84 ± 0.00    0.85 ± 0.00\n",
       "   0.85 ± 0.00    0.86 ± 0.00    0.86 ± 0.00    0.86 ± 0.00\n",
       "   0.86 ± 0.00    0.86 ± 0.00    0.86 ± 0.00    0.87 ± 0.00\n",
       "   0.87 ± 0.00    0.86 ± 0.00    0.87 ± 0.00    0.87 ± 0.01\n",
       "   0.87 ± 0.01    0.87 ± 0.01    0.87 ± 0.01    0.87 ± 0.01\n",
       "   0.87 ± 0.01    0.87 ± 0.01    0.87 ± 0.01    0.87 ± 0.01\n",
       "   0.87 ± 0.01    0.87 ± 0.01    0.86 ± 0.01    0.87 ± 0.02\n",
       "   0.87 ± 0.02    0.86 ± 0.02    0.88 ± 0.02    0.88 ± 0.02\n",
       "   0.88 ± 0.02    0.87 ± 0.02    0.87 ± 0.03    0.87 ± 0.03\n",
       "   0.88 ± 0.03    0.87 ± 0.03    0.87 ± 0.03    0.87 ± 0.03\n",
       "   0.88 ± 0.04    0.90 ± 0.04    0.89 ± 0.04    0.86 ± 0.04\n",
       "   0.87 ± 0.04    0.86 ± 0.05    0.87 ± 0.05    0.89 ± 0.05\n",
       "   0.88 ± 0.05    0.89 ± 0.05    0.87 ± 0.06    0.87 ± 0.06\n",
       "   0.87 ± 0.06    0.88 ± 0.06    0.86 ± 0.07    0.89 ± 0.07\n",
       "   0.86 ± 0.07    0.87 ± 0.07    0.84 ± 0.07    0.86 ± 0.08\n",
       "   0.82 ± 0.08    0.91 ± 0.08    0.89 ± 0.09    0.89 ± 0.09\n",
       "   0.87 ± 0.10    0.87 ± 0.09    0.88 ± 0.10    0.87 ± 0.11\n",
       "   0.85 ± 0.11    0.86 ± 0.11    0.84 ± 0.12    0.88 ± 0.12\n",
       "   0.83 ± 0.12    0.86 ± 0.13    0.89 ± 0.15    0.80 ± 0.13\n",
       "   0.88 ± 0.16    0.82 ± 0.15    0.88 ± 0.16    0.92 ± 0.17\n",
       "   0.88 ± 0.16    0.83 ± 0.21    0.81 ± 0.18    0.85 ± 0.17\n",
       "   0.78 ± 0.18    0.85 ± 0.20    0.71 ± 0.19    0.81 ± 0.24\n",
       "   0.69 ± 0.18    0.85 ± 0.22    0.82 ± 0.21    0.93 ± 0.25\n",
       "   0.82 ± 0.21    0.80 ± 0.27    0.77 ± 0.21    0.89 ± 0.25]\n",
       " [  nan ±  nan     nan ±  nan    0.78 ± 0.00    0.81 ± 0.00\n",
       "   0.83 ± 0.00    0.84 ± 0.00    0.85 ± 0.00    0.85 ± 0.00\n",
       "   0.86 ± 0.00    0.86 ± 0.00    0.86 ± 0.00    0.86 ± 0.00\n",
       "   0.87 ± 0.00    0.87 ± 0.00    0.87 ± 0.00    0.87 ± 0.00\n",
       "   0.87 ± 0.00    0.87 ± 0.00    0.87 ± 0.00    0.87 ± 0.00\n",
       "   0.87 ± 0.01    0.87 ± 0.01    0.87 ± 0.01    0.87 ± 0.01\n",
       "   0.87 ± 0.01    0.87 ± 0.01    0.87 ± 0.01    0.87 ± 0.01\n",
       "   0.87 ± 0.01    0.87 ± 0.01    0.88 ± 0.01    0.87 ± 0.01\n",
       "   0.87 ± 0.02    0.87 ± 0.02    0.87 ± 0.02    0.88 ± 0.02\n",
       "   0.87 ± 0.02    0.88 ± 0.02    0.87 ± 0.02    0.88 ± 0.02\n",
       "   0.88 ± 0.03    0.87 ± 0.03    0.88 ± 0.03    0.87 ± 0.03\n",
       "   0.88 ± 0.03    0.86 ± 0.03    0.87 ± 0.03    0.87 ± 0.04\n",
       "   0.89 ± 0.04    0.87 ± 0.04    0.90 ± 0.04    0.87 ± 0.04\n",
       "   0.89 ± 0.05    0.88 ± 0.05    0.89 ± 0.05    0.88 ± 0.05\n",
       "   0.90 ± 0.05    0.88 ± 0.05    0.89 ± 0.06    0.86 ± 0.06\n",
       "   0.88 ± 0.06    0.86 ± 0.06    0.86 ± 0.07    0.87 ± 0.07\n",
       "   0.91 ± 0.07    0.84 ± 0.07    0.89 ± 0.08    0.91 ± 0.08\n",
       "   0.89 ± 0.08    0.86 ± 0.08    0.86 ± 0.09    0.85 ± 0.09\n",
       "   0.86 ± 0.10    0.84 ± 0.09    0.85 ± 0.11    0.87 ± 0.10\n",
       "   0.90 ± 0.11    0.87 ± 0.11    0.81 ± 0.09    0.88 ± 0.12\n",
       "   0.88 ± 0.13    0.88 ± 0.12    0.85 ± 0.13    0.82 ± 0.13\n",
       "   0.80 ± 0.13    0.89 ± 0.14    0.80 ± 0.14    0.85 ± 0.16\n",
       "   0.89 ± 0.17    0.89 ± 0.17    0.80 ± 0.15    0.89 ± 0.17\n",
       "   0.91 ± 0.19    0.83 ± 0.21    0.88 ± 0.20    0.80 ± 0.20\n",
       "   0.82 ± 0.19    0.82 ± 0.21    0.83 ± 0.23    0.83 ± 0.25]\n",
       " [  nan ±  nan     nan ±  nan    0.78 ± 0.00    0.81 ± 0.00\n",
       "   0.83 ± 0.00    0.84 ± 0.00    0.85 ± 0.00    0.85 ± 0.00\n",
       "   0.86 ± 0.00    0.86 ± 0.00    0.86 ± 0.00    0.86 ± 0.00\n",
       "   0.86 ± 0.00    0.86 ± 0.00    0.87 ± 0.00    0.87 ± 0.00\n",
       "   0.87 ± 0.00    0.87 ± 0.00    0.87 ± 0.00    0.87 ± 0.00\n",
       "   0.87 ± 0.01    0.87 ± 0.01    0.87 ± 0.01    0.87 ± 0.01\n",
       "   0.87 ± 0.01    0.87 ± 0.01    0.87 ± 0.01    0.87 ± 0.01\n",
       "   0.87 ± 0.01    0.87 ± 0.01    0.88 ± 0.01    0.88 ± 0.01\n",
       "   0.87 ± 0.02    0.89 ± 0.02    0.87 ± 0.02    0.87 ± 0.02\n",
       "   0.88 ± 0.02    0.88 ± 0.02    0.88 ± 0.02    0.87 ± 0.02\n",
       "   0.88 ± 0.03    0.88 ± 0.03    0.88 ± 0.03    0.87 ± 0.03\n",
       "   0.87 ± 0.03    0.87 ± 0.03    0.88 ± 0.04    0.89 ± 0.04\n",
       "   0.88 ± 0.04    0.86 ± 0.04    0.89 ± 0.04    0.87 ± 0.04\n",
       "   0.88 ± 0.05    0.86 ± 0.05    0.88 ± 0.05    0.90 ± 0.05\n",
       "   0.87 ± 0.05    0.88 ± 0.05    0.87 ± 0.06    0.88 ± 0.06\n",
       "   0.87 ± 0.06    0.88 ± 0.07    0.87 ± 0.06    0.86 ± 0.07\n",
       "   0.87 ± 0.08    0.86 ± 0.07    0.87 ± 0.07    0.86 ± 0.08\n",
       "   0.89 ± 0.08    0.86 ± 0.09    0.86 ± 0.09    0.86 ± 0.09\n",
       "   0.89 ± 0.09    0.88 ± 0.10    0.87 ± 0.10    0.86 ± 0.10\n",
       "   0.91 ± 0.11    0.89 ± 0.11    0.82 ± 0.11    0.92 ± 0.13\n",
       "   0.93 ± 0.13    0.82 ± 0.14    0.86 ± 0.13    0.82 ± 0.13\n",
       "   0.88 ± 0.15    0.86 ± 0.14    0.82 ± 0.14    0.91 ± 0.18\n",
       "   0.84 ± 0.16    0.82 ± 0.18    0.80 ± 0.15    0.88 ± 0.17\n",
       "   0.84 ± 0.18    0.88 ± 0.20    0.85 ± 0.22    0.78 ± 0.17\n",
       "   0.79 ± 0.21    0.92 ± 0.22    0.81 ± 0.26    0.87 ± 0.21]\n",
       " [  nan ±  nan     nan ±  nan    0.77 ± 0.00    0.80 ± 0.00\n",
       "   0.82 ± 0.00    0.83 ± 0.00    0.84 ± 0.00    0.85 ± 0.00\n",
       "   0.85 ± 0.00    0.86 ± 0.00    0.86 ± 0.00    0.86 ± 0.00\n",
       "   0.86 ± 0.00    0.86 ± 0.00    0.86 ± 0.00    0.86 ± 0.00\n",
       "   0.87 ± 0.00    0.87 ± 0.00    0.86 ± 0.00    0.87 ± 0.01\n",
       "   0.87 ± 0.01    0.87 ± 0.01    0.87 ± 0.01    0.86 ± 0.01\n",
       "   0.86 ± 0.01    0.87 ± 0.01    0.87 ± 0.01    0.86 ± 0.01\n",
       "   0.86 ± 0.01    0.86 ± 0.01    0.87 ± 0.01    0.87 ± 0.02\n",
       "   0.86 ± 0.02    0.87 ± 0.02    0.85 ± 0.02    0.88 ± 0.02\n",
       "   0.86 ± 0.02    0.86 ± 0.02    0.88 ± 0.03    0.87 ± 0.03\n",
       "   0.87 ± 0.03    0.88 ± 0.03    0.86 ± 0.03    0.87 ± 0.03\n",
       "   0.88 ± 0.04    0.88 ± 0.04    0.86 ± 0.04    0.87 ± 0.04\n",
       "   0.86 ± 0.04    0.84 ± 0.04    0.86 ± 0.05    0.86 ± 0.05\n",
       "   0.88 ± 0.05    0.86 ± 0.05    0.89 ± 0.06    0.88 ± 0.06\n",
       "   0.86 ± 0.06    0.88 ± 0.06    0.85 ± 0.06    0.88 ± 0.07\n",
       "   0.89 ± 0.07    0.86 ± 0.07    0.86 ± 0.08    0.85 ± 0.08\n",
       "   0.85 ± 0.08    0.89 ± 0.09    0.85 ± 0.08    0.88 ± 0.09\n",
       "   0.79 ± 0.09    0.88 ± 0.10    0.90 ± 0.10    0.85 ± 0.10\n",
       "   0.84 ± 0.11    0.90 ± 0.12    0.89 ± 0.13    0.85 ± 0.11\n",
       "   0.83 ± 0.12    0.89 ± 0.13    0.86 ± 0.13    0.86 ± 0.14\n",
       "   0.87 ± 0.15    0.75 ± 0.12    0.82 ± 0.16    0.83 ± 0.15\n",
       "   0.72 ± 0.14    0.81 ± 0.19    0.81 ± 0.17    0.82 ± 0.20\n",
       "   0.82 ± 0.19    0.92 ± 0.21    0.87 ± 0.23    0.79 ± 0.21\n",
       "   0.91 ± 0.23    0.85 ± 0.24    0.71 ± 0.24    0.81 ± 0.26\n",
       "   0.83 ± 0.23    0.79 ± 0.24    0.65 ± 0.22    0.70 ± 0.34]\n",
       " [  nan ±  nan     nan ±  nan    0.72 ± 0.00    0.75 ± 0.00\n",
       "   0.78 ± 0.00    0.79 ± 0.00    0.80 ± 0.00    0.81 ± 0.00\n",
       "   0.81 ± 0.00    0.81 ± 0.00    0.81 ± 0.00    0.82 ± 0.00\n",
       "   0.82 ± 0.00    0.82 ± 0.00    0.82 ± 0.00    0.82 ± 0.00\n",
       "   0.82 ± 0.00    0.82 ± 0.00    0.82 ± 0.01    0.82 ± 0.01\n",
       "   0.82 ± 0.01    0.82 ± 0.01    0.82 ± 0.01    0.82 ± 0.01\n",
       "   0.81 ± 0.01    0.82 ± 0.01    0.82 ± 0.01    0.81 ± 0.01\n",
       "   0.81 ± 0.01    0.82 ± 0.02    0.81 ± 0.02    0.81 ± 0.02\n",
       "   0.82 ± 0.02    0.81 ± 0.02    0.80 ± 0.02    0.80 ± 0.03\n",
       "   0.82 ± 0.03    0.81 ± 0.03    0.81 ± 0.03    0.82 ± 0.03\n",
       "   0.80 ± 0.03    0.81 ± 0.04    0.80 ± 0.04    0.79 ± 0.04\n",
       "   0.82 ± 0.04    0.81 ± 0.05    0.79 ± 0.05    0.81 ± 0.05\n",
       "   0.82 ± 0.05    0.82 ± 0.06    0.80 ± 0.06    0.79 ± 0.06\n",
       "   0.79 ± 0.07    0.83 ± 0.07    0.81 ± 0.07    0.80 ± 0.07\n",
       "   0.79 ± 0.07    0.82 ± 0.08    0.78 ± 0.08    0.80 ± 0.08\n",
       "   0.77 ± 0.09    0.80 ± 0.09    0.80 ± 0.10    0.79 ± 0.11\n",
       "   0.76 ± 0.10    0.78 ± 0.11    0.83 ± 0.12    0.79 ± 0.12\n",
       "   0.75 ± 0.11    0.84 ± 0.14    0.89 ± 0.15    0.68 ± 0.13\n",
       "   0.80 ± 0.16    0.78 ± 0.17    0.82 ± 0.17    0.85 ± 0.17\n",
       "   0.90 ± 0.21    0.84 ± 0.20    0.70 ± 0.17    0.62 ± 0.17\n",
       "   0.74 ± 0.17    0.71 ± 0.19    0.81 ± 0.22    0.74 ± 0.20\n",
       "   0.75 ± 0.20    0.83 ± 0.29    0.67 ± 0.25    0.85 ± 0.28\n",
       "   0.74 ± 0.26    0.86 ± 0.28    0.67 ± 0.27    0.82 ± 0.37\n",
       "   0.88 ± 0.31    0.90 ± 0.41    0.80 ± 0.31    0.79 ± 0.32\n",
       "   0.57 ± 0.36    0.62 ± 0.36    0.75 ± 0.41    0.55 ± 0.28]\n",
       " [  nan ±  nan     nan ±  nan    0.70 ± 0.00    0.74 ± 0.00\n",
       "   0.76 ± 0.00    0.78 ± 0.00    0.78 ± 0.00    0.79 ± 0.00\n",
       "   0.79 ± 0.00    0.80 ± 0.00    0.80 ± 0.00    0.80 ± 0.00\n",
       "   0.80 ± 0.00    0.81 ± 0.00    0.81 ± 0.00    0.81 ± 0.00\n",
       "   0.81 ± 0.01    0.81 ± 0.01    0.81 ± 0.01    0.81 ± 0.01\n",
       "   0.81 ± 0.01    0.81 ± 0.01    0.81 ± 0.01    0.81 ± 0.01\n",
       "   0.81 ± 0.01    0.82 ± 0.02    0.80 ± 0.02    0.81 ± 0.02\n",
       "   0.81 ± 0.02    0.80 ± 0.02    0.80 ± 0.02    0.82 ± 0.03\n",
       "   0.81 ± 0.03    0.81 ± 0.03    0.81 ± 0.03    0.83 ± 0.04\n",
       "   0.80 ± 0.04    0.82 ± 0.04    0.79 ± 0.04    0.80 ± 0.05\n",
       "   0.79 ± 0.05    0.83 ± 0.06    0.81 ± 0.06    0.80 ± 0.06\n",
       "   0.81 ± 0.07    0.81 ± 0.07    0.76 ± 0.07    0.88 ± 0.08\n",
       "   0.76 ± 0.08    0.79 ± 0.09    0.80 ± 0.09    0.87 ± 0.10\n",
       "   0.82 ± 0.10    0.77 ± 0.11    0.86 ± 0.12    0.82 ± 0.13\n",
       "   0.77 ± 0.14    0.83 ± 0.14    0.83 ± 0.15    0.75 ± 0.15\n",
       "   0.84 ± 0.16    0.68 ± 0.15    0.84 ± 0.17    0.88 ± 0.20\n",
       "   0.72 ± 0.21    0.82 ± 0.20    0.67 ± 0.20    0.61 ± 0.21\n",
       "   0.88 ± 0.22    0.69 ± 0.17    0.67 ± 0.25    0.76 ± 0.25\n",
       "   0.77 ± 0.23    0.81 ± 0.30    0.92 ± 0.37    0.64 ± 0.27\n",
       "   0.55 ± 0.28    0.88 ± 0.45    1.00 ± 0.39    1.00 ± 0.58\n",
       "   0.00 ± 0.00    0.57 ± 0.36    0.60 ± 0.44    0.83 ± 0.50\n",
       "   0.86 ± 0.48    0.67 ± 0.61    0.60 ± 0.44    0.75 ± 0.57\n",
       "   0.67 ± 0.61    0.33 ± 0.38    0.67 ± 0.61    0.50 ± 0.61\n",
       "   0.33 ± 0.38    1.00 ± 0.63     nan ±  nan    0.50 ± 0.61\n",
       "   1.00 ± 1.41    1.00 ± 1.41    1.00 ± 1.00    1.00 ± 0.82]\n",
       " [  nan ±  nan     nan ±  nan    0.65 ± 0.00    0.70 ± 0.00\n",
       "   0.72 ± 0.00    0.73 ± 0.00    0.74 ± 0.00    0.74 ± 0.00\n",
       "   0.75 ± 0.00    0.75 ± 0.00    0.75 ± 0.00    0.76 ± 0.00\n",
       "   0.76 ± 0.00    0.76 ± 0.01    0.76 ± 0.01    0.76 ± 0.01\n",
       "   0.76 ± 0.01    0.77 ± 0.01    0.76 ± 0.01    0.76 ± 0.01\n",
       "   0.78 ± 0.01    0.76 ± 0.02    0.75 ± 0.02    0.74 ± 0.02\n",
       "   0.78 ± 0.02    0.75 ± 0.03    0.76 ± 0.03    0.77 ± 0.03\n",
       "   0.75 ± 0.04    0.77 ± 0.04    0.74 ± 0.04    0.74 ± 0.05\n",
       "   0.76 ± 0.05    0.73 ± 0.06    0.72 ± 0.06    0.77 ± 0.07\n",
       "   0.71 ± 0.07    0.72 ± 0.08    0.71 ± 0.08    0.77 ± 0.10\n",
       "   0.82 ± 0.11    0.76 ± 0.12    0.74 ± 0.11    0.80 ± 0.15\n",
       "   0.79 ± 0.14    0.85 ± 0.16    0.72 ± 0.16    0.83 ± 0.21\n",
       "   0.71 ± 0.17    0.72 ± 0.18    0.72 ± 0.21    0.65 ± 0.22\n",
       "   0.87 ± 0.33    0.71 ± 0.30    0.94 ± 0.33    0.62 ± 0.28\n",
       "   0.74 ± 0.26    0.85 ± 0.35    0.73 ± 0.34    0.71 ± 0.42\n",
       "   1.00 ± 1.00    1.00 ± 0.45    0.60 ± 0.44    0.60 ± 0.44\n",
       "   1.00 ± 0.82    0.40 ± 0.33    1.00 ± 1.41    0.75 ± 0.57\n",
       "    nan ±  nan     nan ±  nan    1.00 ± 1.41    0.75 ± 0.57\n",
       "   0.50 ± 0.61    1.00 ± 1.41     nan ±  nan     nan ±  nan\n",
       "    nan ±  nan    1.00 ± 1.41    1.00 ± 1.41     nan ±  nan\n",
       "    nan ±  nan    1.00 ± 1.41     nan ±  nan     nan ±  nan\n",
       "    nan ±  nan     nan ±  nan    1.00 ± 1.41     nan ±  nan\n",
       "    nan ±  nan     nan ±  nan     nan ±  nan     nan ±  nan\n",
       "    nan ±  nan     nan ±  nan     nan ±  nan     nan ±  nan\n",
       "    nan ±  nan    1.00 ± 1.41     nan ±  nan     nan ±  nan]]"
      ]
     },
     "execution_count": 10,
     "metadata": {},
     "output_type": "execute_result"
    }
   ],
   "source": [
    "h1.divide(h2)"
   ]
  },
  {
   "cell_type": "code",
   "execution_count": 11,
   "metadata": {},
   "outputs": [],
   "source": [
    "pt_bins = hist.Bin('pt', r'$p_{T} \\ (GeV)$', np.array([20,30,50,70,100,140,200,300,600]))\n",
    "\n",
    "def getNiceHist(output, name, rebin, axis):\n",
    "    tmp = output[name].copy().project(axis).rebin(axis, rebin)\n",
    "    ya_tmp = Hist1D.from_bincounts(\n",
    "        tmp.sum().values(overflow='over')[()],\n",
    "        errors = np.sqrt(tmp.sum().values(overflow='over', sumw2=True)[()][1]),\n",
    "        bins = tmp.axis(axis).edges(overflow='over')\n",
    "    )\n",
    "    return ya_tmp"
   ]
  },
  {
   "cell_type": "code",
   "execution_count": 12,
   "metadata": {},
   "outputs": [],
   "source": [
    "b_all = getNiceHist(output, 'b_all', pt_bins, 'pt')\n",
    "b_pass_deepCSV = getNiceHist(output, 'b_pass_deepCSV', pt_bins, 'pt')\n",
    "b_pass_deepJet = getNiceHist(output, 'b_pass_deepJet', pt_bins, 'pt')\n",
    "\n",
    "c_all = getNiceHist(output, 'c_all', pt_bins, 'pt')\n",
    "c_pass_deepCSV = getNiceHist(output, 'c_pass_deepCSV', pt_bins, 'pt')\n",
    "c_pass_deepJet = getNiceHist(output, 'c_pass_deepJet', pt_bins, 'pt')\n",
    "\n",
    "light_all = getNiceHist(output, 'light_all', pt_bins, 'pt')\n",
    "light_pass_deepCSV = getNiceHist(output, 'light_pass_deepCSV', pt_bins, 'pt')\n",
    "light_pass_deepJet = getNiceHist(output, 'light_pass_deepJet', pt_bins, 'pt')"
   ]
  },
  {
   "cell_type": "code",
   "execution_count": 13,
   "metadata": {},
   "outputs": [
    {
     "data": {
      "text/plain": [
       "Text(0.1, 0.995, '$\\\\bf{CMS}$ Simulation')"
      ]
     },
     "execution_count": 13,
     "metadata": {},
     "output_type": "execute_result"
    },
    {
     "name": "stderr",
     "output_type": "stream",
     "text": [
      "findfont: Font family ['cursive'] not found. Falling back to DejaVu Sans.\n"
     ]
    },
    {
     "data": {
      "image/png": "[encoded data removed]",
      "text/plain": [
       "<Figure size 504x504 with 1 Axes>"
      ]
     },
     "metadata": {
      "needs_background": "light"
     },
     "output_type": "display_data"
    }
   ],
   "source": [
    "%matplotlib inline\n",
    "import matplotlib\n",
    "import matplotlib.pyplot as plt\n",
    "\n",
    "import mplhep as hep\n",
    "\n",
    "plt.style.use(hep.style.CMS)  # or ATLAS/LHCb\n",
    "\n",
    "fig, ax = plt.subplots(1,1,figsize=(7,7))\n",
    "\n",
    "b_all.plot(color=\"blue\", histtype=\"step\", linewidth=2, label='All b hadrons')\n",
    "b_pass_deepJet.plot(color=\"green\", histtype=\"step\", linewidth=2, label='DeepJet')\n",
    "b_pass_deepCSV.plot(color=\"orange\", histtype=\"step\", linewidth=2, label='DeepCSV')\n",
    "\n",
    "ax.set_ylabel('Jets')\n",
    "ax.set_xlabel(r'$p_{T} (GeV)$')\n",
    "\n",
    "#ax.set_ylim(0.05,1.05)\n",
    "\n",
    "fig.text(0.10, 0.995, '$\\\\bf{CMS}$ Simulation', fontsize=20,  horizontalalignment='left', verticalalignment='bottom', transform=ax.transAxes )\n",
    "\n"
   ]
  },
  {
   "cell_type": "code",
   "execution_count": 14,
   "metadata": {},
   "outputs": [
    {
     "data": {
      "text/plain": [
       "Text(0.8, 0.995, '13 TeV')"
      ]
     },
     "execution_count": 14,
     "metadata": {},
     "output_type": "execute_result"
    },
    {
     "data": {
      "image/png": "[encoded data removed]",
      "text/plain": [
       "<Figure size 504x504 with 1 Axes>"
      ]
     },
     "metadata": {
      "needs_background": "light"
     },
     "output_type": "display_data"
    }
   ],
   "source": [
    "fig, ax = plt.subplots(1,1,figsize=(7,7))\n",
    "\n",
    "b_eff_deepJet = b_pass_deepJet.divide(b_all, binomial=True)\n",
    "b_eff_deepCSV = b_pass_deepCSV.divide(b_all, binomial=True)\n",
    "\n",
    "c_eff_deepJet = c_pass_deepJet.divide(c_all, binomial=True)\n",
    "c_eff_deepCSV = c_pass_deepCSV.divide(c_all, binomial=True)\n",
    "\n",
    "light_eff_deepJet = light_pass_deepJet.divide(light_all, binomial=True)\n",
    "light_eff_deepCSV = light_pass_deepCSV.divide(light_all, binomial=True)\n",
    "\n",
    "\n",
    "b_eff_deepJet.plot(color=\"green\", histtype=\"step\", linewidth=2, label='b DeepJet')\n",
    "b_eff_deepCSV.plot(color=\"gray\", histtype=\"step\", linewidth=2, label='b DeepCSV')\n",
    "\n",
    "c_eff_deepJet.plot(color=\"blue\", histtype=\"step\", linewidth=2, label='c DeepJet')\n",
    "c_eff_deepCSV.plot(color=\"cyan\", histtype=\"step\", linewidth=2, label='c DeepCSV')\n",
    "\n",
    "light_eff_deepJet.plot(color=\"orange\", histtype=\"step\", linewidth=2, label='udsg DeepJet')\n",
    "light_eff_deepCSV.plot(color=\"red\", histtype=\"step\", linewidth=2, label='udsg DeepCSV')\n",
    "\n",
    "ax.set_ylabel('Efficiency')\n",
    "ax.set_xlabel(r'$p_{T} (GeV)$')\n",
    "\n",
    "ax.set_ylim(0.00,1.40)\n",
    "\n",
    "plt.xscale('log')\n",
    "\n",
    "plt.legend(\n",
    "    #bbox_to_anchor=(0., 1.02, 1., .102),\n",
    "    loc='upper left',\n",
    "    ncol=2,\n",
    "    mode=\"expand\",\n",
    "    borderaxespad=0.0\n",
    ")\n",
    "\n",
    "fig.text(0.0, 0.995, '$\\\\bf{CMS}$ Simulation', fontsize=20,  horizontalalignment='left', verticalalignment='bottom', transform=ax.transAxes )\n",
    "fig.text(0.8, 0.995, '13 TeV', fontsize=20,  horizontalalignment='left', verticalalignment='bottom', transform=ax.transAxes )\n",
    "\n"
   ]
  },
  {
   "cell_type": "code",
   "execution_count": 16,
   "metadata": {},
   "outputs": [
    {
     "data": {
      "text/plain": [
       "'{\"_counts\": [0.7376442262012629, 0.7857133899293974, 0.8155672128924673, 0.8302726725590459, 0.8394370109068536, 0.8458411935269683, 0.8489540733364138, 0.8535575940342952, 0.8405694202847102], \"_edges\": [20.0, 30.0, 50.0, 70.0, 100.0, 140.0, 200.0, 300.0, 600.0, 900.0], \"_errors\": [0.00021479576677363443, 9.402149272763616e-05, 9.206291588520488e-05, 8.931976104759043e-05, 0.00011312146709130388, 0.00016531972916838944, 0.0002894200642614142, 0.0005629123859409724, 0.002198937174614002], \"_errors_up\": [0.00021473914320369047, 9.400649685187279e-05, 9.204514230221061e-05, 8.930106993543241e-05, 0.0001130892538503403, 0.00016524728812972178, 0.00028919237783930907, 0.000562018131691544, 0.0021867484537508863], \"_errors_down\": [0.0002148523903435784, 9.403648860339953e-05, 9.208068946819914e-05, 8.933845215974845e-05, 0.00011315368033226747, 0.0001653921702070571, 0.00028964775068351933, 0.0005638066401904007, 0.0022111258954771174], \"_metadata\": {}}'"
      ]
     },
     "execution_count": 16,
     "metadata": {},
     "output_type": "execute_result"
    }
   ],
   "source": [
    "# I can export the measurement from yahist\n",
    "\n",
    "b_eff_deepJet.to_json()"
   ]
  },
  {
   "cell_type": "code",
   "execution_count": 17,
   "metadata": {},
   "outputs": [
    {
     "data": {
      "text/plain": [
       "0.7857133899293974"
      ]
     },
     "execution_count": 17,
     "metadata": {},
     "output_type": "execute_result"
    }
   ],
   "source": [
    "# lookup is easy, but only works for np arrays (so far)\n",
    "\n",
    "b_eff_deepJet.lookup(30)"
   ]
  },
  {
   "cell_type": "code",
   "execution_count": 91,
   "metadata": {},
   "outputs": [],
   "source": [
    "b_eff_deepJet.to_json(os.path.expandvars(\"$TWHOME/Tools/data/btag/Autumn18_b_eff_deepJet.json\"))\n",
    "c_eff_deepJet.to_json(os.path.expandvars(\"$TWHOME/Tools/data/btag/Autumn18_c_eff_deepJet.json\"))\n",
    "light_eff_deepJet.to_json(os.path.expandvars(\"$TWHOME/Tools/data/btag/Autumn18_light_eff_deepJet.json\"))"
   ]
  },
  {
   "cell_type": "markdown",
   "metadata": {},
   "source": [
    "# Development of SF calculation\n",
    "\n",
    "The coffea tools aren't so helpful. We need to have Method 1a implemented.\n"
   ]
  },
  {
   "cell_type": "code",
   "execution_count": 9,
   "metadata": {},
   "outputs": [],
   "source": [
    "from coffea.lookup_tools import extractor\n",
    "from coffea.btag_tools import BTagScaleFactor\n",
    "\n",
    "# deal with the SFs\n",
    "SF_file = os.path.expandvars('$TWHOME/Tools/data/btag/DeepJet_102XSF_V2.csv')\n",
    "btag_sf = BTagScaleFactor(SF_file, \"medium\", keep_df=True)\n",
    "\n",
    "# and load the efficiencies\n",
    "effs = {\n",
    "    'b': Hist1D.from_json(os.path.expandvars(\"$TWHOME/Tools/data/btag/Autumn18_b_eff_deepJet.json\")),\n",
    "    'c': Hist1D.from_json(os.path.expandvars(\"$TWHOME/Tools/data/btag/Autumn18_c_eff_deepJet.json\")),\n",
    "    'light': Hist1D.from_json(os.path.expandvars(\"$TWHOME/Tools/data/btag/Autumn18_light_eff_deepJet.json\")),\n",
    "}\n"
   ]
  },
  {
   "cell_type": "code",
   "execution_count": 10,
   "metadata": {},
   "outputs": [
    {
     "data": {
      "text/html": [
       "<div>\n",
       "<style scoped>\n",
       "    .dataframe tbody tr th:only-of-type {\n",
       "        vertical-align: middle;\n",
       "    }\n",
       "\n",
       "    .dataframe tbody tr th {\n",
       "        vertical-align: top;\n",
       "    }\n",
       "\n",
       "    .dataframe thead th {\n",
       "        text-align: right;\n",
       "    }\n",
       "</style>\n",
       "<table border=\"1\" class=\"dataframe\">\n",
       "  <thead>\n",
       "    <tr style=\"text-align: right;\">\n",
       "      <th></th>\n",
       "      <th></th>\n",
       "      <th></th>\n",
       "      <th></th>\n",
       "      <th></th>\n",
       "      <th>OperatingPoint</th>\n",
       "      <th>measurementType</th>\n",
       "      <th>formula</th>\n",
       "    </tr>\n",
       "    <tr>\n",
       "      <th>sysType</th>\n",
       "      <th>jetFlavor</th>\n",
       "      <th>etaBin</th>\n",
       "      <th>ptBin</th>\n",
       "      <th>discrBin</th>\n",
       "      <th></th>\n",
       "      <th></th>\n",
       "      <th></th>\n",
       "    </tr>\n",
       "  </thead>\n",
       "  <tbody>\n",
       "    <tr>\n",
       "      <th rowspan=\"3\" valign=\"top\">central</th>\n",
       "      <th>0</th>\n",
       "      <th>(-2.5, 2.5)</th>\n",
       "      <th>(20, 1000)</th>\n",
       "      <th>(0, 1)</th>\n",
       "      <td>1</td>\n",
       "      <td>comb</td>\n",
       "      <td>1.0097+(-(2.89663e-06*(log(x+19)*(log(x+18)*(3...</td>\n",
       "    </tr>\n",
       "    <tr>\n",
       "      <th>1</th>\n",
       "      <th>(-2.5, 2.5)</th>\n",
       "      <th>(20, 1000)</th>\n",
       "      <th>(0, 1)</th>\n",
       "      <td>1</td>\n",
       "      <td>comb</td>\n",
       "      <td>1.0097+(-(2.89663e-06*(log(x+19)*(log(x+18)*(3...</td>\n",
       "    </tr>\n",
       "    <tr>\n",
       "      <th>2</th>\n",
       "      <th>(0.0, 2.5)</th>\n",
       "      <th>(20, 1000)</th>\n",
       "      <th>(0, 1)</th>\n",
       "      <td>1</td>\n",
       "      <td>incl</td>\n",
       "      <td>1.59373+-0.00113028*x+8.66631e-07*x*x+-1.10505/x</td>\n",
       "    </tr>\n",
       "    <tr>\n",
       "      <th rowspan=\"19\" valign=\"top\">down</th>\n",
       "      <th rowspan=\"9\" valign=\"top\">0</th>\n",
       "      <th rowspan=\"9\" valign=\"top\">(-2.5, 2.5)</th>\n",
       "      <th>(20, 30)</th>\n",
       "      <th>(0, 1)</th>\n",
       "      <td>1</td>\n",
       "      <td>comb</td>\n",
       "      <td>1.0097+((-(2.89663e-06*(log(x+19)*(log(x+18)*(...</td>\n",
       "    </tr>\n",
       "    <tr>\n",
       "      <th>(30, 50)</th>\n",
       "      <th>(0, 1)</th>\n",
       "      <td>1</td>\n",
       "      <td>comb</td>\n",
       "      <td>1.0097+((-(2.89663e-06*(log(x+19)*(log(x+18)*(...</td>\n",
       "    </tr>\n",
       "    <tr>\n",
       "      <th>(50, 70)</th>\n",
       "      <th>(0, 1)</th>\n",
       "      <td>1</td>\n",
       "      <td>comb</td>\n",
       "      <td>1.0097+((-(2.89663e-06*(log(x+19)*(log(x+18)*(...</td>\n",
       "    </tr>\n",
       "    <tr>\n",
       "      <th>(70, 100)</th>\n",
       "      <th>(0, 1)</th>\n",
       "      <td>1</td>\n",
       "      <td>comb</td>\n",
       "      <td>1.0097+((-(2.89663e-06*(log(x+19)*(log(x+18)*(...</td>\n",
       "    </tr>\n",
       "    <tr>\n",
       "      <th>(100, 140)</th>\n",
       "      <th>(0, 1)</th>\n",
       "      <td>1</td>\n",
       "      <td>comb</td>\n",
       "      <td>1.0097+((-(2.89663e-06*(log(x+19)*(log(x+18)*(...</td>\n",
       "    </tr>\n",
       "    <tr>\n",
       "      <th>(140, 200)</th>\n",
       "      <th>(0, 1)</th>\n",
       "      <td>1</td>\n",
       "      <td>comb</td>\n",
       "      <td>1.0097+((-(2.89663e-06*(log(x+19)*(log(x+18)*(...</td>\n",
       "    </tr>\n",
       "    <tr>\n",
       "      <th>(200, 300)</th>\n",
       "      <th>(0, 1)</th>\n",
       "      <td>1</td>\n",
       "      <td>comb</td>\n",
       "      <td>1.0097+((-(2.89663e-06*(log(x+19)*(log(x+18)*(...</td>\n",
       "    </tr>\n",
       "    <tr>\n",
       "      <th>(300, 600)</th>\n",
       "      <th>(0, 1)</th>\n",
       "      <td>1</td>\n",
       "      <td>comb</td>\n",
       "      <td>1.0097+((-(2.89663e-06*(log(x+19)*(log(x+18)*(...</td>\n",
       "    </tr>\n",
       "    <tr>\n",
       "      <th>(600, 1000)</th>\n",
       "      <th>(0, 1)</th>\n",
       "      <td>1</td>\n",
       "      <td>comb</td>\n",
       "      <td>1.0097+((-(2.89663e-06*(log(x+19)*(log(x+18)*(...</td>\n",
       "    </tr>\n",
       "    <tr>\n",
       "      <th rowspan=\"9\" valign=\"top\">1</th>\n",
       "      <th rowspan=\"9\" valign=\"top\">(-2.5, 2.5)</th>\n",
       "      <th>(20, 30)</th>\n",
       "      <th>(0, 1)</th>\n",
       "      <td>1</td>\n",
       "      <td>comb</td>\n",
       "      <td>1.0097+((-(2.89663e-06*(log(x+19)*(log(x+18)*(...</td>\n",
       "    </tr>\n",
       "    <tr>\n",
       "      <th>(30, 50)</th>\n",
       "      <th>(0, 1)</th>\n",
       "      <td>1</td>\n",
       "      <td>comb</td>\n",
       "      <td>1.0097+((-(2.89663e-06*(log(x+19)*(log(x+18)*(...</td>\n",
       "    </tr>\n",
       "    <tr>\n",
       "      <th>(50, 70)</th>\n",
       "      <th>(0, 1)</th>\n",
       "      <td>1</td>\n",
       "      <td>comb</td>\n",
       "      <td>1.0097+((-(2.89663e-06*(log(x+19)*(log(x+18)*(...</td>\n",
       "    </tr>\n",
       "    <tr>\n",
       "      <th>(70, 100)</th>\n",
       "      <th>(0, 1)</th>\n",
       "      <td>1</td>\n",
       "      <td>comb</td>\n",
       "      <td>1.0097+((-(2.89663e-06*(log(x+19)*(log(x+18)*(...</td>\n",
       "    </tr>\n",
       "    <tr>\n",
       "      <th>(100, 140)</th>\n",
       "      <th>(0, 1)</th>\n",
       "      <td>1</td>\n",
       "      <td>comb</td>\n",
       "      <td>1.0097+((-(2.89663e-06*(log(x+19)*(log(x+18)*(...</td>\n",
       "    </tr>\n",
       "    <tr>\n",
       "      <th>(140, 200)</th>\n",
       "      <th>(0, 1)</th>\n",
       "      <td>1</td>\n",
       "      <td>comb</td>\n",
       "      <td>1.0097+((-(2.89663e-06*(log(x+19)*(log(x+18)*(...</td>\n",
       "    </tr>\n",
       "    <tr>\n",
       "      <th>(200, 300)</th>\n",
       "      <th>(0, 1)</th>\n",
       "      <td>1</td>\n",
       "      <td>comb</td>\n",
       "      <td>1.0097+((-(2.89663e-06*(log(x+19)*(log(x+18)*(...</td>\n",
       "    </tr>\n",
       "    <tr>\n",
       "      <th>(300, 600)</th>\n",
       "      <th>(0, 1)</th>\n",
       "      <td>1</td>\n",
       "      <td>comb</td>\n",
       "      <td>1.0097+((-(2.89663e-06*(log(x+19)*(log(x+18)*(...</td>\n",
       "    </tr>\n",
       "    <tr>\n",
       "      <th>(600, 1000)</th>\n",
       "      <th>(0, 1)</th>\n",
       "      <td>1</td>\n",
       "      <td>comb</td>\n",
       "      <td>1.0097+((-(2.89663e-06*(log(x+19)*(log(x+18)*(...</td>\n",
       "    </tr>\n",
       "    <tr>\n",
       "      <th>2</th>\n",
       "      <th>(0.0, 2.5)</th>\n",
       "      <th>(20, 1000)</th>\n",
       "      <th>(0, 1)</th>\n",
       "      <td>1</td>\n",
       "      <td>incl</td>\n",
       "      <td>(1.59373+-0.00113028*x+8.66631e-07*x*x+-1.1050...</td>\n",
       "    </tr>\n",
       "    <tr>\n",
       "      <th>down_correlated</th>\n",
       "      <th>2</th>\n",
       "      <th>(0.0, 2.5)</th>\n",
       "      <th>(20, 1000)</th>\n",
       "      <th>(0, 1)</th>\n",
       "      <td>1</td>\n",
       "      <td>incl</td>\n",
       "      <td>(1.59373+-0.00113028*x+8.66631e-07*x*x+-1.1050...</td>\n",
       "    </tr>\n",
       "    <tr>\n",
       "      <th>down_uncorrelated</th>\n",
       "      <th>2</th>\n",
       "      <th>(0.0, 2.5)</th>\n",
       "      <th>(20, 1000)</th>\n",
       "      <th>(0, 1)</th>\n",
       "      <td>1</td>\n",
       "      <td>incl</td>\n",
       "      <td>(1.59373+-0.00113028*x+8.66631e-07*x*x+-1.1050...</td>\n",
       "    </tr>\n",
       "    <tr>\n",
       "      <th rowspan=\"19\" valign=\"top\">up</th>\n",
       "      <th rowspan=\"9\" valign=\"top\">0</th>\n",
       "      <th rowspan=\"9\" valign=\"top\">(-2.5, 2.5)</th>\n",
       "      <th>(20, 30)</th>\n",
       "      <th>(0, 1)</th>\n",
       "      <td>1</td>\n",
       "      <td>comb</td>\n",
       "      <td>(1.0097+(-(2.89663e-06*(log(x+19)*(log(x+18)*(...</td>\n",
       "    </tr>\n",
       "    <tr>\n",
       "      <th>(30, 50)</th>\n",
       "      <th>(0, 1)</th>\n",
       "      <td>1</td>\n",
       "      <td>comb</td>\n",
       "      <td>(1.0097+(-(2.89663e-06*(log(x+19)*(log(x+18)*(...</td>\n",
       "    </tr>\n",
       "    <tr>\n",
       "      <th>(50, 70)</th>\n",
       "      <th>(0, 1)</th>\n",
       "      <td>1</td>\n",
       "      <td>comb</td>\n",
       "      <td>(1.0097+(-(2.89663e-06*(log(x+19)*(log(x+18)*(...</td>\n",
       "    </tr>\n",
       "    <tr>\n",
       "      <th>(70, 100)</th>\n",
       "      <th>(0, 1)</th>\n",
       "      <td>1</td>\n",
       "      <td>comb</td>\n",
       "      <td>(1.0097+(-(2.89663e-06*(log(x+19)*(log(x+18)*(...</td>\n",
       "    </tr>\n",
       "    <tr>\n",
       "      <th>(100, 140)</th>\n",
       "      <th>(0, 1)</th>\n",
       "      <td>1</td>\n",
       "      <td>comb</td>\n",
       "      <td>(1.0097+(-(2.89663e-06*(log(x+19)*(log(x+18)*(...</td>\n",
       "    </tr>\n",
       "    <tr>\n",
       "      <th>(140, 200)</th>\n",
       "      <th>(0, 1)</th>\n",
       "      <td>1</td>\n",
       "      <td>comb</td>\n",
       "      <td>(1.0097+(-(2.89663e-06*(log(x+19)*(log(x+18)*(...</td>\n",
       "    </tr>\n",
       "    <tr>\n",
       "      <th>(200, 300)</th>\n",
       "      <th>(0, 1)</th>\n",
       "      <td>1</td>\n",
       "      <td>comb</td>\n",
       "      <td>(1.0097+(-(2.89663e-06*(log(x+19)*(log(x+18)*(...</td>\n",
       "    </tr>\n",
       "    <tr>\n",
       "      <th>(300, 600)</th>\n",
       "      <th>(0, 1)</th>\n",
       "      <td>1</td>\n",
       "      <td>comb</td>\n",
       "      <td>(1.0097+(-(2.89663e-06*(log(x+19)*(log(x+18)*(...</td>\n",
       "    </tr>\n",
       "    <tr>\n",
       "      <th>(600, 1000)</th>\n",
       "      <th>(0, 1)</th>\n",
       "      <td>1</td>\n",
       "      <td>comb</td>\n",
       "      <td>(1.0097+(-(2.89663e-06*(log(x+19)*(log(x+18)*(...</td>\n",
       "    </tr>\n",
       "    <tr>\n",
       "      <th rowspan=\"9\" valign=\"top\">1</th>\n",
       "      <th rowspan=\"9\" valign=\"top\">(-2.5, 2.5)</th>\n",
       "      <th>(20, 30)</th>\n",
       "      <th>(0, 1)</th>\n",
       "      <td>1</td>\n",
       "      <td>comb</td>\n",
       "      <td>(1.0097+(-(2.89663e-06*(log(x+19)*(log(x+18)*(...</td>\n",
       "    </tr>\n",
       "    <tr>\n",
       "      <th>(30, 50)</th>\n",
       "      <th>(0, 1)</th>\n",
       "      <td>1</td>\n",
       "      <td>comb</td>\n",
       "      <td>(1.0097+(-(2.89663e-06*(log(x+19)*(log(x+18)*(...</td>\n",
       "    </tr>\n",
       "    <tr>\n",
       "      <th>(50, 70)</th>\n",
       "      <th>(0, 1)</th>\n",
       "      <td>1</td>\n",
       "      <td>comb</td>\n",
       "      <td>(1.0097+(-(2.89663e-06*(log(x+19)*(log(x+18)*(...</td>\n",
       "    </tr>\n",
       "    <tr>\n",
       "      <th>(70, 100)</th>\n",
       "      <th>(0, 1)</th>\n",
       "      <td>1</td>\n",
       "      <td>comb</td>\n",
       "      <td>(1.0097+(-(2.89663e-06*(log(x+19)*(log(x+18)*(...</td>\n",
       "    </tr>\n",
       "    <tr>\n",
       "      <th>(100, 140)</th>\n",
       "      <th>(0, 1)</th>\n",
       "      <td>1</td>\n",
       "      <td>comb</td>\n",
       "      <td>(1.0097+(-(2.89663e-06*(log(x+19)*(log(x+18)*(...</td>\n",
       "    </tr>\n",
       "    <tr>\n",
       "      <th>(140, 200)</th>\n",
       "      <th>(0, 1)</th>\n",
       "      <td>1</td>\n",
       "      <td>comb</td>\n",
       "      <td>(1.0097+(-(2.89663e-06*(log(x+19)*(log(x+18)*(...</td>\n",
       "    </tr>\n",
       "    <tr>\n",
       "      <th>(200, 300)</th>\n",
       "      <th>(0, 1)</th>\n",
       "      <td>1</td>\n",
       "      <td>comb</td>\n",
       "      <td>(1.0097+(-(2.89663e-06*(log(x+19)*(log(x+18)*(...</td>\n",
       "    </tr>\n",
       "    <tr>\n",
       "      <th>(300, 600)</th>\n",
       "      <th>(0, 1)</th>\n",
       "      <td>1</td>\n",
       "      <td>comb</td>\n",
       "      <td>(1.0097+(-(2.89663e-06*(log(x+19)*(log(x+18)*(...</td>\n",
       "    </tr>\n",
       "    <tr>\n",
       "      <th>(600, 1000)</th>\n",
       "      <th>(0, 1)</th>\n",
       "      <td>1</td>\n",
       "      <td>comb</td>\n",
       "      <td>(1.0097+(-(2.89663e-06*(log(x+19)*(log(x+18)*(...</td>\n",
       "    </tr>\n",
       "    <tr>\n",
       "      <th>2</th>\n",
       "      <th>(0.0, 2.5)</th>\n",
       "      <th>(20, 1000)</th>\n",
       "      <th>(0, 1)</th>\n",
       "      <td>1</td>\n",
       "      <td>incl</td>\n",
       "      <td>(1.59373+-0.00113028*x+8.66631e-07*x*x+-1.1050...</td>\n",
       "    </tr>\n",
       "    <tr>\n",
       "      <th>up_correlated</th>\n",
       "      <th>2</th>\n",
       "      <th>(0.0, 2.5)</th>\n",
       "      <th>(20, 1000)</th>\n",
       "      <th>(0, 1)</th>\n",
       "      <td>1</td>\n",
       "      <td>incl</td>\n",
       "      <td>(1.59373+-0.00113028*x+8.66631e-07*x*x+-1.1050...</td>\n",
       "    </tr>\n",
       "    <tr>\n",
       "      <th>up_uncorrelated</th>\n",
       "      <th>2</th>\n",
       "      <th>(0.0, 2.5)</th>\n",
       "      <th>(20, 1000)</th>\n",
       "      <th>(0, 1)</th>\n",
       "      <td>1</td>\n",
       "      <td>incl</td>\n",
       "      <td>(1.59373+-0.00113028*x+8.66631e-07*x*x+-1.1050...</td>\n",
       "    </tr>\n",
       "  </tbody>\n",
       "</table>\n",
       "</div>"
      ],
      "text/plain": [
       "                                                              OperatingPoint  \\\n",
       "sysType           jetFlavor etaBin      ptBin       discrBin                   \n",
       "central           0         (-2.5, 2.5) (20, 1000)  (0, 1)                 1   \n",
       "                  1         (-2.5, 2.5) (20, 1000)  (0, 1)                 1   \n",
       "                  2         (0.0, 2.5)  (20, 1000)  (0, 1)                 1   \n",
       "down              0         (-2.5, 2.5) (20, 30)    (0, 1)                 1   \n",
       "                                        (30, 50)    (0, 1)                 1   \n",
       "                                        (50, 70)    (0, 1)                 1   \n",
       "                                        (70, 100)   (0, 1)                 1   \n",
       "                                        (100, 140)  (0, 1)                 1   \n",
       "                                        (140, 200)  (0, 1)                 1   \n",
       "                                        (200, 300)  (0, 1)                 1   \n",
       "                                        (300, 600)  (0, 1)                 1   \n",
       "                                        (600, 1000) (0, 1)                 1   \n",
       "                  1         (-2.5, 2.5) (20, 30)    (0, 1)                 1   \n",
       "                                        (30, 50)    (0, 1)                 1   \n",
       "                                        (50, 70)    (0, 1)                 1   \n",
       "                                        (70, 100)   (0, 1)                 1   \n",
       "                                        (100, 140)  (0, 1)                 1   \n",
       "                                        (140, 200)  (0, 1)                 1   \n",
       "                                        (200, 300)  (0, 1)                 1   \n",
       "                                        (300, 600)  (0, 1)                 1   \n",
       "                                        (600, 1000) (0, 1)                 1   \n",
       "                  2         (0.0, 2.5)  (20, 1000)  (0, 1)                 1   \n",
       "down_correlated   2         (0.0, 2.5)  (20, 1000)  (0, 1)                 1   \n",
       "down_uncorrelated 2         (0.0, 2.5)  (20, 1000)  (0, 1)                 1   \n",
       "up                0         (-2.5, 2.5) (20, 30)    (0, 1)                 1   \n",
       "                                        (30, 50)    (0, 1)                 1   \n",
       "                                        (50, 70)    (0, 1)                 1   \n",
       "                                        (70, 100)   (0, 1)                 1   \n",
       "                                        (100, 140)  (0, 1)                 1   \n",
       "                                        (140, 200)  (0, 1)                 1   \n",
       "                                        (200, 300)  (0, 1)                 1   \n",
       "                                        (300, 600)  (0, 1)                 1   \n",
       "                                        (600, 1000) (0, 1)                 1   \n",
       "                  1         (-2.5, 2.5) (20, 30)    (0, 1)                 1   \n",
       "                                        (30, 50)    (0, 1)                 1   \n",
       "                                        (50, 70)    (0, 1)                 1   \n",
       "                                        (70, 100)   (0, 1)                 1   \n",
       "                                        (100, 140)  (0, 1)                 1   \n",
       "                                        (140, 200)  (0, 1)                 1   \n",
       "                                        (200, 300)  (0, 1)                 1   \n",
       "                                        (300, 600)  (0, 1)                 1   \n",
       "                                        (600, 1000) (0, 1)                 1   \n",
       "                  2         (0.0, 2.5)  (20, 1000)  (0, 1)                 1   \n",
       "up_correlated     2         (0.0, 2.5)  (20, 1000)  (0, 1)                 1   \n",
       "up_uncorrelated   2         (0.0, 2.5)  (20, 1000)  (0, 1)                 1   \n",
       "\n",
       "                                                             measurementType  \\\n",
       "sysType           jetFlavor etaBin      ptBin       discrBin                   \n",
       "central           0         (-2.5, 2.5) (20, 1000)  (0, 1)              comb   \n",
       "                  1         (-2.5, 2.5) (20, 1000)  (0, 1)              comb   \n",
       "                  2         (0.0, 2.5)  (20, 1000)  (0, 1)              incl   \n",
       "down              0         (-2.5, 2.5) (20, 30)    (0, 1)              comb   \n",
       "                                        (30, 50)    (0, 1)              comb   \n",
       "                                        (50, 70)    (0, 1)              comb   \n",
       "                                        (70, 100)   (0, 1)              comb   \n",
       "                                        (100, 140)  (0, 1)              comb   \n",
       "                                        (140, 200)  (0, 1)              comb   \n",
       "                                        (200, 300)  (0, 1)              comb   \n",
       "                                        (300, 600)  (0, 1)              comb   \n",
       "                                        (600, 1000) (0, 1)              comb   \n",
       "                  1         (-2.5, 2.5) (20, 30)    (0, 1)              comb   \n",
       "                                        (30, 50)    (0, 1)              comb   \n",
       "                                        (50, 70)    (0, 1)              comb   \n",
       "                                        (70, 100)   (0, 1)              comb   \n",
       "                                        (100, 140)  (0, 1)              comb   \n",
       "                                        (140, 200)  (0, 1)              comb   \n",
       "                                        (200, 300)  (0, 1)              comb   \n",
       "                                        (300, 600)  (0, 1)              comb   \n",
       "                                        (600, 1000) (0, 1)              comb   \n",
       "                  2         (0.0, 2.5)  (20, 1000)  (0, 1)              incl   \n",
       "down_correlated   2         (0.0, 2.5)  (20, 1000)  (0, 1)              incl   \n",
       "down_uncorrelated 2         (0.0, 2.5)  (20, 1000)  (0, 1)              incl   \n",
       "up                0         (-2.5, 2.5) (20, 30)    (0, 1)              comb   \n",
       "                                        (30, 50)    (0, 1)              comb   \n",
       "                                        (50, 70)    (0, 1)              comb   \n",
       "                                        (70, 100)   (0, 1)              comb   \n",
       "                                        (100, 140)  (0, 1)              comb   \n",
       "                                        (140, 200)  (0, 1)              comb   \n",
       "                                        (200, 300)  (0, 1)              comb   \n",
       "                                        (300, 600)  (0, 1)              comb   \n",
       "                                        (600, 1000) (0, 1)              comb   \n",
       "                  1         (-2.5, 2.5) (20, 30)    (0, 1)              comb   \n",
       "                                        (30, 50)    (0, 1)              comb   \n",
       "                                        (50, 70)    (0, 1)              comb   \n",
       "                                        (70, 100)   (0, 1)              comb   \n",
       "                                        (100, 140)  (0, 1)              comb   \n",
       "                                        (140, 200)  (0, 1)              comb   \n",
       "                                        (200, 300)  (0, 1)              comb   \n",
       "                                        (300, 600)  (0, 1)              comb   \n",
       "                                        (600, 1000) (0, 1)              comb   \n",
       "                  2         (0.0, 2.5)  (20, 1000)  (0, 1)              incl   \n",
       "up_correlated     2         (0.0, 2.5)  (20, 1000)  (0, 1)              incl   \n",
       "up_uncorrelated   2         (0.0, 2.5)  (20, 1000)  (0, 1)              incl   \n",
       "\n",
       "                                                                                                        formula  \n",
       "sysType           jetFlavor etaBin      ptBin       discrBin                                                     \n",
       "central           0         (-2.5, 2.5) (20, 1000)  (0, 1)    1.0097+(-(2.89663e-06*(log(x+19)*(log(x+18)*(3...  \n",
       "                  1         (-2.5, 2.5) (20, 1000)  (0, 1)    1.0097+(-(2.89663e-06*(log(x+19)*(log(x+18)*(3...  \n",
       "                  2         (0.0, 2.5)  (20, 1000)  (0, 1)    1.59373+-0.00113028*x+8.66631e-07*x*x+-1.10505/x   \n",
       "down              0         (-2.5, 2.5) (20, 30)    (0, 1)    1.0097+((-(2.89663e-06*(log(x+19)*(log(x+18)*(...  \n",
       "                                        (30, 50)    (0, 1)    1.0097+((-(2.89663e-06*(log(x+19)*(log(x+18)*(...  \n",
       "                                        (50, 70)    (0, 1)    1.0097+((-(2.89663e-06*(log(x+19)*(log(x+18)*(...  \n",
       "                                        (70, 100)   (0, 1)    1.0097+((-(2.89663e-06*(log(x+19)*(log(x+18)*(...  \n",
       "                                        (100, 140)  (0, 1)    1.0097+((-(2.89663e-06*(log(x+19)*(log(x+18)*(...  \n",
       "                                        (140, 200)  (0, 1)    1.0097+((-(2.89663e-06*(log(x+19)*(log(x+18)*(...  \n",
       "                                        (200, 300)  (0, 1)    1.0097+((-(2.89663e-06*(log(x+19)*(log(x+18)*(...  \n",
       "                                        (300, 600)  (0, 1)    1.0097+((-(2.89663e-06*(log(x+19)*(log(x+18)*(...  \n",
       "                                        (600, 1000) (0, 1)    1.0097+((-(2.89663e-06*(log(x+19)*(log(x+18)*(...  \n",
       "                  1         (-2.5, 2.5) (20, 30)    (0, 1)    1.0097+((-(2.89663e-06*(log(x+19)*(log(x+18)*(...  \n",
       "                                        (30, 50)    (0, 1)    1.0097+((-(2.89663e-06*(log(x+19)*(log(x+18)*(...  \n",
       "                                        (50, 70)    (0, 1)    1.0097+((-(2.89663e-06*(log(x+19)*(log(x+18)*(...  \n",
       "                                        (70, 100)   (0, 1)    1.0097+((-(2.89663e-06*(log(x+19)*(log(x+18)*(...  \n",
       "                                        (100, 140)  (0, 1)    1.0097+((-(2.89663e-06*(log(x+19)*(log(x+18)*(...  \n",
       "                                        (140, 200)  (0, 1)    1.0097+((-(2.89663e-06*(log(x+19)*(log(x+18)*(...  \n",
       "                                        (200, 300)  (0, 1)    1.0097+((-(2.89663e-06*(log(x+19)*(log(x+18)*(...  \n",
       "                                        (300, 600)  (0, 1)    1.0097+((-(2.89663e-06*(log(x+19)*(log(x+18)*(...  \n",
       "                                        (600, 1000) (0, 1)    1.0097+((-(2.89663e-06*(log(x+19)*(log(x+18)*(...  \n",
       "                  2         (0.0, 2.5)  (20, 1000)  (0, 1)    (1.59373+-0.00113028*x+8.66631e-07*x*x+-1.1050...  \n",
       "down_correlated   2         (0.0, 2.5)  (20, 1000)  (0, 1)    (1.59373+-0.00113028*x+8.66631e-07*x*x+-1.1050...  \n",
       "down_uncorrelated 2         (0.0, 2.5)  (20, 1000)  (0, 1)    (1.59373+-0.00113028*x+8.66631e-07*x*x+-1.1050...  \n",
       "up                0         (-2.5, 2.5) (20, 30)    (0, 1)    (1.0097+(-(2.89663e-06*(log(x+19)*(log(x+18)*(...  \n",
       "                                        (30, 50)    (0, 1)    (1.0097+(-(2.89663e-06*(log(x+19)*(log(x+18)*(...  \n",
       "                                        (50, 70)    (0, 1)    (1.0097+(-(2.89663e-06*(log(x+19)*(log(x+18)*(...  \n",
       "                                        (70, 100)   (0, 1)    (1.0097+(-(2.89663e-06*(log(x+19)*(log(x+18)*(...  \n",
       "                                        (100, 140)  (0, 1)    (1.0097+(-(2.89663e-06*(log(x+19)*(log(x+18)*(...  \n",
       "                                        (140, 200)  (0, 1)    (1.0097+(-(2.89663e-06*(log(x+19)*(log(x+18)*(...  \n",
       "                                        (200, 300)  (0, 1)    (1.0097+(-(2.89663e-06*(log(x+19)*(log(x+18)*(...  \n",
       "                                        (300, 600)  (0, 1)    (1.0097+(-(2.89663e-06*(log(x+19)*(log(x+18)*(...  \n",
       "                                        (600, 1000) (0, 1)    (1.0097+(-(2.89663e-06*(log(x+19)*(log(x+18)*(...  \n",
       "                  1         (-2.5, 2.5) (20, 30)    (0, 1)    (1.0097+(-(2.89663e-06*(log(x+19)*(log(x+18)*(...  \n",
       "                                        (30, 50)    (0, 1)    (1.0097+(-(2.89663e-06*(log(x+19)*(log(x+18)*(...  \n",
       "                                        (50, 70)    (0, 1)    (1.0097+(-(2.89663e-06*(log(x+19)*(log(x+18)*(...  \n",
       "                                        (70, 100)   (0, 1)    (1.0097+(-(2.89663e-06*(log(x+19)*(log(x+18)*(...  \n",
       "                                        (100, 140)  (0, 1)    (1.0097+(-(2.89663e-06*(log(x+19)*(log(x+18)*(...  \n",
       "                                        (140, 200)  (0, 1)    (1.0097+(-(2.89663e-06*(log(x+19)*(log(x+18)*(...  \n",
       "                                        (200, 300)  (0, 1)    (1.0097+(-(2.89663e-06*(log(x+19)*(log(x+18)*(...  \n",
       "                                        (300, 600)  (0, 1)    (1.0097+(-(2.89663e-06*(log(x+19)*(log(x+18)*(...  \n",
       "                                        (600, 1000) (0, 1)    (1.0097+(-(2.89663e-06*(log(x+19)*(log(x+18)*(...  \n",
       "                  2         (0.0, 2.5)  (20, 1000)  (0, 1)    (1.59373+-0.00113028*x+8.66631e-07*x*x+-1.1050...  \n",
       "up_correlated     2         (0.0, 2.5)  (20, 1000)  (0, 1)    (1.59373+-0.00113028*x+8.66631e-07*x*x+-1.1050...  \n",
       "up_uncorrelated   2         (0.0, 2.5)  (20, 1000)  (0, 1)    (1.59373+-0.00113028*x+8.66631e-07*x*x+-1.1050...  "
      ]
     },
     "execution_count": 10,
     "metadata": {},
     "output_type": "execute_result"
    }
   ],
   "source": [
    "df = btag_sf.df\n",
    "df"
   ]
  },
  {
   "cell_type": "code",
   "execution_count": 11,
   "metadata": {},
   "outputs": [],
   "source": [
    "# load some jets\n",
    "from Tools.basic_objects import *\n",
    "\n",
    "from coffea.nanoevents import NanoEventsFactory, NanoAODSchema\n",
    "\n",
    "# the below command will change to .from_root in coffea v0.7.0\n",
    "events = NanoEventsFactory.from_root('/hadoop/cms/store/user/dspitzba/tW_scattering/tW_scattering/nanoAOD/tW_scattering_nanoAOD_123.root', schemaclass=NanoAODSchema).events()\n",
    "\n",
    "jet       = getJets(events, minPt=25, maxEta=2.5)\n",
    "\n",
    "# should have those seperately\n",
    "tagged = getBTagsDeepFlavB(jet, year=2018, invert=False)\n",
    "untagged = getBTagsDeepFlavB(jet, year=2018, invert=True)\n"
   ]
  },
  {
   "cell_type": "code",
   "execution_count": 12,
   "metadata": {},
   "outputs": [
    {
     "data": {
      "text/plain": [
       "<Array [[30, 20], [15, 25, 30], [100]] type='3 * var * int64'>"
      ]
     },
     "execution_count": 12,
     "metadata": {},
     "output_type": "execute_result"
    }
   ],
   "source": [
    "test_array = ak.Array([[30,20], [15,25,30],[100]])\n",
    "test_array"
   ]
  },
  {
   "cell_type": "code",
   "execution_count": 14,
   "metadata": {},
   "outputs": [
    {
     "data": {
      "text/plain": [
       "<Array [[0.786, 0.738], ... 0.786], [0.839]] type='3 * var * float64'>"
      ]
     },
     "execution_count": 14,
     "metadata": {},
     "output_type": "execute_result"
    }
   ],
   "source": [
    "effs = ak.unflatten(effs['b'].lookup(ak.to_numpy(ak.flatten(test_array))), ak.num(test_array))\n",
    "effs"
   ]
  },
  {
   "cell_type": "code",
   "execution_count": 68,
   "metadata": {},
   "outputs": [],
   "source": [
    "def doAwkwardLookup(h, ar):\n",
    "    '''\n",
    "    takes a ya_hist histogram (which has a lookup function) and an awkward array.\n",
    "    '''\n",
    "    return ak.unflatten(\n",
    "        h.lookup(\n",
    "            ak.to_numpy(\n",
    "                ak.flatten(ar)\n",
    "            ) \n",
    "        ), ak.num(ar) )"
   ]
  },
  {
   "cell_type": "code",
   "execution_count": 69,
   "metadata": {},
   "outputs": [
    {
     "data": {
      "text/plain": [
       "<Array [[0.854, 0.854, ... 0.786, 0.786]] type='1000 * var * float64'>"
      ]
     },
     "execution_count": 69,
     "metadata": {},
     "output_type": "execute_result"
    }
   ],
   "source": [
    "effs = doAwkwardLookup(b_eff_deepJet, jet.pt)\n",
    "effs"
   ]
  },
  {
   "cell_type": "code",
   "execution_count": 75,
   "metadata": {},
   "outputs": [],
   "source": [
    "effs_b = doAwkwardLookup(b_eff_deepJet, jet_had_b.pt)\n",
    "effs_c = doAwkwardLookup(c_eff_deepJet, jet_had_c.pt)\n",
    "effs_udsg = doAwkwardLookup(light_eff_deepJet, jet_had_udsg.pt)"
   ]
  },
  {
   "cell_type": "code",
   "execution_count": 78,
   "metadata": {},
   "outputs": [
    {
     "data": {
      "text/plain": [
       "<Array [[0.0228, 0.0228, ... 0.786, 0.173]] type='1000 * var * float64'>"
      ]
     },
     "execution_count": 78,
     "metadata": {},
     "output_type": "execute_result"
    }
   ],
   "source": [
    "effs_b = doAwkwardLookup(b_eff_deepJet, jet.pt)*(jet.hadronFlavour==5)\n",
    "effs_c = doAwkwardLookup(c_eff_deepJet, jet.pt)*(jet.hadronFlavour==4)\n",
    "effs_light = doAwkwardLookup(light_eff_deepJet, jet.pt)*(jet.hadronFlavour==0)\n",
    "(effs_b + effs_c + effs_light)"
   ]
  },
  {
   "cell_type": "code",
   "execution_count": 70,
   "metadata": {},
   "outputs": [
    {
     "data": {
      "text/plain": [
       "<Array [[1.1, 1.13, 0.813, ... 0.776, 0.778]] type='1000 * var * float64'>"
      ]
     },
     "execution_count": 70,
     "metadata": {},
     "output_type": "execute_result"
    }
   ],
   "source": [
    "sfs * effs"
   ]
  },
  {
   "cell_type": "code",
   "execution_count": 83,
   "metadata": {},
   "outputs": [],
   "source": [
    "def Method1a(tagged, untagged, effs, btag_sf):\n",
    "    '''\n",
    "    tagged: jet collection of tagged jets\n",
    "    untagged: jet collection untagged jets\n",
    "    effs: dictionary of the tagging efficiencies (1D yahist objects)\n",
    "    btag_sf: coffea b-tag SF object\n",
    "    '''\n",
    "    tagged_b = doAwkwardLookup(effs['b'], tagged.pt)*(tagged.hadronFlavour==5)\n",
    "    tagged_c = doAwkwardLookup(effs['c'], tagged.pt)*(tagged.hadronFlavour==4)\n",
    "    tagged_light = doAwkwardLookup(effs['light'], tagged.pt)*(tagged.hadronFlavour==0)\n",
    "    \n",
    "    tagged_SFs = btag_sf.eval('central', tagged.hadronFlavour, abs(tagged.eta), tagged.pt )\n",
    "    \n",
    "    untagged_b = doAwkwardLookup(effs['b'], untagged.pt)*(untagged.hadronFlavour==5)\n",
    "    untagged_c = doAwkwardLookup(effs['c'], untagged.pt)*(untagged.hadronFlavour==4)\n",
    "    untagged_light = doAwkwardLookup(effs['light'], untagged.pt)*(untagged.hadronFlavour==0)\n",
    "    \n",
    "    untagged_SFs = btag_sf.eval('central', untagged.hadronFlavour, abs(untagged.eta), untagged.pt )\n",
    "    \n",
    "    tagged_all = (tagged_b+tagged_c+tagged_light)\n",
    "    untagged_all = (untagged_b+untagged_c+untagged_light)\n",
    "    \n",
    "    num = ak.prod(tagged_all, axis=1) * ak.prod((1-untagged_all), axis=1)\n",
    "    denom = ak.prod(tagged_all*tagged_SFs, axis=1) * ak.prod((1-untagged_all*untagged_SFs), axis=1)\n",
    "    return num/denom"
   ]
  },
  {
   "cell_type": "code",
   "execution_count": 85,
   "metadata": {},
   "outputs": [
    {
     "data": {
      "text/plain": [
       "<Array [1.1, 1.18, 1.18, ... 1.13, 0.943] type='1000 * float64'>"
      ]
     },
     "execution_count": 85,
     "metadata": {},
     "output_type": "execute_result"
    }
   ],
   "source": [
    "effs = {'b': b_eff_deepJet, 'c': c_eff_deepJet, 'light': light_eff_deepJet}\n",
    "btag_weight = Method1a(tagged, untagged, effs, btag_sf)\n",
    "btag_weight"
   ]
  },
  {
   "cell_type": "code",
   "execution_count": 87,
   "metadata": {},
   "outputs": [
    {
     "data": {
      "text/plain": [
       "<Array [2, 2, 3, 1, 2, 1, ... 2, 0, 1, 1, 2, 1] type='1000 * int64'>"
      ]
     },
     "execution_count": 87,
     "metadata": {},
     "output_type": "execute_result"
    }
   ],
   "source": [
    "ak.num(tagged)"
   ]
  },
  {
   "cell_type": "code",
   "execution_count": 89,
   "metadata": {},
   "outputs": [
    {
     "data": {
      "text/plain": [
       "1.0470282816477854"
      ]
     },
     "execution_count": 89,
     "metadata": {},
     "output_type": "execute_result"
    }
   ],
   "source": [
    "ak.sum(btag_weight)/1000"
   ]
  },
  {
   "cell_type": "code",
   "execution_count": null,
   "metadata": {},
   "outputs": [],
   "source": [
    "## This is the final outcome\n",
    "\n",
    "from Tools.btag_scalefactors import *\n",
    "\n",
    "btag = btag_scalefactor(2018)\n",
    "\n",
    "weight = btag.Method1a(tagged, untagged)\n",
    "weight"
   ]
  },
  {
   "cell_type": "code",
   "execution_count": 208,
   "metadata": {},
   "outputs": [
    {
     "data": {
      "text/html": [
       "<div>\n",
       "<style scoped>\n",
       "    .dataframe tbody tr th:only-of-type {\n",
       "        vertical-align: middle;\n",
       "    }\n",
       "\n",
       "    .dataframe tbody tr th {\n",
       "        vertical-align: top;\n",
       "    }\n",
       "\n",
       "    .dataframe thead th {\n",
       "        text-align: right;\n",
       "    }\n",
       "</style>\n",
       "<table border=\"1\" class=\"dataframe\">\n",
       "  <thead>\n",
       "    <tr style=\"text-align: right;\">\n",
       "      <th></th>\n",
       "      <th>OperatingPoint</th>\n",
       "      <th>measurementType</th>\n",
       "      <th>sysType</th>\n",
       "      <th>jetFlavor</th>\n",
       "      <th>etaMin</th>\n",
       "      <th>etaMax</th>\n",
       "      <th>ptMin</th>\n",
       "      <th>ptMax</th>\n",
       "      <th>discrMin</th>\n",
       "      <th>discrMax</th>\n",
       "      <th>formula</th>\n",
       "    </tr>\n",
       "  </thead>\n",
       "  <tbody>\n",
       "    <tr>\n",
       "      <th>0</th>\n",
       "      <td>0</td>\n",
       "      <td>comb</td>\n",
       "      <td>central</td>\n",
       "      <td>1</td>\n",
       "      <td>-2.5</td>\n",
       "      <td>2.5</td>\n",
       "      <td>20</td>\n",
       "      <td>1000</td>\n",
       "      <td>0</td>\n",
       "      <td>1</td>\n",
       "      <td>\"0.873139+(0.00420739*(log(x+19)*(log(x+18)*(...</td>\n",
       "    </tr>\n",
       "    <tr>\n",
       "      <th>1</th>\n",
       "      <td>0</td>\n",
       "      <td>comb</td>\n",
       "      <td>central</td>\n",
       "      <td>0</td>\n",
       "      <td>-2.5</td>\n",
       "      <td>2.5</td>\n",
       "      <td>20</td>\n",
       "      <td>1000</td>\n",
       "      <td>0</td>\n",
       "      <td>1</td>\n",
       "      <td>\"0.873139+(0.00420739*(log(x+19)*(log(x+18)*(...</td>\n",
       "    </tr>\n",
       "    <tr>\n",
       "      <th>2</th>\n",
       "      <td>0</td>\n",
       "      <td>comb</td>\n",
       "      <td>down</td>\n",
       "      <td>1</td>\n",
       "      <td>-2.5</td>\n",
       "      <td>2.5</td>\n",
       "      <td>20</td>\n",
       "      <td>30</td>\n",
       "      <td>0</td>\n",
       "      <td>1</td>\n",
       "      <td>\"0.873139+((0.00420739*(log(x+19)*(log(x+18)*...</td>\n",
       "    </tr>\n",
       "    <tr>\n",
       "      <th>3</th>\n",
       "      <td>0</td>\n",
       "      <td>comb</td>\n",
       "      <td>down</td>\n",
       "      <td>1</td>\n",
       "      <td>-2.5</td>\n",
       "      <td>2.5</td>\n",
       "      <td>30</td>\n",
       "      <td>50</td>\n",
       "      <td>0</td>\n",
       "      <td>1</td>\n",
       "      <td>\"0.873139+((0.00420739*(log(x+19)*(log(x+18)*...</td>\n",
       "    </tr>\n",
       "    <tr>\n",
       "      <th>4</th>\n",
       "      <td>0</td>\n",
       "      <td>comb</td>\n",
       "      <td>down</td>\n",
       "      <td>1</td>\n",
       "      <td>-2.5</td>\n",
       "      <td>2.5</td>\n",
       "      <td>50</td>\n",
       "      <td>70</td>\n",
       "      <td>0</td>\n",
       "      <td>1</td>\n",
       "      <td>\"0.873139+((0.00420739*(log(x+19)*(log(x+18)*...</td>\n",
       "    </tr>\n",
       "    <tr>\n",
       "      <th>...</th>\n",
       "      <td>...</td>\n",
       "      <td>...</td>\n",
       "      <td>...</td>\n",
       "      <td>...</td>\n",
       "      <td>...</td>\n",
       "      <td>...</td>\n",
       "      <td>...</td>\n",
       "      <td>...</td>\n",
       "      <td>...</td>\n",
       "      <td>...</td>\n",
       "      <td>...</td>\n",
       "    </tr>\n",
       "    <tr>\n",
       "      <th>244</th>\n",
       "      <td>2</td>\n",
       "      <td>incl</td>\n",
       "      <td>down_correlated</td>\n",
       "      <td>2</td>\n",
       "      <td>0.0</td>\n",
       "      <td>2.5</td>\n",
       "      <td>20</td>\n",
       "      <td>1000</td>\n",
       "      <td>0</td>\n",
       "      <td>1</td>\n",
       "      <td>\"(1.77088+-0.00371551*x+5.86489e-06*x*x+-3.01...</td>\n",
       "    </tr>\n",
       "    <tr>\n",
       "      <th>245</th>\n",
       "      <td>2</td>\n",
       "      <td>incl</td>\n",
       "      <td>down_uncorrelated</td>\n",
       "      <td>2</td>\n",
       "      <td>0.0</td>\n",
       "      <td>2.5</td>\n",
       "      <td>20</td>\n",
       "      <td>1000</td>\n",
       "      <td>0</td>\n",
       "      <td>1</td>\n",
       "      <td>\"(1.77088+-0.00371551*x+5.86489e-06*x*x+-3.01...</td>\n",
       "    </tr>\n",
       "    <tr>\n",
       "      <th>246</th>\n",
       "      <td>2</td>\n",
       "      <td>incl</td>\n",
       "      <td>up</td>\n",
       "      <td>2</td>\n",
       "      <td>0.0</td>\n",
       "      <td>2.5</td>\n",
       "      <td>20</td>\n",
       "      <td>1000</td>\n",
       "      <td>0</td>\n",
       "      <td>1</td>\n",
       "      <td>\"(1.77088+-0.00371551*x+5.86489e-06*x*x+-3.01...</td>\n",
       "    </tr>\n",
       "    <tr>\n",
       "      <th>247</th>\n",
       "      <td>2</td>\n",
       "      <td>incl</td>\n",
       "      <td>up_correlated</td>\n",
       "      <td>2</td>\n",
       "      <td>0.0</td>\n",
       "      <td>2.5</td>\n",
       "      <td>20</td>\n",
       "      <td>1000</td>\n",
       "      <td>0</td>\n",
       "      <td>1</td>\n",
       "      <td>\"(1.77088+-0.00371551*x+5.86489e-06*x*x+-3.01...</td>\n",
       "    </tr>\n",
       "    <tr>\n",
       "      <th>248</th>\n",
       "      <td>2</td>\n",
       "      <td>incl</td>\n",
       "      <td>up_uncorrelated</td>\n",
       "      <td>2</td>\n",
       "      <td>0.0</td>\n",
       "      <td>2.5</td>\n",
       "      <td>20</td>\n",
       "      <td>1000</td>\n",
       "      <td>0</td>\n",
       "      <td>1</td>\n",
       "      <td>\"(1.77088+-0.00371551*x+5.86489e-06*x*x+-3.01...</td>\n",
       "    </tr>\n",
       "  </tbody>\n",
       "</table>\n",
       "<p>249 rows × 11 columns</p>\n",
       "</div>"
      ],
      "text/plain": [
       "     OperatingPoint  measurementType             sysType   jetFlavor   etaMin  \\\n",
       "0                 0             comb             central           1     -2.5   \n",
       "1                 0             comb             central           0     -2.5   \n",
       "2                 0             comb                down           1     -2.5   \n",
       "3                 0             comb                down           1     -2.5   \n",
       "4                 0             comb                down           1     -2.5   \n",
       "..              ...              ...                 ...         ...      ...   \n",
       "244               2             incl     down_correlated           2      0.0   \n",
       "245               2             incl   down_uncorrelated           2      0.0   \n",
       "246               2             incl                  up           2      0.0   \n",
       "247               2             incl       up_correlated           2      0.0   \n",
       "248               2             incl     up_uncorrelated           2      0.0   \n",
       "\n",
       "      etaMax   ptMin   ptMax   discrMin   discrMax  \\\n",
       "0        2.5      20    1000          0          1   \n",
       "1        2.5      20    1000          0          1   \n",
       "2        2.5      20      30          0          1   \n",
       "3        2.5      30      50          0          1   \n",
       "4        2.5      50      70          0          1   \n",
       "..       ...     ...     ...        ...        ...   \n",
       "244      2.5      20    1000          0          1   \n",
       "245      2.5      20    1000          0          1   \n",
       "246      2.5      20    1000          0          1   \n",
       "247      2.5      20    1000          0          1   \n",
       "248      2.5      20    1000          0          1   \n",
       "\n",
       "                                              formula   \n",
       "0     \"0.873139+(0.00420739*(log(x+19)*(log(x+18)*(...  \n",
       "1     \"0.873139+(0.00420739*(log(x+19)*(log(x+18)*(...  \n",
       "2     \"0.873139+((0.00420739*(log(x+19)*(log(x+18)*...  \n",
       "3     \"0.873139+((0.00420739*(log(x+19)*(log(x+18)*...  \n",
       "4     \"0.873139+((0.00420739*(log(x+19)*(log(x+18)*...  \n",
       "..                                                 ...  \n",
       "244   \"(1.77088+-0.00371551*x+5.86489e-06*x*x+-3.01...  \n",
       "245   \"(1.77088+-0.00371551*x+5.86489e-06*x*x+-3.01...  \n",
       "246   \"(1.77088+-0.00371551*x+5.86489e-06*x*x+-3.01...  \n",
       "247   \"(1.77088+-0.00371551*x+5.86489e-06*x*x+-3.01...  \n",
       "248   \"(1.77088+-0.00371551*x+5.86489e-06*x*x+-3.01...  \n",
       "\n",
       "[249 rows x 11 columns]"
      ]
     },
     "execution_count": 208,
     "metadata": {},
     "output_type": "execute_result"
    }
   ],
   "source": [
    "import pandas as pd\n",
    "sf_df = pd.read_csv(SF_file)\n",
    "sf_df"
   ]
  },
  {
   "cell_type": "code",
   "execution_count": 211,
   "metadata": {},
   "outputs": [
    {
     "data": {
      "text/html": [
       "<div>\n",
       "<style scoped>\n",
       "    .dataframe tbody tr th:only-of-type {\n",
       "        vertical-align: middle;\n",
       "    }\n",
       "\n",
       "    .dataframe tbody tr th {\n",
       "        vertical-align: top;\n",
       "    }\n",
       "\n",
       "    .dataframe thead th {\n",
       "        text-align: right;\n",
       "    }\n",
       "</style>\n",
       "<table border=\"1\" class=\"dataframe\">\n",
       "  <thead>\n",
       "    <tr style=\"text-align: right;\">\n",
       "      <th></th>\n",
       "      <th>formula</th>\n",
       "    </tr>\n",
       "  </thead>\n",
       "  <tbody>\n",
       "    <tr>\n",
       "      <th>0</th>\n",
       "      <td>\"0.873139+(0.00420739*(log(x+19)*(log(x+18)*(...</td>\n",
       "    </tr>\n",
       "    <tr>\n",
       "      <th>1</th>\n",
       "      <td>\"0.873139+(0.00420739*(log(x+19)*(log(x+18)*(...</td>\n",
       "    </tr>\n",
       "    <tr>\n",
       "      <th>2</th>\n",
       "      <td>\"0.873139+((0.00420739*(log(x+19)*(log(x+18)*...</td>\n",
       "    </tr>\n",
       "    <tr>\n",
       "      <th>3</th>\n",
       "      <td>\"0.873139+((0.00420739*(log(x+19)*(log(x+18)*...</td>\n",
       "    </tr>\n",
       "    <tr>\n",
       "      <th>4</th>\n",
       "      <td>\"0.873139+((0.00420739*(log(x+19)*(log(x+18)*...</td>\n",
       "    </tr>\n",
       "    <tr>\n",
       "      <th>...</th>\n",
       "      <td>...</td>\n",
       "    </tr>\n",
       "    <tr>\n",
       "      <th>244</th>\n",
       "      <td>\"(1.77088+-0.00371551*x+5.86489e-06*x*x+-3.01...</td>\n",
       "    </tr>\n",
       "    <tr>\n",
       "      <th>245</th>\n",
       "      <td>\"(1.77088+-0.00371551*x+5.86489e-06*x*x+-3.01...</td>\n",
       "    </tr>\n",
       "    <tr>\n",
       "      <th>246</th>\n",
       "      <td>\"(1.77088+-0.00371551*x+5.86489e-06*x*x+-3.01...</td>\n",
       "    </tr>\n",
       "    <tr>\n",
       "      <th>247</th>\n",
       "      <td>\"(1.77088+-0.00371551*x+5.86489e-06*x*x+-3.01...</td>\n",
       "    </tr>\n",
       "    <tr>\n",
       "      <th>248</th>\n",
       "      <td>\"(1.77088+-0.00371551*x+5.86489e-06*x*x+-3.01...</td>\n",
       "    </tr>\n",
       "  </tbody>\n",
       "</table>\n",
       "<p>249 rows × 1 columns</p>\n",
       "</div>"
      ],
      "text/plain": [
       "                                              formula \n",
       "0     \"0.873139+(0.00420739*(log(x+19)*(log(x+18)*(...\n",
       "1     \"0.873139+(0.00420739*(log(x+19)*(log(x+18)*(...\n",
       "2     \"0.873139+((0.00420739*(log(x+19)*(log(x+18)*...\n",
       "3     \"0.873139+((0.00420739*(log(x+19)*(log(x+18)*...\n",
       "4     \"0.873139+((0.00420739*(log(x+19)*(log(x+18)*...\n",
       "..                                                 ...\n",
       "244   \"(1.77088+-0.00371551*x+5.86489e-06*x*x+-3.01...\n",
       "245   \"(1.77088+-0.00371551*x+5.86489e-06*x*x+-3.01...\n",
       "246   \"(1.77088+-0.00371551*x+5.86489e-06*x*x+-3.01...\n",
       "247   \"(1.77088+-0.00371551*x+5.86489e-06*x*x+-3.01...\n",
       "248   \"(1.77088+-0.00371551*x+5.86489e-06*x*x+-3.01...\n",
       "\n",
       "[249 rows x 1 columns]"
      ]
     },
     "execution_count": 211,
     "metadata": {},
     "output_type": "execute_result"
    }
   ],
   "source": [
    "formulae = sf_df[[' formula ']]\n",
    "formulae"
   ]
  },
  {
   "cell_type": "code",
   "execution_count": 221,
   "metadata": {},
   "outputs": [
    {
     "data": {
      "text/plain": [
       "' \"0.873139+(0.00420739*(log(x+19)*(log(x+18)*(3-(0.380932*log(x+18))))))\" '"
      ]
     },
     "execution_count": 221,
     "metadata": {},
     "output_type": "execute_result"
    }
   ],
   "source": [
    "formula = formulae.to_numpy()[0][0]\n",
    "formula"
   ]
  },
  {
   "cell_type": "code",
   "execution_count": 230,
   "metadata": {},
   "outputs": [
    {
     "data": {
      "text/plain": [
       "'0.873139+(0.00420739*(log(x+19)*(log(x+18)*(3-(0.380932*log(x+18))))))'"
      ]
     },
     "execution_count": 230,
     "metadata": {},
     "output_type": "execute_result"
    }
   ],
   "source": [
    "eval(formula)"
   ]
  },
  {
   "cell_type": "code",
   "execution_count": 231,
   "metadata": {},
   "outputs": [],
   "source": [
    "feval = eval(\n",
    "                        \"lambda x: \" + eval(formula), {\"log\": np.log, \"sqrt\": np.sqrt}\n",
    "                    )"
   ]
  },
  {
   "cell_type": "code",
   "execution_count": 236,
   "metadata": {},
   "outputs": [
    {
     "data": {
      "text/plain": [
       "0.9636541095209529"
      ]
     },
     "execution_count": 236,
     "metadata": {},
     "output_type": "execute_result"
    }
   ],
   "source": [
    "feval(20)"
   ]
  },
  {
   "cell_type": "code",
   "execution_count": 233,
   "metadata": {},
   "outputs": [],
   "source": [
    "import numba"
   ]
  },
  {
   "cell_type": "code",
   "execution_count": 234,
   "metadata": {},
   "outputs": [],
   "source": [
    "out = numba.jit()(feval)"
   ]
  },
  {
   "cell_type": "code",
   "execution_count": 235,
   "metadata": {},
   "outputs": [
    {
     "data": {
      "text/plain": [
       "0.9548417381747321"
      ]
     },
     "execution_count": 235,
     "metadata": {},
     "output_type": "execute_result"
    }
   ],
   "source": [
    "out(10)"
   ]
  },
  {
   "cell_type": "markdown",
   "metadata": {},
   "source": [
    "# Read the b-tag efficiencies with common coffea tools\n",
    "\n",
    "Retired this idea..."
   ]
  },
  {
   "cell_type": "code",
   "execution_count": 32,
   "metadata": {},
   "outputs": [],
   "source": [
    "ext = extractor()"
   ]
  },
  {
   "cell_type": "code",
   "execution_count": 33,
   "metadata": {},
   "outputs": [
    {
     "ename": "Exception",
     "evalue": "\"test test2.json\" not formatted as \"<local name> <name> <weights file>\"",
     "output_type": "error",
     "traceback": [
      "\u001b[0;31m---------------------------------------------------------------------------\u001b[0m",
      "\u001b[0;31mException\u001b[0m                                 Traceback (most recent call last)",
      "\u001b[0;32m<ipython-input-33-60afd65c18f5>\u001b[0m in \u001b[0;36m<module>\u001b[0;34m\u001b[0m\n\u001b[0;32m----> 1\u001b[0;31m \u001b[0mext\u001b[0m\u001b[0;34m.\u001b[0m\u001b[0madd_weight_sets\u001b[0m\u001b[0;34m(\u001b[0m\u001b[0;34m[\u001b[0m\u001b[0;34m\"test test2.json\"\u001b[0m\u001b[0;34m]\u001b[0m\u001b[0;34m)\u001b[0m\u001b[0;34m\u001b[0m\u001b[0;34m\u001b[0m\u001b[0m\n\u001b[0m",
      "\u001b[0;32m~/miniconda3/envs/coffeadev/lib/python3.8/site-packages/coffea/lookup_tools/extractor.py\u001b[0m in \u001b[0;36madd_weight_sets\u001b[0;34m(self, weightsdescs)\u001b[0m\n\u001b[1;32m     80\u001b[0m             \u001b[0mtemp\u001b[0m \u001b[0;34m=\u001b[0m \u001b[0mweightdesc\u001b[0m\u001b[0;34m.\u001b[0m\u001b[0mstrip\u001b[0m\u001b[0;34m(\u001b[0m\u001b[0;34m)\u001b[0m\u001b[0;34m.\u001b[0m\u001b[0msplit\u001b[0m\u001b[0;34m(\u001b[0m\u001b[0;34m\" \"\u001b[0m\u001b[0;34m)\u001b[0m\u001b[0;34m\u001b[0m\u001b[0;34m\u001b[0m\u001b[0m\n\u001b[1;32m     81\u001b[0m             \u001b[0;32mif\u001b[0m \u001b[0mlen\u001b[0m\u001b[0;34m(\u001b[0m\u001b[0mtemp\u001b[0m\u001b[0;34m)\u001b[0m \u001b[0;34m!=\u001b[0m \u001b[0;36m3\u001b[0m\u001b[0;34m:\u001b[0m\u001b[0;34m\u001b[0m\u001b[0;34m\u001b[0m\u001b[0m\n\u001b[0;32m---> 82\u001b[0;31m                 raise Exception(\n\u001b[0m\u001b[1;32m     83\u001b[0m                     '\"{}\" not formatted as \"<local name> <name> <weights file>\"'.format(\n\u001b[1;32m     84\u001b[0m                         \u001b[0mweightdesc\u001b[0m\u001b[0;34m\u001b[0m\u001b[0;34m\u001b[0m\u001b[0m\n",
      "\u001b[0;31mException\u001b[0m: \"test test2.json\" not formatted as \"<local name> <name> <weights file>\""
     ]
    }
   ],
   "source": [
    "ext.add_weight_sets([\"test test2.json\"])"
   ]
  },
  {
   "cell_type": "code",
   "execution_count": 34,
   "metadata": {},
   "outputs": [
    {
     "data": {
      "text/plain": [
       "'\\n{\\n        \"EIDISO_WH\" : {\\n                \"eta_pt_ratio\" : {\\n                        \"eta:[ 0.00, 0.80]\":{\\n                                \"pt:[25.00,27.00]\":{\\n                                        \"value\":0.903,\\n                                        \"error\":0.051\\n                                },\\n                                \"pt:[27.00,30.00]\":{\\n                                        \"value\":0.921,\\n'"
      ]
     },
     "execution_count": 34,
     "metadata": {},
     "output_type": "execute_result"
    }
   ],
   "source": [
    "'''\n",
    "{\n",
    "        \"EIDISO_WH\" : {\n",
    "                \"eta_pt_ratio\" : {\n",
    "                        \"eta:[ 0.00, 0.80]\":{\n",
    "                                \"pt:[25.00,27.00]\":{\n",
    "                                        \"value\":0.903,\n",
    "                                        \"error\":0.051\n",
    "                                },\n",
    "                                \"pt:[27.00,30.00]\":{\n",
    "                                        \"value\":0.921,\n",
    "'''\n",
    "\n",
    "# this is the structure coffea expects"
   ]
  },
  {
   "cell_type": "code",
   "execution_count": 37,
   "metadata": {},
   "outputs": [
    {
     "data": {
      "text/plain": [
       "array([ 20.,  30.,  50.,  70., 100., 140., 200., 300., 600., 900.])"
      ]
     },
     "execution_count": 37,
     "metadata": {},
     "output_type": "execute_result"
    }
   ],
   "source": [
    "b_eff_deepJet.edges"
   ]
  },
  {
   "cell_type": "code",
   "execution_count": 48,
   "metadata": {},
   "outputs": [],
   "source": [
    "btag_eff_dict = {'b': {'eta_pt_ratio': {'eta:[ 0.00, 2.50]': {'pt:[20.0,30.0]': {'value:': 0.8, 'error': 0.2}}}}}"
   ]
  },
  {
   "cell_type": "code",
   "execution_count": 49,
   "metadata": {},
   "outputs": [],
   "source": [
    "with open('test3.json', 'w') as out:\n",
    "    json.dump(btag_eff_dict, out)"
   ]
  },
  {
   "cell_type": "code",
   "execution_count": null,
   "metadata": {},
   "outputs": [],
   "source": []
  }
 ],
 "metadata": {
  "kernelspec": {
   "display_name": "coffeadev",
   "language": "python",
   "name": "coffeadev"
  },
  "language_info": {
   "codemirror_mode": {
    "name": "ipython",
    "version": 3
   },
   "file_extension": ".py",
   "mimetype": "text/x-python",
   "name": "python",
   "nbconvert_exporter": "python",
   "pygments_lexer": "ipython3",
   "version": "3.8.6"
  }
 },
 "nbformat": 4,
 "nbformat_minor": 4
}
