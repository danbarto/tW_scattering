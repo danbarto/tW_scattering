{
 "cells": [
  {
   "cell_type": "code",
   "execution_count": null,
   "metadata": {},
   "outputs": [],
   "source": [
    "%load_ext autoreload\n",
    "%autoreload 2"
   ]
  },
  {
   "cell_type": "code",
   "execution_count": null,
   "metadata": {},
   "outputs": [],
   "source": [
    "import awkward as ak\n",
    "\n",
    "from coffea import processor, hist\n",
    "from coffea.nanoevents import NanoEventsFactory, NanoAODSchema\n",
    "from coffea.analysis_tools import Weights, PackedSelection\n",
    "from klepto.archives import dir_archive\n",
    "\n",
    "import numpy as np\n",
    "\n",
    "from processor.forward_jet import *\n"
   ]
  },
  {
   "cell_type": "code",
   "execution_count": null,
   "metadata": {},
   "outputs": [],
   "source": [
    "# load the basic filesets and choose what samples we actually want to load\n",
    "\n",
    "from Tools.samples import fileset_2018\n",
    "from processor.default_accumulators import variations, desired_output, add_processes_to_output\n"
   ]
  },
  {
   "cell_type": "code",
   "execution_count": null,
   "metadata": {},
   "outputs": [],
   "source": [
    "from Tools.helpers import get_scheduler_address\n",
    "\n",
    "from dask.distributed import Client, progress\n",
    "\n",
    "scheduler_address = get_scheduler_address()\n",
    "\n",
    "c = Client(scheduler_address)\n",
    "\n",
    "c"
   ]
  },
  {
   "cell_type": "code",
   "execution_count": null,
   "metadata": {},
   "outputs": [],
   "source": [
    "%%time\n",
    "overwrite = True\n",
    "small = True\n",
    "local = False\n",
    "year = 2018\n",
    "\n",
    "# load the config and the cache\n",
    "cfg = loadConfig()\n",
    "\n",
    "cacheName = 'forward'\n",
    "if small: cacheName += '_small'\n",
    "cache = dir_archive(os.path.join(os.path.expandvars(cfg['caches']['base']), cacheName), serialized=True)\n",
    "\n",
    "fileset = {\n",
    "    #'tW_scattering': fileset_2018['tW_scattering'],\n",
    "    'topW_v3': fileset_2018['topW_v3'],\n",
    "    'ttbar': fileset_2018['ttbar2l'], # dilepton ttbar should be enough for this study.\n",
    "    'MuonEG': fileset_2018['MuonEG'],\n",
    "    'DoubleMuon': fileset_2018['DoubleMuon'],\n",
    "    'EGamma': fileset_2018['EGamma'],\n",
    "    'WW': fileset_2018['WW'],\n",
    "    'WZ': fileset_2018['WZ'],\n",
    "    'DY': fileset_2018['DY'],\n",
    "}\n",
    "\n",
    "fileset = make_small(fileset, small)\n",
    "\n",
    "add_processes_to_output(fileset, desired_output)\n",
    "\n",
    "for rle in ['run', 'lumi', 'event']:\n",
    "    desired_output.update({\n",
    "            'MuonEG_%s'%rle: processor.column_accumulator(np.zeros(shape=(0,))),\n",
    "            'EGamma_%s'%rle: processor.column_accumulator(np.zeros(shape=(0,))),\n",
    "            'DoubleMuon_%s'%rle: processor.column_accumulator(np.zeros(shape=(0,))),\n",
    "            })\n",
    "\n",
    "histograms = sorted(list(desired_output.keys()))\n",
    "\n",
    "if local:\n",
    "    exe_args = {\n",
    "        'workers': 3,\n",
    "        'function_args': {'flatten': False},\n",
    "        \"schema\": NanoAODSchema,\n",
    "    }\n",
    "    exe = processor.futures_executor\n",
    "    \n",
    "else:\n",
    "    exe_args = {\n",
    "        'client': c,\n",
    "        'function_args': {'flatten': False},\n",
    "        \"schema\": NanoAODSchema,\n",
    "    }\n",
    "    exe = processor.dask_executor\n",
    "\n",
    "\n",
    "\n",
    "if not overwrite:\n",
    "    cache.load()\n",
    "\n",
    "#if cfg == cache.get('cfg') and histograms == cache.get('histograms') and cache.get('simple_output'):\n",
    "if cfg == cache.get('cfg') and cache.get('simple_output'):\n",
    "    output = cache.get('simple_output')\n",
    "\n",
    "else:\n",
    "    print (\"I'm running now\")\n",
    "    \n",
    "    output = processor.run_uproot_job(\n",
    "        fileset,\n",
    "        \"Events\",\n",
    "        forwardJetAnalyzer(year=year, variations=variations, accumulator=desired_output),\n",
    "        exe,\n",
    "        exe_args,\n",
    "        chunksize=250000,\n",
    "    )\n",
    "    \n",
    "    cache['fileset']        = fileset\n",
    "    cache['cfg']            = cfg\n",
    "    cache['histograms']     = histograms\n",
    "    cache['simple_output']  = output\n",
    "    cache.dump()"
   ]
  },
  {
   "cell_type": "markdown",
   "metadata": {},
   "source": [
    "~22s for baseline code\n"
   ]
  },
  {
   "cell_type": "code",
   "execution_count": null,
   "metadata": {},
   "outputs": [],
   "source": [
    "# Cutflow\n",
    "from Tools.helpers import getCutFlowTable\n",
    "\n",
    "#processes = ['tW_scattering', 'topW_v2']\n",
    "processes = ['DY', 'ttbar', 'WW', 'WZ', 'MuonEG', 'EGamma', 'DoubleMuon']\n",
    "\n",
    "# let's use the S/B functionality to get data/MC by defining data (MuonEG) as signal\n",
    "lines = ['entry']\n",
    "lines +=   ['filter',\n",
    "            'lepveto',\n",
    "            'dilep',\n",
    "            'p_T(lep0)>25',\n",
    "            'p_T(lep1)>20',\n",
    "            'trigger',\n",
    "            'OS',\n",
    "            'N_jet>3',\n",
    "            'N_central>2',\n",
    "            'N_btag>0',\n",
    "            'MET>30',\n",
    "            'N_fwd>0',\n",
    "            ]\n",
    "\n",
    "\n",
    "df = getCutFlowTable(output, processes=processes, lines=lines, significantFigures=4,\n",
    "                    # signal='MuonEG'\n",
    "                    )\n",
    "df"
   ]
  },
  {
   "cell_type": "markdown",
   "metadata": {},
   "source": [
    "5.693 v0.2.3 vs 5.693 in v0.2.2 -> good\n",
    "\n",
    "PU weight looks good, too.\n"
   ]
  },
  {
   "cell_type": "code",
   "execution_count": null,
   "metadata": {},
   "outputs": [],
   "source": [
    "df = getCutFlowTable(output, processes=processes, lines=lines, significantFigures=4, absolute=False)\n",
    "df"
   ]
  },
  {
   "cell_type": "markdown",
   "metadata": {},
   "source": [
    "/hadoop/cms/store/user/dspitzba/ProjectMetis/TTWJetsToLNuEWK_5f_NLO_RunIIAutumn18_NANO_v2/:\n",
    "  files: 478\n",
    "  nEvents: 478000\n",
    "  name: ProjectMetis_TTWJetsToLNuEWK_5f_NLO_RunIIAutumn18_NANO_v2\n",
    "  path: /hadoop/cms/store/user/dspitzba/ProjectMetis/TTWJetsToLNuEWK_5f_NLO_RunIIAutumn18_NANO_v2/\n",
    "  split: 207\n",
    "  sumWeight: 22576.62849550001\n",
    "  xsec: 0.0478\n",
    "\n",
    "filter efficiency: 0.482\n",
    "\n",
    "/hadoop/cms/store/user/dspitzba/tW_scattering/tW_scattering/nanoAOD/:\n",
    "  files: 56\n",
    "  nEvents: 54200\n",
    "  name: tW_scattering_nanoAOD\n",
    "  path: /hadoop/cms/store/user/dspitzba/tW_scattering/tW_scattering/nanoAOD/\n",
    "  split: 56\n",
    "  sumWeight: 2622.728769570001\n",
    "  xsec: 0.0478\n",
    "  \n",
    "filter efficiency: 0.46\n",
    "\n",
    "**I need to check where these two samples depart from each other**\n",
    "\n",
    "Most of the selections are slightly less efficient on the new sample, but they agree within 2 sigma.\n",
    "In the end it is\n",
    "\n",
    "7.834 +/- 0.674 (old) vs 7.096 +/- 0.216 (new)\n",
    "\n",
    "in the OS ttbar selection.\n",
    "\n",
    "The PU distribution looks a bit odd in the old sample, but otherwise things look good.\n",
    "(PU mixing has been updated in the new sample to include a larger number of neutrino gun files)\n"
   ]
  },
  {
   "cell_type": "code",
   "execution_count": null,
   "metadata": {},
   "outputs": [],
   "source": [
    "import warnings\n",
    "warnings.filterwarnings('ignore')\n",
    "\n",
    "import matplotlib.pyplot as plt\n",
    "import mplhep as hep\n",
    "plt.style.use(hep.style.CMS)\n",
    "\n",
    "from plots.helpers import *\n",
    "\n",
    "# defining some new axes for rebinning.\n",
    "N_bins = hist.Bin('multiplicity', r'$N$', 10, -0.5, 9.5)\n",
    "N_bins_red = hist.Bin('multiplicity', r'$N$', 5, -0.5, 4.5)\n",
    "mass_bins = hist.Bin('mass', r'$M\\ (GeV)$', 20, 0, 200)\n",
    "pt_bins = hist.Bin('pt', r'$p_{T}\\ (GeV)$', 30, 0, 300)\n",
    "pt_bins_coarse = hist.Bin('pt', r'$p_{T}\\ (GeV)$', 10, 0, 300)\n",
    "eta_bins = hist.Bin('eta', r'$\\eta $', 25, -5.0, 5.0)\n",
    "\n",
    "my_labels = {\n",
    "    'topW_v2': 'top-W scat.',\n",
    "    'WW': 'WW',\n",
    "    'WZ': 'WZ',\n",
    "    'ttbar': r'$t\\bar{t}$',\n",
    "    'DY': 'Drell-Yan',\n",
    "    'MuonEG': 'Observation',\n",
    "    'EGamma': 'Observation',\n",
    "    'DoubleMuon': 'Observation',\n",
    "}\n",
    "\n",
    "my_colors = {\n",
    "    'topW_v2': '#FF595E',\n",
    "    'WW': '#34623F',\n",
    "    'WZ': '#525B76',\n",
    "    'ttbar': '#1982C4',\n",
    "    'DY': '#6A4C93',\n",
    "    'MuonEG': '#000000',\n",
    "    'EGamma': '#000000',\n",
    "    'DoubleMuon': '#000000',\n",
    "}"
   ]
  },
  {
   "cell_type": "code",
   "execution_count": null,
   "metadata": {},
   "outputs": [],
   "source": [
    "makePlot(output, 'PV_npvsGood', 'multiplicity',\n",
    "         data=['MuonEG', 'DoubleMuon', 'EGamma'],\n",
    "         bins=None,\n",
    "         log=True, normalize=True, axis_label=r'$N_{good PV}$',\n",
    "         new_colors=my_colors, new_labels=my_labels,\n",
    "         order=['topW_v2', 'WW', 'WZ', 'DY', 'ttbar'],\n",
    "         omit=[],\n",
    "        )"
   ]
  },
  {
   "cell_type": "code",
   "execution_count": null,
   "metadata": {},
   "outputs": [],
   "source": [
    "makePlot(output, 'N_ele', 'multiplicity',\n",
    "         data=['MuonEG', 'DoubleMuon', 'EGamma'],\n",
    "         bins=N_bins_red,\n",
    "         log=True, normalize=True, axis_label=r'$N_{good PV}$',\n",
    "         new_colors=my_colors, new_labels=my_labels,\n",
    "         order=['topW_v2', 'WW', 'WZ', 'DY', 'ttbar'],\n",
    "         omit=[],\n",
    "        )"
   ]
  },
  {
   "cell_type": "code",
   "execution_count": null,
   "metadata": {},
   "outputs": [],
   "source": [
    "makePlot(output, 'N_b', 'multiplicity',\n",
    "         data=['MuonEG', 'DoubleMuon', 'EGamma'],\n",
    "         bins=N_bins_red,\n",
    "         log=True, normalize=True, axis_label=r'$N_{b-tag}$',\n",
    "         new_colors=my_colors, new_labels=my_labels,\n",
    "         order=['topW_v2', 'WW', 'WZ', 'DY', 'ttbar'],\n",
    "         omit=[],\n",
    "        )"
   ]
  },
  {
   "cell_type": "code",
   "execution_count": null,
   "metadata": {},
   "outputs": [],
   "source": [
    "makePlot(output, 'N_fwd', 'multiplicity',\n",
    "         data=['MuonEG', 'DoubleMuon', 'EGamma'],\n",
    "         bins=N_bins_red,\n",
    "         log=True, normalize=True, axis_label=r'$N_{fwd\\ jet}$',\n",
    "         new_colors=my_colors, new_labels=my_labels,\n",
    "         order=['topW_v2', 'WW', 'WZ', 'DY', 'ttbar'],\n",
    "         omit=[],\n",
    "        )"
   ]
  },
  {
   "cell_type": "code",
   "execution_count": null,
   "metadata": {},
   "outputs": [],
   "source": [
    "makePlot(output, 'N_jet', 'multiplicity',\n",
    "         data=['MuonEG', 'DoubleMuon', 'EGamma'],\n",
    "         bins=N_bins,\n",
    "         log=True, normalize=True, axis_label=r'$N_{jet}$',\n",
    "         new_colors=my_colors, new_labels=my_labels,\n",
    "         order=['topW_v2', 'WW', 'WZ', 'DY', 'ttbar'],\n",
    "         omit=[],\n",
    "        )"
   ]
  },
  {
   "cell_type": "code",
   "execution_count": null,
   "metadata": {},
   "outputs": [],
   "source": [
    "makePlot(output, 'N_jet', 'multiplicity',\n",
    "         data=['MuonEG', 'DoubleMuon', 'EGamma'],\n",
    "         bins=N_bins,\n",
    "         log=True, normalize=True, axis_label=r'$N_{jet}$',\n",
    "         new_colors=my_colors, new_labels=my_labels,\n",
    "         #order=['WW', 'WZ', 'DY', 'ttbar'],\n",
    "         omit=[],\n",
    "        )"
   ]
  },
  {
   "cell_type": "code",
   "execution_count": null,
   "metadata": {},
   "outputs": [],
   "source": [
    "makePlot(output, 'lead_lep', 'pt',\n",
    "         data=['MuonEG', 'DoubleMuon', 'EGamma'],\n",
    "         bins=pt_bins,\n",
    "         log=True, normalize=True, axis_label=r'$p_{T}$ (lead lep) (GeV)',\n",
    "         new_colors=my_colors, new_labels=my_labels,\n",
    "         order=['WW', 'WZ', 'DY', 'ttbar'],\n",
    "         signals=['topW_v2'],\n",
    "         omit=[],\n",
    "        )"
   ]
  },
  {
   "cell_type": "code",
   "execution_count": null,
   "metadata": {},
   "outputs": [],
   "source": [
    "makePlot(output, 'lead_lep', 'eta',\n",
    "         data=['MuonEG', 'DoubleMuon', 'EGamma'],\n",
    "         bins=eta_bins,\n",
    "         log=True, normalize=True, axis_label=r'$p_{T}$ (lead lep) (GeV)',\n",
    "         new_colors=my_colors, new_labels=my_labels,\n",
    "         order=['WW', 'WZ', 'DY', 'ttbar'],\n",
    "         omit=[],\n",
    "        )"
   ]
  },
  {
   "cell_type": "code",
   "execution_count": null,
   "metadata": {},
   "outputs": [],
   "source": [
    "makePlot(output, 'fwd_jet', 'pt',\n",
    "         data=['MuonEG', 'DoubleMuon', 'EGamma'],\n",
    "         bins=pt_bins,\n",
    "         log=True, normalize=True, axis_label=r'$p_{T}$ (lead lep) (GeV)',\n",
    "         new_colors=my_colors, new_labels=my_labels,\n",
    "         order=['WW', 'WZ', 'DY', 'ttbar'],\n",
    "         omit=[],\n",
    "        )"
   ]
  },
  {
   "cell_type": "code",
   "execution_count": null,
   "metadata": {},
   "outputs": [],
   "source": [
    "makePlot(output, 'j1', 'pt',\n",
    "         data=['MuonEG', 'DoubleMuon', 'EGamma'],\n",
    "         bins=pt_bins,\n",
    "         log=True, normalize=True, axis_label=r'$p_{T}$ (lead lep) (GeV)',\n",
    "         new_colors=my_colors, new_labels=my_labels,\n",
    "         order=['WW', 'WZ', 'DY', 'ttbar'],\n",
    "         omit=[],\n",
    "        )"
   ]
  },
  {
   "cell_type": "code",
   "execution_count": null,
   "metadata": {},
   "outputs": [],
   "source": [
    "makePlot(output, 'PV_npvsGood', 'multiplicity',\n",
    "         data_sel=None, # use None if you don't use observation\n",
    "         bins=None, log=False, normalize=True, axis_label=r'$N_{good\\ PV}$',\n",
    "        )"
   ]
  },
  {
   "cell_type": "code",
   "execution_count": null,
   "metadata": {},
   "outputs": [],
   "source": [
    "makePlot(output, 'PV_npvsGood', 'multiplicity',\n",
    "         #data_sel=None,\n",
    "         bins=None, log=False, normalize=True, axis_label=r'$N_{good\\ PV}$',\n",
    "         #upHists=['pt_jesTotalUp'], downHists=['pt_jesTotalDown']\n",
    "        )"
   ]
  },
  {
   "cell_type": "code",
   "execution_count": null,
   "metadata": {},
   "outputs": [],
   "source": [
    "makePlot(output, 'N_fwd', 'multiplicity',\n",
    "         #data_sel=None,\n",
    "         bins=N_bins_red, log=False, normalize=True, axis_label=r'$N_{fwd\\ jet}$',\n",
    "         upHists=['pt_jesTotalUp'], downHists=['pt_jesTotalDown']\n",
    "        )"
   ]
  },
  {
   "cell_type": "code",
   "execution_count": null,
   "metadata": {},
   "outputs": [],
   "source": [
    "makePlot(output, 'N_jet', 'multiplicity',\n",
    "         #data_sel=None,\n",
    "         bins=N_bins, log=False, normalize=True, axis_label=r'$N_{jet}$',\n",
    "         upHists=['pt_jesTotalUp'], downHists=['pt_jesTotalDown']\n",
    "        )"
   ]
  },
  {
   "cell_type": "code",
   "execution_count": null,
   "metadata": {},
   "outputs": [],
   "source": [
    "makePlot(output, 'N_b', 'multiplicity',\n",
    "         #data_sel=None,\n",
    "         bins=N_bins_red, log=False, normalize=True, axis_label=r'$N_{b-tag}$',\n",
    "         upHists=['pt_jesTotalUp'], downHists=['pt_jesTotalDown']\n",
    "        )"
   ]
  },
  {
   "cell_type": "code",
   "execution_count": null,
   "metadata": {},
   "outputs": [],
   "source": [
    "makePlot(output, 'N_central', 'multiplicity',\n",
    "         #data_sel=None,\n",
    "         bins=N_bins, log=False, normalize=True, axis_label=r'$N_{central\\ jet}$',\n",
    "         upHists=['pt_jesTotalUp'], downHists=['pt_jesTotalDown']\n",
    "        )"
   ]
  },
  {
   "cell_type": "code",
   "execution_count": null,
   "metadata": {},
   "outputs": [],
   "source": [
    "makePlot(output, 'MET', 'pt',\n",
    "         #data_sel=None,\n",
    "         bins=pt_bins_coarse, log=False, normalize=True, axis_label=r'$p_{T}^{miss}\\ (GeV)$',\n",
    "         upHists=['pt_jesTotalUp'], downHists=['pt_jesTotalDown'],\n",
    "         ratio_range = (0.75,1.25)\n",
    "        )"
   ]
  },
  {
   "cell_type": "code",
   "execution_count": null,
   "metadata": {},
   "outputs": [],
   "source": [
    "makePlot(output, 'fwd_jet', 'pt',\n",
    "         #data_sel=None,\n",
    "         bins=pt_bins_coarse, log=False, normalize=True, axis_label=r'$p_{T,\\ fwd\\ jet}$ (GeV)',\n",
    "         upHists=['pt_jesTotalUp'], downHists=['pt_jesTotalDown'],\n",
    "         save='/home/users/dspitzba/public_html/tW_scattering/dump/fwd_pt_syst_v2'\n",
    "        )"
   ]
  },
  {
   "cell_type": "code",
   "execution_count": null,
   "metadata": {},
   "outputs": [],
   "source": [
    "jet_name = 'fwd_jet'\n",
    "sample_name = 'ttbar'\n",
    "\n",
    "histogram = output[jet_name].project('pt', 'dataset').rebin('pt', pt_bins)\n",
    "ax = hist.plot1d(histogram[sample_name],overlay=\"dataset\", stack=False, overflow='over')\n",
    "print (\"Central:\", sum(histogram[sample_name].sum('dataset', overflow='over').values()[()]))\n",
    "\n",
    "histogram = output[jet_name+'_pt_jesTotalUp'].project('pt', 'dataset').rebin('pt', pt_bins)\n",
    "ax = hist.plot1d(histogram[sample_name],overlay=\"dataset\", stack=False, overflow='over')\n",
    "print (\"Up:\", sum(histogram[sample_name].sum('dataset', overflow='over').values()[()]))\n",
    "\n",
    "histogram = output[jet_name+'_pt_jesTotalDown'].project('pt', 'dataset').rebin('pt', pt_bins)\n",
    "ax = hist.plot1d(histogram[sample_name],overlay=\"dataset\", stack=False, overflow='over')\n",
    "print (\"Down:\", sum(histogram[sample_name].sum('dataset', overflow='over').values()[()]))\n",
    "\n"
   ]
  },
  {
   "cell_type": "code",
   "execution_count": null,
   "metadata": {},
   "outputs": [],
   "source": [
    "makePlot(output, 'fwd_jet', 'eta',\n",
    "         #data_sel=None,\n",
    "         bins=eta_bins, log=False, normalize=True, axis_label=r'$p_{T,\\ fwd\\ jet}$',\n",
    "         upHists=['pt_jesTotalUp'], downHists=['pt_jesTotalDown'],\n",
    "         #save='/home/users/dspitzba/public_html/tW_scattering/dump/fwd_pt_syst'\n",
    "        )"
   ]
  },
  {
   "cell_type": "code",
   "execution_count": null,
   "metadata": {},
   "outputs": [],
   "source": [
    "makePlot(output, 'j1', 'pt',\n",
    "         #data_sel=None,\n",
    "         bins=pt_bins, log=False, normalize=True, axis_label=r'$p_{T}$ (leading jet) (GeV)',\n",
    "         upHists=['pt_jesTotalUp'], downHists=['pt_jesTotalDown'],\n",
    "         #save='/home/users/dspitzba/public_html/tW_scattering/dump/fwd_pt_syst'\n",
    "        )"
   ]
  },
  {
   "cell_type": "code",
   "execution_count": null,
   "metadata": {},
   "outputs": [],
   "source": [
    "makePlot(output, 'b1', 'pt',\n",
    "         #data_sel=None,\n",
    "         bins=pt_bins, log=False, normalize=True, axis_label=r'$p_{T}$ (leading b-tagged jet) (GeV)',\n",
    "         upHists=['pt_jesTotalUp'], downHists=['pt_jesTotalDown'],\n",
    "         #save='/home/users/dspitzba/public_html/tW_scattering/dump/fwd_pt_syst'\n",
    "        )"
   ]
  },
  {
   "cell_type": "code",
   "execution_count": null,
   "metadata": {},
   "outputs": [],
   "source": [
    "makePlot(output, 'lead_lep', 'pt',\n",
    "         #data_sel=None,\n",
    "         bins=pt_bins, log=False, normalize=True, axis_label=r'$p_{T}$ (leading lepton) (GeV)',\n",
    "         ratio_range = (0.5,1.5)\n",
    "         )"
   ]
  },
  {
   "cell_type": "code",
   "execution_count": null,
   "metadata": {},
   "outputs": [],
   "source": [
    "makePlot(output, 'trail_lep', 'pt',\n",
    "         #data_sel=None,\n",
    "         bins=pt_bins, log=False, normalize=True, axis_label=r'$p_{T}$ (trailing lepton) (GeV)',\n",
    "         ratio_range = (0.5,1.5)\n",
    "         )"
   ]
  },
  {
   "cell_type": "code",
   "execution_count": null,
   "metadata": {},
   "outputs": [],
   "source": [
    "makePlot(output, 'electron', 'pt',\n",
    "         #data_sel=None,\n",
    "         bins=pt_bins, log=False, normalize=True, axis_label=r'$p_{T}$ (electron) (GeV)',\n",
    "         ratio_range = (0.5,1.5)\n",
    "         )"
   ]
  },
  {
   "cell_type": "code",
   "execution_count": null,
   "metadata": {},
   "outputs": [],
   "source": [
    "makePlot(output, 'muon', 'pt',\n",
    "         #data_sel=None,\n",
    "         bins=pt_bins, log=False, normalize=True, axis_label=r'$p_{T}$ (muon) (GeV)',\n",
    "         ratio_range = (0.5,1.5)\n",
    "         )"
   ]
  },
  {
   "cell_type": "markdown",
   "metadata": {},
   "source": [
    "It seems like either we have a wrong normalization of ttbar, missing data events, or the lepton SFs are huge (and the PU reweighting also contributes much).\n",
    "\n",
    "With ttH lepton IDs this is the normalization:\n",
    "\n",
    "Data: 20146.0 MC: 28085.86\n",
    "\n",
    "Looser SS ID:\n",
    "\n",
    "Data: 26242.0 MC: 34977.04\n",
    "\n",
    "There's some missing 0b simulation, potentially W+jets with a fake?\n",
    "\n",
    "Let's implement the proper lepton SFs and then see, SFs around 0.9 will already bring data/MC to agreement."
   ]
  },
  {
   "cell_type": "markdown",
   "metadata": {},
   "source": [
    "# Some development stuff"
   ]
  },
  {
   "cell_type": "code",
   "execution_count": null,
   "metadata": {},
   "outputs": [],
   "source": [
    "from coffea.nanoevents import NanoEventsFactory, NanoAODSchema\n",
    "\n",
    "# the below command will change to .from_root in coffea v0.7.0\n",
    "events = NanoEventsFactory.from_root('/hadoop/cms/store/user/dspitzba/nanoAOD/ttw_samples/topW_v0.2.2/tW_scattering_nanoAOD/nanoSkim_1.root', schemaclass=NanoAODSchema).events()"
   ]
  },
  {
   "cell_type": "code",
   "execution_count": null,
   "metadata": {},
   "outputs": [],
   "source": [
    "weight = Weights(len(events))\n",
    "#weight.weight()"
   ]
  },
  {
   "cell_type": "code",
   "execution_count": null,
   "metadata": {},
   "outputs": [],
   "source": [
    "import uproot4\n",
    "#fin = uproot4.open('/hadoop/cms/store/user/dspitzba/nanoAOD/ttw_samples/topW_v0.2.2/tW_scattering_nanoAOD/nanoSkim_1.root')\n",
    "fin = uproot4.open('/home/users/dspitzba/TTW/CMSSW_10_2_9/src/nanoAOD_37_Skim.root')"
   ]
  },
  {
   "cell_type": "code",
   "execution_count": null,
   "metadata": {},
   "outputs": [],
   "source": [
    "#fin['Events'].show() # this shows all the branches"
   ]
  },
  {
   "cell_type": "code",
   "execution_count": null,
   "metadata": {},
   "outputs": [],
   "source": [
    "from coffea.btag_tools import BTagScaleFactor"
   ]
  },
  {
   "cell_type": "code",
   "execution_count": null,
   "metadata": {},
   "outputs": [],
   "source": [
    "btag_sf = BTagScaleFactor(os.path.expandvars(\"$TWHOME/Tools/data/btag/DeepJet_102XSF_V2.csv\"), \"medium\")\n",
    "\n",
    "print(\"SF:\", btag_sf.eval(\"central\", events.Jet.hadronFlavour, abs(events.Jet.eta), events.Jet.pt))\n",
    "print(\"systematic +:\", btag_sf.eval(\"up\", events.Jet.hadronFlavour, abs(events.Jet.eta), events.Jet.pt))"
   ]
  },
  {
   "cell_type": "code",
   "execution_count": null,
   "metadata": {},
   "outputs": [],
   "source": [
    "sf = btag_sf.eval(\"central\", events.Jet.hadronFlavour, abs(events.Jet.eta), events.Jet.pt, )\n",
    "len(sf)"
   ]
  },
  {
   "cell_type": "code",
   "execution_count": null,
   "metadata": {},
   "outputs": [],
   "source": [
    "        ev = events\n",
    "        ## Muons\n",
    "        muon     = Collections(ev, \"Muon\", \"tightTTH\").get()\n",
    "        vetomuon = Collections(ev, \"Muon\", \"vetoTTH\").get()\n",
    "        dimuon   = choose(muon, 2)\n",
    "        SSmuon   = ak.any((dimuon['0'].charge * dimuon['1'].charge)>0, axis=1)\n",
    "        OSmuon   = ak.any((dimuon['0'].charge * dimuon['1'].charge)<0, axis=1)\n",
    "        leading_muon_idx = ak.singletons(ak.argmax(muon.pt, axis=1))\n",
    "        leading_muon = muon[leading_muon_idx]\n",
    "        \n",
    "        ## Electrons\n",
    "        electron     = Collections(ev, \"Electron\", \"tightTTH\").get()\n",
    "        vetoelectron = Collections(ev, \"Electron\", \"vetoTTH\").get()\n",
    "        dielectron   = choose(electron, 2)\n",
    "        SSelectron   = ak.any((dielectron['0'].charge * dielectron['1'].charge)>0, axis=1)\n",
    "        OSelectron   = ak.any((dielectron['0'].charge * dielectron['1'].charge)<0, axis=1)\n",
    "        leading_electron_idx = ak.singletons(ak.argmax(electron.pt, axis=1))\n",
    "        leading_electron = electron[leading_electron_idx]\n",
    "        \n",
    "        ## Merge electrons and muons - this should work better now in ak1\n",
    "        lepton   = ak.concatenate([muon, electron], axis=1)\n",
    "        dilepton = cross(muon, electron)\n",
    "        SSlepton = ak.any((dilepton['0'].charge * dilepton['1'].charge)>0, axis=1)\n",
    "        OSlepton = ak.any((dilepton['0'].charge * dilepton['1'].charge)<0, axis=1)\n",
    "        leading_lepton_idx = ak.singletons(ak.argmax(lepton.pt, axis=1))\n",
    "        leading_lepton = lepton[leading_lepton_idx]\n",
    "        trailing_lepton_idx = ak.singletons(ak.argmin(lepton.pt, axis=1))\n",
    "        trailing_lepton = lepton[trailing_lepton_idx]"
   ]
  },
  {
   "cell_type": "code",
   "execution_count": null,
   "metadata": {},
   "outputs": [],
   "source": [
    "selection = ((ak.num(electron) + ak.num(muon))==2)\n",
    "\n",
    "ak.to_numpy(ak.flatten(leading_lepton[selection].pt))"
   ]
  },
  {
   "cell_type": "code",
   "execution_count": null,
   "metadata": {},
   "outputs": [],
   "source": [
    "electron = Collections(events, \"Electron\", \"tight\", verbose=True).get()\n",
    "#muon = Collections(events, \"Muon\", \"tight\").get()"
   ]
  },
  {
   "cell_type": "code",
   "execution_count": null,
   "metadata": {},
   "outputs": [],
   "source": [
    "def getPtEtaPhi(coll, pt_var='pt', eta_var='eta', phi_var='phi'):\n",
    "    #pt = \n",
    "    return ak.zip({'pt': getattr(coll, pt_var), 'eta': getattr(coll, eta_var), 'phi': getattr(coll, phi_var)})"
   ]
  },
  {
   "cell_type": "code",
   "execution_count": null,
   "metadata": {},
   "outputs": [],
   "source": [
    "jet = getJets(events)\n",
    "jet.pt"
   ]
  }
 ],
 "metadata": {
  "kernelspec": {
   "display_name": "coffeadev2",
   "language": "python",
   "name": "coffeadev2"
  },
  "language_info": {
   "codemirror_mode": {
    "name": "ipython",
    "version": 3
   },
   "file_extension": ".py",
   "mimetype": "text/x-python",
   "name": "python",
   "nbconvert_exporter": "python",
   "pygments_lexer": "ipython3",
   "version": "3.6.13"
  }
 },
 "nbformat": 4,
 "nbformat_minor": 4
}
