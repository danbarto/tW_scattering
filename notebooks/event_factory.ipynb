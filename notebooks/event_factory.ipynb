{
 "cells": [
  {
   "cell_type": "markdown",
   "id": "510cac07",
   "metadata": {},
   "source": [
    "# NanoEventsFactory example\n",
    "\n",
    "Load a single file from x-cache (using redirector_ucsd) or the grid (using redirector_fnal), and play with the events.\n"
   ]
  },
  {
   "cell_type": "code",
   "execution_count": 1,
   "id": "165a1e6d",
   "metadata": {},
   "outputs": [],
   "source": [
    "import warnings\n",
    "warnings.filterwarnings(\"ignore\")"
   ]
  },
  {
   "cell_type": "code",
   "execution_count": 8,
   "id": "a5a3dc8b",
   "metadata": {},
   "outputs": [],
   "source": [
    "import numpy as np\n",
    "\n",
    "from coffea.nanoevents import NanoEventsFactory, NanoAODSchema\n",
    "from coffea.analysis_tools import Weights, PackedSelection\n",
    "\n",
    "from Tools.config_helpers import redirector_fnal, redirector_ucsd\n",
    "from Tools.nano_mapping import make_fileset\n",
    "from Tools.helpers import get_samples\n",
    "\n",
    "import matplotlib.pyplot as plt\n",
    "import mplhep as hep\n",
    "plt.style.use(hep.style.CMS)\n",
    "\n",
    "from yahist import Hist1D\n",
    "\n",
    "import awkward as ak\n",
    "\n",
    "samples = get_samples(\"samples_UL18.yaml\")\n",
    "f_in    = samples['/ceph/cms/store/user/dspitzba/ProjectMetis/TTWToLNu_TtoAll_aTtoLep_5f_EFT_NLO_RunIISummer20UL18_NanoAODv9_NANO_v14/']['files'][0]\n",
    "\n",
    "# load a subset of events\n",
    "n_max = 5000\n",
    "events = NanoEventsFactory.from_root(\n",
    "    f_in,\n",
    "    schemaclass = NanoAODSchema,\n",
    "    entry_stop = n_max).events()\n",
    "\n"
   ]
  },
  {
   "cell_type": "markdown",
   "id": "48eba3be",
   "metadata": {},
   "source": [
    "## Inspecting default collections"
   ]
  },
  {
   "cell_type": "code",
   "execution_count": 11,
   "id": "d803fd79",
   "metadata": {},
   "outputs": [
    {
     "data": {
      "text/plain": [
       "<Array [[7.88], [43.3], ... [], [5.91]] type='5000 * var * float32[parameters={\"...'>"
      ]
     },
     "execution_count": 11,
     "metadata": {},
     "output_type": "execute_result"
    }
   ],
   "source": [
    "events.Muon.pt"
   ]
  },
  {
   "cell_type": "code",
   "execution_count": 13,
   "id": "c692d3d9",
   "metadata": {},
   "outputs": [
    {
     "data": {
      "text/plain": [
       "<matplotlib.legend.Legend at 0x7f8e246ed070>"
      ]
     },
     "execution_count": 13,
     "metadata": {},
     "output_type": "execute_result"
    },
    {
     "data": {
      "image/png": "[encoded data removed]",
      "text/plain": [
       "<Figure size 720x720 with 1 Axes>"
      ]
     },
     "metadata": {
      "needs_background": "light"
     },
     "output_type": "display_data"
    }
   ],
   "source": [
    "bins = \"100,0,500\"\n",
    "\n",
    "muon_pt = Hist1D(ak.flatten(events.Muon.pt), bins=bins, overflow=False)\n",
    "electron_pt = Hist1D(ak.flatten(events.Electron.pt), bins=bins, overflow=False)\n",
    "                 \n",
    "f, ax = plt.subplots()\n",
    "\n",
    "hep.histplot(\n",
    "    [muon_pt.counts, electron_pt.counts],\n",
    "    muon_pt.edges,\n",
    "    histtype=\"step\",\n",
    "    stack=False,\n",
    "    label=[r'Muons', r'Electrons'],\n",
    "    color=['blue', 'red'],\n",
    "    ax=ax)\n",
    "\n",
    "#h.plot()\n",
    "\n",
    "ax.set_ylabel(r'a.u.')\n",
    "ax.set_xlabel(r'$p_{T}\\ (GeV)$')\n",
    "\n",
    "plt.legend()\n",
    "\n"
   ]
  },
  {
   "cell_type": "markdown",
   "id": "29ab7a6e",
   "metadata": {},
   "source": [
    "## Load collections and calculate stuff"
   ]
  },
  {
   "cell_type": "code",
   "execution_count": 25,
   "id": "453e3e5c",
   "metadata": {},
   "outputs": [],
   "source": [
    "from Tools.objects import Collections, getNonPromptFromFlavour, getChargeFlips, prompt, nonprompt, choose, cross, delta_r, delta_r2, match, prompt_no_conv, nonprompt_no_conv, external_conversion, fast_match\n",
    "from Tools.helpers import pad_and_flatten, mt, fill_multiple, zip_run_lumi_event, get_four_vec_fromPtEtaPhiM, get_samples\n",
    "from Tools.basic_objects import getJets, getTaus, getIsoTracks, getBTagsDeepFlavB, getFwdJet, getMET\n",
    "from Tools.selections import Selection, get_pt"
   ]
  },
  {
   "cell_type": "code",
   "execution_count": 27,
   "id": "81fb752e",
   "metadata": {},
   "outputs": [],
   "source": [
    "presel = ak.num(events.Jet)>2\n",
    "\n",
    "ev = events[presel]\n",
    "\n",
    "####################\n",
    "### Reco objects ###\n",
    "####################\n",
    "\n",
    "## Muons\n",
    "mu_v     = Collections(ev, \"Muon\", \"vetoTTH\", year=2018).get()  # these include all muons, tight and fakeable\n",
    "mu_t     = Collections(ev, \"Muon\", \"tightSSTTH\", year=2018).get()\n",
    "mu_f     = Collections(ev, \"Muon\", \"fakeableSSTTH\", year=2018).get()\n",
    "muon     = ak.concatenate([mu_t, mu_f], axis=1)\n",
    "muon['p4'] = get_four_vec_fromPtEtaPhiM(muon, get_pt(muon), muon.eta, muon.phi, muon.mass, copy=False)\n",
    "\n",
    "## Electrons\n",
    "el_v        = Collections(ev, \"Electron\", \"vetoTTH\", year=2018).get()\n",
    "el_t        = Collections(ev, \"Electron\", \"tightSSTTH\", year=2018).get()\n",
    "el_f        = Collections(ev, \"Electron\", \"fakeableSSTTH\", year=2018).get()\n",
    "electron    = ak.concatenate([el_t, el_f], axis=1)\n",
    "electron['p4'] = get_four_vec_fromPtEtaPhiM(electron, get_pt(electron), electron.eta, electron.phi, electron.mass, copy=False)\n",
    "\n",
    "\n",
    "## Merge electrons and muons. These are fakeable leptons now\n",
    "lepton   = ak.concatenate([muon, electron], axis=1)\n",
    "#lead_leptons = lepton[ak.argsort(lepton.p4.pt)][:,:3]\n",
    "leading_lepton_idx = ak.singletons(ak.argmax(lepton.p4.pt, axis=1))\n",
    "leading_lepton = lepton[leading_lepton_idx]\n",
    "trailing_lepton_idx = ak.singletons(ak.argmin(lepton.p4.pt, axis=1))\n",
    "trailing_lepton = lepton[trailing_lepton_idx]\n",
    "\n",
    "dilepton_mass = (leading_lepton.p4 + trailing_lepton.p4).mass\n",
    "dilepton_pt = (leading_lepton.p4 + trailing_lepton.p4).pt\n",
    "#dilepton_dR = delta_r(leading_lepton, trailing_lepton)\n",
    "dilepton_dR = leading_lepton.p4.delta_r(trailing_lepton.p4)\n",
    "\n",
    "lepton_pdgId_pt_ordered = ak.fill_none(ak.pad_none(lepton[ak.argsort(lepton.p4.pt, ascending=False)].pdgId, 2, clip=True), 0)\n",
    "\n",
    "met = getMET(ev, pt_var='pt_nom')"
   ]
  },
  {
   "cell_type": "code",
   "execution_count": 29,
   "id": "f6d7ce3b",
   "metadata": {},
   "outputs": [],
   "source": [
    "mt_lep_met = mt(lepton.p4.pt, lepton.p4.phi, met.pt, met.phi)\n",
    "min_mt_lep_met = ak.min(mt_lep_met, axis=1)\n",
    "max_mt_lep_met = ak.max(mt_lep_met, axis=1)"
   ]
  },
  {
   "cell_type": "code",
   "execution_count": 32,
   "id": "69a3f724",
   "metadata": {},
   "outputs": [
    {
     "data": {
      "text/plain": [
       "<Array [12.4, 29.1, 0, ... 56.5, 11.6, 153] type='4999 * float64'>"
      ]
     },
     "execution_count": 32,
     "metadata": {},
     "output_type": "execute_result"
    }
   ],
   "source": [
    "ak.fill_none(min_mt_lep_met,0)"
   ]
  },
  {
   "cell_type": "code",
   "execution_count": 33,
   "id": "34a0d2ab",
   "metadata": {},
   "outputs": [
    {
     "data": {
      "text/plain": [
       "<matplotlib.legend.Legend at 0x7f8e66d98970>"
      ]
     },
     "execution_count": 33,
     "metadata": {},
     "output_type": "execute_result"
    },
    {
     "data": {
      "image/png": "[encoded data removed]",
      "text/plain": [
       "<Figure size 720x720 with 1 Axes>"
      ]
     },
     "metadata": {
      "needs_background": "light"
     },
     "output_type": "display_data"
    }
   ],
   "source": [
    "bins = \"100,0,500\"\n",
    "\n",
    "mt_min = Hist1D(ak.fill_none(min_mt_lep_met,0), bins=bins, overflow=False)\n",
    "mt_max = Hist1D(ak.fill_none(max_mt_lep_met,0), bins=bins, overflow=False)\n",
    "                 \n",
    "f, ax = plt.subplots()\n",
    "\n",
    "hep.histplot(\n",
    "    [mt_min.counts, mt_max.counts],\n",
    "    mt_min.edges,\n",
    "    histtype=\"step\",\n",
    "    stack=False,\n",
    "    label=[r'min', r'max'],\n",
    "    color=['blue', 'red'],\n",
    "    ax=ax)\n",
    "\n",
    "#h.plot()\n",
    "\n",
    "ax.set_ylabel(r'a.u.')\n",
    "ax.set_xlabel(r'$m_{T}\\ (GeV)$')\n",
    "\n",
    "plt.legend()"
   ]
  },
  {
   "cell_type": "markdown",
   "id": "43480f23",
   "metadata": {},
   "source": [
    "# Old development stuff"
   ]
  },
  {
   "cell_type": "code",
   "execution_count": 5,
   "id": "a568378f",
   "metadata": {},
   "outputs": [
    {
     "data": {
      "text/plain": [
       "0.015363986736503797"
      ]
     },
     "execution_count": 5,
     "metadata": {},
     "output_type": "execute_result"
    }
   ],
   "source": [
    "# 103 weights in UL files\n",
    "np.sqrt(sum((1-events.LHEPdfWeight[0][1:101])**2))"
   ]
  },
  {
   "cell_type": "code",
   "execution_count": 6,
   "id": "cbb920c4",
   "metadata": {},
   "outputs": [
    {
     "data": {
      "text/plain": [
       "<Array [1.2, 1.09, 1, ... 1.01, 0.922, 0.843] type='8 * float32[parameters={\"__d...'>"
      ]
     },
     "execution_count": 6,
     "metadata": {},
     "output_type": "execute_result"
    }
   ],
   "source": [
    "events.LHEScaleWeight[0]"
   ]
  },
  {
   "cell_type": "code",
   "execution_count": 11,
   "id": "2b7e405b",
   "metadata": {},
   "outputs": [
    {
     "data": {
      "text/plain": [
       "0.0392274"
      ]
     },
     "execution_count": 11,
     "metadata": {},
     "output_type": "execute_result"
    }
   ],
   "source": [
    "np.max(np.abs((1-events.LHEScaleWeight[0][1:101])**2))"
   ]
  },
  {
   "cell_type": "code",
   "execution_count": 12,
   "id": "adf467bc",
   "metadata": {},
   "outputs": [],
   "source": [
    "from Tools.samples import fs_2018"
   ]
  },
  {
   "cell_type": "code",
   "execution_count": 13,
   "id": "4fe9bb03",
   "metadata": {},
   "outputs": [],
   "source": [
    "n_max = 500000\n",
    "events = NanoEventsFactory.from_root(\n",
    "    fs_2018['TTW'][0],\n",
    "    schemaclass = NanoAODSchema,\n",
    "    entry_stop = n_max).events()"
   ]
  },
  {
   "cell_type": "code",
   "execution_count": 24,
   "id": "f272dc3f",
   "metadata": {},
   "outputs": [],
   "source": [
    "from Tools.helpers import get_four_vec_fromPtEtaPhiM\n",
    "\n",
    "def getJets(ev, maxEta=100, minPt=25, pt_var='pt', year=2018):\n",
    "    return ev.Jet[(getattr(ev.Jet, pt_var)>minPt) & (abs(ev.Jet.eta)<maxEta) & (ev.Jet.jetId>1)]"
   ]
  },
  {
   "cell_type": "code",
   "execution_count": 27,
   "id": "4ffabbb5",
   "metadata": {},
   "outputs": [
    {
     "name": "stdout",
     "output_type": "stream",
     "text": [
      "CPU times: user 10 µs, sys: 2 µs, total: 12 µs\n",
      "Wall time: 23.4 µs\n"
     ]
    }
   ],
   "source": [
    "%time\n",
    "jets = getJets(events, maxEta=100, minPt=25, pt_var='pt_nom')"
   ]
  },
  {
   "cell_type": "code",
   "execution_count": 60,
   "id": "e4607d17",
   "metadata": {},
   "outputs": [],
   "source": [
    "def getJets(ev, maxEta=100, minPt=25, pt_var='pt', year=2018):\n",
    "    jets = ev.Jet[(getattr(ev.Jet, pt_var)>minPt) & (abs(ev.Jet.eta)<maxEta) & (ev.Jet.jetId>1)]\n",
    "    jets = jets[ak.argsort(getattr(jets, pt_var), ascending=False)]\n",
    "    jets.p4 = get_four_vec_fromPtEtaPhiM(jets, getattr(jets, pt_var), jets.eta, jets.phi, jets.mass, copy=False)\n",
    "    return jets#[ak.argsort(jets.p4.pt, ascending=False)]"
   ]
  },
  {
   "cell_type": "code",
   "execution_count": 61,
   "id": "7a262d68",
   "metadata": {},
   "outputs": [
    {
     "name": "stdout",
     "output_type": "stream",
     "text": [
      "CPU times: user 11 µs, sys: 3 µs, total: 14 µs\n",
      "Wall time: 26 µs\n"
     ]
    }
   ],
   "source": [
    "%time\n",
    "jets = getJets(events, maxEta=100, minPt=25, pt_var='pt_jesTotalUp')"
   ]
  },
  {
   "cell_type": "code",
   "execution_count": 62,
   "id": "09bc37e9",
   "metadata": {},
   "outputs": [
    {
     "data": {
      "text/plain": [
       "<Array [[97.6, 78.6, 46.4, ... 60.9, 44, 41.2]] type='208662 * var * float32[par...'>"
      ]
     },
     "execution_count": 62,
     "metadata": {},
     "output_type": "execute_result"
    }
   ],
   "source": [
    "jets.pt"
   ]
  },
  {
   "cell_type": "code",
   "execution_count": 63,
   "id": "ff48bde8",
   "metadata": {},
   "outputs": [
    {
     "data": {
      "text/plain": [
       "<Array [[100, 81.4, 48.2, ... 47.3, 42.2]] type='208662 * var * float32[paramete...'>"
      ]
     },
     "execution_count": 63,
     "metadata": {},
     "output_type": "execute_result"
    }
   ],
   "source": [
    "jets.p4.pt"
   ]
  },
  {
   "cell_type": "code",
   "execution_count": 68,
   "id": "aa2c5154",
   "metadata": {},
   "outputs": [
    {
     "ename": "AttributeError",
     "evalue": "no field named 'p4'\n\n(https://github.com/scikit-hep/awkward-1.0/blob/1.2.3/src/awkward/highlevel.py#L1120)",
     "output_type": "error",
     "traceback": [
      "\u001b[0;31m---------------------------------------------------------------------------\u001b[0m",
      "\u001b[0;31mAttributeError\u001b[0m                            Traceback (most recent call last)",
      "\u001b[0;32m<ipython-input-68-333eb0f40dd9>\u001b[0m in \u001b[0;36m<module>\u001b[0;34m\u001b[0m\n\u001b[0;32m----> 1\u001b[0;31m \u001b[0mjets\u001b[0m\u001b[0;34m[\u001b[0m\u001b[0mjets\u001b[0m\u001b[0;34m.\u001b[0m\u001b[0mpt\u001b[0m\u001b[0;34m>\u001b[0m\u001b[0;36m10\u001b[0m\u001b[0;34m]\u001b[0m\u001b[0;34m.\u001b[0m\u001b[0mp4\u001b[0m\u001b[0;34m\u001b[0m\u001b[0;34m\u001b[0m\u001b[0m\n\u001b[0m",
      "\u001b[0;32m~/miniconda3/envs/coffeadev4/lib/python3.9/site-packages/awkward/highlevel.py\u001b[0m in \u001b[0;36m__getattr__\u001b[0;34m(self, where)\u001b[0m\n\u001b[1;32m   1116\u001b[0m                     )\n\u001b[1;32m   1117\u001b[0m             \u001b[0;32melse\u001b[0m\u001b[0;34m:\u001b[0m\u001b[0;34m\u001b[0m\u001b[0;34m\u001b[0m\u001b[0m\n\u001b[0;32m-> 1118\u001b[0;31m                 raise AttributeError(\n\u001b[0m\u001b[1;32m   1119\u001b[0m                     \u001b[0;34m\"no field named {0}\"\u001b[0m\u001b[0;34m.\u001b[0m\u001b[0mformat\u001b[0m\u001b[0;34m(\u001b[0m\u001b[0mrepr\u001b[0m\u001b[0;34m(\u001b[0m\u001b[0mwhere\u001b[0m\u001b[0;34m)\u001b[0m\u001b[0;34m)\u001b[0m\u001b[0;34m\u001b[0m\u001b[0;34m\u001b[0m\u001b[0m\n\u001b[1;32m   1120\u001b[0m                     \u001b[0;34m+\u001b[0m \u001b[0mak\u001b[0m\u001b[0;34m.\u001b[0m\u001b[0m_util\u001b[0m\u001b[0;34m.\u001b[0m\u001b[0mexception_suffix\u001b[0m\u001b[0;34m(\u001b[0m\u001b[0m__file__\u001b[0m\u001b[0;34m)\u001b[0m\u001b[0;34m\u001b[0m\u001b[0;34m\u001b[0m\u001b[0m\n",
      "\u001b[0;31mAttributeError\u001b[0m: no field named 'p4'\n\n(https://github.com/scikit-hep/awkward-1.0/blob/1.2.3/src/awkward/highlevel.py#L1120)"
     ]
    }
   ],
   "source": [
    "jets[jets.pt>10].p4"
   ]
  },
  {
   "cell_type": "code",
   "execution_count": 70,
   "id": "25b0a8dd",
   "metadata": {},
   "outputs": [],
   "source": [
    "jets['p5'] = get_four_vec_fromPtEtaPhiM(jets, getattr(jets, 'pt_nom'), jets.eta, jets.phi, jets.mass, copy=False)"
   ]
  },
  {
   "cell_type": "code",
   "execution_count": 72,
   "id": "42f440a3",
   "metadata": {},
   "outputs": [
    {
     "data": {
      "text/plain": [
       "<PtEtaPhiMLorentzVectorArray [[{pt: 98.9, ... mass: 7.72}]] type='208662 * var *...'>"
      ]
     },
     "execution_count": 72,
     "metadata": {},
     "output_type": "execute_result"
    }
   ],
   "source": [
    "jets[jets.pt>10].p5"
   ]
  },
  {
   "cell_type": "code",
   "execution_count": 75,
   "id": "ce08919b",
   "metadata": {},
   "outputs": [
    {
     "data": {
      "text/plain": [
       "<Array [78.1, 68.4, 116, ... 154, 185, 108] type='208662 * float32[parameters={\"...'>"
      ]
     },
     "execution_count": 75,
     "metadata": {},
     "output_type": "execute_result"
    }
   ],
   "source": [
    "events.MET.T1_pt_jesTotalUp"
   ]
  },
  {
   "cell_type": "code",
   "execution_count": 64,
   "id": "92edaa0e",
   "metadata": {},
   "outputs": [],
   "source": [
    "high_score_btag = jets[ak.argsort(jets.btagDeepFlavB)][:,:2]"
   ]
  },
  {
   "cell_type": "code",
   "execution_count": 66,
   "id": "5c685277",
   "metadata": {},
   "outputs": [
    {
     "data": {
      "text/plain": [
       "<Array [[46.4, 32.2], ... [60.9, 41.2]] type='208662 * var * float32[parameters=...'>"
      ]
     },
     "execution_count": 66,
     "metadata": {},
     "output_type": "execute_result"
    }
   ],
   "source": [
    "high_score_btag.pt"
   ]
  },
  {
   "cell_type": "code",
   "execution_count": 39,
   "id": "1fd59568",
   "metadata": {},
   "outputs": [],
   "source": [
    "def get_ht(events, jet_sel = {'maxEta': 4.7, 'minPt':25}, var='pt_nom'):\n",
    "    return ak.sum(getJets(events, pt_var=var, **jet_sel).p4.pt, axis=1)"
   ]
  },
  {
   "cell_type": "code",
   "execution_count": 41,
   "id": "9de044e9",
   "metadata": {},
   "outputs": [
    {
     "name": "stdout",
     "output_type": "stream",
     "text": [
      "CPU times: user 12 µs, sys: 0 ns, total: 12 µs\n",
      "Wall time: 23.6 µs\n"
     ]
    },
    {
     "data": {
      "text/plain": [
       "<Array [301, 499, 512, 257, ... 458, 832, 370] type='208662 * float32'>"
      ]
     },
     "execution_count": 41,
     "metadata": {},
     "output_type": "execute_result"
    }
   ],
   "source": [
    "%time\n",
    "get_ht(events)"
   ]
  },
  {
   "cell_type": "code",
   "execution_count": 48,
   "id": "ac589aee",
   "metadata": {},
   "outputs": [
    {
     "data": {
      "text/plain": [
       "<Array [-3, -1.49, -2.9, ... 2.12, -2.69, 1.02] type='208662 * float32[parameter...'>"
      ]
     },
     "execution_count": 48,
     "metadata": {},
     "output_type": "execute_result"
    }
   ],
   "source": [
    "events.MET.T1_phi"
   ]
  },
  {
   "cell_type": "code",
   "execution_count": 42,
   "id": "7522ba1b",
   "metadata": {},
   "outputs": [
    {
     "name": "stdout",
     "output_type": "stream",
     "text": [
      "CPU times: user 10 µs, sys: 2 µs, total: 12 µs\n",
      "Wall time: 22.6 µs\n"
     ]
    },
    {
     "data": {
      "text/plain": [
       "<Array [295, 494, 507, 255, ... 473, 819, 367] type='208662 * float32'>"
      ]
     },
     "execution_count": 42,
     "metadata": {},
     "output_type": "execute_result"
    }
   ],
   "source": [
    "%time\n",
    "ak.sum(jets.pt, axis=1)"
   ]
  },
  {
   "cell_type": "code",
   "execution_count": 43,
   "id": "028d4461",
   "metadata": {},
   "outputs": [
    {
     "data": {
      "text/plain": [
       "<Array [307, 510, 518, 266, ... 494, 851, 376] type='208662 * float32'>"
      ]
     },
     "execution_count": 43,
     "metadata": {},
     "output_type": "execute_result"
    }
   ],
   "source": [
    "get_ht(events, var='pt_jesTotalUp')"
   ]
  },
  {
   "cell_type": "code",
   "execution_count": 84,
   "id": "734fcc90",
   "metadata": {},
   "outputs": [
    {
     "name": "stdout",
     "output_type": "stream",
     "text": [
      "CPU times: user 6 µs, sys: 1e+03 ns, total: 7 µs\n",
      "Wall time: 15.5 µs\n"
     ]
    },
    {
     "data": {
      "text/plain": [
       "<PtEtaPhiMLorentzVectorArray [{pt: 79, eta: 0, ... mass: 0}] type='208662 * PtEt...'>"
      ]
     },
     "execution_count": 84,
     "metadata": {},
     "output_type": "execute_result"
    }
   ],
   "source": [
    "%time\n",
    "\n",
    "get_four_vec_fromPtEtaPhiM(events.MET, events.MET.pt, ak.zeros_like(events.MET.pt), events.MET.phi, ak.zeros_like(events.MET.pt), copy=False)"
   ]
  },
  {
   "cell_type": "code",
   "execution_count": 83,
   "id": "6e8b6ad0",
   "metadata": {},
   "outputs": [
    {
     "name": "stdout",
     "output_type": "stream",
     "text": [
      "CPU times: user 9 µs, sys: 0 ns, total: 9 µs\n",
      "Wall time: 16.5 µs\n"
     ]
    },
    {
     "data": {
      "text/plain": [
       "<Array [79, 68, 112, 132, ... 146, 177, 111] type='208662 * float32[parameters={...'>"
      ]
     },
     "execution_count": 83,
     "metadata": {},
     "output_type": "execute_result"
    }
   ],
   "source": [
    "%time\n",
    "events.MET.pt"
   ]
  },
  {
   "cell_type": "code",
   "execution_count": 44,
   "id": "ee4650e7",
   "metadata": {},
   "outputs": [
    {
     "data": {
      "text/plain": [
       "'/hadoop/cms/store/user/dspitzba/nanoAOD/ttw_samples/topW_v0.4.0_dilep/TTWJetsToLNu_TuneCP5_13TeV-amcatnloFXFX-madspin-pythia8_RunIISummer20UL18NanoAODv2-106X_upgrade2018_realistic_v15_L1v1-v1/nanoSkim_1.root'"
      ]
     },
     "execution_count": 44,
     "metadata": {},
     "output_type": "execute_result"
    }
   ],
   "source": [
    "fs_2018['TTW'][0]"
   ]
  },
  {
   "cell_type": "code",
   "execution_count": 45,
   "id": "b63a823d",
   "metadata": {},
   "outputs": [
    {
     "ename": "AttributeError",
     "evalue": "no field named 'PSWeight'\n\n(https://github.com/scikit-hep/awkward-1.0/blob/1.2.3/src/awkward/highlevel.py#L1120)",
     "output_type": "error",
     "traceback": [
      "\u001b[0;31m---------------------------------------------------------------------------\u001b[0m",
      "\u001b[0;31mAttributeError\u001b[0m                            Traceback (most recent call last)",
      "\u001b[0;32m<ipython-input-45-ef4b3a8a9d1f>\u001b[0m in \u001b[0;36m<module>\u001b[0;34m\u001b[0m\n\u001b[0;32m----> 1\u001b[0;31m \u001b[0mevents\u001b[0m\u001b[0;34m.\u001b[0m\u001b[0mPSWeight\u001b[0m\u001b[0;34m[\u001b[0m\u001b[0;36m0\u001b[0m\u001b[0;34m]\u001b[0m\u001b[0;34m\u001b[0m\u001b[0;34m\u001b[0m\u001b[0m\n\u001b[0m",
      "\u001b[0;32m~/miniconda3/envs/coffeadev4/lib/python3.9/site-packages/awkward/highlevel.py\u001b[0m in \u001b[0;36m__getattr__\u001b[0;34m(self, where)\u001b[0m\n\u001b[1;32m   1116\u001b[0m                     )\n\u001b[1;32m   1117\u001b[0m             \u001b[0;32melse\u001b[0m\u001b[0;34m:\u001b[0m\u001b[0;34m\u001b[0m\u001b[0;34m\u001b[0m\u001b[0m\n\u001b[0;32m-> 1118\u001b[0;31m                 raise AttributeError(\n\u001b[0m\u001b[1;32m   1119\u001b[0m                     \u001b[0;34m\"no field named {0}\"\u001b[0m\u001b[0;34m.\u001b[0m\u001b[0mformat\u001b[0m\u001b[0;34m(\u001b[0m\u001b[0mrepr\u001b[0m\u001b[0;34m(\u001b[0m\u001b[0mwhere\u001b[0m\u001b[0;34m)\u001b[0m\u001b[0;34m)\u001b[0m\u001b[0;34m\u001b[0m\u001b[0;34m\u001b[0m\u001b[0m\n\u001b[1;32m   1120\u001b[0m                     \u001b[0;34m+\u001b[0m \u001b[0mak\u001b[0m\u001b[0;34m.\u001b[0m\u001b[0m_util\u001b[0m\u001b[0;34m.\u001b[0m\u001b[0mexception_suffix\u001b[0m\u001b[0;34m(\u001b[0m\u001b[0m__file__\u001b[0m\u001b[0;34m)\u001b[0m\u001b[0;34m\u001b[0m\u001b[0;34m\u001b[0m\u001b[0m\n",
      "\u001b[0;31mAttributeError\u001b[0m: no field named 'PSWeight'\n\n(https://github.com/scikit-hep/awkward-1.0/blob/1.2.3/src/awkward/highlevel.py#L1120)"
     ]
    }
   ],
   "source": [
    "events.PSWeight[0]"
   ]
  },
  {
   "cell_type": "code",
   "execution_count": 46,
   "id": "0083c7eb",
   "metadata": {},
   "outputs": [
    {
     "ename": "AttributeError",
     "evalue": "no field named 'LHEPdfWeight'\n\n(https://github.com/scikit-hep/awkward-1.0/blob/1.2.3/src/awkward/highlevel.py#L1120)",
     "output_type": "error",
     "traceback": [
      "\u001b[0;31m---------------------------------------------------------------------------\u001b[0m",
      "\u001b[0;31mAttributeError\u001b[0m                            Traceback (most recent call last)",
      "\u001b[0;32m<ipython-input-46-006018d5174e>\u001b[0m in \u001b[0;36m<module>\u001b[0;34m\u001b[0m\n\u001b[0;32m----> 1\u001b[0;31m \u001b[0mevents\u001b[0m\u001b[0;34m.\u001b[0m\u001b[0mLHEPdfWeight\u001b[0m\u001b[0;34m[\u001b[0m\u001b[0;36m0\u001b[0m\u001b[0;34m]\u001b[0m\u001b[0;34m\u001b[0m\u001b[0;34m\u001b[0m\u001b[0m\n\u001b[0m",
      "\u001b[0;32m~/miniconda3/envs/coffeadev4/lib/python3.9/site-packages/awkward/highlevel.py\u001b[0m in \u001b[0;36m__getattr__\u001b[0;34m(self, where)\u001b[0m\n\u001b[1;32m   1116\u001b[0m                     )\n\u001b[1;32m   1117\u001b[0m             \u001b[0;32melse\u001b[0m\u001b[0;34m:\u001b[0m\u001b[0;34m\u001b[0m\u001b[0;34m\u001b[0m\u001b[0m\n\u001b[0;32m-> 1118\u001b[0;31m                 raise AttributeError(\n\u001b[0m\u001b[1;32m   1119\u001b[0m                     \u001b[0;34m\"no field named {0}\"\u001b[0m\u001b[0;34m.\u001b[0m\u001b[0mformat\u001b[0m\u001b[0;34m(\u001b[0m\u001b[0mrepr\u001b[0m\u001b[0;34m(\u001b[0m\u001b[0mwhere\u001b[0m\u001b[0;34m)\u001b[0m\u001b[0;34m)\u001b[0m\u001b[0;34m\u001b[0m\u001b[0;34m\u001b[0m\u001b[0m\n\u001b[1;32m   1120\u001b[0m                     \u001b[0;34m+\u001b[0m \u001b[0mak\u001b[0m\u001b[0;34m.\u001b[0m\u001b[0m_util\u001b[0m\u001b[0;34m.\u001b[0m\u001b[0mexception_suffix\u001b[0m\u001b[0;34m(\u001b[0m\u001b[0m__file__\u001b[0m\u001b[0;34m)\u001b[0m\u001b[0;34m\u001b[0m\u001b[0;34m\u001b[0m\u001b[0m\n",
      "\u001b[0;31mAttributeError\u001b[0m: no field named 'LHEPdfWeight'\n\n(https://github.com/scikit-hep/awkward-1.0/blob/1.2.3/src/awkward/highlevel.py#L1120)"
     ]
    }
   ],
   "source": [
    "events.LHEPdfWeight[0]"
   ]
  },
  {
   "cell_type": "code",
   "execution_count": 20,
   "id": "7c5e459f",
   "metadata": {},
   "outputs": [
    {
     "data": {
      "text/plain": [
       "0.11691895152562129"
      ]
     },
     "execution_count": 20,
     "metadata": {},
     "output_type": "execute_result"
    }
   ],
   "source": [
    "import numpy as np\n",
    "np.sqrt(sum((1-events.LHEPdfWeight[0])**2))"
   ]
  },
  {
   "cell_type": "code",
   "execution_count": 17,
   "id": "9c6e7382",
   "metadata": {},
   "outputs": [
    {
     "data": {
      "text/plain": [
       "<Array [1.15, 1.19, 1.24, ... 0.853, 0.879] type='9 * float32[parameters={\"__doc...'>"
      ]
     },
     "execution_count": 17,
     "metadata": {},
     "output_type": "execute_result"
    }
   ],
   "source": [
    "events.LHEScaleWeight[0]"
   ]
  },
  {
   "cell_type": "code",
   "execution_count": 2,
   "id": "98f914e5",
   "metadata": {},
   "outputs": [
    {
     "data": {
      "text/plain": [
       "<Array [[34], [58, ... [21.4, 10.5, 10.3]] type='382431 * var * float32[paramete...'>"
      ]
     },
     "execution_count": 2,
     "metadata": {},
     "output_type": "execute_result"
    }
   ],
   "source": [
    "events.Electron.pt"
   ]
  },
  {
   "cell_type": "code",
   "execution_count": 7,
   "id": "835d6b6a",
   "metadata": {},
   "outputs": [
    {
     "data": {
      "text/plain": [
       "<Array [[34], [58, ... [21.4, 10.5, 10.3]] type='382431 * var * float32[paramete...'>"
      ]
     },
     "execution_count": 7,
     "metadata": {},
     "output_type": "execute_result"
    }
   ],
   "source": [
    "events.Electron['pt'] = (events.Electron.pt*1.2)\n",
    "events.Electron['pt']"
   ]
  },
  {
   "cell_type": "code",
   "execution_count": 9,
   "id": "9c913b52",
   "metadata": {},
   "outputs": [],
   "source": [
    "from coffea.nanoevents.methods import vector\n",
    "ak.behavior.update(vector.behavior)"
   ]
  },
  {
   "cell_type": "code",
   "execution_count": 18,
   "id": "c8e0657e",
   "metadata": {},
   "outputs": [],
   "source": [
    "events = events[ak.num(events.Electron)>1]"
   ]
  },
  {
   "cell_type": "code",
   "execution_count": 19,
   "id": "2874dc33",
   "metadata": {},
   "outputs": [],
   "source": [
    "v = ak.zip(\n",
    "    {\n",
    "        \"pt\": events.Electron.pt*1.2,\n",
    "        \"eta\": events.Electron.eta,\n",
    "        \"phi\": events.Electron.phi,\n",
    "        \"mass\": events.Electron.mass,\n",
    "    },\n",
    "    with_name=\"PtEtaPhiMLorentzVector\",\n",
    ")\n",
    "\n",
    "#v = PtEtaPhiMLorentzVector(events.Electron.pt*1.2, events.Electron.eta, events.Electron.phi, events.Electron.mass)"
   ]
  },
  {
   "cell_type": "code",
   "execution_count": 22,
   "id": "b8999cfc",
   "metadata": {},
   "outputs": [
    {
     "data": {
      "text/plain": [
       "<Array [[64.1], [17.9], ... [27.6], [13.1]] type='170283 * var * float32'>"
      ]
     },
     "execution_count": 22,
     "metadata": {},
     "output_type": "execute_result"
    }
   ],
   "source": [
    "(v[:,0:1]+v[:,1:2]).pt"
   ]
  },
  {
   "cell_type": "code",
   "execution_count": 36,
   "id": "e1e74e13",
   "metadata": {},
   "outputs": [],
   "source": [
    "from Tools.helpers import get_four_vec\n",
    "test = get_four_vec(events.Electron)\n",
    "\n",
    "scaler = ak.zip(\n",
    "    {\n",
    "        \"pt\": ak.ones_like(test.pt)*1.2,\n",
    "        \"eta\": ak.ones_like(test.pt),\n",
    "        \"phi\": ak.ones_like(test.pt),\n",
    "        \"mass\": ak.ones_like(test.pt),\n",
    "    },\n",
    "    with_name=\"PtEtaPhiMLorentzVector\",\n",
    ")"
   ]
  },
  {
   "cell_type": "code",
   "execution_count": 41,
   "id": "f5a9ad7c",
   "metadata": {},
   "outputs": [
    {
     "data": {
      "text/plain": [
       "<Array [[1.2, 1.2, 1.2], ... [1.2, 1.2, 1.2]] type='170283 * var * float32'>"
      ]
     },
     "execution_count": 41,
     "metadata": {},
     "output_type": "execute_result"
    }
   ],
   "source": [
    "scaler.pt"
   ]
  },
  {
   "cell_type": "code",
   "execution_count": 38,
   "id": "5125bde4",
   "metadata": {},
   "outputs": [
    {
     "data": {
      "text/plain": [
       "<Array [[58, 11.9, 5.51, ... 21.4, 10.5, 10.3]] type='170283 * var * float32[par...'>"
      ]
     },
     "execution_count": 38,
     "metadata": {},
     "output_type": "execute_result"
    }
   ],
   "source": [
    "test.pt"
   ]
  },
  {
   "cell_type": "code",
   "execution_count": 45,
   "id": "944c947a",
   "metadata": {},
   "outputs": [
    {
     "ename": "AttributeError",
     "evalue": "no field named 'matched_gen'\n\n(https://github.com/scikit-hep/awkward-1.0/blob/1.2.3/src/awkward/highlevel.py#L1120)",
     "output_type": "error",
     "traceback": [
      "\u001b[0;31m---------------------------------------------------------------------------\u001b[0m",
      "\u001b[0;31mAttributeError\u001b[0m                            Traceback (most recent call last)",
      "\u001b[0;32m<ipython-input-45-7c44823e573e>\u001b[0m in \u001b[0;36m<module>\u001b[0;34m\u001b[0m\n\u001b[0;32m----> 1\u001b[0;31m \u001b[0mtest\u001b[0m\u001b[0;34m.\u001b[0m\u001b[0mmatched_gen\u001b[0m\u001b[0;34m\u001b[0m\u001b[0;34m\u001b[0m\u001b[0m\n\u001b[0m",
      "\u001b[0;32m~/miniconda3/envs/coffeadev4/lib/python3.9/site-packages/awkward/highlevel.py\u001b[0m in \u001b[0;36m__getattr__\u001b[0;34m(self, where)\u001b[0m\n\u001b[1;32m   1116\u001b[0m                     )\n\u001b[1;32m   1117\u001b[0m             \u001b[0;32melse\u001b[0m\u001b[0;34m:\u001b[0m\u001b[0;34m\u001b[0m\u001b[0;34m\u001b[0m\u001b[0m\n\u001b[0;32m-> 1118\u001b[0;31m                 raise AttributeError(\n\u001b[0m\u001b[1;32m   1119\u001b[0m                     \u001b[0;34m\"no field named {0}\"\u001b[0m\u001b[0;34m.\u001b[0m\u001b[0mformat\u001b[0m\u001b[0;34m(\u001b[0m\u001b[0mrepr\u001b[0m\u001b[0;34m(\u001b[0m\u001b[0mwhere\u001b[0m\u001b[0;34m)\u001b[0m\u001b[0;34m)\u001b[0m\u001b[0;34m\u001b[0m\u001b[0;34m\u001b[0m\u001b[0m\n\u001b[1;32m   1120\u001b[0m                     \u001b[0;34m+\u001b[0m \u001b[0mak\u001b[0m\u001b[0;34m.\u001b[0m\u001b[0m_util\u001b[0m\u001b[0;34m.\u001b[0m\u001b[0mexception_suffix\u001b[0m\u001b[0;34m(\u001b[0m\u001b[0m__file__\u001b[0m\u001b[0;34m)\u001b[0m\u001b[0;34m\u001b[0m\u001b[0;34m\u001b[0m\u001b[0m\n",
      "\u001b[0;31mAttributeError\u001b[0m: no field named 'matched_gen'\n\n(https://github.com/scikit-hep/awkward-1.0/blob/1.2.3/src/awkward/highlevel.py#L1120)"
     ]
    }
   ],
   "source": [
    "test.matched_gen"
   ]
  },
  {
   "cell_type": "code",
   "execution_count": 3,
   "id": "96768b2c",
   "metadata": {},
   "outputs": [
    {
     "data": {
      "text/plain": [
       "'root://xcache-redirector.t2.ucsd.edu:2040//store/mc/RunIIAutumn18NanoAODv7/TTWJetsToLNu_TuneCP5_13TeV-amcatnloFXFX-madspin-pythia8/NANOAODSIM/Nano02Apr2020_102X_upgrade2018_realistic_v21_ext1-v1/60000/02232B20-7228-4348-84C7-72DAFDC2CEB7.root'"
      ]
     },
     "execution_count": 3,
     "metadata": {},
     "output_type": "execute_result"
    }
   ],
   "source": [
    "fileset[list(fileset.keys())[1]][0]"
   ]
  },
  {
   "cell_type": "code",
   "execution_count": 4,
   "id": "bb9f49bd",
   "metadata": {},
   "outputs": [
    {
     "data": {
      "text/plain": [
       "<Array [436885, 436871, ... 444644, 444664] type='5000 * uint64[parameters={\"__d...'>"
      ]
     },
     "execution_count": 4,
     "metadata": {},
     "output_type": "execute_result"
    }
   ],
   "source": [
    "events.event"
   ]
  },
  {
   "cell_type": "code",
   "execution_count": 5,
   "id": "d3881d9a",
   "metadata": {},
   "outputs": [],
   "source": [
    "ev = events[events.event==4590003]"
   ]
  },
  {
   "cell_type": "code",
   "execution_count": 6,
   "id": "9e352622",
   "metadata": {},
   "outputs": [
    {
     "data": {
      "text/html": [
       "<div>\n",
       "<style scoped>\n",
       "    .dataframe tbody tr th:only-of-type {\n",
       "        vertical-align: middle;\n",
       "    }\n",
       "\n",
       "    .dataframe tbody tr th {\n",
       "        vertical-align: top;\n",
       "    }\n",
       "\n",
       "    .dataframe thead th {\n",
       "        text-align: right;\n",
       "    }\n",
       "</style>\n",
       "<table border=\"1\" class=\"dataframe\">\n",
       "  <thead>\n",
       "    <tr style=\"text-align: right;\">\n",
       "      <th></th>\n",
       "      <th>MetUnclustEnUpDeltaX</th>\n",
       "      <th>MetUnclustEnUpDeltaY</th>\n",
       "      <th>covXX</th>\n",
       "      <th>covXY</th>\n",
       "      <th>covYY</th>\n",
       "      <th>fiducialGenPhi</th>\n",
       "      <th>fiducialGenPt</th>\n",
       "      <th>phi</th>\n",
       "      <th>pt</th>\n",
       "      <th>significance</th>\n",
       "      <th>sumEt</th>\n",
       "      <th>sumPtUnclustered</th>\n",
       "    </tr>\n",
       "    <tr>\n",
       "      <th>entry</th>\n",
       "      <th></th>\n",
       "      <th></th>\n",
       "      <th></th>\n",
       "      <th></th>\n",
       "      <th></th>\n",
       "      <th></th>\n",
       "      <th></th>\n",
       "      <th></th>\n",
       "      <th></th>\n",
       "      <th></th>\n",
       "      <th></th>\n",
       "      <th></th>\n",
       "    </tr>\n",
       "  </thead>\n",
       "  <tbody>\n",
       "  </tbody>\n",
       "</table>\n",
       "</div>"
      ],
      "text/plain": [
       "Empty DataFrame\n",
       "Columns: [MetUnclustEnUpDeltaX, MetUnclustEnUpDeltaY, covXX, covXY, covYY, fiducialGenPhi, fiducialGenPt, phi, pt, significance, sumEt, sumPtUnclustered]\n",
       "Index: []"
      ]
     },
     "execution_count": 6,
     "metadata": {},
     "output_type": "execute_result"
    }
   ],
   "source": [
    "ak.to_pandas(ev.MET)"
   ]
  },
  {
   "cell_type": "code",
   "execution_count": 57,
   "id": "3042db85",
   "metadata": {},
   "outputs": [
    {
     "name": "stdout",
     "output_type": "stream",
     "text": [
      "\n",
      "## Electron selection for WP tight ##\n",
      " - pt >= 15\n",
      " - abs(etaSC) <= 2.5\n",
      " - convVeto == 1\n",
      " - lostHits == 0\n",
      " - tightCharge == 2\n",
      " - abs(dxy) <= 0.05\n",
      " - abs(dz) <= 0.1\n",
      " - abs(sip3d) <= 4.0\n",
      " - tight electron MVA ID\n",
      " - custom multi isolation\n",
      " - trigger safe\n",
      " - custom ID and multi-isolation\n",
      "Found 192414 objects passing the selection\n",
      "\n",
      "## Muon selection for WP tight ##\n",
      " - pt >= 15\n",
      " - abs(eta) <= 2.4\n",
      " - mediumId == 1\n",
      " - looseId == 1\n",
      " - abs(dxy) <= 0.05\n",
      " - abs(dz) <= 0.05\n",
      " - abs(sip3d) <= 4\n",
      " - ptErrRel <= 0.2\n",
      " - custom multi isolation\n",
      " - custom multi-isolation\n",
      "Found 264247 objects passing the selection\n",
      "\n",
      "Took 57.664668560028076 seconds\n"
     ]
    }
   ],
   "source": [
    "import time\n",
    "\n",
    "from Tools.objects import Collections\n",
    "\n",
    "start_time = time.time()\n",
    "electrons = Collections(events, 'Electron', 'tight', verbose=1).get()\n",
    "muons = Collections(events, 'Muon', 'tight', verbose=1).get()\n",
    "\n",
    "\n",
    "delta_time = time.time()-start_time\n",
    "\n",
    "print (\"\\nTook %s seconds\"%delta_time)"
   ]
  },
  {
   "cell_type": "code",
   "execution_count": 60,
   "id": "f120f729",
   "metadata": {},
   "outputs": [],
   "source": [
    "from Tools.helpers import pad_and_flatten, mt, fill_multiple, zip_run_lumi_event, get_four_vec_fromPtEtaPhiM\n",
    "from Tools.selections import get_pt\n",
    "\n",
    "muons['p4'] = get_four_vec_fromPtEtaPhiM(muons, get_pt(muons), muons.eta, muons.phi, muons.mass, copy=False)"
   ]
  },
  {
   "cell_type": "code",
   "execution_count": 70,
   "id": "18260a78",
   "metadata": {},
   "outputs": [],
   "source": [
    "from Tools.objects import choose\n",
    "dimuon = choose(muons, 2)"
   ]
  },
  {
   "cell_type": "code",
   "execution_count": 79,
   "id": "f2019979",
   "metadata": {},
   "outputs": [
    {
     "data": {
      "text/plain": [
       "<PtEtaPhiMLorentzVectorArray [[{pt: 39.3, ... mass: 0.106}]] type='35107 * var *...'>"
      ]
     },
     "execution_count": 79,
     "metadata": {},
     "output_type": "execute_result"
    }
   ],
   "source": [
    "dimuon[(ak.num(muons)>1)]['0'].p4"
   ]
  },
  {
   "cell_type": "code",
   "execution_count": 69,
   "id": "bae7ae09",
   "metadata": {},
   "outputs": [],
   "source": [
    "dielectron = choose(electrons, 2)"
   ]
  },
  {
   "cell_type": "code",
   "execution_count": 7,
   "id": "01097654",
   "metadata": {},
   "outputs": [],
   "source": [
    "leptons = ak.concatenate([electrons,muons])"
   ]
  },
  {
   "cell_type": "code",
   "execution_count": 8,
   "id": "5ddd01a2",
   "metadata": {},
   "outputs": [
    {
     "data": {
      "text/plain": [
       "<Array [[-1, 1], [1, 1], ... [-1, 1], [-1, 1]] type='319 * union[var * int32[par...'>"
      ]
     },
     "execution_count": 8,
     "metadata": {},
     "output_type": "execute_result"
    }
   ],
   "source": [
    "leptons[ak.num(leptons)>1].charge"
   ]
  },
  {
   "cell_type": "code",
   "execution_count": 12,
   "id": "d5bd38c9",
   "metadata": {},
   "outputs": [
    {
     "data": {
      "text/plain": [
       "<Array [[1, 1], [1, 1], ... [1, 1], [1, 1]] type='165 * union[var * int32[parame...'>"
      ]
     },
     "execution_count": 12,
     "metadata": {},
     "output_type": "execute_result"
    }
   ],
   "source": [
    "leptons[((ak.sum(leptons.charge, axis=1)!=0) & (ak.num(leptons)>1))].charge"
   ]
  },
  {
   "cell_type": "code",
   "execution_count": 13,
   "id": "75c69b27",
   "metadata": {},
   "outputs": [
    {
     "data": {
      "text/plain": [
       "<Array [[-1, 1], [1, -1], ... [-1, 1], [-1, 1]] type='154 * union[var * int32[pa...'>"
      ]
     },
     "execution_count": 13,
     "metadata": {},
     "output_type": "execute_result"
    }
   ],
   "source": [
    "leptons[((ak.sum(leptons.charge, axis=1)==0) & (ak.num(leptons)>1))].charge"
   ]
  },
  {
   "cell_type": "code",
   "execution_count": 17,
   "id": "9ede2fbb",
   "metadata": {},
   "outputs": [
    {
     "data": {
      "text/plain": [
       "<Array [None, 58, None, ... 79.8, 18.2, None] type='10000 * ?float32'>"
      ]
     },
     "execution_count": 17,
     "metadata": {},
     "output_type": "execute_result"
    }
   ],
   "source": [
    "ak.max(leptons.pt, axis=1)"
   ]
  },
  {
   "cell_type": "code",
   "execution_count": 10,
   "id": "1b337968",
   "metadata": {},
   "outputs": [
    {
     "data": {
      "text/plain": [
       "<Array [436885, 436863, ... 444630, 444644] type='1790 * uint64[parameters={\"__d...'>"
      ]
     },
     "execution_count": 10,
     "metadata": {},
     "output_type": "execute_result"
    }
   ],
   "source": [
    "events[ak.num(muons, axis=1)>0].event"
   ]
  },
  {
   "cell_type": "code",
   "execution_count": 7,
   "id": "a26dccdf",
   "metadata": {},
   "outputs": [
    {
     "data": {
      "text/plain": [
       "['charge',\n",
       " 'cleanmask',\n",
       " 'dxy',\n",
       " 'dxyErr',\n",
       " 'dxybs',\n",
       " 'dz',\n",
       " 'dzErr',\n",
       " 'eta',\n",
       " 'fsrPhotonIdx',\n",
       " 'fsrPhotonIdxG',\n",
       " 'genPartFlav',\n",
       " 'genPartIdx',\n",
       " 'genPartIdxG',\n",
       " 'highPtId',\n",
       " 'highPurity',\n",
       " 'inTimeMuon',\n",
       " 'ip3d',\n",
       " 'isGlobal',\n",
       " 'isPFcand',\n",
       " 'isTracker',\n",
       " 'jetIdx',\n",
       " 'jetIdxG',\n",
       " 'jetPtRelv2',\n",
       " 'jetRelIso',\n",
       " 'looseId',\n",
       " 'mass',\n",
       " 'mediumId',\n",
       " 'mediumPromptId',\n",
       " 'miniIsoId',\n",
       " 'miniPFRelIso_all',\n",
       " 'miniPFRelIso_chg',\n",
       " 'multiIsoId',\n",
       " 'mvaId',\n",
       " 'mvaLowPt',\n",
       " 'mvaTTH',\n",
       " 'nStations',\n",
       " 'nTrackerLayers',\n",
       " 'pdgId',\n",
       " 'pfIsoId',\n",
       " 'pfRelIso03_all',\n",
       " 'pfRelIso03_chg',\n",
       " 'pfRelIso04_all',\n",
       " 'phi',\n",
       " 'pt',\n",
       " 'ptErr',\n",
       " 'segmentComp',\n",
       " 'sip3d',\n",
       " 'softId',\n",
       " 'softMva',\n",
       " 'softMvaId',\n",
       " 'tightCharge',\n",
       " 'tightId',\n",
       " 'tkIsoId',\n",
       " 'tkRelIso',\n",
       " 'triggerIdLoose',\n",
       " 'tunepRelPt',\n",
       " 'absMiniIso',\n",
       " 'ptErrRel',\n",
       " 'deepJet',\n",
       " 'jetRelIsoV2',\n",
       " 'conePt']"
      ]
     },
     "execution_count": 7,
     "metadata": {},
     "output_type": "execute_result"
    }
   ],
   "source": [
    "muons.fields"
   ]
  },
  {
   "cell_type": "code",
   "execution_count": 8,
   "id": "c85a3d9d",
   "metadata": {},
   "outputs": [
    {
     "data": {
      "text/html": [
       "<div>\n",
       "<style scoped>\n",
       "    .dataframe tbody tr th:only-of-type {\n",
       "        vertical-align: middle;\n",
       "    }\n",
       "\n",
       "    .dataframe tbody tr th {\n",
       "        vertical-align: top;\n",
       "    }\n",
       "\n",
       "    .dataframe thead th {\n",
       "        text-align: right;\n",
       "    }\n",
       "</style>\n",
       "<table border=\"1\" class=\"dataframe\">\n",
       "  <thead>\n",
       "    <tr style=\"text-align: right;\">\n",
       "      <th></th>\n",
       "      <th></th>\n",
       "      <th>pt</th>\n",
       "      <th>conePt</th>\n",
       "      <th>eta</th>\n",
       "      <th>phi</th>\n",
       "      <th>miniPFRelIso_all</th>\n",
       "      <th>deepJet</th>\n",
       "    </tr>\n",
       "    <tr>\n",
       "      <th>entry</th>\n",
       "      <th>subentry</th>\n",
       "      <th></th>\n",
       "      <th></th>\n",
       "      <th></th>\n",
       "      <th></th>\n",
       "      <th></th>\n",
       "      <th></th>\n",
       "    </tr>\n",
       "  </thead>\n",
       "  <tbody>\n",
       "    <tr>\n",
       "      <th>0</th>\n",
       "      <th>0</th>\n",
       "      <td>89.001289</td>\n",
       "      <td>91.74375</td>\n",
       "      <td>-1.041992</td>\n",
       "      <td>1.666748</td>\n",
       "      <td>0.0</td>\n",
       "      <td>0.006035</td>\n",
       "    </tr>\n",
       "  </tbody>\n",
       "</table>\n",
       "</div>"
      ],
      "text/plain": [
       "                       pt    conePt       eta       phi  miniPFRelIso_all  \\\n",
       "entry subentry                                                              \n",
       "0     0         89.001289  91.74375 -1.041992  1.666748               0.0   \n",
       "\n",
       "                 deepJet  \n",
       "entry subentry            \n",
       "0     0         0.006035  "
      ]
     },
     "execution_count": 8,
     "metadata": {},
     "output_type": "execute_result"
    }
   ],
   "source": [
    "fields_to_show = [\"pt\", \"conePt\", \"eta\", \"phi\", \"miniPFRelIso_all\", \"deepJet\"]\n",
    "\n",
    "ak.to_pandas(muons[events.event==4590009][fields_to_show])"
   ]
  },
  {
   "cell_type": "code",
   "execution_count": 9,
   "id": "504d29b8",
   "metadata": {},
   "outputs": [
    {
     "data": {
      "text/html": [
       "<div>\n",
       "<style scoped>\n",
       "    .dataframe tbody tr th:only-of-type {\n",
       "        vertical-align: middle;\n",
       "    }\n",
       "\n",
       "    .dataframe tbody tr th {\n",
       "        vertical-align: top;\n",
       "    }\n",
       "\n",
       "    .dataframe thead th {\n",
       "        text-align: right;\n",
       "    }\n",
       "</style>\n",
       "<table border=\"1\" class=\"dataframe\">\n",
       "  <thead>\n",
       "    <tr style=\"text-align: right;\">\n",
       "      <th></th>\n",
       "      <th></th>\n",
       "      <th>pt</th>\n",
       "      <th>conePt</th>\n",
       "      <th>eta</th>\n",
       "      <th>phi</th>\n",
       "      <th>miniPFRelIso_all</th>\n",
       "      <th>deepJet</th>\n",
       "    </tr>\n",
       "    <tr>\n",
       "      <th>entry</th>\n",
       "      <th>subentry</th>\n",
       "      <th></th>\n",
       "      <th></th>\n",
       "      <th></th>\n",
       "      <th></th>\n",
       "      <th></th>\n",
       "      <th></th>\n",
       "    </tr>\n",
       "  </thead>\n",
       "  <tbody>\n",
       "    <tr>\n",
       "      <th>0</th>\n",
       "      <th>0</th>\n",
       "      <td>89.001289</td>\n",
       "      <td>91.743750</td>\n",
       "      <td>-1.041992</td>\n",
       "      <td>1.666748</td>\n",
       "      <td>0.000000</td>\n",
       "      <td>0.006035</td>\n",
       "    </tr>\n",
       "    <tr>\n",
       "      <th>1</th>\n",
       "      <th>0</th>\n",
       "      <td>22.520767</td>\n",
       "      <td>23.400000</td>\n",
       "      <td>-0.732056</td>\n",
       "      <td>-2.039551</td>\n",
       "      <td>0.031200</td>\n",
       "      <td>0.014496</td>\n",
       "    </tr>\n",
       "    <tr>\n",
       "      <th>2</th>\n",
       "      <th>0</th>\n",
       "      <td>35.408287</td>\n",
       "      <td>38.896875</td>\n",
       "      <td>1.223389</td>\n",
       "      <td>2.832031</td>\n",
       "      <td>0.000000</td>\n",
       "      <td>0.022186</td>\n",
       "    </tr>\n",
       "    <tr>\n",
       "      <th>3</th>\n",
       "      <th>0</th>\n",
       "      <td>39.832733</td>\n",
       "      <td>42.187500</td>\n",
       "      <td>-1.335205</td>\n",
       "      <td>-1.277832</td>\n",
       "      <td>0.007453</td>\n",
       "      <td>0.005619</td>\n",
       "    </tr>\n",
       "    <tr>\n",
       "      <th>4</th>\n",
       "      <th>0</th>\n",
       "      <td>97.141785</td>\n",
       "      <td>99.843750</td>\n",
       "      <td>-0.975586</td>\n",
       "      <td>-2.340820</td>\n",
       "      <td>0.000000</td>\n",
       "      <td>0.006428</td>\n",
       "    </tr>\n",
       "    <tr>\n",
       "      <th>...</th>\n",
       "      <th>...</th>\n",
       "      <td>...</td>\n",
       "      <td>...</td>\n",
       "      <td>...</td>\n",
       "      <td>...</td>\n",
       "      <td>...</td>\n",
       "      <td>...</td>\n",
       "    </tr>\n",
       "    <tr>\n",
       "      <th>2285</th>\n",
       "      <th>0</th>\n",
       "      <td>34.735882</td>\n",
       "      <td>35.718750</td>\n",
       "      <td>1.778320</td>\n",
       "      <td>3.064941</td>\n",
       "      <td>0.000000</td>\n",
       "      <td>0.008408</td>\n",
       "    </tr>\n",
       "    <tr>\n",
       "      <th>2286</th>\n",
       "      <th>0</th>\n",
       "      <td>81.104309</td>\n",
       "      <td>81.000000</td>\n",
       "      <td>0.807251</td>\n",
       "      <td>0.137268</td>\n",
       "      <td>0.000000</td>\n",
       "      <td>0.004791</td>\n",
       "    </tr>\n",
       "    <tr>\n",
       "      <th>2287</th>\n",
       "      <th>0</th>\n",
       "      <td>25.945396</td>\n",
       "      <td>25.101562</td>\n",
       "      <td>-0.316895</td>\n",
       "      <td>0.740234</td>\n",
       "      <td>0.000000</td>\n",
       "      <td>0.013512</td>\n",
       "    </tr>\n",
       "    <tr>\n",
       "      <th>2288</th>\n",
       "      <th>0</th>\n",
       "      <td>33.870148</td>\n",
       "      <td>37.096875</td>\n",
       "      <td>0.297119</td>\n",
       "      <td>-2.192871</td>\n",
       "      <td>0.000000</td>\n",
       "      <td>0.182861</td>\n",
       "    </tr>\n",
       "    <tr>\n",
       "      <th>2289</th>\n",
       "      <th>0</th>\n",
       "      <td>59.036285</td>\n",
       "      <td>63.618750</td>\n",
       "      <td>-0.131073</td>\n",
       "      <td>-0.800415</td>\n",
       "      <td>0.000000</td>\n",
       "      <td>0.006271</td>\n",
       "    </tr>\n",
       "  </tbody>\n",
       "</table>\n",
       "<p>2622 rows × 6 columns</p>\n",
       "</div>"
      ],
      "text/plain": [
       "                       pt     conePt       eta       phi  miniPFRelIso_all  \\\n",
       "entry subentry                                                               \n",
       "0     0         89.001289  91.743750 -1.041992  1.666748          0.000000   \n",
       "1     0         22.520767  23.400000 -0.732056 -2.039551          0.031200   \n",
       "2     0         35.408287  38.896875  1.223389  2.832031          0.000000   \n",
       "3     0         39.832733  42.187500 -1.335205 -1.277832          0.007453   \n",
       "4     0         97.141785  99.843750 -0.975586 -2.340820          0.000000   \n",
       "...                   ...        ...       ...       ...               ...   \n",
       "2285  0         34.735882  35.718750  1.778320  3.064941          0.000000   \n",
       "2286  0         81.104309  81.000000  0.807251  0.137268          0.000000   \n",
       "2287  0         25.945396  25.101562 -0.316895  0.740234          0.000000   \n",
       "2288  0         33.870148  37.096875  0.297119 -2.192871          0.000000   \n",
       "2289  0         59.036285  63.618750 -0.131073 -0.800415          0.000000   \n",
       "\n",
       "                 deepJet  \n",
       "entry subentry            \n",
       "0     0         0.006035  \n",
       "1     0         0.014496  \n",
       "2     0         0.022186  \n",
       "3     0         0.005619  \n",
       "4     0         0.006428  \n",
       "...                  ...  \n",
       "2285  0         0.008408  \n",
       "2286  0         0.004791  \n",
       "2287  0         0.013512  \n",
       "2288  0         0.182861  \n",
       "2289  0         0.006271  \n",
       "\n",
       "[2622 rows x 6 columns]"
      ]
     },
     "execution_count": 9,
     "metadata": {},
     "output_type": "execute_result"
    }
   ],
   "source": [
    "ak.to_pandas(muons[ak.num(muons)>0][fields_to_show])"
   ]
  },
  {
   "cell_type": "markdown",
   "id": "7da1560e",
   "metadata": {},
   "source": [
    "You can do anything that you're usually doing inside the processor here as well, so this is very useful for debugging"
   ]
  },
  {
   "cell_type": "code",
   "execution_count": 10,
   "id": "e70d9342",
   "metadata": {},
   "outputs": [
    {
     "data": {
      "text/plain": [
       "1776"
      ]
     },
     "execution_count": 10,
     "metadata": {},
     "output_type": "execute_result"
    }
   ],
   "source": [
    "matched_electrons = electrons[electrons.genPartIdx>=0]\n",
    "sum(ak.num(matched_electrons, axis=1))"
   ]
  },
  {
   "cell_type": "code",
   "execution_count": 11,
   "id": "8af32228",
   "metadata": {},
   "outputs": [
    {
     "name": "stdout",
     "output_type": "stream",
     "text": [
      "\n",
      "## Muon selection for WP tight ##\n",
      " - pt >= 15\n",
      " - abs(eta) <= 2.4\n",
      " - mediumId == 1\n",
      " - looseId == 1\n",
      " - abs(dxy) <= 0.05\n",
      " - abs(dz) <= 0.05\n",
      " - abs(sip3d) <= 4\n",
      " - ptErrRel <= 0.2\n",
      " - custom multi isolation\n",
      " - custom multi-isolation\n",
      "Found 652 objects passing the selection\n"
     ]
    },
    {
     "data": {
      "text/plain": [
       "<Array [29552, 33557, ... 12024433, 12035747] type='651 * uint64[parameters={\"__...'>"
      ]
     },
     "execution_count": 11,
     "metadata": {},
     "output_type": "execute_result"
    }
   ],
   "source": [
    "f_in = '/store/mc/RunIIAutumn18NanoAODv7/QCD_Pt-120to170_MuEnrichedPt5_TuneCP5_13TeV_pythia8/NANOAODSIM/Nano02Apr2020_102X_upgrade2018_realistic_v21-v1/70000/DE335891-829A-B943-99BE-E5A179F5F3EB.root'\n",
    "\n",
    "events = NanoEventsFactory.from_root(\n",
    "    redirector_ucsd + f_in,\n",
    "    schemaclass = NanoAODSchema,\n",
    "    entry_stop = 9999999).events()\n",
    "\n",
    "muons = Collections(events, 'Muon', 'tight', verbose=1).get()\n",
    "\n",
    "single_mu_ev = events[ak.num(muons)>0]\n",
    "\n",
    "event_list_tight = single_mu_ev.event\n",
    "event_list_tight"
   ]
  },
  {
   "cell_type": "code",
   "execution_count": 12,
   "id": "56371d7d",
   "metadata": {},
   "outputs": [],
   "source": [
    "import numpy as np\n",
    "event_selector = (np.zeros_like(events.MET.pt) == 1)"
   ]
  },
  {
   "cell_type": "code",
   "execution_count": 13,
   "id": "d087ef95",
   "metadata": {},
   "outputs": [],
   "source": [
    "my_events = [29552, 12024433]"
   ]
  },
  {
   "cell_type": "code",
   "execution_count": 14,
   "id": "394b8bd2",
   "metadata": {},
   "outputs": [],
   "source": [
    "for ev in my_events:\n",
    "    event_selector = (event_selector | (events.event == ev))"
   ]
  },
  {
   "cell_type": "code",
   "execution_count": 28,
   "id": "d5ca72d1",
   "metadata": {},
   "outputs": [
    {
     "data": {
      "text/html": [
       "<div>\n",
       "<style scoped>\n",
       "    .dataframe tbody tr th:only-of-type {\n",
       "        vertical-align: middle;\n",
       "    }\n",
       "\n",
       "    .dataframe tbody tr th {\n",
       "        vertical-align: top;\n",
       "    }\n",
       "\n",
       "    .dataframe thead th {\n",
       "        text-align: right;\n",
       "    }\n",
       "</style>\n",
       "<table border=\"1\" class=\"dataframe\">\n",
       "  <thead>\n",
       "    <tr style=\"text-align: right;\">\n",
       "      <th></th>\n",
       "      <th>pt</th>\n",
       "      <th>conePt</th>\n",
       "      <th>eta</th>\n",
       "      <th>phi</th>\n",
       "      <th>miniPFRelIso_all</th>\n",
       "      <th>deepJet</th>\n",
       "    </tr>\n",
       "    <tr>\n",
       "      <th>entry</th>\n",
       "      <th></th>\n",
       "      <th></th>\n",
       "      <th></th>\n",
       "      <th></th>\n",
       "      <th></th>\n",
       "      <th></th>\n",
       "    </tr>\n",
       "  </thead>\n",
       "  <tbody>\n",
       "    <tr>\n",
       "      <th>0</th>\n",
       "      <td>22.196507</td>\n",
       "      <td>73.3500</td>\n",
       "      <td>-0.518066</td>\n",
       "      <td>-0.862671</td>\n",
       "      <td>0.101121</td>\n",
       "      <td>0.974121</td>\n",
       "    </tr>\n",
       "    <tr>\n",
       "      <th>1</th>\n",
       "      <td>29.695017</td>\n",
       "      <td>93.2625</td>\n",
       "      <td>-1.611572</td>\n",
       "      <td>-1.919434</td>\n",
       "      <td>0.100588</td>\n",
       "      <td>0.124390</td>\n",
       "    </tr>\n",
       "  </tbody>\n",
       "</table>\n",
       "</div>"
      ],
      "text/plain": [
       "              pt   conePt       eta       phi  miniPFRelIso_all   deepJet\n",
       "entry                                                                    \n",
       "0      22.196507  73.3500 -0.518066 -0.862671          0.101121  0.974121\n",
       "1      29.695017  93.2625 -1.611572 -1.919434          0.100588  0.124390"
      ]
     },
     "execution_count": 28,
     "metadata": {},
     "output_type": "execute_result"
    }
   ],
   "source": [
    "mu_df = ak.to_pandas(ak.flatten(muons[event_selector][fields_to_show]))\n",
    "mu_df"
   ]
  },
  {
   "cell_type": "code",
   "execution_count": 35,
   "id": "6339170d",
   "metadata": {},
   "outputs": [
    {
     "data": {
      "text/html": [
       "<div>\n",
       "<style scoped>\n",
       "    .dataframe tbody tr th:only-of-type {\n",
       "        vertical-align: middle;\n",
       "    }\n",
       "\n",
       "    .dataframe tbody tr th {\n",
       "        vertical-align: top;\n",
       "    }\n",
       "\n",
       "    .dataframe thead th {\n",
       "        text-align: right;\n",
       "    }\n",
       "</style>\n",
       "<table border=\"1\" class=\"dataframe\">\n",
       "  <thead>\n",
       "    <tr style=\"text-align: right;\">\n",
       "      <th></th>\n",
       "      <th>MetUnclustEnUpDeltaX</th>\n",
       "      <th>MetUnclustEnUpDeltaY</th>\n",
       "      <th>covXX</th>\n",
       "      <th>covXY</th>\n",
       "      <th>covYY</th>\n",
       "      <th>fiducialGenPhi</th>\n",
       "      <th>fiducialGenPt</th>\n",
       "      <th>phi</th>\n",
       "      <th>pt</th>\n",
       "      <th>significance</th>\n",
       "      <th>sumEt</th>\n",
       "      <th>sumPtUnclustered</th>\n",
       "    </tr>\n",
       "    <tr>\n",
       "      <th>entry</th>\n",
       "      <th></th>\n",
       "      <th></th>\n",
       "      <th></th>\n",
       "      <th></th>\n",
       "      <th></th>\n",
       "      <th></th>\n",
       "      <th></th>\n",
       "      <th></th>\n",
       "      <th></th>\n",
       "      <th></th>\n",
       "      <th></th>\n",
       "      <th></th>\n",
       "    </tr>\n",
       "  </thead>\n",
       "  <tbody>\n",
       "    <tr>\n",
       "      <th>0</th>\n",
       "      <td>-7.730469</td>\n",
       "      <td>-7.636719</td>\n",
       "      <td>860.0</td>\n",
       "      <td>-62.375000</td>\n",
       "      <td>1500.0</td>\n",
       "      <td>-1.039062</td>\n",
       "      <td>9.304688</td>\n",
       "      <td>0.413147</td>\n",
       "      <td>49.778206</td>\n",
       "      <td>2.777344</td>\n",
       "      <td>2454.0</td>\n",
       "      <td>1626.0</td>\n",
       "    </tr>\n",
       "    <tr>\n",
       "      <th>1</th>\n",
       "      <td>-5.054688</td>\n",
       "      <td>-2.496094</td>\n",
       "      <td>514.0</td>\n",
       "      <td>-5.484375</td>\n",
       "      <td>390.0</td>\n",
       "      <td>-1.850586</td>\n",
       "      <td>20.265625</td>\n",
       "      <td>-1.706299</td>\n",
       "      <td>52.056957</td>\n",
       "      <td>6.945312</td>\n",
       "      <td>1174.0</td>\n",
       "      <td>1016.0</td>\n",
       "    </tr>\n",
       "  </tbody>\n",
       "</table>\n",
       "</div>"
      ],
      "text/plain": [
       "       MetUnclustEnUpDeltaX  MetUnclustEnUpDeltaY  covXX      covXY   covYY  \\\n",
       "entry                                                                         \n",
       "0                 -7.730469             -7.636719  860.0 -62.375000  1500.0   \n",
       "1                 -5.054688             -2.496094  514.0  -5.484375   390.0   \n",
       "\n",
       "       fiducialGenPhi  fiducialGenPt       phi         pt  significance  \\\n",
       "entry                                                                     \n",
       "0           -1.039062       9.304688  0.413147  49.778206      2.777344   \n",
       "1           -1.850586      20.265625 -1.706299  52.056957      6.945312   \n",
       "\n",
       "        sumEt  sumPtUnclustered  \n",
       "entry                            \n",
       "0      2454.0            1626.0  \n",
       "1      1174.0            1016.0  "
      ]
     },
     "execution_count": 35,
     "metadata": {},
     "output_type": "execute_result"
    }
   ],
   "source": [
    "ev_df = ak.to_pandas(events.MET[event_selector])\n",
    "ev_df"
   ]
  },
  {
   "cell_type": "code",
   "execution_count": 36,
   "id": "570198d2",
   "metadata": {},
   "outputs": [
    {
     "data": {
      "text/html": [
       "<div>\n",
       "<style scoped>\n",
       "    .dataframe tbody tr th:only-of-type {\n",
       "        vertical-align: middle;\n",
       "    }\n",
       "\n",
       "    .dataframe tbody tr th {\n",
       "        vertical-align: top;\n",
       "    }\n",
       "\n",
       "    .dataframe thead th {\n",
       "        text-align: right;\n",
       "    }\n",
       "</style>\n",
       "<table border=\"1\" class=\"dataframe\">\n",
       "  <thead>\n",
       "    <tr style=\"text-align: right;\">\n",
       "      <th></th>\n",
       "      <th>pt</th>\n",
       "      <th>conePt</th>\n",
       "      <th>eta</th>\n",
       "      <th>phi</th>\n",
       "      <th>miniPFRelIso_all</th>\n",
       "      <th>deepJet</th>\n",
       "      <th>MetUnclustEnUpDeltaX</th>\n",
       "      <th>MetUnclustEnUpDeltaY</th>\n",
       "      <th>covXX</th>\n",
       "      <th>covXY</th>\n",
       "      <th>covYY</th>\n",
       "      <th>fiducialGenPhi</th>\n",
       "      <th>fiducialGenPt</th>\n",
       "      <th>phi</th>\n",
       "      <th>pt</th>\n",
       "      <th>significance</th>\n",
       "      <th>sumEt</th>\n",
       "      <th>sumPtUnclustered</th>\n",
       "    </tr>\n",
       "    <tr>\n",
       "      <th>entry</th>\n",
       "      <th></th>\n",
       "      <th></th>\n",
       "      <th></th>\n",
       "      <th></th>\n",
       "      <th></th>\n",
       "      <th></th>\n",
       "      <th></th>\n",
       "      <th></th>\n",
       "      <th></th>\n",
       "      <th></th>\n",
       "      <th></th>\n",
       "      <th></th>\n",
       "      <th></th>\n",
       "      <th></th>\n",
       "      <th></th>\n",
       "      <th></th>\n",
       "      <th></th>\n",
       "      <th></th>\n",
       "    </tr>\n",
       "  </thead>\n",
       "  <tbody>\n",
       "    <tr>\n",
       "      <th>0</th>\n",
       "      <td>22.196507</td>\n",
       "      <td>73.3500</td>\n",
       "      <td>-0.518066</td>\n",
       "      <td>-0.862671</td>\n",
       "      <td>0.101121</td>\n",
       "      <td>0.974121</td>\n",
       "      <td>-7.730469</td>\n",
       "      <td>-7.636719</td>\n",
       "      <td>860.0</td>\n",
       "      <td>-62.375000</td>\n",
       "      <td>1500.0</td>\n",
       "      <td>-1.039062</td>\n",
       "      <td>9.304688</td>\n",
       "      <td>0.413147</td>\n",
       "      <td>49.778206</td>\n",
       "      <td>2.777344</td>\n",
       "      <td>2454.0</td>\n",
       "      <td>1626.0</td>\n",
       "    </tr>\n",
       "    <tr>\n",
       "      <th>1</th>\n",
       "      <td>29.695017</td>\n",
       "      <td>93.2625</td>\n",
       "      <td>-1.611572</td>\n",
       "      <td>-1.919434</td>\n",
       "      <td>0.100588</td>\n",
       "      <td>0.124390</td>\n",
       "      <td>-5.054688</td>\n",
       "      <td>-2.496094</td>\n",
       "      <td>514.0</td>\n",
       "      <td>-5.484375</td>\n",
       "      <td>390.0</td>\n",
       "      <td>-1.850586</td>\n",
       "      <td>20.265625</td>\n",
       "      <td>-1.706299</td>\n",
       "      <td>52.056957</td>\n",
       "      <td>6.945312</td>\n",
       "      <td>1174.0</td>\n",
       "      <td>1016.0</td>\n",
       "    </tr>\n",
       "  </tbody>\n",
       "</table>\n",
       "</div>"
      ],
      "text/plain": [
       "              pt   conePt       eta       phi  miniPFRelIso_all   deepJet  \\\n",
       "entry                                                                       \n",
       "0      22.196507  73.3500 -0.518066 -0.862671          0.101121  0.974121   \n",
       "1      29.695017  93.2625 -1.611572 -1.919434          0.100588  0.124390   \n",
       "\n",
       "       MetUnclustEnUpDeltaX  MetUnclustEnUpDeltaY  covXX      covXY   covYY  \\\n",
       "entry                                                                         \n",
       "0                 -7.730469             -7.636719  860.0 -62.375000  1500.0   \n",
       "1                 -5.054688             -2.496094  514.0  -5.484375   390.0   \n",
       "\n",
       "       fiducialGenPhi  fiducialGenPt       phi         pt  significance  \\\n",
       "entry                                                                     \n",
       "0           -1.039062       9.304688  0.413147  49.778206      2.777344   \n",
       "1           -1.850586      20.265625 -1.706299  52.056957      6.945312   \n",
       "\n",
       "        sumEt  sumPtUnclustered  \n",
       "entry                            \n",
       "0      2454.0            1626.0  \n",
       "1      1174.0            1016.0  "
      ]
     },
     "execution_count": 36,
     "metadata": {},
     "output_type": "execute_result"
    }
   ],
   "source": [
    "import pandas as pd\n",
    "pd.concat([mu_df, ev_df], axis=1, )"
   ]
  },
  {
   "cell_type": "markdown",
   "id": "f0942412",
   "metadata": {},
   "source": [
    "## Some charge flip work"
   ]
  },
  {
   "cell_type": "code",
   "execution_count": 6,
   "id": "3a867434",
   "metadata": {},
   "outputs": [
    {
     "name": "stdout",
     "output_type": "stream",
     "text": [
      "--2021-06-08 08:49:39--  http://uaf-8.t2.ucsd.edu/~ewallace/chargeflipfull2016.pkl.gz\n",
      "Resolving uaf-8.t2.ucsd.edu (uaf-8.t2.ucsd.edu)... 169.228.130.7\n",
      "Connecting to uaf-8.t2.ucsd.edu (uaf-8.t2.ucsd.edu)|169.228.130.7|:80... connected.\n",
      "HTTP request sent, awaiting response... 200 OK\n",
      "Length: 951 [application/x-gzip]\n",
      "Saving to: ‘chargeflipfull2016.pkl.gz’\n",
      "\n",
      "100%[======================================>] 951         --.-K/s   in 0s      \n",
      "\n",
      "2021-06-08 08:49:39 (67.6 MB/s) - ‘chargeflipfull2016.pkl.gz’ saved [951/951]\n",
      "\n"
     ]
    }
   ],
   "source": [
    "!wget http://uaf-8.t2.ucsd.edu/~ewallace/chargeflipfull2016.pkl.gz"
   ]
  },
  {
   "cell_type": "code",
   "execution_count": 1,
   "id": "33dbd6c6",
   "metadata": {},
   "outputs": [],
   "source": [
    "from Tools.helpers import yahist_2D_lookup\n",
    "import gzip\n",
    "import pickle\n",
    " \n",
    "class charge_flip:\n",
    "    def __init__(self, path):\n",
    "        self.path = path\n",
    "        with gzip.open(self.path) as fin:\n",
    "            self.ratio= pickle.load(fin)\n",
    "    \n",
    "    def flip_ratio(self, lepton1, lepton2):\n",
    "        \"\"\"takes a dilepton event and weights it based on the \n",
    "        odds that one of the leptons has a charge flip\"\"\"\n",
    "\n",
    "        flip1 = yahist_2D_lookup(self.ratio, lepton1.pt, abs(lepton1.eta))\n",
    "        flip2 = yahist_2D_lookup(self.ratio, lepton2.pt, abs(lepton2.eta))\n",
    "\n",
    "        flip_rate1 = (ak.prod(flip1, axis = 1) * ak.prod(1/(1-flip1), axis = 1) * ak.prod(1-flip2/(1-flip2), axis = 1)) + (ak.prod(flip2, axis = 1) * ak.prod(1/(1-flip2), axis = 1) * ak.prod(1-flip1/(1-flip1), axis = 1))\n",
    "\n",
    "        return flip_rate1\n",
    "    \n",
    "    def flip_weight(self, electron):\n",
    "\n",
    "        f_1 = yahist_2D_lookup(self.ratio, electron.pt[:,0:1], abs(electron.eta[:,0:1]))\n",
    "        f_2 = yahist_2D_lookup(self.ratio, electron.pt[:,1:2], abs(electron.eta[:,1:2]))\n",
    "\n",
    "        # I'm using ak.prod and ak.sum to replace empty arrays by 1 and 0, respectively\n",
    "        weight = ak.sum(f_1/(1-f_1), axis=1)*ak.prod(1-f_2/(1-f_2), axis=1) + ak.sum(f_2/(1-f_2), axis=1)*ak.prod(1-f_1/(1-f_1), axis=1)\n",
    "\n",
    "        return weight"
   ]
  },
  {
   "cell_type": "code",
   "execution_count": 2,
   "id": "e28bd316",
   "metadata": {},
   "outputs": [],
   "source": [
    "cf = charge_flip('chargeflipfull2016.pkl.gz')"
   ]
  },
  {
   "cell_type": "code",
   "execution_count": 61,
   "id": "ef6a098c",
   "metadata": {},
   "outputs": [
    {
     "data": {
      "text/plain": [
       "<Array [[], [24], [], [24, ... [], [24], []] type='382431 * var * ?int32[paramet...'>"
      ]
     },
     "execution_count": 61,
     "metadata": {},
     "output_type": "execute_result"
    }
   ],
   "source": [
    "electrons.matched_gen.parent.pdgId"
   ]
  },
  {
   "cell_type": "code",
   "execution_count": 3,
   "id": "4ff64107",
   "metadata": {},
   "outputs": [],
   "source": [
    "from Tools.gen import *"
   ]
  },
  {
   "cell_type": "code",
   "execution_count": 5,
   "id": "60a9bb32",
   "metadata": {},
   "outputs": [],
   "source": [
    "import numpy as np\n",
    "electrons = electrons[electrons.genPartIdx>=0]\n",
    "\n",
    "ele = electrons[((ak.num(electrons,axis=1)>0))]\n",
    "\n",
    "not_W_or_tau = ((np.abs(find_first_parent(ele.matched_gen))!=24) & (np.abs(find_first_parent(ele.matched_gen))!=15))\n",
    "not_W_or_tau = ((np.abs(find_first_parent(ele.matched_gen))!=24) & (np.abs(find_first_parent(ele.matched_gen))!=15))"
   ]
  },
  {
   "cell_type": "code",
   "execution_count": 63,
   "id": "bfacd0d0",
   "metadata": {},
   "outputs": [
    {
     "data": {
      "text/plain": [
       "<ElectronArray [Electron, Electron, ... Electron] type='1030 * ?electron'>"
      ]
     },
     "execution_count": 63,
     "metadata": {},
     "output_type": "execute_result"
    }
   ],
   "source": [
    "ak.flatten(ele[not_W_or_tau])"
   ]
  },
  {
   "cell_type": "code",
   "execution_count": 64,
   "id": "2cadabd7",
   "metadata": {},
   "outputs": [
    {
     "data": {
      "text/plain": [
       "<Array [2, 1, -2, -1, 2, ... 21, 2, 2, -1, 1] type='1030 * ?int64'>"
      ]
     },
     "execution_count": 64,
     "metadata": {},
     "output_type": "execute_result"
    }
   ],
   "source": [
    "find_first_parent(ak.flatten(ele[not_W_or_tau].matched_gen))"
   ]
  },
  {
   "cell_type": "code",
   "execution_count": 69,
   "id": "e0d41a2a",
   "metadata": {},
   "outputs": [],
   "source": [
    "potential_flip = (abs(find_first_parent(ele.matched_gen)) == 21)"
   ]
  },
  {
   "cell_type": "code",
   "execution_count": 70,
   "id": "8d697bdf",
   "metadata": {},
   "outputs": [
    {
     "data": {
      "text/plain": [
       "<ElectronArray [Electron, Electron, ... None, Electron] type='162 * ?electron'>"
      ]
     },
     "execution_count": 70,
     "metadata": {},
     "output_type": "execute_result"
    }
   ],
   "source": [
    "ak.flatten(ele[potential_flip])"
   ]
  },
  {
   "cell_type": "code",
   "execution_count": 67,
   "id": "8a434c79",
   "metadata": {},
   "outputs": [
    {
     "data": {
      "text/plain": [
       "<ElectronArray [[], [Electron], ... [Electron], []] type='382431 * var * electron'>"
      ]
     },
     "execution_count": 67,
     "metadata": {},
     "output_type": "execute_result"
    }
   ],
   "source": [
    "electrons"
   ]
  },
  {
   "cell_type": "code",
   "execution_count": 71,
   "id": "559701d6",
   "metadata": {},
   "outputs": [
    {
     "data": {
      "text/plain": [
       "0.000562192918461108"
      ]
     },
     "execution_count": 71,
     "metadata": {},
     "output_type": "execute_result"
    }
   ],
   "source": [
    "(162+53)/382431"
   ]
  },
  {
   "cell_type": "code",
   "execution_count": 4,
   "id": "2fafc798",
   "metadata": {},
   "outputs": [],
   "source": [
    "\n",
    "from coffea.nanoevents import NanoEventsFactory, NanoAODSchema\n",
    "from coffea.analysis_tools import Weights, PackedSelection\n",
    "\n",
    "from Tools.config_helpers import redirector_fnal, redirector_ucsd\n",
    "from Tools.nano_mapping import make_fileset\n",
    "from Tools.helpers import get_samples\n",
    "\n",
    "import awkward as ak\n",
    "\n",
    "samples = get_samples()\n",
    "\n",
    "fileset = make_fileset(['top'], samples, redirector=redirector_ucsd, small=True) # changed top -> TTW\n",
    "\n",
    "# load a subset of events\n",
    "n_max = 500000\n",
    "events = NanoEventsFactory.from_root(\n",
    "    fileset[list(fileset.keys())[0]][0],\n",
    "    schemaclass = NanoAODSchema,\n",
    "    #entry_stop = n_max,\n",
    ").events()\n",
    "\n",
    "from Tools.objects import Collections\n",
    "from Tools.gen import *\n",
    "\n",
    "#electrons = Collections(events, 'Electron', 'tight', verbose=1).get()\n",
    "#electrons = electrons[electrons.genPartIdx>=0]\n",
    "#ele = electrons[((ak.num(electrons,axis=1)==2))]\n",
    "\n",
    "#SM_particles = \n",
    "#charge_list = \n",
    "def get_charge_parent(particle):\n",
    "    parent = find_first_parent(particle)\n",
    "    out_charge = ak.zeros_like(parent)\n",
    "    charge_pairs = [(11,-1), (13,-1), (24, 1)]\n",
    "    for pdg, charge in charge_pairs:\n",
    "        out_charge = (parent==pdg)*ak.ones_like(parent)*(charge) + (~(parent==pdg))*out_charge\n",
    "    return out_charge\n",
    "\n",
    "\n",
    "#get_charge_parent(ele.matched_gen)"
   ]
  },
  {
   "cell_type": "code",
   "execution_count": 9,
   "id": "cba757f4",
   "metadata": {},
   "outputs": [
    {
     "data": {
      "text/plain": [
       "'root://xcache-redirector.t2.ucsd.edu:2042//store/mc/RunIIAutumn18NanoAODv7/TTTo2L2Nu_TuneCP5_13TeV-powheg-pythia8/NANOAODSIM/Nano02Apr2020_102X_upgrade2018_realistic_v21-v1/60000/022107FA-F567-1B44-B139-A18ADC996FCF.root'"
      ]
     },
     "execution_count": 9,
     "metadata": {},
     "output_type": "execute_result"
    }
   ],
   "source": [
    "fileset[list(fileset.keys())[0]][0]"
   ]
  },
  {
   "cell_type": "code",
   "execution_count": 11,
   "id": "912a24ab",
   "metadata": {},
   "outputs": [
    {
     "name": "stdout",
     "output_type": "stream",
     "text": [
      "\n",
      "## Electron selection for WP tight ##\n",
      " - pt >= 15\n",
      " - abs(etaSC) <= 2.5\n",
      " - convVeto == 1\n",
      " - lostHits == 0\n",
      " - tightCharge == 2\n",
      " - abs(dxy) <= 0.05\n",
      " - abs(dz) <= 0.1\n",
      " - abs(sip3d) <= 4.0\n",
      " - tight electron MVA ID\n",
      " - custom multi isolation\n",
      " - trigger safe\n",
      " - custom ID and multi-isolation\n",
      "Found 418141 objects passing the selection\n"
     ]
    },
    {
     "data": {
      "text/plain": [
       "74"
      ]
     },
     "execution_count": 11,
     "metadata": {},
     "output_type": "execute_result"
    }
   ],
   "source": [
    "electrons = Collections(events, 'Electron', 'tight', verbose=1).get()\n",
    "\n",
    "# only gen matched electrons\n",
    "electrons = electrons[electrons.genPartIdx>=0]\n",
    "\n",
    "# require exactly two electrons\n",
    "ele = electrons[((ak.num(electrons,axis=1)==2)&(ak.sum(electrons.charge, axis=1)!=0))]\n",
    "\n",
    "# how many are left?\n",
    "len(ele)"
   ]
  },
  {
   "cell_type": "code",
   "execution_count": 5,
   "id": "2a7cab2f",
   "metadata": {},
   "outputs": [
    {
     "name": "stdout",
     "output_type": "stream",
     "text": [
      "\n",
      "## Electron selection for WP tight ##\n",
      " - pt >= 15\n",
      " - abs(etaSC) <= 2.5\n",
      " - convVeto == 1\n",
      " - lostHits == 0\n",
      " - tightCharge == 2\n",
      " - abs(dxy) <= 0.05\n",
      " - abs(dz) <= 0.1\n",
      " - abs(sip3d) <= 4.0\n",
      " - tight electron MVA ID\n",
      " - custom multi isolation\n",
      " - trigger safe\n",
      " - custom ID and multi-isolation\n",
      "Found 418141 objects passing the selection\n",
      "Number of events with prompt SS: 21\n"
     ]
    },
    {
     "data": {
      "text/plain": [
       "18"
      ]
     },
     "execution_count": 5,
     "metadata": {},
     "output_type": "execute_result"
    }
   ],
   "source": [
    "import numpy as np\n",
    "\n",
    "electron = Collections(events, 'Electron', 'tight', verbose=1).get()\n",
    "electron = electron[(electron.pt > 20) & (np.abs(electron.eta) < 2.4)]\n",
    "electron = electron[(electron.genPartIdx >= 0)] #from here on all leptons are gen-matched\n",
    "electron = electron[(np.abs(electron.matched_gen.pdgId)==11)]\n",
    "electron = electron[( (electron.genPartFlav==1) | (electron.genPartFlav==15) )] #and now they are all prompt\n",
    "\n",
    "electron = electron[((ak.num(electron,axis=1)==2)&(ak.sum(electron.charge, axis=1)!=0))]\n",
    "\n",
    "print (\"Number of events with prompt SS:\", len(electron))\n",
    "\n",
    "flipped = (electron.pdgId*(-1) == electron.matched_gen.pdgId)\n",
    "flipped_electron = electron[flipped]\n",
    "\n",
    "len(electron[(ak.num(flipped_electron, axis=1)>0)])\n",
    "\n"
   ]
  },
  {
   "cell_type": "code",
   "execution_count": 6,
   "id": "a0e6de52",
   "metadata": {},
   "outputs": [
    {
     "data": {
      "text/plain": [
       "<Array [2, 2, 2, 2, 2, 2, ... 2, 2, 2, 2, 2, 2] type='21 * int64'>"
      ]
     },
     "execution_count": 6,
     "metadata": {},
     "output_type": "execute_result"
    }
   ],
   "source": [
    "ak.num(electron)"
   ]
  },
  {
   "cell_type": "code",
   "execution_count": 7,
   "id": "66ec9c9f",
   "metadata": {},
   "outputs": [
    {
     "data": {
      "text/plain": [
       "<Array [0.00496, 4.07e-05, ... 0.00193] type='21 * float64'>"
      ]
     },
     "execution_count": 7,
     "metadata": {},
     "output_type": "execute_result"
    }
   ],
   "source": [
    "cf.flip_weight(electron)"
   ]
  },
  {
   "cell_type": "code",
   "execution_count": 3,
   "id": "96c4a954",
   "metadata": {},
   "outputs": [
    {
     "data": {
      "text/plain": [
       "<Array [1, 0, 1, 1, 1, 1, ... 1, 1, 1, 1, 1, 1] type='21 * int64'>"
      ]
     },
     "execution_count": 3,
     "metadata": {},
     "output_type": "execute_result"
    }
   ],
   "source": [
    "ak.num(flipped_electron)"
   ]
  },
  {
   "cell_type": "code",
   "execution_count": 9,
   "id": "976431a3",
   "metadata": {},
   "outputs": [
    {
     "data": {
      "text/plain": [
       "<Array [72.7, 72.7, 72.7, ... 72.7, 72.7, 72.7] type='1140000 * float32[paramete...'>"
      ]
     },
     "execution_count": 9,
     "metadata": {},
     "output_type": "execute_result"
    }
   ],
   "source": [
    "events.genWeight"
   ]
  },
  {
   "cell_type": "code",
   "execution_count": 4,
   "id": "1d27f54d",
   "metadata": {},
   "outputs": [],
   "source": [
    "is_flipped = ( ( (electron.matched_gen.pdgId*(-1) == electron.pdgId) | (find_first_parent(electron.matched_gen)*(-1) == electron.pdgId) ) & (np.abs(electron.pdgId) == 11) )\n",
    "        \n",
    "        \n",
    "flipped_electron = electron[is_flipped]\n",
    "flipped_electron = flipped_electron[(ak.fill_none(flipped_electron.pt, 0)>0)]\n",
    "flipped_electron = flipped_electron[~(ak.is_none(flipped_electron))]\n",
    "n_flips = ak.num(flipped_electron)"
   ]
  },
  {
   "cell_type": "code",
   "execution_count": 5,
   "id": "dc9736b0",
   "metadata": {},
   "outputs": [
    {
     "data": {
      "text/plain": [
       "<Array [1, 0, 1, 1, 1, 1, ... 1, 1, 1, 1, 1, 1] type='21 * int64'>"
      ]
     },
     "execution_count": 5,
     "metadata": {},
     "output_type": "execute_result"
    }
   ],
   "source": [
    "n_flips"
   ]
  },
  {
   "cell_type": "code",
   "execution_count": 23,
   "id": "810b517c",
   "metadata": {},
   "outputs": [
    {
     "name": "stdout",
     "output_type": "stream",
     "text": [
      "\n",
      "## Electron selection for WP tight ##\n",
      " - pt >= 15\n",
      " - abs(etaSC) <= 2.5\n",
      " - convVeto == 1\n",
      " - lostHits == 0\n",
      " - tightCharge == 2\n",
      " - abs(dxy) <= 0.05\n",
      " - abs(dz) <= 0.1\n",
      " - abs(sip3d) <= 4.0\n",
      " - tight electron MVA ID\n",
      " - custom multi isolation\n",
      " - trigger safe\n",
      " - custom ID and multi-isolation\n",
      "Found 418141 objects passing the selection\n"
     ]
    }
   ],
   "source": [
    "electron = Collections(events, 'Electron', 'tight', verbose=1).get()\n",
    "electron = electron[(electron.pt > 20) & (np.abs(electron.eta) < 2.4)]\n",
    "electron = electron[(electron.genPartIdx >= 0)] #from here on all leptons are gen-matched\n",
    "electron = electron[(np.abs(electron.matched_gen.pdgId)==11)]\n",
    "electron = electron[( (electron.genPartFlav==1) | (electron.genPartFlav==15) )] #and now they are all prompt\n",
    "\n",
    "flipped = (electron.pdgId*(-1) == electron.matched_gen.pdgId)\n",
    "flipped_electron = electron[flipped]"
   ]
  },
  {
   "cell_type": "code",
   "execution_count": 24,
   "id": "da8c7444",
   "metadata": {},
   "outputs": [
    {
     "data": {
      "text/plain": [
       "<Array [6853556, 33539380, 64376350] type='3 * uint64[parameters={\"__doc__\": \"ev...'>"
      ]
     },
     "execution_count": 24,
     "metadata": {},
     "output_type": "execute_result"
    }
   ],
   "source": [
    "non_flip_events = events[((ak.num(electron, axis=1)==2)&(ak.sum(electron.charge, axis=1)!=0)&(ak.num(flipped_electron, axis=1)==0))]\n",
    "non_flip_events.event"
   ]
  },
  {
   "cell_type": "code",
   "execution_count": 14,
   "id": "3035d735",
   "metadata": {},
   "outputs": [
    {
     "data": {
      "text/plain": [
       "<Array [2, 2, 2, 2, 2, 2, ... 2, 2, 2, 2, 2, 2] type='21 * int64'>"
      ]
     },
     "execution_count": 14,
     "metadata": {},
     "output_type": "execute_result"
    }
   ],
   "source": [
    "ak.num(electron, axis=1)"
   ]
  },
  {
   "cell_type": "code",
   "execution_count": 13,
   "id": "c174bc4a",
   "metadata": {},
   "outputs": [
    {
     "data": {
      "text/plain": [
       "<Array [[9.83], [17.5], [15.7]] type='3 * var * float32[parameters={\"__doc__\": \"...'>"
      ]
     },
     "execution_count": 13,
     "metadata": {},
     "output_type": "execute_result"
    }
   ],
   "source": [
    "non_flip_events.Electron.pt"
   ]
  },
  {
   "cell_type": "code",
   "execution_count": null,
   "id": "697fb551",
   "metadata": {},
   "outputs": [],
   "source": [
    "flipped_electron = electron[flipped]"
   ]
  },
  {
   "cell_type": "code",
   "execution_count": 8,
   "id": "4349302e",
   "metadata": {},
   "outputs": [
    {
     "data": {
      "text/plain": [
       "<Array [919, 919, 919] type='3 * uint32[parameters={\"__doc__\": \"luminosityBlock/...'>"
      ]
     },
     "execution_count": 8,
     "metadata": {},
     "output_type": "execute_result"
    }
   ],
   "source": [
    "non_flip_events.luminosityBlock"
   ]
  },
  {
   "cell_type": "code",
   "execution_count": 23,
   "id": "63ae9d74",
   "metadata": {},
   "outputs": [
    {
     "name": "stdout",
     "output_type": "stream",
     "text": [
      "[24, -24]\n",
      "[-24, 24]\n",
      "[24, -24]\n",
      "[-24, 24]\n",
      "[24, -24]\n",
      "[-24, 24]\n",
      "[-24, -24]\n",
      "[-24, 24]\n",
      "[24, -24]\n",
      "[-24, 24]\n",
      "[24, -24]\n",
      "[-24, -24]\n",
      "[-15, -24]\n",
      "[24, -24]\n",
      "[-24, 24]\n",
      "[24, -24]\n",
      "[-24, 24]\n",
      "[-24, 24]\n",
      "[24, -24]\n",
      "[24, -24]\n",
      "[-24, 24]\n"
     ]
    }
   ],
   "source": [
    "for x in find_first_parent(electron.matched_gen):\n",
    "    print (x)"
   ]
  },
  {
   "cell_type": "code",
   "execution_count": 15,
   "id": "2e1ab322",
   "metadata": {},
   "outputs": [
    {
     "data": {
      "text/plain": [
       "<Array [[-11, 11], [-11, ... -11], [-11, 11]] type='28 * var * ?int32[parameters...'>"
      ]
     },
     "execution_count": 15,
     "metadata": {},
     "output_type": "execute_result"
    }
   ],
   "source": [
    "electron.matched_gen.pdgId"
   ]
  },
  {
   "cell_type": "code",
   "execution_count": 5,
   "id": "9745d07f",
   "metadata": {},
   "outputs": [],
   "source": [
    "prompt = ele[((ele.genPartFlav==1)|(ele.genPartFlav==15))]"
   ]
  },
  {
   "cell_type": "code",
   "execution_count": 7,
   "id": "e04b52fe",
   "metadata": {},
   "outputs": [
    {
     "data": {
      "text/plain": [
       "<ElectronArray [[Electron, Electron, ... Electron]] type='28 * var * electron'>"
      ]
     },
     "execution_count": 7,
     "metadata": {},
     "output_type": "execute_result"
    }
   ],
   "source": [
    "ele[(ak.num(prompt, axis=1)==2)]"
   ]
  },
  {
   "cell_type": "code",
   "execution_count": 3,
   "id": "7cb18f47",
   "metadata": {},
   "outputs": [
    {
     "data": {
      "text/plain": [
       "<Array [[1, 1], [1, 1], ... [-1, -1], [-1, -1]] type='74 * var * int32[parameter...'>"
      ]
     },
     "execution_count": 3,
     "metadata": {},
     "output_type": "execute_result"
    }
   ],
   "source": [
    "# check that this is really all SS\n",
    "ele.charge"
   ]
  },
  {
   "cell_type": "code",
   "execution_count": 4,
   "id": "981803fa",
   "metadata": {},
   "outputs": [
    {
     "data": {
      "text/plain": [
       "<Array [[True, True], ... [False, True]] type='74 * var * ?bool'>"
      ]
     },
     "execution_count": 4,
     "metadata": {},
     "output_type": "execute_result"
    }
   ],
   "source": [
    "ele.pdgId*(-1) == ele.matched_gen.pdgId"
   ]
  },
  {
   "cell_type": "code",
   "execution_count": 5,
   "id": "41d11737",
   "metadata": {},
   "outputs": [
    {
     "data": {
      "text/plain": [
       "<Array [2, 2, 2, 2, 2, 2, ... 2, 2, 2, 2, 2, 2] type='74 * int64'>"
      ]
     },
     "execution_count": 5,
     "metadata": {},
     "output_type": "execute_result"
    }
   ],
   "source": [
    "ak.num((ele.pdgId == ele.matched_gen.pdgId), axis=1)"
   ]
  },
  {
   "cell_type": "code",
   "execution_count": 15,
   "id": "cefeef48",
   "metadata": {},
   "outputs": [
    {
     "data": {
      "text/plain": [
       "<Array [[-11, -11], [-11, ... 11], [11, 11]] type='29 * var * int32[parameters={...'>"
      ]
     },
     "execution_count": 15,
     "metadata": {},
     "output_type": "execute_result"
    }
   ],
   "source": [
    "ele.pdgId"
   ]
  },
  {
   "cell_type": "code",
   "execution_count": 16,
   "id": "4ed8c13b",
   "metadata": {},
   "outputs": [
    {
     "data": {
      "text/plain": [
       "<Array [[-11, -11], [-11, ... 11], [11, 11]] type='29 * var * ?int32[parameters=...'>"
      ]
     },
     "execution_count": 16,
     "metadata": {},
     "output_type": "execute_result"
    }
   ],
   "source": [
    "ele.matched_gen.pdgId"
   ]
  },
  {
   "cell_type": "code",
   "execution_count": 6,
   "id": "b65c6289",
   "metadata": {},
   "outputs": [],
   "source": [
    "flipped_ele = ele[(ele.pdgId*(-1) == ele.matched_gen.pdgId)]"
   ]
  },
  {
   "cell_type": "code",
   "execution_count": 7,
   "id": "76510463",
   "metadata": {},
   "outputs": [
    {
     "data": {
      "text/plain": [
       "<Array [0, 0, 0, 0, 1, 0, ... 0, 1, 0, 0, 1, 1] type='74 * int64'>"
      ]
     },
     "execution_count": 7,
     "metadata": {},
     "output_type": "execute_result"
    }
   ],
   "source": [
    "ak.num(flipped_ele, axis=1)"
   ]
  },
  {
   "cell_type": "code",
   "execution_count": 8,
   "id": "2b84f914",
   "metadata": {},
   "outputs": [
    {
     "data": {
      "text/plain": [
       "23"
      ]
     },
     "execution_count": 8,
     "metadata": {},
     "output_type": "execute_result"
    }
   ],
   "source": [
    "# flipped electrons\n",
    "sum(ak.num(flipped_ele, axis=1))"
   ]
  },
  {
   "cell_type": "code",
   "execution_count": 9,
   "id": "d8d28160",
   "metadata": {},
   "outputs": [
    {
     "data": {
      "text/plain": [
       "74"
      ]
     },
     "execution_count": 9,
     "metadata": {},
     "output_type": "execute_result"
    }
   ],
   "source": [
    "# total events with SS\n",
    "len(flipped_ele)"
   ]
  },
  {
   "cell_type": "code",
   "execution_count": 10,
   "id": "78c4b284",
   "metadata": {},
   "outputs": [],
   "source": [
    "parents = find_first_parent(ele.matched_gen)"
   ]
  },
  {
   "cell_type": "code",
   "execution_count": 11,
   "id": "7cdf6f05",
   "metadata": {},
   "outputs": [
    {
     "name": "stdout",
     "output_type": "stream",
     "text": [
      "[[24, -511], [24, 531], [24, -5132], [24, ... 511], [-521, 15], [-24, 24], [24, -24]]\n"
     ]
    }
   ],
   "source": [
    "print (parents)"
   ]
  },
  {
   "cell_type": "code",
   "execution_count": 12,
   "id": "fa3e6f95",
   "metadata": {},
   "outputs": [],
   "source": [
    "non_prompt = ele[abs(parents)>24]"
   ]
  },
  {
   "cell_type": "code",
   "execution_count": 14,
   "id": "781e803b",
   "metadata": {},
   "outputs": [
    {
     "data": {
      "text/plain": [
       "45"
      ]
     },
     "execution_count": 14,
     "metadata": {},
     "output_type": "execute_result"
    }
   ],
   "source": [
    "sum(ak.num(non_prompt))"
   ]
  },
  {
   "cell_type": "code",
   "execution_count": 19,
   "id": "88d86013",
   "metadata": {},
   "outputs": [],
   "source": [
    "prompt = ele[abs(parents)<25]"
   ]
  },
  {
   "cell_type": "code",
   "execution_count": 20,
   "id": "0c23b925",
   "metadata": {},
   "outputs": [
    {
     "data": {
      "text/plain": [
       "<Array [1, 1, 1, 1, 2, 2, ... 1, 2, 1, 1, 2, 2] type='74 * int64'>"
      ]
     },
     "execution_count": 20,
     "metadata": {},
     "output_type": "execute_result"
    }
   ],
   "source": [
    "ak.num(prompt)"
   ]
  },
  {
   "cell_type": "code",
   "execution_count": 23,
   "id": "266f504f",
   "metadata": {},
   "outputs": [
    {
     "data": {
      "text/plain": [
       "29"
      ]
     },
     "execution_count": 23,
     "metadata": {},
     "output_type": "execute_result"
    }
   ],
   "source": [
    "diprompt = ele[(ak.num(prompt, axis=1)==2)]\n",
    "len(diprompt)"
   ]
  },
  {
   "cell_type": "code",
   "execution_count": 24,
   "id": "84d914e4",
   "metadata": {},
   "outputs": [
    {
     "data": {
      "text/plain": [
       "23"
      ]
     },
     "execution_count": 24,
     "metadata": {},
     "output_type": "execute_result"
    }
   ],
   "source": [
    "flipped_prompt = diprompt[(diprompt.pdgId*(-1) == diprompt.matched_gen.pdgId)]\n",
    "sum(ak.num(flipped_prompt, axis=1))\n",
    "#diprompt"
   ]
  },
  {
   "cell_type": "code",
   "execution_count": 25,
   "id": "7ea89a20",
   "metadata": {},
   "outputs": [
    {
     "name": "stdout",
     "output_type": "stream",
     "text": [
      "[[24, -24], [-24, 24], [24, 1], [24, -24, ... 24], [24, -24], [-24, 24], [24, -24]]\n"
     ]
    }
   ],
   "source": [
    "parents = find_first_parent(diprompt.matched_gen)\n",
    "print(parents)"
   ]
  },
  {
   "cell_type": "code",
   "execution_count": 26,
   "id": "6a7d4d98",
   "metadata": {},
   "outputs": [
    {
     "name": "stdout",
     "output_type": "stream",
     "text": [
      "[24, -24]\n",
      "[-24, 24]\n",
      "[24, 1]\n",
      "[24, -24]\n",
      "[24, -24]\n",
      "[-24, 24]\n",
      "[24, -24]\n",
      "[-24, 24]\n",
      "[-24, -24]\n",
      "[24, -6]\n",
      "[-24, 24]\n",
      "[24, -24]\n",
      "[-24, 24]\n",
      "[24, -24]\n",
      "[24, -24]\n",
      "[-24, -24]\n",
      "[-15, -24]\n",
      "[24, -5]\n",
      "[-24, -15]\n",
      "[24, -24]\n",
      "[-24, 24]\n",
      "[24, -24]\n",
      "[-24, 24]\n",
      "[-24, 24]\n",
      "[24, -24]\n",
      "[-24, 24]\n",
      "[24, -24]\n",
      "[-24, 24]\n",
      "[24, -24]\n"
     ]
    }
   ],
   "source": [
    "for pair in parents:\n",
    "    print (pair)"
   ]
  },
  {
   "cell_type": "code",
   "execution_count": 27,
   "id": "073e0133",
   "metadata": {},
   "outputs": [
    {
     "name": "stdout",
     "output_type": "stream",
     "text": [
      "[-1, -1]\n",
      "[1, 1]\n",
      "[1, 1]\n",
      "[-1, -1]\n",
      "[-1, -1]\n",
      "[-1, -1]\n",
      "[-1, -1]\n",
      "[1, 1]\n",
      "[-1, -1]\n",
      "[1, 1]\n",
      "[1, 1]\n",
      "[-1, -1]\n",
      "[-1, -1]\n",
      "[1, 1]\n",
      "[-1, -1]\n",
      "[-1, -1]\n",
      "[-1, -1]\n",
      "[1, 1]\n",
      "[-1, -1]\n",
      "[-1, -1]\n",
      "[-1, -1]\n",
      "[1, 1]\n",
      "[-1, -1]\n",
      "[-1, -1]\n",
      "[-1, -1]\n",
      "[1, 1]\n",
      "[-1, -1]\n",
      "[-1, -1]\n",
      "[-1, -1]\n"
     ]
    }
   ],
   "source": [
    "for ch in diprompt.charge:\n",
    "    print (ch)"
   ]
  },
  {
   "cell_type": "code",
   "execution_count": 29,
   "id": "ba9af668",
   "metadata": {},
   "outputs": [
    {
     "name": "stdout",
     "output_type": "stream",
     "text": [
      "[24, -24]\n",
      "[24, -24]\n",
      "[24, -24]\n",
      "[-24, 24]\n",
      "[24, -24]\n",
      "[-24, 24]\n",
      "[-24, 24]\n",
      "[24, -24]\n",
      "[-24, 24]\n",
      "[24, -24]\n",
      "[24, -24]\n",
      "[-15, -24]\n",
      "[-24, -15]\n",
      "[24, -24]\n",
      "[-24, 24]\n",
      "[24, -24]\n",
      "[-24, 24]\n",
      "[-24, 24]\n",
      "[24, -24]\n",
      "[-24, 24]\n",
      "[24, -24]\n",
      "[-24, 24]\n",
      "[24, -24]\n"
     ]
    }
   ],
   "source": [
    "for pair in find_first_parent(diprompt[(ak.num(flipped_prompt, axis=1)>0)].matched_gen):\n",
    "    print (pair)"
   ]
  },
  {
   "cell_type": "markdown",
   "id": "6d566807",
   "metadata": {},
   "source": [
    "# Trilep checks"
   ]
  },
  {
   "cell_type": "code",
   "execution_count": 45,
   "id": "b1c14c10",
   "metadata": {},
   "outputs": [],
   "source": [
    "#f_in = 'root://xcache-redirector.t2.ucsd.edu:2042//store/mc/RunIIAutumn18NanoAODv7/TTWJetsToLNu_TuneCP5_13TeV-amcatnloFXFX-madspin-pythia8/NANOAODSIM/Nano02Apr2020_102X_upgrade2018_realistic_v21_ext1-v1/60000/02232B20-7228-4348-84C7-72DAFDC2CEB7.root'\n",
    "f_in = 'root://xcache-redirector.t2.ucsd.edu:2042//store/mc/RunIISummer20UL18NanoAODv2/TTZToLLNuNu_M-10_TuneCP5_13TeV-amcatnlo-pythia8/NANOAODSIM/106X_upgrade2018_realistic_v15_L1v1-v1/30000/13C6DDDD-1DE7-CB48-AC06-9B28CC47D344.root'\n",
    "\n",
    "events = NanoEventsFactory.from_root(\n",
    "    f_in,\n",
    "    schemaclass = NanoAODSchema,\n",
    "    #entry_stop = n_max,\n",
    ").events()\n"
   ]
  },
  {
   "cell_type": "code",
   "execution_count": 46,
   "id": "606dbb11",
   "metadata": {},
   "outputs": [
    {
     "name": "stdout",
     "output_type": "stream",
     "text": [
      "\n",
      "## Electron selection for WP tight ##\n",
      " - pt >= 15\n",
      " - abs(etaSC) <= 2.5\n",
      " - convVeto == 1\n",
      " - lostHits == 0\n",
      " - tightCharge == 2\n",
      " - abs(dxy) <= 0.05\n",
      " - abs(dz) <= 0.1\n",
      " - abs(sip3d) <= 4.0\n",
      " - tight electron MVA ID\n",
      " - custom multi isolation\n",
      " - trigger safe\n",
      " - custom ID and multi-isolation\n",
      "Found 284052 objects passing the selection\n",
      "\n",
      "## Muon selection for WP tight ##\n",
      " - pt >= 15\n",
      " - abs(eta) <= 2.4\n",
      " - mediumId == 1\n",
      " - looseId == 1\n",
      " - abs(dxy) <= 0.05\n",
      " - abs(dz) <= 0.05\n",
      " - abs(sip3d) <= 4\n",
      " - ptErrRel <= 0.2\n",
      " - custom multi isolation\n",
      " - custom multi-isolation\n",
      "Found 383144 objects passing the selection\n"
     ]
    }
   ],
   "source": [
    "electron = Collections(events, 'Electron', 'tight', verbose=1).get()\n",
    "muon = Collections(events, 'Muon', 'tight', verbose=1).get()"
   ]
  },
  {
   "cell_type": "code",
   "execution_count": 47,
   "id": "1fa8eeac",
   "metadata": {},
   "outputs": [],
   "source": [
    "trilep_events = events[((ak.num(electron, axis=1)+ak.num(muon, axis=1))==3)]"
   ]
  },
  {
   "cell_type": "code",
   "execution_count": 48,
   "id": "2a3c3a32",
   "metadata": {},
   "outputs": [
    {
     "data": {
      "text/plain": [
       "33869"
      ]
     },
     "execution_count": 48,
     "metadata": {},
     "output_type": "execute_result"
    }
   ],
   "source": [
    "len(trilep_events)"
   ]
  },
  {
   "cell_type": "code",
   "execution_count": 49,
   "id": "aef56991",
   "metadata": {},
   "outputs": [],
   "source": [
    "from Tools.objects import choose\n",
    "\n",
    "dimu_veto = choose(muon,2)\n",
    "diele_veto = choose(electron,2)\n",
    "OS_dimu_veto = dimu_veto[(dimu_veto['0'].charge*dimu_veto['1'].charge < 0)]\n",
    "OS_diele_veto = diele_veto[(diele_veto['0'].charge*diele_veto['1'].charge < 0)]\n"
   ]
  },
  {
   "cell_type": "code",
   "execution_count": 50,
   "id": "735216e7",
   "metadata": {},
   "outputs": [
    {
     "data": {
      "text/plain": [
       "<CandidateArray [[], [], [], ... '0': Muon, '1': Muon}]] type='1018000 * var * C...'>"
      ]
     },
     "execution_count": 50,
     "metadata": {},
     "output_type": "execute_result"
    }
   ],
   "source": [
    "OS_dimu_veto"
   ]
  },
  {
   "cell_type": "code",
   "execution_count": 51,
   "id": "3b6fbdca",
   "metadata": {},
   "outputs": [],
   "source": [
    "SFOS = ak.concatenate([OS_diele_veto, OS_dimu_veto], axis=1)"
   ]
  },
  {
   "cell_type": "code",
   "execution_count": 52,
   "id": "0110695a",
   "metadata": {},
   "outputs": [
    {
     "data": {
      "text/plain": [
       "<NanoEventsArray [<event 1:35:34152>, ... ] type='33080 * event'>"
      ]
     },
     "execution_count": 52,
     "metadata": {},
     "output_type": "execute_result"
    }
   ],
   "source": [
    "events[((ak.num(SFOS)>0)&((ak.num(electron, axis=1)+ak.num(muon, axis=1))==3))]"
   ]
  },
  {
   "cell_type": "code",
   "execution_count": 53,
   "id": "ccc55d7f",
   "metadata": {},
   "outputs": [
    {
     "data": {
      "text/plain": [
       "0.9767043609200153"
      ]
     },
     "execution_count": 53,
     "metadata": {},
     "output_type": "execute_result"
    }
   ],
   "source": [
    "33080/33869"
   ]
  },
  {
   "cell_type": "code",
   "execution_count": 38,
   "id": "621b1deb",
   "metadata": {},
   "outputs": [
    {
     "data": {
      "text/plain": [
       "0.7479327820752201"
      ]
     },
     "execution_count": 38,
     "metadata": {},
     "output_type": "execute_result"
    }
   ],
   "source": [
    "2804/3749"
   ]
  },
  {
   "cell_type": "code",
   "execution_count": 54,
   "id": "c4d200f6",
   "metadata": {},
   "outputs": [
    {
     "data": {
      "text/plain": [
       "<NanoEventsArray [<event 1:35:34395>, ... ] type='789 * event'>"
      ]
     },
     "execution_count": 54,
     "metadata": {},
     "output_type": "execute_result"
    }
   ],
   "source": [
    "events[((ak.num(SFOS)==0)&((ak.num(electron, axis=1)+ak.num(muon, axis=1))==3))]"
   ]
  },
  {
   "cell_type": "code",
   "execution_count": 40,
   "id": "9b193759",
   "metadata": {},
   "outputs": [
    {
     "data": {
      "text/plain": [
       "0.25206721792477993"
      ]
     },
     "execution_count": 40,
     "metadata": {},
     "output_type": "execute_result"
    }
   ],
   "source": [
    "945/3749"
   ]
  },
  {
   "cell_type": "code",
   "execution_count": 55,
   "id": "2df6e8cd",
   "metadata": {},
   "outputs": [
    {
     "data": {
      "text/plain": [
       "<NanoEventsArray [<event 1:35:34189>, ... ] type='17010 * event'>"
      ]
     },
     "execution_count": 55,
     "metadata": {},
     "output_type": "execute_result"
    }
   ],
   "source": [
    "events[((ak.sum(electron.charge, axis=1)+(ak.sum(muon.charge, axis=1))<0)&((ak.num(electron, axis=1)+ak.num(muon, axis=1))==3))]"
   ]
  },
  {
   "cell_type": "code",
   "execution_count": 56,
   "id": "0a858b6a",
   "metadata": {},
   "outputs": [
    {
     "data": {
      "text/plain": [
       "0.5022291771236234"
      ]
     },
     "execution_count": 56,
     "metadata": {},
     "output_type": "execute_result"
    }
   ],
   "source": [
    "17010/33869"
   ]
  },
  {
   "cell_type": "markdown",
   "id": "2040be1a",
   "metadata": {},
   "source": [
    "# Sample validation"
   ]
  },
  {
   "cell_type": "code",
   "execution_count": 1,
   "id": "ea4835bb",
   "metadata": {},
   "outputs": [],
   "source": [
    "from coffea.nanoevents import NanoEventsFactory, NanoAODSchema\n",
    "from coffea.analysis_tools import Weights, PackedSelection\n",
    "\n",
    "from Tools.config_helpers import redirector_fnal, redirector_ucsd\n",
    "\n",
    "import awkward as ak\n",
    "\n",
    "f_in = '/store/mc/RunIISummer20UL17NanoAODv2/WZTo3LNu_mllmin01_NNPDF31_TuneCP5_13TeV_powheg_pythia8/NANOAODSIM/106X_mc2017_realistic_v8-v1/50000/D613B3F6-C909-9A46-BC99-59CC6FF21223.root'\n",
    "\n",
    "# load a subset of events\n",
    "n_max = 500000\n",
    "events_UL = NanoEventsFactory.from_root(\n",
    "    redirector_ucsd+f_in,\n",
    "    schemaclass = NanoAODSchema,\n",
    "    entry_stop = n_max).events()\n",
    "\n"
   ]
  },
  {
   "cell_type": "code",
   "execution_count": 38,
   "id": "b5c45777",
   "metadata": {},
   "outputs": [],
   "source": [
    "from Tools.objects import choose\n",
    "from yahist import Hist1D\n",
    "\n",
    "dimuon_UL = choose(events_UL.Muon, 2)"
   ]
  },
  {
   "cell_type": "code",
   "execution_count": 59,
   "id": "8ae3bfa2",
   "metadata": {},
   "outputs": [
    {
     "data": {
      "text/html": [
       "\n",
       "        <div style=\"max-height:1000px;max-width:1500px;overflow:auto\">\n",
       "        <b>total count</b>: 179904.0, <b>metadata</b>: {}<br>\n",
       "        <div style=\"display:flex;\">\n",
       "            <div style=\"display:inline;\">\n",
       "                \n",
       "                <table style='border:1px solid black;'\">\n",
       "                    <thead><tr><th>bin</th><th>content</th></tr></thead>\n",
       "                    <tr><td>(0,2)</td><td>2329 ± 48.2597</td></tr>\n",
       "<tr><td>(2,4)</td><td>3165 ± 56.2583</td></tr>\n",
       "<tr><td>(4,6)</td><td>14262 ± 119.424</td></tr>\n",
       "<tr><td>(6,8)</td><td>11493 ± 107.205</td></tr>\n",
       "<tr><td colspan='2'><center>[91 rows hidden]</center></td></tr>\n",
       "<tr><td>(190,192)</td><td>88 ± 9.38083</td></tr>\n",
       "<tr><td>(192,194)</td><td>107 ± 10.3441</td></tr>\n",
       "<tr><td>(194,196)</td><td>103 ± 10.1489</td></tr>\n",
       "<tr><td>(196,198)</td><td>3113 ± 55.7943</td></tr>\n",
       "                </table>\n",
       "            \n",
       "            </div>\n",
       "            <div style=\"display:inline; margin: auto 2%;\">\n",
       "                <img src='data:image/svg+xml;base64,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'/>\n",
       "            </div>\n",
       "            </div>\n",
       "        </div>\n",
       "        "
      ],
      "text/plain": [
       "[2329.00 ± 48.26   3165.00 ± 56.26   14262.00 ± 119.42   11493.00 ± 107.21\n",
       " 9831.00 ± 99.15   8273.00 ± 90.96   7182.00 ± 84.75   6479.00 ± 80.49\n",
       " 5795.00 ± 76.12   5149.00 ± 71.76   4712.00 ± 68.64   4319.00 ± 65.72\n",
       " 3879.00 ± 62.28   3416.00 ± 58.45   3046.00 ± 55.19   2807.00 ± 52.98\n",
       " 2612.00 ± 51.11   2440.00 ± 49.40   2182.00 ± 46.71   2020.00 ± 44.94\n",
       " 1785.00 ± 42.25   1850.00 ± 43.01   1671.00 ± 40.88   1618.00 ± 40.22\n",
       " 1357.00 ± 36.84   1394.00 ± 37.34   1320.00 ± 36.33   1289.00 ± 35.90\n",
       " 1199.00 ± 34.63   1208.00 ± 34.76   1145.00 ± 33.84   1103.00 ± 33.21\n",
       " 1031.00 ± 32.11   995.00 ± 31.54   1060.00 ± 32.56   956.00 ± 30.92\n",
       " 1003.00 ± 31.67   988.00 ± 31.43   967.00 ± 31.10   1017.00 ± 31.89\n",
       " 1160.00 ± 34.06   1373.00 ± 37.05   1895.00 ± 43.53   2953.00 ± 54.34\n",
       " 6301.00 ± 79.38   9937.00 ± 99.68   6310.00 ± 79.44   2668.00 ± 51.65\n",
       " 1387.00 ± 37.24   958.00 ± 30.95   734.00 ± 27.09   585.00 ± 24.19\n",
       " 559.00 ± 23.64   487.00 ± 22.07   461.00 ± 21.47   376.00 ± 19.39\n",
       " 356.00 ± 18.87   373.00 ± 19.31   380.00 ± 19.49   351.00 ± 18.73\n",
       " 336.00 ± 18.33   344.00 ± 18.55   316.00 ± 17.78   300.00 ± 17.32\n",
       " 299.00 ± 17.29   265.00 ± 16.28   236.00 ± 15.36   220.00 ± 14.83\n",
       " 254.00 ± 15.94   246.00 ± 15.68   250.00 ± 15.81   208.00 ± 14.42\n",
       " 215.00 ± 14.66   220.00 ± 14.83   175.00 ± 13.23   175.00 ± 13.23\n",
       " 192.00 ± 13.86   175.00 ± 13.23   167.00 ± 12.92   157.00 ± 12.53\n",
       " 163.00 ± 12.77   130.00 ± 11.40   124.00 ± 11.14   158.00 ± 12.57\n",
       " 114.00 ± 10.68   127.00 ± 11.27   130.00 ± 11.40   120.00 ± 10.95\n",
       " 99.00 ± 9.95   115.00 ± 10.72   104.00 ± 10.20   107.00 ± 10.34\n",
       " 114.00 ± 10.68   96.00 ± 9.80   91.00 ± 9.54   88.00 ± 9.38\n",
       " 107.00 ± 10.34   103.00 ± 10.15   3113.00 ± 55.79]"
      ]
     },
     "execution_count": 59,
     "metadata": {},
     "output_type": "execute_result"
    }
   ],
   "source": [
    "bins = [ x for x in range(0,200,2)]\n",
    "Hist1D(ak.flatten(dimuon_UL[ak.num(dimuon_UL)>0].mass), bins=bins)"
   ]
  },
  {
   "cell_type": "code",
   "execution_count": 58,
   "id": "b2a92c17",
   "metadata": {},
   "outputs": [],
   "source": [
    "bins = [ x/10. for x in range(0,200,1)]\n",
    "h_UL = Hist1D(ak.flatten(dimuon_UL[ak.num(dimuon_UL)>0].mass), bins=bins, overflow=False)"
   ]
  },
  {
   "cell_type": "code",
   "execution_count": 42,
   "id": "08103919",
   "metadata": {},
   "outputs": [],
   "source": [
    "f_in = '/store/mc/RunIISummer16NanoAODv7/WZTo3LNu_mllmin01_13TeV-powheg-pythia8/NANOAODSIM/PUMoriond17_Nano02Apr2020_102X_mcRun2_asymptotic_v8-v1/70000/5023ABC1-B4D7-D749-BD69-7EA689C7D3B6.root'\n",
    "\n",
    "# load a subset of events\n",
    "n_max = 500000\n",
    "events = NanoEventsFactory.from_root(\n",
    "    redirector_ucsd+f_in,\n",
    "    schemaclass = NanoAODSchema,\n",
    "    entry_stop = n_max).events()\n",
    "\n",
    "dimuon = choose(events.Muon, 2)\n",
    "bins = [ x/10. for x in range(0,200,1)]"
   ]
  },
  {
   "cell_type": "code",
   "execution_count": 56,
   "id": "8d6d2f5d",
   "metadata": {},
   "outputs": [
    {
     "data": {
      "image/png": "[encoded data removed]",
      "text/plain": [
       "<Figure size 720x720 with 1 Axes>"
      ]
     },
     "metadata": {
      "needs_background": "light"
     },
     "output_type": "display_data"
    }
   ],
   "source": [
    "import matplotlib.pyplot as plt\n",
    "import mplhep as hep\n",
    "plt.style.use(hep.style.CMS)\n",
    "\n",
    "h = Hist1D(ak.flatten(dimuon[ak.num(dimuon)>0].mass), bins=bins, overflow=False)\n",
    "\n",
    "f, ax = plt.subplots()\n",
    "\n",
    "hep.histplot(\n",
    "    #[(h/sum(h.counts)).counts, (h_UL/sum(h_UL.counts)).counts],\n",
    "    [h.counts, h_UL.counts],\n",
    "    h.edges,\n",
    "    #w2=[my_histos['tch'].errors/100, my_histos['tuh'].errors/100],\n",
    "    histtype=\"step\",\n",
    "    stack=False,\n",
    "    label=[r'Summer16', r'Summer20'],\n",
    "    color=['blue', 'red'],\n",
    "    #density=[True, True],\n",
    "    ax=ax)\n",
    "\n",
    "h.plot()\n",
    "\n",
    "ax.set_ylabel(r'a.u.')\n",
    "ax.set_xlabel(r'$M(\\ell\\ell)\\ (GeV)$')\n",
    "\n",
    "plt.legend()\n",
    "\n",
    "f.savefig('/home/users/dspitzba/public_html/WZ_minmll.png')"
   ]
  },
  {
   "cell_type": "code",
   "execution_count": 51,
   "id": "8688ac00",
   "metadata": {},
   "outputs": [
    {
     "data": {
      "text/plain": [
       "60370.0"
      ]
     },
     "execution_count": 51,
     "metadata": {},
     "output_type": "execute_result"
    }
   ],
   "source": [
    "sum(h.counts)"
   ]
  },
  {
   "cell_type": "code",
   "execution_count": 60,
   "id": "37d527e0",
   "metadata": {},
   "outputs": [
    {
     "data": {
      "text/plain": [
       "<Array [[6], [6], [0, ... 2, 6, 6, 6, 6, 6, 6]] type='500000 * var * int32[param...'>"
      ]
     },
     "execution_count": 60,
     "metadata": {},
     "output_type": "execute_result"
    }
   ],
   "source": [
    "events_UL.Jet.jetId"
   ]
  },
  {
   "cell_type": "code",
   "execution_count": 63,
   "id": "cb33e87f",
   "metadata": {},
   "outputs": [
    {
     "data": {
      "text/plain": [
       "<Array [True, True, True, ... True, True, True] type='500000 * bool[parameters={...'>"
      ]
     },
     "execution_count": 63,
     "metadata": {},
     "output_type": "execute_result"
    }
   ],
   "source": [
    "events.Flag.ecalBadCalibFilter"
   ]
  },
  {
   "cell_type": "code",
   "execution_count": 4,
   "id": "5d22f56f",
   "metadata": {},
   "outputs": [
    {
     "data": {
      "text/plain": [
       "<Array [False, False, False, ... False, True] type='500000 * bool[parameters={\"_...'>"
      ]
     },
     "execution_count": 4,
     "metadata": {},
     "output_type": "execute_result"
    }
   ],
   "source": [
    "events_UL.HLT.Ele32_WPTight_Gsf"
   ]
  },
  {
   "cell_type": "code",
   "execution_count": null,
   "id": "40aa41b5",
   "metadata": {},
   "outputs": [],
   "source": []
  }
 ],
 "metadata": {
  "kernelspec": {
   "display_name": "coffeadev4",
   "language": "python",
   "name": "coffeadev4"
  },
  "language_info": {
   "codemirror_mode": {
    "name": "ipython",
    "version": 3
   },
   "file_extension": ".py",
   "mimetype": "text/x-python",
   "name": "python",
   "nbconvert_exporter": "python",
   "pygments_lexer": "ipython3",
   "version": "3.9.7"
  }
 },
 "nbformat": 4,
 "nbformat_minor": 5
}
