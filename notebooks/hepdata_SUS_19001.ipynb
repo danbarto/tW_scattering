{
 "cells": [
  {
   "cell_type": "code",
   "execution_count": 1,
   "id": "9f28ccc4",
   "metadata": {},
   "outputs": [],
   "source": [
    "import uproot"
   ]
  },
  {
   "cell_type": "code",
   "execution_count": 2,
   "id": "e560ba5f",
   "metadata": {},
   "outputs": [],
   "source": [
    "def natural_sort(list, key=lambda s:s):\n",
    "    \"\"\"\n",
    "    Sort the list into natural alphanumeric order.\n",
    "    http://stackoverflow.com/questions/4836710/does-python-have-a-built-in-function-for-string-natural-sort\n",
    "    \"\"\"\n",
    "\n",
    "    import re\n",
    "\n",
    "    def get_alphanum_key_func(key):\n",
    "        convert = lambda text: int(text) if text.isdigit() else text\n",
    "        return lambda s: [convert(c) for c in re.split('([0-9]+)', key(s))]\n",
    "\n",
    "    sort_key = get_alphanum_key_func(key)\n",
    "\n",
    "    lc = sorted(list, key=sort_key)\n",
    "\n",
    "    return lc"
   ]
  },
  {
   "cell_type": "markdown",
   "id": "ae72afa4",
   "metadata": {},
   "source": [
    "combineCards.py naive_stat_unc_2HDMa_sinp_0.35_tanb_1.0_mXd_10_MH3_1900_MH4_250_MH2_1900_MHC_1900_8.txt -S > naive_shapes.txt\n",
    "\n",
    "combine -M FitDiagnostics naive_shapes.txt --robustHesse 1 --forceRecreateNLL --saveShapes --saveNormalizations --saveOverall --saveWithUncertainties"
   ]
  },
  {
   "cell_type": "code",
   "execution_count": 3,
   "id": "a3e4a3f6",
   "metadata": {},
   "outputs": [],
   "source": [
    "f_in = \"/home/users/dspitzba/stop/combination/CMSSW_10_2_9/src/Stop_Run2/cards/2l/fitDiagnostics.root\""
   ]
  },
  {
   "cell_type": "code",
   "execution_count": 4,
   "id": "93746ae6",
   "metadata": {},
   "outputs": [],
   "source": [
    "f = uproot.open(f_in)"
   ]
  },
  {
   "cell_type": "code",
   "execution_count": 5,
   "id": "f5231057",
   "metadata": {},
   "outputs": [],
   "source": [
    "test = f['shapes_fit_b']"
   ]
  },
  {
   "cell_type": "code",
   "execution_count": 6,
   "id": "a6fde91d",
   "metadata": {},
   "outputs": [
    {
     "data": {
      "text/plain": [
       "['Bin0;1',\n",
       " 'Bin0/data;1',\n",
       " 'Bin0/DY;1',\n",
       " 'Bin0/TTJets;1',\n",
       " 'Bin0/TTXNoZ;1',\n",
       " 'Bin0/TTZ;1',\n",
       " 'Bin0/multiBoson;1',\n",
       " 'Bin0/signal;1',\n",
       " 'Bin0/total;1',\n",
       " 'Bin0/total_signal;1',\n",
       " 'Bin0/total_background;1',\n",
       " 'Bin0/total_covar;1',\n",
       " 'total_overall;1',\n",
       " 'total_signal;1',\n",
       " 'total_data;1',\n",
       " 'total_background;1',\n",
       " 'overall_total_covar;1']"
      ]
     },
     "execution_count": 6,
     "metadata": {},
     "output_type": "execute_result"
    }
   ],
   "source": [
    "test.keys()"
   ]
  },
  {
   "cell_type": "code",
   "execution_count": 7,
   "id": "0ae73927",
   "metadata": {},
   "outputs": [],
   "source": [
    "in_file = uproot.open(f_in)\n",
    "shapes = ['shapes_fit_b', 'shapes_fit_s', 'shapes_prefit']\n",
    "bins = [ x.split('/')[0].replace(';1','') for x in in_file[shapes[0]] ]"
   ]
  },
  {
   "cell_type": "code",
   "execution_count": 8,
   "id": "edf0c1c6",
   "metadata": {},
   "outputs": [
    {
     "data": {
      "text/plain": [
       "['total_overall',\n",
       " 'overall_total_covar',\n",
       " 'total_signal',\n",
       " 'total_background',\n",
       " 'Bin0',\n",
       " 'total_data']"
      ]
     },
     "execution_count": 8,
     "metadata": {},
     "output_type": "execute_result"
    }
   ],
   "source": [
    "list(set(bins))"
   ]
  },
  {
   "cell_type": "code",
   "execution_count": 9,
   "id": "c077bb54",
   "metadata": {},
   "outputs": [],
   "source": [
    "import numpy as np\n",
    "def read_fitdiagnostics(in_file):\n",
    "    shapes = ['shapes_fit_b', 'shapes_fit_s', 'shapes_prefit']\n",
    "    bins = list(set([ x.split('/')[0].replace(';1','') for x in in_file[shapes[0]] ]))\n",
    "    #print (bins)\n",
    "    bins.remove('total_overall')\n",
    "    bins.remove('overall_total_covar')\n",
    "    bins.remove('total_data')\n",
    "    bins.remove('total_background')\n",
    "    bins.remove('total_signal')\n",
    "    res = {}\n",
    "    for shape in shapes:\n",
    "        res[shape] = {}\n",
    "        for bin in bins:\n",
    "            #print (bin)\n",
    "            res[shape][bin] = {}\n",
    "            processes = [ x.replace(';1','') for x in in_file[shape][bin].keys() ]\n",
    "            for process in processes:\n",
    "                res[shape][bin][process] = {}\n",
    "                if process == 'data':\n",
    "                    res[shape][bin][process]['counts'] = in_file[shape][bin][process].values()[1]\n",
    "                    res[shape][bin][process]['errors'] = np.sqrt(in_file[shape][bin][process].values()[1])\n",
    "                else:\n",
    "                    res[shape][bin][process]['counts'] = in_file[shape][bin][process].counts()\n",
    "                    res[shape][bin][process]['errors'] = in_file[shape][bin][process].errors()\n",
    "\n",
    "    return res"
   ]
  },
  {
   "cell_type": "code",
   "execution_count": 10,
   "id": "e933a8a9",
   "metadata": {
    "scrolled": true
   },
   "outputs": [],
   "source": [
    "res = read_fitdiagnostics(in_file)"
   ]
  },
  {
   "cell_type": "code",
   "execution_count": 11,
   "id": "eb13f68b",
   "metadata": {},
   "outputs": [],
   "source": [
    "bins = natural_sort(list(res['shapes_prefit'].keys()))"
   ]
  },
  {
   "cell_type": "code",
   "execution_count": 12,
   "id": "29e5a803",
   "metadata": {},
   "outputs": [],
   "source": [
    "import pandas as pd"
   ]
  },
  {
   "cell_type": "code",
   "execution_count": 13,
   "id": "988510b6",
   "metadata": {},
   "outputs": [
    {
     "data": {
      "text/html": [
       "<div>\n",
       "<style scoped>\n",
       "    .dataframe tbody tr th:only-of-type {\n",
       "        vertical-align: middle;\n",
       "    }\n",
       "\n",
       "    .dataframe tbody tr th {\n",
       "        vertical-align: top;\n",
       "    }\n",
       "\n",
       "    .dataframe thead th {\n",
       "        text-align: right;\n",
       "    }\n",
       "</style>\n",
       "<table border=\"1\" class=\"dataframe\">\n",
       "  <thead>\n",
       "    <tr style=\"text-align: right;\">\n",
       "      <th></th>\n",
       "      <th>Bin0</th>\n",
       "    </tr>\n",
       "  </thead>\n",
       "  <tbody>\n",
       "    <tr>\n",
       "      <th>DY</th>\n",
       "      <td>{'counts': [444.45956, 205.07611, 3.5633779, 2...</td>\n",
       "    </tr>\n",
       "    <tr>\n",
       "      <th>TTJets</th>\n",
       "      <td>{'counts': [134166.84, 163008.56, 4.582045, 27...</td>\n",
       "    </tr>\n",
       "    <tr>\n",
       "      <th>TTXNoZ</th>\n",
       "      <td>{'counts': [479.1908, 558.386, 4.98427, 7.2016...</td>\n",
       "    </tr>\n",
       "    <tr>\n",
       "      <th>TTZ</th>\n",
       "      <td>{'counts': [226.6175, 248.84636, 46.71523, 182...</td>\n",
       "    </tr>\n",
       "    <tr>\n",
       "      <th>data</th>\n",
       "      <td>{'counts': [135554.0, 164350.0, 71.0, 317.0, 9...</td>\n",
       "    </tr>\n",
       "    <tr>\n",
       "      <th>multiBoson</th>\n",
       "      <td>{'counts': [247.45872, 317.58707, 5.161062, 52...</td>\n",
       "    </tr>\n",
       "    <tr>\n",
       "      <th>signal</th>\n",
       "      <td>{'counts': [0.0, 0.0, 0.0, 0.0, 0.0, 0.0, 0.0,...</td>\n",
       "    </tr>\n",
       "    <tr>\n",
       "      <th>total</th>\n",
       "      <td>{'counts': [135564.56, 164338.47, 65.00598, 29...</td>\n",
       "    </tr>\n",
       "    <tr>\n",
       "      <th>total_background</th>\n",
       "      <td>{'counts': [135564.56, 164338.47, 65.00598, 29...</td>\n",
       "    </tr>\n",
       "    <tr>\n",
       "      <th>total_covar</th>\n",
       "      <td>{'counts': [[748126.9, 801980.9, -54.93304, -4...</td>\n",
       "    </tr>\n",
       "    <tr>\n",
       "      <th>total_signal</th>\n",
       "      <td>{'counts': [0.0, 0.0, 0.0, 0.0, 0.0, 0.0, 0.0,...</td>\n",
       "    </tr>\n",
       "  </tbody>\n",
       "</table>\n",
       "</div>"
      ],
      "text/plain": [
       "                                                               Bin0\n",
       "DY                {'counts': [444.45956, 205.07611, 3.5633779, 2...\n",
       "TTJets            {'counts': [134166.84, 163008.56, 4.582045, 27...\n",
       "TTXNoZ            {'counts': [479.1908, 558.386, 4.98427, 7.2016...\n",
       "TTZ               {'counts': [226.6175, 248.84636, 46.71523, 182...\n",
       "data              {'counts': [135554.0, 164350.0, 71.0, 317.0, 9...\n",
       "multiBoson        {'counts': [247.45872, 317.58707, 5.161062, 52...\n",
       "signal            {'counts': [0.0, 0.0, 0.0, 0.0, 0.0, 0.0, 0.0,...\n",
       "total             {'counts': [135564.56, 164338.47, 65.00598, 29...\n",
       "total_background  {'counts': [135564.56, 164338.47, 65.00598, 29...\n",
       "total_covar       {'counts': [[748126.9, 801980.9, -54.93304, -4...\n",
       "total_signal      {'counts': [0.0, 0.0, 0.0, 0.0, 0.0, 0.0, 0.0,..."
      ]
     },
     "execution_count": 13,
     "metadata": {},
     "output_type": "execute_result"
    }
   ],
   "source": [
    "pd.DataFrame(res['shapes_fit_b'])"
   ]
  },
  {
   "cell_type": "code",
   "execution_count": 14,
   "id": "4363d1ee",
   "metadata": {},
   "outputs": [],
   "source": [
    "def get_hist(\n",
    "    res,\n",
    "    bin_order,\n",
    "    processes,\n",
    "):\n",
    "    values = {proc:np.array([]) for proc in processes}\n",
    "    errors = {proc:np.array([]) for proc in processes}\n",
    "    \n",
    "    for bin in bin_order:\n",
    "        for proc in processes:\n",
    "            values[proc] = np.concatenate((\n",
    "                values[proc],\n",
    "                res[bin][proc]['counts'],\n",
    "            ),\n",
    "            axis=0,\n",
    "            )\n",
    "            errors[proc] = np.concatenate((\n",
    "                errors[proc],\n",
    "                res[bin][proc]['errors'],\n",
    "            ),\n",
    "            axis=0,\n",
    "            )\n",
    "    return values, errors\n",
    "    \n",
    "    "
   ]
  },
  {
   "cell_type": "code",
   "execution_count": 15,
   "id": "1073c6f1",
   "metadata": {},
   "outputs": [],
   "source": [
    "h = get_hist(res[\"shapes_prefit\"], bins, ['DY', 'TTJets', 'TTXNoZ', 'TTZ', 'multiBoson'])"
   ]
  },
  {
   "cell_type": "code",
   "execution_count": 16,
   "id": "a5f62323",
   "metadata": {},
   "outputs": [
    {
     "data": {
      "text/plain": [
       "46"
      ]
     },
     "execution_count": 16,
     "metadata": {},
     "output_type": "execute_result"
    }
   ],
   "source": [
    "len(h[0]['DY'])"
   ]
  },
  {
   "cell_type": "code",
   "execution_count": 17,
   "id": "74c836eb",
   "metadata": {},
   "outputs": [],
   "source": [
    "import matplotlib.pyplot as plt\n",
    "import mplhep as hep\n",
    "plt.style.use(hep.style.CMS)"
   ]
  },
  {
   "cell_type": "code",
   "execution_count": 18,
   "id": "a35b1112",
   "metadata": {},
   "outputs": [],
   "source": [
    "def add_uncertainty(values, errors, edges, ax, ratio=False):\n",
    "    opts = {'step': 'post', 'label': 'Uncertainty', 'hatch': '///',\n",
    "                    'facecolor': 'none', 'edgecolor': (0, 0, 0, .5), 'linewidth': 0, 'zorder':10.}\n",
    "    \n",
    "    if ratio:\n",
    "        down = np.ones(len(values)) - errors/values\n",
    "        up = np.ones(len(values)) + errors/values\n",
    "    else:\n",
    "        down = values - errors\n",
    "        up = values + errors\n",
    "    ax.fill_between(x=edges, y1=np.r_[down, down[-1]], y2=np.r_[up, up[-1]], **opts)"
   ]
  },
  {
   "cell_type": "code",
   "execution_count": 19,
   "id": "30512aeb",
   "metadata": {},
   "outputs": [],
   "source": [
    "edges = np.linspace(0.5,46.5,47)\n",
    "\n",
    "#signal_1 = util.load('../1750_250.coffea')\n",
    "#signal_2 = util.load('../1900_250.coffea')"
   ]
  },
  {
   "cell_type": "code",
   "execution_count": 20,
   "id": "0dfade0c",
   "metadata": {},
   "outputs": [
    {
     "data": {
      "image/png": "[encoded data removed]",
      "text/plain": [
       "<Figure size 1440x720 with 2 Axes>"
      ]
     },
     "metadata": {
      "needs_background": "light"
     },
     "output_type": "display_data"
    }
   ],
   "source": [
    "\n",
    "hists = get_hist(\n",
    "    res[\"shapes_prefit\"],\n",
    "    bins,\n",
    "    ['TTXNoZ', 'TTZ', 'multiBoson', 'DY', 'TTJets', 'total'],\n",
    ")\n",
    "\n",
    "hist_list = [\n",
    "    hists[0]['TTXNoZ'],\n",
    "    hists[0]['TTZ'],\n",
    "    hists[0]['multiBoson'],\n",
    "    hists[0]['DY'],\n",
    "    hists[0]['TTJets'],\n",
    "]\n",
    "\n",
    "labels = [\n",
    "    'ttX',\n",
    "    'ttZ',\n",
    "    'VV/VVV',\n",
    "    'Drell Yan',\n",
    "    'tt+jets',\n",
    "]\n",
    "\n",
    "fig, (ax, rax) = plt.subplots(2,1,figsize=(20,10), gridspec_kw={\"height_ratios\": (3, 1), \"hspace\": 0.05}, sharex=True)\n",
    "\n",
    "\n",
    "hep.cms.label(\n",
    "    \"Preliminary\",\n",
    "    data=False,\n",
    "    lumi=3000,\n",
    "    #com=14,\n",
    "    loc=0,\n",
    "    ax=ax,\n",
    ")\n",
    "\n",
    "hep.histplot(\n",
    "    hist_list,\n",
    "    edges,\n",
    "    histtype=\"fill\",\n",
    "    stack=True,\n",
    "    label=labels,\n",
    "    color=['#1982c4', '#34623f',  '#ffca3a', '#8ac926', '#ff595e' ],\n",
    "    ax=ax)\n",
    "\n",
    "#add_uncertainty(hists[0]['total'], hists[1]['total'], edges, ax)\n",
    "#add_uncertainty(hists[0]['total'], hists[1]['total'], edges, rax, ratio=True)\n",
    "\n",
    "\n",
    "ax.legend()\n",
    "ax.set_ylim(0.1,4e5)\n",
    "rax.set_ylim(0.1,1.9)\n",
    "ax.set_yscale('log')\n",
    "\n",
    "plt.show()"
   ]
  },
  {
   "cell_type": "markdown",
   "id": "366edc5c",
   "metadata": {},
   "source": [
    "## Get original shapes"
   ]
  },
  {
   "cell_type": "code",
   "execution_count": 21,
   "id": "59c47aec",
   "metadata": {},
   "outputs": [],
   "source": [
    "import uproot\n",
    "\n",
    "f_in = \"/home/users/dspitzba/stop/combination/CMSSW_10_2_9/src/Stop_Run2/cards/2l/T2tt_1052_100_combination_shape.root\"\n",
    "f = uproot.open(f_in)"
   ]
  },
  {
   "cell_type": "code",
   "execution_count": 22,
   "id": "4607f9f2",
   "metadata": {},
   "outputs": [
    {
     "data": {
      "text/plain": [
       "['data_obs;1',\n",
       " 'DY;1',\n",
       " 'DY_DY_SRDown;1',\n",
       " 'DY_DY_SRUp;1',\n",
       " 'DY_DY_hMT2llDown;1',\n",
       " 'DY_DY_hMT2llUp;1',\n",
       " 'DY_JECDown;1',\n",
       " 'DY_JECUp;1',\n",
       " 'DY_JERDown;1',\n",
       " 'DY_JERUp;1',\n",
       " 'DY_L1prefireDown;1',\n",
       " 'DY_L1prefireUp;1',\n",
       " 'DY_PUDown;1',\n",
       " 'DY_PUUp;1',\n",
       " 'DY_SFbDown;1',\n",
       " 'DY_SFbUp;1',\n",
       " 'DY_SFlDown;1',\n",
       " 'DY_SFlUp;1',\n",
       " 'DY_leptonHit0SFDown;1',\n",
       " 'DY_leptonHit0SFUp;1',\n",
       " 'DY_leptonSFDown;1',\n",
       " 'DY_leptonSFUp;1',\n",
       " 'DY_leptonSIP3DSFDown;1',\n",
       " 'DY_leptonSIP3DSFUp;1',\n",
       " 'DY_triggerDown;1',\n",
       " 'DY_triggerUp;1',\n",
       " 'DY_unclEnDown;1',\n",
       " 'DY_unclEnUp;1',\n",
       " 'TTJets;1',\n",
       " 'TTJets_JECDown;1',\n",
       " 'TTJets_JECUp;1',\n",
       " 'TTJets_JERDown;1',\n",
       " 'TTJets_JERUp;1',\n",
       " 'TTJets_L1prefireDown;1',\n",
       " 'TTJets_L1prefireUp;1',\n",
       " 'TTJets_PDFDown;1',\n",
       " 'TTJets_PDFUp;1',\n",
       " 'TTJets_PUDown;1',\n",
       " 'TTJets_PUUp;1',\n",
       " 'TTJets_SFbDown;1',\n",
       " 'TTJets_SFbUp;1',\n",
       " 'TTJets_SFlDown;1',\n",
       " 'TTJets_SFlUp;1',\n",
       " 'TTJets_leptonHit0SFDown;1',\n",
       " 'TTJets_leptonHit0SFUp;1',\n",
       " 'TTJets_leptonSFDown;1',\n",
       " 'TTJets_leptonSFUp;1',\n",
       " 'TTJets_leptonSIP3DSFDown;1',\n",
       " 'TTJets_leptonSIP3DSFUp;1',\n",
       " 'TTJets_scaleTTDown;1',\n",
       " 'TTJets_scaleTTUp;1',\n",
       " 'TTJets_topFakesDown;1',\n",
       " 'TTJets_topFakesUp;1',\n",
       " 'TTJets_topNonGaussDown;1',\n",
       " 'TTJets_topNonGaussUp;1',\n",
       " 'TTJets_topPtDown;1',\n",
       " 'TTJets_topPtUp;1',\n",
       " 'TTJets_topXSecDown;1',\n",
       " 'TTJets_topXSecUp;1',\n",
       " 'TTJets_unclEnDown;1',\n",
       " 'TTJets_unclEnUp;1',\n",
       " 'TTXNoZ;1',\n",
       " 'TTXNoZ_JECDown;1',\n",
       " 'TTXNoZ_JECUp;1',\n",
       " 'TTXNoZ_JERDown;1',\n",
       " 'TTXNoZ_JERUp;1',\n",
       " 'TTXNoZ_L1prefireDown;1',\n",
       " 'TTXNoZ_L1prefireUp;1',\n",
       " 'TTXNoZ_PUDown;1',\n",
       " 'TTXNoZ_PUUp;1',\n",
       " 'TTXNoZ_SFbDown;1',\n",
       " 'TTXNoZ_SFbUp;1',\n",
       " 'TTXNoZ_SFlDown;1',\n",
       " 'TTXNoZ_SFlUp;1',\n",
       " 'TTXNoZ_leptonHit0SFDown;1',\n",
       " 'TTXNoZ_leptonHit0SFUp;1',\n",
       " 'TTXNoZ_leptonSFDown;1',\n",
       " 'TTXNoZ_leptonSFUp;1',\n",
       " 'TTXNoZ_leptonSIP3DSFDown;1',\n",
       " 'TTXNoZ_leptonSIP3DSFUp;1',\n",
       " 'TTXNoZ_triggerDown;1',\n",
       " 'TTXNoZ_triggerUp;1',\n",
       " 'TTXNoZ_unclEnDown;1',\n",
       " 'TTXNoZ_unclEnUp;1',\n",
       " 'TTZ;1',\n",
       " 'TTZ_JECDown;1',\n",
       " 'TTZ_JECUp;1',\n",
       " 'TTZ_JERDown;1',\n",
       " 'TTZ_JERUp;1',\n",
       " 'TTZ_L1prefireDown;1',\n",
       " 'TTZ_L1prefireUp;1',\n",
       " 'TTZ_PDFDown;1',\n",
       " 'TTZ_PDFUp;1',\n",
       " 'TTZ_PUDown;1',\n",
       " 'TTZ_PUUp;1',\n",
       " 'TTZ_SFbDown;1',\n",
       " 'TTZ_SFbUp;1',\n",
       " 'TTZ_SFlDown;1',\n",
       " 'TTZ_SFlUp;1',\n",
       " 'TTZ_leptonHit0SFDown;1',\n",
       " 'TTZ_leptonHit0SFUp;1',\n",
       " 'TTZ_leptonSFDown;1',\n",
       " 'TTZ_leptonSFUp;1',\n",
       " 'TTZ_leptonSIP3DSFDown;1',\n",
       " 'TTZ_leptonSIP3DSFUp;1',\n",
       " 'TTZ_scaleTTZDown;1',\n",
       " 'TTZ_scaleTTZUp;1',\n",
       " 'TTZ_triggerDown;1',\n",
       " 'TTZ_triggerUp;1',\n",
       " 'TTZ_ttZ_SRDown;1',\n",
       " 'TTZ_ttZ_SRUp;1',\n",
       " 'TTZ_unclEnDown;1',\n",
       " 'TTZ_unclEnUp;1',\n",
       " 'multiBoson;1',\n",
       " 'multiBoson_JECDown;1',\n",
       " 'multiBoson_JECUp;1',\n",
       " 'multiBoson_JERDown;1',\n",
       " 'multiBoson_JERUp;1',\n",
       " 'multiBoson_L1prefireDown;1',\n",
       " 'multiBoson_L1prefireUp;1',\n",
       " 'multiBoson_MB_SRDown;1',\n",
       " 'multiBoson_MB_SRUp;1',\n",
       " 'multiBoson_PUDown;1',\n",
       " 'multiBoson_PUUp;1',\n",
       " 'multiBoson_SFbDown;1',\n",
       " 'multiBoson_SFbUp;1',\n",
       " 'multiBoson_SFlDown;1',\n",
       " 'multiBoson_SFlUp;1',\n",
       " 'multiBoson_leptonHit0SFDown;1',\n",
       " 'multiBoson_leptonHit0SFUp;1',\n",
       " 'multiBoson_leptonSFDown;1',\n",
       " 'multiBoson_leptonSFUp;1',\n",
       " 'multiBoson_leptonSIP3DSFDown;1',\n",
       " 'multiBoson_leptonSIP3DSFUp;1',\n",
       " 'multiBoson_triggerDown;1',\n",
       " 'multiBoson_triggerUp;1',\n",
       " 'multiBoson_unclEnDown;1',\n",
       " 'multiBoson_unclEnUp;1',\n",
       " 'signal;1',\n",
       " 'signal_FSmetDown;1',\n",
       " 'signal_FSmetUp;1',\n",
       " 'signal_JECDown;1',\n",
       " 'signal_JECUp;1',\n",
       " 'signal_JERDown;1',\n",
       " 'signal_JERUp;1',\n",
       " 'signal_L1prefireDown;1',\n",
       " 'signal_L1prefireUp;1',\n",
       " 'signal_PUDown;1',\n",
       " 'signal_PUUp;1',\n",
       " 'signal_SFbDown;1',\n",
       " 'signal_SFbUp;1',\n",
       " 'signal_SFlDown;1',\n",
       " 'signal_SFlUp;1',\n",
       " 'signal_btagFSDown;1',\n",
       " 'signal_btagFSUp;1',\n",
       " 'signal_isrDown;1',\n",
       " 'signal_isrUp;1',\n",
       " 'signal_leptonFSDown;1',\n",
       " 'signal_leptonFSUp;1',\n",
       " 'signal_leptonHit0SFDown;1',\n",
       " 'signal_leptonHit0SFUp;1',\n",
       " 'signal_leptonSFDown;1',\n",
       " 'signal_leptonSFUp;1',\n",
       " 'signal_leptonSIP3DSFDown;1',\n",
       " 'signal_leptonSIP3DSFUp;1',\n",
       " 'signal_triggerDown;1',\n",
       " 'signal_triggerUp;1',\n",
       " 'signal_unclEnDown;1',\n",
       " 'signal_unclEnUp;1']"
      ]
     },
     "execution_count": 22,
     "metadata": {},
     "output_type": "execute_result"
    }
   ],
   "source": [
    "f.keys()"
   ]
  },
  {
   "cell_type": "code",
   "execution_count": 23,
   "id": "b098c301",
   "metadata": {},
   "outputs": [
    {
     "data": {
      "text/plain": [
       "array([13.544986,  7.047055])"
      ]
     },
     "execution_count": 23,
     "metadata": {},
     "output_type": "execute_result"
    }
   ],
   "source": [
    "f['DY'].errors()[0:2]"
   ]
  },
  {
   "cell_type": "code",
   "execution_count": 24,
   "id": "729864d1",
   "metadata": {},
   "outputs": [
    {
     "data": {
      "text/plain": [
       "array([ 0.,  1.,  2.,  3.,  4.,  5.,  6.,  7.,  8.,  9., 10., 11., 12.,\n",
       "       13., 14., 15., 16., 17., 18., 19., 20., 21., 22., 23., 24., 25.,\n",
       "       26., 27., 28., 29., 30., 31., 32., 33., 34., 35., 36., 37., 38.,\n",
       "       39., 40., 41., 42., 43., 44., 45., 46.])"
      ]
     },
     "execution_count": 24,
     "metadata": {},
     "output_type": "execute_result"
    }
   ],
   "source": [
    "f['DY'].axes[0].edges()"
   ]
  },
  {
   "cell_type": "code",
   "execution_count": 25,
   "id": "7c23b360",
   "metadata": {},
   "outputs": [],
   "source": [
    "processes = ['TTXNoZ', 'TTZ', 'multiBoson', 'DY', 'TTJets']\n",
    "shape_systematics = [\"JEC\", \"PU\", \"JER\", \"unclEn\", \"trigger\", \"SFl\", \"SFb\", \"leptonSF\", \"L1prefire\", \"leptonHit0SF\", \"leptonSIP3DSF\", \"PDF\", \"topPt\", \"topXSec\", \"ttZ_SR\", \"topFakes\", \"DY_SR\", \"topNonGauss\", \"MB_SR\", \"scaleTT\", \"scaleTTZ\", \"DY_hMT2ll\", \"leptonFS\", \"btagFS\", \"isr\", \"FSmet\"]"
   ]
  },
  {
   "cell_type": "code",
   "execution_count": 26,
   "id": "73149627",
   "metadata": {},
   "outputs": [],
   "source": [
    "import boost_histogram as bh\n",
    "\n",
    "def make_bh(sumw, sumw2, edges):\n",
    "    h = bh.Histogram(bh.axis.Variable(edges),storage=bh.storage.Weight())\n",
    "    h.view().value = sumw\n",
    "    h.view().variance = sumw2\n",
    "    return h\n"
   ]
  },
  {
   "cell_type": "code",
   "execution_count": 27,
   "id": "d2c47e4d",
   "metadata": {},
   "outputs": [
    {
     "data": {
      "text/plain": [
       "Histogram(Variable([0, 1, 2]), storage=Weight()) # Sum: WeightedSum(value=520.332, variance=233.128)"
      ]
     },
     "execution_count": 27,
     "metadata": {},
     "output_type": "execute_result"
    }
   ],
   "source": [
    "make_bh(f['DY'].values()[0:2], f['DY'].errors()[0:2]**2, f['DY'].axes[0].edges()[0:3])"
   ]
  },
  {
   "cell_type": "code",
   "execution_count": 28,
   "id": "2919c1af",
   "metadata": {},
   "outputs": [],
   "source": [
    "regions = {\n",
    "    'ttCR': (0,2),\n",
    "    'ttZCR': (2, 7),\n",
    "    'DYCR': (7, 20),\n",
    "    'SR': (20, 46),\n",
    "}"
   ]
  },
  {
   "cell_type": "code",
   "execution_count": 31,
   "id": "aecca6e5",
   "metadata": {},
   "outputs": [],
   "source": [
    "import os\n",
    "from Tools.dataCard import dataCard\n",
    "\n",
    "card = dataCard(releaseLocation=os.path.expandvars('/home/users/dspitzba/TOP/CMSSW_10_2_13/src/HiggsAnalysis/CombinedLimit/'))\n"
   ]
  },
  {
   "cell_type": "code",
   "execution_count": 54,
   "id": "470df278",
   "metadata": {
    "scrolled": false
   },
   "outputs": [
    {
     "name": "stdout",
     "output_type": "stream",
     "text": [
      "Adding  lumi = 1.014 for all bins and processes!\n",
      "[cardFileWrite] Written card file /home/users/dspitzba/TOP/CMSSW_10_2_9/src/tW_scattering/notebooks/testCard/ttCR_card.txt\n",
      "Adding  lumi = 1.014 for all bins and processes!\n",
      "[cardFileWrite] Written card file /home/users/dspitzba/TOP/CMSSW_10_2_9/src/tW_scattering/notebooks/testCard/ttZCR_card.txt\n",
      "Adding  lumi = 1.014 for all bins and processes!\n",
      "[cardFileWrite] Written card file /home/users/dspitzba/TOP/CMSSW_10_2_9/src/tW_scattering/notebooks/testCard/DYCR_card.txt\n",
      "Adding  lumi = 1.014 for all bins and processes!\n",
      "[cardFileWrite] Written card file /home/users/dspitzba/TOP/CMSSW_10_2_9/src/tW_scattering/notebooks/testCard/SR_card.txt\n"
     ]
    }
   ],
   "source": [
    "card_dir = './testCard/'\n",
    "\n",
    "all_cards = {}\n",
    "for reg in regions:\n",
    "    \n",
    "    i_min, i_max = regions[reg]\n",
    "    \n",
    "    data_card = os.path.abspath(card_dir+reg+'_card.txt')\n",
    "    shape_file = os.path.abspath(card_dir+reg+'_shapes.root')\n",
    "    \n",
    "    f_out = uproot.recreate(shape_file)\n",
    "    for hist_name in f.keys():\n",
    "        out_name = hist_name.replace(';1', '')\n",
    "        tmp = make_bh(\n",
    "            f[hist_name].values()[i_min:i_max],\n",
    "            f[hist_name].errors()[i_min:i_max]**2,\n",
    "            f[hist_name].axes[0].edges()[i_min:i_max+1],\n",
    "        )\n",
    "        f_out[out_name] = tmp\n",
    "    f_out.close()\n",
    "    \n",
    "    # set up the card\n",
    "    #card = dataCard()\n",
    "    card.reset()\n",
    "    card.setPrecision(3)\n",
    "    \n",
    "    # add the single bin\n",
    "    card.addBin('Bin0', processes, 'Bin0')\n",
    "    \n",
    "    for syst in shape_systematics:\n",
    "        card.addUncertainty(syst, 'shape')\n",
    "    \n",
    "    card.addUncertainty('rare', 'lnN')\n",
    "    card.addUncertainty('lumi', 'lnN')\n",
    "    card.specifyFlatUncertainty('lumi', 1.014)\n",
    "    card.specifyUncertainty('rare', 'Bin0', 'TTXNoZ', 1.25)\n",
    "    \n",
    "    for process in processes + ['signal']:\n",
    "        card.specifyExpectation('Bin0', process, sum(f[process].values()[i_min:i_max]) )\n",
    "        \n",
    "        for shape_hist in f.keys():\n",
    "            if shape_hist.startswith(process):\n",
    "                process_count = shape_hist.count(process[:8])\n",
    "                syst_name = shape_hist.replace(f'{process}_','').replace('Down;1','')\n",
    "                if process_count > 1:\n",
    "                    syst_name = f\"{process}_{syst_name}\"\n",
    "                #print (syst_name)\n",
    "                if syst_name in shape_systematics:\n",
    "                    card.specifyUncertainty(syst_name, 'Bin0', process, 1)\n",
    "                    #card.specifyUncertainty(process, )\n",
    "                    #print (syst_name)\n",
    "                    \n",
    "    card.specifyObservation('Bin0', sum(f['data_obs'].values()[i_min:i_max]))\n",
    "    \n",
    "    card.addRateParameter(\"TTZ\", 1, \"[0,10]\")\n",
    "    card.addRateParameter(\"DY\", 1, \"[0,10]\")\n",
    "    card.addRateParameter(\"TTJets\", 1, \"[0,10]\")\n",
    "    card.addRateParameter(\"multiBoson\", 1, \"[0.6,1.4]\")\n",
    "    \n",
    "    c = card.writeToFile(data_card, shapeFile=shape_file)\n",
    "    all_cards[reg] = c"
   ]
  },
  {
   "cell_type": "code",
   "execution_count": 55,
   "id": "63417cf0",
   "metadata": {},
   "outputs": [
    {
     "name": "stdout",
     "output_type": "stream",
     "text": [
      "Creating /home/users/dspitzba/TOP/CMSSW_10_2_13/src/HiggsAnalysis/CombinedLimit/93109712-00ca-42fd-8457-ae0f5e5335d0\n",
      "Copying card file to temp: ttCR_card.txt\n",
      "Copying card file to temp: ttZCR_card.txt\n",
      "Copying card file to temp: DYCR_card.txt\n",
      "Copying card file to temp: SR_card.txt\n",
      " dc_ttCR=ttCR_card.txt dc_ttZCR=ttZCR_card.txt dc_DYCR=DYCR_card.txt dc_SR=SR_card.txt\n",
      "Executing cd /home/users/dspitzba/TOP/CMSSW_10_2_13/src/HiggsAnalysis/CombinedLimit/93109712-00ca-42fd-8457-ae0f5e5335d0; eval `scramv1 runtime -sh`; combineCards.py  dc_ttCR=ttCR_card.txt dc_ttZCR=ttZCR_card.txt dc_DYCR=DYCR_card.txt dc_SR=SR_card.txt > combinedCard.txt; text2workspace.py combinedCard.txt --X-allow-no-signal -m 125\n",
      "Channel dc_ttCR will use autoMCStats with settings: event-threshold=0, include-signal=0, hist-mode=1\n",
      "============================================================\n",
      "Analysing bin errors for: prop_bindc_ttCR\n",
      "Poisson cut-off: 0\n",
      "Processes excluded for sums: signal\n",
      "============================================================\n",
      "Bin        Contents        Error           Notes                         \n",
      "0          132495.590879   132.264491      total sum                     \n",
      "0          132494.566879   132.264465      excluding marked processes    \n",
      "0          1003482.000000  1001.739487     Unweighted events, alpha=0.132036\n",
      "  => Total parameter prop_bindc_ttCR_bin0[0.00,-7.00,7.00] to be gaussian constrained\n",
      "------------------------------------------------------------\n",
      "1          160353.426109   159.588665      total sum                     \n",
      "1          160352.412109   159.588644      excluding marked processes    \n",
      "1          1009595.000000  1004.786047     Unweighted events, alpha=0.158829\n",
      "  => Total parameter prop_bindc_ttCR_bin1[0.00,-7.00,7.00] to be gaussian constrained\n",
      "------------------------------------------------------------\n",
      "Channel dc_ttZCR will use autoMCStats with settings: event-threshold=0, include-signal=0, hist-mode=1\n",
      "============================================================\n",
      "Analysing bin errors for: prop_bindc_ttZCR\n",
      "Poisson cut-off: 0\n",
      "============================================================\n",
      "Bin        Contents        Error           Notes                         \n",
      "0          54.532001       1.620198        total sum                     \n",
      "0          1133.000000     33.660065       Unweighted events, alpha=0.048131\n",
      "  => Total parameter prop_bindc_ttZCR_bin0[0.00,-7.00,7.00] to be gaussian constrained\n",
      "------------------------------------------------------------\n",
      "1          242.234996      3.938273        total sum                     \n",
      "1          3783.000000     61.506097       Unweighted events, alpha=0.064033\n",
      "  => Total parameter prop_bindc_ttZCR_bin1[0.00,-7.00,7.00] to be gaussian constrained\n",
      "------------------------------------------------------------\n",
      "2          91.736999       1.305388        total sum                     \n",
      "2          4939.000000     70.278019       Unweighted events, alpha=0.018574\n",
      "  => Total parameter prop_bindc_ttZCR_bin2[0.00,-7.00,7.00] to be gaussian constrained\n",
      "------------------------------------------------------------\n",
      "3          196.792996      2.496751        total sum                     \n",
      "3          6213.000000     78.822586       Unweighted events, alpha=0.031674\n",
      "  => Total parameter prop_bindc_ttZCR_bin3[0.00,-7.00,7.00] to be gaussian constrained\n",
      "------------------------------------------------------------\n",
      "4          143.719005      1.450899        total sum                     \n",
      "4          9812.000000     99.055540       Unweighted events, alpha=0.014647\n",
      "  => Total parameter prop_bindc_ttZCR_bin4[0.00,-7.00,7.00] to be gaussian constrained\n",
      "------------------------------------------------------------\n",
      "Channel dc_DYCR will use autoMCStats with settings: event-threshold=0, include-signal=0, hist-mode=1\n",
      "============================================================\n",
      "Analysing bin errors for: prop_bindc_DYCR\n",
      "Poisson cut-off: 0\n",
      "Processes excluded for sums: signal\n",
      "============================================================\n",
      "Bin        Contents        Error           Notes                         \n",
      "0          1608.709999     22.842524       total sum                     \n",
      "0          1608.709999     22.842524       excluding marked processes    \n",
      "0          4960.000000     70.427267       Unweighted events, alpha=0.324337\n",
      "  => Total parameter prop_bindc_DYCR_bin0[0.00,-7.00,7.00] to be gaussian constrained\n",
      "------------------------------------------------------------\n",
      "1          23.441001       1.814521        total sum                     \n",
      "1          23.441001       1.814521        excluding marked processes    \n",
      "1          167.000000      12.922848       Unweighted events, alpha=0.140365\n",
      "  => Total parameter prop_bindc_DYCR_bin1[0.00,-7.00,7.00] to be gaussian constrained\n",
      "------------------------------------------------------------\n",
      "2          200.462001      6.119547        total sum                     \n",
      "2          200.462001      6.119547        excluding marked processes    \n",
      "2          1073.000000     32.756679       Unweighted events, alpha=0.186824\n",
      "  => Total parameter prop_bindc_DYCR_bin2[0.00,-7.00,7.00] to be gaussian constrained\n",
      "------------------------------------------------------------\n",
      "3          45.750000       2.544104        total sum                     \n",
      "3          45.750000       2.544104        excluding marked processes    \n",
      "3          323.000000      17.972201       Unweighted events, alpha=0.141641\n",
      "  => Total parameter prop_bindc_DYCR_bin3[0.00,-7.00,7.00] to be gaussian constrained\n",
      "------------------------------------------------------------\n",
      "4          7.483000        0.788908        total sum                     \n",
      "4          7.483000        0.788908        excluding marked processes    \n",
      "4          90.000000       9.486833        Unweighted events, alpha=0.083144\n",
      "  => Total parameter prop_bindc_DYCR_bin4[0.00,-7.00,7.00] to be gaussian constrained\n",
      "------------------------------------------------------------\n",
      "5          18.693000       1.703795        total sum                     \n",
      "5          18.693000       1.703795        excluding marked processes    \n",
      "5          120.000000      10.954451       Unweighted events, alpha=0.155775\n",
      "  => Total parameter prop_bindc_DYCR_bin5[0.00,-7.00,7.00] to be gaussian constrained\n",
      "------------------------------------------------------------\n",
      "6          635.151983      9.497705        total sum                     \n",
      "6          635.151983      9.497705        excluding marked processes    \n",
      "6          4472.000000     66.873014       Unweighted events, alpha=0.142029\n",
      "  => Total parameter prop_bindc_DYCR_bin6[0.00,-7.00,7.00] to be gaussian constrained\n",
      "------------------------------------------------------------\n",
      "7          34.107000       1.848088        total sum                     \n",
      "7          34.107000       1.848088        excluding marked processes    \n",
      "7          341.000000      18.466185       Unweighted events, alpha=0.100021\n",
      "  => Total parameter prop_bindc_DYCR_bin7[0.00,-7.00,7.00] to be gaussian constrained\n",
      "------------------------------------------------------------\n",
      "8          134.970995      4.375827        total sum                     \n",
      "8          134.970995      4.375827        excluding marked processes    \n",
      "8          951.000000      30.838288       Unweighted events, alpha=0.141925\n",
      "  => Total parameter prop_bindc_DYCR_bin8[0.00,-7.00,7.00] to be gaussian constrained\n",
      "------------------------------------------------------------\n",
      "9          63.840001       3.136798        total sum                     \n",
      "9          63.840001       3.136798        excluding marked processes    \n",
      "9          414.000000      20.346990       Unweighted events, alpha=0.154203\n",
      "  => Total parameter prop_bindc_DYCR_bin9[0.00,-7.00,7.00] to be gaussian constrained\n",
      "------------------------------------------------------------\n",
      "10         7.892000        0.881048        total sum                     \n",
      "10         7.892000        0.881048        excluding marked processes    \n",
      "10         80.000000       8.944272        Unweighted events, alpha=0.098650\n",
      "  => Total parameter prop_bindc_DYCR_bin10[0.00,-7.00,7.00] to be gaussian constrained\n",
      "------------------------------------------------------------\n",
      "11         59.336000       3.190777        total sum                     \n",
      "11         59.288000       3.190729        excluding marked processes    \n",
      "11         345.000000      18.574176       Unweighted events, alpha=0.171988\n",
      "  => Total parameter prop_bindc_DYCR_bin11[0.00,-7.00,7.00] to be gaussian constrained\n",
      "------------------------------------------------------------\n",
      "12         155.470997      3.651982        total sum                     \n",
      "12         155.451997      3.651962        excluding marked processes    \n",
      "12         1812.000000     42.567593       Unweighted events, alpha=0.085801\n",
      "  => Total parameter prop_bindc_DYCR_bin12[0.00,-7.00,7.00] to be gaussian constrained\n",
      "------------------------------------------------------------\n",
      "Channel dc_SR will use autoMCStats with settings: event-threshold=0, include-signal=0, hist-mode=1\n",
      "============================================================\n",
      "Analysing bin errors for: prop_bindc_SR\n",
      "Poisson cut-off: 0\n",
      "Processes excluded for sums: signal\n",
      "============================================================\n",
      "Bin        Contents        Error           Notes                         \n",
      "0          770.260995      12.104094       total sum                     \n",
      "0          770.254995      12.104094       excluding marked processes    \n",
      "0          4050.000000     63.639610       Unweighted events, alpha=0.190188\n",
      "  => Total parameter prop_bindc_SR_bin0[0.00,-7.00,7.00] to be gaussian constrained\n",
      "------------------------------------------------------------\n",
      "1          885.160002      12.277251       total sum                     \n",
      "1          885.112002      12.277239       excluding marked processes    \n",
      "1          5198.000000     72.097157       Unweighted events, alpha=0.170289\n",
      "  => Total parameter prop_bindc_SR_bin1[0.00,-7.00,7.00] to be gaussian constrained\n",
      "------------------------------------------------------------\n",
      "2          28.278000       1.870174        total sum                     \n",
      "2          28.228000       1.870053        excluding marked processes    \n",
      "2          228.000000      15.099669       Unweighted events, alpha=0.124026\n",
      "  => Total parameter prop_bindc_SR_bin2[0.00,-7.00,7.00] to be gaussian constrained\n",
      "------------------------------------------------------------\n",
      "3          37.089999       2.565022        total sum                     \n",
      "3          37.049999       2.564970        excluding marked processes    \n",
      "3          209.000000      14.456832       Unweighted events, alpha=0.177464\n",
      "  => Total parameter prop_bindc_SR_bin3[0.00,-7.00,7.00] to be gaussian constrained\n",
      "------------------------------------------------------------\n",
      "4          373.298007      7.958761        total sum                     \n",
      "4          373.224007      7.958718        excluding marked processes    \n",
      "4          2199.000000     46.893496       Unweighted events, alpha=0.169758\n",
      "  => Total parameter prop_bindc_SR_bin4[0.00,-7.00,7.00] to be gaussian constrained\n",
      "------------------------------------------------------------\n",
      "5          447.193990      8.754863        total sum                     \n",
      "5          447.144990      8.754848        excluding marked processes    \n",
      "5          2609.000000     51.078371       Unweighted events, alpha=0.171404\n",
      "  => Total parameter prop_bindc_SR_bin5[0.00,-7.00,7.00] to be gaussian constrained\n",
      "------------------------------------------------------------\n",
      "6          39.083999       2.376259        total sum                     \n",
      "6          38.984999       2.376111        excluding marked processes    \n",
      "6          269.000000      16.401219       Unweighted events, alpha=0.145294\n",
      "  => Total parameter prop_bindc_SR_bin6[0.00,-7.00,7.00] to be gaussian constrained\n",
      "------------------------------------------------------------\n",
      "7          52.042999       2.896805        total sum                     \n",
      "7          51.960999       2.896731        excluding marked processes    \n",
      "7          322.000000      17.944358       Unweighted events, alpha=0.161624\n",
      "  => Total parameter prop_bindc_SR_bin7[0.00,-7.00,7.00] to be gaussian constrained\n",
      "------------------------------------------------------------\n",
      "8          7.127000        0.985375        total sum                     \n",
      "8          7.099000        0.985271        excluding marked processes    \n",
      "8          52.000000       7.211103        Unweighted events, alpha=0.137058\n",
      "  => Total parameter prop_bindc_SR_bin8[0.00,-7.00,7.00] to be gaussian constrained\n",
      "------------------------------------------------------------\n",
      "9          7.838000        1.072265        total sum                     \n",
      "9          7.817000        1.072265        excluding marked processes    \n",
      "9          53.000000       7.280110        Unweighted events, alpha=0.147887\n",
      "  => Total parameter prop_bindc_SR_bin9[0.00,-7.00,7.00] to be gaussian constrained\n",
      "------------------------------------------------------------\n",
      "10         6.238000        0.693341        total sum                     \n",
      "10         6.064000        0.692586        excluding marked processes    \n",
      "10         77.000000       8.774964        Unweighted events, alpha=0.081013\n",
      "  => Total parameter prop_bindc_SR_bin10[0.00,-7.00,7.00] to be gaussian constrained\n",
      "------------------------------------------------------------\n",
      "11         8.217000        1.099001        total sum                     \n",
      "11         8.044000        1.098535        excluding marked processes    \n",
      "11         54.000000       7.348469        Unweighted events, alpha=0.152167\n",
      "  => Total parameter prop_bindc_SR_bin11[0.00,-7.00,7.00] to be gaussian constrained\n",
      "------------------------------------------------------------\n",
      "12         7.388000        1.007422        total sum                     \n",
      "12         7.351000        1.007335        excluding marked processes    \n",
      "12         53.000000       7.280110        Unweighted events, alpha=0.139396\n",
      "  => Total parameter prop_bindc_SR_bin12[0.00,-7.00,7.00] to be gaussian constrained\n",
      "------------------------------------------------------------\n",
      "13         5.306000        0.997917        total sum                     \n",
      "13         5.303000        0.997917        excluding marked processes    \n",
      "13         28.000000       5.291503        Unweighted events, alpha=0.189500\n",
      "  => Total parameter prop_bindc_SR_bin13[0.00,-7.00,7.00] to be gaussian constrained\n",
      "------------------------------------------------------------\n",
      "14         1.267000        0.186144        total sum                     \n",
      "14         1.242000        0.185701        excluding marked processes    \n",
      "14         45.000000       6.708204        Unweighted events, alpha=0.028156\n",
      "  => Total parameter prop_bindc_SR_bin14[0.00,-7.00,7.00] to be gaussian constrained\n",
      "------------------------------------------------------------\n",
      "15         1.621000        0.449974        total sum                     \n",
      "15         1.579000        0.449651        excluding marked processes    \n",
      "15         12.000000       3.464102        Unweighted events, alpha=0.135083\n",
      "  => Total parameter prop_bindc_SR_bin15[0.00,-7.00,7.00] to be gaussian constrained\n",
      "------------------------------------------------------------\n",
      "16         10.173000       1.273434        total sum                     \n",
      "16         10.173000       1.273434        excluding marked processes    \n",
      "16         64.000000       8.000000        Unweighted events, alpha=0.158953\n",
      "  => Total parameter prop_bindc_SR_bin16[0.00,-7.00,7.00] to be gaussian constrained\n",
      "------------------------------------------------------------\n",
      "17         6.314000        0.756362        total sum                     \n",
      "17         6.281000        0.756238        excluding marked processes    \n",
      "17         69.000000       8.306624        Unweighted events, alpha=0.091507\n",
      "  => Total parameter prop_bindc_SR_bin17[0.00,-7.00,7.00] to be gaussian constrained\n",
      "------------------------------------------------------------\n",
      "18         5.248000        0.487258        total sum                     \n",
      "18         5.189000        0.486982        excluding marked processes    \n",
      "18         114.000000      10.677078       Unweighted events, alpha=0.046035\n",
      "  => Total parameter prop_bindc_SR_bin18[0.00,-7.00,7.00] to be gaussian constrained\n",
      "------------------------------------------------------------\n",
      "19         6.159000        0.894959        total sum                     \n",
      "19         5.964000        0.894240        excluding marked processes    \n",
      "19         44.000000       6.633250        Unweighted events, alpha=0.139977\n",
      "  => Total parameter prop_bindc_SR_bin19[0.00,-7.00,7.00] to be gaussian constrained\n",
      "------------------------------------------------------------\n",
      "20         1.639000        0.214144        total sum                     \n",
      "20         1.618000        0.213949        excluding marked processes    \n",
      "20         57.000000       7.549834        Unweighted events, alpha=0.028754\n",
      "  => Total parameter prop_bindc_SR_bin20[0.00,-7.00,7.00] to be gaussian constrained\n"
     ]
    },
    {
     "name": "stdout",
     "output_type": "stream",
     "text": [
      "------------------------------------------------------------\n",
      "21         1.007000        0.179013        total sum                     \n",
      "21         0.957000        0.178499        excluding marked processes    \n",
      "21         29.000000       5.385165        Unweighted events, alpha=0.034724\n",
      "  => Total parameter prop_bindc_SR_bin21[0.00,-7.00,7.00] to be gaussian constrained\n",
      "------------------------------------------------------------\n",
      "22         6.675000        0.586439        total sum                     \n",
      "22         5.872000        0.581351        excluding marked processes    \n",
      "22         102.000000      10.099505       Unweighted events, alpha=0.065441\n",
      "  => Total parameter prop_bindc_SR_bin22[0.00,-7.00,7.00] to be gaussian constrained\n",
      "------------------------------------------------------------\n",
      "23         5.851000        0.356048        total sum                     \n",
      "23         4.897000        0.346691        excluding marked processes    \n",
      "23         200.000000      14.142136       Unweighted events, alpha=0.029255\n",
      "  => Total parameter prop_bindc_SR_bin23[0.00,-7.00,7.00] to be gaussian constrained\n",
      "------------------------------------------------------------\n",
      "24         3.200000        0.336921        total sum                     \n",
      "24         1.976000        0.322748        excluding marked processes    \n",
      "24         37.000000       6.082763        Unweighted events, alpha=0.086486\n",
      "  => Total parameter prop_bindc_SR_bin24[0.00,-7.00,7.00] to be gaussian constrained\n",
      "------------------------------------------------------------\n",
      "25         2.784000        0.259020        total sum                     \n",
      "25         1.548000        0.240901        excluding marked processes    \n",
      "25         41.000000       6.403124        Unweighted events, alpha=0.067902\n",
      "  => Total parameter prop_bindc_SR_bin25[0.00,-7.00,7.00] to be gaussian constrained\n",
      "------------------------------------------------------------\n",
      "Putting combined card into dir /home/users/dspitzba/TOP/CMSSW_10_2_9/src/tW_scattering/notebooks/testCard/\n"
     ]
    },
    {
     "data": {
      "text/plain": [
       "'/home/users/dspitzba/TOP/CMSSW_10_2_9/src/tW_scattering/notebooks/testCard/combined_card.txt'"
      ]
     },
     "execution_count": 55,
     "metadata": {},
     "output_type": "execute_result"
    }
   ],
   "source": [
    "card.combineCards(all_cards)"
   ]
  },
  {
   "cell_type": "markdown",
   "id": "64230bd8",
   "metadata": {},
   "source": [
    "# Get the actual covariance matrix"
   ]
  },
  {
   "cell_type": "code",
   "execution_count": 64,
   "id": "9663b564",
   "metadata": {},
   "outputs": [],
   "source": [
    "fd = uproot.open(\"testCard/fitDiagnostics.root\")"
   ]
  },
  {
   "cell_type": "code",
   "execution_count": 65,
   "id": "46293b3f",
   "metadata": {
    "scrolled": false
   },
   "outputs": [
    {
     "data": {
      "text/plain": [
       "['shapes_prefit;1',\n",
       " 'shapes_prefit/dc_DYCR;1',\n",
       " 'shapes_prefit/dc_DYCR/data;1',\n",
       " 'shapes_prefit/dc_DYCR/DY;1',\n",
       " 'shapes_prefit/dc_DYCR/TTJets;1',\n",
       " 'shapes_prefit/dc_DYCR/TTXNoZ;1',\n",
       " 'shapes_prefit/dc_DYCR/TTZ;1',\n",
       " 'shapes_prefit/dc_DYCR/multiBoson;1',\n",
       " 'shapes_prefit/dc_DYCR/signal;1',\n",
       " 'shapes_prefit/dc_DYCR/total;1',\n",
       " 'shapes_prefit/dc_DYCR/total_signal;1',\n",
       " 'shapes_prefit/dc_DYCR/total_background;1',\n",
       " 'shapes_prefit/dc_DYCR/total_covar;1',\n",
       " 'shapes_prefit/dc_SR;1',\n",
       " 'shapes_prefit/dc_SR/data;1',\n",
       " 'shapes_prefit/dc_SR/DY;1',\n",
       " 'shapes_prefit/dc_SR/TTJets;1',\n",
       " 'shapes_prefit/dc_SR/TTXNoZ;1',\n",
       " 'shapes_prefit/dc_SR/TTZ;1',\n",
       " 'shapes_prefit/dc_SR/multiBoson;1',\n",
       " 'shapes_prefit/dc_SR/signal;1',\n",
       " 'shapes_prefit/dc_SR/total;1',\n",
       " 'shapes_prefit/dc_SR/total_signal;1',\n",
       " 'shapes_prefit/dc_SR/total_background;1',\n",
       " 'shapes_prefit/dc_SR/total_covar;1',\n",
       " 'shapes_prefit/dc_ttCR;1',\n",
       " 'shapes_prefit/dc_ttCR/data;1',\n",
       " 'shapes_prefit/dc_ttCR/DY;1',\n",
       " 'shapes_prefit/dc_ttCR/TTJets;1',\n",
       " 'shapes_prefit/dc_ttCR/TTXNoZ;1',\n",
       " 'shapes_prefit/dc_ttCR/TTZ;1',\n",
       " 'shapes_prefit/dc_ttCR/multiBoson;1',\n",
       " 'shapes_prefit/dc_ttCR/signal;1',\n",
       " 'shapes_prefit/dc_ttCR/total;1',\n",
       " 'shapes_prefit/dc_ttCR/total_signal;1',\n",
       " 'shapes_prefit/dc_ttCR/total_background;1',\n",
       " 'shapes_prefit/dc_ttCR/total_covar;1',\n",
       " 'shapes_prefit/dc_ttZCR;1',\n",
       " 'shapes_prefit/dc_ttZCR/data;1',\n",
       " 'shapes_prefit/dc_ttZCR/DY;1',\n",
       " 'shapes_prefit/dc_ttZCR/TTJets;1',\n",
       " 'shapes_prefit/dc_ttZCR/TTXNoZ;1',\n",
       " 'shapes_prefit/dc_ttZCR/TTZ;1',\n",
       " 'shapes_prefit/dc_ttZCR/multiBoson;1',\n",
       " 'shapes_prefit/dc_ttZCR/total;1',\n",
       " 'shapes_prefit/dc_ttZCR/total_background;1',\n",
       " 'shapes_prefit/dc_ttZCR/total_covar;1',\n",
       " 'shapes_prefit/total_overall;1',\n",
       " 'shapes_prefit/total_signal;1',\n",
       " 'shapes_prefit/total_data;1',\n",
       " 'shapes_prefit/total_background;1',\n",
       " 'shapes_prefit/overall_total_covar;1',\n",
       " 'norm_prefit;1',\n",
       " 'ProcessID0;1',\n",
       " 'nuisances_prefit_res;1',\n",
       " 'nuisances_prefit;1',\n",
       " 'fit_b;1',\n",
       " 'shapes_fit_b;1',\n",
       " 'shapes_fit_b/dc_DYCR;1',\n",
       " 'shapes_fit_b/dc_DYCR/data;1',\n",
       " 'shapes_fit_b/dc_DYCR/DY;1',\n",
       " 'shapes_fit_b/dc_DYCR/TTJets;1',\n",
       " 'shapes_fit_b/dc_DYCR/TTXNoZ;1',\n",
       " 'shapes_fit_b/dc_DYCR/TTZ;1',\n",
       " 'shapes_fit_b/dc_DYCR/multiBoson;1',\n",
       " 'shapes_fit_b/dc_DYCR/signal;1',\n",
       " 'shapes_fit_b/dc_DYCR/total;1',\n",
       " 'shapes_fit_b/dc_DYCR/total_signal;1',\n",
       " 'shapes_fit_b/dc_DYCR/total_background;1',\n",
       " 'shapes_fit_b/dc_DYCR/total_covar;1',\n",
       " 'shapes_fit_b/dc_SR;1',\n",
       " 'shapes_fit_b/dc_SR/data;1',\n",
       " 'shapes_fit_b/dc_SR/DY;1',\n",
       " 'shapes_fit_b/dc_SR/TTJets;1',\n",
       " 'shapes_fit_b/dc_SR/TTXNoZ;1',\n",
       " 'shapes_fit_b/dc_SR/TTZ;1',\n",
       " 'shapes_fit_b/dc_SR/multiBoson;1',\n",
       " 'shapes_fit_b/dc_SR/signal;1',\n",
       " 'shapes_fit_b/dc_SR/total;1',\n",
       " 'shapes_fit_b/dc_SR/total_signal;1',\n",
       " 'shapes_fit_b/dc_SR/total_background;1',\n",
       " 'shapes_fit_b/dc_SR/total_covar;1',\n",
       " 'shapes_fit_b/dc_ttCR;1',\n",
       " 'shapes_fit_b/dc_ttCR/data;1',\n",
       " 'shapes_fit_b/dc_ttCR/DY;1',\n",
       " 'shapes_fit_b/dc_ttCR/TTJets;1',\n",
       " 'shapes_fit_b/dc_ttCR/TTXNoZ;1',\n",
       " 'shapes_fit_b/dc_ttCR/TTZ;1',\n",
       " 'shapes_fit_b/dc_ttCR/multiBoson;1',\n",
       " 'shapes_fit_b/dc_ttCR/signal;1',\n",
       " 'shapes_fit_b/dc_ttCR/total;1',\n",
       " 'shapes_fit_b/dc_ttCR/total_signal;1',\n",
       " 'shapes_fit_b/dc_ttCR/total_background;1',\n",
       " 'shapes_fit_b/dc_ttCR/total_covar;1',\n",
       " 'shapes_fit_b/dc_ttZCR;1',\n",
       " 'shapes_fit_b/dc_ttZCR/data;1',\n",
       " 'shapes_fit_b/dc_ttZCR/DY;1',\n",
       " 'shapes_fit_b/dc_ttZCR/TTJets;1',\n",
       " 'shapes_fit_b/dc_ttZCR/TTXNoZ;1',\n",
       " 'shapes_fit_b/dc_ttZCR/TTZ;1',\n",
       " 'shapes_fit_b/dc_ttZCR/multiBoson;1',\n",
       " 'shapes_fit_b/dc_ttZCR/total;1',\n",
       " 'shapes_fit_b/dc_ttZCR/total_background;1',\n",
       " 'shapes_fit_b/dc_ttZCR/total_covar;1',\n",
       " 'shapes_fit_b/total_overall;1',\n",
       " 'shapes_fit_b/total_signal;1',\n",
       " 'shapes_fit_b/total_data;1',\n",
       " 'shapes_fit_b/total_background;1',\n",
       " 'shapes_fit_b/overall_total_covar;1',\n",
       " 'norm_fit_b;1',\n",
       " 'fit_s;1',\n",
       " 'shapes_fit_s;1',\n",
       " 'shapes_fit_s/dc_DYCR;1',\n",
       " 'shapes_fit_s/dc_DYCR/data;1',\n",
       " 'shapes_fit_s/dc_DYCR/DY;1',\n",
       " 'shapes_fit_s/dc_DYCR/TTJets;1',\n",
       " 'shapes_fit_s/dc_DYCR/TTXNoZ;1',\n",
       " 'shapes_fit_s/dc_DYCR/TTZ;1',\n",
       " 'shapes_fit_s/dc_DYCR/multiBoson;1',\n",
       " 'shapes_fit_s/dc_DYCR/signal;1',\n",
       " 'shapes_fit_s/dc_DYCR/total;1',\n",
       " 'shapes_fit_s/dc_DYCR/total_signal;1',\n",
       " 'shapes_fit_s/dc_DYCR/total_background;1',\n",
       " 'shapes_fit_s/dc_DYCR/total_covar;1',\n",
       " 'shapes_fit_s/dc_SR;1',\n",
       " 'shapes_fit_s/dc_SR/data;1',\n",
       " 'shapes_fit_s/dc_SR/DY;1',\n",
       " 'shapes_fit_s/dc_SR/TTJets;1',\n",
       " 'shapes_fit_s/dc_SR/TTXNoZ;1',\n",
       " 'shapes_fit_s/dc_SR/TTZ;1',\n",
       " 'shapes_fit_s/dc_SR/multiBoson;1',\n",
       " 'shapes_fit_s/dc_SR/signal;1',\n",
       " 'shapes_fit_s/dc_SR/total;1',\n",
       " 'shapes_fit_s/dc_SR/total_signal;1',\n",
       " 'shapes_fit_s/dc_SR/total_background;1',\n",
       " 'shapes_fit_s/dc_SR/total_covar;1',\n",
       " 'shapes_fit_s/dc_ttCR;1',\n",
       " 'shapes_fit_s/dc_ttCR/data;1',\n",
       " 'shapes_fit_s/dc_ttCR/DY;1',\n",
       " 'shapes_fit_s/dc_ttCR/TTJets;1',\n",
       " 'shapes_fit_s/dc_ttCR/TTXNoZ;1',\n",
       " 'shapes_fit_s/dc_ttCR/TTZ;1',\n",
       " 'shapes_fit_s/dc_ttCR/multiBoson;1',\n",
       " 'shapes_fit_s/dc_ttCR/signal;1',\n",
       " 'shapes_fit_s/dc_ttCR/total;1',\n",
       " 'shapes_fit_s/dc_ttCR/total_signal;1',\n",
       " 'shapes_fit_s/dc_ttCR/total_background;1',\n",
       " 'shapes_fit_s/dc_ttCR/total_covar;1',\n",
       " 'shapes_fit_s/dc_ttZCR;1',\n",
       " 'shapes_fit_s/dc_ttZCR/data;1',\n",
       " 'shapes_fit_s/dc_ttZCR/DY;1',\n",
       " 'shapes_fit_s/dc_ttZCR/TTJets;1',\n",
       " 'shapes_fit_s/dc_ttZCR/TTXNoZ;1',\n",
       " 'shapes_fit_s/dc_ttZCR/TTZ;1',\n",
       " 'shapes_fit_s/dc_ttZCR/multiBoson;1',\n",
       " 'shapes_fit_s/dc_ttZCR/total;1',\n",
       " 'shapes_fit_s/dc_ttZCR/total_background;1',\n",
       " 'shapes_fit_s/dc_ttZCR/total_covar;1',\n",
       " 'shapes_fit_s/total_overall;1',\n",
       " 'shapes_fit_s/total_signal;1',\n",
       " 'shapes_fit_s/total_data;1',\n",
       " 'shapes_fit_s/total_background;1',\n",
       " 'shapes_fit_s/overall_total_covar;1',\n",
       " 'norm_fit_s;1',\n",
       " 'tree_fit_sb;1',\n",
       " 'tree_fit_b;1',\n",
       " 'tree_prefit;1']"
      ]
     },
     "execution_count": 65,
     "metadata": {},
     "output_type": "execute_result"
    }
   ],
   "source": [
    "fd.keys()"
   ]
  },
  {
   "cell_type": "code",
   "execution_count": 66,
   "id": "b1c581b8",
   "metadata": {},
   "outputs": [
    {
     "data": {
      "text/plain": [
       "['dc_DYCR;1',\n",
       " 'dc_DYCR/data;1',\n",
       " 'dc_DYCR/DY;1',\n",
       " 'dc_DYCR/TTJets;1',\n",
       " 'dc_DYCR/TTXNoZ;1',\n",
       " 'dc_DYCR/TTZ;1',\n",
       " 'dc_DYCR/multiBoson;1',\n",
       " 'dc_DYCR/signal;1',\n",
       " 'dc_DYCR/total;1',\n",
       " 'dc_DYCR/total_signal;1',\n",
       " 'dc_DYCR/total_background;1',\n",
       " 'dc_DYCR/total_covar;1',\n",
       " 'dc_SR;1',\n",
       " 'dc_SR/data;1',\n",
       " 'dc_SR/DY;1',\n",
       " 'dc_SR/TTJets;1',\n",
       " 'dc_SR/TTXNoZ;1',\n",
       " 'dc_SR/TTZ;1',\n",
       " 'dc_SR/multiBoson;1',\n",
       " 'dc_SR/signal;1',\n",
       " 'dc_SR/total;1',\n",
       " 'dc_SR/total_signal;1',\n",
       " 'dc_SR/total_background;1',\n",
       " 'dc_SR/total_covar;1',\n",
       " 'dc_ttCR;1',\n",
       " 'dc_ttCR/data;1',\n",
       " 'dc_ttCR/DY;1',\n",
       " 'dc_ttCR/TTJets;1',\n",
       " 'dc_ttCR/TTXNoZ;1',\n",
       " 'dc_ttCR/TTZ;1',\n",
       " 'dc_ttCR/multiBoson;1',\n",
       " 'dc_ttCR/signal;1',\n",
       " 'dc_ttCR/total;1',\n",
       " 'dc_ttCR/total_signal;1',\n",
       " 'dc_ttCR/total_background;1',\n",
       " 'dc_ttCR/total_covar;1',\n",
       " 'dc_ttZCR;1',\n",
       " 'dc_ttZCR/data;1',\n",
       " 'dc_ttZCR/DY;1',\n",
       " 'dc_ttZCR/TTJets;1',\n",
       " 'dc_ttZCR/TTXNoZ;1',\n",
       " 'dc_ttZCR/TTZ;1',\n",
       " 'dc_ttZCR/multiBoson;1',\n",
       " 'dc_ttZCR/total;1',\n",
       " 'dc_ttZCR/total_background;1',\n",
       " 'dc_ttZCR/total_covar;1',\n",
       " 'total_overall;1',\n",
       " 'total_signal;1',\n",
       " 'total_data;1',\n",
       " 'total_background;1',\n",
       " 'overall_total_covar;1']"
      ]
     },
     "execution_count": 66,
     "metadata": {},
     "output_type": "execute_result"
    }
   ],
   "source": [
    "fd['shapes_fit_b'].keys()"
   ]
  },
  {
   "cell_type": "code",
   "execution_count": 81,
   "id": "41b15aad",
   "metadata": {
    "scrolled": false
   },
   "outputs": [
    {
     "data": {
      "text/plain": [
       "array([[3911.0170671 ,   51.58818935,  348.55889643, ...,    0.        ,\n",
       "           0.        ,    0.        ],\n",
       "       [  51.58818935,    6.62431382,    8.21204646, ...,    0.        ,\n",
       "           0.        ,    0.        ],\n",
       "       [ 348.55889643,    8.21204646,  140.11728585, ...,    0.        ,\n",
       "           0.        ,    0.        ],\n",
       "       ...,\n",
       "       [   0.        ,    0.        ,    0.        , ...,    0.        ,\n",
       "           0.        ,    0.        ],\n",
       "       [   0.        ,    0.        ,    0.        , ...,    0.        ,\n",
       "           0.        ,    0.        ],\n",
       "       [   0.        ,    0.        ,    0.        , ...,    0.        ,\n",
       "           0.        ,    0.        ]])"
      ]
     },
     "execution_count": 81,
     "metadata": {},
     "output_type": "execute_result"
    }
   ],
   "source": [
    "covar = fd['shapes_fit_b']['overall_total_covar']\n",
    "covar.values()"
   ]
  },
  {
   "cell_type": "code",
   "execution_count": 96,
   "id": "959c5ea8",
   "metadata": {},
   "outputs": [
    {
     "data": {
      "text/plain": [
       "54"
      ]
     },
     "execution_count": 96,
     "metadata": {},
     "output_type": "execute_result"
    }
   ],
   "source": [
    "covar.axes[0].labels().index('dc_ttCR_2')"
   ]
  },
  {
   "cell_type": "code",
   "execution_count": 90,
   "id": "c79f5de7",
   "metadata": {},
   "outputs": [
    {
     "data": {
      "text/plain": [
       "(104, 104)"
      ]
     },
     "execution_count": 90,
     "metadata": {},
     "output_type": "execute_result"
    }
   ],
   "source": [
    "np.shape(covar.values())"
   ]
  },
  {
   "cell_type": "code",
   "execution_count": 94,
   "id": "11df2428",
   "metadata": {},
   "outputs": [],
   "source": [
    "# need to get the relevant bins"
   ]
  },
  {
   "cell_type": "code",
   "execution_count": 95,
   "id": "ea497f2e",
   "metadata": {},
   "outputs": [
    {
     "data": {
      "text/plain": [
       "True"
      ]
     },
     "execution_count": 95,
     "metadata": {},
     "output_type": "execute_result"
    }
   ],
   "source": [
    "covar.axes[0].labels() == covar.axes[1].labels()"
   ]
  },
  {
   "cell_type": "code",
   "execution_count": 116,
   "id": "3bedef6c",
   "metadata": {},
   "outputs": [
    {
     "data": {
      "text/plain": [
       "55"
      ]
     },
     "execution_count": 116,
     "metadata": {},
     "output_type": "execute_result"
    }
   ],
   "source": [
    "covar.axes[0].labels().index('dc_ttCR_3')  ## this should not exist"
   ]
  },
  {
   "cell_type": "code",
   "execution_count": 117,
   "id": "77b1ce78",
   "metadata": {},
   "outputs": [
    {
     "data": {
      "text/plain": [
       "array([0., 0., 0., 0., 0., 0., 0., 0., 0., 0., 0., 0., 0., 0., 0., 0., 0.,\n",
       "       0., 0., 0., 0., 0., 0., 0., 0., 0., 0., 0., 0., 0., 0., 0., 0., 0.,\n",
       "       0., 0., 0., 0., 0., 0., 0., 0., 0., 0., 0., 0., 0., 0., 0., 0., 0.,\n",
       "       0., 0., 0., 0., 0., 0., 0., 0., 0., 0., 0., 0., 0., 0., 0., 0., 0.,\n",
       "       0., 0., 0., 0., 0., 0., 0., 0., 0., 0., 0., 0., 0., 0., 0., 0., 0.,\n",
       "       0., 0., 0., 0., 0., 0., 0., 0., 0., 0., 0., 0., 0., 0., 0., 0., 0.,\n",
       "       0., 0.])"
      ]
     },
     "execution_count": 117,
     "metadata": {},
     "output_type": "execute_result"
    }
   ],
   "source": [
    "## therefore all these entries should be 0!\n",
    "\n",
    "covar.values()[55]  "
   ]
  },
  {
   "cell_type": "code",
   "execution_count": 212,
   "id": "ad0a60b9",
   "metadata": {},
   "outputs": [
    {
     "data": {
      "text/plain": [
       "['dc_ttCR_0',\n",
       " 'dc_ttCR_1',\n",
       " 'dc_ttZCR_0',\n",
       " 'dc_ttZCR_1',\n",
       " 'dc_ttZCR_2',\n",
       " 'dc_ttZCR_3',\n",
       " 'dc_ttZCR_4',\n",
       " 'dc_DYCR_0',\n",
       " 'dc_DYCR_1',\n",
       " 'dc_DYCR_2',\n",
       " 'dc_DYCR_3',\n",
       " 'dc_DYCR_4',\n",
       " 'dc_DYCR_5',\n",
       " 'dc_DYCR_6',\n",
       " 'dc_DYCR_7',\n",
       " 'dc_DYCR_8',\n",
       " 'dc_DYCR_9',\n",
       " 'dc_DYCR_10',\n",
       " 'dc_DYCR_11',\n",
       " 'dc_DYCR_12',\n",
       " 'dc_SR_0',\n",
       " 'dc_SR_1',\n",
       " 'dc_SR_2',\n",
       " 'dc_SR_3',\n",
       " 'dc_SR_4',\n",
       " 'dc_SR_5',\n",
       " 'dc_SR_6',\n",
       " 'dc_SR_7',\n",
       " 'dc_SR_8',\n",
       " 'dc_SR_9',\n",
       " 'dc_SR_10',\n",
       " 'dc_SR_11',\n",
       " 'dc_SR_12',\n",
       " 'dc_SR_13',\n",
       " 'dc_SR_14',\n",
       " 'dc_SR_15',\n",
       " 'dc_SR_16',\n",
       " 'dc_SR_17',\n",
       " 'dc_SR_18',\n",
       " 'dc_SR_19',\n",
       " 'dc_SR_20',\n",
       " 'dc_SR_21',\n",
       " 'dc_SR_22',\n",
       " 'dc_SR_23',\n",
       " 'dc_SR_24',\n",
       " 'dc_SR_25']"
      ]
     },
     "execution_count": 212,
     "metadata": {},
     "output_type": "execute_result"
    }
   ],
   "source": [
    "region_names = []\n",
    "for reg in regions:\n",
    "    for i in range(regions[reg][1]-regions[reg][0]):\n",
    "        region_names.append(f'dc_{reg}_{i}')\n",
    "region_names"
   ]
  },
  {
   "cell_type": "code",
   "execution_count": 140,
   "id": "f3b7f4f0",
   "metadata": {},
   "outputs": [],
   "source": [
    "indices = [covar.axes[0].labels().index(n) for n in region_names]"
   ]
  },
  {
   "cell_type": "code",
   "execution_count": 147,
   "id": "9924c454",
   "metadata": {},
   "outputs": [],
   "source": [
    "# get the full rank covariance matrix\n",
    "cov_matrix = covar.values()[np.expand_dims(indices, axis=1), indices]"
   ]
  },
  {
   "cell_type": "code",
   "execution_count": 152,
   "id": "b48b488f",
   "metadata": {},
   "outputs": [
    {
     "data": {
      "text/plain": [
       "0.43338187517058174"
      ]
     },
     "execution_count": 152,
     "metadata": {},
     "output_type": "execute_result"
    }
   ],
   "source": [
    "np.sqrt(cov_matrix[45,45])"
   ]
  },
  {
   "cell_type": "code",
   "execution_count": 148,
   "id": "3ea278cd",
   "metadata": {},
   "outputs": [
    {
     "data": {
      "text/plain": [
       "Text(0.5, 1.0, 'Correlation Matrix')"
      ]
     },
     "execution_count": 148,
     "metadata": {},
     "output_type": "execute_result"
    },
    {
     "data": {
      "image/png": "[encoded data removed]",
      "text/plain": [
       "<Figure size 720x720 with 2 Axes>"
      ]
     },
     "metadata": {
      "needs_background": "light"
     },
     "output_type": "display_data"
    }
   ],
   "source": [
    "fig, ax = plt.subplots(1,1,figsize=(10,10))\n",
    "    \n",
    "im = ax.matshow(cov_matrix)\n",
    "#ax.set_xticks(range(df.select_dtypes(['number']).shape[1]))\n",
    "#ax.set_xticklabels(df.select_dtypes(['number']).columns, rotation=90, fontdict={'fontsize':12})\n",
    "#ax.set_yticks(range(df.select_dtypes(['number']).shape[1]))\n",
    "#ax.set_yticklabels(df.select_dtypes(['number']).columns, fontdict={'fontsize':12})\n",
    "cbar = ax.figure.colorbar(im)\n",
    "cbar.ax.tick_params(labelsize=12)\n",
    "\n",
    "ax.set_title('Correlation Matrix', fontsize=16)"
   ]
  },
  {
   "cell_type": "markdown",
   "id": "48e27366",
   "metadata": {},
   "source": [
    "## Sanity check with the 1D histogram"
   ]
  },
  {
   "cell_type": "code",
   "execution_count": 156,
   "id": "17d1388d",
   "metadata": {},
   "outputs": [
    {
     "data": {
      "text/plain": [
       "array([1.35574797e+05, 1.64326297e+05, 6.50487061e+01, 2.91169312e+02,\n",
       "       1.10106552e+02, 2.35720413e+02, 1.72757645e+02, 1.99114624e+03,\n",
       "       3.17832203e+01, 2.49126526e+02, 5.95659485e+01, 1.03005629e+01,\n",
       "       2.28923912e+01, 6.74447815e+02, 4.13922615e+01, 1.58224518e+02,\n",
       "       8.48528137e+01, 1.02432842e+01, 7.03227539e+01, 1.47550110e+02,\n",
       "       8.24923889e+02, 9.46343262e+02, 3.24726791e+01, 4.25383720e+01,\n",
       "       4.08926544e+02, 4.89057983e+02, 4.48985596e+01, 5.97176933e+01,\n",
       "       8.24878407e+00, 9.14620018e+00, 6.90550709e+00, 9.35948086e+00,\n",
       "       8.43102360e+00, 6.11920643e+00, 1.46606910e+00, 1.87860858e+00,\n",
       "       1.21974077e+01, 7.36159754e+00, 6.38772297e+00, 7.01725340e+00,\n",
       "       1.88457978e+00, 1.11502588e+00, 7.00537586e+00, 5.88611174e+00,\n",
       "       2.22859430e+00, 1.78701842e+00])"
      ]
     },
     "execution_count": 156,
     "metadata": {},
     "output_type": "execute_result"
    }
   ],
   "source": [
    "fd['shapes_fit_b']['total_background'].values()[indices]"
   ]
  },
  {
   "cell_type": "code",
   "execution_count": 157,
   "id": "0e13d3e4",
   "metadata": {},
   "outputs": [
    {
     "data": {
      "text/plain": [
       "array([9.20017478e+02, 1.14655142e+03, 2.58267957e+00, 9.40482080e+00,\n",
       "       4.35591050e+00, 8.31881867e+00, 6.59783382e+00, 6.25381284e+01,\n",
       "       2.57377426e+00, 1.18371147e+01, 4.55274213e+00, 1.20788583e+00,\n",
       "       2.33145263e+00, 2.52741871e+01, 2.96238277e+00, 6.10900414e+00,\n",
       "       5.28193159e+00, 1.10924085e+00, 5.00694123e+00, 8.08401351e+00,\n",
       "       9.39748204e+01, 1.08695653e+02, 5.11936809e+00, 6.36519390e+00,\n",
       "       5.05920155e+01, 6.04695895e+01, 6.75333360e+00, 8.96759983e+00,\n",
       "       1.60777786e+00, 1.83689528e+00, 1.09788299e+00, 1.58458137e+00,\n",
       "       1.71826023e+00, 1.78602772e+00, 2.77349905e-01, 6.60751771e-01,\n",
       "       2.35728760e+00, 1.61913747e+00, 9.85895481e-01, 1.38789750e+00,\n",
       "       3.66376161e-01, 2.58173178e-01, 1.16439973e+00, 9.99655702e-01,\n",
       "       6.09365359e-01, 4.33381912e-01])"
      ]
     },
     "execution_count": 157,
     "metadata": {},
     "output_type": "execute_result"
    }
   ],
   "source": [
    "fd['shapes_fit_b']['total_background'].errors()[indices]"
   ]
  },
  {
   "cell_type": "code",
   "execution_count": 159,
   "id": "848608bd",
   "metadata": {},
   "outputs": [
    {
     "data": {
      "text/plain": [
       "array([9.20017483e+02, 1.14655146e+03, 2.58267939e+00, 9.40482116e+00,\n",
       "       4.35591025e+00, 8.31881898e+00, 6.59783388e+00, 6.25381249e+01,\n",
       "       2.57377424e+00, 1.18371148e+01, 4.55274189e+00, 1.20788571e+00,\n",
       "       2.33145275e+00, 2.52741897e+01, 2.96238209e+00, 6.10900459e+00,\n",
       "       5.28193209e+00, 1.10924091e+00, 5.00694101e+00, 8.08401450e+00,\n",
       "       9.39748254e+01, 1.08695663e+02, 5.11936872e+00, 6.36519400e+00,\n",
       "       5.05920192e+01, 6.04695920e+01, 6.75333366e+00, 8.96759995e+00,\n",
       "       1.60777793e+00, 1.83689522e+00, 1.09788311e+00, 1.58458148e+00,\n",
       "       1.71826025e+00, 1.78602791e+00, 2.77349953e-01, 6.60751657e-01,\n",
       "       2.35728739e+00, 1.61913763e+00, 9.85895394e-01, 1.38789773e+00,\n",
       "       3.66376108e-01, 2.58173177e-01, 1.16439981e+00, 9.99655711e-01,\n",
       "       6.09365373e-01, 4.33381875e-01])"
      ]
     },
     "execution_count": 159,
     "metadata": {},
     "output_type": "execute_result"
    }
   ],
   "source": [
    "np.sqrt(cov_matrix.diagonal())"
   ]
  },
  {
   "cell_type": "code",
   "execution_count": 162,
   "id": "110e2746",
   "metadata": {},
   "outputs": [
    {
     "data": {
      "text/plain": [
       "array([0.27343037, 0.24251674])"
      ]
     },
     "execution_count": 162,
     "metadata": {},
     "output_type": "execute_result"
    }
   ],
   "source": [
    "np.sqrt(cov_matrix.diagonal())[44:]/fd['shapes_fit_b']['total_background'].values()[indices][44:]"
   ]
  },
  {
   "cell_type": "code",
   "execution_count": 166,
   "id": "717294d4",
   "metadata": {},
   "outputs": [
    {
     "data": {
      "text/plain": [
       "array([824.92388916, 946.34326172,  32.47267914,  42.53837204,\n",
       "       408.92654419, 489.0579834 ,  44.89855957,  59.71769333,\n",
       "         8.24878407,   9.14620018,   6.90550709,   9.35948086,\n",
       "         8.4310236 ,   6.11920643,   1.4660691 ,   1.87860858,\n",
       "        12.19740772,   7.36159754,   6.38772297,   7.0172534 ,\n",
       "         1.88457978,   1.11502588,   7.00537586,   5.88611174,\n",
       "         2.2285943 ,   1.78701842])"
      ]
     },
     "execution_count": 166,
     "metadata": {},
     "output_type": "execute_result"
    }
   ],
   "source": [
    "fd['shapes_fit_b']['total_background'].values()[indices][20:46]"
   ]
  },
  {
   "cell_type": "code",
   "execution_count": 167,
   "id": "bf2bd083",
   "metadata": {},
   "outputs": [
    {
     "data": {
      "text/plain": [
       "array([770.25500488, 885.11199951,  28.22800064,  37.04999542,\n",
       "       373.22399902, 447.1449585 ,  38.9849968 ,  51.96099472,\n",
       "         7.09900045,   7.81699991,   6.06400013,   8.04400063,\n",
       "         7.35099983,   5.30300045,   1.24199998,   1.579     ,\n",
       "        10.17300034,   6.28099966,   5.18900013,   5.96399975,\n",
       "         1.61800003,   0.95700002,   5.87199974,   4.89700031,\n",
       "         1.97599995,   1.5480001 ])"
      ]
     },
     "execution_count": 167,
     "metadata": {},
     "output_type": "execute_result"
    }
   ],
   "source": [
    "fd['shapes_prefit']['total_background'].values()[indices][20:46]"
   ]
  },
  {
   "cell_type": "markdown",
   "id": "32030fd0",
   "metadata": {},
   "source": [
    "# Export"
   ]
  },
  {
   "cell_type": "code",
   "execution_count": 175,
   "id": "d0b7903b",
   "metadata": {},
   "outputs": [],
   "source": [
    "import copy"
   ]
  },
  {
   "cell_type": "code",
   "execution_count": 218,
   "id": "c1f82486",
   "metadata": {},
   "outputs": [],
   "source": [
    "template_2D = {\n",
    "    'independent_variables': [\n",
    "        {\n",
    "            'header': {\"name\": \"x-axis\", \"units\": \"-\"},\n",
    "            'values': [],\n",
    "        },\n",
    "        {\n",
    "            'header': {\"name\": \"y-axis\", \"units\": \"-\"},\n",
    "            'values': [],\n",
    "        },],\n",
    "    'dependent_variables': [\n",
    "        {\n",
    "            'header': {\"name\": \"covariance\", \"units\": \"-\"},\n",
    "            'values': [],\n",
    "        }\n",
    "\n",
    "    ]\n",
    "}\n",
    "\n",
    "template_1D = {\n",
    "    'independent_variables': [\n",
    "        {\n",
    "            'header': {\"name\": \"x-axis\", \"units\": \"GeV\"},\n",
    "            'values': [],\n",
    "        },\n",
    "        ],\n",
    "    'dependent_variables': [\n",
    "        {\n",
    "            'header': {\"name\": \"actual values\", \"units\": \"GeV\"},\n",
    "            'values': [],\n",
    "        }\n",
    "\n",
    "    ]\n",
    "}"
   ]
  },
  {
   "cell_type": "code",
   "execution_count": 203,
   "id": "40b6e29b",
   "metadata": {},
   "outputs": [],
   "source": [
    "X, Y = np.meshgrid(range(46), range(46))"
   ]
  },
  {
   "cell_type": "code",
   "execution_count": 204,
   "id": "d0e24b41",
   "metadata": {},
   "outputs": [
    {
     "data": {
      "text/plain": [
       "array([8.46432168e+05, 9.33664313e+05, 3.74595078e+01, ...,\n",
       "       2.26363525e-01, 1.21632857e-01, 1.87819850e-01])"
      ]
     },
     "execution_count": 204,
     "metadata": {},
     "output_type": "execute_result"
    }
   ],
   "source": [
    "cov_matrix.flatten()"
   ]
  },
  {
   "cell_type": "code",
   "execution_count": 205,
   "id": "64a77423",
   "metadata": {},
   "outputs": [],
   "source": [
    "cov_hepdata = copy.deepcopy(template_2D)"
   ]
  },
  {
   "cell_type": "code",
   "execution_count": 214,
   "id": "8d92be47",
   "metadata": {},
   "outputs": [],
   "source": [
    "nice_names = ['TT_CR_SF',\n",
    " 'TT_CR_DF',\n",
    " 'TTZ_2j2b',\n",
    " 'TTZ_3j1b',\n",
    " 'TTZ_3j2b',\n",
    " 'TTZ_4j1b',\n",
    " 'TTZ_4j2b',\n",
    " 'CR0',\n",
    " 'CR1',\n",
    " 'CR2',\n",
    " 'CR3',\n",
    " 'CR4',\n",
    " 'CR5',\n",
    " 'CR6',\n",
    " 'CR7',\n",
    " 'CR8',\n",
    " 'CR9',\n",
    " 'CR10',\n",
    " 'CR11',\n",
    " 'CR12',\n",
    " 'SR0_SF',\n",
    " 'SR0_DF',\n",
    " 'SR1_SF',\n",
    " 'SR1_DF',\n",
    " 'SR2_SF',\n",
    " 'SR2_DF',\n",
    " 'SR3_SF',\n",
    " 'SR3_DF',\n",
    " 'SR4_SF',\n",
    " 'SR4_DF',\n",
    " 'SR5_SF',\n",
    " 'SR5_DF',\n",
    " 'SR6_SF',\n",
    " 'SR6_DF',\n",
    " 'SR7_SF',\n",
    " 'SR7_DF',\n",
    " 'SR8_SF',\n",
    " 'SR8_DF',\n",
    " 'SR9_SF',\n",
    " 'SR9_DF',\n",
    " 'SR10_SF',\n",
    " 'SR10_DF',\n",
    " 'SR11_SF',\n",
    " 'SR11_DF',\n",
    " 'SR12_SF',\n",
    " 'SR12_DF',\n",
    " ]\n"
   ]
  },
  {
   "cell_type": "code",
   "execution_count": 215,
   "id": "1d37b33f",
   "metadata": {},
   "outputs": [],
   "source": [
    "cov_hepdata['independent_variables'][0]['values'] = [ {'value': nice_names[x]} for x in X.flatten() ]\n",
    "cov_hepdata['independent_variables'][1]['values'] = [ {'value': nice_names[x]} for x in Y.flatten() ]\n",
    "cov_hepdata['dependent_variables'][0]['values'] = [ {'value': round(float(x),2)} for x in cov_matrix.flatten() ]"
   ]
  },
  {
   "cell_type": "code",
   "execution_count": 221,
   "id": "bc79132d",
   "metadata": {},
   "outputs": [],
   "source": [
    "from yaml import load, dump\n",
    "\n",
    "try:\n",
    "    from yaml import CLoader as Loader, CDumper as Dumper\n",
    "except ImportError:\n",
    "    from yaml import Loader, Dumper\n",
    "\n",
    "f_out = 'covariance.yaml'\n",
    "with open(f_out, 'w') as f:\n",
    "    dump(cov_hepdata, f, Dumper=Dumper)"
   ]
  },
  {
   "cell_type": "code",
   "execution_count": 222,
   "id": "04c92241",
   "metadata": {},
   "outputs": [
    {
     "data": {
      "text/plain": [
       "list"
      ]
     },
     "execution_count": 222,
     "metadata": {},
     "output_type": "execute_result"
    }
   ],
   "source": [
    "type(list(cov_matrix.flatten()))"
   ]
  },
  {
   "cell_type": "code",
   "execution_count": 227,
   "id": "6bd0d954",
   "metadata": {},
   "outputs": [],
   "source": [
    "prefit_hepdata = copy.deepcopy(template_1D)\n",
    "\n",
    "prefit_hepdata['independent_variables'][0]['values'] = [{'value': n} for n in nice_names]\n",
    "\n",
    "val_tuple = zip(\n",
    "    fd['shapes_prefit']['total_background'].values()[indices],\n",
    "    fd['shapes_prefit']['total_background'].errors()[indices],\n",
    ")\n",
    "\n",
    "prefit_hepdata['dependent_variables'][0]['values'] = [ {'value': round(float(x),2), 'errors': [{'symerror':round(float(y),2)}]} for x,y in val_tuple]\n",
    "\n",
    "f_out = 'prefit.yaml'\n",
    "with open(f_out, 'w') as f:\n",
    "    dump(prefit_hepdata, f, Dumper=Dumper)"
   ]
  },
  {
   "cell_type": "code",
   "execution_count": 228,
   "id": "c623d939",
   "metadata": {},
   "outputs": [],
   "source": [
    "postfit_hepdata = copy.deepcopy(template_1D)\n",
    "\n",
    "postfit_hepdata['independent_variables'][0]['values'] = [{'value': n} for n in nice_names]\n",
    "\n",
    "val_tuple = zip(\n",
    "    fd['shapes_fit_b']['total_background'].values()[indices],\n",
    "    fd['shapes_fit_b']['total_background'].errors()[indices],\n",
    ")\n",
    "\n",
    "postfit_hepdata['dependent_variables'][0]['values'] = [ {'value': round(x,2), 'errors': [{'symerror': round(y,2)}]} for x,y in val_tuple]\n",
    "\n",
    "f_out = 'postfit.yaml'\n",
    "with open(f_out, 'w') as f:\n",
    "    dump(postfit_hepdata, f, Dumper=Dumper)"
   ]
  },
  {
   "cell_type": "code",
   "execution_count": null,
   "id": "1f0eb86a",
   "metadata": {},
   "outputs": [],
   "source": []
  }
 ],
 "metadata": {
  "kernelspec": {
   "display_name": "Python 3 (ipykernel)",
   "language": "python",
   "name": "python3"
  },
  "language_info": {
   "codemirror_mode": {
    "name": "ipython",
    "version": 3
   },
   "file_extension": ".py",
   "mimetype": "text/x-python",
   "name": "python",
   "nbconvert_exporter": "python",
   "pygments_lexer": "ipython3",
   "version": "3.9.7"
  }
 },
 "nbformat": 4,
 "nbformat_minor": 5
}
