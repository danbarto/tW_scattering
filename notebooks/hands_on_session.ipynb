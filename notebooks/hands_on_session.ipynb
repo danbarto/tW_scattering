{
 "cells": [
  {
   "cell_type": "markdown",
   "metadata": {},
   "source": [
    "# Physics analysis with uproot (and some coffea)\n",
    "\n",
    "\n",
    "## What we are trying to do\n",
    "\n",
    "This session will be rather similar to the tutorial notebook that's already available, but I want to focus a bit more on how to use our physics knowledge to implement useful variables, and verify that we're actually calculating something useful.\n",
    "\n",
    "You can run this notebook in jupyter yourself, or also use ipython instead. If you use a ssh session with X11 forwarding, you'll also see the plots.\n",
    "\n",
    "\n",
    "## What you should take home from this session\n",
    "\n",
    "- Explore data in a jupyter notebook (or ipython session).\n",
    "- Filter data, calculate variables\n",
    "- Verify your selections and variables qualitatively and quantitatively\n",
    "\n",
    "## The physics case\n",
    "\n",
    "Consider that we want to find top quark pair production with an associated W boson (ttW) in events with 3 leptons. In this case, all the involved W bosons will decay leptonically. If one swaps the associated W boson with a Z boson (ttZ) a similar final state is also present.\n",
    "\n",
    "The production cross sections of the two processes are of the same order (0.6pb vs 1.0pb), however, because of the different branching fractions the ttZ process will usually be dominant in the 3l final state.\n",
    "\n",
    "The leptonic Z boson decay from ttZ gives us a handle to distinguish the two processes. If we succeed in identifying $Z \\rightarrow \\ell \\ell$ events, we can reject those events and end up with a event sample that's enriched in ttW.\n",
    "\n",
    "![](https://cds.cern.ch/record/2264544/files/Figure_001-a.pdf)\n",
    "\n",
    "![](http://cds.cern.ch/record/2264544/files/Figure_001-b.pdf)\n",
    "\n",
    "\n",
    "- Find lepton pairs with the same flavor and opposite charge\n",
    "- Calculate their invariant mass\n",
    "- Find lepton pairs that have an invariant mass that's compatible with the Z boson mass, e.g. |m(ll)-m(Z)|<10 GeV\n",
    "- Last but not least, make sure the variable we calculate makes sense and the implementation is bug free\n",
    "\n",
    "\n"
   ]
  },
  {
   "cell_type": "markdown",
   "metadata": {},
   "source": [
    "## Load modules and files\n",
    "\n"
   ]
  },
  {
   "cell_type": "code",
   "execution_count": null,
   "metadata": {},
   "outputs": [],
   "source": [
    "import uproot4\n",
    "import numpy as np\n",
    "from uproot_methods import TLorentzVectorArray\n",
    "\n",
    "from coffea.processor import LazyDataFrame\n",
    "from coffea.analysis_objects import JaggedCandidateArray"
   ]
  },
  {
   "cell_type": "markdown",
   "metadata": {},
   "source": [
    "To start some expolartion we can just use a single root file of a sample that represents a process we're interested in. Because we want to reconstruct leptonic Z decays and eventually want to reject ttZ events we load a file from a ttZ sample to start this session."
   ]
  },
  {
   "cell_type": "code",
   "execution_count": null,
   "metadata": {},
   "outputs": [],
   "source": [
    "fn_ttZ = '/hadoop/cms/store/user/dspitzba/nanoAOD/ttw_samples/0p1p11/TTZToLLNuNu_M-10_TuneCP5_13TeV-amcatnlo-pythia8_RunIIAutumn18NanoAODv6-Nano25Oct2019_102X_upgrade2018_realistic_v20_ext1-v1/nanoSkim_1.root'\n",
    "fn_ttW = '/hadoop/cms/store/user/dspitzba/nanoAOD/ttw_samples/0p1p11/TTWJetsToLNu_TuneCP5_13TeV-amcatnloFXFX-madspin-pythia8_RunIIAutumn18NanoAODv6-Nano25Oct2019_102X_upgrade2018_realistic_v20_ext1-v1/nanoSkim_1.root'\n",
    "\n",
    "file = uproot4.open(fn_ttZ)\n",
    "\n",
    "tree = file['Events']\n",
    "\n",
    "df = LazyDataFrame(tree, flatten=False)"
   ]
  },
  {
   "cell_type": "code",
   "execution_count": null,
   "metadata": {},
   "outputs": [],
   "source": [
    "df['MET_pt']"
   ]
  },
  {
   "cell_type": "markdown",
   "metadata": {},
   "source": [
    "## Get physics objects\n",
    "\n",
    "Tau leptons are very special (and dificult). Therefore we'll focus on electrons and muons in this analysis. We can get muon and electron candidate arrays using `JaggedCandidateArray.candidatesfromcounts`.\n"
   ]
  },
  {
   "cell_type": "code",
   "execution_count": null,
   "metadata": {},
   "outputs": [],
   "source": [
    "muon = JaggedCandidateArray.candidatesfromcounts(\n",
    "    # The first part is essential: number of muons, and kinematic properties\n",
    "    df['nMuon'],\n",
    "    pt = df['Muon_pt'].content,\n",
    "    eta = df['Muon_eta'].content,\n",
    "    phi = df['Muon_phi'].content,\n",
    "    mass = df['Muon_mass'].content,\n",
    "    # all below is optional\n",
    "    mediumId = df['Muon_mediumId'].content,\n",
    "    miniPFRelIso_all = df['Muon_miniPFRelIso_all'].content,\n",
    "    charge = df['Muon_charge'].content,\n",
    ")"
   ]
  },
  {
   "cell_type": "code",
   "execution_count": null,
   "metadata": {},
   "outputs": [],
   "source": [
    "electron = JaggedCandidateArray.candidatesfromcounts(\n",
    "    # The first part is essential: number of electrons, and kinematic properties\n",
    "    df['nElectron'],\n",
    "    pt=df['Electron_pt'].content,\n",
    "    eta=df['Electron_eta'].content,\n",
    "    phi=df['Electron_phi'].content,\n",
    "    mass=df['Electron_mass'].content,\n",
    "    # all below is optional\n",
    "    cutBased=df['Electron_cutBased'].content,\n",
    "    miniPFRelIso_all=df['Electron_miniPFRelIso_all'].content,\n",
    "    charge=df['Electron_charge'].content,\n",
    ")"
   ]
  },
  {
   "cell_type": "markdown",
   "metadata": {},
   "source": [
    "We can look at the properties of the muons, e.g. the transverse momentum, eta, medium ID etc.\n",
    "\n",
    "We can already see the structure of the muons: they are of a JaggedArray type, which means muons from every event are contained in a sub-array. The structure is jagged because you can have any number of muons. If there's no muon in the event, the array is empty.   \n"
   ]
  },
  {
   "cell_type": "code",
   "execution_count": null,
   "metadata": {},
   "outputs": [],
   "source": [
    "muon.mediumId"
   ]
  },
  {
   "cell_type": "markdown",
   "metadata": {},
   "source": [
    "This means that the length of the electron and muon array should be the same - the number of events is the same."
   ]
  },
  {
   "cell_type": "code",
   "execution_count": null,
   "metadata": {},
   "outputs": [],
   "source": [
    "print (\"Is the number of events the same?\", len(muon) == len(electron))\n",
    "print (\"Is the number of electrons and muons the same?\", muon.counts.sum() == electron.counts.sum())"
   ]
  },
  {
   "cell_type": "markdown",
   "metadata": {},
   "source": [
    "The number of muons and electrons per event is of course not the same, and we can look at the number of muons or electrons with"
   ]
  },
  {
   "cell_type": "code",
   "execution_count": null,
   "metadata": {},
   "outputs": [],
   "source": [
    "muon.counts"
   ]
  },
  {
   "cell_type": "markdown",
   "metadata": {},
   "source": [
    "Noticed the change of format from JaggedArray to array? Why?"
   ]
  },
  {
   "cell_type": "markdown",
   "metadata": {},
   "source": [
    "Because some of our electrons and muons are wrongly reconstructed, we impose some requirements on them:"
   ]
  },
  {
   "cell_type": "code",
   "execution_count": null,
   "metadata": {},
   "outputs": [],
   "source": [
    "muon = muon[\n",
    "    (muon.pt>10) & \n",
    "    (abs(muon.eta)<2.4) & \n",
    "    (muon.mediumId) & \n",
    "    (muon.miniPFRelIso_all<0.2) \n",
    "]\n",
    "\n",
    "electron = electron[\n",
    "    (electron.pt>10) & \n",
    "    (abs(electron.eta)<2.4) & \n",
    "    (electron.cutBased>=3) & \n",
    "    (electron.miniPFRelIso_all<0.1) \n",
    "]"
   ]
  },
  {
   "cell_type": "markdown",
   "metadata": {},
   "source": [
    "Let's check if those requirements actually worked. This is already one of the most important lessons and take aways from this tutorial: Always check if your code makes sense!"
   ]
  },
  {
   "cell_type": "code",
   "execution_count": null,
   "metadata": {},
   "outputs": [],
   "source": [
    "muon.mediumId"
   ]
  },
  {
   "cell_type": "markdown",
   "metadata": {},
   "source": [
    "For today, let's focus on events with three leptons - either electrons or muons. Because in real data we'd rely on a trigger selecting those events we need to make sure that our selected leptons also pass any potential trigger threshold. Lepton triggers usually have a minimum requirement on the transverse momentum, e.g. 30 GeV. Only one of the electrons or muons has to pass that threshold, so we use the .any() function."
   ]
  },
  {
   "cell_type": "code",
   "execution_count": null,
   "metadata": {},
   "outputs": [],
   "source": [
    "baseline = ((electron.counts+muon.counts)==3) & ((electron.pt>30).any() | (muon.pt>30).any())"
   ]
  },
  {
   "cell_type": "markdown",
   "metadata": {},
   "source": [
    "Does this .any() function actually do what we think it does? Let's check!"
   ]
  },
  {
   "cell_type": "code",
   "execution_count": null,
   "metadata": {},
   "outputs": [],
   "source": [
    "electron.pt"
   ]
  },
  {
   "cell_type": "code",
   "execution_count": null,
   "metadata": {},
   "outputs": [],
   "source": [
    "(electron.pt>30).any()"
   ]
  },
  {
   "cell_type": "markdown",
   "metadata": {},
   "source": [
    "Looks pretty good! We do have at least one electron with pT>30 GeV in the first two events, but none in the third.\n",
    "\n",
    "\n",
    "A common mistake would be to just ask for `electron.pt>30` without proper counting. E.g. this would be an alternative approach:"
   ]
  },
  {
   "cell_type": "code",
   "execution_count": null,
   "metadata": {},
   "outputs": [],
   "source": [
    "(electron.pt>30).counts>0"
   ]
  },
  {
   "cell_type": "markdown",
   "metadata": {},
   "source": [
    "NB: Always check the behaviour of a function. I've also seen sth like"
   ]
  },
  {
   "cell_type": "code",
   "execution_count": null,
   "metadata": {},
   "outputs": [],
   "source": [
    "electron[electron>1] # don't try this at home!"
   ]
  },
  {
   "cell_type": "markdown",
   "metadata": {},
   "source": [
    "This clearly does not select the number of electrons, as one might have thought. Let's apply the baseline selection we defined above, and just work with events that pass our requirements from here on."
   ]
  },
  {
   "cell_type": "code",
   "execution_count": null,
   "metadata": {},
   "outputs": [],
   "source": [
    "muon = muon[baseline]\n",
    "electron = electron[baseline]"
   ]
  },
  {
   "cell_type": "markdown",
   "metadata": {},
   "source": [
    "## Constructing dileptons\n",
    "\n",
    "`JaggedCandidateArray` has some nice functionality to get pairs (or triplets etc) of different kinds of objects. We can use `.choose(2)` to get any combination of two muons or electrons.\n",
    "\n",
    "If one wants to get combinations of e.g. electrons and muons one can use the `.cross()` method like `electron.cross(muon)`.\n",
    "\n",
    "Because Z bosons decay into leptons of same flavor and opposite signed charge (OS) we only select those dimuons of dielectrons with a charge product that is smaller than 0.\n"
   ]
  },
  {
   "cell_type": "code",
   "execution_count": null,
   "metadata": {},
   "outputs": [],
   "source": [
    "dimuon = muon.choose(2)\n",
    "OS_dimuon = dimuon[(dimuon.i0.charge*dimuon.i1.charge < 0)]\n",
    "\n",
    "dielectron = electron.choose(2)\n",
    "OS_dielectron = dielectron[(dielectron.i0.charge*dielectron.i1.charge < 0)]"
   ]
  },
  {
   "cell_type": "markdown",
   "metadata": {},
   "source": [
    "We can calculate an invariant mass of these dileptons. Notice the empty arrays for events where no opposite sign dimuon is found in the event!"
   ]
  },
  {
   "cell_type": "code",
   "execution_count": null,
   "metadata": {},
   "outputs": [],
   "source": [
    "OS_dimuon.mass"
   ]
  },
  {
   "cell_type": "markdown",
   "metadata": {},
   "source": [
    "## Reconstructing Z boson candidates\n",
    "\n",
    "The invariant mass resultion is finite, therefore we allow the dimuon or dielectron mass to be within 10 GeV of the Z boson mass to find a good $Z\\rightarrow \\mu \\mu$ candidate.\n",
    "\n",
    "Then, we calculate how many of our ttZ events with 3 leptons also have a good Z boson candidate per our definitions (or events that are so-called on-Z)."
   ]
  },
  {
   "cell_type": "code",
   "execution_count": null,
   "metadata": {},
   "outputs": [],
   "source": [
    "nEvents_all = len(muon)\n",
    "\n",
    "nEvents_onZmumu = len(muon[(abs(OS_dimuon.mass-91.2)<10).any()])\n",
    "nEvents_onZee = len(electron[(abs(OS_dielectron.mass-91.2)<10).any()])\n",
    "\n",
    "(nEvents_onZmumu+nEvents_onZee)/nEvents_all\n"
   ]
  },
  {
   "cell_type": "markdown",
   "metadata": {},
   "source": [
    "Inversely, we can also get the number of events that have no good Z boson candidate (\"off-Z\"). The total of on-Z and off-Z events should of course be 1, so that's a good way to check that our selections make sense."
   ]
  },
  {
   "cell_type": "code",
   "execution_count": null,
   "metadata": {},
   "outputs": [],
   "source": [
    "nEvents_offZ = len(muon[(abs(OS_dimuon.mass-91.2)>10).all() & (abs(OS_dielectron.mass-91.2)>10).all()])\n",
    "\n",
    "(nEvents_onZmumu + nEvents_onZee + nEvents_offZ)/nEvents_all"
   ]
  },
  {
   "cell_type": "markdown",
   "metadata": {},
   "source": [
    "Why do we not have double counting of events here? Can you think of a case where double counting of events with a $Z \\rightarrow \\mu \\mu$ and $Z \\rightarrow e e$ candidate might become an issue?\n",
    "\n",
    "Noticed the `.all()` function here? In contrast to `.any()` which requires at least one of the dileptons to be close to the Z mass, our `.all()` requirement forces all dimuon or dielectron candidates in an event to be at least 10 GeV away from the Z boson mass. \n",
    "\n",
    "Below we ask for the \"best\" Z candidate: if we have 3 muons, we will find two OS dimuons, but one of the pairs will have a mass that's closer to the Z boson. We can find the `OS_dimuon` that has the closest mass with the `argmin()` method."
   ]
  },
  {
   "cell_type": "code",
   "execution_count": null,
   "metadata": {},
   "outputs": [],
   "source": [
    "OS_dimuon_bestZmumu = OS_dimuon[abs(OS_dimuon.mass-91.2).argmin()]\n",
    "OS_dielectron_bestZee = OS_dielectron[abs(OS_dielectron.mass-91.2).argmin()]"
   ]
  },
  {
   "cell_type": "markdown",
   "metadata": {},
   "source": [
    "`argmin()` returns the index to the dimuon pair that is our best Z candidate. As an example, we can look at events with 3 muons:"
   ]
  },
  {
   "cell_type": "code",
   "execution_count": null,
   "metadata": {},
   "outputs": [],
   "source": [
    "OS_dimuon[muon.counts==3].mass"
   ]
  },
  {
   "cell_type": "code",
   "execution_count": null,
   "metadata": {},
   "outputs": [],
   "source": [
    "abs(OS_dimuon[muon.counts==3].mass-91.2).argmin()"
   ]
  },
  {
   "cell_type": "markdown",
   "metadata": {},
   "source": [
    "`argmin` and `argmax` are very useful methods, e.g. if you want to get the transverse momentum of the muon with highest eta: `muon[abs(muon.eta).argmax()].pt`.\n",
    "\n",
    "We can use matplotlib to make histograms of our variables. The `.flatten()` method is needed in order to get a flat array (in contrast to a jagged one)."
   ]
  },
  {
   "cell_type": "code",
   "execution_count": null,
   "metadata": {},
   "outputs": [],
   "source": [
    "%matplotlib inline\n",
    "import matplotlib\n",
    "import matplotlib.pyplot as plt\n",
    "from matplotlib.colors import LogNorm\n",
    "\n",
    "\n",
    "figure=plt.figure(1)\n",
    "plt.hist(\n",
    "    [OS_dimuon_bestZmumu.mass.flatten(), OS_dielectron_bestZee.mass.flatten(), OS_dimuon.mass.flatten(), OS_dielectron.mass.flatten()], \n",
    "    bins=20, \n",
    "    range=[0, 200], \n",
    "    label=[r'$Z \\rightarrow \\mu \\mu$ (best)', r'$Z \\rightarrow e e$ (best)', r'$Z \\rightarrow \\mu \\mu$ (any)', r'$Z \\rightarrow e e$ (any)'], \n",
    "    histtype='step'\n",
    ")\n",
    "\n",
    "plt.xlabel(r'$M_{ll}$ (GeV)')\n",
    "plt.ylabel('Number of candidates')\n",
    "plt.legend()\n",
    "\n",
    "plt.show()\n"
   ]
  },
  {
   "cell_type": "markdown",
   "metadata": {},
   "source": [
    "So, how could we best veto these events? The easiest way is to just force all dilepton candidates to have an invariant mass away from the Z boson mass, like we have done earlier"
   ]
  },
  {
   "cell_type": "code",
   "execution_count": null,
   "metadata": {},
   "outputs": [],
   "source": [
    "(abs(OS_dimuon.mass-91.2)>10).all() & (abs(OS_dielectron.mass-91.2)>10).all()"
   ]
  },
  {
   "cell_type": "code",
   "execution_count": null,
   "metadata": {},
   "outputs": [],
   "source": [
    "abs(OS_dimuon[muon.counts==3].mass-91.2)>10"
   ]
  },
  {
   "cell_type": "code",
   "execution_count": null,
   "metadata": {},
   "outputs": [],
   "source": [
    "(abs(OS_dimuon[muon.counts==3].mass-91.2)>10).all()"
   ]
  },
  {
   "cell_type": "markdown",
   "metadata": {},
   "source": [
    "Let's quickly look at the best Z candidates again. We now have seperate arrays for muons and electrons, but we might want to have them combined, too."
   ]
  },
  {
   "cell_type": "code",
   "execution_count": null,
   "metadata": {},
   "outputs": [],
   "source": [
    "OS_dimuon_bestZmumu.mass"
   ]
  },
  {
   "cell_type": "code",
   "execution_count": null,
   "metadata": {},
   "outputs": [],
   "source": [
    "OS_dielectron_bestZee.mass"
   ]
  },
  {
   "cell_type": "markdown",
   "metadata": {},
   "source": [
    "So, how can we combine two JaggedArrays? It's not exactly straight forward, but it can be done."
   ]
  },
  {
   "cell_type": "code",
   "execution_count": null,
   "metadata": {},
   "outputs": [],
   "source": [
    "from Tools.helpers import mergeArray\n",
    "\n",
    "OS_dilepton_mass = mergeArray(OS_dimuon_bestZmumu.mass, OS_dielectron_bestZee.mass)"
   ]
  },
  {
   "cell_type": "code",
   "execution_count": null,
   "metadata": {},
   "outputs": [],
   "source": [
    "OS_dilepton_mass"
   ]
  },
  {
   "cell_type": "markdown",
   "metadata": {},
   "source": [
    "What does mergeArry do?\n",
    "```\n",
    "def mergeArray(a1, a2):\n",
    "    '''\n",
    "    Merge two arrays into one, e.g. electrons and muons\n",
    "    '''\n",
    "    import awkward\n",
    "    a1_tags = awkward.JaggedArray(a1.starts, a1.stops, np.full(len(a1.content), 0, dtype=np.int64))\n",
    "    a1_index = awkward.JaggedArray(a1.starts, a1.stops, np.arange(len(a1.content), dtype=np.int64))\n",
    "    a2_tags = awkward.JaggedArray(a2.starts, a2.stops, np.full(len(a2.content), 1, dtype=np.int64))\n",
    "    a2_index = awkward.JaggedArray(a2.starts, a2.stops, np.arange(len(a2.content), dtype=np.int64))\n",
    "    tags = awkward.JaggedArray.concatenate([a1_tags, a2_tags], axis=1)\n",
    "    index = awkward.JaggedArray.concatenate([a1_index, a2_index], axis=1)\n",
    "    return awkward.JaggedArray(tags.starts, tags.stops, awkward.UnionArray(tags.content, index.content, [a1.content, a2.content]))\n",
    "```\n"
   ]
  },
  {
   "cell_type": "markdown",
   "metadata": {},
   "source": [
    "Since we have trilepton events and we already chose the *best* Z boson candidate our new JaggedArray, `OS_dilepton_mass`, should not have an event with more than one entry. As a sanity check we can still do"
   ]
  },
  {
   "cell_type": "code",
   "execution_count": null,
   "metadata": {},
   "outputs": [],
   "source": [
    "(OS_dilepton_mass.counts>1).any()"
   ]
  },
  {
   "cell_type": "code",
   "execution_count": null,
   "metadata": {},
   "outputs": [],
   "source": [
    "figure=plt.figure(1)\n",
    "plt.hist(\n",
    "    [OS_dilepton_mass.flatten()], \n",
    "    bins=20, \n",
    "    range=[0, 200], \n",
    "    label=[r'$Z \\rightarrow \\ell \\ell$ (best)'], \n",
    "    histtype='step'\n",
    ")\n",
    "\n",
    "plt.xlabel(r'$M_{ll}$ (GeV)')\n",
    "plt.ylabel('Number of candidates')\n",
    "plt.legend()\n",
    "\n",
    "plt.show()"
   ]
  },
  {
   "cell_type": "markdown",
   "metadata": {},
   "source": [
    "We can also use some coffea tools to make some histograms. The syntax isn't very different, but since we'll use coffea later on to process larger amounts of data, it makes sense to familiarize ourselves with them."
   ]
  },
  {
   "cell_type": "code",
   "execution_count": null,
   "metadata": {},
   "outputs": [],
   "source": [
    "from coffea import hist"
   ]
  },
  {
   "cell_type": "code",
   "execution_count": null,
   "metadata": {},
   "outputs": [],
   "source": [
    "muon_pt = hist.Hist(\"Counts\", hist.Bin(\"pt\", r\"$p_{T} \\ (GeV)$\", 25, 0, 250))\n",
    "muon_pt.fill( pt = muon.pt.flatten() )\n",
    "ax = hist.plot1d(muon_pt, overflow='over')"
   ]
  },
  {
   "cell_type": "markdown",
   "metadata": {},
   "source": [
    "We fill the histogram with `muon.pt.flatten()`. "
   ]
  },
  {
   "cell_type": "markdown",
   "metadata": {},
   "source": [
    "## Coffea processor - larger scale data processing\n",
    "\n",
    "Coffea processors are nice to process larger amounts of data (or even more than just a single file). Once you have an idea of what variables you want to calculate and made sure they work as intended, you can put everything together in a processor.\n",
    "\n",
    "The processor splits up the events into chunks and then either runs sequentially or in parallel on your local CPU or on a cluster. The results (which usually are just plain numbers or histograms) of the different chunks are accumulated and definide at initialization.\n"
   ]
  },
  {
   "cell_type": "code",
   "execution_count": null,
   "metadata": {},
   "outputs": [],
   "source": [
    "from tqdm.auto import tqdm\n",
    "import coffea.processor as processor\n",
    "from coffea.processor.accumulator import AccumulatorABC\n",
    "\n",
    "from Tools.helpers import loadConfig, getCutFlowTable, mergeArray\n",
    "from Tools.objects import Collections\n",
    "from Tools.cutflow import Cutflow\n",
    "\n",
    "import copy\n",
    "\n",
    "class exampleProcessor(processor.ProcessorABC):\n",
    "    \"\"\"Dummy processor used to demonstrate the processor principle\"\"\"\n",
    "    def __init__(self):\n",
    "\n",
    "        # we can use a large number of bins and rebin later\n",
    "        dataset_axis        = hist.Cat(\"dataset\",   \"Primary dataset\")\n",
    "        pt_axis             = hist.Bin(\"pt\",        r\"$p_{T}$ (GeV)\", 1000, 0, 1000)\n",
    "        mass_axis           = hist.Bin(\"mass\",      r\"M (GeV)\", 1000, 0, 2000)\n",
    "        multiplicity_axis   = hist.Bin(\"multiplicity\",         r\"N\", 20, -0.5, 19.5)\n",
    "\n",
    "        self._accumulator = processor.dict_accumulator({\n",
    "            \"dimuon_mass\" :     hist.Hist(\"Counts\", dataset_axis, mass_axis),\n",
    "            \"dimuon_mass_offZ\" : hist.Hist(\"Counts\", dataset_axis, mass_axis),\n",
    "            \"diele_mass\" :      hist.Hist(\"Counts\", dataset_axis, mass_axis),\n",
    "            \"dilep_mass\" :      hist.Hist(\"Counts\", dataset_axis, mass_axis),\n",
    "            \n",
    "            \"MET_pt\" :          hist.Hist(\"Counts\", dataset_axis, pt_axis),\n",
    "            \"MET_pt_onZ\" :      hist.Hist(\"Counts\", dataset_axis, pt_axis),\n",
    "            \"MET_pt_offZ\" :     hist.Hist(\"Counts\", dataset_axis, pt_axis),\n",
    "            \n",
    "            \"N_ele\" :           hist.Hist(\"Counts\", dataset_axis, multiplicity_axis),\n",
    "            \"N_mu\" :            hist.Hist(\"Counts\", dataset_axis, multiplicity_axis),\n",
    "            \"N_jet\" :           hist.Hist(\"Counts\", dataset_axis, multiplicity_axis),\n",
    "            'TTW':              processor.defaultdict_accumulator(int),\n",
    "            'TTZ':              processor.defaultdict_accumulator(int),\n",
    "            'totalEvents':      processor.defaultdict_accumulator(int),\n",
    "        })\n",
    "        \n",
    "    @property\n",
    "    def accumulator(self):\n",
    "        return self._accumulator\n",
    "\n",
    "    def process(self, df):\n",
    "        \"\"\"\n",
    "        Processing function. This is where the actual analysis happens.\n",
    "        \"\"\"\n",
    "        output = self.accumulator.identity()\n",
    "        dataset = df[\"dataset\"]\n",
    "        cfg = loadConfig()\n",
    "\n",
    "        # load all the default candidates (jets, leptons, ...)\n",
    "        \n",
    "        ## Jets\n",
    "        jet = JaggedCandidateArray.candidatesfromcounts(\n",
    "            df['nJet'],\n",
    "            pt = df['Jet_pt'].content,\n",
    "            eta = df['Jet_eta'].content,\n",
    "            phi = df['Jet_phi'].content,\n",
    "            mass = df['Jet_mass'].content,\n",
    "            jetId = df['Jet_jetId'].content,\n",
    "            puId = df['Jet_puId'].content,\n",
    "            btagDeepB = df['Jet_btagDeepB'].content,\n",
    "            \n",
    "        )\n",
    "        jet       = jet[(jet.pt>30) & (abs(jet.eta)<2.4) & (jet.jetId>0)]\n",
    "        \n",
    "        ## Muons.\n",
    "        muon = JaggedCandidateArray.candidatesfromcounts(\n",
    "            # The first part is essential: number of muons, and kinematic properties\n",
    "            df['nMuon'],\n",
    "            pt = df['Muon_pt'].content,\n",
    "            eta = df['Muon_eta'].content,\n",
    "            phi = df['Muon_phi'].content,\n",
    "            mass = df['Muon_mass'].content,\n",
    "            # all below is optional\n",
    "            mediumId = df['Muon_mediumId'].content,\n",
    "            miniPFRelIso_all = df['Muon_miniPFRelIso_all'].content,\n",
    "            charge = df['Muon_charge'].content,\n",
    "        )\n",
    "        \n",
    "        ## Electrons.\n",
    "        electron = JaggedCandidateArray.candidatesfromcounts(\n",
    "            # The first part is essential: number of electrons, and kinematic properties\n",
    "            df['nElectron'],\n",
    "            pt=df['Electron_pt'].content,\n",
    "            eta=df['Electron_eta'].content,\n",
    "            phi=df['Electron_phi'].content,\n",
    "            mass=df['Electron_mass'].content,\n",
    "            # all below is optional\n",
    "            cutBased=df['Electron_cutBased'].content,\n",
    "            miniPFRelIso_all=df['Electron_miniPFRelIso_all'].content,\n",
    "            charge=df['Electron_charge'].content,\n",
    "        )\n",
    "        \n",
    "        ## Selections\n",
    "        muon = muon[\n",
    "            (muon.pt>10) & \n",
    "            (abs(muon.eta)<2.4) & \n",
    "            (muon.mediumId) & \n",
    "            (muon.miniPFRelIso_all<0.2) \n",
    "        ]\n",
    "\n",
    "        electron = electron[\n",
    "            (electron.pt>10) & \n",
    "            (abs(electron.eta)<2.4) & \n",
    "            (electron.cutBased>=3) & \n",
    "            (electron.miniPFRelIso_all<0.1) \n",
    "        ]   \n",
    "\n",
    "        ## MET\n",
    "        met_pt  = df[\"MET_pt\"]\n",
    "        met_phi = df[\"MET_phi\"]\n",
    "        \n",
    "        dimuon = muon.choose(2)\n",
    "        OS_dimuon = dimuon[(dimuon.i0.charge*dimuon.i1.charge < 0)]\n",
    "\n",
    "        dielectron = electron.choose(2)\n",
    "        OS_dielectron = dielectron[(dielectron.i0.charge*dielectron.i1.charge < 0)]\n",
    "\n",
    "        OS_dimuon_bestZmumu = OS_dimuon[abs(OS_dimuon.mass-91.2).argmin()]\n",
    "        OS_dielectron_bestZee = OS_dielectron[abs(OS_dielectron.mass-91.2).argmin()]\n",
    "        \n",
    "        OS_dilepton_bestZll_mass = mergeArray(OS_dimuon_bestZmumu.mass, OS_dielectron_bestZee.mass)\n",
    "\n",
    "        baseline = ((electron.counts+muon.counts)==3) & ((electron.pt>30).any() | (muon.pt>30).any())\n",
    "        offZ_selection = (abs(OS_dimuon.mass-91.2)>15).all() & (abs(OS_dielectron.mass-91.2)>15).all()\n",
    "        onZ_selection = ((abs(OS_dimuon.mass-91.2)<15).any() | (abs(OS_dielectron.mass-91.2)<15).any())\n",
    "        \n",
    "        \n",
    "        output['totalEvents']['all'] += len(df['weight'])\n",
    "        \n",
    "        \n",
    "        \n",
    "        ## And fill the histograms\n",
    "        \n",
    "        # just the some multiplicities\n",
    "        output['N_ele'].fill(dataset=dataset, multiplicity=electron[baseline].counts, weight=df['weight'][baseline]*cfg['lumi'])\n",
    "        output['N_mu'].fill(dataset=dataset, multiplicity=muon[baseline].counts, weight=df['weight'][baseline]*cfg['lumi'])\n",
    "        output['N_jet'].fill(dataset=dataset, multiplicity=jet[baseline].counts, weight=df['weight'][baseline]*cfg['lumi'])\n",
    "                \n",
    "        output['MET_pt'].fill(\n",
    "            dataset=dataset,\n",
    "            pt=met_pt[baseline].flatten(),\n",
    "            weight=df['weight'][baseline]*cfg['lumi']\n",
    "        )\n",
    "        \n",
    "        output['MET_pt_offZ'].fill(\n",
    "            dataset=dataset,\n",
    "            pt=met_pt[baseline & offZ_selection].flatten(),\n",
    "            weight=df['weight'][baseline & offZ_selection]*cfg['lumi']\n",
    "        )\n",
    "        \n",
    "        output['MET_pt_onZ'].fill(\n",
    "            dataset=dataset,\n",
    "            pt=met_pt[baseline & onZ_selection].flatten(),\n",
    "            weight=df['weight'][baseline & onZ_selection]*cfg['lumi']\n",
    "        )\n",
    "        \n",
    "        output['dimuon_mass'].fill(\n",
    "            dataset=dataset,\n",
    "            mass = OS_dimuon_bestZmumu[baseline].mass.flatten(),\n",
    "            weight=df['weight'][baseline & (OS_dimuon_bestZmumu.counts>0)]*cfg['lumi']\n",
    "        )\n",
    "        \n",
    "        output['dimuon_mass_offZ'].fill(\n",
    "            dataset=dataset,\n",
    "            mass = OS_dimuon_bestZmumu[baseline & offZ_selection ].mass.flatten(),\n",
    "            weight=df['weight'][baseline & (OS_dimuon_bestZmumu.counts>0) & offZ_selection]*cfg['lumi']\n",
    "        )\n",
    "        \n",
    "        output['diele_mass'].fill(\n",
    "            dataset=dataset,\n",
    "            mass = OS_dielectron_bestZee[baseline].mass.flatten(),\n",
    "            weight=df['weight'][baseline & (OS_dielectron_bestZee.counts>0)]*cfg['lumi']\n",
    "        )\n",
    "        \n",
    "        output['dilep_mass'].fill(\n",
    "            dataset=dataset,\n",
    "            # usage of np.array() is pretty awkward, but UnionArray doesn't work with the histograms (yet)\n",
    "            mass = np.array(OS_dilepton_bestZll_mass[baseline & (OS_dilepton_bestZll_mass.counts>0)].flatten()),\n",
    "            weight=df['weight'][baseline & (OS_dilepton_bestZll_mass.counts>0)]*cfg['lumi']\n",
    "        )\n",
    "        \n",
    "        return output\n",
    "\n",
    "    def postprocess(self, accumulator):\n",
    "        return accumulator"
   ]
  },
  {
   "cell_type": "markdown",
   "metadata": {},
   "source": [
    "The main part of the above processor code is pretty similar to what we've done before. We do fill histograms in the end, and we have to be careful that the length of the arrays for the variable of interest and the weight are aligned.\n"
   ]
  },
  {
   "cell_type": "code",
   "execution_count": null,
   "metadata": {},
   "outputs": [],
   "source": [
    "import glob\n",
    "\n",
    "# Run the processor\n",
    "fileset = fileset = {\n",
    "    'TTZ': glob.glob('/hadoop/cms/store/user/dspitzba/nanoAOD/ttw_samples/0p1p11/TTZToLLNuNu_M-10_TuneCP5_13TeV-amcatnlo-pythia8_RunIIAutumn18NanoAODv6-Nano25Oct2019_102X_upgrade2018_realistic_v20_ext1-v1/*.root'),\n",
    "    'TTW': glob.glob('/hadoop/cms/store/user/dspitzba/nanoAOD/ttw_samples/0p1p11/TTWJetsToLNu_TuneCP5_13TeV-amcatnloFXFX-madspin-pythia8_RunIIAutumn18NanoAODv6-Nano25Oct2019_102X_upgrade2018_realistic_v20_ext1-v1/*.root'),\n",
    "}\n",
    "workers = 12\n",
    "output = processor.run_uproot_job(fileset,\n",
    "                                      treename='Events',\n",
    "                                      processor_instance=exampleProcessor(),\n",
    "                                      executor=processor.futures_executor,\n",
    "                                      executor_args={'workers': workers, 'function_args': {'flatten': False}},\n",
    "                                      chunksize=500000,\n",
    "                                     )"
   ]
  },
  {
   "cell_type": "code",
   "execution_count": null,
   "metadata": {},
   "outputs": [],
   "source": [
    "output"
   ]
  },
  {
   "cell_type": "markdown",
   "metadata": {},
   "source": [
    "The histogram output looks as follows. We chose to have a large number of bins when running the processor, this way we are more flexible in the choice of the final binning later."
   ]
  },
  {
   "cell_type": "code",
   "execution_count": null,
   "metadata": {},
   "outputs": [],
   "source": [
    "histogram = output['dilep_mass']\n",
    "ax = hist.plot1d(histogram,overlay=\"dataset\", stack=True)"
   ]
  },
  {
   "cell_type": "markdown",
   "metadata": {},
   "source": [
    "Let's rebin to a more sensible range."
   ]
  },
  {
   "cell_type": "code",
   "execution_count": null,
   "metadata": {},
   "outputs": [],
   "source": [
    "histogram = output['dilep_mass'].copy()\n",
    "histogram = histogram.rebin('mass', hist.Bin('mass', r'$M(ll) \\ (GeV)$', 50, 0, 200))\n",
    "\n",
    "ax = hist.plot1d(histogram,overlay=\"dataset\", stack=True)"
   ]
  },
  {
   "cell_type": "code",
   "execution_count": null,
   "metadata": {},
   "outputs": [],
   "source": [
    "histogram = output['dimuon_mass_offZ'].copy()\n",
    "histogram = histogram.rebin('mass', hist.Bin('mass', r'$M(ll) \\ (GeV)$', 50, 0, 200))\n",
    "\n",
    "ax = hist.plot1d(histogram,overlay=\"dataset\", stack=True, overflow='over')"
   ]
  },
  {
   "cell_type": "code",
   "execution_count": null,
   "metadata": {},
   "outputs": [],
   "source": [
    "histogram = output['MET_pt'].copy()\n",
    "histogram = histogram.rebin('pt', hist.Bin('pt', r'$p_T^{miss} \\ (GeV)$', 50, 0, 500))\n",
    "\n",
    "ax = hist.plot1d(histogram,overlay=\"dataset\", stack=True)"
   ]
  },
  {
   "cell_type": "code",
   "execution_count": null,
   "metadata": {},
   "outputs": [],
   "source": [
    "histogram = output['MET_pt_offZ'].copy()\n",
    "histogram = histogram.rebin('pt', hist.Bin('pt', r'$p_T^{miss} \\ (GeV)$', 50, 0, 500))\n",
    "\n",
    "ax = hist.plot1d(histogram,overlay=\"dataset\", stack=True, overflow='over')"
   ]
  },
  {
   "cell_type": "code",
   "execution_count": null,
   "metadata": {},
   "outputs": [],
   "source": [
    "histogram = output['MET_pt_onZ'].copy()\n",
    "histogram = histogram.rebin('pt', hist.Bin('pt', r'$p_T^{miss} \\ (GeV)$', 50, 0, 500))\n",
    "\n",
    "ax = hist.plot1d(histogram,overlay=\"dataset\", stack=True, overflow='over')"
   ]
  },
  {
   "cell_type": "markdown",
   "metadata": {},
   "source": [
    "We can also easily access the counts of the histogram..."
   ]
  },
  {
   "cell_type": "code",
   "execution_count": null,
   "metadata": {},
   "outputs": [],
   "source": [
    "histogram.values(overflow='over')"
   ]
  },
  {
   "cell_type": "markdown",
   "metadata": {},
   "source": [
    "... also with the sum of the squared weights (that we need for the statistical uncertainties in the MC)"
   ]
  },
  {
   "cell_type": "code",
   "execution_count": null,
   "metadata": {},
   "outputs": [],
   "source": [
    "histogram.values(overflow='over', sumw2=True)"
   ]
  },
  {
   "cell_type": "markdown",
   "metadata": {},
   "source": [
    "What's the ratio of ttW/ttZ events without the Z veto?"
   ]
  },
  {
   "cell_type": "code",
   "execution_count": null,
   "metadata": {},
   "outputs": [],
   "source": [
    "output['MET_pt']['TTW'].sum('dataset').values(overflow='over')[()].sum()/output['MET_pt']['TTZ'].sum('dataset').values(overflow='over')[()].sum()"
   ]
  },
  {
   "cell_type": "markdown",
   "metadata": {},
   "source": [
    "And now just off-Z"
   ]
  },
  {
   "cell_type": "code",
   "execution_count": null,
   "metadata": {},
   "outputs": [],
   "source": [
    "output['MET_pt_offZ']['TTW'].sum('dataset').values(overflow='over')[()].sum()/output['MET_pt_offZ']['TTZ'].sum('dataset').values(overflow='over')[()].sum()"
   ]
  },
  {
   "cell_type": "markdown",
   "metadata": {},
   "source": [
    "# Advanced topics"
   ]
  },
  {
   "cell_type": "markdown",
   "metadata": {},
   "source": [
    "## DASK\n",
    "\n",
    "We can use DASK to submit jobs to a cluster. This just serves as an example for now, I couldn't start a cluster this morning...\n",
    "\n",
    "In principle, a cluster can be started by running `ipython -i start_cluster.py`\n"
   ]
  },
  {
   "cell_type": "code",
   "execution_count": null,
   "metadata": {},
   "outputs": [],
   "source": [
    "from Tools.helpers import get_scheduler_address\n",
    "\n",
    "from dask.distributed import Client, progress\n",
    "\n",
    "scheduler_address = get_scheduler_address()\n",
    "\n",
    "c = Client(scheduler_address)\n",
    "\n",
    "c"
   ]
  },
  {
   "cell_type": "code",
   "execution_count": null,
   "metadata": {},
   "outputs": [],
   "source": [
    "exe_args = {\n",
    "    'client': c,\n",
    "}\n",
    "exe = processor.dask_executor\n",
    "\n",
    "output = processor.run_uproot_job(fileset,\n",
    "                                      treename='Events',\n",
    "                                      processor_instance=exampleProcessor(),\n",
    "                                      executor=exe,\n",
    "                                      executor_args=exe_args,\n",
    "                                      chunksize=500000,\n",
    "                                     )\n"
   ]
  },
  {
   "cell_type": "markdown",
   "metadata": {},
   "source": [
    "## Matching\n",
    "\n",
    "Matching can be interesting for efficiency studies, overlap removal of different collections etc. Let's first do some gen matching.\n"
   ]
  },
  {
   "cell_type": "code",
   "execution_count": null,
   "metadata": {},
   "outputs": [],
   "source": [
    "# The loaded samples contain a branch that is called GenL (generated leptons). This is non-standard for nanoAOD.\n",
    "\n",
    "gen_lep = JaggedCandidateArray.candidatesfromcounts(\n",
    "    df['nGenL'],\n",
    "    pt = df['GenL_pt'].content,\n",
    "    eta = df['GenL_eta'].content,\n",
    "    phi = df['GenL_phi'].content,\n",
    "    mass = ((df['GenL_pt']>0)*0).content,\n",
    "    pdgId =  df['GenL_pdgId'].content,\n",
    ")"
   ]
  },
  {
   "cell_type": "code",
   "execution_count": null,
   "metadata": {},
   "outputs": [],
   "source": [
    "gen_lep = gen_lep[baseline]\n",
    "gen_muon = gen_lep[abs(gen_lep.pdgId)==13]"
   ]
  },
  {
   "cell_type": "code",
   "execution_count": null,
   "metadata": {},
   "outputs": [],
   "source": [
    "matched_gen_muon = gen_muon[gen_muon.match(muon, deltaRCut=0.4)]\n",
    "unmatched_gen_muon = gen_muon[~gen_muon.match(muon, deltaRCut=0.4)]"
   ]
  },
  {
   "cell_type": "code",
   "execution_count": null,
   "metadata": {},
   "outputs": [],
   "source": [
    "(matched_gen_muon.pt>20).flatten().sum()/(gen_muon.pt>20).flatten().sum()"
   ]
  },
  {
   "cell_type": "code",
   "execution_count": null,
   "metadata": {},
   "outputs": [],
   "source": [
    "(unmatched_gen_muon.pt>20).flatten().sum()/(gen_muon.pt>20).flatten().sum()"
   ]
  },
  {
   "cell_type": "markdown",
   "metadata": {},
   "source": [
    "Now let's do some cross cleaning, namely remove jets that overlap with leptons. First, let's load jets similarly to electrons and muons, and define some baseline requirements."
   ]
  },
  {
   "cell_type": "code",
   "execution_count": null,
   "metadata": {},
   "outputs": [],
   "source": [
    "jet = JaggedCandidateArray.candidatesfromcounts(\n",
    "    df['nJet'],\n",
    "    pt = df['Jet_pt'].content,\n",
    "    eta = df['Jet_eta'].content,\n",
    "    phi = df['Jet_phi'].content,\n",
    "    mass = df['Jet_mass'].content,\n",
    "    jetId = df['Jet_jetId'].content,\n",
    "    puId = df['Jet_puId'].content,\n",
    "    btagDeepB = df['Jet_btagDeepB'].content,\n",
    "    \n",
    ")\n",
    "jet = jet[(jet.pt>30) & (abs(jet.eta)<2.4) & (jet.jetId>0)]\n",
    "jet = jet[baseline]"
   ]
  },
  {
   "cell_type": "code",
   "execution_count": null,
   "metadata": {},
   "outputs": [],
   "source": [
    "jet = jet[~jet.match(muon, deltaRCut=0.4)]\n",
    "jet = jet[~jet.match(electron, deltaRCut=0.4)]"
   ]
  },
  {
   "cell_type": "code",
   "execution_count": null,
   "metadata": {},
   "outputs": [],
   "source": []
  },
  {
   "cell_type": "code",
   "execution_count": null,
   "metadata": {},
   "outputs": [],
   "source": []
  }
 ],
 "metadata": {
  "kernelspec": {
   "display_name": "daskanalysisenv",
   "language": "python",
   "name": "daskanalysisenv"
  },
  "language_info": {
   "codemirror_mode": {
    "name": "ipython",
    "version": 3
   },
   "file_extension": ".py",
   "mimetype": "text/x-python",
   "name": "python",
   "nbconvert_exporter": "python",
   "pygments_lexer": "ipython3",
   "version": "3.8.6"
  }
 },
 "nbformat": 4,
 "nbformat_minor": 4
}
