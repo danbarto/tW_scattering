{
 "cells": [
  {
   "cell_type": "code",
   "execution_count": 1,
   "id": "07a1f96e",
   "metadata": {},
   "outputs": [],
   "source": [
    "import uproot\n",
    "import glob\n",
    "import numpy as np"
   ]
  },
  {
   "cell_type": "markdown",
   "id": "ecc528cd",
   "metadata": {},
   "source": [
    "# Checking EFT samples\n",
    "\n",
    "There might have been an issue with multithreading and the EFT weights in UL18.\n",
    "This results in weird event weights for e.g. the central weight in a large number of files. A similar (unresolved) issue has been observed in the previous production, where the 2018 sample was buggy too,\n",
    "UL18 is the only sample I generated with thread=8 in the gen step.\n",
    "\n",
    "A new test version will be coming here: /ceph/cms/store/user/dspitzba/ProjectMetis/TTW_5f_EFT_NLO_RunIISummer20UL18_NanoAODv9_NANO_v12_pre/\n",
    "\n"
   ]
  },
  {
   "cell_type": "code",
   "execution_count": 2,
   "id": "b0080c2d",
   "metadata": {},
   "outputs": [],
   "source": [
    "## /ceph/cms/store/user/dspitzba/ProjectMetis/TTW_5f_EFT_NLO_RunIISummer20UL18_NanoAODv9_NANO_v11/\n",
    "## /ceph/cms/store/user/dspitzba/ProjectMetis/TTW_5f_EFT_NLO_RunIISummer20UL17_NanoAODv9_NANO_v11/\n",
    "## /ceph/cms/store/user/dspitzba/nanoAOD/ttw_samples//topW_v0.7.0_dilep/ProjectMetis_TTW_5f_EFT_NLO_RunIISummer20UL17_NanoAODv9_NANO_v11/\n",
    "files = glob.glob(\"/ceph/cms/store/user/dspitzba/ProjectMetis/TTW_5f_EFT_NLO_RunIISummer20UL18_NanoAODv9_NANO_v12_pre/*.root\")"
   ]
  },
  {
   "cell_type": "code",
   "execution_count": 3,
   "id": "d6b5a38d",
   "metadata": {},
   "outputs": [
    {
     "name": "stdout",
     "output_type": "stream",
     "text": [
      "0.9999981079101562\n"
     ]
    },
    {
     "data": {
      "text/plain": [
       "500"
      ]
     },
     "execution_count": 3,
     "metadata": {},
     "output_type": "execute_result"
    }
   ],
   "source": [
    "tree = uproot.open(files[0])['Events']\n",
    "weight = tree.arrays(\"LHEWeight_cpt_0p_cpQM_0p_nlo\")[\"LHEWeight_cpt_0p_cpQM_0p_nlo\"]\n",
    "print (np.mean(weight))\n",
    "len(weight)"
   ]
  },
  {
   "cell_type": "code",
   "execution_count": 4,
   "id": "5c32dab4",
   "metadata": {
    "scrolled": false
   },
   "outputs": [],
   "source": [
    "corrupted = []\n",
    "for f in files:\n",
    "    tree = uproot.open(f)['Events']\n",
    "    mean = np.mean(tree.arrays(\"LHEWeight_cpt_0p_cpQM_0p_nlo\")[\"LHEWeight_cpt_0p_cpQM_0p_nlo\"])\n",
    "    if mean > 1.01 or mean < 0.99:\n",
    "        print (mean, f)\n",
    "        corrupted.append(f)"
   ]
  },
  {
   "cell_type": "code",
   "execution_count": 5,
   "id": "fd6224ba",
   "metadata": {},
   "outputs": [
    {
     "data": {
      "text/plain": [
       "[]"
      ]
     },
     "execution_count": 5,
     "metadata": {},
     "output_type": "execute_result"
    }
   ],
   "source": [
    "corrupted"
   ]
  },
  {
   "cell_type": "code",
   "execution_count": 16,
   "id": "1b5cc6c4",
   "metadata": {},
   "outputs": [
    {
     "data": {
      "text/plain": [
       "0.893970703125"
      ]
     },
     "execution_count": 16,
     "metadata": {},
     "output_type": "execute_result"
    }
   ],
   "source": [
    "np.mean(weight)"
   ]
  },
  {
   "cell_type": "code",
   "execution_count": 20,
   "id": "e0f2c870",
   "metadata": {},
   "outputs": [
    {
     "data": {
      "text/plain": [
       "<Array [-9.87, -1.54, 0.137, ... -7.04, -1.36] type='74 * float32'>"
      ]
     },
     "execution_count": 20,
     "metadata": {},
     "output_type": "execute_result"
    }
   ],
   "source": [
    "weight[(weight<0.99)]"
   ]
  },
  {
   "cell_type": "code",
   "execution_count": 21,
   "id": "9c668c2a",
   "metadata": {},
   "outputs": [
    {
     "data": {
      "text/plain": [
       "0.016"
      ]
     },
     "execution_count": 21,
     "metadata": {},
     "output_type": "execute_result"
    }
   ],
   "source": [
    "80/5000."
   ]
  },
  {
   "cell_type": "code",
   "execution_count": null,
   "id": "75392d56",
   "metadata": {},
   "outputs": [],
   "source": []
  }
 ],
 "metadata": {
  "kernelspec": {
   "display_name": "coffeadev4",
   "language": "python",
   "name": "coffeadev4"
  },
  "language_info": {
   "codemirror_mode": {
    "name": "ipython",
    "version": 3
   },
   "file_extension": ".py",
   "mimetype": "text/x-python",
   "name": "python",
   "nbconvert_exporter": "python",
   "pygments_lexer": "ipython3",
   "version": "3.9.7"
  }
 },
 "nbformat": 4,
 "nbformat_minor": 5
}
