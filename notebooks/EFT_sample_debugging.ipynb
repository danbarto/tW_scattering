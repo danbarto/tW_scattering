{
 "cells": [
  {
   "cell_type": "code",
   "execution_count": 1,
   "id": "07a1f96e",
   "metadata": {},
   "outputs": [],
   "source": [
    "import uproot\n",
    "import glob\n",
    "import numpy as np"
   ]
  },
  {
   "cell_type": "markdown",
   "id": "ecc528cd",
   "metadata": {},
   "source": [
    "# Checking EFT samples\n",
    "\n",
    "There might have been an issue with multithreading and the EFT weights in UL18.\n",
    "This results in weird event weights for e.g. the central weight in a large number of files. A similar (unresolved) issue has been observed in the previous production, where the 2018 sample was buggy too,\n",
    "UL18 is the only sample I generated with thread=8 in the gen step.\n",
    "\n",
    "A new test version will be coming here: /ceph/cms/store/user/dspitzba/ProjectMetis/TTW_5f_EFT_NLO_RunIISummer20UL18_NanoAODv9_NANO_v12_pre/\n",
    "\n"
   ]
  },
  {
   "cell_type": "code",
   "execution_count": 17,
   "id": "b0080c2d",
   "metadata": {},
   "outputs": [],
   "source": [
    "## /ceph/cms/store/user/dspitzba/ProjectMetis/TTW_5f_EFT_NLO_RunIISummer20UL18_NanoAODv9_NANO_v11/\n",
    "## /ceph/cms/store/user/dspitzba/ProjectMetis/TTW_5f_EFT_NLO_RunIISummer20UL17_NanoAODv9_NANO_v11/\n",
    "## /ceph/cms/store/user/dspitzba/nanoAOD/ttw_samples//topW_v0.7.0_dilep/ProjectMetis_TTW_5f_EFT_NLO_RunIISummer20UL17_NanoAODv9_NANO_v11/\n",
    "#files = glob.glob(\"/ceph/cms/store/user/dspitzba/ProjectMetis/TTW_5f_EFT_NLO_RunIISummer20UL18_NanoAODv9_NANO_v12/*.root\")\n",
    "#files = glob.glob(\"/ceph/cms/store/user/dspitzba/ProjectMetis/TTWToLNu_TtoLep_aTtoHad_5f_EFT_NLO_RunIISummer20_NanoGEN_NANO_v13/*.root\")\n",
    "files = glob.glob(\"/ceph/cms/store/user/dspitzba/ProjectMetis/TTWToLNu_TtoAll_aTtoLep_5f_EFT_NLO_RunIISummer20_NanoGEN_NANO_v13/merged/*.root\")"
   ]
  },
  {
   "cell_type": "code",
   "execution_count": 18,
   "id": "e5a17cdc",
   "metadata": {},
   "outputs": [
    {
     "data": {
      "text/plain": [
       "16"
      ]
     },
     "execution_count": 18,
     "metadata": {},
     "output_type": "execute_result"
    }
   ],
   "source": [
    "len(files)"
   ]
  },
  {
   "cell_type": "code",
   "execution_count": 19,
   "id": "41a7fd17",
   "metadata": {},
   "outputs": [
    {
     "data": {
      "text/plain": [
       "['run',\n",
       " 'luminosityBlock',\n",
       " 'event',\n",
       " 'HTXS_Higgs_pt',\n",
       " 'HTXS_Higgs_y',\n",
       " 'HTXS_stage1_1_cat_pTjet25GeV',\n",
       " 'HTXS_stage1_1_cat_pTjet30GeV',\n",
       " 'HTXS_stage1_1_fine_cat_pTjet25GeV',\n",
       " 'HTXS_stage1_1_fine_cat_pTjet30GeV',\n",
       " 'HTXS_stage1_2_cat_pTjet25GeV',\n",
       " 'HTXS_stage1_2_cat_pTjet30GeV',\n",
       " 'HTXS_stage1_2_fine_cat_pTjet25GeV',\n",
       " 'HTXS_stage1_2_fine_cat_pTjet30GeV',\n",
       " 'HTXS_stage_0',\n",
       " 'HTXS_stage_1_pTjet25',\n",
       " 'HTXS_stage_1_pTjet30',\n",
       " 'HTXS_njets25',\n",
       " 'HTXS_njets30',\n",
       " 'nGenJetAK8',\n",
       " 'GenJetAK8_eta',\n",
       " 'GenJetAK8_mass',\n",
       " 'GenJetAK8_phi',\n",
       " 'GenJetAK8_pt',\n",
       " 'nGenJet',\n",
       " 'GenJet_eta',\n",
       " 'GenJet_mass',\n",
       " 'GenJet_phi',\n",
       " 'GenJet_pt',\n",
       " 'nGenPart',\n",
       " 'GenPart_eta',\n",
       " 'GenPart_mass',\n",
       " 'GenPart_phi',\n",
       " 'GenPart_pt',\n",
       " 'GenPart_genPartIdxMother',\n",
       " 'GenPart_pdgId',\n",
       " 'GenPart_status',\n",
       " 'GenPart_statusFlags',\n",
       " 'Generator_binvar',\n",
       " 'Generator_scalePDF',\n",
       " 'Generator_weight',\n",
       " 'Generator_x1',\n",
       " 'Generator_x2',\n",
       " 'Generator_xpdf1',\n",
       " 'Generator_xpdf2',\n",
       " 'Generator_id1',\n",
       " 'Generator_id2',\n",
       " 'GenVtx_x',\n",
       " 'GenVtx_y',\n",
       " 'GenVtx_z',\n",
       " 'nGenVisTau',\n",
       " 'GenVisTau_eta',\n",
       " 'GenVisTau_mass',\n",
       " 'GenVisTau_phi',\n",
       " 'GenVisTau_pt',\n",
       " 'GenVisTau_charge',\n",
       " 'GenVisTau_genPartIdxMother',\n",
       " 'GenVisTau_status',\n",
       " 'genWeight',\n",
       " 'LHEWeight_originalXWGTUP',\n",
       " 'LHEWeight_cpt_0p_cpqm_0p_nlo',\n",
       " 'LHEWeight_cpt_3p_cpqm_0p_nlo',\n",
       " 'LHEWeight_cpt_6p_cpqm_0p_nlo',\n",
       " 'LHEWeight_cpt_0p_cpqm_3p_nlo',\n",
       " 'LHEWeight_cpt_0p_cpqm_6p_nlo',\n",
       " 'LHEWeight_cpt_3p_cpqm_3p_nlo',\n",
       " 'nLHEPdfWeight',\n",
       " 'LHEPdfWeight',\n",
       " 'nLHEReweightingWeight',\n",
       " 'LHEReweightingWeight',\n",
       " 'nLHEScaleWeight',\n",
       " 'LHEScaleWeight',\n",
       " 'nPSWeight',\n",
       " 'PSWeight',\n",
       " 'LHE_HT',\n",
       " 'LHE_HTIncoming',\n",
       " 'LHE_Vpt',\n",
       " 'LHE_AlphaS',\n",
       " 'LHE_Njets',\n",
       " 'LHE_Nb',\n",
       " 'LHE_Nc',\n",
       " 'LHE_Nuds',\n",
       " 'LHE_Nglu',\n",
       " 'LHE_NpNLO',\n",
       " 'LHE_NpLO',\n",
       " 'nLHEPart',\n",
       " 'LHEPart_pt',\n",
       " 'LHEPart_eta',\n",
       " 'LHEPart_phi',\n",
       " 'LHEPart_mass',\n",
       " 'LHEPart_incomingpz',\n",
       " 'LHEPart_pdgId',\n",
       " 'LHEPart_status',\n",
       " 'LHEPart_spin',\n",
       " 'GenMET_phi',\n",
       " 'GenMET_pt',\n",
       " 'nGenDressedLepton',\n",
       " 'GenDressedLepton_eta',\n",
       " 'GenDressedLepton_mass',\n",
       " 'GenDressedLepton_phi',\n",
       " 'GenDressedLepton_pt',\n",
       " 'GenDressedLepton_pdgId',\n",
       " 'GenDressedLepton_hasTauAnc',\n",
       " 'MET_fiducialGenPhi',\n",
       " 'MET_fiducialGenPt',\n",
       " 'nGenIsolatedPhoton',\n",
       " 'GenIsolatedPhoton_eta',\n",
       " 'GenIsolatedPhoton_mass',\n",
       " 'GenIsolatedPhoton_phi',\n",
       " 'GenIsolatedPhoton_pt',\n",
       " 'GenJetAK8_partonFlavour',\n",
       " 'GenJetAK8_hadronFlavour',\n",
       " 'GenJet_partonFlavour',\n",
       " 'GenJet_hadronFlavour',\n",
       " 'GenVtx_t0']"
      ]
     },
     "execution_count": 19,
     "metadata": {},
     "output_type": "execute_result"
    }
   ],
   "source": [
    "tree = uproot.open(files[0])['Events']\n",
    "tree.keys()"
   ]
  },
  {
   "cell_type": "code",
   "execution_count": 20,
   "id": "0c8ff33a",
   "metadata": {},
   "outputs": [
    {
     "data": {
      "text/plain": [
       "<Array [0.854, 1.02, 1.1, ... 0.849, 1.35] type='70000 * float32'>"
      ]
     },
     "execution_count": 20,
     "metadata": {},
     "output_type": "execute_result"
    }
   ],
   "source": [
    "tree[\"LHEWeight_cpt_0p_cpqm_3p_nlo\"].array()"
   ]
  },
  {
   "cell_type": "code",
   "execution_count": 21,
   "id": "d6b5a38d",
   "metadata": {},
   "outputs": [
    {
     "name": "stdout",
     "output_type": "stream",
     "text": [
      "0.9999928571428571\n"
     ]
    },
    {
     "data": {
      "text/plain": [
       "70000"
      ]
     },
     "execution_count": 21,
     "metadata": {},
     "output_type": "execute_result"
    }
   ],
   "source": [
    "tree = uproot.open(files[0])['Events']\n",
    "weight = tree[\"LHEWeight_cpt_0p_cpqm_0p_nlo\"].array()\n",
    "print (np.mean(weight))\n",
    "len(weight)"
   ]
  },
  {
   "cell_type": "code",
   "execution_count": 22,
   "id": "5c32dab4",
   "metadata": {
    "scrolled": true
   },
   "outputs": [],
   "source": [
    "corrupted = []\n",
    "uncorrupted = []\n",
    "for f in files:\n",
    "    tree = uproot.open(f)['Events']\n",
    "    weight = tree[\"LHEWeight_cpt_0p_cpqm_0p_nlo\"].array()\n",
    "    mean = np.mean(weight)\n",
    "    if mean > 1.01 or mean < 0.99 or np.max(weight)>1.1:\n",
    "        print (mean, f)\n",
    "        corrupted.append(f)\n",
    "    else:\n",
    "        uncorrupted.append(f)"
   ]
  },
  {
   "cell_type": "code",
   "execution_count": 23,
   "id": "130a2bb0",
   "metadata": {},
   "outputs": [
    {
     "data": {
      "text/plain": [
       "0"
      ]
     },
     "execution_count": 23,
     "metadata": {},
     "output_type": "execute_result"
    }
   ],
   "source": [
    "len(corrupted)"
   ]
  },
  {
   "cell_type": "code",
   "execution_count": 16,
   "id": "1b5cc6c4",
   "metadata": {},
   "outputs": [
    {
     "data": {
      "text/plain": [
       "0.99999833984375"
      ]
     },
     "execution_count": 16,
     "metadata": {},
     "output_type": "execute_result"
    }
   ],
   "source": [
    "np.mean(weight)"
   ]
  },
  {
   "cell_type": "code",
   "execution_count": 20,
   "id": "e0f2c870",
   "metadata": {},
   "outputs": [
    {
     "data": {
      "text/plain": [
       "<Array [-9.87, -1.54, 0.137, ... -7.04, -1.36] type='74 * float32'>"
      ]
     },
     "execution_count": 20,
     "metadata": {},
     "output_type": "execute_result"
    }
   ],
   "source": [
    "weight[(weight<0.99)]"
   ]
  },
  {
   "cell_type": "code",
   "execution_count": 21,
   "id": "9c668c2a",
   "metadata": {},
   "outputs": [
    {
     "data": {
      "text/plain": [
       "0.016"
      ]
     },
     "execution_count": 21,
     "metadata": {},
     "output_type": "execute_result"
    }
   ],
   "source": [
    "80/5000."
   ]
  },
  {
   "cell_type": "code",
   "execution_count": 22,
   "id": "75392d56",
   "metadata": {},
   "outputs": [],
   "source": [
    "import shutil"
   ]
  },
  {
   "cell_type": "code",
   "execution_count": 47,
   "id": "e31d6b9e",
   "metadata": {},
   "outputs": [],
   "source": [
    "for f in corrupted:\n",
    "    shutil.move(f, \"/ceph/cms/store/user/dspitzba/ProjectMetis/TTWToLNu_TtoLep_aTtoHad_5f_EFT_NLO_RunIISummer20_NanoGEN_NANO_v13/corrupted/\")"
   ]
  },
  {
   "cell_type": "code",
   "execution_count": null,
   "id": "24a3893b",
   "metadata": {},
   "outputs": [],
   "source": []
  }
 ],
 "metadata": {
  "kernelspec": {
   "display_name": "coffeadev4",
   "language": "python",
   "name": "coffeadev4"
  },
  "language_info": {
   "codemirror_mode": {
    "name": "ipython",
    "version": 3
   },
   "file_extension": ".py",
   "mimetype": "text/x-python",
   "name": "python",
   "nbconvert_exporter": "python",
   "pygments_lexer": "ipython3",
   "version": "3.9.7"
  }
 },
 "nbformat": 4,
 "nbformat_minor": 5
}
