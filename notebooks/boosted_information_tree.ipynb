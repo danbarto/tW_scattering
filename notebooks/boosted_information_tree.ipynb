{
 "cells": [
  {
   "cell_type": "code",
   "execution_count": 1,
   "id": "82fbe0d0",
   "metadata": {},
   "outputs": [],
   "source": [
    "%load_ext autoreload\n",
    "%autoreload 2"
   ]
  },
  {
   "cell_type": "code",
   "execution_count": 2,
   "id": "aaa8f3d4",
   "metadata": {},
   "outputs": [],
   "source": [
    "import os\n",
    "import warnings\n",
    "warnings.filterwarnings('ignore')\n",
    "\n",
    "# data handling and numerical analysis\n",
    "import uproot\n",
    "import awkward as ak\n",
    "import numpy as np\n",
    "import pandas as pd\n",
    "\n",
    "import scipy\n",
    "\n",
    "from coffea.nanoevents import NanoEventsFactory, NanoAODSchema\n",
    "\n",
    "from Tools.config_helpers import get_samples\n",
    "from Tools.HyperPoly import *\n",
    "from Tools.reweighting import get_coordinates_and_ref, get_coordinates\n",
    "\n",
    "from BoostedInformationTreeP3 import BoostedInformationTree\n",
    "\n",
    "from sklearn.preprocessing import LabelEncoder, RobustScaler\n",
    "from sklearn.utils import resample, shuffle\n",
    "\n",
    "from yahist import Hist1D\n",
    "\n",
    "import matplotlib.pyplot as plt\n",
    "import mplhep as hep\n",
    "plt.style.use(hep.style.CMS)"
   ]
  },
  {
   "cell_type": "code",
   "execution_count": 3,
   "id": "14d5cc9e",
   "metadata": {},
   "outputs": [],
   "source": [
    "sample_list =  ['TTW', 'TTZ','TTH']\n",
    "#years = ['2016APV', '2016', '2017', '2018']\n",
    "years = ['2016APV', '2016', '2017']\n",
    "df_bkg = pd.DataFrame()\n",
    "for year in years:\n",
    "    tmp = pd.concat([pd.read_hdf(f\"../processor/multiclass_input_{sample}_{year}.h5\") for sample in sample_list])\n",
    "    df_bkg = pd.concat([df_bkg, tmp])\n",
    "del tmp"
   ]
  },
  {
   "cell_type": "code",
   "execution_count": 4,
   "id": "8232b0de",
   "metadata": {},
   "outputs": [
    {
     "data": {
      "text/plain": [
       "26933"
      ]
     },
     "execution_count": 4,
     "metadata": {},
     "output_type": "execute_result"
    }
   ],
   "source": [
    "df_signal = pd.read_hdf(\"../processor/multiclass_input_topW_2017.h5\")\n",
    "len(df_signal[(df_signal['SS']==1)])"
   ]
  },
  {
   "cell_type": "code",
   "execution_count": 5,
   "id": "dbfd49f0",
   "metadata": {},
   "outputs": [
    {
     "data": {
      "text/plain": [
       "44017"
      ]
     },
     "execution_count": 5,
     "metadata": {},
     "output_type": "execute_result"
    }
   ],
   "source": [
    "df_signal = pd.concat([pd.read_hdf(f\"../processor/multiclass_input_topW_{year}.h5\") for year in years])\n",
    "\n",
    "len(df_signal[(df_signal['SS']==1)])"
   ]
  },
  {
   "cell_type": "code",
   "execution_count": 6,
   "id": "7ff5b05c",
   "metadata": {},
   "outputs": [
    {
     "data": {
      "text/plain": [
       "85690"
      ]
     },
     "execution_count": 6,
     "metadata": {},
     "output_type": "execute_result"
    }
   ],
   "source": [
    "len(df_signal[((df_signal['SS']==1)|((df_signal['OS']==1)&(df_signal['nLepFromTop']==1)))])"
   ]
  },
  {
   "cell_type": "code",
   "execution_count": 7,
   "id": "e74fec09",
   "metadata": {},
   "outputs": [],
   "source": [
    "df_signal_SS = df_signal[(df_signal['SS']==1)]\n",
    "df_signal_SS_tight = df_signal[((df_signal['SS']==1)&(df_signal['nLepFromTop']==1))]\n",
    "df_signal_OS = df_signal[((df_signal['OS']==1)&(df_signal['nLepFromTop']==1))]"
   ]
  },
  {
   "cell_type": "code",
   "execution_count": 8,
   "id": "f1c8ffbc",
   "metadata": {},
   "outputs": [
    {
     "data": {
      "text/plain": [
       "44017"
      ]
     },
     "execution_count": 8,
     "metadata": {},
     "output_type": "execute_result"
    }
   ],
   "source": [
    "len(df_signal_SS)"
   ]
  },
  {
   "cell_type": "code",
   "execution_count": 9,
   "id": "c53783ef",
   "metadata": {},
   "outputs": [
    {
     "data": {
      "text/plain": [
       "41673"
      ]
     },
     "execution_count": 9,
     "metadata": {},
     "output_type": "execute_result"
    }
   ],
   "source": [
    "len(df_signal_OS)"
   ]
  },
  {
   "cell_type": "markdown",
   "id": "978bdbdb",
   "metadata": {},
   "source": [
    "## Double the training set size.\n",
    "\n",
    "Check that OS with exactly one leptonic top look exactly like SS events for our variables (e.g. lepton kinematics, mll)"
   ]
  },
  {
   "cell_type": "code",
   "execution_count": 10,
   "id": "aa71e20d",
   "metadata": {},
   "outputs": [
    {
     "data": {
      "text/plain": [
       "<matplotlib.legend.Legend at 0x7f4a67d26430>"
      ]
     },
     "execution_count": 10,
     "metadata": {},
     "output_type": "execute_result"
    },
    {
     "data": {
      "image/png": "[encoded data removed]",
      "text/plain": [
       "<Figure size 720x720 with 1 Axes>"
      ]
     },
     "metadata": {
      "needs_background": "light"
     },
     "output_type": "display_data"
    }
   ],
   "source": [
    "h_mll_SS = Hist1D(df_signal_SS['dilepton_mass'], bins=\"25,0,500\")\n",
    "h_mll_OS = Hist1D(df_signal_OS['dilepton_mass'], bins=\"25,0,500\")\n",
    "\n",
    "fig, ax = plt.subplots(figsize=(10,10))\n",
    "\n",
    "hep.cms.label(\n",
    "    \"Preliminary\",\n",
    "    data=False,\n",
    "    lumi=60.0,\n",
    "    loc=0,\n",
    "    ax=ax,\n",
    ")\n",
    "\n",
    "hep.histplot(\n",
    "    [ h_mll_SS.counts, h_mll_OS.counts ],\n",
    "    h_mll_SS.edges,\n",
    "    w2=[ h_mll_SS.errors**2, h_mll_OS.errors**2 ],\n",
    "    histtype=\"step\",\n",
    "    stack=False,\n",
    "    label=['SS', 'OS'],\n",
    "    density=True,\n",
    "    ax=ax)\n",
    "\n",
    "ax.legend()"
   ]
  },
  {
   "cell_type": "code",
   "execution_count": 11,
   "id": "9450ac04",
   "metadata": {},
   "outputs": [
    {
     "data": {
      "text/plain": [
       "<matplotlib.legend.Legend at 0x7f4a67b02c10>"
      ]
     },
     "execution_count": 11,
     "metadata": {},
     "output_type": "execute_result"
    },
    {
     "data": {
      "image/png": "[encoded data removed]",
      "text/plain": [
       "<Figure size 720x720 with 1 Axes>"
      ]
     },
     "metadata": {
      "needs_background": "light"
     },
     "output_type": "display_data"
    }
   ],
   "source": [
    "h_lead_lep_pt_SS = Hist1D(df_signal_SS['lead_lep_pt'], bins=\"25,0,500\")\n",
    "h_lead_lep_pt_OS = Hist1D(df_signal_OS['lead_lep_pt'], bins=\"25,0,500\")\n",
    "\n",
    "fig, ax = plt.subplots(figsize=(10,10))\n",
    "\n",
    "hep.cms.label(\n",
    "    \"Preliminary\",\n",
    "    data=False,\n",
    "    lumi=60.0,\n",
    "    loc=0,\n",
    "    ax=ax,\n",
    ")\n",
    "\n",
    "hep.histplot(\n",
    "    [ h_lead_lep_pt_SS.counts, h_lead_lep_pt_OS.counts ],\n",
    "    h_mll_SS.edges,\n",
    "    w2=[ h_lead_lep_pt_SS.errors**2, h_lead_lep_pt_OS.errors**2 ],\n",
    "    histtype=\"step\",\n",
    "    stack=False,\n",
    "    label=['SS', 'OS'],\n",
    "    density=True,\n",
    "    ax=ax)\n",
    "\n",
    "ax.legend()"
   ]
  },
  {
   "cell_type": "code",
   "execution_count": 12,
   "id": "ea364646",
   "metadata": {},
   "outputs": [
    {
     "data": {
      "text/html": [
       "<div>\n",
       "<style scoped>\n",
       "    .dataframe tbody tr th:only-of-type {\n",
       "        vertical-align: middle;\n",
       "    }\n",
       "\n",
       "    .dataframe tbody tr th {\n",
       "        vertical-align: top;\n",
       "    }\n",
       "\n",
       "    .dataframe thead th {\n",
       "        text-align: right;\n",
       "    }\n",
       "</style>\n",
       "<table border=\"1\" class=\"dataframe\">\n",
       "  <thead>\n",
       "    <tr style=\"text-align: right;\">\n",
       "      <th></th>\n",
       "      <th>n_jet</th>\n",
       "      <th>n_b</th>\n",
       "      <th>n_fwd</th>\n",
       "      <th>n_tau</th>\n",
       "      <th>st</th>\n",
       "      <th>met</th>\n",
       "      <th>mjj_max</th>\n",
       "      <th>delta_eta_jj</th>\n",
       "      <th>lead_lep_pt</th>\n",
       "      <th>lead_lep_eta</th>\n",
       "      <th>...</th>\n",
       "      <th>nLepFromTop</th>\n",
       "      <th>label</th>\n",
       "      <th>total_charge</th>\n",
       "      <th>event</th>\n",
       "      <th>cpt_0p_cpQM_0p_nlo</th>\n",
       "      <th>cpt_0p_cpQM_3p_nlo</th>\n",
       "      <th>cpt_0p_cpQM_6p_nlo</th>\n",
       "      <th>cpt_3p_cpQM_0p_nlo</th>\n",
       "      <th>cpt_6p_cpQM_0p_nlo</th>\n",
       "      <th>cpt_3p_cpQM_3p_nlo</th>\n",
       "    </tr>\n",
       "  </thead>\n",
       "  <tbody>\n",
       "    <tr>\n",
       "      <th>2</th>\n",
       "      <td>8.0</td>\n",
       "      <td>3.0</td>\n",
       "      <td>0.0</td>\n",
       "      <td>0.0</td>\n",
       "      <td>1114.246302</td>\n",
       "      <td>289.113037</td>\n",
       "      <td>0.000000</td>\n",
       "      <td>0.000000</td>\n",
       "      <td>38.327999</td>\n",
       "      <td>0.324524</td>\n",
       "      <td>...</td>\n",
       "      <td>1.0</td>\n",
       "      <td>0.0</td>\n",
       "      <td>2.0</td>\n",
       "      <td>2608.0</td>\n",
       "      <td>0.999969</td>\n",
       "      <td>1.389038</td>\n",
       "      <td>2.409790</td>\n",
       "      <td>1.413452</td>\n",
       "      <td>2.464233</td>\n",
       "      <td>1.620850</td>\n",
       "    </tr>\n",
       "    <tr>\n",
       "      <th>3</th>\n",
       "      <td>4.0</td>\n",
       "      <td>1.0</td>\n",
       "      <td>0.0</td>\n",
       "      <td>0.0</td>\n",
       "      <td>327.285095</td>\n",
       "      <td>45.718220</td>\n",
       "      <td>0.000000</td>\n",
       "      <td>0.000000</td>\n",
       "      <td>49.893337</td>\n",
       "      <td>0.140076</td>\n",
       "      <td>...</td>\n",
       "      <td>1.0</td>\n",
       "      <td>0.0</td>\n",
       "      <td>2.0</td>\n",
       "      <td>2615.0</td>\n",
       "      <td>1.000061</td>\n",
       "      <td>0.783478</td>\n",
       "      <td>0.606445</td>\n",
       "      <td>0.920288</td>\n",
       "      <td>0.860992</td>\n",
       "      <td>0.719299</td>\n",
       "    </tr>\n",
       "    <tr>\n",
       "      <th>7</th>\n",
       "      <td>7.0</td>\n",
       "      <td>1.0</td>\n",
       "      <td>0.0</td>\n",
       "      <td>0.0</td>\n",
       "      <td>702.498241</td>\n",
       "      <td>38.902111</td>\n",
       "      <td>0.000000</td>\n",
       "      <td>0.000000</td>\n",
       "      <td>95.846756</td>\n",
       "      <td>-0.400818</td>\n",
       "      <td>...</td>\n",
       "      <td>1.0</td>\n",
       "      <td>0.0</td>\n",
       "      <td>-2.0</td>\n",
       "      <td>2704.0</td>\n",
       "      <td>1.000000</td>\n",
       "      <td>0.794525</td>\n",
       "      <td>0.690918</td>\n",
       "      <td>1.222351</td>\n",
       "      <td>1.551819</td>\n",
       "      <td>0.943817</td>\n",
       "    </tr>\n",
       "    <tr>\n",
       "      <th>19</th>\n",
       "      <td>8.0</td>\n",
       "      <td>2.0</td>\n",
       "      <td>1.0</td>\n",
       "      <td>0.0</td>\n",
       "      <td>1288.633255</td>\n",
       "      <td>189.510834</td>\n",
       "      <td>719.777649</td>\n",
       "      <td>4.405884</td>\n",
       "      <td>237.965927</td>\n",
       "      <td>-0.719849</td>\n",
       "      <td>...</td>\n",
       "      <td>1.0</td>\n",
       "      <td>0.0</td>\n",
       "      <td>2.0</td>\n",
       "      <td>3025.0</td>\n",
       "      <td>1.000732</td>\n",
       "      <td>11.596191</td>\n",
       "      <td>45.652344</td>\n",
       "      <td>8.506348</td>\n",
       "      <td>40.308594</td>\n",
       "      <td>16.655273</td>\n",
       "    </tr>\n",
       "    <tr>\n",
       "      <th>21</th>\n",
       "      <td>6.0</td>\n",
       "      <td>1.0</td>\n",
       "      <td>2.0</td>\n",
       "      <td>0.0</td>\n",
       "      <td>2474.528374</td>\n",
       "      <td>780.010864</td>\n",
       "      <td>1200.096191</td>\n",
       "      <td>2.662720</td>\n",
       "      <td>140.800415</td>\n",
       "      <td>-0.263733</td>\n",
       "      <td>...</td>\n",
       "      <td>1.0</td>\n",
       "      <td>0.0</td>\n",
       "      <td>2.0</td>\n",
       "      <td>3144.0</td>\n",
       "      <td>1.000000</td>\n",
       "      <td>1.140320</td>\n",
       "      <td>1.898804</td>\n",
       "      <td>1.118530</td>\n",
       "      <td>1.565613</td>\n",
       "      <td>1.240173</td>\n",
       "    </tr>\n",
       "    <tr>\n",
       "      <th>...</th>\n",
       "      <td>...</td>\n",
       "      <td>...</td>\n",
       "      <td>...</td>\n",
       "      <td>...</td>\n",
       "      <td>...</td>\n",
       "      <td>...</td>\n",
       "      <td>...</td>\n",
       "      <td>...</td>\n",
       "      <td>...</td>\n",
       "      <td>...</td>\n",
       "      <td>...</td>\n",
       "      <td>...</td>\n",
       "      <td>...</td>\n",
       "      <td>...</td>\n",
       "      <td>...</td>\n",
       "      <td>...</td>\n",
       "      <td>...</td>\n",
       "      <td>...</td>\n",
       "      <td>...</td>\n",
       "      <td>...</td>\n",
       "      <td>...</td>\n",
       "    </tr>\n",
       "    <tr>\n",
       "      <th>82934</th>\n",
       "      <td>6.0</td>\n",
       "      <td>2.0</td>\n",
       "      <td>0.0</td>\n",
       "      <td>0.0</td>\n",
       "      <td>628.032852</td>\n",
       "      <td>60.028496</td>\n",
       "      <td>0.000000</td>\n",
       "      <td>0.000000</td>\n",
       "      <td>84.398598</td>\n",
       "      <td>0.936890</td>\n",
       "      <td>...</td>\n",
       "      <td>1.0</td>\n",
       "      <td>0.0</td>\n",
       "      <td>-2.0</td>\n",
       "      <td>989.0</td>\n",
       "      <td>1.000000</td>\n",
       "      <td>0.941650</td>\n",
       "      <td>0.926086</td>\n",
       "      <td>0.957672</td>\n",
       "      <td>0.959290</td>\n",
       "      <td>0.883606</td>\n",
       "    </tr>\n",
       "    <tr>\n",
       "      <th>82935</th>\n",
       "      <td>6.0</td>\n",
       "      <td>2.0</td>\n",
       "      <td>1.0</td>\n",
       "      <td>0.0</td>\n",
       "      <td>1165.259678</td>\n",
       "      <td>483.590179</td>\n",
       "      <td>319.868744</td>\n",
       "      <td>3.927490</td>\n",
       "      <td>178.949219</td>\n",
       "      <td>-0.297241</td>\n",
       "      <td>...</td>\n",
       "      <td>1.0</td>\n",
       "      <td>0.0</td>\n",
       "      <td>2.0</td>\n",
       "      <td>1026.0</td>\n",
       "      <td>1.000244</td>\n",
       "      <td>10.615234</td>\n",
       "      <td>38.330078</td>\n",
       "      <td>6.000977</td>\n",
       "      <td>25.613281</td>\n",
       "      <td>13.471680</td>\n",
       "    </tr>\n",
       "    <tr>\n",
       "      <th>82936</th>\n",
       "      <td>4.0</td>\n",
       "      <td>1.0</td>\n",
       "      <td>0.0</td>\n",
       "      <td>0.0</td>\n",
       "      <td>801.025486</td>\n",
       "      <td>146.800858</td>\n",
       "      <td>0.000000</td>\n",
       "      <td>0.000000</td>\n",
       "      <td>92.279633</td>\n",
       "      <td>-1.469238</td>\n",
       "      <td>...</td>\n",
       "      <td>1.0</td>\n",
       "      <td>0.0</td>\n",
       "      <td>2.0</td>\n",
       "      <td>1029.0</td>\n",
       "      <td>0.999969</td>\n",
       "      <td>1.018250</td>\n",
       "      <td>1.807861</td>\n",
       "      <td>1.672119</td>\n",
       "      <td>3.057739</td>\n",
       "      <td>1.453064</td>\n",
       "    </tr>\n",
       "    <tr>\n",
       "      <th>82950</th>\n",
       "      <td>11.0</td>\n",
       "      <td>2.0</td>\n",
       "      <td>1.0</td>\n",
       "      <td>0.0</td>\n",
       "      <td>1351.246117</td>\n",
       "      <td>40.162548</td>\n",
       "      <td>694.930908</td>\n",
       "      <td>2.741821</td>\n",
       "      <td>55.307938</td>\n",
       "      <td>1.325439</td>\n",
       "      <td>...</td>\n",
       "      <td>1.0</td>\n",
       "      <td>0.0</td>\n",
       "      <td>2.0</td>\n",
       "      <td>1361.0</td>\n",
       "      <td>1.000000</td>\n",
       "      <td>0.827789</td>\n",
       "      <td>0.681305</td>\n",
       "      <td>1.127869</td>\n",
       "      <td>1.283508</td>\n",
       "      <td>0.938049</td>\n",
       "    </tr>\n",
       "    <tr>\n",
       "      <th>82954</th>\n",
       "      <td>6.0</td>\n",
       "      <td>2.0</td>\n",
       "      <td>0.0</td>\n",
       "      <td>0.0</td>\n",
       "      <td>1043.101772</td>\n",
       "      <td>76.415894</td>\n",
       "      <td>0.000000</td>\n",
       "      <td>0.000000</td>\n",
       "      <td>170.462921</td>\n",
       "      <td>-0.609741</td>\n",
       "      <td>...</td>\n",
       "      <td>1.0</td>\n",
       "      <td>0.0</td>\n",
       "      <td>-2.0</td>\n",
       "      <td>1557.0</td>\n",
       "      <td>0.999969</td>\n",
       "      <td>0.800568</td>\n",
       "      <td>1.044922</td>\n",
       "      <td>1.570618</td>\n",
       "      <td>2.541626</td>\n",
       "      <td>1.229065</td>\n",
       "    </tr>\n",
       "  </tbody>\n",
       "</table>\n",
       "<p>44017 rows × 45 columns</p>\n",
       "</div>"
      ],
      "text/plain": [
       "       n_jet  n_b  n_fwd  n_tau           st         met      mjj_max  \\\n",
       "2        8.0  3.0    0.0    0.0  1114.246302  289.113037     0.000000   \n",
       "3        4.0  1.0    0.0    0.0   327.285095   45.718220     0.000000   \n",
       "7        7.0  1.0    0.0    0.0   702.498241   38.902111     0.000000   \n",
       "19       8.0  2.0    1.0    0.0  1288.633255  189.510834   719.777649   \n",
       "21       6.0  1.0    2.0    0.0  2474.528374  780.010864  1200.096191   \n",
       "...      ...  ...    ...    ...          ...         ...          ...   \n",
       "82934    6.0  2.0    0.0    0.0   628.032852   60.028496     0.000000   \n",
       "82935    6.0  2.0    1.0    0.0  1165.259678  483.590179   319.868744   \n",
       "82936    4.0  1.0    0.0    0.0   801.025486  146.800858     0.000000   \n",
       "82950   11.0  2.0    1.0    0.0  1351.246117   40.162548   694.930908   \n",
       "82954    6.0  2.0    0.0    0.0  1043.101772   76.415894     0.000000   \n",
       "\n",
       "       delta_eta_jj  lead_lep_pt  lead_lep_eta  ...  nLepFromTop  label  \\\n",
       "2          0.000000    38.327999      0.324524  ...          1.0    0.0   \n",
       "3          0.000000    49.893337      0.140076  ...          1.0    0.0   \n",
       "7          0.000000    95.846756     -0.400818  ...          1.0    0.0   \n",
       "19         4.405884   237.965927     -0.719849  ...          1.0    0.0   \n",
       "21         2.662720   140.800415     -0.263733  ...          1.0    0.0   \n",
       "...             ...          ...           ...  ...          ...    ...   \n",
       "82934      0.000000    84.398598      0.936890  ...          1.0    0.0   \n",
       "82935      3.927490   178.949219     -0.297241  ...          1.0    0.0   \n",
       "82936      0.000000    92.279633     -1.469238  ...          1.0    0.0   \n",
       "82950      2.741821    55.307938      1.325439  ...          1.0    0.0   \n",
       "82954      0.000000   170.462921     -0.609741  ...          1.0    0.0   \n",
       "\n",
       "       total_charge   event  cpt_0p_cpQM_0p_nlo  cpt_0p_cpQM_3p_nlo  \\\n",
       "2               2.0  2608.0            0.999969            1.389038   \n",
       "3               2.0  2615.0            1.000061            0.783478   \n",
       "7              -2.0  2704.0            1.000000            0.794525   \n",
       "19              2.0  3025.0            1.000732           11.596191   \n",
       "21              2.0  3144.0            1.000000            1.140320   \n",
       "...             ...     ...                 ...                 ...   \n",
       "82934          -2.0   989.0            1.000000            0.941650   \n",
       "82935           2.0  1026.0            1.000244           10.615234   \n",
       "82936           2.0  1029.0            0.999969            1.018250   \n",
       "82950           2.0  1361.0            1.000000            0.827789   \n",
       "82954          -2.0  1557.0            0.999969            0.800568   \n",
       "\n",
       "       cpt_0p_cpQM_6p_nlo  cpt_3p_cpQM_0p_nlo  cpt_6p_cpQM_0p_nlo  \\\n",
       "2                2.409790            1.413452            2.464233   \n",
       "3                0.606445            0.920288            0.860992   \n",
       "7                0.690918            1.222351            1.551819   \n",
       "19              45.652344            8.506348           40.308594   \n",
       "21               1.898804            1.118530            1.565613   \n",
       "...                   ...                 ...                 ...   \n",
       "82934            0.926086            0.957672            0.959290   \n",
       "82935           38.330078            6.000977           25.613281   \n",
       "82936            1.807861            1.672119            3.057739   \n",
       "82950            0.681305            1.127869            1.283508   \n",
       "82954            1.044922            1.570618            2.541626   \n",
       "\n",
       "       cpt_3p_cpQM_3p_nlo  \n",
       "2                1.620850  \n",
       "3                0.719299  \n",
       "7                0.943817  \n",
       "19              16.655273  \n",
       "21               1.240173  \n",
       "...                   ...  \n",
       "82934            0.883606  \n",
       "82935           13.471680  \n",
       "82936            1.453064  \n",
       "82950            0.938049  \n",
       "82954            1.229065  \n",
       "\n",
       "[44017 rows x 45 columns]"
      ]
     },
     "execution_count": 12,
     "metadata": {},
     "output_type": "execute_result"
    }
   ],
   "source": [
    "df_signal[(df_signal['SS']==1)]"
   ]
  },
  {
   "cell_type": "code",
   "execution_count": 13,
   "id": "1b094f14",
   "metadata": {},
   "outputs": [
    {
     "data": {
      "text/plain": [
       "21.360046357292795"
      ]
     },
     "execution_count": 13,
     "metadata": {},
     "output_type": "execute_result"
    }
   ],
   "source": [
    "sum(df_signal['weight'][((df_signal['SS']==1)&(df_signal['n_fwd']>=1))])"
   ]
  },
  {
   "cell_type": "code",
   "execution_count": 14,
   "id": "37bd737d",
   "metadata": {},
   "outputs": [
    {
     "data": {
      "text/plain": [
       "44.741852148817756"
      ]
     },
     "execution_count": 14,
     "metadata": {},
     "output_type": "execute_result"
    }
   ],
   "source": [
    "sum(df_signal['weight'][((df_signal['SS']==1)&(df_signal['n_fwd']>=1))]*df_signal['cpt_6p_cpQM_0p_nlo'][((df_signal['SS']==1)&(df_signal['n_fwd']>=1))])"
   ]
  },
  {
   "cell_type": "code",
   "execution_count": 15,
   "id": "719022ed",
   "metadata": {},
   "outputs": [
    {
     "data": {
      "text/plain": [
       "181.83501454959512"
      ]
     },
     "execution_count": 15,
     "metadata": {},
     "output_type": "execute_result"
    }
   ],
   "source": [
    "sum(df_bkg['weight'][((df_bkg['SS']==1)&(df_bkg['n_fwd']>=1))])"
   ]
  },
  {
   "cell_type": "code",
   "execution_count": 16,
   "id": "a7bdd0f5",
   "metadata": {},
   "outputs": [
    {
     "data": {
      "text/plain": [
       "0        0.999969\n",
       "1        1.000000\n",
       "2        0.999969\n",
       "3        1.000061\n",
       "4        1.000000\n",
       "           ...   \n",
       "82954    0.999969\n",
       "82955    1.000000\n",
       "82956    1.000000\n",
       "82957    1.000000\n",
       "82958    0.999969\n",
       "Name: cpt_0p_cpQM_0p_nlo, Length: 136010, dtype: float64"
      ]
     },
     "execution_count": 16,
     "metadata": {},
     "output_type": "execute_result"
    }
   ],
   "source": [
    "df_signal['cpt_0p_cpQM_0p_nlo']"
   ]
  },
  {
   "cell_type": "markdown",
   "id": "4d9cfd69",
   "metadata": {},
   "source": [
    "# EFT inputs\n",
    "\n",
    "We need the polynomial parametrization. Do we have them in the samples?"
   ]
  },
  {
   "cell_type": "code",
   "execution_count": 17,
   "id": "7a83b866",
   "metadata": {},
   "outputs": [],
   "source": [
    "samples = get_samples(\"samples_UL17.yaml\")"
   ]
  },
  {
   "cell_type": "code",
   "execution_count": 18,
   "id": "0f265d24",
   "metadata": {},
   "outputs": [
    {
     "data": {
      "text/plain": [
       "['/ceph/cms/store/user/dspitzba/nanoAOD/ttw_samples//topW_v0.7.0_dilep/ProjectMetis_TTW_5f_EFT_NLO_RunIISummer20UL17_NanoAODv9_NANO_v11/merged/nanoSkim_2.root',\n",
       " '/ceph/cms/store/user/dspitzba/nanoAOD/ttw_samples//topW_v0.7.0_dilep/ProjectMetis_TTW_5f_EFT_NLO_RunIISummer20UL17_NanoAODv9_NANO_v11/merged/nanoSkim_1.root']"
      ]
     },
     "execution_count": 18,
     "metadata": {},
     "output_type": "execute_result"
    }
   ],
   "source": [
    "samples['/ceph/cms/store/user/dspitzba/ProjectMetis/TTW_5f_EFT_NLO_RunIISummer20UL17_NanoAODv9_NANO_v11/']['files']"
   ]
  },
  {
   "cell_type": "code",
   "execution_count": 19,
   "id": "3dc4dae6",
   "metadata": {},
   "outputs": [],
   "source": [
    "f_in = samples['/ceph/cms/store/user/dspitzba/ProjectMetis/TTW_5f_EFT_NLO_RunIISummer20UL17_NanoAODv9_NANO_v11/']['files'][0]\n",
    "\n",
    "n_max = 1000\n",
    "events = NanoEventsFactory.from_root(\n",
    "    f_in,\n",
    "    schemaclass = NanoAODSchema,\n",
    "    entry_stop = n_max).events()"
   ]
  },
  {
   "cell_type": "code",
   "execution_count": 20,
   "id": "8a7847e2",
   "metadata": {},
   "outputs": [
    {
     "data": {
      "text/plain": [
       "<Array [1, 0.0389, ... -0.00451, 0.00244] type='6 * float32[parameters={\"__doc__...'>"
      ]
     },
     "execution_count": 20,
     "metadata": {},
     "output_type": "execute_result"
    }
   ],
   "source": [
    "events.Pol[0]"
   ]
  },
  {
   "cell_type": "code",
   "execution_count": 21,
   "id": "8884971b",
   "metadata": {},
   "outputs": [],
   "source": [
    "hp = HyperPoly(2)\n",
    "    \n",
    "coordinates, ref_coordinates = get_coordinates_and_ref(f_in)\n",
    "\n",
    "ref_coordinates = [0.0,0.0]\n",
    "\n",
    "hp.initialize( coordinates, ref_coordinates )\n",
    "\n",
    "tree    = uproot.open(f_in)['Events']\n",
    "\n",
    "weights = [ x.replace('LHEWeight_','') for x in tree.keys() if x.startswith('LHEWeight_c') ]"
   ]
  },
  {
   "cell_type": "code",
   "execution_count": 22,
   "id": "c6946bdc",
   "metadata": {},
   "outputs": [
    {
     "data": {
      "text/plain": [
       "['cpt_0p_cpQM_0p_nlo',\n",
       " 'cpt_3p_cpQM_0p_nlo',\n",
       " 'cpt_0p_cpQM_3p_nlo',\n",
       " 'cpt_6p_cpQM_0p_nlo',\n",
       " 'cpt_3p_cpQM_3p_nlo',\n",
       " 'cpt_0p_cpQM_6p_nlo']"
      ]
     },
     "execution_count": 22,
     "metadata": {},
     "output_type": "execute_result"
    }
   ],
   "source": [
    "weights"
   ]
  },
  {
   "cell_type": "code",
   "execution_count": 23,
   "id": "2e366a80",
   "metadata": {},
   "outputs": [
    {
     "data": {
      "text/plain": [
       "<Array [1, 1, 1, 1, 1, 1, ... 1, 1, 1, 1, 1, 1] type='1000 * float32[parameters=...'>"
      ]
     },
     "execution_count": 23,
     "metadata": {},
     "output_type": "execute_result"
    }
   ],
   "source": [
    "events.LHEWeight.cpt_0p_cpQM_0p_nlo"
   ]
  },
  {
   "cell_type": "code",
   "execution_count": 24,
   "id": "c3dcb00c",
   "metadata": {},
   "outputs": [
    {
     "data": {
      "text/plain": [
       "<Array [1, 1, 1, 1, 1, 1, ... 1, 1, 1, 1, 1, 1] type='1000 * float32[parameters=...'>"
      ]
     },
     "execution_count": 24,
     "metadata": {},
     "output_type": "execute_result"
    }
   ],
   "source": [
    "getattr(events.LHEWeight, weights[0])"
   ]
  },
  {
   "cell_type": "code",
   "execution_count": 25,
   "id": "dc85c99a",
   "metadata": {},
   "outputs": [],
   "source": [
    "para = hp.get_parametrization( [getattr(events.LHEWeight, w) for w in weights] )"
   ]
  },
  {
   "cell_type": "code",
   "execution_count": 26,
   "id": "e1b18123",
   "metadata": {},
   "outputs": [
    {
     "data": {
      "text/plain": [
       "array([ 0.99996948,  0.03894552, -0.04680379,  0.00247023, -0.00450643,\n",
       "        0.00243802])"
      ]
     },
     "execution_count": 26,
     "metadata": {},
     "output_type": "execute_result"
    }
   ],
   "source": [
    "para[:,0]"
   ]
  },
  {
   "cell_type": "code",
   "execution_count": 27,
   "id": "7cdf9e75",
   "metadata": {},
   "outputs": [
    {
     "data": {
      "text/plain": [
       "'0.999969+0.038946*x0-0.046804*x1+0.00247*x0**2-0.004506*x0*x1+0.002438*x1**2'"
      ]
     },
     "execution_count": 27,
     "metadata": {},
     "output_type": "execute_result"
    }
   ],
   "source": [
    "hp.root_func_string(para[:,0])"
   ]
  },
  {
   "cell_type": "markdown",
   "id": "3e0a4fb7",
   "metadata": {},
   "source": [
    "# Boosted Info Tree"
   ]
  },
  {
   "cell_type": "code",
   "execution_count": 28,
   "id": "1806b5ce",
   "metadata": {},
   "outputs": [
    {
     "data": {
      "text/plain": [
       "array([0.99996948, 1.        , 0.99996948, ..., 1.        , 1.        ,\n",
       "       0.99996948])"
      ]
     },
     "execution_count": 28,
     "metadata": {},
     "output_type": "execute_result"
    }
   ],
   "source": [
    "df_signal['cpt_0p_cpQM_0p_nlo'].values"
   ]
  },
  {
   "cell_type": "code",
   "execution_count": 29,
   "id": "218879ef",
   "metadata": {},
   "outputs": [],
   "source": [
    "coeff = hp.get_parametrization( [df_signal[w].values for w in weights] )"
   ]
  },
  {
   "cell_type": "code",
   "execution_count": 30,
   "id": "6690c3ff",
   "metadata": {},
   "outputs": [
    {
     "data": {
      "text/plain": [
       "array([1.24450684, 1.14538574, 1.41345215, ..., 1.15240479, 1.66131592,\n",
       "       1.25018311])"
      ]
     },
     "execution_count": 30,
     "metadata": {},
     "output_type": "execute_result"
    }
   ],
   "source": [
    "hp.eval(coeff, [3.,0.])"
   ]
  },
  {
   "cell_type": "markdown",
   "id": "3681acba",
   "metadata": {},
   "source": [
    "We want coeffs with index 1 and 3, if I understand everything correctly here."
   ]
  },
  {
   "cell_type": "code",
   "execution_count": 31,
   "id": "c7ba5e80",
   "metadata": {},
   "outputs": [
    {
     "data": {
      "text/plain": [
       "array([0.07200623, 0.03689575, 0.03161112, ..., 0.04741414, 0.04400635,\n",
       "       0.06991069])"
      ]
     },
     "execution_count": 31,
     "metadata": {},
     "output_type": "execute_result"
    }
   ],
   "source": [
    "coeff[1,:]"
   ]
  },
  {
   "cell_type": "code",
   "execution_count": 32,
   "id": "38dd4d20",
   "metadata": {},
   "outputs": [],
   "source": [
    "df_signal['lt'] = (df_signal['lead_lep_pt'].values + df_signal['sublead_lep_pt'].values + df_signal['met'].values)\n",
    "df_bkg['lt'] = (df_bkg['lead_lep_pt'].values + df_bkg['sublead_lep_pt'].values + df_bkg['met'].values)\n",
    "\n",
    "# this roughly corresponds to labeling\n",
    "for i in range(6):\n",
    "    df_signal['coeff_%s'%i] = coeff[i,:]\n",
    "    df_bkg['coeff_%s'%i] = np.zeros(len(df_bkg))\n",
    "\n",
    "#df_signal['coeff'] = coeff.transpose()\n",
    "\n",
    "df_signal = df_signal[((df_signal['n_fwd']>=1))]\n",
    "df_bkg = df_bkg[((df_bkg['SS']==1)&(df_bkg['n_fwd']>=1))]\n",
    "\n",
    "# signal\n",
    "\n",
    "sig_train_sel = ((df_signal['OS']==1) & (df_signal['nLepFromTop']==1)) #((df_signal['event']%2)==1).values\n",
    "sig_test_sel = (df_signal['SS']==1)#~sig_train_sel\n",
    "\n",
    "sig_train = df_signal[sig_train_sel]\n",
    "sig_test = df_signal[sig_test_sel]\n",
    "\n",
    "# bkg\n",
    "\n",
    "bkg_train_sel = (df_bkg['event']%2)==1\n",
    "bkg_test_sel = ~bkg_train_sel\n",
    "\n",
    "#bkg_train = resample(df_bkg[bkg_train_sel], n_samples=len(sig_train))\n",
    "bkg_train = df_bkg[bkg_train_sel]\n",
    "bkg_test = df_bkg[bkg_test_sel]\n",
    "\n",
    "\n",
    "train = pd.concat([sig_train, bkg_train])\n",
    "#train['weight'] = abs(train['weight'])\n",
    "\n",
    "train = shuffle(train)\n",
    "\n",
    "\n",
    "variables = [\n",
    "        'n_jet',\n",
    "        'n_fwd',\n",
    "        'n_b',\n",
    "        'n_tau',\n",
    "        'st',\n",
    "        'lt',\n",
    "        'met',\n",
    "        'mjj_max',\n",
    "        'delta_eta_jj',\n",
    "        'lead_lep_pt',\n",
    "        'lead_lep_eta',\n",
    "        'sublead_lep_pt',\n",
    "        'sublead_lep_eta',\n",
    "        'dilepton_mass',\n",
    "        'dilepton_pt',\n",
    "        'fwd_jet_pt',\n",
    "        'fwd_jet_p',\n",
    "        'fwd_jet_eta',\n",
    "        'lead_jet_pt',\n",
    "        'sublead_jet_pt',\n",
    "        'lead_jet_eta',\n",
    "        'sublead_jet_eta',\n",
    "        'lead_btag_pt',\n",
    "        'sublead_btag_pt',\n",
    "        'lead_btag_eta',\n",
    "        'sublead_btag_eta',\n",
    "        'min_bl_dR',\n",
    "        'min_mt_lep_met',\n",
    "    ]\n",
    "\n",
    "variables = sorted(variables)\n"
   ]
  },
  {
   "cell_type": "code",
   "execution_count": 33,
   "id": "86b95dd7",
   "metadata": {},
   "outputs": [
    {
     "data": {
      "text/plain": [
       "20.231586134974307"
      ]
     },
     "execution_count": 33,
     "metadata": {},
     "output_type": "execute_result"
    }
   ],
   "source": [
    "sum(sig_train['weight'])"
   ]
  },
  {
   "cell_type": "code",
   "execution_count": 34,
   "id": "066cae44",
   "metadata": {},
   "outputs": [
    {
     "data": {
      "text/plain": [
       "91.27917800643452"
      ]
     },
     "execution_count": 34,
     "metadata": {},
     "output_type": "execute_result"
    }
   ],
   "source": [
    "sum(bkg_train['weight'])"
   ]
  },
  {
   "cell_type": "code",
   "execution_count": 92,
   "id": "f5d81773",
   "metadata": {},
   "outputs": [
    {
     "data": {
      "text/html": [
       "\n",
       "        <div style=\"max-height:1000px;max-width:1500px;overflow:auto\">\n",
       "        <b>total count</b>: 136010.0, <b>metadata</b>: {}<br>\n",
       "        <div style=\"display:flex;\">\n",
       "            <div style=\"display:inline;\">\n",
       "                \n",
       "                <table style='border:1px solid black;'\">\n",
       "                    <thead><tr><th>bin</th><th>content</th></tr></thead>\n",
       "                    <tr><td>(-0.1,-0.098)</td><td>0 ± 0</td></tr>\n",
       "<tr><td>(-0.098,-0.096)</td><td>0 ± 0</td></tr>\n",
       "<tr><td>(-0.096,-0.094)</td><td>0 ± 0</td></tr>\n",
       "<tr><td>(-0.094,-0.092)</td><td>0 ± 0</td></tr>\n",
       "<tr><td colspan='2'><center>[92 rows hidden]</center></td></tr>\n",
       "<tr><td>(0.092,0.094)</td><td>132 ± 11.4891</td></tr>\n",
       "<tr><td>(0.094,0.096)</td><td>105 ± 10.247</td></tr>\n",
       "<tr><td>(0.096,0.098)</td><td>85 ± 9.21954</td></tr>\n",
       "<tr><td>(0.098,0.1)</td><td>4257 ± 65.2457</td></tr>\n",
       "                </table>\n",
       "            \n",
       "            </div>\n",
       "            <div style=\"display:inline; margin: auto 2%;\">\n",
       "                <img src='data:image/svg+xml;base64,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'/>\n",
       "            </div>\n",
       "            </div>\n",
       "        </div>\n",
       "        "
      ],
      "text/plain": [
       "[ 0.00 ± 0.00    0.00 ± 0.00    0.00 ± 0.00    0.00 ± 0.00    0.00 ± 0.00\n",
       "  0.00 ± 0.00    0.00 ± 0.00    0.00 ± 0.00    0.00 ± 0.00    0.00 ± 0.00\n",
       "  0.00 ± 0.00    0.00 ± 0.00    0.00 ± 0.00    0.00 ± 0.00    0.00 ± 0.00\n",
       "  0.00 ± 0.00    0.00 ± 0.00    0.00 ± 0.00    2.00 ± 1.41    1.00 ± 1.00\n",
       "  0.00 ± 0.00    0.00 ± 0.00    0.00 ± 0.00    0.00 ± 0.00    0.00 ± 0.00\n",
       "  0.00 ± 0.00    0.00 ± 0.00    0.00 ± 0.00    0.00 ± 0.00    0.00 ± 0.00\n",
       "  0.00 ± 0.00    0.00 ± 0.00    0.00 ± 0.00    0.00 ± 0.00    0.00 ± 0.00\n",
       "  1.00 ± 1.00    0.00 ± 0.00    0.00 ± 0.00    0.00 ± 0.00    1.00 ± 1.00\n",
       "  1.00 ± 1.00    6.00 ± 2.45    0.00 ± 0.00    0.00 ± 0.00    0.00 ± 0.00\n",
       "  3.00 ± 1.73    5.00 ± 2.24    8.00 ± 2.83   19.00 ± 4.36\n",
       " 112.00 ± 10.58   39601.00 ± 199.00   30026.00 ± 173.28\n",
       " 15242.00 ± 123.46   9255.00 ± 96.20   6445.00 ± 80.28   4603.00 ± 67.85\n",
       " 3355.00 ± 57.92   2779.00 ± 52.72   2364.00 ± 48.62   1898.00 ± 43.57\n",
       " 1624.00 ± 40.30   1436.00 ± 37.89   1282.00 ± 35.81   1019.00 ± 31.92\n",
       " 880.00 ± 29.66   858.00 ± 29.29   768.00 ± 27.71   628.00 ± 25.06\n",
       " 547.00 ± 23.39   519.00 ± 22.78   470.00 ± 21.68   440.00 ± 20.98\n",
       " 445.00 ± 21.10   336.00 ± 18.33   388.00 ± 19.70   375.00 ± 19.36\n",
       " 300.00 ± 17.32   277.00 ± 16.64   265.00 ± 16.28   263.00 ± 16.22\n",
       " 243.00 ± 15.59   244.00 ± 15.62   231.00 ± 15.20   212.00 ± 14.56\n",
       " 170.00 ± 13.04   183.00 ± 13.53   189.00 ± 13.75   129.00 ± 11.36\n",
       " 176.00 ± 13.27   129.00 ± 11.36   129.00 ± 11.36   117.00 ± 10.82\n",
       " 127.00 ± 11.27   105.00 ± 10.25   94.00 ± 9.70   106.00 ± 10.30\n",
       " 132.00 ± 11.49   105.00 ± 10.25   85.00 ± 9.22   4257.00 ± 65.25]"
      ]
     },
     "execution_count": 92,
     "metadata": {},
     "output_type": "execute_result"
    }
   ],
   "source": [
    "Hist1D(coeff[3,:], bins=\"100,-0.1,0.1\")"
   ]
  },
  {
   "cell_type": "code",
   "execution_count": 93,
   "id": "e07714c5",
   "metadata": {},
   "outputs": [],
   "source": []
  },
  {
   "cell_type": "code",
   "execution_count": 94,
   "id": "ea6156e2",
   "metadata": {},
   "outputs": [
    {
     "data": {
      "image/png": "[encoded data removed]",
      "text/plain": [
       "<Figure size 720x720 with 2 Axes>"
      ]
     },
     "metadata": {
      "needs_background": "light"
     },
     "output_type": "display_data"
    }
   ],
   "source": [
    "from ML.multiclassifier_tools import get_correlation_matrix, get_confusion_matrix\n",
    "plot_dir = '/home/users/dspitzba/public_html/tW_scattering/BIT/'\n",
    "\n",
    "get_correlation_matrix(\n",
    "    df_signal[['lt', 'coeff_0', 'coeff_1', 'coeff_2', 'coeff_3', 'coeff_4', 'coeff_5']], \n",
    "    f_out=plot_dir+'/correlation.png'\n",
    ")\n"
   ]
  },
  {
   "cell_type": "code",
   "execution_count": 95,
   "id": "f72cf30c",
   "metadata": {},
   "outputs": [
    {
     "data": {
      "text/html": [
       "<div>\n",
       "<style scoped>\n",
       "    .dataframe tbody tr th:only-of-type {\n",
       "        vertical-align: middle;\n",
       "    }\n",
       "\n",
       "    .dataframe tbody tr th {\n",
       "        vertical-align: top;\n",
       "    }\n",
       "\n",
       "    .dataframe thead th {\n",
       "        text-align: right;\n",
       "    }\n",
       "</style>\n",
       "<table border=\"1\" class=\"dataframe\">\n",
       "  <thead>\n",
       "    <tr style=\"text-align: right;\">\n",
       "      <th></th>\n",
       "      <th>coeff_3</th>\n",
       "      <th>coeff_5</th>\n",
       "    </tr>\n",
       "  </thead>\n",
       "  <tbody>\n",
       "    <tr>\n",
       "      <th>1</th>\n",
       "      <td>0.003855</td>\n",
       "      <td>0.003991</td>\n",
       "    </tr>\n",
       "    <tr>\n",
       "      <th>5</th>\n",
       "      <td>0.007155</td>\n",
       "      <td>0.006721</td>\n",
       "    </tr>\n",
       "    <tr>\n",
       "      <th>6</th>\n",
       "      <td>0.005546</td>\n",
       "      <td>0.005485</td>\n",
       "    </tr>\n",
       "    <tr>\n",
       "      <th>8</th>\n",
       "      <td>0.002051</td>\n",
       "      <td>0.002743</td>\n",
       "    </tr>\n",
       "    <tr>\n",
       "      <th>9</th>\n",
       "      <td>0.005191</td>\n",
       "      <td>0.005851</td>\n",
       "    </tr>\n",
       "    <tr>\n",
       "      <th>...</th>\n",
       "      <td>...</td>\n",
       "      <td>...</td>\n",
       "    </tr>\n",
       "    <tr>\n",
       "      <th>82953</th>\n",
       "      <td>0.001684</td>\n",
       "      <td>0.001675</td>\n",
       "    </tr>\n",
       "    <tr>\n",
       "      <th>82955</th>\n",
       "      <td>0.003961</td>\n",
       "      <td>0.005113</td>\n",
       "    </tr>\n",
       "    <tr>\n",
       "      <th>82956</th>\n",
       "      <td>0.001129</td>\n",
       "      <td>0.001139</td>\n",
       "    </tr>\n",
       "    <tr>\n",
       "      <th>82957</th>\n",
       "      <td>0.058811</td>\n",
       "      <td>0.059611</td>\n",
       "    </tr>\n",
       "    <tr>\n",
       "      <th>82958</th>\n",
       "      <td>0.004498</td>\n",
       "      <td>0.004501</td>\n",
       "    </tr>\n",
       "  </tbody>\n",
       "</table>\n",
       "<p>91874 rows × 2 columns</p>\n",
       "</div>"
      ],
      "text/plain": [
       "        coeff_3   coeff_5\n",
       "1      0.003855  0.003991\n",
       "5      0.007155  0.006721\n",
       "6      0.005546  0.005485\n",
       "8      0.002051  0.002743\n",
       "9      0.005191  0.005851\n",
       "...         ...       ...\n",
       "82953  0.001684  0.001675\n",
       "82955  0.003961  0.005113\n",
       "82956  0.001129  0.001139\n",
       "82957  0.058811  0.059611\n",
       "82958  0.004498  0.004501\n",
       "\n",
       "[91874 rows x 2 columns]"
      ]
     },
     "execution_count": 95,
     "metadata": {},
     "output_type": "execute_result"
    }
   ],
   "source": [
    "df_signal[['coeff_3', 'coeff_5']]"
   ]
  },
  {
   "cell_type": "code",
   "execution_count": 96,
   "id": "19d5ce94",
   "metadata": {},
   "outputs": [],
   "source": [
    "h_0 = Hist1D(df_signal['lt'], weights=df_signal['weight'], bins=\"20,100,500\")"
   ]
  },
  {
   "cell_type": "code",
   "execution_count": 35,
   "id": "e859dc30",
   "metadata": {},
   "outputs": [],
   "source": [
    "inputs = [np.expand_dims(df_signal['coeff_%s'%i], axis=1) for i in range(6)]\n",
    "\n",
    "coeffs = np.concatenate(inputs, axis=1)"
   ]
  },
  {
   "cell_type": "code",
   "execution_count": 98,
   "id": "17f6b352",
   "metadata": {},
   "outputs": [],
   "source": [
    "h_1 = Hist1D(df_signal['lt'], weights=df_signal['weight']*hp.eval(coeffs.transpose(), [1.,0.]), bins=\"20,100,500\")\n",
    "h_2 = Hist1D(df_signal['lt'], weights=df_signal['weight']*hp.eval(coeffs.transpose(), [2.,0.]), bins=\"20,100,500\")\n",
    "h_3 = Hist1D(df_signal['lt'], weights=df_signal['weight']*hp.eval(coeffs.transpose(), [3.,0.]), bins=\"20,100,500\")\n",
    "h_4 = Hist1D(df_signal['lt'], weights=df_signal['weight']*hp.eval(coeffs.transpose(), [4.,0.]), bins=\"20,100,500\")\n",
    "h_5 = Hist1D(df_signal['lt'], weights=df_signal['weight']*hp.eval(coeffs.transpose(), [5.,0.]), bins=\"20,100,500\")\n",
    "h_6 = Hist1D(df_signal['lt'], weights=df_signal['weight']*hp.eval(coeffs.transpose(), [6.,0.]), bins=\"20,100,500\")"
   ]
  },
  {
   "cell_type": "code",
   "execution_count": 99,
   "id": "e4b19b18",
   "metadata": {},
   "outputs": [
    {
     "data": {
      "text/plain": [
       "[StairsArtists(stairs=<matplotlib.patches.StepPatch object at 0x7f488c849eb0>, errorbar=None, legend_artist=None),\n",
       " StairsArtists(stairs=<matplotlib.patches.StepPatch object at 0x7f488c849a30>, errorbar=None, legend_artist=None),\n",
       " StairsArtists(stairs=<matplotlib.patches.StepPatch object at 0x7f488c7f14f0>, errorbar=None, legend_artist=None),\n",
       " StairsArtists(stairs=<matplotlib.patches.StepPatch object at 0x7f488c7f1040>, errorbar=None, legend_artist=None),\n",
       " StairsArtists(stairs=<matplotlib.patches.StepPatch object at 0x7f488c7e40d0>, errorbar=None, legend_artist=None),\n",
       " StairsArtists(stairs=<matplotlib.patches.StepPatch object at 0x7f488c7f1fa0>, errorbar=None, legend_artist=None),\n",
       " StairsArtists(stairs=<matplotlib.patches.StepPatch object at 0x7f488c81a280>, errorbar=None, legend_artist=None)]"
      ]
     },
     "execution_count": 99,
     "metadata": {},
     "output_type": "execute_result"
    },
    {
     "data": {
      "image/png": "[encoded data removed]",
      "text/plain": [
       "<Figure size 720x720 with 1 Axes>"
      ]
     },
     "metadata": {
      "needs_background": "light"
     },
     "output_type": "display_data"
    }
   ],
   "source": [
    "fig, ax = plt.subplots(figsize=(10,10))\n",
    "#, gridspec_kw={\"height_ratios\": (3, 1), \"hspace\": 0.05}, sharex=True)\n",
    "\n",
    "hep.cms.label(\n",
    "    \"Preliminary\",\n",
    "    data=False,\n",
    "    #year=2018,\n",
    "    lumi=60.0,\n",
    "    loc=0,\n",
    "    ax=ax,\n",
    ")\n",
    "\n",
    "hep.histplot(\n",
    "    [ h_0.counts, h_1.counts, h_2.counts, h_3.counts, h_4.counts, h_5.counts, h_6.counts ],\n",
    "    h_0.edges,\n",
    "    #w2=[ my_histos[x].errors for x in keys ],\n",
    "    histtype=\"step\",\n",
    "    stack=False,\n",
    "    #label=['%s (%.0f)'%(my_histos[x].label, sum(my_histos[x].counts)) for x in keys],\n",
    "    #color=[ my_histos[x].color for x in keys ],\n",
    "    density=True,\n",
    "    ax=ax)"
   ]
  },
  {
   "cell_type": "code",
   "execution_count": 42,
   "id": "f66a50de",
   "metadata": {},
   "outputs": [
    {
     "ename": "IndexError",
     "evalue": "boolean index did not match indexed array along dimension 0; dimension is 82959 but corresponding boolean dimension is 17962",
     "output_type": "error",
     "traceback": [
      "\u001b[0;31m---------------------------------------------------------------------------\u001b[0m",
      "\u001b[0;31mIndexError\u001b[0m                                Traceback (most recent call last)",
      "\u001b[0;32m/tmp/ipykernel_487763/3188394598.py\u001b[0m in \u001b[0;36m<module>\u001b[0;34m\u001b[0m\n\u001b[0;32m----> 1\u001b[0;31m \u001b[0msum\u001b[0m\u001b[0;34m(\u001b[0m\u001b[0mhp\u001b[0m\u001b[0;34m.\u001b[0m\u001b[0meval\u001b[0m\u001b[0;34m(\u001b[0m\u001b[0mcoeff\u001b[0m\u001b[0;34m.\u001b[0m\u001b[0mtranspose\u001b[0m\u001b[0;34m(\u001b[0m\u001b[0;34m)\u001b[0m\u001b[0;34m[\u001b[0m\u001b[0msig_train_sel\u001b[0m\u001b[0;34m]\u001b[0m\u001b[0;34m.\u001b[0m\u001b[0mtranspose\u001b[0m\u001b[0;34m(\u001b[0m\u001b[0;34m)\u001b[0m\u001b[0;34m,\u001b[0m \u001b[0;34m[\u001b[0m\u001b[0;36m6\u001b[0m\u001b[0;34m,\u001b[0m\u001b[0;36m0\u001b[0m\u001b[0;34m]\u001b[0m\u001b[0;34m)\u001b[0m\u001b[0;34m)\u001b[0m\u001b[0;34m/\u001b[0m\u001b[0mlen\u001b[0m\u001b[0;34m(\u001b[0m\u001b[0mtrain\u001b[0m\u001b[0;34m[\u001b[0m\u001b[0;34m'weight'\u001b[0m\u001b[0;34m]\u001b[0m\u001b[0;34m)\u001b[0m\u001b[0;34m\u001b[0m\u001b[0;34m\u001b[0m\u001b[0m\n\u001b[0m",
      "\u001b[0;31mIndexError\u001b[0m: boolean index did not match indexed array along dimension 0; dimension is 82959 but corresponding boolean dimension is 17962"
     ]
    }
   ],
   "source": [
    "sum(hp.eval(coeff.transpose()[sig_train_sel].transpose(), [6,0]))/len(train['weight'])"
   ]
  },
  {
   "cell_type": "code",
   "execution_count": 46,
   "id": "1db15313",
   "metadata": {},
   "outputs": [
    {
     "ename": "IndexError",
     "evalue": "boolean index did not match indexed array along dimension 0; dimension is 136010 but corresponding boolean dimension is 29107",
     "output_type": "error",
     "traceback": [
      "\u001b[0;31m---------------------------------------------------------------------------\u001b[0m",
      "\u001b[0;31mIndexError\u001b[0m                                Traceback (most recent call last)",
      "\u001b[0;32m/tmp/ipykernel_571949/2593983916.py\u001b[0m in \u001b[0;36m<module>\u001b[0;34m\u001b[0m\n\u001b[0;32m----> 1\u001b[0;31m \u001b[0msum\u001b[0m\u001b[0;34m(\u001b[0m\u001b[0mcoeff\u001b[0m\u001b[0;34m[\u001b[0m\u001b[0;36m1\u001b[0m\u001b[0;34m,\u001b[0m\u001b[0;34m:\u001b[0m\u001b[0;34m]\u001b[0m\u001b[0;34m[\u001b[0m\u001b[0msig_train_sel\u001b[0m\u001b[0;34m]\u001b[0m\u001b[0;34m*\u001b[0m\u001b[0;36m6\u001b[0m\u001b[0;34m)\u001b[0m\u001b[0;34m/\u001b[0m\u001b[0mlen\u001b[0m\u001b[0;34m(\u001b[0m\u001b[0msig_train\u001b[0m\u001b[0;34m[\u001b[0m\u001b[0;34m'weight'\u001b[0m\u001b[0;34m]\u001b[0m\u001b[0;34m)\u001b[0m\u001b[0;34m\u001b[0m\u001b[0;34m\u001b[0m\u001b[0m\n\u001b[0m",
      "\u001b[0;31mIndexError\u001b[0m: boolean index did not match indexed array along dimension 0; dimension is 136010 but corresponding boolean dimension is 29107"
     ]
    }
   ],
   "source": [
    "sum(coeff[1,:][sig_train_sel]*6)/len(sig_train['weight'])"
   ]
  },
  {
   "cell_type": "code",
   "execution_count": 34,
   "id": "b9a62251",
   "metadata": {},
   "outputs": [
    {
     "data": {
      "text/plain": [
       "0.7112080128177483"
      ]
     },
     "execution_count": 34,
     "metadata": {},
     "output_type": "execute_result"
    }
   ],
   "source": [
    "sum(coeff[3,:][sig_train_sel]*6**2)/len(sig_train['weight'])"
   ]
  },
  {
   "cell_type": "code",
   "execution_count": 47,
   "id": "79e1ca10",
   "metadata": {},
   "outputs": [
    {
     "data": {
      "text/plain": [
       "'0.999969+0.072006*x0-0.092809*x1+0.003169*x0**2-0.004093*x0*x1+0.002836*x1**2'"
      ]
     },
     "execution_count": 47,
     "metadata": {},
     "output_type": "execute_result"
    }
   ],
   "source": [
    "hp.root_func_string(coeff[:,0])"
   ]
  },
  {
   "cell_type": "code",
   "execution_count": 48,
   "id": "7116b178",
   "metadata": {},
   "outputs": [
    {
     "data": {
      "text/plain": [
       "array([1.13179645, 0.99800097, 0.90287548, ..., 0.60611645, 0.71356736,\n",
       "       0.71052899])"
      ]
     },
     "execution_count": 48,
     "metadata": {},
     "output_type": "execute_result"
    }
   ],
   "source": [
    "sig_train['weight'].values*1000"
   ]
  },
  {
   "cell_type": "code",
   "execution_count": 52,
   "id": "4de5d2e5",
   "metadata": {},
   "outputs": [
    {
     "name": "stdout",
     "output_type": "stream",
     "text": [
      "[                    ----------]\n",
      "weak learner time: 8.33\n",
      "update time: 0.74\n",
      "calibration time: 0.01\n"
     ]
    }
   ],
   "source": [
    "n_trees       = 50\n",
    "learning_rate = 0.5\n",
    "max_depth     = 2\n",
    "min_size      = 20\n",
    "calibrated    = False\n",
    "\n",
    "scaler = RobustScaler()\n",
    "train_scaled = scaler.fit_transform(sig_train[variables])\n",
    "params = scaler.get_params()\n",
    "\n",
    "bit = BoostedInformationTree(\n",
    "        training_features     = train_scaled,\n",
    "        training_weights      = abs(sig_train['weight'].values),\n",
    "        #training_weights      = np.ones(len(sig_train['weight'].values)),\n",
    "        training_diff_weights = sig_train['coeff_3'].values,# coeff[3,:][sig_train_sel],\n",
    "        #mva_variables         = variables,\n",
    "        learning_rate         = learning_rate, \n",
    "        n_trees               = n_trees,\n",
    "        max_depth             = max_depth,\n",
    "        min_size              = min_size,\n",
    "        calibrated            = True)\n",
    "\n",
    "bit.boost()"
   ]
  },
  {
   "cell_type": "code",
   "execution_count": 54,
   "id": "a6f7fdc7",
   "metadata": {},
   "outputs": [
    {
     "data": {
      "text/plain": [
       "<matplotlib.legend.Legend at 0x7f488e27b700>"
      ]
     },
     "execution_count": 54,
     "metadata": {},
     "output_type": "execute_result"
    },
    {
     "data": {
      "image/png": "[encoded data removed]",
      "text/plain": [
       "<Figure size 720x720 with 1 Axes>"
      ]
     },
     "metadata": {
      "needs_background": "light"
     },
     "output_type": "display_data"
    }
   ],
   "source": [
    "bins = \"10,0.0,0.3\"\n",
    "\n",
    "coeffs = np.concatenate([np.expand_dims(sig_test['coeff_%s'%i], axis=1) for i in range(6)], axis=1)\n",
    "pred = bit.vectorized_predict(scaler.transform(sig_test[variables].values))\n",
    "\n",
    "h = Hist1D(pred, bins=bins)\n",
    "h_rew = Hist1D(pred, weights=hp.eval(coeffs.transpose(), [4.,0.]), bins=bins)\n",
    "h_rew2 = Hist1D(pred, weights=hp.eval(coeffs.transpose(), [8.,0.]), bins=bins)\n",
    "\n",
    "coeffs_train = np.concatenate([np.expand_dims(sig_train['coeff_%s'%i], axis=1) for i in range(6)], axis=1)\n",
    "pred_train = bit.vectorized_predict(scaler.transform(sig_train[variables].values))\n",
    "\n",
    "h_train = Hist1D(pred_train, bins=bins)\n",
    "h_rew_train = Hist1D(pred_train, weights=hp.eval(coeffs_train.transpose(), [4.,0.]), bins=bins)\n",
    "h_rew2_train = Hist1D(pred_train, weights=hp.eval(coeffs_train.transpose(), [8.,0.]), bins=bins)\n",
    "\n",
    "fig, ax = plt.subplots(figsize=(10,10))\n",
    "\n",
    "# solid - testing\n",
    "hep.histplot(\n",
    "    [ h.counts, h_rew.counts, h_rew2.counts ],\n",
    "    h.edges,\n",
    "    w2 = [ h.errors**2, h_rew.errors**2, h_rew2.errors**2 ],\n",
    "    histtype=\"step\",\n",
    "    stack=False,\n",
    "    density=True,\n",
    "    label = [\"SM test\", \"C=4 test\", \"C=8 test\"],\n",
    "    color = [\"#FF595E\", \"#8AC926\", \"#1982C4\"],\n",
    "    ax=ax)\n",
    "\n",
    "# dashed - training\n",
    "hep.histplot(\n",
    "    [ h_train.counts, h_rew_train.counts, h_rew2_train.counts ],\n",
    "    h.edges,\n",
    "    w2 = [ h_train.errors**2, h_rew_train.errors**2, h_rew2_train.errors**2 ],\n",
    "    histtype=\"step\",\n",
    "    stack=False,\n",
    "    density=True,\n",
    "    #label=[\"SM train\", \"C=4 train\", \"C=8 train\"],\n",
    "    linestyle=\"--\",\n",
    "    color = [\"#FF595E\", \"#8AC926\", \"#1982C4\"],\n",
    "    ax=ax)\n",
    "\n",
    "ax.set_yscale('log')\n",
    "ax.legend()"
   ]
  },
  {
   "cell_type": "code",
   "execution_count": 141,
   "id": "6957547a",
   "metadata": {},
   "outputs": [
    {
     "name": "stdout",
     "output_type": "stream",
     "text": [
      "[                    ----------]\n",
      "weak learner time: 70.94\n",
      "update time: 5.12\n",
      "calibration time: 0.09\n"
     ]
    }
   ],
   "source": [
    "n_trees       = 50\n",
    "learning_rate = 0.5\n",
    "max_depth     = 2\n",
    "min_size      = 20\n",
    "\n",
    "training_features = train[variables].values\n",
    "training_weights = abs(train['weight'].values)\n",
    "#training_weights = train['weight'].values  # This does absolutely not work\n",
    "training_diff_weights = train['coeff_3'].values\n",
    "\n",
    "scaler = RobustScaler()\n",
    "training_features_scaled = scaler.fit_transform(training_features)\n",
    "params = scaler.get_params()\n",
    "\n",
    "bit = BoostedInformationTree(\n",
    "        training_features     = training_features_scaled,\n",
    "        training_weights      = training_weights, \n",
    "        training_diff_weights = training_diff_weights, \n",
    "        learning_rate         = learning_rate, \n",
    "        n_trees               = n_trees,\n",
    "        max_depth             = max_depth,\n",
    "        min_size              = min_size,\n",
    "        calibrated            = True)\n",
    "\n",
    "bit.boost()"
   ]
  },
  {
   "cell_type": "code",
   "execution_count": 142,
   "id": "ecac657f",
   "metadata": {},
   "outputs": [
    {
     "data": {
      "text/plain": [
       "<matplotlib.legend.Legend at 0x7f4a6544b9a0>"
      ]
     },
     "execution_count": 142,
     "metadata": {},
     "output_type": "execute_result"
    },
    {
     "data": {
      "image/png": "[encoded data removed]",
      "text/plain": [
       "<Figure size 720x720 with 1 Axes>"
      ]
     },
     "metadata": {
      "needs_background": "light"
     },
     "output_type": "display_data"
    }
   ],
   "source": [
    "bins = \"10,0.0,1.0\"\n",
    "#bins = [0.,0.4,0.6,0.8,1.7]\n",
    "\n",
    "coeffs = np.concatenate([np.expand_dims(sig_test['coeff_%s'%i], axis=1) for i in range(6)], axis=1)\n",
    "pred = bit.vectorized_predict(scaler.transform(sig_test[variables].values))\n",
    "h = Hist1D(pred, bins=bins)\n",
    "h_rew = Hist1D(pred, weights=hp.eval(coeffs.transpose(), [4.,0.]), bins=bins)\n",
    "h_rew2 = Hist1D(pred, weights=hp.eval(coeffs.transpose(), [8.,0.]), bins=bins)\n",
    "\n",
    "pred_bkg = bit.vectorized_predict(scaler.transform(bkg_test[variables].values))\n",
    "h_ttw = Hist1D(pred_bkg, bins=bins)\n",
    "\n",
    "bkg_test['pred'] = pred_bkg\n",
    "\n",
    "coeffs_train = np.concatenate([np.expand_dims(sig_train['coeff_%s'%i], axis=1) for i in range(6)], axis=1)\n",
    "pred_train = bit.vectorized_predict(scaler.transform(sig_train[variables].values))\n",
    "h_train = Hist1D(pred_train, bins=bins)\n",
    "h_rew_train = Hist1D(pred_train, weights=hp.eval(coeffs_train.transpose(), [4.,0.]), bins=bins)\n",
    "h_rew2_train = Hist1D(pred_train, weights=hp.eval(coeffs_train.transpose(), [8.,0.]), bins=bins)\n",
    "\n",
    "pred_bkg = bit.vectorized_predict(scaler.transform(bkg_train[variables].values))\n",
    "h_ttw_train = Hist1D(pred_bkg, bins=bins)\n",
    "\n",
    "\n",
    "fig, ax = plt.subplots(figsize=(10,10))\n",
    "\n",
    "hep.histplot(\n",
    "    [ h.counts, h_rew.counts, h_rew2.counts, h_ttw.counts ],\n",
    "    h.edges,\n",
    "    w2=[ h.errors**2, h_rew.errors**2, h_rew2.errors**2, h_ttw.errors**2 ],\n",
    "    histtype=\"step\",\n",
    "    stack=False,\n",
    "    label=['SM', 'C=4', 'C=8', 'Bkg (ttW, ttZ, ttH)'],\n",
    "    density=True,\n",
    "    color = [\"#FF595E\", \"#8AC926\", \"#1982C4\", \"#6A4C93\"],\n",
    "    ax=ax)\n",
    "\n",
    "hep.histplot(\n",
    "    [ h_train.counts, h_rew_train.counts, h_rew2_train.counts, h_ttw_train.counts ],\n",
    "    h.edges,\n",
    "    w2 = [ h_train.errors**2, h_rew_train.errors**2, h_rew2_train.errors**2, h_ttw_train.errors**2 ],\n",
    "    histtype=\"step\",\n",
    "    stack=False,\n",
    "    density=True,\n",
    "    linestyle=\"--\",\n",
    "    color = [\"#FF595E\", \"#8AC926\", \"#1982C4\", \"#6A4C93\"],\n",
    "    ax=ax)\n",
    "\n",
    "ax.set_yscale('log')\n",
    "ax.legend()"
   ]
  },
  {
   "cell_type": "markdown",
   "id": "25d4d5d3",
   "metadata": {},
   "source": [
    "# Simplified analysis"
   ]
  },
  {
   "cell_type": "code",
   "execution_count": 39,
   "id": "911dd029",
   "metadata": {},
   "outputs": [
    {
     "data": {
      "text/plain": [
       "0         1.0\n",
       "1         1.0\n",
       "19        1.0\n",
       "21        1.0\n",
       "22        1.0\n",
       "         ... \n",
       "279137    3.0\n",
       "279144    3.0\n",
       "279160    3.0\n",
       "279170    3.0\n",
       "279171    3.0\n",
       "Name: label, Length: 326154, dtype: float64"
      ]
     },
     "execution_count": 39,
     "metadata": {},
     "output_type": "execute_result"
    }
   ],
   "source": [
    "df_bkg['label']"
   ]
  },
  {
   "cell_type": "code",
   "execution_count": 143,
   "id": "71e2680f",
   "metadata": {},
   "outputs": [],
   "source": [
    "ttW = bkg_test[bkg_test['label']==1]\n",
    "ttZ = bkg_test[bkg_test['label']==2]\n",
    "ttH = bkg_test[bkg_test['label']==3]\n",
    "\n",
    "lt_bins = \"7,100,800\"\n",
    "h_ttW_lt = Hist1D(ttW['lt'].values, weights=ttW['weight']*2, bins=lt_bins)\n",
    "h_ttZ_lt = Hist1D(ttZ['lt'].values, weights=ttZ['weight']*2, bins=lt_bins)\n",
    "h_ttH_lt = Hist1D(ttH['lt'].values, weights=ttH['weight']*2, bins=lt_bins)\n",
    "h_sig_lt = Hist1D(sig_test['lt'], weights=sig_test['weight']*hp.eval(coeffs.transpose(), [5.,0.]), bins=lt_bins)\n",
    "h_sig_lt_10 = Hist1D(sig_test['lt'], weights=sig_test['weight']*hp.eval(coeffs.transpose(), [10.,0.]), bins=lt_bins)"
   ]
  },
  {
   "cell_type": "code",
   "execution_count": 41,
   "id": "42ee6462",
   "metadata": {},
   "outputs": [
    {
     "data": {
      "text/plain": [
       "<matplotlib.legend.Legend at 0x7f4a69bb5b20>"
      ]
     },
     "execution_count": 41,
     "metadata": {},
     "output_type": "execute_result"
    },
    {
     "data": {
      "image/png": "[encoded data removed]",
      "text/plain": [
       "<Figure size 720x720 with 1 Axes>"
      ]
     },
     "metadata": {
      "needs_background": "light"
     },
     "output_type": "display_data"
    }
   ],
   "source": [
    "from plots.helpers import colors\n",
    "\n",
    "fig, ax = plt.subplots(figsize=(10,10))\n",
    "\n",
    "hep.histplot(\n",
    "    [ h_ttW_lt.counts, h_ttZ_lt.counts, h_ttH_lt.counts ],\n",
    "    h_ttW_lt.edges,\n",
    "    w2=[ h_ttW_lt.errors**2, h_ttZ_lt.errors**2, h_ttH_lt.errors**2 ],\n",
    "    histtype=\"fill\",\n",
    "    stack=True,\n",
    "    label=['ttW', 'ttZ', 'ttH'],\n",
    "    #density=True,\n",
    "    color = [colors['TTW'], colors['TTZ'], colors['TTH']],\n",
    "    ax=ax)\n",
    "\n",
    "hep.histplot(\n",
    "    [ h_sig_lt.counts, h_sig_lt_10.counts ],\n",
    "    h_sig_lt.edges,\n",
    "    w2=[ h_sig_lt.errors**2, h_sig_lt_10.errors**2 ],\n",
    "    histtype=\"step\",\n",
    "    stack=False,\n",
    "    label=[r'top-W, $C_{\\varphi t}=5$', r'top-W, $C_{\\varphi t}=10$'],\n",
    "    color = [colors['tW_scattering'], colors['ttbar']],\n",
    "    ax=ax)\n",
    "\n",
    "ax.set_yscale('log')\n",
    "ax.legend()"
   ]
  },
  {
   "cell_type": "code",
   "execution_count": 147,
   "id": "8ba98eeb",
   "metadata": {},
   "outputs": [],
   "source": [
    "#bit_bins = \"4,0,0.4\"\n",
    "bit_bins = [0.,0.05,0.10,0.35,0.7]  # for quadratic\n",
    "#bit_bins = [0.,0.4,0.6,0.8,1.7]  # for linear\n",
    "h_ttW_bit = Hist1D(ttW['pred'].values, weights=ttW['weight']*2, bins=bit_bins)\n",
    "h_ttZ_bit = Hist1D(ttZ['pred'].values, weights=ttZ['weight']*2, bins=bit_bins)\n",
    "h_ttH_bit = Hist1D(ttH['pred'].values, weights=ttH['weight']*2, bins=bit_bins)\n",
    "h_sig_bit = Hist1D(pred, weights=sig_test['weight']*hp.eval(coeffs.transpose(), [5.,0.]), bins=bit_bins)\n",
    "h_sig_bit_10 = Hist1D(pred, weights=sig_test['weight']*hp.eval(coeffs.transpose(), [10.,0.]), bins=bit_bins)"
   ]
  },
  {
   "cell_type": "code",
   "execution_count": 148,
   "id": "c4daa92e",
   "metadata": {},
   "outputs": [
    {
     "data": {
      "text/plain": [
       "<matplotlib.legend.Legend at 0x7f4a64d92df0>"
      ]
     },
     "execution_count": 148,
     "metadata": {},
     "output_type": "execute_result"
    },
    {
     "data": {
      "image/png": "[encoded data removed]",
      "text/plain": [
       "<Figure size 720x720 with 1 Axes>"
      ]
     },
     "metadata": {
      "needs_background": "light"
     },
     "output_type": "display_data"
    }
   ],
   "source": [
    "fig, ax = plt.subplots(figsize=(10,10))\n",
    "\n",
    "hep.histplot(\n",
    "    [ h_ttW_bit.counts, h_ttZ_bit.counts, h_ttH_bit.counts ],\n",
    "    h_ttW_bit.edges,\n",
    "    w2=[ h_ttW_bit.errors**2, h_ttZ_bit.errors**2, h_ttH_bit.errors**2 ],\n",
    "    histtype=\"fill\",\n",
    "    stack=True,\n",
    "    label=['ttW', 'ttZ', 'ttH'],\n",
    "    #density=True,\n",
    "    color = [colors['TTW'], colors['TTZ'], colors['TTH']],\n",
    "    ax=ax)\n",
    "\n",
    "hep.histplot(\n",
    "    [ h_sig_bit.counts, h_sig_bit_10.counts ],\n",
    "    h_sig_bit.edges,\n",
    "    w2=[ h_sig_bit.errors**2, h_sig_bit_10.errors**2 ],\n",
    "    histtype=\"step\",\n",
    "    stack=False,\n",
    "    label=[r'top-W, $C_{\\varphi t}=5$', r'top-W, $C_{\\varphi t}=10$'],\n",
    "    color = [colors['tW_scattering'], colors['ttbar']],\n",
    "    ax=ax)\n",
    "\n",
    "ax.set_yscale('log')\n",
    "ax.legend()"
   ]
  },
  {
   "cell_type": "markdown",
   "id": "7e307b3f",
   "metadata": {},
   "source": [
    "## Running combine"
   ]
  },
  {
   "cell_type": "code",
   "execution_count": 103,
   "id": "0071979d",
   "metadata": {},
   "outputs": [],
   "source": [
    "from coffea import hist\n",
    "\n",
    "from Tools.limits import get_unc, get_pdf_unc, get_scale_unc, makeCardFromHist\n",
    "from Tools.dataCard import dataCard\n",
    "\n",
    "card = dataCard(releaseLocation=os.path.expandvars('/home/users/dspitzba/TOP/CMSSW_10_2_13/src/HiggsAnalysis/CombinedLimit/'))"
   ]
  },
  {
   "cell_type": "code",
   "execution_count": 149,
   "id": "24736a6f",
   "metadata": {},
   "outputs": [],
   "source": [
    "dataset_axis = hist.Cat(\"dataset\", \"Primary dataset\")\n",
    "lt_axis      = hist.Bin(\"lt\",      r\"$L_{T}$ (GeV)\",   [100,200,300,400,500,600,700,2000])\n",
    "bit_axis     = hist.Bin(\"bit\",     r\"BIT score\",  [0.,0.05,0.10,0.35,0.7])\n",
    "#bit_axis     = hist.Bin(\"bit\",     r\"BIT score\",  [0.,0.4,0.6,0.8,1.5])"
   ]
  },
  {
   "cell_type": "markdown",
   "id": "d89bde35",
   "metadata": {},
   "source": [
    "### Classical - LT"
   ]
  },
  {
   "cell_type": "code",
   "execution_count": 83,
   "id": "6d0dfd76",
   "metadata": {},
   "outputs": [],
   "source": [
    "lt_hist = hist.Hist(\"lt\", dataset_axis, lt_axis)\n",
    "lt_hist.fill(dataset=\"TTW\", lt=ttW['lt'].values, weight=ttW['weight']*2)\n",
    "lt_hist.fill(dataset=\"TTZ\", lt=ttZ['lt'].values, weight=ttZ['weight']*2)\n",
    "lt_hist.fill(dataset=\"TTH\", lt=ttH['lt'].values, weight=ttH['weight']*2)\n",
    "\n",
    "hist_dict = {'SR': lt_hist}\n",
    "\n",
    "sig_lt_hist_SM = hist.Hist(\"lt\", dataset_axis, lt_axis)\n",
    "sig_lt_hist_SM.fill(dataset='signal', lt=sig_test['lt'].values, weight=sig_test['weight'])\n",
    "\n",
    "sig_lt_hist_BSM = hist.Hist(\"lt\", dataset_axis, lt_axis)\n",
    "sig_lt_hist_BSM.fill(dataset='signal', lt=sig_test['lt'].values, weight=sig_test['weight']*hp.eval(coeffs.transpose(), [5.,0.]))"
   ]
  },
  {
   "cell_type": "code",
   "execution_count": 84,
   "id": "bb54284b",
   "metadata": {},
   "outputs": [
    {
     "name": "stdout",
     "output_type": "stream",
     "text": [
      "Writing cards using histogram: SR\n",
      "Expectation for TTW:          102.44\n",
      "Expectation for TTZ:          37.94\n",
      "Expectation for TTH:          40.73\n",
      "Expectation for signal:       21.36\n",
      "Observation:                  181.11\n",
      "Adding  lumi = 1.03 for all bins and processes!\n",
      "Done.\n",
      "\n",
      "[cardFileWrite] Written card file /home/users/dspitzba/TOP/CMSSW_10_2_9/src/tW_scattering/data/cards/SR_SM_card.txt\n",
      "Writing cards using histogram: SR\n",
      "Expectation for TTW:          102.44\n",
      "Expectation for TTZ:          37.94\n",
      "Expectation for TTH:          40.73\n",
      "Expectation for signal:       38.33\n",
      "Observation:                  181.11\n",
      "Adding  lumi = 1.03 for all bins and processes!\n",
      "Done.\n",
      "\n",
      "[cardFileWrite] Written card file /home/users/dspitzba/TOP/CMSSW_10_2_9/src/tW_scattering/data/cards/SR_BSM_card.txt\n"
     ]
    }
   ],
   "source": [
    "sm_card = makeCardFromHist(\n",
    "                hist_dict,\n",
    "                'SR',\n",
    "                overflow='all',\n",
    "                ext='_SM',\n",
    "                signal_hist=sig_bit_hist_SM,\n",
    "            )\n",
    "\n",
    "bsm_card = makeCardFromHist(\n",
    "                hist_dict,\n",
    "                'SR',\n",
    "                overflow='all',\n",
    "                ext='_BSM',\n",
    "                signal_hist=sig_bit_hist_BSM,\n",
    "            )"
   ]
  },
  {
   "cell_type": "code",
   "execution_count": 85,
   "id": "32224158",
   "metadata": {},
   "outputs": [
    {
     "name": "stdout",
     "output_type": "stream",
     "text": [
      "Creating /home/users/dspitzba/TOP/CMSSW_10_2_13/src/HiggsAnalysis/CombinedLimit/ac593cfd-d57c-4a6d-ae21-aefd5cc944d9\n",
      " <<< Combine >>> \n",
      ">>> method used is MultiDimFit\n",
      ">>> random number generator seed is 123456\n",
      "Channel Bin0 will use autoMCStats with settings: event-threshold=0, include-signal=0, hist-mode=1\n",
      "============================================================\n",
      "Analysing bin errors for: prop_binBin0\n",
      "Poisson cut-off: 0\n",
      "Processes excluded for sums: signal\n",
      "============================================================\n",
      "Bin        Contents        Error           Notes                         \n",
      "0          84.307987       0.796308        total sum                     \n",
      "0          63.385981       0.785609        excluding marked processes    \n",
      "0          6510.000000     80.684571       Unweighted events, alpha=0.012951\n",
      "  => Total parameter prop_binBin0_bin0[0.00,-7.00,7.00] to be gaussian constrained\n",
      "------------------------------------------------------------\n",
      "1          70.039306       0.817777        total sum                     \n",
      "1          69.675011       0.817582        excluding marked processes    \n",
      "1          7263.000000     85.223236       Unweighted events, alpha=0.009643\n",
      "  => Total parameter prop_binBin0_bin1[0.00,-7.00,7.00] to be gaussian constrained\n",
      "------------------------------------------------------------\n",
      "2          29.465837       0.525737        total sum                     \n",
      "2          29.416057       0.525691        excluding marked processes    \n",
      "2          3131.000000     55.955339       Unweighted events, alpha=0.009411\n",
      "  => Total parameter prop_binBin0_bin2[0.00,-7.00,7.00] to be gaussian constrained\n",
      "------------------------------------------------------------\n",
      "3          10.715653       0.321499        total sum                     \n",
      "3          10.715653       0.321499        excluding marked processes    \n",
      "3          1111.000000     33.331667       Unweighted events, alpha=0.009645\n",
      "  => Total parameter prop_binBin0_bin3[0.00,-7.00,7.00] to be gaussian constrained\n",
      "------------------------------------------------------------\n",
      "4          4.238979        0.199723        total sum                     \n",
      "4          4.238979        0.199723        excluding marked processes    \n",
      "4          450.000000      21.213203       Unweighted events, alpha=0.009420\n",
      "  => Total parameter prop_binBin0_bin4[0.00,-7.00,7.00] to be gaussian constrained\n",
      "------------------------------------------------------------\n",
      "5          1.728721        0.124431        total sum                     \n",
      "5          1.728721        0.124431        excluding marked processes    \n",
      "5          193.000000      13.892444       Unweighted events, alpha=0.008957\n",
      "  => Total parameter prop_binBin0_bin5[0.00,-7.00,7.00] to be gaussian constrained\n",
      "------------------------------------------------------------\n",
      "6          1.246904        0.110942        total sum                     \n",
      "6          1.246904        0.110942        excluding marked processes    \n",
      "6          126.000000      11.224972       Unweighted events, alpha=0.009896\n",
      "  => Total parameter prop_binBin0_bin6[0.00,-7.00,7.00] to be gaussian constrained\n",
      "------------------------------------------------------------\n",
      "Set Default Value of Parameter r To : 1\n",
      "SimNLL created with 1 channels, 0 generic constraints, 8 fast gaussian constraints, 0 fast poisson constraints, 0 fast group constraints, \n",
      "\n",
      " --- MultiDimFit ---\n",
      "best fit parameter values: \n",
      "   r :    +1.000\n",
      "Done in 0.00 min (cpu), 0.00 min (real)\n",
      "Creating /home/users/dspitzba/TOP/CMSSW_10_2_13/src/HiggsAnalysis/CombinedLimit/fcc528b3-55b5-4db4-86a6-db8123026868\n",
      " <<< Combine >>> \n",
      ">>> method used is MultiDimFit\n",
      ">>> random number generator seed is 123456\n",
      "Channel Bin0 will use autoMCStats with settings: event-threshold=0, include-signal=0, hist-mode=1\n",
      "============================================================\n",
      "Analysing bin errors for: prop_binBin0\n",
      "Poisson cut-off: 0\n",
      "Processes excluded for sums: signal\n",
      "============================================================\n",
      "Bin        Contents        Error           Notes                         \n",
      "0          97.809587       0.848120        total sum                     \n",
      "0          63.385981       0.785609        excluding marked processes    \n",
      "0          6510.000000     80.684571       Unweighted events, alpha=0.015025\n",
      "  => Total parameter prop_binBin0_bin0[0.00,-7.00,7.00] to be gaussian constrained\n",
      "------------------------------------------------------------\n",
      "1          71.730804       0.842586        total sum                     \n",
      "1          69.675011       0.817582        excluding marked processes    \n",
      "1          7263.000000     85.223236       Unweighted events, alpha=0.009876\n",
      "  => Total parameter prop_binBin0_bin1[0.00,-7.00,7.00] to be gaussian constrained\n",
      "------------------------------------------------------------\n",
      "2          31.148027       1.060030        total sum                     \n",
      "2          29.416057       0.525691        excluding marked processes    \n",
      "2          3131.000000     55.955339       Unweighted events, alpha=0.009948\n",
      "  => Total parameter prop_binBin0_bin2[0.00,-7.00,7.00] to be gaussian constrained\n",
      "------------------------------------------------------------\n",
      "3          10.715653       0.321499        total sum                     \n",
      "3          10.715653       0.321499        excluding marked processes    \n",
      "3          1111.000000     33.331667       Unweighted events, alpha=0.009645\n",
      "  => Total parameter prop_binBin0_bin3[0.00,-7.00,7.00] to be gaussian constrained\n",
      "------------------------------------------------------------\n",
      "4          4.238979        0.199723        total sum                     \n",
      "4          4.238979        0.199723        excluding marked processes    \n",
      "4          450.000000      21.213203       Unweighted events, alpha=0.009420\n",
      "  => Total parameter prop_binBin0_bin4[0.00,-7.00,7.00] to be gaussian constrained\n",
      "------------------------------------------------------------\n",
      "5          1.728721        0.124431        total sum                     \n",
      "5          1.728721        0.124431        excluding marked processes    \n",
      "5          193.000000      13.892444       Unweighted events, alpha=0.008957\n",
      "  => Total parameter prop_binBin0_bin5[0.00,-7.00,7.00] to be gaussian constrained\n",
      "------------------------------------------------------------\n",
      "6          1.246904        0.110942        total sum                     \n",
      "6          1.246904        0.110942        excluding marked processes    \n",
      "6          126.000000      11.224972       Unweighted events, alpha=0.009896\n",
      "  => Total parameter prop_binBin0_bin6[0.00,-7.00,7.00] to be gaussian constrained\n",
      "------------------------------------------------------------\n",
      "Set Default Value of Parameter r To : 1\n",
      "SimNLL created with 1 channels, 0 generic constraints, 8 fast gaussian constraints, 0 fast poisson constraints, 0 fast group constraints, \n",
      "\n",
      " --- MultiDimFit ---\n",
      "best fit parameter values: \n",
      "   r :    +1.000\n",
      "Done in 0.00 min (cpu), 0.00 min (real)\n"
     ]
    }
   ],
   "source": [
    "res_sm = card.calcNLL(sm_card)\n",
    "res_bsm = card.calcNLL(bsm_card)"
   ]
  },
  {
   "cell_type": "code",
   "execution_count": 86,
   "id": "6228f54a",
   "metadata": {},
   "outputs": [
    {
     "data": {
      "text/plain": [
       "7.551017048232154"
      ]
     },
     "execution_count": 86,
     "metadata": {},
     "output_type": "execute_result"
    }
   ],
   "source": [
    "deltaNLL = -2*(res_sm['nll0'][0]+res_sm['nll'][0] - (res_bsm['nll0'][0]+res_bsm['nll'][0]))\n",
    "deltaNLL"
   ]
  },
  {
   "cell_type": "markdown",
   "id": "f710af4d",
   "metadata": {},
   "source": [
    "### BIT"
   ]
  },
  {
   "cell_type": "code",
   "execution_count": 156,
   "id": "25829939",
   "metadata": {},
   "outputs": [],
   "source": [
    "bit_hist = hist.Hist(\"bit\", dataset_axis, bit_axis)\n",
    "bit_hist.fill(dataset=\"TTW\", bit=ttW['pred'].values, weight=ttW['weight']*2)\n",
    "bit_hist.fill(dataset=\"TTZ\", bit=ttZ['pred'].values, weight=ttZ['weight']*2)\n",
    "bit_hist.fill(dataset=\"TTH\", bit=ttH['pred'].values, weight=ttH['weight']*2)\n",
    "\n",
    "hist_dict = {'SR': bit_hist}\n",
    "\n",
    "sig_bit_hist_SM = hist.Hist(\"bit\", dataset_axis, bit_axis)\n",
    "sig_bit_hist_SM.fill(dataset='signal', bit=pred, weight=sig_test['weight'])\n",
    "\n",
    "sig_bit_hist_BSM = hist.Hist(\"bit\", dataset_axis, bit_axis)\n",
    "sig_bit_hist_BSM.fill(dataset='signal', bit=pred, weight=sig_test['weight']*hp.eval(coeffs.transpose(), [5.,0.]))"
   ]
  },
  {
   "cell_type": "code",
   "execution_count": 157,
   "id": "bc2d1525",
   "metadata": {},
   "outputs": [
    {
     "name": "stdout",
     "output_type": "stream",
     "text": [
      "Writing cards using histogram: SR\n",
      "Expectation for TTW:          102.44\n",
      "Expectation for TTZ:          37.94\n",
      "Expectation for TTH:          40.73\n",
      "Expectation for signal:       21.36\n",
      "Observation:                  181.11\n",
      "Adding  lumi = 1.03 for all bins and processes!\n",
      "Done.\n",
      "\n",
      "[cardFileWrite] Written card file /home/users/dspitzba/TOP/CMSSW_10_2_9/src/tW_scattering/data/cards/SR_SM_card.txt\n",
      "Writing cards using histogram: SR\n",
      "Expectation for TTW:          102.44\n",
      "Expectation for TTZ:          37.94\n",
      "Expectation for TTH:          40.73\n",
      "Expectation for signal:       38.33\n",
      "Observation:                  181.11\n",
      "Adding  lumi = 1.03 for all bins and processes!\n",
      "Done.\n",
      "\n",
      "[cardFileWrite] Written card file /home/users/dspitzba/TOP/CMSSW_10_2_9/src/tW_scattering/data/cards/SR_BSM_card.txt\n"
     ]
    }
   ],
   "source": [
    "sm_card = makeCardFromHist(\n",
    "                hist_dict,\n",
    "                'SR',\n",
    "                overflow='all',\n",
    "                ext='_SM',\n",
    "                signal_hist=sig_bit_hist_SM,\n",
    "            )\n",
    "\n",
    "bsm_card = makeCardFromHist(\n",
    "                hist_dict,\n",
    "                'SR',\n",
    "                overflow='all',\n",
    "                ext='_BSM',\n",
    "                signal_hist=sig_bit_hist_BSM,\n",
    "            )"
   ]
  },
  {
   "cell_type": "code",
   "execution_count": 158,
   "id": "46d2a5ef",
   "metadata": {
    "scrolled": true
   },
   "outputs": [
    {
     "name": "stdout",
     "output_type": "stream",
     "text": [
      "Creating /home/users/dspitzba/TOP/CMSSW_10_2_13/src/HiggsAnalysis/CombinedLimit/a92ff067-5310-4339-9e38-ff7f2e81b0a4\n",
      " <<< Combine >>> \n",
      ">>> method used is MultiDimFit\n",
      ">>> random number generator seed is 123456\n",
      "Channel Bin0 will use autoMCStats with settings: event-threshold=0, include-signal=0, hist-mode=1\n",
      "============================================================\n",
      "Analysing bin errors for: prop_binBin0\n",
      "Poisson cut-off: 0\n",
      "Processes excluded for sums: signal\n",
      "============================================================\n",
      "Bin        Contents        Error           Notes                         \n",
      "0          198.607519      1.313843        total sum                     \n",
      "0          177.685513      1.307385        excluding marked processes    \n",
      "0          18471.000000    135.908057      Unweighted events, alpha=0.010752\n",
      "  => Total parameter prop_binBin0_bin0[0.00,-7.00,7.00] to be gaussian constrained\n",
      "------------------------------------------------------------\n",
      "1          3.001796        0.157266        total sum                     \n",
      "1          2.677994        0.156367        excluding marked processes    \n",
      "1          293.000000      17.117243       Unweighted events, alpha=0.010245\n",
      "  => Total parameter prop_binBin0_bin1[0.00,-7.00,7.00] to be gaussian constrained\n",
      "------------------------------------------------------------\n",
      "2          0.676192        0.080037        total sum                     \n",
      "2          0.585918        0.079498        excluding marked processes    \n",
      "2          54.000000       7.348469        Unweighted events, alpha=0.012522\n",
      "  => Total parameter prop_binBin0_bin2[0.00,-7.00,7.00] to be gaussian constrained\n",
      "------------------------------------------------------------\n",
      "3          0.155506        0.039414        total sum                     \n",
      "3          0.132893        0.039163        excluding marked processes    \n",
      "3          12.000000       3.464102        Unweighted events, alpha=0.012959\n",
      "  => Total parameter prop_binBin0_bin3[0.00,-7.00,7.00] to be gaussian constrained\n",
      "------------------------------------------------------------\n",
      "Set Default Value of Parameter r To : 1\n",
      "SimNLL created with 1 channels, 0 generic constraints, 5 fast gaussian constraints, 0 fast poisson constraints, 0 fast group constraints, \n",
      "\n",
      " --- MultiDimFit ---\n",
      "best fit parameter values: \n",
      "   r :    +1.000\n",
      "Done in 0.00 min (cpu), 0.00 min (real)\n",
      "Creating /home/users/dspitzba/TOP/CMSSW_10_2_13/src/HiggsAnalysis/CombinedLimit/12e266bd-72cd-4d80-8f1a-18d70c7d7de9\n",
      " <<< Combine >>> \n",
      ">>> method used is MultiDimFit\n",
      ">>> random number generator seed is 123456\n",
      "Channel Bin0 will use autoMCStats with settings: event-threshold=0, include-signal=0, hist-mode=1\n",
      "============================================================\n",
      "Analysing bin errors for: prop_binBin0\n",
      "Poisson cut-off: 0\n",
      "Processes excluded for sums: signal\n",
      "============================================================\n",
      "Bin        Contents        Error           Notes                         \n",
      "0          212.109119      1.345877        total sum                     \n",
      "0          177.685513      1.307385        excluding marked processes    \n",
      "0          18471.000000    135.908057      Unweighted events, alpha=0.011483\n",
      "  => Total parameter prop_binBin0_bin0[0.00,-7.00,7.00] to be gaussian constrained\n",
      "------------------------------------------------------------\n",
      "1          4.491610        0.250403        total sum                     \n",
      "1          2.677994        0.156367        excluding marked processes    \n",
      "1          293.000000      17.117243       Unweighted events, alpha=0.015330\n",
      "  => Total parameter prop_binBin0_bin1[0.00,-7.00,7.00] to be gaussian constrained\n",
      "------------------------------------------------------------\n",
      "2          2.560066        0.925684        total sum                     \n",
      "2          0.585918        0.079498        excluding marked processes    \n",
      "2          54.000000       7.348469        Unweighted events, alpha=0.047409\n",
      "  => Total parameter prop_binBin0_bin2[0.00,-7.00,7.00] to be gaussian constrained\n",
      "------------------------------------------------------------\n",
      "3          0.229689        0.046508        total sum                     \n",
      "3          0.132893        0.039163        excluding marked processes    \n",
      "3          12.000000       3.464102        Unweighted events, alpha=0.019141\n",
      "  => Total parameter prop_binBin0_bin3[0.00,-7.00,7.00] to be gaussian constrained\n",
      "------------------------------------------------------------\n",
      "Set Default Value of Parameter r To : 1\n",
      "SimNLL created with 1 channels, 0 generic constraints, 5 fast gaussian constraints, 0 fast poisson constraints, 0 fast group constraints, \n",
      "\n",
      " --- MultiDimFit ---\n",
      "best fit parameter values: \n",
      "   r :    +1.000\n",
      "Done in 0.00 min (cpu), 0.00 min (real)\n"
     ]
    }
   ],
   "source": [
    "res_sm = card.calcNLL(sm_card)\n",
    "res_bsm = card.calcNLL(bsm_card)"
   ]
  },
  {
   "cell_type": "code",
   "execution_count": 159,
   "id": "75eee29f",
   "metadata": {},
   "outputs": [
    {
     "data": {
      "text/plain": [
       "5.5030115116853935"
      ]
     },
     "execution_count": 159,
     "metadata": {},
     "output_type": "execute_result"
    }
   ],
   "source": [
    "deltaNLL = -2*(res_sm['nll0'][0]+res_sm['nll'][0] - (res_bsm['nll0'][0]+res_bsm['nll'][0]))\n",
    "deltaNLL"
   ]
  },
  {
   "cell_type": "markdown",
   "id": "bc3cc930",
   "metadata": {},
   "source": [
    "# BIT example"
   ]
  },
  {
   "cell_type": "code",
   "execution_count": 87,
   "id": "7a4d1cc7",
   "metadata": {},
   "outputs": [],
   "source": [
    "data_dir = '../BIT/data/'\n",
    "def load_data(name):\n",
    "    return np.loadtxt('%s/%s.txt.gz' % (data_dir, name))\n",
    "\n",
    "features = load_data('training_features_power_law_model')\n",
    "features = features.reshape(features.shape[0], -1)\n",
    "weights = load_data('training_weights_power_law_model')\n",
    "diffs = load_data('training_diff_weights_power_law_model')"
   ]
  },
  {
   "cell_type": "code",
   "execution_count": 123,
   "id": "8702184f",
   "metadata": {},
   "outputs": [],
   "source": [
    "n_trees       = 100\n",
    "learning_rate = 0.2 \n",
    "max_depth     = 2\n",
    "min_size      = 50\n",
    "calibrated    = False"
   ]
  },
  {
   "cell_type": "code",
   "execution_count": 164,
   "id": "b912615a",
   "metadata": {},
   "outputs": [
    {
     "data": {
      "text/plain": [
       "100000"
      ]
     },
     "execution_count": 164,
     "metadata": {},
     "output_type": "execute_result"
    }
   ],
   "source": [
    "len(weights)"
   ]
  },
  {
   "cell_type": "code",
   "execution_count": 124,
   "id": "9e31915a",
   "metadata": {},
   "outputs": [
    {
     "name": "stdout",
     "output_type": "stream",
     "text": [
      "[                    --------------------]\n",
      "weak learner time: 5.59\n",
      "update time: 5.43\n",
      "calibration time: 0.12\n"
     ]
    }
   ],
   "source": [
    "bit = BoostedInformationTree(\n",
    "        training_features     = features,\n",
    "        training_weights      = weights, \n",
    "        training_diff_weights = diffs, \n",
    "        learning_rate         = learning_rate, \n",
    "        n_trees               = n_trees,\n",
    "        max_depth             = max_depth,\n",
    "        min_size              = min_size,\n",
    "        calibrated            = True)\n",
    "\n",
    "bit.boost()\n"
   ]
  },
  {
   "cell_type": "code",
   "execution_count": 133,
   "id": "4cfd7ec8",
   "metadata": {},
   "outputs": [
    {
     "data": {
      "text/html": [
       "\n",
       "        <div style=\"max-height:1000px;max-width:1500px;overflow:auto\">\n",
       "        <b>total count</b>: 100000.0, <b>metadata</b>: {}<br>\n",
       "        <div style=\"display:flex;\">\n",
       "            <div style=\"display:inline;\">\n",
       "                \n",
       "                <table style='border:1px solid black;'\">\n",
       "                    <thead><tr><th>bin</th><th>content</th></tr></thead>\n",
       "                    <tr><td>(-0.933715,-0.910125)</td><td>10 ± 3.16228</td></tr>\n",
       "<tr><td>(-0.910125,-0.886534)</td><td>16 ± 4</td></tr>\n",
       "<tr><td>(-0.886534,-0.862944)</td><td>9 ± 3</td></tr>\n",
       "<tr><td>(-0.862944,-0.839354)</td><td>13 ± 3.60555</td></tr>\n",
       "<tr><td colspan='2'><center>[121 rows hidden]</center></td></tr>\n",
       "<tr><td>(2.01506,2.03865)</td><td>4202 ± 64.8228</td></tr>\n",
       "<tr><td>(2.03865,2.06224)</td><td>4124 ± 64.2184</td></tr>\n",
       "<tr><td>(2.06224,2.08583)</td><td>4368 ± 66.0908</td></tr>\n",
       "<tr><td>(2.08583,2.10942)</td><td>4514 ± 67.1863</td></tr>\n",
       "                </table>\n",
       "            \n",
       "            </div>\n",
       "            <div style=\"display:inline; margin: auto 2%;\">\n",
       "                <img src='data:image/svg+xml;base64,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'/>\n",
       "            </div>\n",
       "            </div>\n",
       "        </div>\n",
       "        "
      ],
      "text/plain": [
       "[10.00 ± 3.16   16.00 ± 4.00    9.00 ± 3.00   13.00 ± 3.61   18.00 ± 4.24\n",
       " 11.00 ± 3.32   15.00 ± 3.87   17.00 ± 4.12   16.00 ± 4.00   11.00 ± 3.32\n",
       " 18.00 ± 4.24   14.00 ± 3.74   20.00 ± 4.47   13.00 ± 3.61   37.00 ± 6.08\n",
       " 19.00 ± 4.36   16.00 ± 4.00   28.00 ± 5.29   29.00 ± 5.39   19.00 ± 4.36\n",
       " 42.00 ± 6.48   34.00 ± 5.83   23.00 ± 4.80   31.00 ± 5.57   25.00 ± 5.00\n",
       " 42.00 ± 6.48   46.00 ± 6.78   44.00 ± 6.63   51.00 ± 7.14   41.00 ± 6.40\n",
       " 39.00 ± 6.24   67.00 ± 8.19   44.00 ± 6.63   43.00 ± 6.56   51.00 ± 7.14\n",
       " 45.00 ± 6.71   58.00 ± 7.62   72.00 ± 8.49   75.00 ± 8.66   84.00 ± 9.17\n",
       " 73.00 ± 8.54   75.00 ± 8.66   89.00 ± 9.43   87.00 ± 9.33\n",
       " 100.00 ± 10.00   94.00 ± 9.70   93.00 ± 9.64   108.00 ± 10.39\n",
       " 109.00 ± 10.44   108.00 ± 10.39   116.00 ± 10.77   141.00 ± 11.87\n",
       " 125.00 ± 11.18   119.00 ± 10.91   142.00 ± 11.92   125.00 ± 11.18\n",
       " 163.00 ± 12.77   148.00 ± 12.17   197.00 ± 14.04   150.00 ± 12.25\n",
       " 150.00 ± 12.25   187.00 ± 13.67   220.00 ± 14.83   200.00 ± 14.14\n",
       " 228.00 ± 15.10   216.00 ± 14.70   262.00 ± 16.19   262.00 ± 16.19\n",
       " 285.00 ± 16.88   313.00 ± 17.69   300.00 ± 17.32   297.00 ± 17.23\n",
       " 309.00 ± 17.58   334.00 ± 18.28   410.00 ± 20.25   400.00 ± 20.00\n",
       " 370.00 ± 19.24   377.00 ± 19.42   422.00 ± 20.54   462.00 ± 21.49\n",
       " 466.00 ± 21.59   492.00 ± 22.18   523.00 ± 22.87   508.00 ± 22.54\n",
       " 631.00 ± 25.12   595.00 ± 24.39   652.00 ± 25.53   634.00 ± 25.18\n",
       " 688.00 ± 26.23   705.00 ± 26.55   842.00 ± 29.02   799.00 ± 28.27\n",
       " 827.00 ± 28.76   914.00 ± 30.23   954.00 ± 30.89   997.00 ± 31.58\n",
       " 997.00 ± 31.58   1120.00 ± 33.47   1179.00 ± 34.34   1148.00 ± 33.88\n",
       " 1234.00 ± 35.13   1282.00 ± 35.81   1349.00 ± 36.73   1405.00 ± 37.48\n",
       " 1391.00 ± 37.30   1555.00 ± 39.43   1679.00 ± 40.98   1706.00 ± 41.30\n",
       " 1768.00 ± 42.05   1814.00 ± 42.59   1974.00 ± 44.43   2084.00 ± 45.65\n",
       " 2195.00 ± 46.85   2271.00 ± 47.66   2408.00 ± 49.07   2512.00 ± 50.12\n",
       " 2714.00 ± 52.10   2742.00 ± 52.36   2869.00 ± 53.56   3083.00 ± 55.52\n",
       " 3104.00 ± 55.71   3240.00 ± 56.92   3485.00 ± 59.03   3650.00 ± 60.42\n",
       " 3935.00 ± 62.73   4202.00 ± 64.82   4124.00 ± 64.22   4368.00 ± 66.09\n",
       " 4514.00 ± 67.19]"
      ]
     },
     "execution_count": 133,
     "metadata": {},
     "output_type": "execute_result"
    }
   ],
   "source": [
    "Hist1D(diffs)"
   ]
  },
  {
   "cell_type": "code",
   "execution_count": 128,
   "id": "34487d99",
   "metadata": {},
   "outputs": [],
   "source": [
    "test_feat = load_data('test_features_power_law_model')\n",
    "test_feat = test_feat.reshape(test_feat.shape[0], -1)\n",
    "\n",
    "pred = bit.vectorized_predict(test_feat) # returns all predictions"
   ]
  },
  {
   "cell_type": "code",
   "execution_count": 132,
   "id": "4ed90139",
   "metadata": {},
   "outputs": [
    {
     "data": {
      "text/html": [
       "\n",
       "        <div style=\"max-height:1000px;max-width:1500px;overflow:auto\">\n",
       "        <b>total count</b>: 100000.0, <b>metadata</b>: {}<br>\n",
       "        <div style=\"display:flex;\">\n",
       "            <div style=\"display:inline;\">\n",
       "                \n",
       "                <table style='border:1px solid black;'\">\n",
       "                    <thead><tr><th>bin</th><th>content</th></tr></thead>\n",
       "                    <tr><td>(0,0.06)</td><td>223 ± 14.9332</td></tr>\n",
       "<tr><td>(0.06,0.12)</td><td>161 ± 12.6886</td></tr>\n",
       "<tr><td>(0.12,0.18)</td><td>335 ± 18.303</td></tr>\n",
       "<tr><td>(0.18,0.24)</td><td>189 ± 13.7477</td></tr>\n",
       "<tr><td colspan='2'><center>[12 rows hidden]</center></td></tr>\n",
       "<tr><td>(0.96,1.02)</td><td>25341 ± 159.189</td></tr>\n",
       "<tr><td>(1.02,1.08)</td><td>0 ± 0</td></tr>\n",
       "<tr><td>(1.08,1.14)</td><td>0 ± 0</td></tr>\n",
       "<tr><td>(1.14,1.2)</td><td>0 ± 0</td></tr>\n",
       "                </table>\n",
       "            \n",
       "            </div>\n",
       "            <div style=\"display:inline; margin: auto 2%;\">\n",
       "                <img src='data:image/svg+xml;base64,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'/>\n",
       "            </div>\n",
       "            </div>\n",
       "        </div>\n",
       "        "
      ],
      "text/plain": [
       "[223.00 ± 14.93   161.00 ± 12.69   335.00 ± 18.30   189.00 ± 13.75\n",
       " 516.00 ± 22.72   739.00 ± 27.18   841.00 ± 29.00   1811.00 ± 42.56\n",
       " 3018.00 ± 54.94    0.00 ± 0.00   5907.00 ± 76.86   7687.00 ± 87.68\n",
       " 6683.00 ± 81.75   7717.00 ± 87.85   17770.00 ± 133.30   21062.00 ± 145.13\n",
       " 25341.00 ± 159.19    0.00 ± 0.00    0.00 ± 0.00    0.00 ± 0.00]"
      ]
     },
     "execution_count": 132,
     "metadata": {},
     "output_type": "execute_result"
    }
   ],
   "source": [
    "sig_h = Hist1D(pred, bins=\"20,0,1.2\")\n",
    "sig_h"
   ]
  },
  {
   "cell_type": "code",
   "execution_count": null,
   "id": "97cd0634",
   "metadata": {},
   "outputs": [],
   "source": []
  }
 ],
 "metadata": {
  "kernelspec": {
   "display_name": "coffeadev4",
   "language": "python",
   "name": "coffeadev4"
  },
  "language_info": {
   "codemirror_mode": {
    "name": "ipython",
    "version": 3
   },
   "file_extension": ".py",
   "mimetype": "text/x-python",
   "name": "python",
   "nbconvert_exporter": "python",
   "pygments_lexer": "ipython3",
   "version": "3.9.7"
  }
 },
 "nbformat": 4,
 "nbformat_minor": 5
}
