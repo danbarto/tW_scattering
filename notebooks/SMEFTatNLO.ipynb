{
 "cells": [
  {
   "cell_type": "code",
   "execution_count": 1,
   "id": "cd0b919d",
   "metadata": {},
   "outputs": [],
   "source": [
    "%load_ext autoreload"
   ]
  },
  {
   "cell_type": "markdown",
   "id": "6f0fa745",
   "metadata": {},
   "source": [
    "# Studies for SMEFT@NLO discussion in 2022\n",
    "\n",
    "3 samples, top-W scattering @NLO, ttW_QCD @NLO, ttW_QCD+QED @LO.\n",
    "\n",
    "All samples are in\n",
    "/ceph/cms/store/user/dspitzba/ProjectMetis/\n",
    "\n",
    "TTWToLNu_TtoLep_aTtoHad_5f_EFT_NLO_RunIISummer20_NanoGEN_NANO_v13/merged/\n",
    "\n",
    "TTWToLNu_TtoAll_aTtoLep_5f_EFT_NLO_RunIISummer20_NanoGEN_NANO_v13/merged/\n",
    "\n",
    "\n",
    "ttlnuJet_all22WCs_RunIISummer20_NanoGEN_NANO_v26/merged/\n",
    "\n",
    "TTWToLNu_SM_RunIISummer20_NanoGEN_NANO_v26//merged/\n",
    "\n",
    "\n",
    "Also use hist instead of coffea hist / yahist / boost histogram --> for future migrations\n",
    "\n",
    "First, make histograms of the weight distributions of my signal samples. Very basic sanity check."
   ]
  },
  {
   "cell_type": "code",
   "execution_count": 532,
   "id": "bbaf06ba",
   "metadata": {},
   "outputs": [],
   "source": [
    "import awkward as ak\n",
    "import hist\n",
    "import glob\n",
    "from coffea import util, processor\n",
    "from coffea.nanoevents import NanoEventsFactory, NanoAODSchema\n",
    "NanoAODSchema.warn_missing_crossrefs = False\n",
    "\n",
    "base_dir = '/ceph/cms/store/user/dspitzba/ProjectMetis/'"
   ]
  },
  {
   "cell_type": "code",
   "execution_count": 533,
   "id": "65bab6dd",
   "metadata": {},
   "outputs": [
    {
     "name": "stdout",
     "output_type": "stream",
     "text": [
      "merged_0.root\tmerged_13.root\tmerged_1.root  merged_5.root  merged_9.root\r\n",
      "merged_10.root\tmerged_14.root\tmerged_2.root  merged_6.root\r\n",
      "merged_11.root\tmerged_15.root\tmerged_3.root  merged_7.root\r\n",
      "merged_12.root\tmerged_16.root\tmerged_4.root  merged_8.root\r\n"
     ]
    }
   ],
   "source": [
    "!ls /ceph/cms/store/user/dspitzba/ProjectMetis//TTWToLNu_TtoLep_aTtoHad_5f_EFT_NLO_RunIISummer20_NanoGEN_NANO_v13/merged/"
   ]
  },
  {
   "cell_type": "code",
   "execution_count": 534,
   "id": "a4b9feee",
   "metadata": {},
   "outputs": [],
   "source": [
    "f_in = f'{base_dir}/TTWToLNu_TtoLep_aTtoHad_5f_EFT_NLO_RunIISummer20_NanoGEN_NANO_v13/merged/merged_0.root'\n",
    "#f_in = f'{base_dir}/TTWToLNu_TtoAll_aTtoLep_5f_EFT_NLO_RunIISummer20_NanoGEN_NANO_v13/merged/merged_0.root'\n",
    "topW_TtoLep = NanoEventsFactory.from_root(\n",
    "    f_in,\n",
    "    #'/ceph/cms/store/user/dspitzba/ProjectMetis/TTWToLNu_TtoLep_aTtoHad_5f_EFT_NLO_RunIISummer20_NanoGEN_NANO_v13/output_60.root',\n",
    "    schemaclass=NanoAODSchema,\n",
    ").events()"
   ]
  },
  {
   "cell_type": "code",
   "execution_count": 535,
   "id": "6cd08cbf",
   "metadata": {},
   "outputs": [],
   "source": [
    "w = topW_TtoLep.LHEWeight\n",
    "weights = ak.Array([\n",
    "    w.cpt_0p_cpqm_0p_nlo,\n",
    "    w.cpt_3p_cpqm_0p_nlo,\n",
    "    w.cpt_6p_cpqm_0p_nlo,\n",
    "    w.cpt_0p_cpqm_3p_nlo,\n",
    "    w.cpt_0p_cpqm_6p_nlo,\n",
    "    w.cpt_3p_cpqm_3p_nlo,\n",
    "])"
   ]
  },
  {
   "cell_type": "code",
   "execution_count": 536,
   "id": "501cda00",
   "metadata": {},
   "outputs": [
    {
     "data": {
      "text/plain": [
       "<Array [False, False, False, ... False, False] type='70000 * bool'>"
      ]
     },
     "execution_count": 536,
     "metadata": {},
     "output_type": "execute_result"
    }
   ],
   "source": [
    "bad_events = ak.all(weights == 1, axis=0)\n",
    "bad_events"
   ]
  },
  {
   "cell_type": "code",
   "execution_count": 537,
   "id": "e6755674",
   "metadata": {},
   "outputs": [],
   "source": [
    "topW_TtoLep = topW_TtoLep[~bad_events]"
   ]
  },
  {
   "cell_type": "code",
   "execution_count": 538,
   "id": "0ebb8ff0",
   "metadata": {},
   "outputs": [
    {
     "data": {
      "text/plain": [
       "['originalXWGTUP',\n",
       " 'cpt_0p_cpqm_0p_nlo',\n",
       " 'cpt_3p_cpqm_0p_nlo',\n",
       " 'cpt_6p_cpqm_0p_nlo',\n",
       " 'cpt_0p_cpqm_3p_nlo',\n",
       " 'cpt_0p_cpqm_6p_nlo',\n",
       " 'cpt_3p_cpqm_3p_nlo']"
      ]
     },
     "execution_count": 538,
     "metadata": {},
     "output_type": "execute_result"
    }
   ],
   "source": [
    "topW_TtoLep.LHEWeight.fields"
   ]
  },
  {
   "cell_type": "code",
   "execution_count": 539,
   "id": "daa1386e",
   "metadata": {},
   "outputs": [
    {
     "data": {
      "text/html": [
       "<html>\n",
       "<div style=\"display:flex; align-items:center;\">\n",
       "<div style=\"width:290px;\">\n",
       "<svg xmlns=\"http://www.w3.org/2000/svg\" viewBox=\"-10 -105 270 120\">\n",
       "<line x1=\"-5\" y1=\"0\" x2=\"255\" y2=\"0\" style=\"fill:none;stroke-width:2;stroke:currentColor\"/>\n",
       "<text text-anchor=\"middle\" x=\"0\" y=\"15\" style=\"fill:currentColor;\">\n",
       "-1\n",
       "</text>\n",
       "<text text-anchor=\"middle\" x=\"250\" y=\"15\" style=\"fill:currentColor;\">\n",
       "20\n",
       "</text>\n",
       "<text text-anchor=\"middle\" x=\"125.0\" y=\"15\" style=\"fill:currentColor;\">\n",
       "weight\n",
       "</text>\n",
       "<polyline points=\"  0,0   0,-0.0038   5,-0.0038   5,-0.0019  10,-0.0019  10,-0.0685  15,-0.0685  15,-7.88  20,-7.88  20,-100  25,-100  25,-10.4  30,-10.4  30,-2.14  35,-2.14  35,-0.903  40,-0.903  40,-0.582  45,-0.582  45,-0.382  50,-0.382  50,-0.224  55,-0.224  55,-0.164  60,-0.164  60,-0.116  65,-0.116  65,-0.107  70,-0.107  70,-0.0742  75,-0.0742  75,-0.059  80,-0.059  80,-0.0342  85,-0.0342  85,-0.0285  90,-0.0285  90,-0.0475  95,-0.0475  95,-0.0285 100,-0.0285 100,-0.0152 105,-0.0152 105,-0.0152 110,-0.0152 110,-0.0342 115,-0.0342 115,-0.0114 120,-0.0114 120,-0.019 125,-0.019 125,-0.0152 130,-0.0152 130,-0.0133 135,-0.0133 135,-0.00571 140,-0.00571 140,-0.00951 145,-0.00951 145,-0.0152 150,-0.0152 150,-0.0038 155,-0.0038 155,-0.0114 160,-0.0114 160,-0.0038 165,-0.0038 165,-0.0133 170,-0.0133 170,-0.00951 175,-0.00951 175,-0.00761 180,-0.00761 180,-0.00571 185,-0.00571 185,-0.0133 190,-0.0133 190,-0.00571 195,-0.00571 195,-0.0038 200,-0.0038 200,-0.00571 205,-0.00571 205,-0.00951 210,-0.00951 210,-0.0019 215,-0.0019 215,-0 220,-0 220,-0.00571 225,-0.00571 225,-0.0038 230,-0.0038 230,-0.0019 235,-0.0019 235,-0.00571 240,-0.00571 240,-0.0038 245,-0.0038 245,-0.0038 250,-0.0038 250,0\" style=\"fill:none; stroke:currentColor;\"/>\n",
       "</svg>\n",
       "</div>\n",
       "<div style=\"flex=grow:1;\">\n",
       "Regular(50, -1, 20, name='weight_ax', label='weight')<br/>\n",
       "<hr style=\"margin-top:.2em; margin-bottom:.2em;\"/>\n",
       "Double() Σ=64952.0 <em>(65000.0 with flow)</em>\n",
       "\n",
       "</div>\n",
       "</div>\n",
       "</html>"
      ],
      "text/plain": [
       "Hist(Regular(50, -1, 20, name='weight_ax', label='weight'), storage=Double()) # Sum: 64952.0 (65000.0 with flow)"
      ]
     },
     "execution_count": 539,
     "metadata": {},
     "output_type": "execute_result"
    }
   ],
   "source": [
    "weight_axis = hist.axis.Regular(50, -1, 20, name=\"weight_ax\", label=\"weight\", underflow=True, overflow=True)\n",
    "\n",
    "h_0 = hist.Hist(weight_axis)\n",
    "h_0.fill(weight_ax=topW_TtoLep.LHEWeight.cpt_0p_cpqm_0p_nlo)\n",
    "\n",
    "h_1 = hist.Hist(weight_axis)\n",
    "h_1.fill(weight_ax=topW_TtoLep.LHEWeight.cpt_6p_cpqm_0p_nlo)\n",
    "\n",
    "h_2 = hist.Hist(weight_axis)\n",
    "h_2.fill(weight_ax=topW_TtoLep.LHEWeight.cpt_0p_cpqm_6p_nlo)\n",
    "\n",
    "h_3 = hist.Hist(weight_axis)\n",
    "h_3.fill(weight_ax=topW_TtoLep.LHEWeight.cpt_3p_cpqm_3p_nlo)"
   ]
  },
  {
   "cell_type": "code",
   "execution_count": 540,
   "id": "37833a77",
   "metadata": {},
   "outputs": [
    {
     "data": {
      "text/plain": [
       "0.0026153846153846153"
      ]
     },
     "execution_count": 540,
     "metadata": {},
     "output_type": "execute_result"
    }
   ],
   "source": [
    "# number of events with weight > 20 (\"problematic\")\n",
    "h_1.values(flow=True)[-1]/sum(h_1.values(flow=True))"
   ]
  },
  {
   "cell_type": "code",
   "execution_count": 541,
   "id": "35c6d08b",
   "metadata": {},
   "outputs": [],
   "source": [
    "import matplotlib.pyplot as plt\n",
    "import mplhep as hep\n",
    "plt.style.use(hep.style.CMS)"
   ]
  },
  {
   "cell_type": "code",
   "execution_count": 542,
   "id": "60b36e9a",
   "metadata": {},
   "outputs": [
    {
     "data": {
      "text/plain": [
       "<matplotlib.legend.Legend at 0x7f4bd57fb190>"
      ]
     },
     "execution_count": 542,
     "metadata": {},
     "output_type": "execute_result"
    },
    {
     "data": {
      "image/png": "[encoded data removed]",
      "text/plain": [
       "<Figure size 720x720 with 1 Axes>"
      ]
     },
     "metadata": {
      "needs_background": "light"
     },
     "output_type": "display_data"
    }
   ],
   "source": [
    "f, ax = plt.subplots()\n",
    "\n",
    "h_0.plot1d(ax=ax, label=r'$C_{\\varphi t}=0, C_{\\varphi Q}^{-}=0$')\n",
    "h_1.plot1d(ax=ax, label=r'$C_{\\varphi t}=6, C_{\\varphi Q}^{-}=0$')\n",
    "h_2.plot1d(ax=ax, label=r'$C_{\\varphi t}=0, C_{\\varphi Q}^{-}=6$')\n",
    "h_3.plot1d(ax=ax, label=r'$C_{\\varphi t}=3, C_{\\varphi Q}^{-}=3$')\n",
    "\n",
    "ax.set_ylabel(r'# Events')\n",
    "ax.set_xlabel(r'weight')\n",
    "\n",
    "ax.set_yscale(\"log\")\n",
    "\n",
    "plt.legend()\n"
   ]
  },
  {
   "cell_type": "code",
   "execution_count": 543,
   "id": "e99f791d",
   "metadata": {},
   "outputs": [
    {
     "data": {
      "text/plain": [
       "0.9999980168269231"
      ]
     },
     "execution_count": 543,
     "metadata": {},
     "output_type": "execute_result"
    }
   ],
   "source": [
    "ak.mean(topW_TtoLep.LHEWeight.cpt_0p_cpqm_0p_nlo)"
   ]
  },
  {
   "cell_type": "code",
   "execution_count": 544,
   "id": "109d354e",
   "metadata": {},
   "outputs": [
    {
     "data": {
      "text/plain": [
       "65000"
      ]
     },
     "execution_count": 544,
     "metadata": {},
     "output_type": "execute_result"
    }
   ],
   "source": [
    "len(topW_TtoLep)"
   ]
  },
  {
   "cell_type": "markdown",
   "id": "8458bbf9",
   "metadata": {},
   "source": [
    "## Get the Polynom for the simple case - 2 Wilson coefficients, 6 weights"
   ]
  },
  {
   "cell_type": "code",
   "execution_count": 545,
   "id": "032a4177",
   "metadata": {},
   "outputs": [],
   "source": [
    "from Tools.reweighting import get_coordinates, get_coordinates_and_ref\n",
    "coords, ref_coords = get_coordinates_and_ref(f_in, is2D=True)"
   ]
  },
  {
   "cell_type": "code",
   "execution_count": 546,
   "id": "64ae8c95",
   "metadata": {},
   "outputs": [],
   "source": [
    "from Tools.HyperPoly import HyperPoly  # maybe need awkward hyperpoly"
   ]
  },
  {
   "cell_type": "code",
   "execution_count": 547,
   "id": "1c0b08b8",
   "metadata": {},
   "outputs": [
    {
     "data": {
      "text/plain": [
       "['originalXWGTUP',\n",
       " 'cpt_0p_cpqm_0p_nlo',\n",
       " 'cpt_3p_cpqm_0p_nlo',\n",
       " 'cpt_6p_cpqm_0p_nlo',\n",
       " 'cpt_0p_cpqm_3p_nlo',\n",
       " 'cpt_0p_cpqm_6p_nlo',\n",
       " 'cpt_3p_cpqm_3p_nlo']"
      ]
     },
     "execution_count": 547,
     "metadata": {},
     "output_type": "execute_result"
    }
   ],
   "source": [
    "topW_TtoLep.LHEWeight.fields"
   ]
  },
  {
   "cell_type": "code",
   "execution_count": 548,
   "id": "11ef5516",
   "metadata": {},
   "outputs": [],
   "source": [
    "w = topW_TtoLep.LHEWeight\n",
    "weights = ak.Array([\n",
    "    w.cpt_0p_cpqm_0p_nlo,\n",
    "    w.cpt_3p_cpqm_0p_nlo,\n",
    "    w.cpt_6p_cpqm_0p_nlo,\n",
    "    w.cpt_0p_cpqm_3p_nlo,\n",
    "    w.cpt_0p_cpqm_6p_nlo,\n",
    "    w.cpt_3p_cpqm_3p_nlo,\n",
    "])"
   ]
  },
  {
   "cell_type": "code",
   "execution_count": 549,
   "id": "4d9881b1",
   "metadata": {},
   "outputs": [],
   "source": [
    "hp = HyperPoly(2)\n",
    "hp.initialize( coords, ref_coords )\n",
    "coeff = hp.get_parametrization(weights)"
   ]
  },
  {
   "cell_type": "code",
   "execution_count": 550,
   "id": "1c434106",
   "metadata": {},
   "outputs": [
    {
     "data": {
      "text/plain": [
       "226.05430372484958"
      ]
     },
     "execution_count": 550,
     "metadata": {},
     "output_type": "execute_result"
    }
   ],
   "source": [
    "sum_SM = sum(hp.eval(coeff, [0,0])*topW_TtoLep.genWeight)\n",
    "sum_SM"
   ]
  },
  {
   "cell_type": "code",
   "execution_count": 551,
   "id": "b961a63f",
   "metadata": {},
   "outputs": [
    {
     "data": {
      "text/plain": [
       "<Array [0.00371, 0.00371, ... 0.00371, 0.00371] type='65000 * float32[parameters...'>"
      ]
     },
     "execution_count": 551,
     "metadata": {},
     "output_type": "execute_result"
    }
   ],
   "source": [
    "topW_TtoLep.genWeight"
   ]
  },
  {
   "cell_type": "code",
   "execution_count": 552,
   "id": "0534bb59",
   "metadata": {},
   "outputs": [],
   "source": [
    "topW_TtoLep_scan_cpt = []\n",
    "topW_TtoLep_scan_cpqm = []\n",
    "for i in range(-20,21):\n",
    "    topW_TtoLep_scan_cpt.append(sum(hp.eval(coeff, [i,0])*topW_TtoLep.genWeight)/sum_SM)\n",
    "    topW_TtoLep_scan_cpqm.append(sum(hp.eval(coeff, [0,i])*topW_TtoLep.genWeight)/sum_SM)"
   ]
  },
  {
   "cell_type": "code",
   "execution_count": 553,
   "id": "4012b666",
   "metadata": {},
   "outputs": [
    {
     "data": {
      "text/plain": [
       "[5.926656526410171,\n",
       " 5.409495008157708,\n",
       " 4.920841773266957,\n",
       " 4.460696821736352,\n",
       " 4.029060153567707,\n",
       " 3.6259317687610424,\n",
       " 3.251311667313983,\n",
       " 2.90519984922901,\n",
       " 2.5875963145055887,\n",
       " 2.2985010631429956,\n",
       " 2.037914095141855,\n",
       " 1.8058354105019923,\n",
       " 1.6022650092233761,\n",
       " 1.4272028913060415,\n",
       " 1.2806490567499647,\n",
       " 1.1626035055551496,\n",
       " 1.073066237721598,\n",
       " 1.012037253249301,\n",
       " 0.9795165521382825,\n",
       " 0.9755041343885181,\n",
       " 1.0,\n",
       " 1.0530041489727617,\n",
       " 1.134516581306777,\n",
       " 1.2445372970020612,\n",
       " 1.3830662960586069,\n",
       " 1.550103578476408,\n",
       " 1.7456491442554825,\n",
       " 1.9697029933958126,\n",
       " 2.2222651258974135,\n",
       " 2.5033355417601593,\n",
       " 2.8129142409844037,\n",
       " 3.151001223569791,\n",
       " 3.517596489516444,\n",
       " 3.9127000388244166,\n",
       " 4.336311871493521,\n",
       " 4.7884319875242065,\n",
       " 5.269060386915626,\n",
       " 5.778197069668678,\n",
       " 6.315842035783725,\n",
       " 6.881995285258494,\n",
       " 7.476656818095439]"
      ]
     },
     "execution_count": 553,
     "metadata": {},
     "output_type": "execute_result"
    }
   ],
   "source": [
    "topW_TtoLep_scan_cpt"
   ]
  },
  {
   "cell_type": "code",
   "execution_count": 554,
   "id": "84a77178",
   "metadata": {},
   "outputs": [
    {
     "data": {
      "text/plain": [
       "'0.100606+0.224482*x0+0.071274*x1-0.015849*x0**2-0.018799*x0*x1+0.049077*x1**2'"
      ]
     },
     "execution_count": 554,
     "metadata": {},
     "output_type": "execute_result"
    }
   ],
   "source": [
    "hp.root_func_string(coeff[1])"
   ]
  },
  {
   "cell_type": "code",
   "execution_count": 555,
   "id": "a321adce",
   "metadata": {},
   "outputs": [
    {
     "data": {
      "text/plain": [
       "array([1.        , 0.99996948, 0.99996948, ..., 1.        , 1.        ,\n",
       "       1.        ])"
      ]
     },
     "execution_count": 555,
     "metadata": {},
     "output_type": "execute_result"
    }
   ],
   "source": [
    "coeff[0]"
   ]
  },
  {
   "cell_type": "code",
   "execution_count": 556,
   "id": "2e8f8535",
   "metadata": {},
   "outputs": [
    {
     "data": {
      "text/html": [
       "<html>\n",
       "<div style=\"display:flex; align-items:center;\">\n",
       "<div style=\"width:290px;\">\n",
       "<svg xmlns=\"http://www.w3.org/2000/svg\" viewBox=\"-10 -105 270 120\">\n",
       "<line x1=\"-5\" y1=\"0\" x2=\"255\" y2=\"0\" style=\"fill:none;stroke-width:2;stroke:currentColor\"/>\n",
       "<text text-anchor=\"middle\" x=\"0\" y=\"15\" style=\"fill:currentColor;\">\n",
       "-2\n",
       "</text>\n",
       "<text text-anchor=\"middle\" x=\"250\" y=\"15\" style=\"fill:currentColor;\">\n",
       "2\n",
       "</text>\n",
       "<text text-anchor=\"middle\" x=\"125.0\" y=\"15\" style=\"fill:currentColor;\">\n",
       "coeff\n",
       "</text>\n",
       "<polyline points=\"  0,0   0,-0   5,-0   5,-0  10,-0  10,-0  15,-0  15,-0  20,-0  20,-0  25,-0  25,-0  30,-0  30,-0  35,-0  35,-0  40,-0  40,-0  45,-0  45,-0  50,-0  50,-0  55,-0  55,-0  60,-0  60,-0  65,-0  65,-0  70,-0  70,-0  75,-0  75,-0  80,-0  80,-0  85,-0  85,-0  90,-0  90,-0  95,-0  95,-0 100,-0 100,-0 105,-0 105,-0 110,-0 110,-0 115,-0 115,-0.00161 120,-0.00161 120,-1.74 125,-1.74 125,-100 130,-100 130,-1.6 135,-1.6 135,-0.507 140,-0.507 140,-0.288 145,-0.288 145,-0.126 150,-0.126 150,-0.0934 155,-0.0934 155,-0.0467 160,-0.0467 160,-0.0322 165,-0.0322 165,-0.0209 170,-0.0209 170,-0.0225 175,-0.0225 175,-0.0145 180,-0.0145 180,-0.0129 185,-0.0129 185,-0.0193 190,-0.0193 190,-0.0193 195,-0.0193 195,-0.0145 200,-0.0145 200,-0.00966 205,-0.00966 205,-0.00161 210,-0.00161 210,-0.00644 215,-0.00644 215,-0.00322 220,-0.00322 220,-0.00161 225,-0.00161 225,-0.00805 230,-0.00805 230,-0.00483 235,-0.00483 235,-0.00483 240,-0.00483 240,-0.00322 245,-0.00322 245,-0.00161 250,-0.00161 250,0\" style=\"fill:none; stroke:currentColor;\"/>\n",
       "</svg>\n",
       "</div>\n",
       "<div style=\"flex=grow:1;\">\n",
       "Regular(50, -2, 2, name='coeff', label='coeff')<br/>\n",
       "<hr style=\"margin-top:.2em; margin-bottom:.2em;\"/>\n",
       "Double() Σ=64971.0 <em>(65000.0 with flow)</em>\n",
       "\n",
       "</div>\n",
       "</div>\n",
       "</html>"
      ],
      "text/plain": [
       "Hist(Regular(50, -2, 2, name='coeff', label='coeff'), storage=Double()) # Sum: 64971.0 (65000.0 with flow)"
      ]
     },
     "execution_count": 556,
     "metadata": {},
     "output_type": "execute_result"
    }
   ],
   "source": [
    "coeff_axis = hist.axis.Regular(50, -2, 2, name=\"coeff\", label=\"coeff\", underflow=True, overflow=True)\n",
    "\n",
    "ch_0 = hist.Hist(coeff_axis)\n",
    "ch_0.fill(coeff=coeff[0])\n",
    "\n",
    "ch_1 = hist.Hist(coeff_axis)\n",
    "ch_1.fill(coeff=coeff[1])\n",
    "\n",
    "ch_2 = hist.Hist(coeff_axis)\n",
    "ch_2.fill(coeff=coeff[2])\n",
    "\n",
    "ch_3 = hist.Hist(coeff_axis)\n",
    "ch_3.fill(coeff=coeff[3])\n",
    "\n",
    "ch_4 = hist.Hist(coeff_axis)\n",
    "ch_4.fill(coeff=coeff[4])\n",
    "\n",
    "ch_5 = hist.Hist(coeff_axis)\n",
    "ch_5.fill(coeff=coeff[5])"
   ]
  },
  {
   "cell_type": "code",
   "execution_count": 557,
   "id": "59eff8cc",
   "metadata": {
    "scrolled": false
   },
   "outputs": [
    {
     "data": {
      "text/plain": [
       "<matplotlib.legend.Legend at 0x7f4bd29e2490>"
      ]
     },
     "execution_count": 557,
     "metadata": {},
     "output_type": "execute_result"
    },
    {
     "data": {
      "image/png": "[encoded data removed]",
      "text/plain": [
       "<Figure size 720x720 with 1 Axes>"
      ]
     },
     "metadata": {
      "needs_background": "light"
     },
     "output_type": "display_data"
    }
   ],
   "source": [
    "f, ax = plt.subplots()\n",
    "\n",
    "ch_0.plot1d(ax=ax, label=r'const')\n",
    "ch_1.plot1d(ax=ax, label=r'$C_{\\varphi t}$')\n",
    "ch_2.plot1d(ax=ax, label=r'$C_{\\varphi Q}^{-}$')\n",
    "ch_3.plot1d(ax=ax, label=r'${C_{\\varphi t}}^{2}$')\n",
    "ch_4.plot1d(ax=ax, label=r'$C_{\\varphi t} \\times C_{\\varphi Q}^{-}$')\n",
    "ch_5.plot1d(ax=ax, label=r'${C_{\\varphi Q}^{-}}^{2}$')\n",
    "\n",
    "\n",
    "ax.set_ylabel(r'# Events')\n",
    "ax.set_xlabel(r'coefficient')\n",
    "\n",
    "ax.set_yscale(\"log\")\n",
    "\n",
    "plt.legend()"
   ]
  },
  {
   "cell_type": "code",
   "execution_count": 558,
   "id": "aece7dde",
   "metadata": {},
   "outputs": [
    {
     "data": {
      "text/plain": [
       "<Array [[11], [-13, -11], ... -13], [-11, 13]] type='65000 * var * int32[paramet...'>"
      ]
     },
     "execution_count": 558,
     "metadata": {},
     "output_type": "execute_result"
    }
   ],
   "source": [
    "topW_TtoLep.GenDressedLepton.pdgId"
   ]
  },
  {
   "cell_type": "code",
   "execution_count": 561,
   "id": "65c8720f",
   "metadata": {},
   "outputs": [],
   "source": [
    "f_in = f'{base_dir}/TTWToLNu_TtoAll_aTtoLep_5f_EFT_NLO_RunIISummer20_NanoGEN_NANO_v13/merged/merged_0.root'\n",
    "TTWToLNu_TtoAll = NanoEventsFactory.from_root(\n",
    "    f_in,\n",
    "    #'/ceph/cms/store/user/dspitzba/ProjectMetis/TTWToLNu_TtoLep_aTtoHad_5f_EFT_NLO_RunIISummer20_NanoGEN_NANO_v13/output_60.root',\n",
    "    schemaclass=NanoAODSchema,\n",
    ").events()\n",
    "\n",
    "w = TTWToLNu_TtoAll.LHEWeight\n",
    "weights = ak.Array([\n",
    "    w.cpt_0p_cpqm_0p_nlo,\n",
    "    w.cpt_3p_cpqm_0p_nlo,\n",
    "    w.cpt_6p_cpqm_0p_nlo,\n",
    "    w.cpt_0p_cpqm_3p_nlo,\n",
    "    w.cpt_0p_cpqm_6p_nlo,\n",
    "    w.cpt_3p_cpqm_3p_nlo,\n",
    "])\n",
    "\n",
    "bad_events = ak.all(weights == 1, axis=0)\n",
    "\n",
    "TTWToLNu_TtoAll = TTWToLNu_TtoAll[~bad_events]\n",
    "\n",
    "w = TTWToLNu_TtoAll.LHEWeight\n",
    "weights = ak.Array([\n",
    "    w.cpt_0p_cpqm_0p_nlo,\n",
    "    w.cpt_3p_cpqm_0p_nlo,\n",
    "    w.cpt_6p_cpqm_0p_nlo,\n",
    "    w.cpt_0p_cpqm_3p_nlo,\n",
    "    w.cpt_0p_cpqm_6p_nlo,\n",
    "    w.cpt_3p_cpqm_3p_nlo,\n",
    "])\n",
    "\n",
    "hp = HyperPoly(2)\n",
    "hp.initialize( coords, ref_coords )\n",
    "coeff = hp.get_parametrization(weights)\n",
    "\n",
    "sum_SM = sum(hp.eval(coeff, [0,0])*TTWToLNu_TtoAll.genWeight)\n",
    "\n",
    "TTWToLNu_TtoAll_scan_cpt = []\n",
    "TTWToLNu_TtoAll_scan_cpqm = []\n",
    "for i in range(-20,21):\n",
    "    TTWToLNu_TtoAll_scan_cpt.append(sum(hp.eval(coeff, [i,0])*TTWToLNu_TtoAll.genWeight)/sum_SM)\n",
    "    TTWToLNu_TtoAll_scan_cpqm.append(sum(hp.eval(coeff, [0,i])*TTWToLNu_TtoAll.genWeight)/sum_SM)\n",
    "\n",
    "    \n",
    "def get_ratio(coeff, events, cpt, cpqm):\n",
    "    return sum(hp.eval(coeff, [cpt,cpqm])*events.genWeight)/sum(events.genWeight)"
   ]
  },
  {
   "cell_type": "code",
   "execution_count": 570,
   "id": "cbf7a3d8",
   "metadata": {},
   "outputs": [
    {
     "data": {
      "text/plain": [
       "array([1.35739111, 1.31992292, 1.28451775, 1.25117559, 1.21989645,\n",
       "       1.19068032, 1.1635272 , 1.13843709, 1.11541   , 1.09444593,\n",
       "       1.07554487, 1.05870682, 1.04393178, 1.03121976, 1.02057075,\n",
       "       1.01198476, 1.00546178, 1.00100182, 0.99860486, 0.99827092,\n",
       "       1.        , 1.00379209, 1.00964719, 1.01756531, 1.02754644,\n",
       "       1.03959058, 1.05369774, 1.06986791, 1.0881011 , 1.1083973 ,\n",
       "       1.13075651, 1.15517874, 1.18166398, 1.21021223, 1.2408235 ,\n",
       "       1.27349778, 1.30823508, 1.34503539, 1.38389871, 1.42482505,\n",
       "       1.4678144 ])"
      ]
     },
     "execution_count": 570,
     "metadata": {},
     "output_type": "execute_result"
    }
   ],
   "source": [
    "xsecs = {\n",
    "    \"TTWToLNu_TtoLep_aTtoHad\": 3.420e-3,\n",
    "    \"TTWToLNu_TtoAll_aTtoLep\": 5.060e-3,\n",
    "    \"TTWToLNu_SM\": 0.2043,\n",
    "}\n",
    "\n",
    "# need to correct SM ttW_QCD x-sec for leptonic top BR assumed in other exclusive samples\n",
    "# 0.108*3 * (1-0.108*3) + 3*0.108 = 0.543\n",
    "\n",
    "nlo_scaling_cpt = (xsecs[\"TTWToLNu_TtoAll_aTtoLep\"] * np.array(TTWToLNu_TtoAll_scan_cpt) +\\\n",
    "  xsecs[\"TTWToLNu_TtoLep_aTtoHad\"] * np.array(topW_TtoLep_scan_cpt) +\\\n",
    "  xsecs[\"TTWToLNu_SM\"]*0.543)/(xsecs[\"TTWToLNu_TtoAll_aTtoLep\"]+\\\n",
    "                         xsecs[\"TTWToLNu_TtoLep_aTtoHad\"]+\\\n",
    "                         xsecs[\"TTWToLNu_SM\"]*0.543)\n",
    "\n",
    "nlo_scaling_cpt"
   ]
  },
  {
   "cell_type": "code",
   "execution_count": 563,
   "id": "bf33b185",
   "metadata": {},
   "outputs": [
    {
     "data": {
      "text/plain": [
       "0.04150758688203622"
      ]
     },
     "execution_count": 563,
     "metadata": {},
     "output_type": "execute_result"
    }
   ],
   "source": [
    "(xsecs[\"TTWToLNu_TtoLep_aTtoHad\"]+xsecs[\"TTWToLNu_TtoAll_aTtoLep\"])/xsecs[\"TTWToLNu_SM\"]"
   ]
  },
  {
   "cell_type": "code",
   "execution_count": 571,
   "id": "5adf57ca",
   "metadata": {},
   "outputs": [
    {
     "data": {
      "text/plain": [
       "array([1.55536822, 1.50634732, 1.45956352, 1.41501682, 1.37270723,\n",
       "       1.33263475, 1.29479937, 1.25920109, 1.22583992, 1.19471585,\n",
       "       1.16582889, 1.13917903, 1.11476627, 1.09259062, 1.07265208,\n",
       "       1.05495064, 1.0394863 , 1.02625907, 1.01526894, 1.00651592,\n",
       "       1.        , 0.99572119, 0.99367948, 0.99387487, 0.99630737,\n",
       "       1.00097698, 1.00788368, 1.0170275 , 1.02840841, 1.04202644,\n",
       "       1.05788156, 1.07597379, 1.09630313, 1.11886957, 1.14367311,\n",
       "       1.17071376, 1.19999152, 1.23150637, 1.26525834, 1.3012474 ,\n",
       "       1.33947357])"
      ]
     },
     "execution_count": 571,
     "metadata": {},
     "output_type": "execute_result"
    }
   ],
   "source": [
    "nlo_scaling_cpqm = (xsecs[\"TTWToLNu_TtoAll_aTtoLep\"] * np.array(TTWToLNu_TtoAll_scan_cpqm) +\\\n",
    "  xsecs[\"TTWToLNu_TtoLep_aTtoHad\"] * np.array(topW_TtoLep_scan_cpqm) +\\\n",
    "  xsecs[\"TTWToLNu_SM\"]*0.543)/(xsecs[\"TTWToLNu_TtoAll_aTtoLep\"]+\\\n",
    "                         xsecs[\"TTWToLNu_TtoLep_aTtoHad\"]+\\\n",
    "                         xsecs[\"TTWToLNu_SM\"]*0.543)\n",
    "\n",
    "nlo_scaling_cpqm"
   ]
  },
  {
   "cell_type": "code",
   "execution_count": 565,
   "id": "9001da47",
   "metadata": {},
   "outputs": [],
   "source": [
    "kelci = {\n",
    "    \"sm*sm\": 1.0,\n",
    "\n",
    "    \"cpt*sm\": 0.0022769891823095838,\n",
    "    \"cpQM*sm\": -0.005396180611031845,\n",
    "\n",
    "    \"cpQM*cpt\": -0.000531132938238176,\n",
    "\n",
    "    \"cpt*cpt\": 0.0009878525312644198,\n",
    "    \"cpQM*cpQM\": 0.0010378318195987384,\n",
    "}"
   ]
  },
  {
   "cell_type": "code",
   "execution_count": 566,
   "id": "ac4ac980",
   "metadata": {},
   "outputs": [],
   "source": [
    "def ttW_ML(cpt, cpqm):\n",
    "    return 1 + cpt*kelci[\"cpt*sm\"] + cpqm*kelci[\"cpQM*sm\"] + cpt*cpqm*kelci[\"cpQM*cpt\"] + cpt**2 * kelci[\"cpt*cpt\"] + cpqm**2 * kelci[\"cpQM*cpQM\"]"
   ]
  },
  {
   "cell_type": "code",
   "execution_count": 577,
   "id": "bf5e5214",
   "metadata": {},
   "outputs": [
    {
     "data": {
      "text/plain": [
       "1.1182632269752757"
      ]
     },
     "execution_count": 577,
     "metadata": {},
     "output_type": "execute_result"
    }
   ],
   "source": [
    "ttW_ML(10,10)"
   ]
  },
  {
   "cell_type": "code",
   "execution_count": 576,
   "id": "7d88278d",
   "metadata": {},
   "outputs": [
    {
     "data": {
      "image/png": "[encoded data removed]",
      "text/plain": [
       "<Figure size 720x720 with 1 Axes>"
      ]
     },
     "metadata": {
      "needs_background": "light"
     },
     "output_type": "display_data"
    }
   ],
   "source": [
    "fig, ax = plt.subplots()\n",
    "hep.cms.label(\n",
    "    \"Work in progress\",\n",
    "    data=False,\n",
    "    lumi=None,\n",
    "    loc=0,\n",
    "    ax=ax,\n",
    ")\n",
    "\n",
    "cpt = np.arange(-20,21,1)\n",
    "\n",
    "plt.plot(cpt, nlo_scaling_cpt, label=r'$t\\bar{t}W (NLO)$', c='green', linewidth=3)\n",
    "plt.plot(cpt, [ttW_ML(c, 0) for c in cpt], label=r'$t\\bar{t}W (LO)$', c='blue', linewidth=3)\n",
    "\n",
    "ax.set_xlabel(r'$C_{\\varphi t}$')\n",
    "ax.set_ylabel(r'$\\sigma(C_{\\varphi t})/\\sigma_{SM}$')\n",
    "\n",
    "plt.legend(\n",
    "        loc='upper center',\n",
    "        bbox_to_anchor=(0.23, 0.88, 0.90, .11),\n",
    "        mode=\"expand\",\n",
    ")\n",
    "\n",
    "plt.show()\n",
    "\n",
    "fig.savefig('/home/users/dspitzba/public_html/tW_scattering/SMEFTatNLO/cpt_comparison.pdf')"
   ]
  },
  {
   "cell_type": "code",
   "execution_count": 575,
   "id": "cac54a44",
   "metadata": {},
   "outputs": [
    {
     "data": {
      "image/png": "[encoded data removed]",
      "text/plain": [
       "<Figure size 720x720 with 1 Axes>"
      ]
     },
     "metadata": {
      "needs_background": "light"
     },
     "output_type": "display_data"
    }
   ],
   "source": [
    "fig, ax = plt.subplots()\n",
    "hep.cms.label(\n",
    "    \"Work in progress\",\n",
    "    data=False,\n",
    "    lumi=None,\n",
    "    loc=0,\n",
    "    ax=ax,\n",
    ")\n",
    "\n",
    "cpt = np.arange(-20,21,1)\n",
    "\n",
    "plt.plot(cpt, nlo_scaling_cpqm, label=r'$t\\bar{t}W (NLO)$', c='green', linewidth=3)\n",
    "plt.plot(cpt, [ttW_ML(0, c) for c in cpt], label=r'$t\\bar{t}W (LO)$', c='blue', linewidth=3)\n",
    "\n",
    "ax.set_xlabel(r'$C_{\\varphi Q}^{-}$')\n",
    "ax.set_ylabel(r'$\\sigma(C_{\\varphi Q}^{-})/\\sigma_{SM}$')\n",
    "\n",
    "plt.legend(\n",
    "        loc='upper center',\n",
    "        bbox_to_anchor=(0.23, 0.88, 0.90, .11),\n",
    "        mode=\"expand\",\n",
    ")\n",
    "\n",
    "plt.show()\n",
    "\n",
    "fig.savefig('/home/users/dspitzba/public_html/tW_scattering/SMEFTatNLO/cpqm_comparison.pdf')"
   ]
  },
  {
   "cell_type": "markdown",
   "id": "d7571558",
   "metadata": {},
   "source": [
    "## Multidimensional LO ttW sample"
   ]
  },
  {
   "cell_type": "code",
   "execution_count": 483,
   "id": "254e15eb",
   "metadata": {},
   "outputs": [],
   "source": [
    "import numpy as np\n",
    "import itertools\n",
    "\n",
    "from Tools.reweighting import eft_point, eft_setup"
   ]
  },
  {
   "cell_type": "code",
   "execution_count": 484,
   "id": "27e3d870",
   "metadata": {},
   "outputs": [],
   "source": [
    "f_in = f'{base_dir}/ttlnuJet_all22WCs_RunIISummer20_NanoGEN_NANO_v26/merged/merged_0.root'\n",
    "events = NanoEventsFactory.from_root(\n",
    "    f_in,\n",
    "    #'/ceph/cms/store/user/dspitzba/ProjectMetis/TTWToLNu_TtoLep_aTtoHad_5f_EFT_NLO_RunIISummer20_NanoGEN_NANO_v13/output_60.root',\n",
    "    schemaclass=NanoAODSchema,\n",
    ").events()"
   ]
  },
  {
   "cell_type": "code",
   "execution_count": 485,
   "id": "9414d321",
   "metadata": {},
   "outputs": [],
   "source": [
    "test = eft_setup('../production/cards/ttlnuJet_all22WCs/ttlnuJet_all22WCsStartPtCheckdim6TopMay20GST_run0_customizecards.dat', events)"
   ]
  },
  {
   "cell_type": "code",
   "execution_count": 486,
   "id": "cb14a7c7",
   "metadata": {},
   "outputs": [],
   "source": [
    "weight_names = events.LHEWeight.fields#[:276]\n",
    "weights = [getattr(events.LHEWeight, w) for w in weight_names[2:]]\n",
    "w = np.array(weights)"
   ]
  },
  {
   "cell_type": "code",
   "execution_count": 487,
   "id": "89f117a7",
   "metadata": {},
   "outputs": [
    {
     "data": {
      "text/plain": [
       "65699"
      ]
     },
     "execution_count": 487,
     "metadata": {},
     "output_type": "execute_result"
    }
   ],
   "source": [
    "len(w[0,:])"
   ]
  },
  {
   "cell_type": "code",
   "execution_count": 488,
   "id": "4965155d",
   "metadata": {},
   "outputs": [],
   "source": [
    "combination  = {}\n",
    "counter = 0\n",
    "order = 2\n",
    "nvar = 22\n",
    "for o in range(order+1):\n",
    "    for comb in itertools.combinations_with_replacement( range(nvar), o ):\n",
    "        combination[counter] = comb\n",
    "        counter += 1\n",
    "\n",
    "m = 332\n",
    "n = int((nvar+1)*(nvar+2)/2)\n",
    "A = np.empty( [m, n ] )\n",
    "param_points = test.get_coordinates()\n",
    "ref_point = test.get_ref_point()\n",
    "combinations = list(combination.values())\n",
    "for d in range(m):\n",
    "    for e in range(n):\n",
    "        A[d][e] = np.prod([param_points[d][x]-ref_point[x] for x in combinations[e]])"
   ]
  },
  {
   "cell_type": "code",
   "execution_count": 489,
   "id": "51ae6c70",
   "metadata": {},
   "outputs": [],
   "source": [
    "res = np.linalg.lstsq(A, w, rcond=None)"
   ]
  },
  {
   "cell_type": "code",
   "execution_count": 490,
   "id": "1e774a68",
   "metadata": {},
   "outputs": [
    {
     "data": {
      "text/plain": [
       "20701.341098513494"
      ]
     },
     "execution_count": 490,
     "metadata": {},
     "output_type": "execute_result"
    }
   ],
   "source": [
    "new_point = [0]*n\n",
    "sm_vec = [ np.prod([new_point[x]-ref_point[x] for x in combinations[e]]) for e in range(n) ]\n",
    "sm_weight = np.dot(res[0].T, sm_vec)\n",
    "sum(sm_weight)"
   ]
  },
  {
   "cell_type": "code",
   "execution_count": 516,
   "id": "df700b84",
   "metadata": {},
   "outputs": [
    {
     "name": "stdout",
     "output_type": "stream",
     "text": [
      "   ctlTi  ctq1  ctq8  cQlMi  cQq81  cQq83  cbW  cpQ3  ctei  ctlSi  ...  cQei  \\\n",
      "0      0     0     0      0      0      0    0     0     0      0  ...     0   \n",
      "\n",
      "   ctZ  cQl3i  ctG  cQq13  cQq11  cptb  ctli  ctp   cpt  \n",
      "0    0      0    0      0      0     0     0    0  10.0  \n",
      "\n",
      "[1 rows x 22 columns]\n"
     ]
    },
    {
     "data": {
      "text/plain": [
       "1.1220507302362244"
      ]
     },
     "execution_count": 516,
     "metadata": {},
     "output_type": "execute_result"
    }
   ],
   "source": [
    "test_point = eft_point.from_customize_card('../production/cards/ttlnuJet_all22WCs/ttlnuJet_all22WCsStartPtCheckdim6TopMay20GST_run0_customizecards.dat')\n",
    "test_point.set({\"cpt\":10.0, \"cpQM\":10.0}, reset=True)\n",
    "test_point.show()\n",
    "bsm_vec = [ np.prod([test_point.get_coord()[x]-ref_point[x] for x in combinations[e]]) for e in range(n) ]\n",
    "bsm_weight = np.dot(res[0].T, bsm_vec)\n",
    "sum(bsm_weight)/sum(sm_weight)"
   ]
  },
  {
   "cell_type": "code",
   "execution_count": null,
   "id": "fa63099e",
   "metadata": {},
   "outputs": [],
   "source": []
  },
  {
   "cell_type": "code",
   "execution_count": 31,
   "id": "a8ce218d",
   "metadata": {},
   "outputs": [
    {
     "data": {
      "text/plain": [
       "'\\ntest_scan = []\\n\\nfor i in range(-20,21):\\n    test_point.set({\"cpt\":i, \"cpQM\":0.0, \"ctZ\":0}, reset=True)\\n    bsm_vec = [ np.prod([test_point.get_coord()[x]-ref_point[x] for x in combinations[e]]) for e in range(n) ]\\n    bsm_weight = np.dot(res[0].T, bsm_vec)\\n    print (i, sum(bsm_weight)/sum(sm_weight))\\n    test_scan.append(sum(bsm_weight)/sum(sm_weight))\\n'"
      ]
     },
     "execution_count": 31,
     "metadata": {},
     "output_type": "execute_result"
    }
   ],
   "source": [
    "'''\n",
    "test_scan = []\n",
    "\n",
    "for i in range(-20,21):\n",
    "    test_point.set({\"cpt\":i, \"cpQM\":0.0, \"ctZ\":0}, reset=True)\n",
    "    bsm_vec = [ np.prod([test_point.get_coord()[x]-ref_point[x] for x in combinations[e]]) for e in range(n) ]\n",
    "    bsm_weight = np.dot(res[0].T, bsm_vec)\n",
    "    print (i, sum(bsm_weight)/sum(sm_weight))\n",
    "    test_scan.append(sum(bsm_weight)/sum(sm_weight))\n",
    "'''"
   ]
  },
  {
   "cell_type": "code",
   "execution_count": 32,
   "id": "f9f7b13c",
   "metadata": {},
   "outputs": [
    {
     "data": {
      "text/plain": [
       "array([3.65372246e-03, 1.00553804e-06, 8.08841467e-01, ...,\n",
       "       5.71731841e-05, 2.28950603e-01, 5.41300824e-02])"
      ]
     },
     "execution_count": 32,
     "metadata": {},
     "output_type": "execute_result"
    }
   ],
   "source": [
    "np.dot(res[0].T, sm_vec)"
   ]
  },
  {
   "cell_type": "code",
   "execution_count": 33,
   "id": "e2cb7bc5",
   "metadata": {},
   "outputs": [
    {
     "name": "stdout",
     "output_type": "stream",
     "text": [
      "EFTrwgt331_ctlTi_0.0_ctq1_0.0_ctq8_0.0_cQq83_0.0_cQq81_0.0_cQlMi_0.0_cbW_0.0_cpQ3_0.0_ctei_0.0_cQei_0.0_ctW_0.0_cpQM_0.0_ctlSi_0.0_ctZ_0.0_cQl3i_0.0_ctG_0.0_cQq13_0.0_cQq11_0.0_cptb_0.0_ctli_0.0_ctp_0.0_cpt_0.0\n"
     ]
    },
    {
     "data": {
      "text/plain": [
       "0.003650188446044922"
      ]
     },
     "execution_count": 33,
     "metadata": {},
     "output_type": "execute_result"
    }
   ],
   "source": [
    "print (weight_names[-1])\n",
    "getattr(events.LHEWeight, weight_names[-1])[0]"
   ]
  },
  {
   "cell_type": "code",
   "execution_count": 34,
   "id": "4b609971",
   "metadata": {},
   "outputs": [
    {
     "data": {
      "text/plain": [
       "65699"
      ]
     },
     "execution_count": 34,
     "metadata": {},
     "output_type": "execute_result"
    }
   ],
   "source": [
    "len(events)"
   ]
  },
  {
   "cell_type": "code",
   "execution_count": 35,
   "id": "d1bbe82a",
   "metadata": {},
   "outputs": [
    {
     "data": {
      "text/plain": [
       "array([3.65372246e-03, 1.00553804e-06, 8.08841467e-01, ...,\n",
       "       5.71731841e-05, 2.28950603e-01, 5.41300824e-02])"
      ]
     },
     "execution_count": 35,
     "metadata": {},
     "output_type": "execute_result"
    }
   ],
   "source": [
    "np.dot(res[0].T, sm_vec)"
   ]
  },
  {
   "cell_type": "code",
   "execution_count": 36,
   "id": "5424403f",
   "metadata": {},
   "outputs": [
    {
     "data": {
      "text/plain": [
       "<Array [0.00365, 0, 0.809, ... 0.229, 0.0541] type='65699 * float32[parameters={...'>"
      ]
     },
     "execution_count": 36,
     "metadata": {},
     "output_type": "execute_result"
    }
   ],
   "source": [
    "getattr(events.LHEWeight, weight_names[-1])"
   ]
  },
  {
   "cell_type": "code",
   "execution_count": 242,
   "id": "9c642280",
   "metadata": {},
   "outputs": [],
   "source": [
    "class EFT_analysis(processor.ProcessorABC):\n",
    "    def __init__(self):\n",
    "        lt_axis = hist.axis.Regular(20, 0, 1000, name=\"lt\", label=\"$L_{T}$ (GeV)\")\n",
    "\n",
    "        self.make_output = lambda: {\n",
    "            'lt_sm': hist.Hist(lt_axis, storage=hist.storage.Weight()),\n",
    "            'lt': hist.Hist(lt_axis, storage=hist.storage.Weight()),\n",
    "            \"EventCount\": processor.value_accumulator(int),\n",
    "            \"sumw\": processor.value_accumulator(float),\n",
    "        }\n",
    "        \n",
    "        ######\n",
    "\n",
    "    def process(self, events):\n",
    "        output = self.make_output()\n",
    "\n",
    "        dataset = events.metadata['dataset']\n",
    "        \n",
    "        isEFT = False\n",
    "        is2D = False\n",
    "        if hasattr(events.LHEWeight, 'cpt_0p_cpqm_0p_nlo'):\n",
    "            isEFT = True\n",
    "            is2D = True\n",
    "        elif hasattr(events.LHEWeight, weight_names[-1]):\n",
    "            isEFT = True\n",
    "            is2D = False\n",
    "        \n",
    "        if isEFT and is2D:\n",
    "            w = events.LHEWeight\n",
    "            weights = ak.Array([\n",
    "                w.cpt_0p_cpqm_0p_nlo,\n",
    "                w.cpt_3p_cpqm_0p_nlo,\n",
    "                w.cpt_6p_cpqm_0p_nlo,\n",
    "                w.cpt_0p_cpqm_3p_nlo,\n",
    "                w.cpt_0p_cpqm_6p_nlo,\n",
    "                w.cpt_3p_cpqm_3p_nlo,\n",
    "            ])\n",
    "            \n",
    "            bad_events = ak.all(weights == 1, axis=0)\n",
    "            events = events[~bad_events]\n",
    "            \n",
    "            # I'm lazy. there has to be a better way\n",
    "            \n",
    "            w = events.LHEWeight\n",
    "            weights = ak.Array([\n",
    "                w.cpt_0p_cpqm_0p_nlo,\n",
    "                w.cpt_3p_cpqm_0p_nlo,\n",
    "                w.cpt_6p_cpqm_0p_nlo,\n",
    "                w.cpt_0p_cpqm_3p_nlo,\n",
    "                w.cpt_0p_cpqm_6p_nlo,\n",
    "                w.cpt_3p_cpqm_3p_nlo,\n",
    "            ])\n",
    "                        \n",
    "            sm_weight = np.ones(len(events))\n",
    "\n",
    "            coeff = hp.get_parametrization(weights)\n",
    "            bsm_weight = hp.eval(coeff, [10, 10])\n",
    "            \n",
    "        elif isEFT and not is2D:\n",
    "            w = [getattr(events.LHEWeight, w) for w in weight_names[2:]]  # cut away garbage weights\n",
    "            res = np.linalg.lstsq(A, w, rcond=None)  # solve the linear equation system\n",
    "            \n",
    "            sm_weight = np.dot(res[0].T, sm_vec)\n",
    "            bsm_weight = np.dot(res[0].T, bsm_vec)\n",
    "            \n",
    "        else:\n",
    "            sm_weight = np.ones(len(events))\n",
    "        \n",
    "        output[\"EventCount\"] = len(events) \n",
    "        output[\"sumw\"] = ak.sum(events.genWeight)\n",
    "        \n",
    "        met = events.GenMET\n",
    "        lepton = events.GenDressedLepton\n",
    "        jet = events.GenJet\n",
    "        \n",
    "        sel_jet = jet[((jet.pt>25)&(abs(jet.eta)<2.4))]\n",
    "        \n",
    "        lt = met.pt + ak.sum(lepton.pt[:,:2], axis=1)\n",
    "        \n",
    "        ######\n",
    "        \n",
    "        event_sel = ((ak.num(lepton)==2) & (abs(ak.sum(lepton.pdgId, axis=1))>0) & (ak.num(sel_jet)>3))\n",
    "        \n",
    "        if isEFT:\n",
    "            output['lt'].fill(\n",
    "                lt=lt[event_sel],\n",
    "                weight=(events.genWeight*bsm_weight)[event_sel],  # NOTE: signs of weights checked.\n",
    "            )\n",
    "\n",
    "        output['lt_sm'].fill(\n",
    "            lt=lt[event_sel],\n",
    "            weight=(events.genWeight*sm_weight)[event_sel],\n",
    "        )\n",
    "                \n",
    "        return {dataset: output}\n",
    "\n",
    "    def postprocess(self, accumulator):\n",
    "        return accumulator"
   ]
  },
  {
   "cell_type": "code",
   "execution_count": 243,
   "id": "2bc0d94f",
   "metadata": {},
   "outputs": [],
   "source": [
    "# ipython -i samples.py -- --load --input data/samples.yaml\n",
    "# samples.db['/TTWJetsToLNu_TuneCP5_13TeV-amcatnloFXFX-madspin-pythia8/RunIISummer20UL18NanoAODv9-106X_upgrade2018_realistic_v16_L1v1-v1/NANOAODSIM'].get_absolute_files()\n",
    "\n",
    "files_central_TTW = [\n",
    "     'root://cmsxrootd.fnal.gov//store/mc/RunIISummer20UL18NanoAODv9/TTWJetsToLNu_TuneCP5_13TeV-amcatnloFXFX-madspin-pythia8/NANOAODSIM/106X_upgrade2018_realistic_v16_L1v1-v1/70000/82A10998-FF53-0F47-B9DB-F2A0312B94D9.root',\n",
    "     'root://cmsxrootd.fnal.gov//store/mc/RunIISummer20UL18NanoAODv9/TTWJetsToLNu_TuneCP5_13TeV-amcatnloFXFX-madspin-pythia8/NANOAODSIM/106X_upgrade2018_realistic_v16_L1v1-v1/70000/9D42A19B-9528-694A-80DB-EA8DE96DF2EF.root',\n",
    "     'root://cmsxrootd.fnal.gov//store/mc/RunIISummer20UL18NanoAODv9/TTWJetsToLNu_TuneCP5_13TeV-amcatnloFXFX-madspin-pythia8/NANOAODSIM/106X_upgrade2018_realistic_v16_L1v1-v1/70000/76896107-5C5D-F745-9C32-96032A08DBD0.root',\n",
    "     'root://cmsxrootd.fnal.gov//store/mc/RunIISummer20UL18NanoAODv9/TTWJetsToLNu_TuneCP5_13TeV-amcatnloFXFX-madspin-pythia8/NANOAODSIM/106X_upgrade2018_realistic_v16_L1v1-v1/70000/659CC9F7-462C-354C-871F-2D43ECD0D738.root',\n",
    "     'root://cmsxrootd.fnal.gov//store/mc/RunIISummer20UL18NanoAODv9/TTWJetsToLNu_TuneCP5_13TeV-amcatnloFXFX-madspin-pythia8/NANOAODSIM/106X_upgrade2018_realistic_v16_L1v1-v1/70000/CE942A79-86EE-D14B-9C4E-8176ACA9B675.root',\n",
    "     'root://cmsxrootd.fnal.gov//store/mc/RunIISummer20UL18NanoAODv9/TTWJetsToLNu_TuneCP5_13TeV-amcatnloFXFX-madspin-pythia8/NANOAODSIM/106X_upgrade2018_realistic_v16_L1v1-v1/70000/9BF5FF1E-2847-334B-A510-1F90EDFE3DAB.root',\n",
    "     'root://cmsxrootd.fnal.gov//store/mc/RunIISummer20UL18NanoAODv9/TTWJetsToLNu_TuneCP5_13TeV-amcatnloFXFX-madspin-pythia8/NANOAODSIM/106X_upgrade2018_realistic_v16_L1v1-v1/70000/B458D031-E731-2B4D-B4C7-BF3CBD2FB34C.root',\n",
    "     'root://cmsxrootd.fnal.gov//store/mc/RunIISummer20UL18NanoAODv9/TTWJetsToLNu_TuneCP5_13TeV-amcatnloFXFX-madspin-pythia8/NANOAODSIM/106X_upgrade2018_realistic_v16_L1v1-v1/70000/31777CCD-9BEE-C54C-8512-9812249A0325.root',\n",
    "     'root://cmsxrootd.fnal.gov//store/mc/RunIISummer20UL18NanoAODv9/TTWJetsToLNu_TuneCP5_13TeV-amcatnloFXFX-madspin-pythia8/NANOAODSIM/106X_upgrade2018_realistic_v16_L1v1-v1/270000/F11E5C7A-6B90-A34E-B090-156E7E1D6F89.root',\n",
    "     'root://cmsxrootd.fnal.gov//store/mc/RunIISummer20UL18NanoAODv9/TTWJetsToLNu_TuneCP5_13TeV-amcatnloFXFX-madspin-pythia8/NANOAODSIM/106X_upgrade2018_realistic_v16_L1v1-v1/270000/FE33397E-8A80-594D-A2BF-A8CE67FEA234.root',\n",
    "     'root://cmsxrootd.fnal.gov//store/mc/RunIISummer20UL18NanoAODv9/TTWJetsToLNu_TuneCP5_13TeV-amcatnloFXFX-madspin-pythia8/NANOAODSIM/106X_upgrade2018_realistic_v16_L1v1-v1/270000/0BF1CAC0-066F-6C41-89EF-6F7B67A8E1D7.root',\n",
    "     'root://cmsxrootd.fnal.gov//store/mc/RunIISummer20UL18NanoAODv9/TTWJetsToLNu_TuneCP5_13TeV-amcatnloFXFX-madspin-pythia8/NANOAODSIM/106X_upgrade2018_realistic_v16_L1v1-v1/270000/77872E8A-7486-8746-9A6C-C8D05D17CC8C.root',\n",
    "     'root://cmsxrootd.fnal.gov//store/mc/RunIISummer20UL18NanoAODv9/TTWJetsToLNu_TuneCP5_13TeV-amcatnloFXFX-madspin-pythia8/NANOAODSIM/106X_upgrade2018_realistic_v16_L1v1-v1/270000/FAC379B0-E1DA-D647-9A57-9411A8676AD0.root',\n",
    "]"
   ]
  },
  {
   "cell_type": "code",
   "execution_count": 244,
   "id": "3f241287",
   "metadata": {},
   "outputs": [
    {
     "data": {
      "application/vnd.jupyter.widget-view+json": {
       "model_id": "cfae0659883c4dcc8985cf596d20b7b1",
       "version_major": 2,
       "version_minor": 0
      },
      "text/plain": [
       "Output()"
      ]
     },
     "metadata": {},
     "output_type": "display_data"
    },
    {
     "data": {
      "text/html": [
       "<pre style=\"white-space:pre;overflow-x:auto;line-height:normal;font-family:Menlo,'DejaVu Sans Mono',consolas,'Courier New',monospace\"></pre>\n"
      ],
      "text/plain": []
     },
     "metadata": {},
     "output_type": "display_data"
    },
    {
     "data": {
      "text/html": [
       "<pre style=\"white-space:pre;overflow-x:auto;line-height:normal;font-family:Menlo,'DejaVu Sans Mono',consolas,'Courier New',monospace\">\n",
       "</pre>\n"
      ],
      "text/plain": [
       "\n"
      ]
     },
     "metadata": {},
     "output_type": "display_data"
    }
   ],
   "source": [
    "fileset = {\n",
    "    \"ttlnuJet\": glob.glob(f\"{base_dir}/ttlnuJet_all22WCs_RunIISummer20_NanoGEN_NANO_v26/merged/*.root\")[:-1],\n",
    "    \"TTWToLNu_TtoLep_aTtoHad\": glob.glob(f\"{base_dir}/TTWToLNu_TtoLep_aTtoHad_5f_EFT_NLO_RunIISummer20_NanoGEN_NANO_v13/merged/*.root\")[:-1],\n",
    "    \"TTWToLNu_TtoAll_aTtoLep\": glob.glob(f\"{base_dir}/TTWToLNu_TtoAll_aTtoLep_5f_EFT_NLO_RunIISummer20_NanoGEN_NANO_v13/merged/*.root\")[:-1],\n",
    "    \"TTWToLNu_SM\": glob.glob(f\"{base_dir}/TTWToLNu_SM_RunIISummer20_NanoGEN_NANO_v26/merged/*.root\")[:-1],\n",
    "#    \"TTWToLNu_SM\": files_central_TTW[:1],  # Something is different in the central samples wrt private NanoGEN, potentially GenMET??\n",
    "\n",
    "}\n",
    "\n",
    "# exe = processor.iterative_executor()\n",
    "exe = processor.FuturesExecutor(workers=10)\n",
    "\n",
    "runner = processor.Runner(\n",
    "    exe,\n",
    "    #retries=3,\n",
    "    schema=NanoAODSchema,\n",
    "    chunksize=50000,\n",
    "    maxchunks=None,\n",
    ")\n",
    "\n",
    "output = runner(\n",
    "    fileset,\n",
    "    treename=\"Events\",\n",
    "    processor_instance=EFT_analysis(),\n",
    ")\n",
    "\n",
    "\n",
    "#output = processor.run_uproot_job(\n",
    "#    fileset,\n",
    "#    \"Events\",\n",
    "#    EFT_analysis(),\n",
    "#    processor.FuturesExecutor(workers=10),\n",
    "#    {\"schema\": NanoAODSchema},\n",
    "#    chunksize=25000,\n",
    "#)"
   ]
  },
  {
   "cell_type": "code",
   "execution_count": 504,
   "id": "365b1675",
   "metadata": {},
   "outputs": [],
   "source": [
    "# SM point of LO ttlnu + jet sample MG x-sec: 0.326962929058 +- 0.0239820601814 pb (without matching)\n",
    "# \n",
    "xsecs = {\n",
    "    \"TTWToLNu_TtoLep_aTtoHad\": 3.420e-3, # 3.732e-3, # old number\n",
    "    \"TTWToLNu_TtoAll_aTtoLep\": 5.060e-3, # 5.521e-3, # old number\n",
    "    \"TTWToLNu_SM\": 0.2043,\n",
    "    \"ttlnuJet\": 4.848e-01, # this number is from NanoGEN production log, 0.54639 before matching from gridpack step\n",
    "}"
   ]
  },
  {
   "cell_type": "code",
   "execution_count": 246,
   "id": "7ac507cc",
   "metadata": {},
   "outputs": [
    {
     "data": {
      "text/plain": [
       "928750"
      ]
     },
     "execution_count": 246,
     "metadata": {},
     "output_type": "execute_result"
    }
   ],
   "source": [
    "output[\"TTWToLNu_TtoLep_aTtoHad\"][\"EventCount\"]"
   ]
  },
  {
   "cell_type": "code",
   "execution_count": 247,
   "id": "55506c22",
   "metadata": {},
   "outputs": [
    {
     "data": {
      "text/plain": [
       "409575"
      ]
     },
     "execution_count": 247,
     "metadata": {},
     "output_type": "execute_result"
    }
   ],
   "source": [
    "output[\"TTWToLNu_SM\"][\"EventCount\"]"
   ]
  },
  {
   "cell_type": "code",
   "execution_count": 248,
   "id": "4d67eec2",
   "metadata": {},
   "outputs": [
    {
     "data": {
      "text/html": [
       "<html>\n",
       "<div style=\"display:flex; align-items:center;\">\n",
       "<div style=\"width:290px;\">\n",
       "<svg xmlns=\"http://www.w3.org/2000/svg\" viewBox=\"-10 -105 270 120\">\n",
       "<line x1=\"-5\" y1=\"0\" x2=\"255\" y2=\"0\" style=\"fill:none;stroke-width:2;stroke:currentColor\"/>\n",
       "<text text-anchor=\"middle\" x=\"0\" y=\"15\" style=\"fill:currentColor;\">\n",
       "0\n",
       "</text>\n",
       "<text text-anchor=\"middle\" x=\"250\" y=\"15\" style=\"fill:currentColor;\">\n",
       "1e+03\n",
       "</text>\n",
       "<text text-anchor=\"middle\" x=\"125.0\" y=\"15\" style=\"fill:currentColor;\">\n",
       "$L_{T}$ (GeV)\n",
       "</text>\n",
       "<polyline points=\"  0,0   0,-1.65 12.5,-1.65 12.5,-25.3  25,-25.3  25,-79.1 37.5,-79.1 37.5,-100  50,-100  50,-71.9 62.5,-71.9 62.5,-43.7  75,-43.7  75,-26.8 87.5,-26.8 87.5,-14.8 100,-14.8 100,-9.33 112.5,-9.33 112.5,-5.88 125,-5.88 125,-3.76 137.5,-3.76 137.5,-2.55 150,-2.55 150,-1.62 162.5,-1.62 162.5,-1.1 175,-1.1 175,-0.627 187.5,-0.627 187.5,-0.531 200,-0.531 200,-0.304 212.5,-0.304 212.5,-0.231 225,-0.231 225,-0.18 237.5,-0.18 237.5,-0.143 250,-0.143 250,0\" style=\"fill:none; stroke:currentColor;\"/>\n",
       "</svg>\n",
       "</div>\n",
       "<div style=\"flex=grow:1;\">\n",
       "Regular(20, 0, 1000, name='lt', label='$L_{T}$ (GeV)')<br/>\n",
       "<hr style=\"margin-top:.2em; margin-bottom:.2em;\"/>\n",
       "Weight() Σ=WeightedSum(value=23093.1, variance=15301.1) <em>(WeightedSum(value=23116.8, variance=15308.9) with flow)</em>\n",
       "\n",
       "</div>\n",
       "</div>\n",
       "</html>"
      ],
      "text/plain": [
       "Hist(Regular(20, 0, 1000, name='lt', label='$L_{T}$ (GeV)'), storage=Weight()) # Sum: WeightedSum(value=23093.1, variance=15301.1) (WeightedSum(value=23116.8, variance=15308.9) with flow)"
      ]
     },
     "execution_count": 248,
     "metadata": {},
     "output_type": "execute_result"
    }
   ],
   "source": [
    "output[\"ttlnuJet\"][\"lt_sm\"]"
   ]
  },
  {
   "cell_type": "code",
   "execution_count": 249,
   "id": "a8cdfe86",
   "metadata": {},
   "outputs": [
    {
     "data": {
      "text/html": [
       "<html>\n",
       "<div style=\"display:flex; align-items:center;\">\n",
       "<div style=\"width:290px;\">\n",
       "<svg xmlns=\"http://www.w3.org/2000/svg\" viewBox=\"-10 -105 270 120\">\n",
       "<line x1=\"-5\" y1=\"0\" x2=\"255\" y2=\"0\" style=\"fill:none;stroke-width:2;stroke:currentColor\"/>\n",
       "<text text-anchor=\"middle\" x=\"0\" y=\"15\" style=\"fill:currentColor;\">\n",
       "0\n",
       "</text>\n",
       "<text text-anchor=\"middle\" x=\"250\" y=\"15\" style=\"fill:currentColor;\">\n",
       "1e+03\n",
       "</text>\n",
       "<text text-anchor=\"middle\" x=\"125.0\" y=\"15\" style=\"fill:currentColor;\">\n",
       "$L_{T}$ (GeV)\n",
       "</text>\n",
       "<polyline points=\"  0,0   0,-1.66 12.5,-1.66 12.5,-25.1  25,-25.1  25,-78.7 37.5,-78.7 37.5,-100  50,-100  50,-73.8 62.5,-73.8 62.5,-46.5  75,-46.5  75,-30.8 87.5,-30.8 87.5,-19.3 100,-19.3 100,-12.7 112.5,-12.7 112.5,-8.96 125,-8.96 125,-6.26 137.5,-6.26 137.5,-4.04 150,-4.04 150,-3.22 162.5,-3.22 162.5,-2.59 175,-2.59 175,-1.55 187.5,-1.55 187.5,-2.71 200,-2.71 200,-1.39 212.5,-1.39 212.5,-0.775 225,-0.775 225,-0.71 237.5,-0.71 237.5,-0.623 250,-0.623 250,0\" style=\"fill:none; stroke:currentColor;\"/>\n",
       "</svg>\n",
       "</div>\n",
       "<div style=\"flex=grow:1;\">\n",
       "Regular(20, 0, 1000, name='lt', label='$L_{T}$ (GeV)')<br/>\n",
       "<hr style=\"margin-top:.2em; margin-bottom:.2em;\"/>\n",
       "Weight() Σ=WeightedSum(value=25363.6, variance=27443.2) <em>(WeightedSum(value=25639, variance=37456) with flow)</em>\n",
       "\n",
       "</div>\n",
       "</div>\n",
       "</html>"
      ],
      "text/plain": [
       "Hist(Regular(20, 0, 1000, name='lt', label='$L_{T}$ (GeV)'), storage=Weight()) # Sum: WeightedSum(value=25363.6, variance=27443.2) (WeightedSum(value=25639, variance=37456) with flow)"
      ]
     },
     "execution_count": 249,
     "metadata": {},
     "output_type": "execute_result"
    }
   ],
   "source": [
    "output[\"ttlnuJet\"][\"lt\"]"
   ]
  },
  {
   "cell_type": "code",
   "execution_count": 250,
   "id": "06f61b52",
   "metadata": {},
   "outputs": [
    {
     "data": {
      "text/plain": [
       "<matplotlib.legend.Legend at 0x7f4d21d23520>"
      ]
     },
     "execution_count": 250,
     "metadata": {},
     "output_type": "execute_result"
    },
    {
     "data": {
      "image/png": "[encoded data removed]",
      "text/plain": [
       "<Figure size 720x720 with 1 Axes>"
      ]
     },
     "metadata": {
      "needs_background": "light"
     },
     "output_type": "display_data"
    }
   ],
   "source": [
    "f, ax = plt.subplots()\n",
    "\n",
    "output[\"ttlnuJet\"][\"lt_sm\"].plot1d(ax=ax, label=r'SM')\n",
    "output[\"ttlnuJet\"][\"lt\"].plot1d(ax=ax, label=r'BSM')\n",
    "\n",
    "\n",
    "ax.set_ylabel(r'# Events')\n",
    "ax.set_xlabel(r'$L_{T}$')\n",
    "\n",
    "ax.set_yscale(\"log\")\n",
    "\n",
    "plt.legend()"
   ]
  },
  {
   "cell_type": "markdown",
   "id": "81d89ae6",
   "metadata": {},
   "source": [
    "### SM comparison"
   ]
  },
  {
   "cell_type": "code",
   "execution_count": 251,
   "id": "5beb00bb",
   "metadata": {},
   "outputs": [],
   "source": [
    "LO_h = output[\"ttlnuJet\"][\"lt_sm\"].copy()\n",
    "NLO_QCD_h = output[\"TTWToLNu_SM\"][\"lt_sm\"].copy()\n",
    "NLO_QED1_h = output[\"TTWToLNu_TtoLep_aTtoHad\"][\"lt_sm\"].copy()\n",
    "NLO_QED2_h = output[\"TTWToLNu_TtoAll_aTtoLep\"][\"lt_sm\"].copy()"
   ]
  },
  {
   "cell_type": "code",
   "execution_count": 252,
   "id": "d465f353",
   "metadata": {},
   "outputs": [],
   "source": [
    "LO_h_scaled = LO_h*137*1000*xsecs[\"ttlnuJet\"]/output[\"ttlnuJet\"][\"sumw\"]\n",
    "NLO_QCD_h_scaled = NLO_QCD_h*137*1000*xsecs[\"TTWToLNu_SM\"]/output[\"TTWToLNu_SM\"][\"sumw\"]\n",
    "NLO_QED1_h_scaled = NLO_QED1_h*137*1000*xsecs[\"TTWToLNu_TtoLep_aTtoHad\"]/output[\"TTWToLNu_TtoLep_aTtoHad\"][\"sumw\"]\n",
    "NLO_QED2_h_scaled = NLO_QED2_h*137*1000*xsecs[\"TTWToLNu_TtoAll_aTtoLep\"]/output[\"TTWToLNu_TtoAll_aTtoLep\"][\"sumw\"]"
   ]
  },
  {
   "cell_type": "code",
   "execution_count": 253,
   "id": "11fdb7a8",
   "metadata": {},
   "outputs": [],
   "source": [
    "norm = (sum(NLO_QED1_h_scaled.values())+sum(NLO_QED2_h_scaled.values())+sum(NLO_QCD_h_scaled.values()))/(sum(LO_h_scaled.values()))"
   ]
  },
  {
   "cell_type": "code",
   "execution_count": 254,
   "id": "10897f35",
   "metadata": {},
   "outputs": [
    {
     "data": {
      "text/plain": [
       "1.46045164009143"
      ]
     },
     "execution_count": 254,
     "metadata": {},
     "output_type": "execute_result"
    }
   ],
   "source": [
    "norm"
   ]
  },
  {
   "cell_type": "code",
   "execution_count": 255,
   "id": "30961dc7",
   "metadata": {},
   "outputs": [],
   "source": [
    "LO_h_scaled = LO_h_scaled*norm"
   ]
  },
  {
   "cell_type": "code",
   "execution_count": 256,
   "id": "eb842ab2",
   "metadata": {},
   "outputs": [
    {
     "data": {
      "text/plain": [
       "6334.532706911708"
      ]
     },
     "execution_count": 256,
     "metadata": {},
     "output_type": "execute_result"
    }
   ],
   "source": [
    "sum(NLO_QCD_h_scaled.values())"
   ]
  },
  {
   "cell_type": "code",
   "execution_count": 257,
   "id": "2c369fa4",
   "metadata": {},
   "outputs": [
    {
     "data": {
      "text/plain": [
       "483.3193766962288"
      ]
     },
     "execution_count": 257,
     "metadata": {},
     "output_type": "execute_result"
    }
   ],
   "source": [
    "sum(NLO_QED1_h_scaled.values())+sum(NLO_QED2_h_scaled.values())"
   ]
  },
  {
   "cell_type": "code",
   "execution_count": 258,
   "id": "97bc1f53",
   "metadata": {},
   "outputs": [
    {
     "data": {
      "text/plain": [
       "array([0.00000000e+00, 6.18167484e+00, 9.46173916e+01, 2.91538825e+02,\n",
       "       3.59314550e+02, 2.46306169e+02, 1.42050868e+02, 8.36238712e+01,\n",
       "       4.31004791e+01, 2.57161815e+01, 1.60045825e+01, 9.25252541e+00,\n",
       "       6.22555621e+00, 3.71295629e+00, 2.28230059e+00, 1.29445029e+00,\n",
       "       1.10058751e+00, 4.77604388e-01, 3.88897978e-01, 3.21985694e-01,\n",
       "       1.76071863e-01, 6.84780951e-01])"
      ]
     },
     "execution_count": 258,
     "metadata": {},
     "output_type": "execute_result"
    }
   ],
   "source": [
    "LO_h_scaled.variances(flow=True)"
   ]
  },
  {
   "cell_type": "code",
   "execution_count": 259,
   "id": "f4c6845f",
   "metadata": {},
   "outputs": [
    {
     "data": {
      "text/plain": [
       "array([ -50.,    0.,   50.,  100.,  150.,  200.,  250.,  300.,  350.,\n",
       "        400.,  450.,  500.,  550.,  600.,  650.,  700.,  750.,  800.,\n",
       "        850.,  900.,  950., 1000., 1050.])"
      ]
     },
     "execution_count": 259,
     "metadata": {},
     "output_type": "execute_result"
    }
   ],
   "source": [
    "np.concatenate([np.array([-50.]), LO_h.axes[0].edges, np.array([1050.])])"
   ]
  },
  {
   "cell_type": "code",
   "execution_count": 260,
   "id": "02101f25",
   "metadata": {},
   "outputs": [],
   "source": [
    "def add_flow_to_edges(edges):\n",
    "    # only works for even bin widths\n",
    "    width = edges[1]-edges[0]\n",
    "    return np.concatenate([\n",
    "        np.array([edges[0]-width]),\n",
    "        edges,\n",
    "        np.array([edges[-1]+width]),\n",
    "    ])\n",
    "\n",
    "def add_uncertainty(values, errors, edges, ax, ratio=False):\n",
    "    opts = {'step': 'post', 'label': None, 'hatch': '///',\n",
    "                    'facecolor': 'none', 'edgecolor': (0, 0, 0, .5), 'linewidth': 0, 'zorder':10.}\n",
    "    \n",
    "    if ratio:\n",
    "        down = np.ones(len(values)) - errors/values\n",
    "        up = np.ones(len(values)) + errors/values\n",
    "    else:\n",
    "        down = values - errors\n",
    "        up = values + errors\n",
    "    ax.fill_between(x=edges, y1=np.r_[down, down[-1]], y2=np.r_[up, up[-1]], **opts)"
   ]
  },
  {
   "cell_type": "code",
   "execution_count": 261,
   "id": "e50020d2",
   "metadata": {},
   "outputs": [],
   "source": [
    "#! mkdir ~/public_html/tW_scattering/SMEFTatNLO/"
   ]
  },
  {
   "cell_type": "code",
   "execution_count": 514,
   "id": "d9063197",
   "metadata": {
    "scrolled": false
   },
   "outputs": [
    {
     "name": "stderr",
     "output_type": "stream",
     "text": [
      "/tmp/ipykernel_1209434/2212580155.py:50: RuntimeWarning: invalid value encountered in true_divide\n",
      "  [np.nan_to_num(LO_h_scaled.values(flow=True)/total, 0)],\n",
      "/tmp/ipykernel_1209434/2212580155.py:52: RuntimeWarning: invalid value encountered in true_divide\n",
      "  yerr=[np.sqrt(LO_h_scaled.variances(flow=True))/total],\n",
      "/home/users/dspitzba/miniconda3/envs/workerenv/lib/python3.9/site-packages/numpy/core/_methods.py:44: RuntimeWarning: invalid value encountered in reduce\n",
      "  return umr_minimum(a, axis, None, out, keepdims, initial, where)\n",
      "/home/users/dspitzba/miniconda3/envs/workerenv/lib/python3.9/site-packages/numpy/core/_methods.py:40: RuntimeWarning: invalid value encountered in reduce\n",
      "  return umr_maximum(a, axis, None, out, keepdims, initial, where)\n",
      "/tmp/ipykernel_1209434/2212580155.py:60: RuntimeWarning: invalid value encountered in true_divide\n",
      "  np.sqrt(total_var)/total,\n"
     ]
    },
    {
     "data": {
      "image/png": "[encoded data removed]",
      "text/plain": [
       "<Figure size 720x720 with 2 Axes>"
      ]
     },
     "metadata": {
      "needs_background": "light"
     },
     "output_type": "display_data"
    }
   ],
   "source": [
    "fig, (ax, rax) = plt.subplots(2,1,figsize=(10,10), gridspec_kw={\"height_ratios\": (3, 1), \"hspace\": 0.0}, sharex=True)\n",
    "\n",
    "#f, ax = plt.subplots()\n",
    "\n",
    "hep.cms.label(\n",
    "    \"Preliminary\",\n",
    "    data=False,\n",
    "    lumi='137',\n",
    "    loc=0,\n",
    "    ax=ax,\n",
    ")\n",
    "\n",
    "\n",
    "hep.histplot(\n",
    "    [NLO_QED2_h_scaled.values(flow=True), NLO_QED1_h_scaled.values(flow=True), NLO_QCD_h_scaled.values(flow=True)],\n",
    "    add_flow_to_edges(NLO_QCD_h.axes[0].edges),\n",
    "    #density=True,\n",
    "    histtype='fill',\n",
    "    stack=True,\n",
    "    label=[\n",
    "        r'$t\\bar{t}W_{EWK}\\ (t \\to all, \\bar{t}\\to\\ell\\nu b)$',\n",
    "        r'$t\\bar{t}W_{EWK}\\ (t \\to \\ell\\nu b,  \\bar{t}\\to q q b)$',\n",
    "        r'$t\\bar{t}W_{QCD}$ (central gridpack)',\n",
    "    ],\n",
    "    color=['#FF595E', '#FFCA3A', '#8AC926'],\n",
    "    ax=ax,\n",
    ")\n",
    "\n",
    "hep.histplot(\n",
    "    [LO_h_scaled.values(flow=True)],\n",
    "    add_flow_to_edges(LO_h.axes[0].edges),\n",
    "    yerr=[np.sqrt(LO_h_scaled.variances(flow=True))],\n",
    "    #density=True,\n",
    "    label=[r'$t\\bar{t}W, (LO+jet)$'],#', up to O(\\alpha_{S}^3\\alpha_{EW}) and O(\\alpha_{S}\\alpha_{EW}^3)$'],\n",
    "    color=['black'],\n",
    "    ax=ax,\n",
    ")\n",
    "\n",
    "total = NLO_QED2_h_scaled.values(flow=True) + NLO_QED1_h_scaled.values(flow=True) + NLO_QCD_h_scaled.values(flow=True)\n",
    "total_var = NLO_QED2_h_scaled.variances(flow=True) + NLO_QED1_h_scaled.variances(flow=True) + NLO_QCD_h_scaled.variances(flow=True)\n",
    "\n",
    "add_uncertainty(\n",
    "    total,\n",
    "    np.sqrt(total_var),\n",
    "    add_flow_to_edges(NLO_QCD_h.axes[0].edges),\n",
    "    ax,\n",
    ")\n",
    "\n",
    "hep.histplot(\n",
    "    [np.nan_to_num(LO_h_scaled.values(flow=True)/total, 0)],\n",
    "    add_flow_to_edges(LO_h.axes[0].edges),\n",
    "    yerr=[np.sqrt(LO_h_scaled.variances(flow=True))/total],\n",
    "    histtype=\"errorbar\",\n",
    "    color='black',\n",
    "    ax=rax,\n",
    ")\n",
    "\n",
    "add_uncertainty(\n",
    "    np.ones_like(total),\n",
    "    np.sqrt(total_var)/total,\n",
    "    add_flow_to_edges(NLO_QCD_h.axes[0].edges),\n",
    "    rax,\n",
    ")\n",
    "\n",
    "ax.set_ylabel(r'# Events')\n",
    "rax.set_xlabel(r'$L_{T}\\ (GeV)$')\n",
    "\n",
    "ax.set_yscale(\"log\")\n",
    "ax.set_xlim(0, add_flow_to_edges(LO_h.axes[0].edges)[-1])\n",
    "rax.set_ylim(0.5, 1.5)\n",
    "ax.set_ylim(0.05, 9e4)\n",
    "\n",
    "ax.legend(loc='upper right')\n",
    "\n",
    "fig.savefig('/home/users/dspitzba/public_html/tW_scattering/SMEFTatNLO/SM_comparison.pdf')"
   ]
  },
  {
   "cell_type": "code",
   "execution_count": 515,
   "id": "6fd2d604",
   "metadata": {},
   "outputs": [
    {
     "data": {
      "text/plain": [
       "6817.852083607938"
      ]
     },
     "execution_count": 515,
     "metadata": {},
     "output_type": "execute_result"
    }
   ],
   "source": [
    "sum(LO_h_scaled.values())"
   ]
  },
  {
   "cell_type": "code",
   "execution_count": 263,
   "id": "3603bf9d",
   "metadata": {},
   "outputs": [
    {
     "data": {
      "text/plain": [
       "array([  4.98015148,  95.23138545, 302.49215926, 384.40043849,\n",
       "       278.98456319, 167.78786896,  99.26674935,  59.87391125,\n",
       "        35.96598146,  21.53795417,  14.12377366,   8.72727511,\n",
       "         5.58865874,   3.69908358,   2.61017586,   1.85754846,\n",
       "         1.53728149,   1.05688102,   0.6245206 ,   0.52844051])"
      ]
     },
     "execution_count": 263,
     "metadata": {},
     "output_type": "execute_result"
    }
   ],
   "source": [
    "NLO_QCD_h_scaled.variances()"
   ]
  },
  {
   "cell_type": "code",
   "execution_count": 499,
   "id": "9af43361",
   "metadata": {},
   "outputs": [
    {
     "data": {
      "text/plain": [
       "6823.201625144901"
      ]
     },
     "execution_count": 499,
     "metadata": {},
     "output_type": "execute_result"
    }
   ],
   "source": [
    "sum(total)"
   ]
  },
  {
   "cell_type": "markdown",
   "id": "60ea5789",
   "metadata": {},
   "source": [
    "### BSM comparison"
   ]
  },
  {
   "cell_type": "code",
   "execution_count": 505,
   "id": "38d55406",
   "metadata": {},
   "outputs": [],
   "source": [
    "LO_bsm_h = output[\"ttlnuJet\"][\"lt\"].copy()\n",
    "NLO_QCD_bsm_h = output[\"TTWToLNu_SM\"][\"lt\"].copy()\n",
    "NLO_QED1_bsm_h = output[\"TTWToLNu_TtoLep_aTtoHad\"][\"lt\"].copy()\n",
    "NLO_QED2_bsm_h = output[\"TTWToLNu_TtoAll_aTtoLep\"][\"lt\"].copy()"
   ]
  },
  {
   "cell_type": "code",
   "execution_count": 506,
   "id": "6b8b4b69",
   "metadata": {},
   "outputs": [],
   "source": [
    "LO_bsm_h_scaled = LO_bsm_h*137*1000*xsecs[\"ttlnuJet\"]/output[\"ttlnuJet\"][\"sumw\"]\n",
    "NLO_QCD_bsm_h_scaled = NLO_QCD_bsm_h*137*1000*xsecs[\"TTWToLNu_SM\"]/output[\"TTWToLNu_SM\"][\"sumw\"]\n",
    "NLO_QED1_bsm_h_scaled = NLO_QED1_bsm_h*137*1000*xsecs[\"TTWToLNu_TtoLep_aTtoHad\"]/output[\"TTWToLNu_TtoLep_aTtoHad\"][\"sumw\"]\n",
    "NLO_QED2_bsm_h_scaled = NLO_QED2_bsm_h*137*1000*xsecs[\"TTWToLNu_TtoAll_aTtoLep\"]/output[\"TTWToLNu_TtoAll_aTtoLep\"][\"sumw\"]"
   ]
  },
  {
   "cell_type": "code",
   "execution_count": 507,
   "id": "2a93248f",
   "metadata": {},
   "outputs": [],
   "source": [
    "LO_bsm_h_scaled = LO_bsm_h_scaled * norm"
   ]
  },
  {
   "cell_type": "code",
   "execution_count": 511,
   "id": "37e2293e",
   "metadata": {},
   "outputs": [
    {
     "data": {
      "text/plain": [
       "1.46045164009143"
      ]
     },
     "execution_count": 511,
     "metadata": {},
     "output_type": "execute_result"
    }
   ],
   "source": [
    "norm"
   ]
  },
  {
   "cell_type": "code",
   "execution_count": 508,
   "id": "3109faa0",
   "metadata": {},
   "outputs": [
    {
     "data": {
      "text/plain": [
       "<matplotlib.legend.Legend at 0x7f4bda4264c0>"
      ]
     },
     "execution_count": 508,
     "metadata": {},
     "output_type": "execute_result"
    },
    {
     "data": {
      "image/png": "[encoded data removed]",
      "text/plain": [
       "<Figure size 720x720 with 1 Axes>"
      ]
     },
     "metadata": {
      "needs_background": "light"
     },
     "output_type": "display_data"
    }
   ],
   "source": [
    "f, ax = plt.subplots()\n",
    "\n",
    "hep.histplot(\n",
    "    [NLO_QCD_h_scaled.values(), NLO_QED1_bsm_h_scaled.values(), NLO_QED2_bsm_h_scaled.values()],\n",
    "    NLO_QCD_h.axes[0].edges,\n",
    "    #density=True,\n",
    "    histtype='fill',\n",
    "    stack=True,\n",
    "    label=['QCD', 'QED1', 'QED2']\n",
    ")\n",
    "\n",
    "hep.histplot(\n",
    "    [LO_bsm_h_scaled.values()],\n",
    "    LO_h.axes[0].edges,\n",
    "    #density=True,\n",
    "    label=['LO']\n",
    ")\n",
    "\n",
    "ax.set_ylabel(r'# Events')\n",
    "ax.set_xlabel(r'$L_{T} (GeV)$')\n",
    "\n",
    "ax.set_yscale(\"log\")\n",
    "\n",
    "plt.legend()"
   ]
  },
  {
   "cell_type": "code",
   "execution_count": 509,
   "id": "6a01c97f",
   "metadata": {},
   "outputs": [
    {
     "name": "stderr",
     "output_type": "stream",
     "text": [
      "/tmp/ipykernel_1209434/2192187068.py:49: RuntimeWarning: invalid value encountered in true_divide\n",
      "  [np.nan_to_num(LO_bsm_h_scaled.values(flow=True)/total, 0)],\n",
      "/tmp/ipykernel_1209434/2192187068.py:51: RuntimeWarning: invalid value encountered in true_divide\n",
      "  yerr=[np.sqrt(LO_bsm_h_scaled.variances(flow=True))/total],\n",
      "/home/users/dspitzba/miniconda3/envs/workerenv/lib/python3.9/site-packages/numpy/core/_methods.py:44: RuntimeWarning: invalid value encountered in reduce\n",
      "  return umr_minimum(a, axis, None, out, keepdims, initial, where)\n",
      "/home/users/dspitzba/miniconda3/envs/workerenv/lib/python3.9/site-packages/numpy/core/_methods.py:40: RuntimeWarning: invalid value encountered in reduce\n",
      "  return umr_maximum(a, axis, None, out, keepdims, initial, where)\n",
      "/tmp/ipykernel_1209434/2192187068.py:59: RuntimeWarning: invalid value encountered in true_divide\n",
      "  np.sqrt(total_var)/total,\n"
     ]
    },
    {
     "data": {
      "image/png": "[encoded data removed]",
      "text/plain": [
       "<Figure size 720x720 with 2 Axes>"
      ]
     },
     "metadata": {
      "needs_background": "light"
     },
     "output_type": "display_data"
    }
   ],
   "source": [
    "fig, (ax, rax) = plt.subplots(2,1,figsize=(10,10), gridspec_kw={\"height_ratios\": (3, 1), \"hspace\": 0.0}, sharex=True)\n",
    "\n",
    "#f, ax = plt.subplots()\n",
    "\n",
    "hep.cms.label(\n",
    "    \"Preliminary\",\n",
    "    data=False,\n",
    "    lumi='137',\n",
    "    loc=0,\n",
    "    ax=ax,\n",
    ")\n",
    "\n",
    "hep.histplot(\n",
    "    [NLO_QED2_bsm_h_scaled.values(flow=True), NLO_QED1_bsm_h_scaled.values(flow=True), NLO_QCD_h_scaled.values(flow=True)],\n",
    "    add_flow_to_edges(NLO_QCD_h.axes[0].edges),\n",
    "    #density=True,\n",
    "    histtype='fill',\n",
    "    stack=True,\n",
    "    label=[\n",
    "        r'$t\\bar{t}W_{EWK}\\ (t \\to all, \\bar{t}\\to\\ell\\nu b)$',\n",
    "        r'$t\\bar{t}W_{EWK}\\ (t \\to \\ell\\nu b,  \\bar{t}\\to q q b)$',\n",
    "        r'$t\\bar{t}W_{QCD}$ (central gridpack)',\n",
    "    ],\n",
    "    color=['#FF595E', '#FFCA3A', '#8AC926'],\n",
    "    ax=ax,\n",
    ")\n",
    "\n",
    "hep.histplot(\n",
    "    [LO_bsm_h_scaled.values(flow=True)],\n",
    "    add_flow_to_edges(LO_h.axes[0].edges),\n",
    "    yerr=[np.sqrt(LO_bsm_h_scaled.variances(flow=True))],\n",
    "    #density=True,\n",
    "    label=[r'$t\\bar{t}W, (LO+jet)$'],#', up to O(\\alpha_{S}^3\\alpha_{EW}) and O(\\alpha_{S}\\alpha_{EW}^3)$'],\n",
    "    color=['black'],\n",
    "    ax=ax,\n",
    ")\n",
    "\n",
    "total = NLO_QED2_bsm_h_scaled.values(flow=True) + NLO_QED1_bsm_h_scaled.values(flow=True) + NLO_QCD_h_scaled.values(flow=True)\n",
    "total_var = NLO_QED2_bsm_h_scaled.variances(flow=True) + NLO_QED1_bsm_h_scaled.variances(flow=True) + NLO_QCD_h_scaled.variances(flow=True)\n",
    "\n",
    "add_uncertainty(\n",
    "    total,\n",
    "    np.sqrt(total_var),\n",
    "    add_flow_to_edges(NLO_QCD_h.axes[0].edges),\n",
    "    ax,\n",
    ")\n",
    "\n",
    "hep.histplot(\n",
    "    [np.nan_to_num(LO_bsm_h_scaled.values(flow=True)/total, 0)],\n",
    "    add_flow_to_edges(LO_h.axes[0].edges),\n",
    "    yerr=[np.sqrt(LO_bsm_h_scaled.variances(flow=True))/total],\n",
    "    histtype=\"errorbar\",\n",
    "    color='black',\n",
    "    ax=rax,\n",
    ")\n",
    "\n",
    "add_uncertainty(\n",
    "    np.ones_like(total),\n",
    "    np.sqrt(total_var)/total,\n",
    "    add_flow_to_edges(NLO_QCD_h.axes[0].edges),\n",
    "    rax,\n",
    ")\n",
    "\n",
    "ax.set_ylabel(r'# Events')\n",
    "ax.set_xlabel(r'$L_{T} (GeV)$')\n",
    "\n",
    "ax.set_yscale(\"log\")\n",
    "ax.set_xlim(0, add_flow_to_edges(LO_h.axes[0].edges)[-1])\n",
    "rax.set_ylim(0.5, 1.5)\n",
    "\n",
    "ax.legend()\n",
    "\n",
    "ax.set_ylabel(r'# Events')\n",
    "rax.set_xlabel(r'$L_{T}\\ (GeV)$')\n",
    "\n",
    "ax.set_yscale(\"log\")\n",
    "ax.set_xlim(0, add_flow_to_edges(LO_h.axes[0].edges)[-1])\n",
    "rax.set_ylim(0.5, 1.5)\n",
    "ax.set_ylim(0.05, 9e4)\n",
    "\n",
    "ax.legend(loc='upper right')\n",
    "\n",
    "fig.savefig('/home/users/dspitzba/public_html/tW_scattering/SMEFTatNLO/BSM_comparison.pdf')"
   ]
  },
  {
   "cell_type": "code",
   "execution_count": 510,
   "id": "d2c6162f",
   "metadata": {},
   "outputs": [
    {
     "data": {
      "text/plain": [
       "7711.249416319639"
      ]
     },
     "execution_count": 510,
     "metadata": {},
     "output_type": "execute_result"
    }
   ],
   "source": [
    "sum(total)"
   ]
  },
  {
   "cell_type": "code",
   "execution_count": 512,
   "id": "c7bd4cf7",
   "metadata": {},
   "outputs": [
    {
     "data": {
      "text/plain": [
       "7488.191186932835"
      ]
     },
     "execution_count": 512,
     "metadata": {},
     "output_type": "execute_result"
    }
   ],
   "source": [
    "sum(LO_bsm_h_scaled.values())"
   ]
  },
  {
   "cell_type": "code",
   "execution_count": 513,
   "id": "f01277b3",
   "metadata": {},
   "outputs": [
    {
     "ename": "NameError",
     "evalue": "name 'LO_sm_h_scaled' is not defined",
     "output_type": "error",
     "traceback": [
      "\u001b[0;31m---------------------------------------------------------------------------\u001b[0m",
      "\u001b[0;31mNameError\u001b[0m                                 Traceback (most recent call last)",
      "Input \u001b[0;32mIn [513]\u001b[0m, in \u001b[0;36m<cell line: 1>\u001b[0;34m()\u001b[0m\n\u001b[0;32m----> 1\u001b[0m \u001b[38;5;28msum\u001b[39m(\u001b[43mLO_sm_h_scaled\u001b[49m\u001b[38;5;241m.\u001b[39mvalues())\n",
      "\u001b[0;31mNameError\u001b[0m: name 'LO_sm_h_scaled' is not defined"
     ]
    }
   ],
   "source": [
    "sum(LO_sm_h_scaled.values())"
   ]
  },
  {
   "cell_type": "code",
   "execution_count": 56,
   "id": "9661c779",
   "metadata": {},
   "outputs": [
    {
     "data": {
      "text/plain": [
       "2718.8198673042566"
      ]
     },
     "execution_count": 56,
     "metadata": {},
     "output_type": "execute_result"
    }
   ],
   "source": [
    "sum(LO_h_scaled.values(flow=True))"
   ]
  },
  {
   "cell_type": "code",
   "execution_count": 57,
   "id": "f32bdcc2",
   "metadata": {},
   "outputs": [
    {
     "data": {
      "text/plain": [
       "1248.8020505685408"
      ]
     },
     "execution_count": 57,
     "metadata": {},
     "output_type": "execute_result"
    }
   ],
   "source": [
    "sum(NLO_QED1_bsm_h_scaled.values(flow=True))+sum(NLO_QED2_bsm_h_scaled.values(flow=True))"
   ]
  },
  {
   "cell_type": "code",
   "execution_count": 58,
   "id": "ed277798",
   "metadata": {},
   "outputs": [
    {
     "data": {
      "text/plain": [
       "188.35167605286998"
      ]
     },
     "execution_count": 58,
     "metadata": {},
     "output_type": "execute_result"
    }
   ],
   "source": [
    "sum(NLO_QED1_h_scaled.values(flow=True))+sum(NLO_QED2_h_scaled.values(flow=True))"
   ]
  },
  {
   "cell_type": "code",
   "execution_count": 59,
   "id": "433f6240",
   "metadata": {},
   "outputs": [
    {
     "data": {
      "text/plain": [
       "2719.102686553706"
      ]
     },
     "execution_count": 59,
     "metadata": {},
     "output_type": "execute_result"
    }
   ],
   "source": [
    "sum(NLO_QED1_h_scaled.values(flow=True))+sum(NLO_QED2_h_scaled.values(flow=True))+sum(NLO_QCD_h_scaled.values(flow=True))"
   ]
  },
  {
   "cell_type": "code",
   "execution_count": 60,
   "id": "0cc334b0",
   "metadata": {},
   "outputs": [
    {
     "data": {
      "text/plain": [
       "3779.553061069377"
      ]
     },
     "execution_count": 60,
     "metadata": {},
     "output_type": "execute_result"
    }
   ],
   "source": [
    "sum(NLO_QED1_bsm_h_scaled.values(flow=True))+sum(NLO_QED2_bsm_h_scaled.values(flow=True))+sum(NLO_QCD_h_scaled.values(flow=True))"
   ]
  },
  {
   "cell_type": "code",
   "execution_count": 61,
   "id": "1399d6e2",
   "metadata": {},
   "outputs": [
    {
     "data": {
      "text/plain": [
       "<matplotlib.legend.Legend at 0x7fcebbff5220>"
      ]
     },
     "execution_count": 61,
     "metadata": {},
     "output_type": "execute_result"
    },
    {
     "data": {
      "image/png": "[encoded data removed]",
      "text/plain": [
       "<Figure size 720x720 with 1 Axes>"
      ]
     },
     "metadata": {
      "needs_background": "light"
     },
     "output_type": "display_data"
    }
   ],
   "source": [
    "f, ax = plt.subplots()\n",
    "\n",
    "hep.histplot(\n",
    "    [LO_h_scaled.values(), NLO_QCD_h_scaled.values()],\n",
    "    LO_h.axes[0].edges,\n",
    "    #density=True,\n",
    "    label=['LO', 'NLO']\n",
    ")\n",
    "\n",
    "ax.set_ylabel(r'# Events')\n",
    "ax.set_xlabel(r'$L_{T} (GeV)$')\n",
    "\n",
    "ax.set_yscale(\"log\")\n",
    "\n",
    "plt.legend()"
   ]
  },
  {
   "cell_type": "markdown",
   "id": "cf9682f0",
   "metadata": {},
   "source": [
    "## NanoGEN vs NanoAOD gen comparison"
   ]
  },
  {
   "cell_type": "code",
   "execution_count": 86,
   "id": "e7a2113e",
   "metadata": {},
   "outputs": [],
   "source": [
    "f_in = f'{base_dir}/TTWToLNu_SM_RunIISummer20_NanoGEN_NANO_v26/merged/merged_0.root'\n",
    "TTW_NanoGEN = NanoEventsFactory.from_root(\n",
    "    f_in,\n",
    "    #'/ceph/cms/store/user/dspitzba/ProjectMetis/TTWToLNu_TtoLep_aTtoHad_5f_EFT_NLO_RunIISummer20_NanoGEN_NANO_v13/output_60.root',\n",
    "    schemaclass=NanoAODSchema,\n",
    ").events()"
   ]
  },
  {
   "cell_type": "code",
   "execution_count": 90,
   "id": "89900b90",
   "metadata": {},
   "outputs": [
    {
     "data": {
      "text/html": [
       "<html>\n",
       "<div style=\"display:flex; align-items:center;\">\n",
       "<div style=\"width:290px;\">\n",
       "<svg xmlns=\"http://www.w3.org/2000/svg\" viewBox=\"-10 -105 270 120\">\n",
       "<line x1=\"-5\" y1=\"0\" x2=\"255\" y2=\"0\" style=\"fill:none;stroke-width:2;stroke:currentColor\"/>\n",
       "<text text-anchor=\"middle\" x=\"0\" y=\"15\" style=\"fill:currentColor;\">\n",
       "0\n",
       "</text>\n",
       "<text text-anchor=\"middle\" x=\"250\" y=\"15\" style=\"fill:currentColor;\">\n",
       "400\n",
       "</text>\n",
       "<text text-anchor=\"middle\" x=\"125.0\" y=\"15\" style=\"fill:currentColor;\">\n",
       "pt\n",
       "</text>\n",
       "<polyline points=\"  0,0   0,-20.3 12.5,-20.3 12.5,-81.6  25,-81.6  25,-100 37.5,-100 37.5,-77.5  50,-77.5  50,-51.4 62.5,-51.4 62.5,-36.3  75,-36.3  75,-24.1 87.5,-24.1 87.5,-16.9 100,-16.9 100,-11.5 112.5,-11.5 112.5,-7.64 125,-7.64 125,-7.2 137.5,-7.2 137.5,-4.35 150,-4.35 150,-3.23 162.5,-3.23 162.5,-2.38 175,-2.38 175,-2.09 187.5,-2.09 187.5,-1.32 200,-1.32 200,-1.47 212.5,-1.47 212.5,-1.26 225,-1.26 225,-0.91 237.5,-0.91 237.5,-0.529 250,-0.529 250,0\" style=\"fill:none; stroke:currentColor;\"/>\n",
       "</svg>\n",
       "</div>\n",
       "<div style=\"flex=grow:1;\">\n",
       "Regular(20, 0, 400, name='pt', label='pt')<br/>\n",
       "<hr style=\"margin-top:.2em; margin-bottom:.2em;\"/>\n",
       "Double() Σ=15388.0 <em>(15468.0 with flow)</em>\n",
       "\n",
       "</div>\n",
       "</div>\n",
       "</html>"
      ],
      "text/plain": [
       "Hist(Regular(20, 0, 400, name='pt', label='pt'), storage=Double()) # Sum: 15388.0 (15468.0 with flow)"
      ]
     },
     "execution_count": 90,
     "metadata": {},
     "output_type": "execute_result"
    }
   ],
   "source": [
    "met = TTW_NanoGEN.GenMET\n",
    "lepton = TTW_NanoGEN.GenDressedLepton\n",
    "jet = TTW_NanoGEN.GenJet\n",
    "\n",
    "sel_jet = jet[((jet.pt>25)&(abs(jet.eta)<2.4))]\n",
    "\n",
    "lt = met.pt + ak.sum(lepton.pt[:,:2], axis=1)\n",
    "\n",
    "######\n",
    "\n",
    "event_sel = ((ak.num(lepton)==2) & (abs(ak.sum(lepton.pdgId, axis=1))>0) & (ak.num(sel_jet)>3))\n",
    "\n",
    "pt_axis = hist.axis.Regular(20, 0, 400, name=\"pt\", label=\"pt\", underflow=True, overflow=True)\n",
    "\n",
    "ch_0 = hist.Hist(pt_axis)\n",
    "ch_0.fill(pt=ak.max(lepton.pt, axis=1)[event_sel])\n"
   ]
  },
  {
   "cell_type": "code",
   "execution_count": 89,
   "id": "732f718a",
   "metadata": {},
   "outputs": [
    {
     "data": {
      "text/plain": [
       "<Array [7.11, 39.9, 18.5, ... 43.7, 140, None] type='68178 * ?float32'>"
      ]
     },
     "execution_count": 89,
     "metadata": {},
     "output_type": "execute_result"
    }
   ],
   "source": []
  },
  {
   "cell_type": "code",
   "execution_count": 91,
   "id": "f08e3c14",
   "metadata": {},
   "outputs": [],
   "source": [
    "TTW_NanoAOD = NanoEventsFactory.from_root(\n",
    "    files_central_TTW[0],\n",
    "    schemaclass=NanoAODSchema,\n",
    ").events()"
   ]
  },
  {
   "cell_type": "code",
   "execution_count": 92,
   "id": "31fadf41",
   "metadata": {
    "scrolled": false
   },
   "outputs": [
    {
     "data": {
      "text/html": [
       "<html>\n",
       "<div style=\"display:flex; align-items:center;\">\n",
       "<div style=\"width:290px;\">\n",
       "<svg xmlns=\"http://www.w3.org/2000/svg\" viewBox=\"-10 -105 270 120\">\n",
       "<line x1=\"-5\" y1=\"0\" x2=\"255\" y2=\"0\" style=\"fill:none;stroke-width:2;stroke:currentColor\"/>\n",
       "<text text-anchor=\"middle\" x=\"0\" y=\"15\" style=\"fill:currentColor;\">\n",
       "0\n",
       "</text>\n",
       "<text text-anchor=\"middle\" x=\"250\" y=\"15\" style=\"fill:currentColor;\">\n",
       "400\n",
       "</text>\n",
       "<text text-anchor=\"middle\" x=\"125.0\" y=\"15\" style=\"fill:currentColor;\">\n",
       "pt\n",
       "</text>\n",
       "<polyline points=\"  0,0   0,-1.58 12.5,-1.58 12.5,-56.7  25,-56.7  25,-100 37.5,-100 37.5,-88.1  50,-88.1  50,-64.6 62.5,-64.6 62.5,-45.2  75,-45.2  75,-31.1 87.5,-31.1 87.5,-21.9 100,-21.9 100,-15.7 112.5,-15.7 112.5,-11.1 125,-11.1 125,-8.17 137.5,-8.17 137.5,-6.43 150,-6.43 150,-4.59 162.5,-4.59 162.5,-3.41 175,-3.41 175,-2.65 187.5,-2.65 187.5,-1.98 200,-1.98 200,-1.67 212.5,-1.67 212.5,-1.25 225,-1.25 225,-0.97 237.5,-0.97 237.5,-0.761 250,-0.761 250,0\" style=\"fill:none; stroke:currentColor;\"/>\n",
       "</svg>\n",
       "</div>\n",
       "<div style=\"flex=grow:1;\">\n",
       "Regular(20, 0, 400, name='pt', label='pt')<br/>\n",
       "<hr style=\"margin-top:.2em; margin-bottom:.2em;\"/>\n",
       "Double() Σ=83003.0 <em>(83572.0 with flow)</em>\n",
       "\n",
       "</div>\n",
       "</div>\n",
       "</html>"
      ],
      "text/plain": [
       "Hist(Regular(20, 0, 400, name='pt', label='pt'), storage=Double()) # Sum: 83003.0 (83572.0 with flow)"
      ]
     },
     "execution_count": 92,
     "metadata": {},
     "output_type": "execute_result"
    }
   ],
   "source": [
    "met = TTW_NanoAOD.GenMET\n",
    "lepton = TTW_NanoAOD.GenDressedLepton\n",
    "jet = TTW_NanoAOD.GenJet\n",
    "\n",
    "sel_jet = jet[((jet.pt>25)&(abs(jet.eta)<2.4))]\n",
    "\n",
    "lt = met.pt + ak.sum(lepton.pt[:,:2], axis=1)\n",
    "\n",
    "######\n",
    "\n",
    "event_sel = ((ak.num(lepton)==2) & (abs(ak.sum(lepton.pdgId, axis=1))>0) & (ak.num(sel_jet)>3))\n",
    "\n",
    "ch_1 = hist.Hist(pt_axis)\n",
    "ch_1.fill(pt=ak.max(lepton.pt, axis=1)[event_sel])\n"
   ]
  },
  {
   "cell_type": "code",
   "execution_count": 93,
   "id": "9a0428b5",
   "metadata": {},
   "outputs": [
    {
     "data": {
      "text/plain": [
       "<matplotlib.legend.Legend at 0x7f20c4bcbd30>"
      ]
     },
     "execution_count": 93,
     "metadata": {},
     "output_type": "execute_result"
    },
    {
     "data": {
      "image/png": "[encoded data removed]",
      "text/plain": [
       "<Figure size 720x720 with 1 Axes>"
      ]
     },
     "metadata": {
      "needs_background": "light"
     },
     "output_type": "display_data"
    }
   ],
   "source": [
    "f, ax = plt.subplots()\n",
    "\n",
    "hep.histplot(\n",
    "    [ch_0.values(), ch_1.values()],\n",
    "    ch_1.axes[0].edges,\n",
    "    density=True,\n",
    "    label=['NanoGEN', 'NanoAOD']\n",
    ")\n",
    "\n",
    "ax.set_ylabel(r'# Events')\n",
    "ax.set_xlabel(r'$L_{T} (GeV)$')\n",
    "\n",
    "ax.set_yscale(\"log\")\n",
    "\n",
    "plt.legend()"
   ]
  },
  {
   "cell_type": "markdown",
   "id": "6255b4fb",
   "metadata": {},
   "source": [
    "MET looks fine, both before and after basic event selection. LT is harder in NanoAOD. NanoAOD leptons are harder?"
   ]
  },
  {
   "cell_type": "markdown",
   "id": "f8fef2ec",
   "metadata": {},
   "source": [
    "## Other stuff"
   ]
  },
  {
   "cell_type": "code",
   "execution_count": 43,
   "id": "7c478615",
   "metadata": {},
   "outputs": [],
   "source": [
    "mapping = {\n",
    "    \"LO\": [\n",
    "        \"ttlnuJet\",\n",
    "    ],\n",
    "    \"NLO\":[\n",
    "        \"TTWToLNu_SM\",\n",
    "        \"TTWToLNu_TtoAll_aTtoLep\",\n",
    "        \"TTWToLNu_TtoLep_aTtoHad\"\n",
    "    ],\n",
    "}"
   ]
  },
  {
   "cell_type": "code",
   "execution_count": 52,
   "id": "d3035a85",
   "metadata": {},
   "outputs": [],
   "source": [
    "lt_axis = hist.axis.Regular(20, 0, 1000, name=\"lt\", label=\"$L_{T}$ (GeV)\")"
   ]
  },
  {
   "cell_type": "code",
   "execution_count": 55,
   "id": "136d8159",
   "metadata": {},
   "outputs": [
    {
     "ename": "ValueError",
     "evalue": "bins > 0 required",
     "output_type": "error",
     "traceback": [
      "\u001b[0;31m---------------------------------------------------------------------------\u001b[0m",
      "\u001b[0;31mValueError\u001b[0m                                Traceback (most recent call last)",
      "Input \u001b[0;32mIn [55]\u001b[0m, in \u001b[0;36m<cell line: 1>\u001b[0;34m()\u001b[0m\n\u001b[0;32m----> 1\u001b[0m \u001b[43mRebinHist\u001b[49m\u001b[43m(\u001b[49m\u001b[43moutput\u001b[49m\u001b[43m[\u001b[49m\u001b[38;5;124;43m\"\u001b[39;49m\u001b[38;5;124;43mttlnuJet\u001b[39;49m\u001b[38;5;124;43m\"\u001b[39;49m\u001b[43m]\u001b[49m\u001b[43m[\u001b[49m\u001b[38;5;124;43m\"\u001b[39;49m\u001b[38;5;124;43mlt\u001b[39;49m\u001b[38;5;124;43m\"\u001b[39;49m\u001b[43m]\u001b[49m\u001b[43m,\u001b[49m\u001b[43m \u001b[49m\u001b[43mlt\u001b[49m\u001b[38;5;241;43m=\u001b[39;49m\u001b[43mlt_axis\u001b[49m\u001b[43m)\u001b[49m\n",
      "Input \u001b[0;32mIn [50]\u001b[0m, in \u001b[0;36mRebinHist\u001b[0;34m(h, **kwargs)\u001b[0m\n\u001b[1;32m     18\u001b[0m         h \u001b[38;5;241m=\u001b[39m h[{var: var_val}]\n\u001b[1;32m     19\u001b[0m     \u001b[38;5;28;01melse\u001b[39;00m:\n\u001b[0;32m---> 20\u001b[0m         h \u001b[38;5;241m=\u001b[39m \u001b[43m_rebin_single_scikit\u001b[49m\u001b[43m(\u001b[49m\u001b[43mh\u001b[49m\u001b[43m,\u001b[49m\u001b[43m \u001b[49m\u001b[43mvar\u001b[49m\u001b[43m,\u001b[49m\u001b[43m \u001b[49m\u001b[43mvar_val\u001b[49m\u001b[43m)\u001b[49m\n\u001b[1;32m     21\u001b[0m \u001b[38;5;28;01mreturn\u001b[39;00m h\n",
      "Input \u001b[0;32mIn [50]\u001b[0m, in \u001b[0;36m_rebin_single_scikit\u001b[0;34m(h, old_axis, new_axis)\u001b[0m\n\u001b[1;32m     74\u001b[0m \u001b[38;5;66;03m#assert isinstance(h, hist.NamedHist), \"Can only process named histograms\"\u001b[39;00m\n\u001b[1;32m     75\u001b[0m \n\u001b[1;32m     76\u001b[0m \u001b[38;5;66;03m# Additional type casing\u001b[39;00m\n\u001b[1;32m     77\u001b[0m \u001b[38;5;28;01mif\u001b[39;00m \u001b[38;5;28mtype\u001b[39m(old_axis) \u001b[38;5;241m==\u001b[39m \u001b[38;5;28mstr\u001b[39m:\n\u001b[0;32m---> 78\u001b[0m     \u001b[38;5;28;01mreturn\u001b[39;00m \u001b[43m_rebin_single_scikit\u001b[49m\u001b[43m(\u001b[49m\u001b[43mh\u001b[49m\u001b[43m,\u001b[49m\u001b[43m \u001b[49m\u001b[43mh\u001b[49m\u001b[38;5;241;43m.\u001b[39;49m\u001b[43maxes\u001b[49m\u001b[43m[\u001b[49m\u001b[43mold_axis\u001b[49m\u001b[43m]\u001b[49m\u001b[43m,\u001b[49m\u001b[43m \u001b[49m\u001b[43mnew_axis\u001b[49m\u001b[43m)\u001b[49m\n\u001b[1;32m     79\u001b[0m axis_name \u001b[38;5;241m=\u001b[39m old_axis\u001b[38;5;241m.\u001b[39mname\n\u001b[1;32m     81\u001b[0m \u001b[38;5;66;03m## Creating the new histogram instance with identical axis ordering.\u001b[39;00m\n",
      "Input \u001b[0;32mIn [50]\u001b[0m, in \u001b[0;36m_rebin_single_scikit\u001b[0;34m(h, old_axis, new_axis)\u001b[0m\n\u001b[1;32m    123\u001b[0m     o_uhi \u001b[38;5;241m=\u001b[39m {name: o[name_idx] \u001b[38;5;28;01mfor\u001b[39;00m name_idx, name \u001b[38;5;129;01min\u001b[39;00m \u001b[38;5;28menumerate\u001b[39m(name_list)}\n\u001b[1;32m    124\u001b[0m     \u001b[38;5;66;03m# Single variable histogram, with just the axis of interest\u001b[39;00m\n\u001b[0;32m--> 125\u001b[0m     h_rebinned[n_uhi] \u001b[38;5;241m=\u001b[39m \u001b[43mintegrate_hist_scikit\u001b[49m\u001b[43m(\u001b[49m\u001b[43mh\u001b[49m\u001b[43m,\u001b[49m\u001b[43m \u001b[49m\u001b[38;5;241;43m*\u001b[39;49m\u001b[38;5;241;43m*\u001b[39;49m\u001b[43mo_uhi\u001b[49m\u001b[43m)\u001b[49m\n\u001b[1;32m    127\u001b[0m \u001b[38;5;28;01mreturn\u001b[39;00m h_rebinned\n",
      "Input \u001b[0;32mIn [50]\u001b[0m, in \u001b[0;36mintegrate_hist_scikit\u001b[0;34m(h, **kwargs)\u001b[0m\n\u001b[1;32m    130\u001b[0m \u001b[38;5;124;03m\"\"\"\u001b[39;00m\n\u001b[1;32m    131\u001b[0m \u001b[38;5;124;03mGiven a scikit-hist histogram object return a reduced histogram with specified\u001b[39;00m\n\u001b[1;32m    132\u001b[0m \u001b[38;5;124;03maxes integrated out.\u001b[39;00m\n\u001b[0;32m   (...)\u001b[0m\n\u001b[1;32m    138\u001b[0m \u001b[38;5;124;03midentify a singular bin in the histogram axis\u001b[39;00m\n\u001b[1;32m    139\u001b[0m \u001b[38;5;124;03m\"\"\"\u001b[39;00m\n\u001b[1;32m    140\u001b[0m \u001b[38;5;66;03m# Reduction in parallel.\u001b[39;00m\n\u001b[0;32m--> 141\u001b[0m r \u001b[38;5;241m=\u001b[39m \u001b[43mh\u001b[49m\u001b[43m[\u001b[49m\u001b[43mkwargs\u001b[49m\u001b[43m]\u001b[49m\n\u001b[1;32m    142\u001b[0m \u001b[38;5;28;01mfor\u001b[39;00m var, var_slice \u001b[38;5;129;01min\u001b[39;00m kwargs\u001b[38;5;241m.\u001b[39mitems():\n\u001b[1;32m    143\u001b[0m     \u001b[38;5;66;03m# In the case that histogram has been reduced to singular value simple return\u001b[39;00m\n\u001b[1;32m    144\u001b[0m     \u001b[38;5;66;03m#if not isinstance(r, hist.NamedHist):\u001b[39;00m\n\u001b[1;32m    145\u001b[0m     \u001b[38;5;66;03m#    return r\u001b[39;00m\n\u001b[1;32m    146\u001b[0m     \u001b[38;5;28;01mif\u001b[39;00m var \u001b[38;5;129;01min\u001b[39;00m [x\u001b[38;5;241m.\u001b[39mname \u001b[38;5;28;01mfor\u001b[39;00m x \u001b[38;5;129;01min\u001b[39;00m r\u001b[38;5;241m.\u001b[39maxes]:\n",
      "File \u001b[0;32m~/miniconda3/envs/workerenv/lib/python3.9/site-packages/hist/basehist.py:318\u001b[0m, in \u001b[0;36mBaseHist.__getitem__\u001b[0;34m(self, index)\u001b[0m\n\u001b[1;32m    311\u001b[0m \u001b[38;5;28;01mdef\u001b[39;00m \u001b[38;5;21m__getitem__\u001b[39m(  \u001b[38;5;66;03m# type: ignore[override]\u001b[39;00m\n\u001b[1;32m    312\u001b[0m     \u001b[38;5;28mself\u001b[39m: T, index: IndexingExpr\n\u001b[1;32m    313\u001b[0m ) \u001b[38;5;241m-\u001b[39m\u001b[38;5;241m>\u001b[39m T \u001b[38;5;241m|\u001b[39m \u001b[38;5;28mfloat\u001b[39m \u001b[38;5;241m|\u001b[39m bh\u001b[38;5;241m.\u001b[39maccumulators\u001b[38;5;241m.\u001b[39mAccumulator:\n\u001b[1;32m    314\u001b[0m     \u001b[38;5;124;03m\"\"\"\u001b[39;00m\n\u001b[1;32m    315\u001b[0m \u001b[38;5;124;03m    Get histogram item.\u001b[39;00m\n\u001b[1;32m    316\u001b[0m \u001b[38;5;124;03m    \"\"\"\u001b[39;00m\n\u001b[0;32m--> 318\u001b[0m     \u001b[38;5;28;01mreturn\u001b[39;00m \u001b[38;5;28;43msuper\u001b[39;49m\u001b[43m(\u001b[49m\u001b[43m)\u001b[49m\u001b[38;5;241;43m.\u001b[39;49m\u001b[38;5;21;43m__getitem__\u001b[39;49m\u001b[43m(\u001b[49m\u001b[38;5;28;43mself\u001b[39;49m\u001b[38;5;241;43m.\u001b[39;49m\u001b[43m_index_transform\u001b[49m\u001b[43m(\u001b[49m\u001b[43mindex\u001b[49m\u001b[43m)\u001b[49m\u001b[43m)\u001b[49m\n",
      "File \u001b[0;32m~/.local/lib/python3.9/site-packages/boost_histogram/_internal/hist.py:860\u001b[0m, in \u001b[0;36mHistogram.__getitem__\u001b[0;34m(self, index)\u001b[0m\n\u001b[1;32m    858\u001b[0m \u001b[38;5;28;01mif\u001b[39;00m slices:\n\u001b[1;32m    859\u001b[0m     logger\u001b[38;5;241m.\u001b[39mdebug(\u001b[38;5;124m\"\u001b[39m\u001b[38;5;124mReduce with \u001b[39m\u001b[38;5;132;01m%s\u001b[39;00m\u001b[38;5;124m\"\u001b[39m, slices)\n\u001b[0;32m--> 860\u001b[0m     reduced \u001b[38;5;241m=\u001b[39m \u001b[43mreduced\u001b[49m\u001b[38;5;241;43m.\u001b[39;49m\u001b[43mreduce\u001b[49m\u001b[43m(\u001b[49m\u001b[38;5;241;43m*\u001b[39;49m\u001b[43mslices\u001b[49m\u001b[43m)\u001b[49m\n\u001b[1;32m    862\u001b[0m \u001b[38;5;28;01mif\u001b[39;00m pick_set:\n\u001b[1;32m    863\u001b[0m     warnings\u001b[38;5;241m.\u001b[39mwarn(\n\u001b[1;32m    864\u001b[0m         \u001b[38;5;124m\"\u001b[39m\u001b[38;5;124mList indexing selection is experimental. Removed bins are not placed in overflow.\u001b[39m\u001b[38;5;124m\"\u001b[39m\n\u001b[1;32m    865\u001b[0m     )\n",
      "\u001b[0;31mValueError\u001b[0m: bins > 0 required"
     ]
    }
   ],
   "source": [
    "RebinHist(output[\"ttlnuJet\"][\"lt\"], lt=lt_axis)"
   ]
  },
  {
   "cell_type": "code",
   "execution_count": 50,
   "id": "8dba147f",
   "metadata": {},
   "outputs": [],
   "source": [
    "# Taken from Yi-Mu: https://gist.github.com/yimuchen/a5e200c001ef4ea01681a7dd8fe89162#file-integrate_and_rebin-py-L158\n",
    "def RebinHist(h, **kwargs):\n",
    "    \"\"\"\n",
    "    Rebinning a scikit-hist histogram. 2 types of values can be accepted as the\n",
    "    argument values:\n",
    "    - Derivatives of the `hist.rebin` argument. In this case we directly use the\n",
    "    UHI facilities to perform the rebinning.\n",
    "    - A new axis object where all the bin edges lands on the old bin edges of the\n",
    "    given histogram. In this case a custom intergration loop is performed to\n",
    "    extract the rebinning. Beware that this methods is very slow, as it requires\n",
    "    a loop generation of all possible UHI values after the rebinning, so be sure\n",
    "    that rebinning is performed as the final step of the histogram reduction. See\n",
    "    `_rebin_single_scikit` for more information regarding this method.\n",
    "    \"\"\"\n",
    "    h = h.copy()\n",
    "    for var, var_val in kwargs.items():\n",
    "        if isinstance(var_val, hist.rebin):\n",
    "            h = h[{var: var_val}]\n",
    "        else:\n",
    "            h = _rebin_single_scikit(h, var, var_val)\n",
    "    return h\n",
    "\n",
    "\n",
    "def __check_scikit_axis_compat(axis1, axis2):\n",
    "    \"\"\"\n",
    "    Checking that axis 2 is rebin-compatible with axis 1. This checks that:\n",
    "    1. The two histogram share the same name.\n",
    "    2. The edges of the second axis all land on the edges of the first axis.\n",
    "    If the two axis are compatible the function will return an array of the bin\n",
    "    index of the axis 1 that the bin edges of axis 2 falls on.\n",
    "    \"\"\"\n",
    "    assert axis1.name == axis2.name, \\\n",
    "    'Naming of the axis is required to match'\n",
    "    # Getting the new bin edges index for the old bin edges\n",
    "    try:\n",
    "        return [\n",
    "        np.argwhere(axis1.edges == new_edge)[0][0] for new_edge in axis2.edges\n",
    "        ]\n",
    "    except IndexError as err:\n",
    "        raise ValueError(f\"Bin edges of the axis {axis2} is incompatible with {axis1}\")\n",
    "\n",
    "\n",
    "def _get_all_indices(axis):\n",
    "    \"\"\"\n",
    "    Getting all possible (integer) bin index values given a scikit-hep histogram.\n",
    "    The special indices of hist.underflow and hist.overflow will be included if the\n",
    "    axis in questions has those traits.\n",
    "    \"\"\"\n",
    "    idxs = list(range(len(axis)))\n",
    "    if axis.traits.underflow:  # Extension to include the under/overflow bins\n",
    "        idxs.insert(0, hist.underflow)\n",
    "        if axis.traits.overflow:\n",
    "            idxs.append(hist.overflow)\n",
    "    return idxs\n",
    "\n",
    "\n",
    "def _rebin_single_scikit(h, old_axis, new_axis):\n",
    "    \"\"\"\n",
    "    Rebinning a single axis of a scikit-hist histogram. This includes the following\n",
    "    routines:\n",
    "    - Generating a new scikit hep instance that perserves axis ordering with the\n",
    "    exception of the rebinned axis (in place) replacement.\n",
    "    - Setting up the integration ranges required to calculate the bin values of the\n",
    "    new histogram.\n",
    "    - Looping over the UHI values of the new histogram and performing the a\n",
    "    summation over the specified range on the old histogram to fill in the new\n",
    "    values.\n",
    "    As here we have variable number of axis each with variable number of bins, this\n",
    "    method will require the use of more old fashioned python looping, which can be\n",
    "    very slow for large dimensional histograms with many bins for each axis. So be\n",
    "    sure to make rebinning be the final step in histogram reduction.\n",
    "    \"\"\"\n",
    "\n",
    "    #assert isinstance(h, hist.NamedHist), \"Can only process named histograms\"\n",
    "\n",
    "    # Additional type casing\n",
    "    if type(old_axis) == str:\n",
    "        return _rebin_single_scikit(h, h.axes[old_axis], new_axis)\n",
    "    axis_name = old_axis.name\n",
    "\n",
    "    ## Creating the new histogram instance with identical axis ordering.\n",
    "    all_axes = list(h.axes)\n",
    "    all_axes[all_axes.index(old_axis)] = new_axis\n",
    "    h_rebinned = hist.NamedHist(*all_axes, storage=h._storage_type())\n",
    "\n",
    "    # Getting the all possible bin indices for all axes in the old histogram\n",
    "    bin_idx_dict = {ax.name: _get_all_indices(ax) for ax in h.axes}\n",
    "\n",
    "    # Getting the new bin edges index for the old bin edges\n",
    "    new_bin_edge_idx = __check_scikit_axis_compat(old_axis, new_axis)\n",
    "    if new_axis.traits.underflow:  # Adding additional underflow/overflow\n",
    "        new_bin_edge_idx.insert(0, bin_idx_dict[axis_name][0])\n",
    "        if new_axis.traits.overflow:\n",
    "            new_bin_edge_idx.append(bin_idx_dict[axis_name][-1])\n",
    "\n",
    "    # Generating a the int range pair. Additional parsing will be required for the\n",
    "    # under/overflow bins\n",
    "\n",
    "    def make_slice(index):\n",
    "\n",
    "        start = new_bin_edge_idx[index]\n",
    "        stop = new_bin_edge_idx[index + 1]\n",
    "        if start == hist.underflow:\n",
    "            start = -1\n",
    "        if stop == hist.overflow:\n",
    "            stop = len(old_axis)\n",
    "        return slice(int(start), int(stop))\n",
    "\n",
    "    new_axis_idx = _get_all_indices(new_axis)\n",
    "    new_int_slice = [make_slice(i) for i in range(len(new_axis_idx))]\n",
    "    assert len(new_axis_idx) == len(new_bin_edge_idx) - 1\n",
    "\n",
    "    new_idx_dict = bin_idx_dict.copy()\n",
    "    new_idx_dict[axis_name] = new_axis_idx\n",
    "    bin_idx_dict[axis_name] = new_int_slice\n",
    "\n",
    "    name_list = list(bin_idx_dict.keys())\n",
    "    new_idx = [x for x in itertools.product(*[x for x in new_idx_dict.values()])]\n",
    "    old_int = [x for x in itertools.product(*[x for x in bin_idx_dict.values()])]\n",
    "\n",
    "    for o, n in zip(old_int, new_idx):\n",
    "        n_uhi = {name: n[name_idx] for name_idx, name in enumerate(name_list)}\n",
    "        o_uhi = {name: o[name_idx] for name_idx, name in enumerate(name_list)}\n",
    "        # Single variable histogram, with just the axis of interest\n",
    "        h_rebinned[n_uhi] = integrate_hist_scikit(h, **o_uhi)\n",
    "\n",
    "    return h_rebinned\n",
    "\n",
    "def integrate_hist_scikit(h, **kwargs):\n",
    "    \"\"\"\n",
    "    Given a scikit-hist histogram object return a reduced histogram with specified\n",
    "    axes integrated out.\n",
    "    For scikit-hist histograms, the integration should be formed in 3 steps:\n",
    "    - slicing the histogram to contain only the range of interest\n",
    "    - Setting overflow values to 0 (excluding the values from future calculations)\n",
    "    - Summing over the axes of interest.\n",
    "    The latter 2 steps will only be carried out if the var_slice doesn't uniquely\n",
    "    identify a singular bin in the histogram axis\n",
    "    \"\"\"\n",
    "    # Reduction in parallel.\n",
    "    r = h[kwargs]\n",
    "    for var, var_slice in kwargs.items():\n",
    "        # In the case that histogram has been reduced to singular value simple return\n",
    "        #if not isinstance(r, hist.NamedHist):\n",
    "        #    return r\n",
    "        if var in [x.name for x in r.axes]:\n",
    "            ax = h.axes[var]\n",
    "            \n",
    "            get_underflow = var_slice.start == None or var_slice.start == -1\n",
    "            get_overflow = var_slice.stop == None or var_slice.stop == len(ax)\n",
    "            if not get_underflow and ax.traits.underflow:\n",
    "                r[{var: hist.underflow}] = np.zeros_like(r[{var: hist.underflow}])\n",
    "            if not get_overflow and ax.traits.overflow:\n",
    "                r[{var: hist.overflow}] = np.zeros_like(r[{var: hist.overflow}])\n",
    "                \n",
    "            # Sum over all remaining elements on axis\n",
    "            r = r[{var: sum}]\n",
    "    return r\n"
   ]
  },
  {
   "cell_type": "code",
   "execution_count": null,
   "id": "a8420945",
   "metadata": {},
   "outputs": [],
   "source": []
  }
 ],
 "metadata": {
  "kernelspec": {
   "display_name": "workerenv",
   "language": "python",
   "name": "workerenv"
  },
  "language_info": {
   "codemirror_mode": {
    "name": "ipython",
    "version": 3
   },
   "file_extension": ".py",
   "mimetype": "text/x-python",
   "name": "python",
   "nbconvert_exporter": "python",
   "pygments_lexer": "ipython3",
   "version": "3.9.7"
  }
 },
 "nbformat": 4,
 "nbformat_minor": 5
}
