{
 "cells": [
  {
   "cell_type": "code",
   "execution_count": 1,
   "id": "cd0b919d",
   "metadata": {},
   "outputs": [],
   "source": [
    "%load_ext autoreload"
   ]
  },
  {
   "cell_type": "markdown",
   "id": "6f0fa745",
   "metadata": {},
   "source": [
    "# Studies for SMEFT@NLO discussion in 2022\n",
    "\n",
    "3 samples, top-W scattering @NLO, ttW_QCD @NLO, ttW_QCD+QED @LO.\n",
    "\n",
    "All samples are in\n",
    "/ceph/cms/store/user/dspitzba/ProjectMetis/\n",
    "\n",
    "TTWToLNu_TtoLep_aTtoHad_5f_EFT_NLO_RunIISummer20_NanoGEN_NANO_v13/merged/\n",
    "\n",
    "TTWToLNu_TtoAll_aTtoLep_5f_EFT_NLO_RunIISummer20_NanoGEN_NANO_v13/merged/\n",
    "\n",
    "\n",
    "ttlnuJet_all22WCs_RunIISummer20_NanoGEN_NANO_v26/merged/\n",
    "\n",
    "TTWToLNu_SM_RunIISummer20_NanoGEN_NANO_v26//merged/\n",
    "\n",
    "\n",
    "Also use hist instead of coffea hist / yahist / boost histogram --> for future migrations\n",
    "\n",
    "First, make histograms of the weight distributions of my signal samples. Very basic sanity check."
   ]
  },
  {
   "cell_type": "code",
   "execution_count": 2,
   "id": "bbaf06ba",
   "metadata": {},
   "outputs": [],
   "source": [
    "import awkward as ak\n",
    "import hist\n",
    "import glob\n",
    "from coffea import util, processor\n",
    "from coffea.nanoevents import NanoEventsFactory, NanoAODSchema\n",
    "NanoAODSchema.warn_missing_crossrefs = False\n",
    "\n",
    "base_dir = '/ceph/cms/store/user/dspitzba/ProjectMetis/'"
   ]
  },
  {
   "cell_type": "code",
   "execution_count": 3,
   "id": "65bab6dd",
   "metadata": {},
   "outputs": [
    {
     "name": "stdout",
     "output_type": "stream",
     "text": [
      "merged_0.root\tmerged_13.root\tmerged_1.root  merged_5.root  merged_9.root\r\n",
      "merged_10.root\tmerged_14.root\tmerged_2.root  merged_6.root\r\n",
      "merged_11.root\tmerged_15.root\tmerged_3.root  merged_7.root\r\n",
      "merged_12.root\tmerged_16.root\tmerged_4.root  merged_8.root\r\n"
     ]
    }
   ],
   "source": [
    "!ls /ceph/cms/store/user/dspitzba/ProjectMetis//TTWToLNu_TtoLep_aTtoHad_5f_EFT_NLO_RunIISummer20_NanoGEN_NANO_v13/merged/"
   ]
  },
  {
   "cell_type": "code",
   "execution_count": 4,
   "id": "a4b9feee",
   "metadata": {},
   "outputs": [],
   "source": [
    "f_in = f'{base_dir}/TTWToLNu_TtoLep_aTtoHad_5f_EFT_NLO_RunIISummer20_NanoGEN_NANO_v13/merged/merged_0.root'\n",
    "topW_TtoLep = NanoEventsFactory.from_root(\n",
    "    f_in,\n",
    "    #'/ceph/cms/store/user/dspitzba/ProjectMetis/TTWToLNu_TtoLep_aTtoHad_5f_EFT_NLO_RunIISummer20_NanoGEN_NANO_v13/output_60.root',\n",
    "    schemaclass=NanoAODSchema,\n",
    ").events()"
   ]
  },
  {
   "cell_type": "code",
   "execution_count": 5,
   "id": "0ebb8ff0",
   "metadata": {},
   "outputs": [
    {
     "data": {
      "text/plain": [
       "['originalXWGTUP',\n",
       " 'cpt_0p_cpqm_0p_nlo',\n",
       " 'cpt_3p_cpqm_0p_nlo',\n",
       " 'cpt_6p_cpqm_0p_nlo',\n",
       " 'cpt_0p_cpqm_3p_nlo',\n",
       " 'cpt_0p_cpqm_6p_nlo',\n",
       " 'cpt_3p_cpqm_3p_nlo']"
      ]
     },
     "execution_count": 5,
     "metadata": {},
     "output_type": "execute_result"
    }
   ],
   "source": [
    "topW_TtoLep.LHEWeight.fields"
   ]
  },
  {
   "cell_type": "code",
   "execution_count": 6,
   "id": "daa1386e",
   "metadata": {},
   "outputs": [
    {
     "data": {
      "text/html": [
       "<html>\n",
       "<div style=\"display:flex; align-items:center;\">\n",
       "<div style=\"width:290px;\">\n",
       "<svg xmlns=\"http://www.w3.org/2000/svg\" viewBox=\"-10 -105 270 120\">\n",
       "<line x1=\"-5\" y1=\"0\" x2=\"255\" y2=\"0\" style=\"fill:none;stroke-width:2;stroke:currentColor\"/>\n",
       "<text text-anchor=\"middle\" x=\"0\" y=\"15\" style=\"fill:currentColor;\">\n",
       "-1\n",
       "</text>\n",
       "<text text-anchor=\"middle\" x=\"250\" y=\"15\" style=\"fill:currentColor;\">\n",
       "20\n",
       "</text>\n",
       "<text text-anchor=\"middle\" x=\"125.0\" y=\"15\" style=\"fill:currentColor;\">\n",
       "weight\n",
       "</text>\n",
       "<polyline points=\"  0,0   0,-0.00347   5,-0.00347   5,-0.00174  10,-0.00174  10,-0.0625  15,-0.0625  15,-7.19  20,-7.19  20,-100  25,-100  25,-9.51  30,-9.51  30,-1.96  35,-1.96  35,-0.825  40,-0.825  40,-0.531  45,-0.531  45,-0.349  50,-0.349  50,-0.205  55,-0.205  55,-0.149  60,-0.149  60,-0.106  65,-0.106  65,-0.0973  70,-0.0973  70,-0.0677  75,-0.0677  75,-0.0538  80,-0.0538  80,-0.0313  85,-0.0313  85,-0.0261  90,-0.0261  90,-0.0434  95,-0.0434  95,-0.0261 100,-0.0261 100,-0.0139 105,-0.0139 105,-0.0139 110,-0.0139 110,-0.0313 115,-0.0313 115,-0.0104 120,-0.0104 120,-0.0174 125,-0.0174 125,-0.0139 130,-0.0139 130,-0.0122 135,-0.0122 135,-0.00521 140,-0.00521 140,-0.00868 145,-0.00868 145,-0.0139 150,-0.0139 150,-0.00347 155,-0.00347 155,-0.0104 160,-0.0104 160,-0.00347 165,-0.00347 165,-0.0122 170,-0.0122 170,-0.00868 175,-0.00868 175,-0.00695 180,-0.00695 180,-0.00521 185,-0.00521 185,-0.0122 190,-0.0122 190,-0.00521 195,-0.00521 195,-0.00347 200,-0.00347 200,-0.00521 205,-0.00521 205,-0.00868 210,-0.00868 210,-0.00174 215,-0.00174 215,-0 220,-0 220,-0.00521 225,-0.00521 225,-0.00347 230,-0.00347 230,-0.00174 235,-0.00174 235,-0.00521 240,-0.00521 240,-0.00347 245,-0.00347 245,-0.00347 250,-0.00347 250,0\" style=\"fill:none; stroke:currentColor;\"/>\n",
       "</svg>\n",
       "</div>\n",
       "<div style=\"flex=grow:1;\">\n",
       "Regular(50, -1, 20, name='weight_ax', label='weight')<br/>\n",
       "<hr style=\"margin-top:.2em; margin-bottom:.2em;\"/>\n",
       "Double() Σ=69952.0 <em>(70000.0 with flow)</em>\n",
       "\n",
       "</div>\n",
       "</div>\n",
       "</html>"
      ],
      "text/plain": [
       "Hist(Regular(50, -1, 20, name='weight_ax', label='weight'), storage=Double()) # Sum: 69952.0 (70000.0 with flow)"
      ]
     },
     "execution_count": 6,
     "metadata": {},
     "output_type": "execute_result"
    }
   ],
   "source": [
    "weight_axis = hist.axis.Regular(50, -1, 20, name=\"weight_ax\", label=\"weight\", underflow=True, overflow=True)\n",
    "\n",
    "h_0 = hist.Hist(weight_axis)\n",
    "h_0.fill(weight_ax=topW_TtoLep.LHEWeight.cpt_0p_cpqm_0p_nlo)\n",
    "\n",
    "h_1 = hist.Hist(weight_axis)\n",
    "h_1.fill(weight_ax=topW_TtoLep.LHEWeight.cpt_6p_cpqm_0p_nlo)\n",
    "\n",
    "h_2 = hist.Hist(weight_axis)\n",
    "h_2.fill(weight_ax=topW_TtoLep.LHEWeight.cpt_0p_cpqm_6p_nlo)\n",
    "\n",
    "h_3 = hist.Hist(weight_axis)\n",
    "h_3.fill(weight_ax=topW_TtoLep.LHEWeight.cpt_3p_cpqm_3p_nlo)"
   ]
  },
  {
   "cell_type": "code",
   "execution_count": 7,
   "id": "37833a77",
   "metadata": {},
   "outputs": [
    {
     "data": {
      "text/plain": [
       "0.0024285714285714284"
      ]
     },
     "execution_count": 7,
     "metadata": {},
     "output_type": "execute_result"
    }
   ],
   "source": [
    "# number of events with weight > 20 (\"problematic\")\n",
    "h_1.values(flow=True)[-1]/sum(h_1.values(flow=True))"
   ]
  },
  {
   "cell_type": "code",
   "execution_count": 8,
   "id": "35c6d08b",
   "metadata": {},
   "outputs": [],
   "source": [
    "import matplotlib.pyplot as plt\n",
    "import mplhep as hep\n",
    "plt.style.use(hep.style.CMS)"
   ]
  },
  {
   "cell_type": "code",
   "execution_count": 9,
   "id": "60b36e9a",
   "metadata": {},
   "outputs": [
    {
     "data": {
      "text/plain": [
       "<matplotlib.legend.Legend at 0x7f9e3cb8d970>"
      ]
     },
     "execution_count": 9,
     "metadata": {},
     "output_type": "execute_result"
    },
    {
     "data": {
      "image/png": "[encoded data removed]",
      "text/plain": [
       "<Figure size 720x720 with 1 Axes>"
      ]
     },
     "metadata": {
      "needs_background": "light"
     },
     "output_type": "display_data"
    }
   ],
   "source": [
    "f, ax = plt.subplots()\n",
    "\n",
    "h_0.plot1d(ax=ax, label=r'$C_{\\varphi t}=0, C_{\\varphi Q}^{-}=0$')\n",
    "h_1.plot1d(ax=ax, label=r'$C_{\\varphi t}=6, C_{\\varphi Q}^{-}=0$')\n",
    "h_2.plot1d(ax=ax, label=r'$C_{\\varphi t}=0, C_{\\varphi Q}^{-}=6$')\n",
    "h_3.plot1d(ax=ax, label=r'$C_{\\varphi t}=3, C_{\\varphi Q}^{-}=3$')\n",
    "\n",
    "ax.set_ylabel(r'# Events')\n",
    "ax.set_xlabel(r'weight')\n",
    "\n",
    "ax.set_yscale(\"log\")\n",
    "\n",
    "plt.legend()\n"
   ]
  },
  {
   "cell_type": "code",
   "execution_count": 10,
   "id": "e99f791d",
   "metadata": {},
   "outputs": [
    {
     "data": {
      "text/plain": [
       "0.9999982142857143"
      ]
     },
     "execution_count": 10,
     "metadata": {},
     "output_type": "execute_result"
    }
   ],
   "source": [
    "ak.mean(topW_TtoLep.LHEWeight.cpt_0p_cpqm_0p_nlo)"
   ]
  },
  {
   "cell_type": "code",
   "execution_count": 11,
   "id": "109d354e",
   "metadata": {},
   "outputs": [
    {
     "data": {
      "text/plain": [
       "70000"
      ]
     },
     "execution_count": 11,
     "metadata": {},
     "output_type": "execute_result"
    }
   ],
   "source": [
    "len(topW_TtoLep)"
   ]
  },
  {
   "cell_type": "markdown",
   "id": "8458bbf9",
   "metadata": {},
   "source": [
    "## Get the Polynom for the simple case - 2 Wilson coefficients, 6 weights"
   ]
  },
  {
   "cell_type": "code",
   "execution_count": 12,
   "id": "032a4177",
   "metadata": {},
   "outputs": [],
   "source": [
    "from Tools.reweighting import get_coordinates, get_coordinates_and_ref\n",
    "coords, ref_coords = get_coordinates_and_ref(f_in, is2D=True)"
   ]
  },
  {
   "cell_type": "code",
   "execution_count": 13,
   "id": "64ae8c95",
   "metadata": {},
   "outputs": [],
   "source": [
    "from Tools.HyperPoly import HyperPoly  # maybe need awkward hyperpoly"
   ]
  },
  {
   "cell_type": "code",
   "execution_count": 14,
   "id": "1c0b08b8",
   "metadata": {},
   "outputs": [
    {
     "data": {
      "text/plain": [
       "['originalXWGTUP',\n",
       " 'cpt_0p_cpqm_0p_nlo',\n",
       " 'cpt_3p_cpqm_0p_nlo',\n",
       " 'cpt_6p_cpqm_0p_nlo',\n",
       " 'cpt_0p_cpqm_3p_nlo',\n",
       " 'cpt_0p_cpqm_6p_nlo',\n",
       " 'cpt_3p_cpqm_3p_nlo']"
      ]
     },
     "execution_count": 14,
     "metadata": {},
     "output_type": "execute_result"
    }
   ],
   "source": [
    "topW_TtoLep.LHEWeight.fields"
   ]
  },
  {
   "cell_type": "code",
   "execution_count": 15,
   "id": "11ef5516",
   "metadata": {},
   "outputs": [],
   "source": [
    "w = topW_TtoLep.LHEWeight\n",
    "weights = ak.Array([\n",
    "    w.cpt_0p_cpqm_0p_nlo,\n",
    "    w.cpt_3p_cpqm_0p_nlo,\n",
    "    w.cpt_6p_cpqm_0p_nlo,\n",
    "    w.cpt_0p_cpqm_3p_nlo,\n",
    "    w.cpt_0p_cpqm_6p_nlo,\n",
    "    w.cpt_3p_cpqm_3p_nlo,\n",
    "])"
   ]
  },
  {
   "cell_type": "code",
   "execution_count": 16,
   "id": "b3336121",
   "metadata": {},
   "outputs": [
    {
     "data": {
      "text/plain": [
       "<Array [1, 1.45, 2.18, 0.63, 0.548, 0.897] type='6 * float64'>"
      ]
     },
     "execution_count": 16,
     "metadata": {},
     "output_type": "execute_result"
    }
   ],
   "source": [
    "weights[:,0]"
   ]
  },
  {
   "cell_type": "code",
   "execution_count": 17,
   "id": "4d9881b1",
   "metadata": {},
   "outputs": [],
   "source": [
    "hp = HyperPoly(2)\n",
    "hp.initialize( coords, ref_coords )\n",
    "coeff = hp.get_parametrization(weights)"
   ]
  },
  {
   "cell_type": "code",
   "execution_count": 18,
   "id": "84a77178",
   "metadata": {},
   "outputs": [
    {
     "data": {
      "text/plain": [
       "'0.100606+0.224482*x0+0.071274*x1-0.015849*x0**2-0.018799*x0*x1+0.049077*x1**2'"
      ]
     },
     "execution_count": 18,
     "metadata": {},
     "output_type": "execute_result"
    }
   ],
   "source": [
    "hp.root_func_string(coeff[1])"
   ]
  },
  {
   "cell_type": "code",
   "execution_count": 19,
   "id": "a321adce",
   "metadata": {},
   "outputs": [
    {
     "data": {
      "text/plain": [
       "array([1.        , 0.99996948, 0.99996948, ..., 1.        , 1.        ,\n",
       "       1.        ])"
      ]
     },
     "execution_count": 19,
     "metadata": {},
     "output_type": "execute_result"
    }
   ],
   "source": [
    "coeff[0]"
   ]
  },
  {
   "cell_type": "code",
   "execution_count": 20,
   "id": "2e8f8535",
   "metadata": {},
   "outputs": [
    {
     "data": {
      "text/html": [
       "<html>\n",
       "<div style=\"display:flex; align-items:center;\">\n",
       "<div style=\"width:290px;\">\n",
       "<svg xmlns=\"http://www.w3.org/2000/svg\" viewBox=\"-10 -105 270 120\">\n",
       "<line x1=\"-5\" y1=\"0\" x2=\"255\" y2=\"0\" style=\"fill:none;stroke-width:2;stroke:currentColor\"/>\n",
       "<text text-anchor=\"middle\" x=\"0\" y=\"15\" style=\"fill:currentColor;\">\n",
       "-2\n",
       "</text>\n",
       "<text text-anchor=\"middle\" x=\"250\" y=\"15\" style=\"fill:currentColor;\">\n",
       "2\n",
       "</text>\n",
       "<text text-anchor=\"middle\" x=\"125.0\" y=\"15\" style=\"fill:currentColor;\">\n",
       "coeff\n",
       "</text>\n",
       "<polyline points=\"  0,0   0,-0   5,-0   5,-0  10,-0  10,-0  15,-0  15,-0  20,-0  20,-0  25,-0  25,-0  30,-0  30,-0  35,-0  35,-0  40,-0  40,-0  45,-0  45,-0  50,-0  50,-0  55,-0  55,-0  60,-0  60,-0  65,-0  65,-0  70,-0  70,-0  75,-0  75,-0  80,-0  80,-0  85,-0  85,-0  90,-0  90,-0  95,-0  95,-0 100,-0 100,-0 105,-0 105,-0 110,-0 110,-0 115,-0 115,-0.00149 120,-0.00149 120,-1.61 125,-1.61 125,-100 130,-100 130,-1.48 135,-1.48 135,-0.469 140,-0.469 140,-0.267 145,-0.267 145,-0.116 150,-0.116 150,-0.0864 155,-0.0864 155,-0.0432 160,-0.0432 160,-0.0298 165,-0.0298 165,-0.0194 170,-0.0194 170,-0.0209 175,-0.0209 175,-0.0134 180,-0.0134 180,-0.0119 185,-0.0119 185,-0.0179 190,-0.0179 190,-0.0179 195,-0.0179 195,-0.0134 200,-0.0134 200,-0.00894 205,-0.00894 205,-0.00149 210,-0.00149 210,-0.00596 215,-0.00596 215,-0.00298 220,-0.00298 220,-0.00149 225,-0.00149 225,-0.00745 230,-0.00745 230,-0.00447 235,-0.00447 235,-0.00447 240,-0.00447 240,-0.00298 245,-0.00298 245,-0.00149 250,-0.00149 250,0\" style=\"fill:none; stroke:currentColor;\"/>\n",
       "</svg>\n",
       "</div>\n",
       "<div style=\"flex=grow:1;\">\n",
       "Regular(50, -2, 2, name='coeff', label='coeff')<br/>\n",
       "<hr style=\"margin-top:.2em; margin-bottom:.2em;\"/>\n",
       "Double() Σ=69971.0 <em>(70000.0 with flow)</em>\n",
       "\n",
       "</div>\n",
       "</div>\n",
       "</html>"
      ],
      "text/plain": [
       "Hist(Regular(50, -2, 2, name='coeff', label='coeff'), storage=Double()) # Sum: 69971.0 (70000.0 with flow)"
      ]
     },
     "execution_count": 20,
     "metadata": {},
     "output_type": "execute_result"
    }
   ],
   "source": [
    "coeff_axis = hist.axis.Regular(50, -2, 2, name=\"coeff\", label=\"coeff\", underflow=True, overflow=True)\n",
    "\n",
    "ch_0 = hist.Hist(coeff_axis)\n",
    "ch_0.fill(coeff=coeff[0])\n",
    "\n",
    "ch_1 = hist.Hist(coeff_axis)\n",
    "ch_1.fill(coeff=coeff[1])\n",
    "\n",
    "ch_2 = hist.Hist(coeff_axis)\n",
    "ch_2.fill(coeff=coeff[2])\n",
    "\n",
    "ch_3 = hist.Hist(coeff_axis)\n",
    "ch_3.fill(coeff=coeff[3])\n",
    "\n",
    "ch_4 = hist.Hist(coeff_axis)\n",
    "ch_4.fill(coeff=coeff[4])\n",
    "\n",
    "ch_5 = hist.Hist(coeff_axis)\n",
    "ch_5.fill(coeff=coeff[5])"
   ]
  },
  {
   "cell_type": "code",
   "execution_count": 21,
   "id": "59eff8cc",
   "metadata": {
    "scrolled": false
   },
   "outputs": [
    {
     "data": {
      "text/plain": [
       "<matplotlib.legend.Legend at 0x7f9c01bbd9a0>"
      ]
     },
     "execution_count": 21,
     "metadata": {},
     "output_type": "execute_result"
    },
    {
     "data": {
      "image/png": "[encoded data removed]",
      "text/plain": [
       "<Figure size 720x720 with 1 Axes>"
      ]
     },
     "metadata": {
      "needs_background": "light"
     },
     "output_type": "display_data"
    }
   ],
   "source": [
    "f, ax = plt.subplots()\n",
    "\n",
    "ch_0.plot1d(ax=ax, label=r'const')\n",
    "ch_1.plot1d(ax=ax, label=r'$C_{\\varphi t}$')\n",
    "ch_2.plot1d(ax=ax, label=r'$C_{\\varphi Q}^{-}$')\n",
    "ch_3.plot1d(ax=ax, label=r'${C_{\\varphi t}}^{2}$')\n",
    "ch_4.plot1d(ax=ax, label=r'$C_{\\varphi t} \\times C_{\\varphi Q}^{-}$')\n",
    "ch_5.plot1d(ax=ax, label=r'${C_{\\varphi Q}^{-}}^{2}$')\n",
    "\n",
    "\n",
    "ax.set_ylabel(r'# Events')\n",
    "ax.set_xlabel(r'coefficient')\n",
    "\n",
    "ax.set_yscale(\"log\")\n",
    "\n",
    "plt.legend()"
   ]
  },
  {
   "cell_type": "code",
   "execution_count": 22,
   "id": "aece7dde",
   "metadata": {},
   "outputs": [
    {
     "data": {
      "text/plain": [
       "<Array [[11], [-13, -11], ... -13], [-11, 13]] type='70000 * var * int32[paramet...'>"
      ]
     },
     "execution_count": 22,
     "metadata": {},
     "output_type": "execute_result"
    }
   ],
   "source": [
    "topW_TtoLep.GenDressedLepton.pdgId"
   ]
  },
  {
   "cell_type": "markdown",
   "id": "d7571558",
   "metadata": {},
   "source": [
    "## Multidimensional LO ttW sample"
   ]
  },
  {
   "cell_type": "code",
   "execution_count": 23,
   "id": "254e15eb",
   "metadata": {},
   "outputs": [],
   "source": [
    "import numpy as np\n",
    "import itertools\n",
    "\n",
    "from Tools.reweighting import eft_point, eft_setup"
   ]
  },
  {
   "cell_type": "code",
   "execution_count": 24,
   "id": "27e3d870",
   "metadata": {},
   "outputs": [],
   "source": [
    "f_in = f'{base_dir}/ttlnuJet_all22WCs_RunIISummer20_NanoGEN_NANO_v26/merged/merged_0.root'\n",
    "events = NanoEventsFactory.from_root(\n",
    "    f_in,\n",
    "    #'/ceph/cms/store/user/dspitzba/ProjectMetis/TTWToLNu_TtoLep_aTtoHad_5f_EFT_NLO_RunIISummer20_NanoGEN_NANO_v13/output_60.root',\n",
    "    schemaclass=NanoAODSchema,\n",
    ").events()"
   ]
  },
  {
   "cell_type": "code",
   "execution_count": 25,
   "id": "9414d321",
   "metadata": {},
   "outputs": [],
   "source": [
    "test = eft_setup('../production/cards/ttlnuJet_all22WCs/ttlnuJet_all22WCsStartPtCheckdim6TopMay20GST_run0_customizecards.dat', events)"
   ]
  },
  {
   "cell_type": "code",
   "execution_count": 26,
   "id": "cb14a7c7",
   "metadata": {},
   "outputs": [],
   "source": [
    "weight_names = events.LHEWeight.fields#[:276]\n",
    "weights = [getattr(events.LHEWeight, w) for w in weight_names[2:]]\n",
    "w = np.array(weights)"
   ]
  },
  {
   "cell_type": "code",
   "execution_count": 27,
   "id": "4965155d",
   "metadata": {},
   "outputs": [],
   "source": [
    "combination  = {}\n",
    "counter = 0\n",
    "order = 2\n",
    "nvar = 22\n",
    "for o in range(order+1):\n",
    "    for comb in itertools.combinations_with_replacement( range(nvar), o ):\n",
    "        combination[counter] = comb\n",
    "        counter += 1\n",
    "\n",
    "m = 332\n",
    "n = int((nvar+1)*(nvar+2)/2)\n",
    "A = np.empty( [m, n ] )\n",
    "param_points = test.get_coordinates()\n",
    "ref_point = test.get_ref_point()\n",
    "combinations = list(combination.values())\n",
    "for d in range(m):\n",
    "    for e in range(n):\n",
    "        A[d][e] = np.prod([param_points[d][x]-ref_point[x] for x in combinations[e]])"
   ]
  },
  {
   "cell_type": "code",
   "execution_count": 28,
   "id": "51ae6c70",
   "metadata": {},
   "outputs": [],
   "source": [
    "res = np.linalg.lstsq(A, w, rcond=None)"
   ]
  },
  {
   "cell_type": "code",
   "execution_count": 57,
   "id": "1e774a68",
   "metadata": {},
   "outputs": [
    {
     "data": {
      "text/plain": [
       "20701.341098513494"
      ]
     },
     "execution_count": 57,
     "metadata": {},
     "output_type": "execute_result"
    }
   ],
   "source": [
    "new_point = [0]*n\n",
    "sm_vec = [ np.prod([new_point[x]-ref_point[x] for x in combinations[e]]) for e in range(n) ]\n",
    "sm_weight = np.dot(res[0].T, sm_vec)\n",
    "sum(sm_weight)"
   ]
  },
  {
   "cell_type": "code",
   "execution_count": 161,
   "id": "df700b84",
   "metadata": {},
   "outputs": [
    {
     "name": "stdout",
     "output_type": "stream",
     "text": [
      "   ctlTi  ctq1  ctq8  cQlMi  cQq81  cQq83  cbW  cpQ3  ctei  ctlSi  ...  cQei  \\\n",
      "0      0     0     0      0      0      0    0     0     0      0  ...     0   \n",
      "\n",
      "   ctZ  cQl3i  ctG  cQq13  cQq11  cptb  ctli  ctp   cpt  \n",
      "0    0      0    0      0      0     0     0    0  20.0  \n",
      "\n",
      "[1 rows x 22 columns]\n"
     ]
    },
    {
     "data": {
      "text/plain": [
       "1.4547632358735978"
      ]
     },
     "execution_count": 161,
     "metadata": {},
     "output_type": "execute_result"
    }
   ],
   "source": [
    "test_point = eft_point.from_customize_card('../production/cards/ttlnuJet_all22WCs/ttlnuJet_all22WCsStartPtCheckdim6TopMay20GST_run0_customizecards.dat')\n",
    "test_point.set({\"cpt\":20.0, \"cpQM\":0.0}, reset=True)\n",
    "test_point.show()\n",
    "bsm_vec = [ np.prod([test_point.get_coord()[x]-ref_point[x] for x in combinations[e]]) for e in range(n) ]\n",
    "bsm_weight = np.dot(res[0].T, bsm_vec)\n",
    "sum(bsm_weight)/sum(sm_weight)"
   ]
  },
  {
   "cell_type": "code",
   "execution_count": 151,
   "id": "a8ce218d",
   "metadata": {},
   "outputs": [
    {
     "name": "stdout",
     "output_type": "stream",
     "text": [
      "-20 1.3604746896160322\n",
      "-19 1.323089054404864\n",
      "-18 1.2877415140073882\n",
      "-17 1.2544320684236774\n",
      "-16 1.2231607176536614\n",
      "-15 1.1939274616973852\n",
      "-14 1.16673230055482\n",
      "-13 1.1415752342259797\n",
      "-12 1.118456262710871\n",
      "-11 1.0973753860094995\n",
      "-10 1.0783326041218286\n",
      "-9 1.0613279170478842\n",
      "-8 1.0463613247876773\n",
      "-7 1.0334328273411837\n",
      "-6 1.0225424247084063\n",
      "-5 1.013690116889371\n",
      "-4 1.0068759038840553\n",
      "-3 1.0020997856924692\n",
      "-2 0.9993617623145915\n",
      "-1 0.9986618337504402\n",
      "0 1.0\n",
      "1 1.003376261063333\n",
      "2 1.0087906169403362\n",
      "3 1.016243067631093\n",
      "4 1.0257336131355674\n",
      "5 1.0372622534537568\n",
      "6 1.0508289885856739\n",
      "7 1.0664338185313373\n",
      "8 1.0840767432906946\n",
      "9 1.1037577628637845\n",
      "10 1.1254768772506178\n",
      "11 1.1492340864511246\n",
      "12 1.1750293904654237\n",
      "13 1.202862789293404\n",
      "14 1.2327342829351327\n",
      "15 1.2646438713905401\n",
      "16 1.2985915546597089\n",
      "17 1.334577332742613\n",
      "18 1.372601205639216\n",
      "19 1.4126631733495538\n",
      "20 1.4547632358735978\n"
     ]
    }
   ],
   "source": [
    "'''\n",
    "test_scan = []\n",
    "\n",
    "for i in range(-20,21):\n",
    "    test_point.set({\"cpt\":i, \"cpQM\":0.0, \"ctZ\":0}, reset=True)\n",
    "    bsm_vec = [ np.prod([test_point.get_coord()[x]-ref_point[x] for x in combinations[e]]) for e in range(n) ]\n",
    "    bsm_weight = np.dot(res[0].T, bsm_vec)\n",
    "    print (i, sum(bsm_weight)/sum(sm_weight))\n",
    "    test_scan.append(sum(bsm_weight)/sum(sm_weight))\n",
    "'''"
   ]
  },
  {
   "cell_type": "code",
   "execution_count": 32,
   "id": "f9f7b13c",
   "metadata": {},
   "outputs": [
    {
     "data": {
      "text/plain": [
       "array([3.65372246e-03, 1.00553804e-06, 8.08841467e-01, ...,\n",
       "       5.71731841e-05, 2.28950603e-01, 5.41300824e-02])"
      ]
     },
     "execution_count": 32,
     "metadata": {},
     "output_type": "execute_result"
    }
   ],
   "source": [
    "np.dot(res[0].T, sm_vec)"
   ]
  },
  {
   "cell_type": "code",
   "execution_count": 33,
   "id": "e2cb7bc5",
   "metadata": {},
   "outputs": [
    {
     "name": "stdout",
     "output_type": "stream",
     "text": [
      "EFTrwgt331_ctlTi_0.0_ctq1_0.0_ctq8_0.0_cQq83_0.0_cQq81_0.0_cQlMi_0.0_cbW_0.0_cpQ3_0.0_ctei_0.0_cQei_0.0_ctW_0.0_cpQM_0.0_ctlSi_0.0_ctZ_0.0_cQl3i_0.0_ctG_0.0_cQq13_0.0_cQq11_0.0_cptb_0.0_ctli_0.0_ctp_0.0_cpt_0.0\n"
     ]
    },
    {
     "data": {
      "text/plain": [
       "0.003650188446044922"
      ]
     },
     "execution_count": 33,
     "metadata": {},
     "output_type": "execute_result"
    }
   ],
   "source": [
    "print (weight_names[-1])\n",
    "getattr(events.LHEWeight, weight_names[-1])[0]"
   ]
  },
  {
   "cell_type": "code",
   "execution_count": 34,
   "id": "4b609971",
   "metadata": {},
   "outputs": [
    {
     "data": {
      "text/plain": [
       "65699"
      ]
     },
     "execution_count": 34,
     "metadata": {},
     "output_type": "execute_result"
    }
   ],
   "source": [
    "len(events)"
   ]
  },
  {
   "cell_type": "code",
   "execution_count": 33,
   "id": "d1bbe82a",
   "metadata": {},
   "outputs": [
    {
     "data": {
      "text/plain": [
       "0.003653722425962921"
      ]
     },
     "execution_count": 33,
     "metadata": {},
     "output_type": "execute_result"
    }
   ],
   "source": [
    "np.dot(res[0].T, sm_vec)"
   ]
  },
  {
   "cell_type": "code",
   "execution_count": 34,
   "id": "5424403f",
   "metadata": {},
   "outputs": [
    {
     "data": {
      "text/plain": [
       "<Array [0.00365, 0, 0.809, ... 0.229, 0.0541] type='65699 * float32[parameters={...'>"
      ]
     },
     "execution_count": 34,
     "metadata": {},
     "output_type": "execute_result"
    }
   ],
   "source": [
    "getattr(events.LHEWeight, weight_names[-1])"
   ]
  },
  {
   "cell_type": "code",
   "execution_count": 162,
   "id": "9c642280",
   "metadata": {},
   "outputs": [],
   "source": [
    "class EFT_analysis(processor.ProcessorABC):\n",
    "    def __init__(self):\n",
    "        lt_axis = hist.axis.Regular(20, 0, 1000, name=\"lt\", label=\"$L_{T}$ (GeV)\")\n",
    "\n",
    "        self.make_output = lambda: {\n",
    "            'lt_sm': hist.Hist(lt_axis),\n",
    "            'lt': hist.Hist(lt_axis),\n",
    "            \"EventCount\": processor.value_accumulator(int),\n",
    "            \"sumw\": processor.value_accumulator(float),\n",
    "        }\n",
    "        \n",
    "        ######\n",
    "\n",
    "    def process(self, events):\n",
    "        output = self.make_output()\n",
    "\n",
    "        dataset = events.metadata['dataset']\n",
    "        \n",
    "        output[\"EventCount\"] = len(events) \n",
    "        output[\"sumw\"] = ak.sum(events.genWeight)\n",
    "        \n",
    "        sm_weight = np.ones(len(events))\n",
    "        \n",
    "        isEFT = False\n",
    "        is2D = False\n",
    "        if hasattr(events.LHEWeight, 'cpt_0p_cpqm_0p_nlo'):\n",
    "            isEFT = True\n",
    "            is2D = True\n",
    "        elif hasattr(events.LHEWeight, weight_names[-1]):\n",
    "            isEFT = True\n",
    "            is2D = False\n",
    "        \n",
    "        if isEFT and is2D:\n",
    "            w = events.LHEWeight\n",
    "            weights = ak.Array([\n",
    "                w.cpt_0p_cpqm_0p_nlo,\n",
    "                w.cpt_3p_cpqm_0p_nlo,\n",
    "                w.cpt_6p_cpqm_0p_nlo,\n",
    "                w.cpt_0p_cpqm_3p_nlo,\n",
    "                w.cpt_0p_cpqm_6p_nlo,\n",
    "                w.cpt_3p_cpqm_3p_nlo,\n",
    "            ])\n",
    "\n",
    "            coeff = hp.get_parametrization(weights)\n",
    "            bsm_weight = hp.eval(coeff, [20, 0])\n",
    "            \n",
    "        elif isEFT and not is2D:\n",
    "            w = [getattr(events.LHEWeight, w) for w in weight_names[2:]]  # cut away garbage weights\n",
    "            res = np.linalg.lstsq(A, w, rcond=None)  # solve the linear equation system\n",
    "            \n",
    "            sm_weight = np.dot(res[0].T, sm_vec)\n",
    "            bsm_weight = np.dot(res[0].T, bsm_vec)\n",
    "        \n",
    "        met = events.GenMET\n",
    "        lepton = events.GenDressedLepton\n",
    "        jet = events.GenJet\n",
    "        \n",
    "        sel_jet = jet[((jet.pt>25)&(abs(jet.eta)<2.4))]\n",
    "        \n",
    "        lt = met.pt + ak.sum(lepton.pt[:,:2], axis=1)\n",
    "        \n",
    "        ######\n",
    "        \n",
    "        event_sel = ((ak.num(lepton)==2) & (ak.sum(lepton.pdgId, axis=1)>0) & (ak.num(sel_jet)>3))\n",
    "        \n",
    "        if isEFT:\n",
    "            output['lt'].fill(\n",
    "                lt=lt[event_sel],\n",
    "                weight=(events.genWeight*bsm_weight)[event_sel],  # NOTE: signs of weights checked.\n",
    "            )\n",
    "\n",
    "        output['lt_sm'].fill(\n",
    "            lt=lt[event_sel],\n",
    "            weight=(events.genWeight*sm_weight)[event_sel],\n",
    "        )\n",
    "                \n",
    "        return {dataset: output}\n",
    "\n",
    "    def postprocess(self, accumulator):\n",
    "        return accumulator"
   ]
  },
  {
   "cell_type": "code",
   "execution_count": 189,
   "id": "3f241287",
   "metadata": {},
   "outputs": [
    {
     "data": {
      "application/vnd.jupyter.widget-view+json": {
       "model_id": "bbac071169cf476e87ced50a08a067aa",
       "version_major": 2,
       "version_minor": 0
      },
      "text/plain": [
       "Output()"
      ]
     },
     "metadata": {},
     "output_type": "display_data"
    },
    {
     "data": {
      "text/html": [
       "<pre style=\"white-space:pre;overflow-x:auto;line-height:normal;font-family:Menlo,'DejaVu Sans Mono',consolas,'Courier New',monospace\"></pre>\n"
      ],
      "text/plain": []
     },
     "metadata": {},
     "output_type": "display_data"
    },
    {
     "data": {
      "text/html": [
       "<pre style=\"white-space:pre;overflow-x:auto;line-height:normal;font-family:Menlo,'DejaVu Sans Mono',consolas,'Courier New',monospace\">\n",
       "</pre>\n"
      ],
      "text/plain": [
       "\n"
      ]
     },
     "metadata": {},
     "output_type": "display_data"
    },
    {
     "data": {
      "application/vnd.jupyter.widget-view+json": {
       "model_id": "9fa545cad6014a988b68f7b2b72f4b41",
       "version_major": 2,
       "version_minor": 0
      },
      "text/plain": [
       "Output()"
      ]
     },
     "metadata": {},
     "output_type": "display_data"
    },
    {
     "data": {
      "text/html": [
       "<pre style=\"white-space:pre;overflow-x:auto;line-height:normal;font-family:Menlo,'DejaVu Sans Mono',consolas,'Courier New',monospace\"></pre>\n"
      ],
      "text/plain": []
     },
     "metadata": {},
     "output_type": "display_data"
    },
    {
     "data": {
      "text/html": [
       "<pre style=\"white-space:pre;overflow-x:auto;line-height:normal;font-family:Menlo,'DejaVu Sans Mono',consolas,'Courier New',monospace\">\n",
       "</pre>\n"
      ],
      "text/plain": [
       "\n"
      ]
     },
     "metadata": {},
     "output_type": "display_data"
    }
   ],
   "source": [
    "fileset = {\n",
    "    \"ttlnuJet\": glob.glob(f\"{base_dir}/ttlnuJet_all22WCs_RunIISummer20_NanoGEN_NANO_v26/merged/*.root\")[:-1],\n",
    "    \"TTWToLNu_TtoLep_aTtoHad\": glob.glob(f\"{base_dir}/TTWToLNu_TtoLep_aTtoHad_5f_EFT_NLO_RunIISummer20_NanoGEN_NANO_v13/merged/*.root\")[:-1],\n",
    "    \"TTWToLNu_TtoAll_aTtoLep\": glob.glob(f\"{base_dir}/TTWToLNu_TtoAll_aTtoLep_5f_EFT_NLO_RunIISummer20_NanoGEN_NANO_v13/merged/*.root\")[:-1],\n",
    "    \"TTWToLNu_SM\": glob.glob(f\"{base_dir}/TTWToLNu_SM_RunIISummer20_NanoGEN_NANO_v26/merged/*.root\")[:-1],\n",
    "\n",
    "}\n",
    "\n",
    "output = processor.run_uproot_job(\n",
    "    fileset,\n",
    "    \"Events\",\n",
    "    EFT_analysis(),\n",
    "    processor.iterative_executor,\n",
    "    {\"schema\": NanoAODSchema},\n",
    "    chunksize=25000,\n",
    ")"
   ]
  },
  {
   "cell_type": "code",
   "execution_count": 192,
   "id": "365b1675",
   "metadata": {},
   "outputs": [],
   "source": [
    "# SM point of LO ttlnu + jet sample MG x-sec: 0.326962929058 +- 0.0239820601814 pb (without matching)\n",
    "# \n",
    "xsecs = {\n",
    "    \"TTWToLNu_TtoLep_aTtoHad\": 3.420e-3, # 3.732e-3, # old number\n",
    "    \"TTWToLNu_TtoAll_aTtoLep\": 5.060e-3, # 5.521e-3, # old number\n",
    "    \"TTWToLNu_SM\": 0.2043,\n",
    "    \"ttlnuJet\": 4.848e-01, # this number is from NanoGEN production log, 0.54639 before matching from gridpack step\n",
    "}"
   ]
  },
  {
   "cell_type": "code",
   "execution_count": 193,
   "id": "7ac507cc",
   "metadata": {},
   "outputs": [
    {
     "data": {
      "text/plain": [
       "1120000"
      ]
     },
     "execution_count": 193,
     "metadata": {},
     "output_type": "execute_result"
    }
   ],
   "source": [
    "output[\"TTWToLNu_TtoLep_aTtoHad\"][\"EventCount\"]"
   ]
  },
  {
   "cell_type": "code",
   "execution_count": 194,
   "id": "4d67eec2",
   "metadata": {},
   "outputs": [
    {
     "data": {
      "text/html": [
       "<html>\n",
       "<div style=\"display:flex; align-items:center;\">\n",
       "<div style=\"width:290px;\">\n",
       "<svg xmlns=\"http://www.w3.org/2000/svg\" viewBox=\"-10 -105 270 120\">\n",
       "<line x1=\"-5\" y1=\"0\" x2=\"255\" y2=\"0\" style=\"fill:none;stroke-width:2;stroke:currentColor\"/>\n",
       "<text text-anchor=\"middle\" x=\"0\" y=\"15\" style=\"fill:currentColor;\">\n",
       "0\n",
       "</text>\n",
       "<text text-anchor=\"middle\" x=\"250\" y=\"15\" style=\"fill:currentColor;\">\n",
       "1e+03\n",
       "</text>\n",
       "<text text-anchor=\"middle\" x=\"125.0\" y=\"15\" style=\"fill:currentColor;\">\n",
       "$L_{T}$ (GeV)\n",
       "</text>\n",
       "<polyline points=\"  0,0   0,-1.75 12.5,-1.75 12.5,-25.1  25,-25.1  25,-77.8 37.5,-77.8 37.5,-100  50,-100  50,-71.6 62.5,-71.6 62.5,-43.8  75,-43.8  75,-27.2 87.5,-27.2 87.5,-14.1 100,-14.1 100,-9.21 112.5,-9.21 112.5,-5.93 125,-5.93 125,-3.17 137.5,-3.17 137.5,-2.59 150,-2.59 150,-1.71 162.5,-1.71 162.5,-1.14 175,-1.14 175,-0.629 187.5,-0.629 187.5,-0.464 200,-0.464 200,-0.295 212.5,-0.295 212.5,-0.219 225,-0.219 225,-0.13 237.5,-0.13 237.5,-0.0945 250,-0.0945 250,0\" style=\"fill:none; stroke:currentColor;\"/>\n",
       "</svg>\n",
       "</div>\n",
       "<div style=\"flex=grow:1;\">\n",
       "Regular(20, 0, 1000, name='lt', label='$L_{T}$ (GeV)')<br/>\n",
       "<hr style=\"margin-top:.2em; margin-bottom:.2em;\"/>\n",
       "Double() Σ=9245.919327086776 <em>(9253.487019597027 with flow)</em>\n",
       "\n",
       "</div>\n",
       "</div>\n",
       "</html>"
      ],
      "text/plain": [
       "Hist(Regular(20, 0, 1000, name='lt', label='$L_{T}$ (GeV)'), storage=Double()) # Sum: 9245.919327086776 (9253.487019597027 with flow)"
      ]
     },
     "execution_count": 194,
     "metadata": {},
     "output_type": "execute_result"
    }
   ],
   "source": [
    "output[\"ttlnuJet\"][\"lt_sm\"]"
   ]
  },
  {
   "cell_type": "code",
   "execution_count": 195,
   "id": "a8cdfe86",
   "metadata": {},
   "outputs": [
    {
     "data": {
      "text/html": [
       "<html>\n",
       "<div style=\"display:flex; align-items:center;\">\n",
       "<div style=\"width:290px;\">\n",
       "<svg xmlns=\"http://www.w3.org/2000/svg\" viewBox=\"-10 -105 270 120\">\n",
       "<line x1=\"-5\" y1=\"0\" x2=\"255\" y2=\"0\" style=\"fill:none;stroke-width:2;stroke:currentColor\"/>\n",
       "<text text-anchor=\"middle\" x=\"0\" y=\"15\" style=\"fill:currentColor;\">\n",
       "0\n",
       "</text>\n",
       "<text text-anchor=\"middle\" x=\"250\" y=\"15\" style=\"fill:currentColor;\">\n",
       "1e+03\n",
       "</text>\n",
       "<text text-anchor=\"middle\" x=\"125.0\" y=\"15\" style=\"fill:currentColor;\">\n",
       "$L_{T}$ (GeV)\n",
       "</text>\n",
       "<polyline points=\"  0,0   0,-1.7 12.5,-1.7 12.5,-24.1  25,-24.1  25,-76.4 37.5,-76.4 37.5,-100  50,-100  50,-78.3 62.5,-78.3 62.5,-52  75,-52  75,-37.8 87.5,-37.8 87.5,-24.4 100,-24.4 100,-20.3 112.5,-20.3 112.5,-13 125,-13 125,-11.1 137.5,-11.1 137.5,-7.26 150,-7.26 150,-5.46 162.5,-5.46 162.5,-4.69 175,-4.69 175,-2.47 187.5,-2.47 187.5,-1.74 200,-1.74 200,-1.22 212.5,-1.22 212.5,-1.53 225,-1.53 225,-0.99 237.5,-0.99 237.5,-1.45 250,-1.45 250,0\" style=\"fill:none; stroke:currentColor;\"/>\n",
       "</svg>\n",
       "</div>\n",
       "<div style=\"flex=grow:1;\">\n",
       "Regular(20, 0, 1000, name='lt', label='$L_{T}$ (GeV)')<br/>\n",
       "<hr style=\"margin-top:.2em; margin-bottom:.2em;\"/>\n",
       "Double() Σ=13361.491754519557 <em>(13477.899586244075 with flow)</em>\n",
       "\n",
       "</div>\n",
       "</div>\n",
       "</html>"
      ],
      "text/plain": [
       "Hist(Regular(20, 0, 1000, name='lt', label='$L_{T}$ (GeV)'), storage=Double()) # Sum: 13361.491754519557 (13477.899586244075 with flow)"
      ]
     },
     "execution_count": 195,
     "metadata": {},
     "output_type": "execute_result"
    }
   ],
   "source": [
    "output[\"ttlnuJet\"][\"lt\"]"
   ]
  },
  {
   "cell_type": "code",
   "execution_count": 196,
   "id": "06f61b52",
   "metadata": {},
   "outputs": [
    {
     "data": {
      "text/plain": [
       "<matplotlib.legend.Legend at 0x7f9a6bb0d0a0>"
      ]
     },
     "execution_count": 196,
     "metadata": {},
     "output_type": "execute_result"
    },
    {
     "data": {
      "image/png": "[encoded data removed]",
      "text/plain": [
       "<Figure size 720x720 with 1 Axes>"
      ]
     },
     "metadata": {
      "needs_background": "light"
     },
     "output_type": "display_data"
    }
   ],
   "source": [
    "f, ax = plt.subplots()\n",
    "\n",
    "output[\"ttlnuJet\"][\"lt_sm\"].plot1d(ax=ax, label=r'SM')\n",
    "output[\"ttlnuJet\"][\"lt\"].plot1d(ax=ax, label=r'BSM')\n",
    "\n",
    "\n",
    "ax.set_ylabel(r'# Events')\n",
    "ax.set_xlabel(r'coefficient')\n",
    "\n",
    "ax.set_yscale(\"log\")\n",
    "\n",
    "plt.legend()"
   ]
  },
  {
   "cell_type": "markdown",
   "id": "81d89ae6",
   "metadata": {},
   "source": [
    "### SM comparison"
   ]
  },
  {
   "cell_type": "code",
   "execution_count": 197,
   "id": "5beb00bb",
   "metadata": {},
   "outputs": [],
   "source": [
    "LO_h = output[\"ttlnuJet\"][\"lt_sm\"].copy()\n",
    "NLO_QCD_h = output[\"TTWToLNu_SM\"][\"lt_sm\"].copy()\n",
    "NLO_QED1_h = output[\"TTWToLNu_TtoLep_aTtoHad\"][\"lt_sm\"].copy()\n",
    "NLO_QED2_h = output[\"TTWToLNu_TtoAll_aTtoLep\"][\"lt_sm\"].copy()"
   ]
  },
  {
   "cell_type": "code",
   "execution_count": 198,
   "id": "d465f353",
   "metadata": {},
   "outputs": [],
   "source": [
    "LO_h_scaled = LO_h*137*1000*xsecs[\"ttlnuJet\"]/output[\"ttlnuJet\"][\"sumw\"]\n",
    "NLO_QCD_h_scaled = NLO_QCD_h*137*1000*xsecs[\"TTWToLNu_SM\"]/output[\"TTWToLNu_SM\"][\"sumw\"]\n",
    "NLO_QED1_h_scaled = NLO_QED1_h*137*1000*xsecs[\"TTWToLNu_TtoLep_aTtoHad\"]/output[\"TTWToLNu_TtoLep_aTtoHad\"][\"sumw\"]\n",
    "NLO_QED2_h_scaled = NLO_QED2_h*137*1000*xsecs[\"TTWToLNu_TtoAll_aTtoLep\"]/output[\"TTWToLNu_TtoAll_aTtoLep\"][\"sumw\"]"
   ]
  },
  {
   "cell_type": "code",
   "execution_count": 199,
   "id": "11fdb7a8",
   "metadata": {},
   "outputs": [],
   "source": [
    "norm = (sum(NLO_QED1_h_scaled.values())+sum(NLO_QED2_h_scaled.values())+sum(NLO_QCD_h_scaled.values()))/(sum(LO_h_scaled.values()))"
   ]
  },
  {
   "cell_type": "code",
   "execution_count": 200,
   "id": "30961dc7",
   "metadata": {},
   "outputs": [],
   "source": [
    "LO_h_scaled = LO_h_scaled*norm"
   ]
  },
  {
   "cell_type": "code",
   "execution_count": 201,
   "id": "eb842ab2",
   "metadata": {},
   "outputs": [
    {
     "data": {
      "text/plain": [
       "2528.3466768241765"
      ]
     },
     "execution_count": 201,
     "metadata": {},
     "output_type": "execute_result"
    }
   ],
   "source": [
    "sum(NLO_QCD_h_scaled.values())"
   ]
  },
  {
   "cell_type": "code",
   "execution_count": 202,
   "id": "2c369fa4",
   "metadata": {},
   "outputs": [
    {
     "data": {
      "text/plain": [
       "188.24968352503214"
      ]
     },
     "execution_count": 202,
     "metadata": {},
     "output_type": "execute_result"
    }
   ],
   "source": [
    "sum(NLO_QED1_h_scaled.values())+sum(NLO_QED2_h_scaled.values())"
   ]
  },
  {
   "cell_type": "code",
   "execution_count": 203,
   "id": "d9063197",
   "metadata": {},
   "outputs": [
    {
     "data": {
      "text/plain": [
       "<matplotlib.legend.Legend at 0x7f9a6bde40a0>"
      ]
     },
     "execution_count": 203,
     "metadata": {},
     "output_type": "execute_result"
    },
    {
     "data": {
      "image/png": "[encoded data removed]",
      "text/plain": [
       "<Figure size 720x720 with 1 Axes>"
      ]
     },
     "metadata": {
      "needs_background": "light"
     },
     "output_type": "display_data"
    }
   ],
   "source": [
    "f, ax = plt.subplots()\n",
    "\n",
    "hep.histplot(\n",
    "    [NLO_QCD_h_scaled.values(), NLO_QED1_h_scaled.values(), NLO_QED2_h_scaled.values()],\n",
    "    NLO_QCD_h.axes[0].edges,\n",
    "    #density=True,\n",
    "    histtype='fill',\n",
    "    stack=True,\n",
    "    label=['QCD', 'QED1', 'QED2']\n",
    ")\n",
    "\n",
    "hep.histplot(\n",
    "    [LO_h_scaled.values()],\n",
    "    LO_h.axes[0].edges,\n",
    "    #density=True,\n",
    "    label=['LO']\n",
    ")\n",
    "\n",
    "ax.set_ylabel(r'# Events')\n",
    "ax.set_xlabel(r'$L_{T} (GeV)$')\n",
    "\n",
    "ax.set_yscale(\"log\")\n",
    "\n",
    "plt.legend()"
   ]
  },
  {
   "cell_type": "markdown",
   "id": "60ea5789",
   "metadata": {},
   "source": [
    "### BSM comparison"
   ]
  },
  {
   "cell_type": "code",
   "execution_count": 204,
   "id": "38d55406",
   "metadata": {},
   "outputs": [],
   "source": [
    "LO_bsm_h = output[\"ttlnuJet\"][\"lt\"].copy()\n",
    "NLO_QCD_bsm_h = output[\"TTWToLNu_SM\"][\"lt\"].copy()\n",
    "NLO_QED1_bsm_h = output[\"TTWToLNu_TtoLep_aTtoHad\"][\"lt\"].copy()\n",
    "NLO_QED2_bsm_h = output[\"TTWToLNu_TtoAll_aTtoLep\"][\"lt\"].copy()"
   ]
  },
  {
   "cell_type": "code",
   "execution_count": 205,
   "id": "6b8b4b69",
   "metadata": {},
   "outputs": [],
   "source": [
    "LO_bsm_h_scaled = LO_bsm_h*137*1000*xsecs[\"ttlnuJet\"]/output[\"ttlnuJet\"][\"sumw\"]\n",
    "NLO_QCD_bsm_h_scaled = NLO_QCD_bsm_h*137*1000*xsecs[\"TTWToLNu_SM\"]/output[\"TTWToLNu_SM\"][\"sumw\"]\n",
    "NLO_QED1_bsm_h_scaled = NLO_QED1_bsm_h*137*1000*xsecs[\"TTWToLNu_TtoLep_aTtoHad\"]/output[\"TTWToLNu_TtoLep_aTtoHad\"][\"sumw\"]\n",
    "NLO_QED2_bsm_h_scaled = NLO_QED2_bsm_h*137*1000*xsecs[\"TTWToLNu_TtoAll_aTtoLep\"]/output[\"TTWToLNu_TtoAll_aTtoLep\"][\"sumw\"]"
   ]
  },
  {
   "cell_type": "code",
   "execution_count": 206,
   "id": "2a93248f",
   "metadata": {},
   "outputs": [],
   "source": [
    "LO_bsm_h_scaled = LO_bsm_h_scaled * norm"
   ]
  },
  {
   "cell_type": "code",
   "execution_count": 207,
   "id": "3109faa0",
   "metadata": {},
   "outputs": [
    {
     "data": {
      "text/plain": [
       "<matplotlib.legend.Legend at 0x7f9bb6757e50>"
      ]
     },
     "execution_count": 207,
     "metadata": {},
     "output_type": "execute_result"
    },
    {
     "data": {
      "image/png": "[encoded data removed]",
      "text/plain": [
       "<Figure size 720x720 with 1 Axes>"
      ]
     },
     "metadata": {
      "needs_background": "light"
     },
     "output_type": "display_data"
    }
   ],
   "source": [
    "f, ax = plt.subplots()\n",
    "\n",
    "hep.histplot(\n",
    "    [NLO_QCD_h_scaled.values(), NLO_QED1_bsm_h_scaled.values(), NLO_QED2_bsm_h_scaled.values()],\n",
    "    NLO_QCD_h.axes[0].edges,\n",
    "    #density=True,\n",
    "    histtype='fill',\n",
    "    stack=True,\n",
    "    label=['QCD', 'QED1', 'QED2']\n",
    ")\n",
    "\n",
    "hep.histplot(\n",
    "    [LO_bsm_h_scaled.values()],\n",
    "    LO_h.axes[0].edges,\n",
    "    #density=True,\n",
    "    label=['LO']\n",
    ")\n",
    "\n",
    "ax.set_ylabel(r'# Events')\n",
    "ax.set_xlabel(r'$L_{T} (GeV)$')\n",
    "\n",
    "ax.set_yscale(\"log\")\n",
    "\n",
    "plt.legend()"
   ]
  },
  {
   "cell_type": "code",
   "execution_count": 214,
   "id": "d2c6162f",
   "metadata": {},
   "outputs": [
    {
     "data": {
      "text/plain": [
       "3960.0186488625986"
      ]
     },
     "execution_count": 214,
     "metadata": {},
     "output_type": "execute_result"
    }
   ],
   "source": [
    "sum(LO_bsm_h_scaled.values(flow=True))"
   ]
  },
  {
   "cell_type": "code",
   "execution_count": 215,
   "id": "9661c779",
   "metadata": {},
   "outputs": [
    {
     "data": {
      "text/plain": [
       "2718.8198673042566"
      ]
     },
     "execution_count": 215,
     "metadata": {},
     "output_type": "execute_result"
    }
   ],
   "source": [
    "sum(LO_h_scaled.values(flow=True))"
   ]
  },
  {
   "cell_type": "code",
   "execution_count": 216,
   "id": "f32bdcc2",
   "metadata": {},
   "outputs": [
    {
     "data": {
      "text/plain": [
       "1248.8020505685408"
      ]
     },
     "execution_count": 216,
     "metadata": {},
     "output_type": "execute_result"
    }
   ],
   "source": [
    "sum(NLO_QED1_bsm_h_scaled.values(flow=True))+sum(NLO_QED2_bsm_h_scaled.values(flow=True))"
   ]
  },
  {
   "cell_type": "code",
   "execution_count": 217,
   "id": "ed277798",
   "metadata": {},
   "outputs": [
    {
     "data": {
      "text/plain": [
       "188.35167605286998"
      ]
     },
     "execution_count": 217,
     "metadata": {},
     "output_type": "execute_result"
    }
   ],
   "source": [
    "sum(NLO_QED1_h_scaled.values(flow=True))+sum(NLO_QED2_h_scaled.values(flow=True))"
   ]
  },
  {
   "cell_type": "code",
   "execution_count": 218,
   "id": "433f6240",
   "metadata": {},
   "outputs": [
    {
     "data": {
      "text/plain": [
       "2719.102686553706"
      ]
     },
     "execution_count": 218,
     "metadata": {},
     "output_type": "execute_result"
    }
   ],
   "source": [
    "sum(NLO_QED1_h_scaled.values(flow=True))+sum(NLO_QED2_h_scaled.values(flow=True))+sum(NLO_QCD_h_scaled.values(flow=True))"
   ]
  },
  {
   "cell_type": "code",
   "execution_count": 219,
   "id": "0cc334b0",
   "metadata": {},
   "outputs": [
    {
     "data": {
      "text/plain": [
       "3779.553061069377"
      ]
     },
     "execution_count": 219,
     "metadata": {},
     "output_type": "execute_result"
    }
   ],
   "source": [
    "sum(NLO_QED1_bsm_h_scaled.values(flow=True))+sum(NLO_QED2_bsm_h_scaled.values(flow=True))+sum(NLO_QCD_h_scaled.values(flow=True))"
   ]
  },
  {
   "cell_type": "code",
   "execution_count": 220,
   "id": "1399d6e2",
   "metadata": {},
   "outputs": [
    {
     "data": {
      "text/plain": [
       "<matplotlib.legend.Legend at 0x7f9bb9c91520>"
      ]
     },
     "execution_count": 220,
     "metadata": {},
     "output_type": "execute_result"
    },
    {
     "data": {
      "image/png": "[encoded data removed]",
      "text/plain": [
       "<Figure size 720x720 with 1 Axes>"
      ]
     },
     "metadata": {
      "needs_background": "light"
     },
     "output_type": "display_data"
    }
   ],
   "source": [
    "f, ax = plt.subplots()\n",
    "\n",
    "hep.histplot(\n",
    "    [LO_h_scaled.values(), NLO_QCD_h_scaled.values()],\n",
    "    LO_h.axes[0].edges,\n",
    "    #density=True,\n",
    "    label=['LO', 'NLO']\n",
    ")\n",
    "\n",
    "ax.set_ylabel(r'# Events')\n",
    "ax.set_xlabel(r'$L_{T} (GeV)$')\n",
    "\n",
    "ax.set_yscale(\"log\")\n",
    "\n",
    "plt.legend()"
   ]
  },
  {
   "cell_type": "code",
   "execution_count": 43,
   "id": "7c478615",
   "metadata": {},
   "outputs": [],
   "source": [
    "mapping = {\n",
    "    \"LO\": [\n",
    "        \"ttlnuJet\",\n",
    "    ],\n",
    "    \"NLO\":[\n",
    "        \"TTWToLNu_SM\",\n",
    "        \"TTWToLNu_TtoAll_aTtoLep\",\n",
    "        \"TTWToLNu_TtoLep_aTtoHad\"\n",
    "    ],\n",
    "}"
   ]
  },
  {
   "cell_type": "code",
   "execution_count": 52,
   "id": "d3035a85",
   "metadata": {},
   "outputs": [],
   "source": [
    "lt_axis = hist.axis.Regular(20, 0, 1000, name=\"lt\", label=\"$L_{T}$ (GeV)\")"
   ]
  },
  {
   "cell_type": "code",
   "execution_count": 55,
   "id": "136d8159",
   "metadata": {},
   "outputs": [
    {
     "ename": "ValueError",
     "evalue": "bins > 0 required",
     "output_type": "error",
     "traceback": [
      "\u001b[0;31m---------------------------------------------------------------------------\u001b[0m",
      "\u001b[0;31mValueError\u001b[0m                                Traceback (most recent call last)",
      "Input \u001b[0;32mIn [55]\u001b[0m, in \u001b[0;36m<cell line: 1>\u001b[0;34m()\u001b[0m\n\u001b[0;32m----> 1\u001b[0m \u001b[43mRebinHist\u001b[49m\u001b[43m(\u001b[49m\u001b[43moutput\u001b[49m\u001b[43m[\u001b[49m\u001b[38;5;124;43m\"\u001b[39;49m\u001b[38;5;124;43mttlnuJet\u001b[39;49m\u001b[38;5;124;43m\"\u001b[39;49m\u001b[43m]\u001b[49m\u001b[43m[\u001b[49m\u001b[38;5;124;43m\"\u001b[39;49m\u001b[38;5;124;43mlt\u001b[39;49m\u001b[38;5;124;43m\"\u001b[39;49m\u001b[43m]\u001b[49m\u001b[43m,\u001b[49m\u001b[43m \u001b[49m\u001b[43mlt\u001b[49m\u001b[38;5;241;43m=\u001b[39;49m\u001b[43mlt_axis\u001b[49m\u001b[43m)\u001b[49m\n",
      "Input \u001b[0;32mIn [50]\u001b[0m, in \u001b[0;36mRebinHist\u001b[0;34m(h, **kwargs)\u001b[0m\n\u001b[1;32m     18\u001b[0m         h \u001b[38;5;241m=\u001b[39m h[{var: var_val}]\n\u001b[1;32m     19\u001b[0m     \u001b[38;5;28;01melse\u001b[39;00m:\n\u001b[0;32m---> 20\u001b[0m         h \u001b[38;5;241m=\u001b[39m \u001b[43m_rebin_single_scikit\u001b[49m\u001b[43m(\u001b[49m\u001b[43mh\u001b[49m\u001b[43m,\u001b[49m\u001b[43m \u001b[49m\u001b[43mvar\u001b[49m\u001b[43m,\u001b[49m\u001b[43m \u001b[49m\u001b[43mvar_val\u001b[49m\u001b[43m)\u001b[49m\n\u001b[1;32m     21\u001b[0m \u001b[38;5;28;01mreturn\u001b[39;00m h\n",
      "Input \u001b[0;32mIn [50]\u001b[0m, in \u001b[0;36m_rebin_single_scikit\u001b[0;34m(h, old_axis, new_axis)\u001b[0m\n\u001b[1;32m     74\u001b[0m \u001b[38;5;66;03m#assert isinstance(h, hist.NamedHist), \"Can only process named histograms\"\u001b[39;00m\n\u001b[1;32m     75\u001b[0m \n\u001b[1;32m     76\u001b[0m \u001b[38;5;66;03m# Additional type casing\u001b[39;00m\n\u001b[1;32m     77\u001b[0m \u001b[38;5;28;01mif\u001b[39;00m \u001b[38;5;28mtype\u001b[39m(old_axis) \u001b[38;5;241m==\u001b[39m \u001b[38;5;28mstr\u001b[39m:\n\u001b[0;32m---> 78\u001b[0m     \u001b[38;5;28;01mreturn\u001b[39;00m \u001b[43m_rebin_single_scikit\u001b[49m\u001b[43m(\u001b[49m\u001b[43mh\u001b[49m\u001b[43m,\u001b[49m\u001b[43m \u001b[49m\u001b[43mh\u001b[49m\u001b[38;5;241;43m.\u001b[39;49m\u001b[43maxes\u001b[49m\u001b[43m[\u001b[49m\u001b[43mold_axis\u001b[49m\u001b[43m]\u001b[49m\u001b[43m,\u001b[49m\u001b[43m \u001b[49m\u001b[43mnew_axis\u001b[49m\u001b[43m)\u001b[49m\n\u001b[1;32m     79\u001b[0m axis_name \u001b[38;5;241m=\u001b[39m old_axis\u001b[38;5;241m.\u001b[39mname\n\u001b[1;32m     81\u001b[0m \u001b[38;5;66;03m## Creating the new histogram instance with identical axis ordering.\u001b[39;00m\n",
      "Input \u001b[0;32mIn [50]\u001b[0m, in \u001b[0;36m_rebin_single_scikit\u001b[0;34m(h, old_axis, new_axis)\u001b[0m\n\u001b[1;32m    123\u001b[0m     o_uhi \u001b[38;5;241m=\u001b[39m {name: o[name_idx] \u001b[38;5;28;01mfor\u001b[39;00m name_idx, name \u001b[38;5;129;01min\u001b[39;00m \u001b[38;5;28menumerate\u001b[39m(name_list)}\n\u001b[1;32m    124\u001b[0m     \u001b[38;5;66;03m# Single variable histogram, with just the axis of interest\u001b[39;00m\n\u001b[0;32m--> 125\u001b[0m     h_rebinned[n_uhi] \u001b[38;5;241m=\u001b[39m \u001b[43mintegrate_hist_scikit\u001b[49m\u001b[43m(\u001b[49m\u001b[43mh\u001b[49m\u001b[43m,\u001b[49m\u001b[43m \u001b[49m\u001b[38;5;241;43m*\u001b[39;49m\u001b[38;5;241;43m*\u001b[39;49m\u001b[43mo_uhi\u001b[49m\u001b[43m)\u001b[49m\n\u001b[1;32m    127\u001b[0m \u001b[38;5;28;01mreturn\u001b[39;00m h_rebinned\n",
      "Input \u001b[0;32mIn [50]\u001b[0m, in \u001b[0;36mintegrate_hist_scikit\u001b[0;34m(h, **kwargs)\u001b[0m\n\u001b[1;32m    130\u001b[0m \u001b[38;5;124;03m\"\"\"\u001b[39;00m\n\u001b[1;32m    131\u001b[0m \u001b[38;5;124;03mGiven a scikit-hist histogram object return a reduced histogram with specified\u001b[39;00m\n\u001b[1;32m    132\u001b[0m \u001b[38;5;124;03maxes integrated out.\u001b[39;00m\n\u001b[0;32m   (...)\u001b[0m\n\u001b[1;32m    138\u001b[0m \u001b[38;5;124;03midentify a singular bin in the histogram axis\u001b[39;00m\n\u001b[1;32m    139\u001b[0m \u001b[38;5;124;03m\"\"\"\u001b[39;00m\n\u001b[1;32m    140\u001b[0m \u001b[38;5;66;03m# Reduction in parallel.\u001b[39;00m\n\u001b[0;32m--> 141\u001b[0m r \u001b[38;5;241m=\u001b[39m \u001b[43mh\u001b[49m\u001b[43m[\u001b[49m\u001b[43mkwargs\u001b[49m\u001b[43m]\u001b[49m\n\u001b[1;32m    142\u001b[0m \u001b[38;5;28;01mfor\u001b[39;00m var, var_slice \u001b[38;5;129;01min\u001b[39;00m kwargs\u001b[38;5;241m.\u001b[39mitems():\n\u001b[1;32m    143\u001b[0m     \u001b[38;5;66;03m# In the case that histogram has been reduced to singular value simple return\u001b[39;00m\n\u001b[1;32m    144\u001b[0m     \u001b[38;5;66;03m#if not isinstance(r, hist.NamedHist):\u001b[39;00m\n\u001b[1;32m    145\u001b[0m     \u001b[38;5;66;03m#    return r\u001b[39;00m\n\u001b[1;32m    146\u001b[0m     \u001b[38;5;28;01mif\u001b[39;00m var \u001b[38;5;129;01min\u001b[39;00m [x\u001b[38;5;241m.\u001b[39mname \u001b[38;5;28;01mfor\u001b[39;00m x \u001b[38;5;129;01min\u001b[39;00m r\u001b[38;5;241m.\u001b[39maxes]:\n",
      "File \u001b[0;32m~/miniconda3/envs/workerenv/lib/python3.9/site-packages/hist/basehist.py:318\u001b[0m, in \u001b[0;36mBaseHist.__getitem__\u001b[0;34m(self, index)\u001b[0m\n\u001b[1;32m    311\u001b[0m \u001b[38;5;28;01mdef\u001b[39;00m \u001b[38;5;21m__getitem__\u001b[39m(  \u001b[38;5;66;03m# type: ignore[override]\u001b[39;00m\n\u001b[1;32m    312\u001b[0m     \u001b[38;5;28mself\u001b[39m: T, index: IndexingExpr\n\u001b[1;32m    313\u001b[0m ) \u001b[38;5;241m-\u001b[39m\u001b[38;5;241m>\u001b[39m T \u001b[38;5;241m|\u001b[39m \u001b[38;5;28mfloat\u001b[39m \u001b[38;5;241m|\u001b[39m bh\u001b[38;5;241m.\u001b[39maccumulators\u001b[38;5;241m.\u001b[39mAccumulator:\n\u001b[1;32m    314\u001b[0m     \u001b[38;5;124;03m\"\"\"\u001b[39;00m\n\u001b[1;32m    315\u001b[0m \u001b[38;5;124;03m    Get histogram item.\u001b[39;00m\n\u001b[1;32m    316\u001b[0m \u001b[38;5;124;03m    \"\"\"\u001b[39;00m\n\u001b[0;32m--> 318\u001b[0m     \u001b[38;5;28;01mreturn\u001b[39;00m \u001b[38;5;28;43msuper\u001b[39;49m\u001b[43m(\u001b[49m\u001b[43m)\u001b[49m\u001b[38;5;241;43m.\u001b[39;49m\u001b[38;5;21;43m__getitem__\u001b[39;49m\u001b[43m(\u001b[49m\u001b[38;5;28;43mself\u001b[39;49m\u001b[38;5;241;43m.\u001b[39;49m\u001b[43m_index_transform\u001b[49m\u001b[43m(\u001b[49m\u001b[43mindex\u001b[49m\u001b[43m)\u001b[49m\u001b[43m)\u001b[49m\n",
      "File \u001b[0;32m~/.local/lib/python3.9/site-packages/boost_histogram/_internal/hist.py:860\u001b[0m, in \u001b[0;36mHistogram.__getitem__\u001b[0;34m(self, index)\u001b[0m\n\u001b[1;32m    858\u001b[0m \u001b[38;5;28;01mif\u001b[39;00m slices:\n\u001b[1;32m    859\u001b[0m     logger\u001b[38;5;241m.\u001b[39mdebug(\u001b[38;5;124m\"\u001b[39m\u001b[38;5;124mReduce with \u001b[39m\u001b[38;5;132;01m%s\u001b[39;00m\u001b[38;5;124m\"\u001b[39m, slices)\n\u001b[0;32m--> 860\u001b[0m     reduced \u001b[38;5;241m=\u001b[39m \u001b[43mreduced\u001b[49m\u001b[38;5;241;43m.\u001b[39;49m\u001b[43mreduce\u001b[49m\u001b[43m(\u001b[49m\u001b[38;5;241;43m*\u001b[39;49m\u001b[43mslices\u001b[49m\u001b[43m)\u001b[49m\n\u001b[1;32m    862\u001b[0m \u001b[38;5;28;01mif\u001b[39;00m pick_set:\n\u001b[1;32m    863\u001b[0m     warnings\u001b[38;5;241m.\u001b[39mwarn(\n\u001b[1;32m    864\u001b[0m         \u001b[38;5;124m\"\u001b[39m\u001b[38;5;124mList indexing selection is experimental. Removed bins are not placed in overflow.\u001b[39m\u001b[38;5;124m\"\u001b[39m\n\u001b[1;32m    865\u001b[0m     )\n",
      "\u001b[0;31mValueError\u001b[0m: bins > 0 required"
     ]
    }
   ],
   "source": [
    "RebinHist(output[\"ttlnuJet\"][\"lt\"], lt=lt_axis)"
   ]
  },
  {
   "cell_type": "code",
   "execution_count": 50,
   "id": "8dba147f",
   "metadata": {},
   "outputs": [],
   "source": [
    "# Taken from Yi-Mu: https://gist.github.com/yimuchen/a5e200c001ef4ea01681a7dd8fe89162#file-integrate_and_rebin-py-L158\n",
    "def RebinHist(h, **kwargs):\n",
    "    \"\"\"\n",
    "    Rebinning a scikit-hist histogram. 2 types of values can be accepted as the\n",
    "    argument values:\n",
    "    - Derivatives of the `hist.rebin` argument. In this case we directly use the\n",
    "    UHI facilities to perform the rebinning.\n",
    "    - A new axis object where all the bin edges lands on the old bin edges of the\n",
    "    given histogram. In this case a custom intergration loop is performed to\n",
    "    extract the rebinning. Beware that this methods is very slow, as it requires\n",
    "    a loop generation of all possible UHI values after the rebinning, so be sure\n",
    "    that rebinning is performed as the final step of the histogram reduction. See\n",
    "    `_rebin_single_scikit` for more information regarding this method.\n",
    "    \"\"\"\n",
    "    h = h.copy()\n",
    "    for var, var_val in kwargs.items():\n",
    "        if isinstance(var_val, hist.rebin):\n",
    "            h = h[{var: var_val}]\n",
    "        else:\n",
    "            h = _rebin_single_scikit(h, var, var_val)\n",
    "    return h\n",
    "\n",
    "\n",
    "def __check_scikit_axis_compat(axis1, axis2):\n",
    "    \"\"\"\n",
    "    Checking that axis 2 is rebin-compatible with axis 1. This checks that:\n",
    "    1. The two histogram share the same name.\n",
    "    2. The edges of the second axis all land on the edges of the first axis.\n",
    "    If the two axis are compatible the function will return an array of the bin\n",
    "    index of the axis 1 that the bin edges of axis 2 falls on.\n",
    "    \"\"\"\n",
    "    assert axis1.name == axis2.name, \\\n",
    "    'Naming of the axis is required to match'\n",
    "    # Getting the new bin edges index for the old bin edges\n",
    "    try:\n",
    "        return [\n",
    "        np.argwhere(axis1.edges == new_edge)[0][0] for new_edge in axis2.edges\n",
    "        ]\n",
    "    except IndexError as err:\n",
    "        raise ValueError(f\"Bin edges of the axis {axis2} is incompatible with {axis1}\")\n",
    "\n",
    "\n",
    "def _get_all_indices(axis):\n",
    "    \"\"\"\n",
    "    Getting all possible (integer) bin index values given a scikit-hep histogram.\n",
    "    The special indices of hist.underflow and hist.overflow will be included if the\n",
    "    axis in questions has those traits.\n",
    "    \"\"\"\n",
    "    idxs = list(range(len(axis)))\n",
    "    if axis.traits.underflow:  # Extension to include the under/overflow bins\n",
    "        idxs.insert(0, hist.underflow)\n",
    "        if axis.traits.overflow:\n",
    "            idxs.append(hist.overflow)\n",
    "    return idxs\n",
    "\n",
    "\n",
    "def _rebin_single_scikit(h, old_axis, new_axis):\n",
    "    \"\"\"\n",
    "    Rebinning a single axis of a scikit-hist histogram. This includes the following\n",
    "    routines:\n",
    "    - Generating a new scikit hep instance that perserves axis ordering with the\n",
    "    exception of the rebinned axis (in place) replacement.\n",
    "    - Setting up the integration ranges required to calculate the bin values of the\n",
    "    new histogram.\n",
    "    - Looping over the UHI values of the new histogram and performing the a\n",
    "    summation over the specified range on the old histogram to fill in the new\n",
    "    values.\n",
    "    As here we have variable number of axis each with variable number of bins, this\n",
    "    method will require the use of more old fashioned python looping, which can be\n",
    "    very slow for large dimensional histograms with many bins for each axis. So be\n",
    "    sure to make rebinning be the final step in histogram reduction.\n",
    "    \"\"\"\n",
    "\n",
    "    #assert isinstance(h, hist.NamedHist), \"Can only process named histograms\"\n",
    "\n",
    "    # Additional type casing\n",
    "    if type(old_axis) == str:\n",
    "        return _rebin_single_scikit(h, h.axes[old_axis], new_axis)\n",
    "    axis_name = old_axis.name\n",
    "\n",
    "    ## Creating the new histogram instance with identical axis ordering.\n",
    "    all_axes = list(h.axes)\n",
    "    all_axes[all_axes.index(old_axis)] = new_axis\n",
    "    h_rebinned = hist.NamedHist(*all_axes, storage=h._storage_type())\n",
    "\n",
    "    # Getting the all possible bin indices for all axes in the old histogram\n",
    "    bin_idx_dict = {ax.name: _get_all_indices(ax) for ax in h.axes}\n",
    "\n",
    "    # Getting the new bin edges index for the old bin edges\n",
    "    new_bin_edge_idx = __check_scikit_axis_compat(old_axis, new_axis)\n",
    "    if new_axis.traits.underflow:  # Adding additional underflow/overflow\n",
    "        new_bin_edge_idx.insert(0, bin_idx_dict[axis_name][0])\n",
    "        if new_axis.traits.overflow:\n",
    "            new_bin_edge_idx.append(bin_idx_dict[axis_name][-1])\n",
    "\n",
    "    # Generating a the int range pair. Additional parsing will be required for the\n",
    "    # under/overflow bins\n",
    "\n",
    "    def make_slice(index):\n",
    "\n",
    "        start = new_bin_edge_idx[index]\n",
    "        stop = new_bin_edge_idx[index + 1]\n",
    "        if start == hist.underflow:\n",
    "            start = -1\n",
    "        if stop == hist.overflow:\n",
    "            stop = len(old_axis)\n",
    "        return slice(int(start), int(stop))\n",
    "\n",
    "    new_axis_idx = _get_all_indices(new_axis)\n",
    "    new_int_slice = [make_slice(i) for i in range(len(new_axis_idx))]\n",
    "    assert len(new_axis_idx) == len(new_bin_edge_idx) - 1\n",
    "\n",
    "    new_idx_dict = bin_idx_dict.copy()\n",
    "    new_idx_dict[axis_name] = new_axis_idx\n",
    "    bin_idx_dict[axis_name] = new_int_slice\n",
    "\n",
    "    name_list = list(bin_idx_dict.keys())\n",
    "    new_idx = [x for x in itertools.product(*[x for x in new_idx_dict.values()])]\n",
    "    old_int = [x for x in itertools.product(*[x for x in bin_idx_dict.values()])]\n",
    "\n",
    "    for o, n in zip(old_int, new_idx):\n",
    "        n_uhi = {name: n[name_idx] for name_idx, name in enumerate(name_list)}\n",
    "        o_uhi = {name: o[name_idx] for name_idx, name in enumerate(name_list)}\n",
    "        # Single variable histogram, with just the axis of interest\n",
    "        h_rebinned[n_uhi] = integrate_hist_scikit(h, **o_uhi)\n",
    "\n",
    "    return h_rebinned\n",
    "\n",
    "def integrate_hist_scikit(h, **kwargs):\n",
    "    \"\"\"\n",
    "    Given a scikit-hist histogram object return a reduced histogram with specified\n",
    "    axes integrated out.\n",
    "    For scikit-hist histograms, the integration should be formed in 3 steps:\n",
    "    - slicing the histogram to contain only the range of interest\n",
    "    - Setting overflow values to 0 (excluding the values from future calculations)\n",
    "    - Summing over the axes of interest.\n",
    "    The latter 2 steps will only be carried out if the var_slice doesn't uniquely\n",
    "    identify a singular bin in the histogram axis\n",
    "    \"\"\"\n",
    "    # Reduction in parallel.\n",
    "    r = h[kwargs]\n",
    "    for var, var_slice in kwargs.items():\n",
    "        # In the case that histogram has been reduced to singular value simple return\n",
    "        #if not isinstance(r, hist.NamedHist):\n",
    "        #    return r\n",
    "        if var in [x.name for x in r.axes]:\n",
    "            ax = h.axes[var]\n",
    "            \n",
    "            get_underflow = var_slice.start == None or var_slice.start == -1\n",
    "            get_overflow = var_slice.stop == None or var_slice.stop == len(ax)\n",
    "            if not get_underflow and ax.traits.underflow:\n",
    "                r[{var: hist.underflow}] = np.zeros_like(r[{var: hist.underflow}])\n",
    "            if not get_overflow and ax.traits.overflow:\n",
    "                r[{var: hist.overflow}] = np.zeros_like(r[{var: hist.overflow}])\n",
    "                \n",
    "            # Sum over all remaining elements on axis\n",
    "            r = r[{var: sum}]\n",
    "    return r\n"
   ]
  },
  {
   "cell_type": "code",
   "execution_count": null,
   "id": "a8420945",
   "metadata": {},
   "outputs": [],
   "source": []
  }
 ],
 "metadata": {
  "kernelspec": {
   "display_name": "workerenv",
   "language": "python",
   "name": "workerenv"
  },
  "language_info": {
   "codemirror_mode": {
    "name": "ipython",
    "version": 3
   },
   "file_extension": ".py",
   "mimetype": "text/x-python",
   "name": "python",
   "nbconvert_exporter": "python",
   "pygments_lexer": "ipython3",
   "version": "3.9.7"
  }
 },
 "nbformat": 4,
 "nbformat_minor": 5
}
