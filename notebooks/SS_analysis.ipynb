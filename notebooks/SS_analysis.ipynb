{
 "cells": [
  {
   "cell_type": "markdown",
   "metadata": {},
   "source": [
    "# Main SS analysis development\n",
    "\n"
   ]
  },
  {
   "cell_type": "code",
   "execution_count": null,
   "metadata": {},
   "outputs": [],
   "source": [
    "%load_ext autoreload\n",
    "%autoreload 2"
   ]
  },
  {
   "cell_type": "code",
   "execution_count": null,
   "metadata": {},
   "outputs": [],
   "source": [
    "from processor.SS_analysis import *\n",
    "from Tools.config_helpers import *\n",
    "from klepto.archives import dir_archive"
   ]
  },
  {
   "cell_type": "code",
   "execution_count": null,
   "metadata": {},
   "outputs": [],
   "source": [
    "from processor.default_accumulators import desired_output, add_processes_to_output, variations"
   ]
  },
  {
   "cell_type": "code",
   "execution_count": null,
   "metadata": {},
   "outputs": [],
   "source": [
    "# the equivalent code can be run with ipython -i SS_analysis.py within the processor directory\n",
    "\n",
    "from Tools.samples import fileset_2018, fileset_2018_small\n",
    "from processor.std_acumulators import desired_output, add_processes_to_output\n",
    "\n",
    "overwrite = False\n",
    "\n",
    "# load the config and the cache\n",
    "cfg = loadConfig()\n",
    "\n",
    "cacheName = 'SS_analysis'\n",
    "cache = dir_archive(os.path.join(os.path.expandvars(cfg['caches']['base']), cacheName), serialized=True)\n",
    "\n",
    "year = 2018\n",
    "\n",
    "fileset = {\n",
    "    #'inclusive': glob.glob('/home/users/dspitzba/TTW/CMSSW_10_2_9/src/inclusive_1000.root'),\n",
    "    #'plus': glob.glob('/home/users/dspitzba/TTW/CMSSW_10_2_9/src/plus_2000.root'),\n",
    "    #'topW_v2': fileset_2018['topW_v2'], # verified that v2 and v3 are similar, v3 has more stats!\n",
    "    'topW_v3': fileset_2018['topW_v3'],\n",
    "    'topW_EFT_cp8': fileset_2018['topW_EFT_cp8'],\n",
    "    'topW_EFT_mix': fileset_2018['topW_EFT_mix'],\n",
    "    #'TTW': fileset_2018['TTW'],\n",
    "    #'TTZ': fileset_2018['TTZ'],\n",
    "    #'TTH': fileset_2018['TTH'],\n",
    "    #'ttbar': fileset_2018['ttbar'][:12],\n",
    "    #'ttbar1l': fileset_2018['ttbar1l'][:5],\n",
    "    #'ttbar2l': fileset_2018['ttbar2l'][:5],\n",
    "}\n",
    "\n",
    "\n",
    "add_processes_to_output(fileset, desired_output)\n",
    "\n",
    "histograms = sorted(list(desired_output.keys()))\n",
    "\n",
    "exe_args = {\n",
    "    'workers': 16,\n",
    "    'function_args': {'flatten': False},\n",
    "    \"schema\": NanoAODSchema,\n",
    "}\n",
    "exe = processor.futures_executor\n",
    "\n",
    "if not overwrite:\n",
    "    cache.load()\n",
    "\n",
    "if cfg == cache.get('cfg') and histograms == cache.get('histograms') and cache.get('simple_output'):\n",
    "    output = cache.get('simple_output')\n",
    "\n",
    "else:\n",
    "    print (\"I'm running now\")\n",
    "    \n",
    "    output = processor.run_uproot_job(\n",
    "        fileset,\n",
    "        \"Events\",\n",
    "        SS_analysis(year=year, variations=variations, accumulator=desired_output),\n",
    "        exe,\n",
    "        exe_args,\n",
    "        chunksize=250000,\n",
    "    )\n",
    "    \n",
    "    cache['fileset']        = fileset\n",
    "    cache['cfg']            = cfg\n",
    "    cache['histograms']     = histograms\n",
    "    cache['simple_output']  = output\n",
    "    cache.dump()\n",
    "\n",
    "\n"
   ]
  },
  {
   "cell_type": "code",
   "execution_count": null,
   "metadata": {},
   "outputs": [],
   "source": [
    "def getChannel(histogram, n_ele=0):\n",
    "    '''\n",
    "    gets you just the ee/emu/mumu channel of each histogram by requiring 0-2 electrons\n",
    "    '''\n",
    "    bins_n_ele  = hist.Bin('n_ele', r'$N_{e}$', 1, n_ele-0.5, n_ele+0.5)\n",
    "    tmp = histogram.copy()\n",
    "    tmp = tmp.rebin('n_ele', bins_n_ele)\n",
    "    tmp = tmp.sum('n_ele')\n",
    "    #tmp = tmp.copy().project(\"dataset\",axis)\n",
    "    #nEvents = tmp.sum(\"dataset\").values(overflow='over')[()].sum()\n",
    "    #print (\"Total number of events for signal point: %s\"%nEvents)\n",
    "    return tmp"
   ]
  },
  {
   "cell_type": "code",
   "execution_count": null,
   "metadata": {},
   "outputs": [],
   "source": [
    "getChannel(output['chargeFlip_vs_nonprompt'], n_ele=1).values()"
   ]
  },
  {
   "cell_type": "code",
   "execution_count": null,
   "metadata": {},
   "outputs": [],
   "source": [
    "output['chargeFlip_vs_nonprompt'].sum('n_ele').values()"
   ]
  },
  {
   "cell_type": "code",
   "execution_count": null,
   "metadata": {},
   "outputs": [],
   "source": [
    "import matplotlib.pyplot as plt\n",
    "\n",
    "fig, ax  = plt.subplots(1,1,figsize=(10,10) )\n",
    "ax = hist.plot2d(\n",
    "    output['chargeFlip_vs_nonprompt']['ttbar1l'].sum('n_ele').sum('dataset'),\n",
    "    xaxis='n1',\n",
    "    ax=ax,\n",
    "    text_opts={'format': '%.3g'},\n",
    "    patch_opts={},\n",
    ")\n",
    "ax.set_xlabel(r'$N_{charge flips}$')\n",
    "ax.set_ylabel(r'$N_{nonprompt}$')"
   ]
  },
  {
   "cell_type": "code",
   "execution_count": null,
   "metadata": {},
   "outputs": [],
   "source": [
    "fig, ax  = plt.subplots(1,1,figsize=(10,10) )\n",
    "ax = hist.plot2d(\n",
    "    output['chargeFlip_vs_nonprompt']['ttbar2l'].sum('n_ele').sum('dataset'),\n",
    "    xaxis='n1',\n",
    "    ax=ax,\n",
    "    text_opts={'format': '%.3g'},\n",
    "    patch_opts={},\n",
    ")\n",
    "ax.set_xlabel(r'$N_{charge flips}$')\n",
    "ax.set_ylabel(r'$N_{nonprompt}$')"
   ]
  },
  {
   "cell_type": "code",
   "execution_count": null,
   "metadata": {},
   "outputs": [],
   "source": [
    "from Tools.helpers import getCutFlowTable\n",
    "\n",
    "processes = [\n",
    "    #\"inclusive\", \"plus\",\n",
    "    #'topW_v2',\n",
    "    'topW_v3',\n",
    "    'topW_EFT_cp8', 'topW_EFT_mix',\n",
    "    #'TTW', 'TTZ', 'TTH', 'ttbar',\n",
    "]\n",
    "lines = ['entry']\n",
    "lines += ['lepveto', 'dilep', 'SS', 'filter', 'p_T(lep0)>30', 'p_T(lep1)>20', 'trigger']\n",
    "lines += ['N_jet>3', 'N_central>2', 'N_btag>0', 'N_fwd>0', 'N_jet>4', 'N_central>3', 'ST', 'MET>50', 'delta_eta', 'fwd_p>500', 'p_T(lep0)>40', 'p_T(lep1)>30']\n",
    "df = getCutFlowTable(output, processes=processes, lines=lines, significantFigures=4, signal='topW_v3')\n",
    "df\n"
   ]
  },
  {
   "cell_type": "code",
   "execution_count": null,
   "metadata": {},
   "outputs": [],
   "source": [
    "ak.sum(test, axis=1)"
   ]
  },
  {
   "cell_type": "code",
   "execution_count": null,
   "metadata": {},
   "outputs": [],
   "source": [
    "fileset_2018['topW_v3']"
   ]
  },
  {
   "cell_type": "code",
   "execution_count": null,
   "metadata": {},
   "outputs": [],
   "source": [
    "df = getCutFlowTable(output, processes=processes, lines=lines, significantFigures=4, absolute=False, signal='topW_v3')\n",
    "df"
   ]
  },
  {
   "cell_type": "code",
   "execution_count": null,
   "metadata": {},
   "outputs": [],
   "source": [
    "import warnings\n",
    "warnings.filterwarnings('ignore')\n",
    "\n",
    "import matplotlib.pyplot as plt\n",
    "import mplhep as hep\n",
    "plt.style.use(hep.style.CMS)\n",
    "\n",
    "from plots.helpers import makePlot\n",
    "import re\n",
    "\n",
    "bkgonly = re.compile('(?!(MuonEG))')\n",
    "\n",
    "N_bins = hist.Bin('multiplicity', r'$N$', 10, -0.5, 9.5)\n",
    "N_bins_red = hist.Bin('multiplicity', r'$N$', 5, -0.5, 4.5)\n",
    "pt_bins = hist.Bin('pt', r'$p_{T}\\ (GeV)$', 30, 0, 300)\n",
    "pt_bins_coarse = hist.Bin('pt', r'$p_{T}\\ (GeV)$', 10, 0, 300)\n",
    "eta_bins = hist.Bin('eta', r'$\\eta $', 25, -5.0, 5.0)\n",
    "\n",
    "my_labels = {\n",
    "    'tW_scattering': 'top-W scat.',\n",
    "    'topW_v2': 'top-W scat.',\n",
    "    'topW_v3': 'top-W scat.',\n",
    "    'topW_EFT_cp8': 'SMEFT cp=8',\n",
    "    'topW_EFT_mix': 'SMEFT mix',\n",
    "}\n",
    "\n",
    "my_colors = {\n",
    "    'tW_scattering': '#FF595E',\n",
    "    'topW_v2': '#FF595E',\n",
    "    'topW_v3': '#FF595E',\n",
    "    'topW_EFT_cp8': '#525B76',\n",
    "    'topW_EFT_mix': '#6A4C93',\n",
    "}"
   ]
  },
  {
   "cell_type": "code",
   "execution_count": null,
   "metadata": {},
   "outputs": [],
   "source": [
    "makePlot(output, 'nGenL', 'multiplicity',\n",
    "         data_sel=None,\n",
    "         bins=N_bins_red, log=True, normalize=False, axis_label=r'$N_{gen\\ lep}$',\n",
    "         #upHists=['pt_jesTotalUp'], downHists=['pt_jesTotalDown'],\n",
    "         new_colors=my_colors, new_labels=my_labels,\n",
    "        )\n",
    "makePlot(output, 'nGenL', 'multiplicity',\n",
    "         data_sel=None,\n",
    "         shape=True,\n",
    "         bins=N_bins_red, log=True, normalize=False, axis_label=r'$N_{gen\\ lep}$',\n",
    "         #upHists=['pt_jesTotalUp'], downHists=['pt_jesTotalDown'],\n",
    "         new_colors=my_colors, new_labels=my_labels,\n",
    "        )"
   ]
  },
  {
   "cell_type": "code",
   "execution_count": null,
   "metadata": {},
   "outputs": [],
   "source": [
    "makePlot(output, 'nLepFromTop', 'multiplicity',\n",
    "         data_sel=None,\n",
    "         bins=N_bins_red, log=True, normalize=False, axis_label=r'$N_{lep\\ from\\ top}$',\n",
    "         #upHists=['pt_jesTotalUp'], downHists=['pt_jesTotalDown']\n",
    "        )\n",
    "makePlot(output, 'nLepFromTop', 'multiplicity',\n",
    "         data_sel=None,\n",
    "         shape=True,\n",
    "         bins=N_bins_red, log=True, normalize=False, axis_label=r'$N_{lep\\ from\\ top}$',\n",
    "         #upHists=['pt_jesTotalUp'], downHists=['pt_jesTotalDown']\n",
    "        )"
   ]
  },
  {
   "cell_type": "code",
   "execution_count": null,
   "metadata": {},
   "outputs": [],
   "source": [
    "makePlot(output, 'nLepFromW', 'multiplicity',\n",
    "         data_sel=None,\n",
    "         bins=N_bins_red, log=True, normalize=False, axis_label=r'$N_{lep\\ from\\ W}$',\n",
    "         #upHists=['pt_jesTotalUp'], downHists=['pt_jesTotalDown']\n",
    "        )\n",
    "makePlot(output, 'nLepFromW', 'multiplicity',\n",
    "         data_sel=None,\n",
    "         shape=True,\n",
    "         bins=N_bins_red, log=True, normalize=False, axis_label=r'$N_{lep\\ from\\ W}$',\n",
    "         #upHists=['pt_jesTotalUp'], downHists=['pt_jesTotalDown']\n",
    "        )"
   ]
  },
  {
   "cell_type": "code",
   "execution_count": null,
   "metadata": {},
   "outputs": [],
   "source": [
    "makePlot(output, 'nLepFromZ', 'multiplicity',\n",
    "         data_sel=None,\n",
    "         bins=N_bins_red, log=True, normalize=False, axis_label=r'$N_{lep\\ from\\ Z}$',\n",
    "         #upHists=['pt_jesTotalUp'], downHists=['pt_jesTotalDown']\n",
    "        )\n",
    "makePlot(output, 'nLepFromZ', 'multiplicity',\n",
    "         data_sel=None,\n",
    "         shape=True,\n",
    "         bins=N_bins_red, log=True, normalize=False, axis_label=r'$N_{lep\\ from\\ Z}$',\n",
    "         #upHists=['pt_jesTotalUp'], downHists=['pt_jesTotalDown']\n",
    "        )"
   ]
  },
  {
   "cell_type": "code",
   "execution_count": null,
   "metadata": {},
   "outputs": [],
   "source": [
    "makePlot(output, 'nLepFromTau', 'multiplicity',\n",
    "         data_sel=None,\n",
    "         bins=N_bins_red, log=True, normalize=False, axis_label=r'$N_{lep\\ from\\ \\tau}$',\n",
    "         #upHists=['pt_jesTotalUp'], downHists=['pt_jesTotalDown']\n",
    "        )\n",
    "makePlot(output, 'nLepFromTau', 'multiplicity',\n",
    "         data_sel=None,\n",
    "         shape=True,\n",
    "         bins=N_bins_red, log=True, normalize=False, axis_label=r'$N_{lep\\ from\\ \\tau}$',\n",
    "         #upHists=['pt_jesTotalUp'], downHists=['pt_jesTotalDown']\n",
    "        )"
   ]
  },
  {
   "cell_type": "code",
   "execution_count": null,
   "metadata": {},
   "outputs": [],
   "source": [
    "makePlot(output, 'nGenTau', 'multiplicity',\n",
    "         data_sel=None,\n",
    "         bins=N_bins_red, log=True, normalize=False, axis_label=r'$N_{gen\\ \\tau}$',\n",
    "         #upHists=['pt_jesTotalUp'], downHists=['pt_jesTotalDown']\n",
    "        )\n",
    "makePlot(output, 'nGenTau', 'multiplicity',\n",
    "         data_sel=None,\n",
    "         shape=True,\n",
    "         bins=N_bins_red, log=True, normalize=False, axis_label=r'$N_{gen\\ \\tau}$',\n",
    "         #upHists=['pt_jesTotalUp'], downHists=['pt_jesTotalDown']\n",
    "        )"
   ]
  },
  {
   "cell_type": "code",
   "execution_count": null,
   "metadata": {},
   "outputs": [],
   "source": [
    "makePlot(output, 'lead_gen_lep', 'pt',\n",
    "         data_sel=None,\n",
    "         bins=pt_bins, log=True, normalize=False, axis_label=r'$p_{T}$ (lead gen lep) (GeV)',\n",
    "         #upHists=['pt_jesTotalUp'], downHists=['pt_jesTotalDown'],\n",
    "         new_colors=my_colors, new_labels=my_labels,\n",
    "        )\n",
    "makePlot(output, 'lead_gen_lep', 'pt',\n",
    "         data_sel=None,\n",
    "         shape=True,\n",
    "         bins=pt_bins, log=True, normalize=False, axis_label=r'$p_{T}$ (lead gen lep) (GeV)',\n",
    "         #upHists=['pt_jesTotalUp'], downHists=['pt_jesTotalDown'],\n",
    "         new_colors=my_colors, new_labels=my_labels,\n",
    "        )"
   ]
  },
  {
   "cell_type": "code",
   "execution_count": null,
   "metadata": {},
   "outputs": [],
   "source": [
    "makePlot(output, 'lead_gen_lep', 'eta',\n",
    "         data_sel=None,\n",
    "         bins=eta_bins, log=True, normalize=False, axis_label=r'$p_{T}$ (lead gen lep) (GeV)',\n",
    "         #upHists=['pt_jesTotalUp'], downHists=['pt_jesTotalDown']\n",
    "        )\n",
    "makePlot(output, 'lead_gen_lep', 'eta',\n",
    "         data_sel=None,\n",
    "         shape=True,\n",
    "         bins=eta_bins, log=True, normalize=False, axis_label=r'$p_{T}$ (lead gen lep) (GeV)',\n",
    "         #upHists=['pt_jesTotalUp'], downHists=['pt_jesTotalDown']\n",
    "        )"
   ]
  },
  {
   "cell_type": "code",
   "execution_count": null,
   "metadata": {},
   "outputs": [],
   "source": [
    "makePlot(output, 'trail_gen_lep', 'pt',\n",
    "         data_sel=None,\n",
    "         bins=pt_bins, log=True, normalize=False, axis_label=r'$p_{T}$ (trail gen lep) (GeV)',\n",
    "         #upHists=['pt_jesTotalUp'], downHists=['pt_jesTotalDown']\n",
    "        )\n",
    "makePlot(output, 'trail_gen_lep', 'pt',\n",
    "         data_sel=None,\n",
    "         shape=True,\n",
    "         bins=pt_bins, log=True, normalize=False, axis_label=r'$p_{T}$ (trail gen lep) (GeV)',\n",
    "         #upHists=['pt_jesTotalUp'], downHists=['pt_jesTotalDown']\n",
    "        )"
   ]
  },
  {
   "cell_type": "code",
   "execution_count": null,
   "metadata": {},
   "outputs": [],
   "source": [
    "makePlot(output, 'trail_gen_lep', 'eta',\n",
    "         data_sel=None,\n",
    "         bins=eta_bins, log=True, normalize=False, axis_label=r'$p_{T}$ (trail gen lep) (GeV)',\n",
    "         #upHists=['pt_jesTotalUp'], downHists=['pt_jesTotalDown']\n",
    "        )\n",
    "makePlot(output, 'trail_gen_lep', 'eta',\n",
    "         data_sel=None,\n",
    "         shape=True,\n",
    "         bins=eta_bins, log=True, normalize=False, axis_label=r'$p_{T}$ (trail gen lep) (GeV)',\n",
    "         #upHists=['pt_jesTotalUp'], downHists=['pt_jesTotalDown']\n",
    "        )"
   ]
  },
  {
   "cell_type": "code",
   "execution_count": null,
   "metadata": {},
   "outputs": [],
   "source": [
    "makePlot(output, 'lead_lep', 'pt',\n",
    "         data_sel=None,\n",
    "         bins=pt_bins, log=True, normalize=False, axis_label=r'$p_{T}$ (lead lep) (GeV)',\n",
    "         #upHists=['pt_jesTotalUp'], downHists=['pt_jesTotalDown'],\n",
    "         new_colors=my_colors, new_labels=my_labels,\n",
    "        )\n",
    "makePlot(output, 'lead_lep', 'pt',\n",
    "         data_sel=None,\n",
    "         shape=True,\n",
    "         bins=pt_bins, log=True, normalize=False, axis_label=r'$p_{T}$ (lead lep) (GeV)',\n",
    "         #upHists=['pt_jesTotalUp'], downHists=['pt_jesTotalDown'],\n",
    "         new_colors=my_colors, new_labels=my_labels,\n",
    "        )"
   ]
  },
  {
   "cell_type": "code",
   "execution_count": null,
   "metadata": {},
   "outputs": [],
   "source": [
    "makePlot(output, 'trail_lep', 'pt',\n",
    "         data_sel=None,\n",
    "         bins=pt_bins, log=True, normalize=False, axis_label=r'$p_{T}$ (trail lep) (GeV)',\n",
    "         #upHists=['pt_jesTotalUp'], downHists=['pt_jesTotalDown'],\n",
    "         new_colors=my_colors, new_labels=my_labels,\n",
    "        )\n",
    "makePlot(output, 'trail_lep', 'pt',\n",
    "         data_sel=None,\n",
    "         shape=True,\n",
    "         bins=pt_bins, log=True, normalize=False, axis_label=r'$p_{T}$ (trail lep) (GeV)',\n",
    "         #upHists=['pt_jesTotalUp'], downHists=['pt_jesTotalDown'],\n",
    "         new_colors=my_colors, new_labels=my_labels,\n",
    "        )"
   ]
  },
  {
   "cell_type": "code",
   "execution_count": null,
   "metadata": {},
   "outputs": [],
   "source": [
    "makePlot(output, 'fwd_jet', 'pt',\n",
    "         data_sel=None,\n",
    "         bins=pt_bins, log=True, normalize=False, axis_label=r'$p_{T}$ (trail lep) (GeV)',\n",
    "         #upHists=['pt_jesTotalUp'], downHists=['pt_jesTotalDown'],\n",
    "         new_colors=my_colors, new_labels=my_labels,\n",
    "        )\n",
    "makePlot(output, 'fwd_jet', 'pt',\n",
    "         data_sel=None,\n",
    "         shape=True,\n",
    "         bins=pt_bins, log=True, normalize=False, axis_label=r'$p_{T}$ (trail lep) (GeV)',\n",
    "         #upHists=['pt_jesTotalUp'], downHists=['pt_jesTotalDown'],\n",
    "         new_colors=my_colors, new_labels=my_labels,\n",
    "        )"
   ]
  },
  {
   "cell_type": "code",
   "execution_count": null,
   "metadata": {},
   "outputs": [],
   "source": [
    "p_bins = hist.Bin('p', r'$p_{T}\\ (GeV)$', 25, 0, 2500)\n",
    "\n",
    "makePlot(output, 'high_p_fwd_p', 'p',\n",
    "         data_sel=None,\n",
    "         shape=True,\n",
    "         bins=p_bins, log=True, normalize=False, axis_label=r'$p_{T}$ (trail lep) (GeV)',\n",
    "         #upHists=['pt_jesTotalUp'], downHists=['pt_jesTotalDown'],\n",
    "         new_colors=my_colors, new_labels=my_labels,\n",
    "        )"
   ]
  },
  {
   "cell_type": "code",
   "execution_count": null,
   "metadata": {},
   "outputs": [],
   "source": [
    "makePlot(output, 'MET', 'pt',\n",
    "         data_sel=None,\n",
    "         shape=True,\n",
    "         bins=pt_bins_coarse, log=True, normalize=False, axis_label=r'$p_{T}^{miss}$ (GeV)',\n",
    "         #upHists=['pt_jesTotalUp'], downHists=['pt_jesTotalDown'],\n",
    "         new_colors=my_colors, new_labels=my_labels,\n",
    "        )"
   ]
  },
  {
   "cell_type": "code",
   "execution_count": null,
   "metadata": {},
   "outputs": [],
   "source": [
    "import uproot\n",
    "fin = uproot.open('/home/users/dspitzba/TTW/CMSSW_10_2_9/src/inclusive_1000.root')"
   ]
  },
  {
   "cell_type": "code",
   "execution_count": null,
   "metadata": {},
   "outputs": [],
   "source": [
    "tree = fin[\"Events\"]"
   ]
  },
  {
   "cell_type": "code",
   "execution_count": null,
   "metadata": {},
   "outputs": [],
   "source": [
    "tree.Array(\"genWeight\")"
   ]
  },
  {
   "cell_type": "code",
   "execution_count": null,
   "metadata": {},
   "outputs": [],
   "source": [
    "from coffea.nanoevents import NanoEventsFactory, NanoAODSchema\n",
    "from coffea.analysis_tools import Weights, PackedSelection\n",
    "\n",
    "# the below command will change to .from_root in coffea v0.7.0\n",
    "events_incl = NanoEventsFactory.from_root('/hadoop/cms/store/user/dspitzba/ProjectMetis/TTWJetsToLNuEWK_5f_NLO_RunIIAutumn18_NANO_v2/nanoAOD_1.root', schemaclass=NanoAODSchema).events()\n",
    "\n",
    "from Tools.objects import *\n",
    "\n",
    "sum_weight = sum(events_incl.genWeight)\n",
    "sum_weight"
   ]
  },
  {
   "cell_type": "code",
   "execution_count": null,
   "metadata": {},
   "outputs": [],
   "source": [
    "sum(events_incl[((ak.num(muon)+ak.num(electron))==2)].genWeight)/sum_weight"
   ]
  },
  {
   "cell_type": "code",
   "execution_count": null,
   "metadata": {},
   "outputs": [],
   "source": [
    "events_plus = NanoEventsFactory.from_root('/hadoop/cms/store/user/dspitzba/ProjectMetis/TTWplusJetsToLNuEWK_5f_NLO_v2_RunIIAutumn18_NANO_v4/nanoAOD_1.root', schemaclass=NanoAODSchema).events()\n",
    "\n",
    "sum_weight = sum(events_plus.genWeight)\n",
    "sum_weight"
   ]
  },
  {
   "cell_type": "code",
   "execution_count": null,
   "metadata": {},
   "outputs": [],
   "source": [
    "from Tools.basic_objects import *"
   ]
  },
  {
   "cell_type": "code",
   "execution_count": null,
   "metadata": {},
   "outputs": [],
   "source": [
    "jet = getJets(events_incl)\n",
    "fwd = getFwdJet(jet)"
   ]
  },
  {
   "cell_type": "code",
   "execution_count": null,
   "metadata": {},
   "outputs": [],
   "source": [
    "lead_fwd = ak.pad_none(fwd, 1, clip=True)\n",
    "ak.flatten(lead_fwd)"
   ]
  },
  {
   "cell_type": "code",
   "execution_count": null,
   "metadata": {},
   "outputs": [],
   "source": [
    "ak.flatten(ak.pad_none(jet, 1, clip=True))"
   ]
  },
  {
   "cell_type": "code",
   "execution_count": null,
   "metadata": {},
   "outputs": [],
   "source": [
    "ak.pad_none(jet, 1, clip=True)[(ak.num(fwd)==0)]"
   ]
  },
  {
   "cell_type": "code",
   "execution_count": null,
   "metadata": {},
   "outputs": [],
   "source": [
    "ak.flatten(lead_fwd) + ak.flatten((ak.num(fwd)==0)*ak.pad_none(jet, 1, clip=True))"
   ]
  },
  {
   "cell_type": "code",
   "execution_count": null,
   "metadata": {},
   "outputs": [],
   "source": [
    "from coffea.nanoevents import NanoEventsFactory, NanoAODSchema\n",
    "from coffea.analysis_tools import Weights, PackedSelection\n",
    "\n",
    "# the below command will change to .from_root in coffea v0.7.0\n",
    "events_incl = NanoEventsFactory.from_root('/hadoop/cms/store/user/dspitzba/ProjectMetis/TTWJetsToLNuEWK_5f_NLO_RunIIAutumn18_NANO_v2/nanoAOD_1.root', schemaclass=NanoAODSchema)\n",
    "from Tools.selection import Selection"
   ]
  },
  {
   "cell_type": "code",
   "execution_count": null,
   "metadata": {},
   "outputs": [],
   "source": [
    "ev = events_incl.events()"
   ]
  },
  {
   "cell_type": "code",
   "execution_count": null,
   "metadata": {},
   "outputs": [],
   "source": [
    "ev.HLT.Ele15_Ele8_CaloIdL_TrackIdL_IsoVL"
   ]
  },
  {
   "cell_type": "code",
   "execution_count": null,
   "metadata": {},
   "outputs": [],
   "source": []
  },
  {
   "cell_type": "code",
   "execution_count": null,
   "metadata": {},
   "outputs": [],
   "source": [
    "import uproot\n",
    "tree = uproot.open('/hadoop/cms/store/user/dspitzba/nanoAOD/ttw_samples/topW_v0.2.3/ProjectMetis_TTWJetsToLNuEWK_5f_EFT_mix_myNLO_full_RunIIAutumn18_NANO_v4//nanoSkim_1.root')"
   ]
  },
  {
   "cell_type": "code",
   "execution_count": null,
   "metadata": {},
   "outputs": [],
   "source": [
    "tree['Events'].show()"
   ]
  },
  {
   "cell_type": "code",
   "execution_count": null,
   "metadata": {},
   "outputs": [],
   "source": [
    "ev = tree['Events']"
   ]
  },
  {
   "cell_type": "code",
   "execution_count": null,
   "metadata": {},
   "outputs": [],
   "source": [
    "[ b.name for b in ev.branches ]"
   ]
  },
  {
   "cell_type": "code",
   "execution_count": null,
   "metadata": {},
   "outputs": [],
   "source": []
  }
 ],
 "metadata": {
  "kernelspec": {
   "display_name": "coffeadev2",
   "language": "python",
   "name": "coffeadev2"
  },
  "language_info": {
   "codemirror_mode": {
    "name": "ipython",
    "version": 3
   },
   "file_extension": ".py",
   "mimetype": "text/x-python",
   "name": "python",
   "nbconvert_exporter": "python",
   "pygments_lexer": "ipython3",
   "version": "3.6.13"
  }
 },
 "nbformat": 4,
 "nbformat_minor": 2
}
