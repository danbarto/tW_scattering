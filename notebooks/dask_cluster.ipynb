{
 "cells": [
  {
   "cell_type": "markdown",
   "metadata": {},
   "source": [
    "# Condor cluster for tW scattering\n",
    "\n",
    "## Where to run?\n",
    "\n",
    "This notebook was tested on uaf-7 and uaf-10.\n",
    "\n",
    "```\n",
    "( conda activate daskanalysisenv && jupyter notebook --no-browser )\n",
    "```\n",
    "\n",
    "## Troubleshooting\n",
    "\n",
    "- Empty logs: why are the .out and .err logs empty most of the time?\n",
    "- Why does a git clone of the analysis code not work on the workers? --> Because git is not installed on the workers. I need to manually ship the code.\n",
    "\n",
    "```\n",
    "condor_tail 11194580.0 -maxbytes 100000 -stderr\n",
    "```"
   ]
  },
  {
   "cell_type": "code",
   "execution_count": 1,
   "metadata": {},
   "outputs": [],
   "source": [
    "import os\n",
    "\n",
    "from dask.distributed import Client\n",
    "import distributed\n",
    "\n",
    "from Tools.condor_utils import make_htcondor_cluster\n",
    "\n",
    "from dask.distributed import Client, progress\n"
   ]
  },
  {
   "cell_type": "code",
   "execution_count": 2,
   "metadata": {},
   "outputs": [
    {
     "data": {
      "application/vnd.jupyter.widget-view+json": {
       "model_id": "ef0c53b9745141e8a8b84602f8a69165",
       "version_major": 2,
       "version_minor": 0
      },
      "text/plain": [
       "VBox(children=(HTML(value='<h2>UCSDHTCondorCluster</h2>'), HBox(children=(HTML(value='\\n<div>\\n  <style scoped…"
      ]
     },
     "metadata": {},
     "output_type": "display_data"
    }
   ],
   "source": [
    "cluster = make_htcondor_cluster(local=False, dashboard_address=13349, disk = \"4GB\", memory = \"3GB\",)\n",
    "cluster"
   ]
  },
  {
   "cell_type": "code",
   "execution_count": 3,
   "metadata": {},
   "outputs": [
    {
     "name": "stdout",
     "output_type": "stream",
     "text": [
      "Scaling cluster at address tcp://169.228.130.74:13753 now.\n"
     ]
    }
   ],
   "source": [
    "print (\"Scaling cluster at address %s now.\"%cluster.scheduler_address)\n",
    "\n",
    "cluster.scale(50)\n",
    "\n",
    "os.environ[\"DASKSCHEDULER\"] = str(cluster.scheduler_address)"
   ]
  },
  {
   "cell_type": "code",
   "execution_count": 7,
   "metadata": {},
   "outputs": [
    {
     "data": {
      "text/plain": [
       "'tcp://169.228.130.74:13753'"
      ]
     },
     "execution_count": 7,
     "metadata": {},
     "output_type": "execute_result"
    }
   ],
   "source": [
    "os.environ[\"DASKSCHEDULER\"]"
   ]
  },
  {
   "cell_type": "code",
   "execution_count": 5,
   "metadata": {},
   "outputs": [
    {
     "data": {
      "text/html": [
       "<table style=\"border: 2px solid white;\">\n",
       "<tr>\n",
       "<td style=\"vertical-align: top; border: 0px solid white\">\n",
       "<h3 style=\"text-align: left;\">Client</h3>\n",
       "<ul style=\"text-align: left; list-style: none; margin: 0; padding: 0;\">\n",
       "  <li><b>Scheduler: </b>tcp://169.228.130.74:13856</li>\n",
       "  <li><b>Dashboard: </b><a href='http://169.228.130.74:13349/status' target='_blank'>http://169.228.130.74:13349/status</a></li>\n",
       "</ul>\n",
       "</td>\n",
       "<td style=\"vertical-align: top; border: 0px solid white\">\n",
       "<h3 style=\"text-align: left;\">Cluster</h3>\n",
       "<ul style=\"text-align: left; list-style:none; margin: 0; padding: 0;\">\n",
       "  <li><b>Workers: </b>4</li>\n",
       "  <li><b>Cores: </b>4</li>\n",
       "  <li><b>Memory: </b>12.00 GB</li>\n",
       "</ul>\n",
       "</td>\n",
       "</tr>\n",
       "</table>"
      ],
      "text/plain": [
       "<Client: 'tcp://169.228.130.74:13856' processes=4 threads=4, memory=12.00 GB>"
      ]
     },
     "execution_count": 5,
     "metadata": {},
     "output_type": "execute_result"
    }
   ],
   "source": [
    "c = Client(cluster)\n",
    "c"
   ]
  },
  {
   "cell_type": "code",
   "execution_count": 4,
   "metadata": {},
   "outputs": [],
   "source": [
    "if True:\n",
    "    cluster.close()"
   ]
  },
  {
   "cell_type": "code",
   "execution_count": 10,
   "metadata": {
    "scrolled": true
   },
   "outputs": [
    {
     "data": {
      "text/html": [
       "<details>\n",
       "<summary style='display:list-item'>Cluster</summary>\n",
       "<pre><code>\n",
       "\n",
       "</code></pre>\n",
       "</details>\n",
       "<details>\n",
       "<summary style='display:list-item'>Scheduler</summary>\n",
       "<pre><code>\n",
       "distributed.scheduler - INFO - Clear task state\n",
       "distributed.scheduler - INFO -   Scheduler at: tcp://169.228.130.74:13856\n",
       "distributed.scheduler - INFO -   dashboard at:                    :13349\n",
       "distributed.scheduler - INFO - Register worker &lt;Worker &#x27;tcp://169.228.131.66:40164&#x27;, name: 4, memory: 30, processing: 20&gt;\n",
       "distributed.scheduler - INFO - Starting worker compute stream, tcp://169.228.131.66:40164\n",
       "distributed.scheduler - INFO - Register worker &lt;Worker &#x27;tcp://169.228.132.170:16280&#x27;, name: 2, memory: 45, processing: 18&gt;\n",
       "distributed.scheduler - INFO - Starting worker compute stream, tcp://169.228.132.170:16280\n",
       "distributed.scheduler - INFO - Register worker &lt;Worker &#x27;tcp://169.228.131.106:43724&#x27;, name: 3, memory: 43, processing: 12&gt;\n",
       "distributed.scheduler - INFO - Starting worker compute stream, tcp://169.228.131.106:43724\n",
       "distributed.scheduler - INFO - Register worker &lt;Worker &#x27;tcp://169.228.131.232:1498&#x27;, name: 0, memory: 15, processing: 24&gt;\n",
       "distributed.scheduler - INFO - Starting worker compute stream, tcp://169.228.131.232:1498\n",
       "distributed.scheduler - INFO - Receive client connection: Client-ad871405-2dc8-11eb-bb5f-ec0d9a0b03a0\n",
       "distributed.scheduler - INFO - Receive client connection: Client-c4d043a1-2dc8-11eb-817f-bcaec51a4c96\n",
       "</code></pre>\n",
       "</details>\n",
       "<details>\n",
       "<summary style='display:list-item'>tcp://169.228.131.106:43724</summary>\n",
       "<pre><code>\n",
       "distributed.worker - INFO -       Start worker at: tcp://169.228.131.106:43724\n",
       "distributed.worker - INFO -          Listening to: tcp://169.228.131.106:43724\n",
       "distributed.worker - INFO -          dashboard at:      169.228.131.106:35925\n",
       "distributed.worker - INFO - Waiting to connect to: tcp://169.228.130.74:13856\n",
       "distributed.worker - INFO - -------------------------------------------------\n",
       "distributed.worker - INFO -               Threads:                          1\n",
       "distributed.worker - INFO -                Memory:                    3.00 GB\n",
       "distributed.worker - INFO -       Local Directory: /srv/temp/dask-worker-space/dask-worker-space/worker-5a9awxue\n",
       "distributed.worker - INFO - -------------------------------------------------\n",
       "distributed.worker - INFO -         Registered to: tcp://169.228.130.74:13856\n",
       "distributed.worker - INFO - -------------------------------------------------\n",
       "</code></pre>\n",
       "</details>\n",
       "<details>\n",
       "<summary style='display:list-item'>tcp://169.228.131.232:1498</summary>\n",
       "<pre><code>\n",
       "distributed.worker - INFO -       Start worker at: tcp://169.228.131.232:1498\n",
       "distributed.worker - INFO -          Listening to: tcp://169.228.131.232:1498\n",
       "distributed.worker - INFO -          dashboard at:      169.228.131.232:16793\n",
       "distributed.worker - INFO - Waiting to connect to: tcp://169.228.130.74:13856\n",
       "distributed.worker - INFO - -------------------------------------------------\n",
       "distributed.worker - INFO -               Threads:                          1\n",
       "distributed.worker - INFO -                Memory:                    3.00 GB\n",
       "distributed.worker - INFO -       Local Directory: /srv/temp/dask-worker-space/dask-worker-space/worker-z4ofxi60\n",
       "distributed.worker - INFO - -------------------------------------------------\n",
       "distributed.worker - INFO -         Registered to: tcp://169.228.130.74:13856\n",
       "distributed.worker - INFO - -------------------------------------------------\n",
       "</code></pre>\n",
       "</details>\n",
       "<details>\n",
       "<summary style='display:list-item'>tcp://169.228.131.66:40164</summary>\n",
       "<pre><code>\n",
       "distributed.worker - INFO -       Start worker at: tcp://169.228.131.66:40164\n",
       "distributed.worker - INFO -          Listening to: tcp://169.228.131.66:40164\n",
       "distributed.worker - INFO -          dashboard at:       169.228.131.66:35410\n",
       "distributed.worker - INFO - Waiting to connect to: tcp://169.228.130.74:13856\n",
       "distributed.worker - INFO - -------------------------------------------------\n",
       "distributed.worker - INFO -               Threads:                          1\n",
       "distributed.worker - INFO -                Memory:                    3.00 GB\n",
       "distributed.worker - INFO -       Local Directory: /srv/temp/dask-worker-space/dask-worker-space/worker-aqh9h6iw\n",
       "distributed.worker - INFO - -------------------------------------------------\n",
       "distributed.worker - INFO -         Registered to: tcp://169.228.130.74:13856\n",
       "distributed.worker - INFO - -------------------------------------------------\n",
       "</code></pre>\n",
       "</details>\n",
       "<details>\n",
       "<summary style='display:list-item'>tcp://169.228.132.170:16280</summary>\n",
       "<pre><code>\n",
       "distributed.worker - INFO -       Start worker at: tcp://169.228.132.170:16280\n",
       "distributed.worker - INFO -          Listening to: tcp://169.228.132.170:16280\n",
       "distributed.worker - INFO -          dashboard at:      169.228.132.170:18529\n",
       "distributed.worker - INFO - Waiting to connect to: tcp://169.228.130.74:13856\n",
       "distributed.worker - INFO - -------------------------------------------------\n",
       "distributed.worker - INFO -               Threads:                          1\n",
       "distributed.worker - INFO -                Memory:                    3.00 GB\n",
       "distributed.worker - INFO -       Local Directory: /srv/temp/dask-worker-space/dask-worker-space/worker-cl5fkxpg\n",
       "distributed.worker - INFO - -------------------------------------------------\n",
       "distributed.worker - INFO -         Registered to: tcp://169.228.130.74:13856\n",
       "distributed.worker - INFO - -------------------------------------------------\n",
       "</code></pre>\n",
       "</details>"
      ],
      "text/plain": [
       "{'Cluster': '',\n",
       " 'Scheduler': \"distributed.scheduler - INFO - Clear task state\\ndistributed.scheduler - INFO -   Scheduler at: tcp://169.228.130.74:13856\\ndistributed.scheduler - INFO -   dashboard at:                    :13349\\ndistributed.scheduler - INFO - Register worker <Worker 'tcp://169.228.131.66:40164', name: 4, memory: 30, processing: 20>\\ndistributed.scheduler - INFO - Starting worker compute stream, tcp://169.228.131.66:40164\\ndistributed.scheduler - INFO - Register worker <Worker 'tcp://169.228.132.170:16280', name: 2, memory: 45, processing: 18>\\ndistributed.scheduler - INFO - Starting worker compute stream, tcp://169.228.132.170:16280\\ndistributed.scheduler - INFO - Register worker <Worker 'tcp://169.228.131.106:43724', name: 3, memory: 43, processing: 12>\\ndistributed.scheduler - INFO - Starting worker compute stream, tcp://169.228.131.106:43724\\ndistributed.scheduler - INFO - Register worker <Worker 'tcp://169.228.131.232:1498', name: 0, memory: 15, processing: 24>\\ndistributed.scheduler - INFO - Starting worker compute stream, tcp://169.228.131.232:1498\\ndistributed.scheduler - INFO - Receive client connection: Client-ad871405-2dc8-11eb-bb5f-ec0d9a0b03a0\\ndistributed.scheduler - INFO - Receive client connection: Client-c4d043a1-2dc8-11eb-817f-bcaec51a4c96\",\n",
       " 'tcp://169.228.131.106:43724': 'distributed.worker - INFO -       Start worker at: tcp://169.228.131.106:43724\\ndistributed.worker - INFO -          Listening to: tcp://169.228.131.106:43724\\ndistributed.worker - INFO -          dashboard at:      169.228.131.106:35925\\ndistributed.worker - INFO - Waiting to connect to: tcp://169.228.130.74:13856\\ndistributed.worker - INFO - -------------------------------------------------\\ndistributed.worker - INFO -               Threads:                          1\\ndistributed.worker - INFO -                Memory:                    3.00 GB\\ndistributed.worker - INFO -       Local Directory: /srv/temp/dask-worker-space/dask-worker-space/worker-5a9awxue\\ndistributed.worker - INFO - -------------------------------------------------\\ndistributed.worker - INFO -         Registered to: tcp://169.228.130.74:13856\\ndistributed.worker - INFO - -------------------------------------------------',\n",
       " 'tcp://169.228.131.232:1498': 'distributed.worker - INFO -       Start worker at: tcp://169.228.131.232:1498\\ndistributed.worker - INFO -          Listening to: tcp://169.228.131.232:1498\\ndistributed.worker - INFO -          dashboard at:      169.228.131.232:16793\\ndistributed.worker - INFO - Waiting to connect to: tcp://169.228.130.74:13856\\ndistributed.worker - INFO - -------------------------------------------------\\ndistributed.worker - INFO -               Threads:                          1\\ndistributed.worker - INFO -                Memory:                    3.00 GB\\ndistributed.worker - INFO -       Local Directory: /srv/temp/dask-worker-space/dask-worker-space/worker-z4ofxi60\\ndistributed.worker - INFO - -------------------------------------------------\\ndistributed.worker - INFO -         Registered to: tcp://169.228.130.74:13856\\ndistributed.worker - INFO - -------------------------------------------------',\n",
       " 'tcp://169.228.131.66:40164': 'distributed.worker - INFO -       Start worker at: tcp://169.228.131.66:40164\\ndistributed.worker - INFO -          Listening to: tcp://169.228.131.66:40164\\ndistributed.worker - INFO -          dashboard at:       169.228.131.66:35410\\ndistributed.worker - INFO - Waiting to connect to: tcp://169.228.130.74:13856\\ndistributed.worker - INFO - -------------------------------------------------\\ndistributed.worker - INFO -               Threads:                          1\\ndistributed.worker - INFO -                Memory:                    3.00 GB\\ndistributed.worker - INFO -       Local Directory: /srv/temp/dask-worker-space/dask-worker-space/worker-aqh9h6iw\\ndistributed.worker - INFO - -------------------------------------------------\\ndistributed.worker - INFO -         Registered to: tcp://169.228.130.74:13856\\ndistributed.worker - INFO - -------------------------------------------------',\n",
       " 'tcp://169.228.132.170:16280': 'distributed.worker - INFO -       Start worker at: tcp://169.228.132.170:16280\\ndistributed.worker - INFO -          Listening to: tcp://169.228.132.170:16280\\ndistributed.worker - INFO -          dashboard at:      169.228.132.170:18529\\ndistributed.worker - INFO - Waiting to connect to: tcp://169.228.130.74:13856\\ndistributed.worker - INFO - -------------------------------------------------\\ndistributed.worker - INFO -               Threads:                          1\\ndistributed.worker - INFO -                Memory:                    3.00 GB\\ndistributed.worker - INFO -       Local Directory: /srv/temp/dask-worker-space/dask-worker-space/worker-cl5fkxpg\\ndistributed.worker - INFO - -------------------------------------------------\\ndistributed.worker - INFO -         Registered to: tcp://169.228.130.74:13856\\ndistributed.worker - INFO - -------------------------------------------------'}"
      ]
     },
     "execution_count": 10,
     "metadata": {},
     "output_type": "execute_result"
    }
   ],
   "source": [
    "cluster.get_logs()"
   ]
  },
  {
   "cell_type": "code",
   "execution_count": 6,
   "metadata": {},
   "outputs": [],
   "source": [
    "# just to test \n",
    "def test(x):\n",
    "    from Tools.cutflow import Cutflow\n",
    "    return x**2"
   ]
  },
  {
   "cell_type": "code",
   "execution_count": 7,
   "metadata": {},
   "outputs": [
    {
     "name": "stdout",
     "output_type": "stream",
     "text": [
      "0\n",
      "1\n",
      "4\n",
      "9\n",
      "16\n"
     ]
    }
   ],
   "source": [
    "for res in map(test, range(5)):\n",
    "    print (res)"
   ]
  },
  {
   "cell_type": "code",
   "execution_count": 8,
   "metadata": {},
   "outputs": [],
   "source": [
    "import time\n",
    "import random\n",
    "futures = c.map(test, range(50))\n",
    "results = c.gather(futures)"
   ]
  },
  {
   "cell_type": "code",
   "execution_count": 9,
   "metadata": {},
   "outputs": [
    {
     "data": {
      "text/plain": [
       "[0,\n",
       " 1,\n",
       " 4,\n",
       " 9,\n",
       " 16,\n",
       " 25,\n",
       " 36,\n",
       " 49,\n",
       " 64,\n",
       " 81,\n",
       " 100,\n",
       " 121,\n",
       " 144,\n",
       " 169,\n",
       " 196,\n",
       " 225,\n",
       " 256,\n",
       " 289,\n",
       " 324,\n",
       " 361,\n",
       " 400,\n",
       " 441,\n",
       " 484,\n",
       " 529,\n",
       " 576,\n",
       " 625,\n",
       " 676,\n",
       " 729,\n",
       " 784,\n",
       " 841,\n",
       " 900,\n",
       " 961,\n",
       " 1024,\n",
       " 1089,\n",
       " 1156,\n",
       " 1225,\n",
       " 1296,\n",
       " 1369,\n",
       " 1444,\n",
       " 1521,\n",
       " 1600,\n",
       " 1681,\n",
       " 1764,\n",
       " 1849,\n",
       " 1936,\n",
       " 2025,\n",
       " 2116,\n",
       " 2209,\n",
       " 2304,\n",
       " 2401]"
      ]
     },
     "execution_count": 9,
     "metadata": {},
     "output_type": "execute_result"
    }
   ],
   "source": [
    "results"
   ]
  },
  {
   "cell_type": "code",
   "execution_count": 4,
   "metadata": {},
   "outputs": [
    {
     "name": "stderr",
     "output_type": "stream",
     "text": [
      "100%|██████████| 10000/10000 [00:00<00:00, 480001.83it/s]\n"
     ]
    }
   ],
   "source": [
    "from tqdm import tqdm\n",
    "for i in tqdm(range(10000)):\n",
    "    x = i**2"
   ]
  },
  {
   "cell_type": "code",
   "execution_count": null,
   "metadata": {},
   "outputs": [],
   "source": []
  }
 ],
 "metadata": {
  "kernelspec": {
   "display_name": "daskanalysisenv",
   "language": "python",
   "name": "daskanalysisenv"
  },
  "language_info": {
   "codemirror_mode": {
    "name": "ipython",
    "version": 3
   },
   "file_extension": ".py",
   "mimetype": "text/x-python",
   "name": "python",
   "nbconvert_exporter": "python",
   "pygments_lexer": "ipython3",
   "version": "3.8.6"
  }
 },
 "nbformat": 4,
 "nbformat_minor": 4
}
