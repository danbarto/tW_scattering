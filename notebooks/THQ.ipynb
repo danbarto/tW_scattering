{
 "cells": [
  {
   "cell_type": "code",
   "execution_count": 1,
   "id": "e8fe8a41",
   "metadata": {},
   "outputs": [],
   "source": [
    "import uproot"
   ]
  },
  {
   "cell_type": "code",
   "execution_count": 2,
   "id": "b3d942f6",
   "metadata": {},
   "outputs": [],
   "source": [
    "f_in = uproot.open(\"root://xcache-redirector.t2.ucsd.edu:2042//store/mc/RunIISummer20UL18NanoAODv9/THQ_ctcvcp_4f_Hincl_TuneCP5_13TeV_madgraph_pythia8/NANOAODSIM/106X_upgrade2018_realistic_v16_L1v1-v2/260000/E635CF34-F797-6741-9D4D-8C63AAD45973.root\")"
   ]
  },
  {
   "cell_type": "code",
   "execution_count": 3,
   "id": "44cd2786",
   "metadata": {},
   "outputs": [
    {
     "data": {
      "text/plain": [
       "['run',\n",
       " 'genEventCount',\n",
       " 'genEventSumw',\n",
       " 'genEventSumw2',\n",
       " 'nLHEScaleSumw',\n",
       " 'LHEScaleSumw',\n",
       " 'nLHEPdfSumw',\n",
       " 'LHEPdfSumw',\n",
       " 'nLHEReweightingSumw',\n",
       " 'LHEReweightingSumw']"
      ]
     },
     "execution_count": 3,
     "metadata": {},
     "output_type": "execute_result"
    }
   ],
   "source": [
    "f_in['Runs'].keys()"
   ]
  },
  {
   "cell_type": "code",
   "execution_count": 4,
   "id": "1a18f562",
   "metadata": {},
   "outputs": [
    {
     "data": {
      "text/plain": [
       "<Array [{nLHEReweightingSumw: 69}] type='1 * {\"nLHEReweightingSumw\": uint32}'>"
      ]
     },
     "execution_count": 4,
     "metadata": {},
     "output_type": "execute_result"
    }
   ],
   "source": [
    "f_in['Runs'].arrays(['nLHEReweightingSumw'])"
   ]
  },
  {
   "cell_type": "code",
   "execution_count": 5,
   "id": "0cf21be2",
   "metadata": {},
   "outputs": [
    {
     "data": {
      "text/plain": [
       "0.07292520339653587"
      ]
     },
     "execution_count": 5,
     "metadata": {},
     "output_type": "execute_result"
    }
   ],
   "source": [
    "f_in['Runs'].arrays(['LHEReweightingSumw'])['LHEReweightingSumw'][0][11]"
   ]
  },
  {
   "cell_type": "code",
   "execution_count": 6,
   "id": "e927e925",
   "metadata": {},
   "outputs": [
    {
     "data": {
      "text/plain": [
       "<Array [0.0199, 0.00967, ... 0.138, 0.00205] type='258000 * float32'>"
      ]
     },
     "execution_count": 6,
     "metadata": {},
     "output_type": "execute_result"
    }
   ],
   "source": [
    "f_in['Events'].arrays(['LHEReweightingWeight'])['LHEReweightingWeight'][:,11]"
   ]
  },
  {
   "cell_type": "code",
   "execution_count": 8,
   "id": "c8f0015a",
   "metadata": {},
   "outputs": [
    {
     "data": {
      "text/plain": [
       "0.07292521553808984"
      ]
     },
     "execution_count": 8,
     "metadata": {},
     "output_type": "execute_result"
    }
   ],
   "source": [
    "sum(f_in['Events'].arrays(['LHEReweightingWeight'])['LHEReweightingWeight'][:,11])/f_in['Runs'].arrays(['genEventSumw'])['genEventSumw'][0]"
   ]
  },
  {
   "cell_type": "code",
   "execution_count": 8,
   "id": "819677c4",
   "metadata": {},
   "outputs": [],
   "source": [
    "f_in = uproot.open(\"root://xcache-redirector.t2.ucsd.edu:2042//store/mc/RunIISummer20UL18NanoAODv9/TTWJetsToLNu_TuneCP5_13TeV-amcatnloFXFX-madspin-pythia8/NANOAODSIM/106X_upgrade2018_realistic_v16_L1v1-v1/70000/9BF5FF1E-2847-334B-A510-1F90EDFE3DAB.root\")"
   ]
  },
  {
   "cell_type": "code",
   "execution_count": 9,
   "id": "0a409d2d",
   "metadata": {},
   "outputs": [
    {
     "data": {
      "text/plain": [
       "['run',\n",
       " 'genEventCount',\n",
       " 'genEventSumw',\n",
       " 'genEventSumw2',\n",
       " 'nLHEScaleSumw',\n",
       " 'LHEScaleSumw',\n",
       " 'nLHEPdfSumw',\n",
       " 'LHEPdfSumw']"
      ]
     },
     "execution_count": 9,
     "metadata": {},
     "output_type": "execute_result"
    }
   ],
   "source": [
    "f_in['Runs'].keys()"
   ]
  },
  {
   "cell_type": "code",
   "execution_count": null,
   "id": "dbfb77fc",
   "metadata": {},
   "outputs": [],
   "source": []
  }
 ],
 "metadata": {
  "kernelspec": {
   "display_name": "coffeadev4",
   "language": "python",
   "name": "coffeadev4"
  },
  "language_info": {
   "codemirror_mode": {
    "name": "ipython",
    "version": 3
   },
   "file_extension": ".py",
   "mimetype": "text/x-python",
   "name": "python",
   "nbconvert_exporter": "python",
   "pygments_lexer": "ipython3",
   "version": "3.9.7"
  }
 },
 "nbformat": 4,
 "nbformat_minor": 5
}
