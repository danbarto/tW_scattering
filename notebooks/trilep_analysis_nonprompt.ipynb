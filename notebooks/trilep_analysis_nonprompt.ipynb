{
 "cells": [
  {
   "cell_type": "markdown",
   "metadata": {},
   "source": [
    "# Trilep analysis development\n",
    "\n"
   ]
  },
  {
   "cell_type": "code",
   "execution_count": null,
   "metadata": {},
   "outputs": [],
   "source": [
    "%load_ext autoreload\n",
    "%autoreload 2"
   ]
  },
  {
   "cell_type": "code",
   "execution_count": null,
   "metadata": {},
   "outputs": [],
   "source": [
    "import os\n",
    "\n",
    "from Tools.config_helpers import loadConfig, make_small\n",
    "from klepto.archives import dir_archive\n",
    "\n",
    "from coffea.nanoevents import NanoEventsFactory, NanoAODSchema\n",
    "from coffea import processor, hist\n",
    "\n",
    "from processor.trilep_analysis_nonprompt import trilep_analysis\n",
    "from processor.default_accumulators import desired_output, add_processes_to_output, variations"
   ]
  },
  {
   "cell_type": "code",
   "execution_count": null,
   "metadata": {
    "scrolled": false
   },
   "outputs": [],
   "source": [
    "# an equivalent code can be run with ipython -i trilep_analysis.py within the processor directory\n",
    "from Tools.samples import fileset_2018, fileset_2018_small\n",
    "\n",
    "overwrite = True\n",
    "year      = 2018\n",
    "small     = False\n",
    "\n",
    "# load the config and the cache\n",
    "cfg = loadConfig()\n",
    "\n",
    "cacheName = 'trilep_analysis_SS_2tight'\n",
    "if small: cacheName += '_small'\n",
    "\n",
    "cache = dir_archive(os.path.join(os.path.expandvars(cfg['caches']['base']), cacheName), serialized=True)\n",
    "\n",
    "fileset = {\n",
    "    'topW_v3': fileset_2018['topW_v3'],\n",
    "    'topW_EFT_cp8': fileset_2018['topW_EFT_cp8'],\n",
    "    'topW_EFT_mix': fileset_2018['topW_EFT_mix'],\n",
    "    'TTW': fileset_2018['TTW'],\n",
    "    'TTZ': fileset_2018['TTZ'],\n",
    "    'TTH': fileset_2018['TTH'],\n",
    "    'diboson': fileset_2018['diboson'],\n",
    "    'ttbar': fileset_2018['top2l'],\n",
    "    'DY': fileset_2018['DY'],\n",
    "    'MuonEG': fileset_2018['MuonEG'],\n",
    "    'DoubleMuon': fileset_2018['DoubleMuon'],\n",
    "    'EGamma': fileset_2018['EGamma'],\n",
    "}\n",
    "\n",
    "fileset = make_small(fileset, small, n_max=1)  # run over just one file each if small is set to true\n",
    "\n",
    "# add all processes to output so that the cutflow doesn't fail\n",
    "add_processes_to_output(fileset, desired_output)\n",
    "\n",
    "# add some histograms that we defined in the processor\n",
    "# everything else is taken the default_accumulators.py\n",
    "from processor.default_accumulators import mass_axis, dataset_axis\n",
    "desired_output.update({\n",
    "    \"dilep_mass\": hist.Hist(\"Counts\", dataset_axis, mass_axis),\n",
    "    \"m3l\": hist.Hist(\"Counts\", dataset_axis, mass_axis),\n",
    "    \"ST\": hist.Hist(\"Counts\", dataset_axis, ht_axis),\n",
    "})\n",
    "\n",
    "histograms = sorted(list(desired_output.keys()))\n",
    "\n",
    "exe_args = {\n",
    "    'workers': 16,\n",
    "    'function_args': {'flatten': False},\n",
    "    \"schema\": NanoAODSchema,\n",
    "}\n",
    "exe = processor.futures_executor\n",
    "\n",
    "if not overwrite:\n",
    "    cache.load()\n",
    "\n",
    "if cfg == cache.get('cfg') and histograms == cache.get('histograms') and cache.get('simple_output'):\n",
    "    output = cache.get('simple_output')\n",
    "\n",
    "else:\n",
    "    print (\"I'm running now\")\n",
    "    \n",
    "    output = processor.run_uproot_job(\n",
    "        fileset,\n",
    "        \"Events\",\n",
    "        trilep_analysis(year=year, variations=variations, accumulator=desired_output),\n",
    "        exe,\n",
    "        exe_args,\n",
    "        chunksize=250000,\n",
    "    )\n",
    "    \n",
    "    cache['fileset']        = fileset\n",
    "    cache['cfg']            = cfg\n",
    "    cache['histograms']     = histograms\n",
    "    cache['simple_output']  = output\n",
    "    cache.dump()"
   ]
  },
  {
   "cell_type": "code",
   "execution_count": null,
   "metadata": {
    "scrolled": false
   },
   "outputs": [],
   "source": [
    "# we can just take the process list from the fileset to avoid any confusions\n",
    "processes = list(fileset.keys())\n",
    "\n",
    "processes.remove('topW_EFT_cp8')\n",
    "processes.remove('topW_EFT_mix')\n",
    "\n",
    "# the following list is directly taken from Tools/selection.py\n",
    "lines = ['entry']\n",
    "lines += [\n",
    "            'filter',\n",
    "            'lepveto',\n",
    "            'trilep',\n",
    "            'p_T(lep0)>25',\n",
    "            'p_T(lep1)>20',\n",
    "            'trigger',\n",
    "            'offZ',\n",
    "            'MET>50',\n",
    "            'N_jet>2',\n",
    "            'N_central>1',\n",
    "            'N_btag>0',\n",
    "            'N_fwd>0',\n",
    "        ]\n",
    "\n",
    "from Tools.helpers import getCutFlowTable\n",
    "df = getCutFlowTable(output, processes=processes, lines=lines, significantFigures=4, signal='topW_v3')\n",
    "df"
   ]
  },
  {
   "cell_type": "code",
   "execution_count": null,
   "metadata": {},
   "outputs": [],
   "source": [
    "df = getCutFlowTable(output, processes=processes, lines=lines, significantFigures=4, absolute=False, signal='topW_v3')\n",
    "df"
   ]
  },
  {
   "cell_type": "code",
   "execution_count": null,
   "metadata": {},
   "outputs": [],
   "source": [
    "import warnings\n",
    "warnings.filterwarnings('ignore')\n",
    "\n",
    "import matplotlib.pyplot as plt\n",
    "import mplhep as hep\n",
    "plt.style.use(hep.style.CMS)\n",
    "\n",
    "from plots.helpers import makePlot\n",
    "\n",
    "# defining some new axes for rebinning.\n",
    "N_bins = hist.Bin('multiplicity', r'$N$', 10, -0.5, 9.5)\n",
    "N_bins_red = hist.Bin('multiplicity', r'$N$', 5, -0.5, 4.5)\n",
    "mass_bins = hist.Bin('mass', r'$M\\ (GeV)$', 20, 0, 600)\n",
    "m3l_bins = hist.Bin('mass', r'$M\\ (GeV)$', [0,110,150,200,400])\n",
    "pt_bins = hist.Bin('pt', r'$p_{T}\\ (GeV)$', 30, 0, 300)\n",
    "pt_bins_coarse = hist.Bin('pt', r'$p_{T}\\ (GeV)$', 10, 0, 300)\n",
    "eta_bins = hist.Bin('eta', r'$\\eta $', 25, -5.0, 5.0)\n",
    "ht_bins =  hist.Bin(\"ht\",        r\"$H_{T}$ (GeV)\", 50, 0, 5000)\n",
    "\n",
    "my_labels = {\n",
    "    'topW_v3': 'top-W scat.',\n",
    "    'topW_EFT_cp8': 'EFT, cp8',\n",
    "    'topW_EFT_mix': 'EFT mix',\n",
    "    'TTZ': r'$t\\bar{t}Z$',\n",
    "    'TTW': r'$t\\bar{t}W$',\n",
    "    'TTH': r'$t\\bar{t}H$',\n",
    "    'diboson': 'VV/VVV',\n",
    "    'ttbar': r'$t\\bar{t}$',\n",
    "    'DY': 'Drell-Yan',\n",
    "}\n",
    "\n",
    "my_colors = {\n",
    "    'topW_v3': '#FF595E',\n",
    "    'topW_EFT_cp8': '#000000',\n",
    "    'topW_EFT_mix': '#0F7173',\n",
    "    'TTZ': '#FFCA3A',\n",
    "    'TTW': '#8AC926',\n",
    "    'TTH': '#34623F',\n",
    "    'diboson': '#525B76',\n",
    "    'ttbar': '#1982C4',\n",
    "    'DY': '#6A4C93',}"
   ]
  },
  {
   "cell_type": "code",
   "execution_count": null,
   "metadata": {
    "scrolled": false
   },
   "outputs": [],
   "source": [
    "makePlot(output, 'fwd_jet', 'pt',\n",
    "         data=['MuonEG', 'DoubleMuon', 'EGamma'],\n",
    "         bins=pt_bins_coarse, log=True, normalize=False, axis_label=r'$p_{T}$ (fwd jet) (GeV)',\n",
    "         new_colors=my_colors, new_labels=my_labels,\n",
    "         order=['topW_v3', 'diboson', 'TTW', 'TTH', 'TTZ', 'DY','ttbar'],\n",
    "         signals=[],\n",
    "         omit=['topW_EFT_cp8', 'topW_EFT_mix'],\n",
    "        )"
   ]
  },
  {
   "cell_type": "code",
   "execution_count": null,
   "metadata": {},
   "outputs": [],
   "source": [
    "makePlot(output, 'N_mu', 'multiplicity',\n",
    "         data=['MuonEG', 'DoubleMuon', 'EGamma'],\n",
    "         bins=N_bins_red, log=True, normalize=False, axis_label=r'$N_{mu}$',\n",
    "         new_colors=my_colors, new_labels=my_labels,\n",
    "         order=['topW_v3', 'diboson', 'TTW', 'TTH', 'TTZ', 'DY','ttbar'],\n",
    "         signals=[],\n",
    "         omit=['topW_EFT_cp8', 'topW_EFT_mix'],\n",
    "        )"
   ]
  },
  {
   "cell_type": "code",
   "execution_count": null,
   "metadata": {},
   "outputs": [],
   "source": [
    "makePlot(output, 'N_ele', 'multiplicity',\n",
    "         data=['MuonEG', 'DoubleMuon', 'EGamma'],\n",
    "         bins=N_bins_red, log=True, normalize=False, axis_label=r'$N_{ele}$',\n",
    "         new_colors=my_colors, new_labels=my_labels,\n",
    "         order=['topW_v3', 'diboson', 'TTW', 'TTH', 'TTZ', 'DY','ttbar'],\n",
    "         signals=[],\n",
    "         omit=['topW_EFT_cp8', 'topW_EFT_mix'],\n",
    "        )"
   ]
  },
  {
   "cell_type": "code",
   "execution_count": null,
   "metadata": {},
   "outputs": [],
   "source": [
    "makePlot(output, 'MET', 'pt',\n",
    "         data=['MuonEG', 'DoubleMuon', 'EGamma'],\n",
    "         bins=pt_bins_coarse, log=True, normalize=False, axis_label=r'$p_{T}^{miss}$ (GeV)',\n",
    "         new_colors=my_colors, new_labels=my_labels,\n",
    "         order=['topW_v3', 'diboson', 'TTW', 'TTH', 'TTZ','DY', 'ttbar'],\n",
    "         signals=[],\n",
    "         omit=['topW_EFT_cp8', 'topW_EFT_mix'],\n",
    "        )"
   ]
  },
  {
   "cell_type": "code",
   "execution_count": null,
   "metadata": {},
   "outputs": [],
   "source": [
    "makePlot(output, 'lead_lep', 'pt',\n",
    "         data=['MuonEG', 'DoubleMuon', 'EGamma'],\n",
    "         bins=pt_bins_coarse, log=True, normalize=False, axis_label=r'$p_{T}$ (lead lep) (GeV)',\n",
    "         new_colors=my_colors, new_labels=my_labels,\n",
    "         order=['topW_v3', 'diboson', 'TTW', 'TTH', 'TTZ', 'ttbar'],\n",
    "         signals=[],\n",
    "         omit=['topW_EFT_cp8', 'topW_EFT_mix'],\n",
    "        )"
   ]
  },
  {
   "cell_type": "code",
   "execution_count": null,
   "metadata": {},
   "outputs": [],
   "source": [
    "makePlot(output, 'N_jet', 'multiplicity',\n",
    "         data=['MuonEG', 'DoubleMuon', 'EGamma'],\n",
    "         bins=N_bins, log=True, normalize=False, axis_label=r'$N_{jet}$',\n",
    "         new_colors=my_colors, new_labels=my_labels,\n",
    "         order=['topW_v3', 'diboson', 'TTW', 'TTH', 'TTZ', 'DY','ttbar'],\n",
    "         signals=[],\n",
    "         omit=['topW_EFT_cp8', 'topW_EFT_mix'],\n",
    "        )"
   ]
  },
  {
   "cell_type": "code",
   "execution_count": null,
   "metadata": {},
   "outputs": [],
   "source": [
    "makePlot(output, 'N_b', 'multiplicity',\n",
    "         data=['MuonEG', 'DoubleMuon', 'EGamma'],\n",
    "         bins=N_bins_red, log=True, normalize=False, axis_label=r'$N_{b}$',\n",
    "         new_colors=my_colors, new_labels=my_labels,\n",
    "         order=['topW_v3', 'diboson', 'TTW', 'TTH', 'TTZ', 'DY','ttbar'],\n",
    "         signals=[],\n",
    "         omit=['topW_EFT_cp8', 'topW_EFT_mix'],\n",
    "        )"
   ]
  },
  {
   "cell_type": "code",
   "execution_count": null,
   "metadata": {},
   "outputs": [],
   "source": [
    "makePlot(output, 'N_fwd', 'multiplicity',\n",
    "         data=['MuonEG', 'DoubleMuon', 'EGamma'],\n",
    "         bins=N_bins_red, log=True, normalize=False, axis_label=r'$N_{fwd}$',\n",
    "         new_colors=my_colors, new_labels=my_labels,\n",
    "         order=['topW_v3', 'diboson', 'TTW', 'TTH', 'TTZ', 'DY','ttbar'],\n",
    "         signals=[],\n",
    "         omit=['topW_EFT_cp8', 'topW_EFT_mix'],\n",
    "        )"
   ]
  },
  {
   "cell_type": "code",
   "execution_count": null,
   "metadata": {},
   "outputs": [],
   "source": [
    "makePlot(output, 'dilep_mass', 'mass',\n",
    "         data=['MuonEG', 'DoubleMuon', 'EGamma'],\n",
    "         bins=mass_bins, log=True, normalize=False, axis_label=r'$M_{\\ell\\ell}$ (GeV)',\n",
    "         new_colors=my_colors, new_labels=my_labels,\n",
    "         order=['topW_v3', 'diboson', 'TTW', 'TTH', 'TTZ', 'DY','ttbar'],\n",
    "         signals=[],\n",
    "         omit=['topW_EFT_cp8', 'topW_EFT_mix'],\n",
    "        )"
   ]
  },
  {
   "cell_type": "code",
   "execution_count": null,
   "metadata": {},
   "outputs": [],
   "source": [
    "makePlot(output, 'trail_lep', 'pt',\n",
    "         data=['MuonEG', 'DoubleMuon', 'EGamma'],\n",
    "         bins=pt_bins_coarse, log=True, normalize=False, axis_label=r'$p_{T}$ (trail lep) (GeV)',\n",
    "         new_colors=my_colors, new_labels=my_labels,\n",
    "         order=['topW_v3', 'diboson', 'TTW', 'TTH', 'TTZ', 'ttbar'],\n",
    "         signals=[],\n",
    "         omit=['topW_EFT_cp8', 'topW_EFT_mix'],\n",
    "        )"
   ]
  },
  {
   "cell_type": "code",
   "execution_count": null,
   "metadata": {},
   "outputs": [],
   "source": [
    "makePlot(output, 'm3l', 'mass',\n",
    "         data=['MuonEG', 'DoubleMuon', 'EGamma'],\n",
    "         bins=m3l_bins, log=True, normalize=False, axis_label=r'$M3l$ (GeV)',\n",
    "         new_colors=my_colors, new_labels=my_labels,\n",
    "         order=['topW_v3', 'diboson', 'TTW', 'TTH', 'TTZ', 'DY','ttbar'],\n",
    "         signals=[],\n",
    "         omit=['topW_EFT_cp8', 'topW_EFT_mix'],\n",
    "        )"
   ]
  },
  {
   "cell_type": "code",
   "execution_count": null,
   "metadata": {},
   "outputs": [],
   "source": [
    "makePlot(output, 'ST', 'ht',\n",
    "         data=[],\n",
    "         bins=ht_bins, log=True, normalize=False, axis_label=r'$H_{T}$ (GeV)',\n",
    "         new_colors=my_colors, new_labels=my_labels,\n",
    "         order=['topW_v3', 'diboson', 'TTW', 'TTH', 'TTZ', 'DY','ttbar'],\n",
    "         signals=[],\n",
    "         omit=['topW_EFT_cp8', 'topW_EFT_mix'],\n",
    "        )"
   ]
  }
 ],
 "metadata": {
  "kernelspec": {
   "display_name": "Python 3",
   "language": "python",
   "name": "python3"
  },
  "language_info": {
   "codemirror_mode": {
    "name": "ipython",
    "version": 3
   },
   "file_extension": ".py",
   "mimetype": "text/x-python",
   "name": "python",
   "nbconvert_exporter": "python",
   "pygments_lexer": "ipython3",
   "version": "3.8.6"
  }
 },
 "nbformat": 4,
 "nbformat_minor": 2
}
